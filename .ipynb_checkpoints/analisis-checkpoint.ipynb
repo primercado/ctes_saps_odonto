{
 "cells": [
  {
   "cell_type": "code",
   "execution_count": 2,
   "id": "ac00b989",
   "metadata": {},
   "outputs": [],
   "source": [
    "# Importamos las librerías necesarias\n",
    "import pandas as pd\n",
    "import matplotlib.pyplot as plt\n",
    "import geopandas as gpd\n",
    "import json\n",
    "import folium\n",
    "from shapely.geometry import shape\n",
    "import plotly.express as px"
   ]
  },
  {
   "cell_type": "code",
   "execution_count": null,
   "id": "2d92b825",
   "metadata": {},
   "outputs": [],
   "source": []
  },
  {
   "cell_type": "code",
   "execution_count": 3,
   "id": "1e7b2c5a",
   "metadata": {},
   "outputs": [
    {
     "name": "stdout",
     "output_type": "stream",
     "text": [
      "<class 'pandas.core.frame.DataFrame'>\n",
      "RangeIndex: 22976 entries, 0 to 22975\n",
      "Data columns (total 15 columns):\n",
      " #   Column                    Non-Null Count  Dtype  \n",
      "---  ------                    --------------  -----  \n",
      " 0   Unnamed: 0                22976 non-null  int64  \n",
      " 1   fecha                     22976 non-null  object \n",
      " 2   nombre_correcto           22976 non-null  object \n",
      " 3   servicio                  22976 non-null  object \n",
      " 4   turno                     22797 non-null  object \n",
      " 5   rango_etario_normalizado  22976 non-null  object \n",
      " 6   consulta_cantidad         22974 non-null  float64\n",
      " 7   sexo                      22942 non-null  object \n",
      " 8   detalle                   22965 non-null  object \n",
      " 9   nombre_barrio_correcto    22760 non-null  object \n",
      " 10  barrio_popular            22976 non-null  object \n",
      " 11  sup_ha                    22760 non-null  object \n",
      " 12  lng                       22976 non-null  float64\n",
      " 13  lat                       22976 non-null  float64\n",
      " 14  st_asgeojson              22760 non-null  object \n",
      "dtypes: float64(3), int64(1), object(11)\n",
      "memory usage: 2.6+ MB\n"
     ]
    }
   ],
   "source": [
    "df = pd.read_csv('dataframe_saps_limpio.csv')\n",
    "\n",
    "df.info()"
   ]
  },
  {
   "cell_type": "markdown",
   "id": "3ff89e83",
   "metadata": {},
   "source": [
    "### 1. Diferencia entre atenciones en SAPs de barrios populares y no populares\n",
    "\n",
    "Vamos a calcular y comparar la cantidad total de consultas en SAPs de barrios populares y no populares."
   ]
  },
  {
   "cell_type": "code",
   "execution_count": 5,
   "id": "ae12e858",
   "metadata": {},
   "outputs": [
    {
     "data": {
      "text/html": [
       "<div>\n",
       "<style scoped>\n",
       "    .dataframe tbody tr th:only-of-type {\n",
       "        vertical-align: middle;\n",
       "    }\n",
       "\n",
       "    .dataframe tbody tr th {\n",
       "        vertical-align: top;\n",
       "    }\n",
       "\n",
       "    .dataframe thead th {\n",
       "        text-align: right;\n",
       "    }\n",
       "</style>\n",
       "<table border=\"1\" class=\"dataframe\">\n",
       "  <thead>\n",
       "    <tr style=\"text-align: right;\">\n",
       "      <th></th>\n",
       "      <th>barrio_popular</th>\n",
       "      <th>consulta_cantidad</th>\n",
       "    </tr>\n",
       "  </thead>\n",
       "  <tbody>\n",
       "    <tr>\n",
       "      <th>0</th>\n",
       "      <td>no</td>\n",
       "      <td>40579.0</td>\n",
       "    </tr>\n",
       "    <tr>\n",
       "      <th>1</th>\n",
       "      <td>si</td>\n",
       "      <td>46567.0</td>\n",
       "    </tr>\n",
       "  </tbody>\n",
       "</table>\n",
       "</div>"
      ],
      "text/plain": [
       "  barrio_popular  consulta_cantidad\n",
       "0             no            40579.0\n",
       "1             si            46567.0"
      ]
     },
     "execution_count": 5,
     "metadata": {},
     "output_type": "execute_result"
    }
   ],
   "source": [
    "# Cantidad total de atenciones en barrios populares\n",
    "\n",
    "# Agrupar los datos por 'barrio_popular' y sumar la 'consulta_cantidad'\n",
    "\n",
    "atenciones_barrios_populares = df.groupby('barrio_popular')['consulta_cantidad'].sum().reset_index()\n",
    "\n",
    "\n",
    "\n",
    "atenciones_barrios_populares"
   ]
  },
  {
   "cell_type": "markdown",
   "id": "dc24ef96",
   "metadata": {},
   "source": [
    "La cantidad total de consultas es:\n",
    "* **Barrios no populares:** 40,584 consultas\n",
    "* **Barrios populares:** 46,5694 consultas\n",
    "\n",
    "Se observa que los SAPs de barrios populares tienen una mayor cantidad de consultas odontológicas en comparación con los SAPs de barrios no populares."
   ]
  },
  {
   "cell_type": "markdown",
   "id": "8c05a3b7",
   "metadata": {},
   "source": [
    "## 2. Tendencias en base a los rangos etarios, el tipo de consulta y el barrio\n",
    "\n",
    "Vamos a analizar la distribución de las consultas según los rangos etarios y el tipo de consulta. Para ello, observaremos la cantidad de consultas para cada rango etario y para cada tipo de consulta (detalle)."
   ]
  },
  {
   "cell_type": "code",
   "execution_count": 107,
   "id": "d04d0684",
   "metadata": {},
   "outputs": [],
   "source": [
    "# Agrupar los datos por 'rango_etario_normalizado' y sumar la 'consulta_cantidad'\n",
    "\n",
    "atenciones_rango_etario = df.groupby(['rango_etario_normalizado','barrio_popular'])['consulta_cantidad'].sum().reset_index()\n",
    "\n",
    "atenciones_rango_etario\n",
    "\n",
    "# Eliminar las filas con 'rango_etario_normalizado' desconocido\n",
    "atenciones_rango_etario = atenciones_rango_etario[atenciones_rango_etario['rango_etario_normalizado'] != 'Desconocido']"
   ]
  },
  {
   "cell_type": "code",
   "execution_count": 109,
   "id": "93d46bee",
   "metadata": {},
   "outputs": [
    {
     "data": {
      "application/vnd.plotly.v1+json": {
       "config": {
        "plotlyServerURL": "https://plot.ly"
       },
       "data": [
        {
         "alignmentgroup": "True",
         "hovertemplate": "barrio_popular=no<br>Rango Etario=%{x}<br>Cantidad de Consultas=%{y}<extra></extra>",
         "legendgroup": "no",
         "marker": {
          "color": "#636efa",
          "pattern": {
           "shape": ""
          }
         },
         "name": "no",
         "offsetgroup": "no",
         "orientation": "v",
         "showlegend": true,
         "textposition": "outside",
         "texttemplate": "%{y}",
         "type": "bar",
         "x": [
          "1-4 ANOS",
          "15-19 ANOS",
          "20-39 ANOS",
          "40-69 ANOS",
          "5-14 ANOS",
          "<1 ANO",
          ">=70 ANOS"
         ],
         "xaxis": "x",
         "y": [
          3303,
          5684,
          13403,
          6805,
          10635,
          232,
          503
         ],
         "yaxis": "y"
        },
        {
         "alignmentgroup": "True",
         "hovertemplate": "barrio_popular=si<br>Rango Etario=%{x}<br>Cantidad de Consultas=%{y}<extra></extra>",
         "legendgroup": "si",
         "marker": {
          "color": "#EF553B",
          "pattern": {
           "shape": ""
          }
         },
         "name": "si",
         "offsetgroup": "si",
         "orientation": "v",
         "showlegend": true,
         "textposition": "outside",
         "texttemplate": "%{y}",
         "type": "bar",
         "x": [
          "1-4 ANOS",
          "15-19 ANOS",
          "20-39 ANOS",
          "40-69 ANOS",
          "5-14 ANOS",
          "<1 ANO",
          ">=70 ANOS"
         ],
         "xaxis": "x",
         "y": [
          3580,
          8587,
          13187,
          6404,
          13242,
          200,
          1362
         ],
         "yaxis": "y"
        }
       ],
       "layout": {
        "barmode": "relative",
        "legend": {
         "title": {
          "text": "barrio_popular"
         },
         "tracegroupgap": 0
        },
        "template": {
         "data": {
          "bar": [
           {
            "error_x": {
             "color": "#2a3f5f"
            },
            "error_y": {
             "color": "#2a3f5f"
            },
            "marker": {
             "line": {
              "color": "#E5ECF6",
              "width": 0.5
             },
             "pattern": {
              "fillmode": "overlay",
              "size": 10,
              "solidity": 0.2
             }
            },
            "type": "bar"
           }
          ],
          "barpolar": [
           {
            "marker": {
             "line": {
              "color": "#E5ECF6",
              "width": 0.5
             },
             "pattern": {
              "fillmode": "overlay",
              "size": 10,
              "solidity": 0.2
             }
            },
            "type": "barpolar"
           }
          ],
          "carpet": [
           {
            "aaxis": {
             "endlinecolor": "#2a3f5f",
             "gridcolor": "white",
             "linecolor": "white",
             "minorgridcolor": "white",
             "startlinecolor": "#2a3f5f"
            },
            "baxis": {
             "endlinecolor": "#2a3f5f",
             "gridcolor": "white",
             "linecolor": "white",
             "minorgridcolor": "white",
             "startlinecolor": "#2a3f5f"
            },
            "type": "carpet"
           }
          ],
          "choropleth": [
           {
            "colorbar": {
             "outlinewidth": 0,
             "ticks": ""
            },
            "type": "choropleth"
           }
          ],
          "contour": [
           {
            "colorbar": {
             "outlinewidth": 0,
             "ticks": ""
            },
            "colorscale": [
             [
              0,
              "#0d0887"
             ],
             [
              0.1111111111111111,
              "#46039f"
             ],
             [
              0.2222222222222222,
              "#7201a8"
             ],
             [
              0.3333333333333333,
              "#9c179e"
             ],
             [
              0.4444444444444444,
              "#bd3786"
             ],
             [
              0.5555555555555556,
              "#d8576b"
             ],
             [
              0.6666666666666666,
              "#ed7953"
             ],
             [
              0.7777777777777778,
              "#fb9f3a"
             ],
             [
              0.8888888888888888,
              "#fdca26"
             ],
             [
              1,
              "#f0f921"
             ]
            ],
            "type": "contour"
           }
          ],
          "contourcarpet": [
           {
            "colorbar": {
             "outlinewidth": 0,
             "ticks": ""
            },
            "type": "contourcarpet"
           }
          ],
          "heatmap": [
           {
            "colorbar": {
             "outlinewidth": 0,
             "ticks": ""
            },
            "colorscale": [
             [
              0,
              "#0d0887"
             ],
             [
              0.1111111111111111,
              "#46039f"
             ],
             [
              0.2222222222222222,
              "#7201a8"
             ],
             [
              0.3333333333333333,
              "#9c179e"
             ],
             [
              0.4444444444444444,
              "#bd3786"
             ],
             [
              0.5555555555555556,
              "#d8576b"
             ],
             [
              0.6666666666666666,
              "#ed7953"
             ],
             [
              0.7777777777777778,
              "#fb9f3a"
             ],
             [
              0.8888888888888888,
              "#fdca26"
             ],
             [
              1,
              "#f0f921"
             ]
            ],
            "type": "heatmap"
           }
          ],
          "heatmapgl": [
           {
            "colorbar": {
             "outlinewidth": 0,
             "ticks": ""
            },
            "colorscale": [
             [
              0,
              "#0d0887"
             ],
             [
              0.1111111111111111,
              "#46039f"
             ],
             [
              0.2222222222222222,
              "#7201a8"
             ],
             [
              0.3333333333333333,
              "#9c179e"
             ],
             [
              0.4444444444444444,
              "#bd3786"
             ],
             [
              0.5555555555555556,
              "#d8576b"
             ],
             [
              0.6666666666666666,
              "#ed7953"
             ],
             [
              0.7777777777777778,
              "#fb9f3a"
             ],
             [
              0.8888888888888888,
              "#fdca26"
             ],
             [
              1,
              "#f0f921"
             ]
            ],
            "type": "heatmapgl"
           }
          ],
          "histogram": [
           {
            "marker": {
             "pattern": {
              "fillmode": "overlay",
              "size": 10,
              "solidity": 0.2
             }
            },
            "type": "histogram"
           }
          ],
          "histogram2d": [
           {
            "colorbar": {
             "outlinewidth": 0,
             "ticks": ""
            },
            "colorscale": [
             [
              0,
              "#0d0887"
             ],
             [
              0.1111111111111111,
              "#46039f"
             ],
             [
              0.2222222222222222,
              "#7201a8"
             ],
             [
              0.3333333333333333,
              "#9c179e"
             ],
             [
              0.4444444444444444,
              "#bd3786"
             ],
             [
              0.5555555555555556,
              "#d8576b"
             ],
             [
              0.6666666666666666,
              "#ed7953"
             ],
             [
              0.7777777777777778,
              "#fb9f3a"
             ],
             [
              0.8888888888888888,
              "#fdca26"
             ],
             [
              1,
              "#f0f921"
             ]
            ],
            "type": "histogram2d"
           }
          ],
          "histogram2dcontour": [
           {
            "colorbar": {
             "outlinewidth": 0,
             "ticks": ""
            },
            "colorscale": [
             [
              0,
              "#0d0887"
             ],
             [
              0.1111111111111111,
              "#46039f"
             ],
             [
              0.2222222222222222,
              "#7201a8"
             ],
             [
              0.3333333333333333,
              "#9c179e"
             ],
             [
              0.4444444444444444,
              "#bd3786"
             ],
             [
              0.5555555555555556,
              "#d8576b"
             ],
             [
              0.6666666666666666,
              "#ed7953"
             ],
             [
              0.7777777777777778,
              "#fb9f3a"
             ],
             [
              0.8888888888888888,
              "#fdca26"
             ],
             [
              1,
              "#f0f921"
             ]
            ],
            "type": "histogram2dcontour"
           }
          ],
          "mesh3d": [
           {
            "colorbar": {
             "outlinewidth": 0,
             "ticks": ""
            },
            "type": "mesh3d"
           }
          ],
          "parcoords": [
           {
            "line": {
             "colorbar": {
              "outlinewidth": 0,
              "ticks": ""
             }
            },
            "type": "parcoords"
           }
          ],
          "pie": [
           {
            "automargin": true,
            "type": "pie"
           }
          ],
          "scatter": [
           {
            "fillpattern": {
             "fillmode": "overlay",
             "size": 10,
             "solidity": 0.2
            },
            "type": "scatter"
           }
          ],
          "scatter3d": [
           {
            "line": {
             "colorbar": {
              "outlinewidth": 0,
              "ticks": ""
             }
            },
            "marker": {
             "colorbar": {
              "outlinewidth": 0,
              "ticks": ""
             }
            },
            "type": "scatter3d"
           }
          ],
          "scattercarpet": [
           {
            "marker": {
             "colorbar": {
              "outlinewidth": 0,
              "ticks": ""
             }
            },
            "type": "scattercarpet"
           }
          ],
          "scattergeo": [
           {
            "marker": {
             "colorbar": {
              "outlinewidth": 0,
              "ticks": ""
             }
            },
            "type": "scattergeo"
           }
          ],
          "scattergl": [
           {
            "marker": {
             "colorbar": {
              "outlinewidth": 0,
              "ticks": ""
             }
            },
            "type": "scattergl"
           }
          ],
          "scattermapbox": [
           {
            "marker": {
             "colorbar": {
              "outlinewidth": 0,
              "ticks": ""
             }
            },
            "type": "scattermapbox"
           }
          ],
          "scatterpolar": [
           {
            "marker": {
             "colorbar": {
              "outlinewidth": 0,
              "ticks": ""
             }
            },
            "type": "scatterpolar"
           }
          ],
          "scatterpolargl": [
           {
            "marker": {
             "colorbar": {
              "outlinewidth": 0,
              "ticks": ""
             }
            },
            "type": "scatterpolargl"
           }
          ],
          "scatterternary": [
           {
            "marker": {
             "colorbar": {
              "outlinewidth": 0,
              "ticks": ""
             }
            },
            "type": "scatterternary"
           }
          ],
          "surface": [
           {
            "colorbar": {
             "outlinewidth": 0,
             "ticks": ""
            },
            "colorscale": [
             [
              0,
              "#0d0887"
             ],
             [
              0.1111111111111111,
              "#46039f"
             ],
             [
              0.2222222222222222,
              "#7201a8"
             ],
             [
              0.3333333333333333,
              "#9c179e"
             ],
             [
              0.4444444444444444,
              "#bd3786"
             ],
             [
              0.5555555555555556,
              "#d8576b"
             ],
             [
              0.6666666666666666,
              "#ed7953"
             ],
             [
              0.7777777777777778,
              "#fb9f3a"
             ],
             [
              0.8888888888888888,
              "#fdca26"
             ],
             [
              1,
              "#f0f921"
             ]
            ],
            "type": "surface"
           }
          ],
          "table": [
           {
            "cells": {
             "fill": {
              "color": "#EBF0F8"
             },
             "line": {
              "color": "white"
             }
            },
            "header": {
             "fill": {
              "color": "#C8D4E3"
             },
             "line": {
              "color": "white"
             }
            },
            "type": "table"
           }
          ]
         },
         "layout": {
          "annotationdefaults": {
           "arrowcolor": "#2a3f5f",
           "arrowhead": 0,
           "arrowwidth": 1
          },
          "autotypenumbers": "strict",
          "coloraxis": {
           "colorbar": {
            "outlinewidth": 0,
            "ticks": ""
           }
          },
          "colorscale": {
           "diverging": [
            [
             0,
             "#8e0152"
            ],
            [
             0.1,
             "#c51b7d"
            ],
            [
             0.2,
             "#de77ae"
            ],
            [
             0.3,
             "#f1b6da"
            ],
            [
             0.4,
             "#fde0ef"
            ],
            [
             0.5,
             "#f7f7f7"
            ],
            [
             0.6,
             "#e6f5d0"
            ],
            [
             0.7,
             "#b8e186"
            ],
            [
             0.8,
             "#7fbc41"
            ],
            [
             0.9,
             "#4d9221"
            ],
            [
             1,
             "#276419"
            ]
           ],
           "sequential": [
            [
             0,
             "#0d0887"
            ],
            [
             0.1111111111111111,
             "#46039f"
            ],
            [
             0.2222222222222222,
             "#7201a8"
            ],
            [
             0.3333333333333333,
             "#9c179e"
            ],
            [
             0.4444444444444444,
             "#bd3786"
            ],
            [
             0.5555555555555556,
             "#d8576b"
            ],
            [
             0.6666666666666666,
             "#ed7953"
            ],
            [
             0.7777777777777778,
             "#fb9f3a"
            ],
            [
             0.8888888888888888,
             "#fdca26"
            ],
            [
             1,
             "#f0f921"
            ]
           ],
           "sequentialminus": [
            [
             0,
             "#0d0887"
            ],
            [
             0.1111111111111111,
             "#46039f"
            ],
            [
             0.2222222222222222,
             "#7201a8"
            ],
            [
             0.3333333333333333,
             "#9c179e"
            ],
            [
             0.4444444444444444,
             "#bd3786"
            ],
            [
             0.5555555555555556,
             "#d8576b"
            ],
            [
             0.6666666666666666,
             "#ed7953"
            ],
            [
             0.7777777777777778,
             "#fb9f3a"
            ],
            [
             0.8888888888888888,
             "#fdca26"
            ],
            [
             1,
             "#f0f921"
            ]
           ]
          },
          "colorway": [
           "#636efa",
           "#EF553B",
           "#00cc96",
           "#ab63fa",
           "#FFA15A",
           "#19d3f3",
           "#FF6692",
           "#B6E880",
           "#FF97FF",
           "#FECB52"
          ],
          "font": {
           "color": "#2a3f5f"
          },
          "geo": {
           "bgcolor": "white",
           "lakecolor": "white",
           "landcolor": "#E5ECF6",
           "showlakes": true,
           "showland": true,
           "subunitcolor": "white"
          },
          "hoverlabel": {
           "align": "left"
          },
          "hovermode": "closest",
          "mapbox": {
           "style": "light"
          },
          "paper_bgcolor": "white",
          "plot_bgcolor": "#E5ECF6",
          "polar": {
           "angularaxis": {
            "gridcolor": "white",
            "linecolor": "white",
            "ticks": ""
           },
           "bgcolor": "#E5ECF6",
           "radialaxis": {
            "gridcolor": "white",
            "linecolor": "white",
            "ticks": ""
           }
          },
          "scene": {
           "xaxis": {
            "backgroundcolor": "#E5ECF6",
            "gridcolor": "white",
            "gridwidth": 2,
            "linecolor": "white",
            "showbackground": true,
            "ticks": "",
            "zerolinecolor": "white"
           },
           "yaxis": {
            "backgroundcolor": "#E5ECF6",
            "gridcolor": "white",
            "gridwidth": 2,
            "linecolor": "white",
            "showbackground": true,
            "ticks": "",
            "zerolinecolor": "white"
           },
           "zaxis": {
            "backgroundcolor": "#E5ECF6",
            "gridcolor": "white",
            "gridwidth": 2,
            "linecolor": "white",
            "showbackground": true,
            "ticks": "",
            "zerolinecolor": "white"
           }
          },
          "shapedefaults": {
           "line": {
            "color": "#2a3f5f"
           }
          },
          "ternary": {
           "aaxis": {
            "gridcolor": "white",
            "linecolor": "white",
            "ticks": ""
           },
           "baxis": {
            "gridcolor": "white",
            "linecolor": "white",
            "ticks": ""
           },
           "bgcolor": "#E5ECF6",
           "caxis": {
            "gridcolor": "white",
            "linecolor": "white",
            "ticks": ""
           }
          },
          "title": {
           "x": 0.05
          },
          "xaxis": {
           "automargin": true,
           "gridcolor": "white",
           "linecolor": "white",
           "ticks": "",
           "title": {
            "standoff": 15
           },
           "zerolinecolor": "white",
           "zerolinewidth": 2
          },
          "yaxis": {
           "automargin": true,
           "gridcolor": "white",
           "linecolor": "white",
           "ticks": "",
           "title": {
            "standoff": 15
           },
           "zerolinecolor": "white",
           "zerolinewidth": 2
          }
         }
        },
        "title": {
         "text": "Cantidad de Consultas por Rango Etario y Tipo de Barrio"
        },
        "uniformtext": {
         "minsize": 8,
         "mode": "hide"
        },
        "xaxis": {
         "anchor": "y",
         "domain": [
          0,
          1
         ],
         "title": {
          "text": "Rango Etario"
         }
        },
        "yaxis": {
         "anchor": "x",
         "domain": [
          0,
          1
         ],
         "title": {
          "text": "Cantidad de Consultas"
         }
        }
       }
      },
      "text/html": [
       "<div>                            <div id=\"0f5ce977-15db-44e9-86c0-0c5515605023\" class=\"plotly-graph-div\" style=\"height:525px; width:100%;\"></div>            <script type=\"text/javascript\">                require([\"plotly\"], function(Plotly) {                    window.PLOTLYENV=window.PLOTLYENV || {};                                    if (document.getElementById(\"0f5ce977-15db-44e9-86c0-0c5515605023\")) {                    Plotly.newPlot(                        \"0f5ce977-15db-44e9-86c0-0c5515605023\",                        [{\"alignmentgroup\":\"True\",\"hovertemplate\":\"barrio_popular=no<br>Rango Etario=%{x}<br>Cantidad de Consultas=%{y}<extra></extra>\",\"legendgroup\":\"no\",\"marker\":{\"color\":\"#636efa\",\"pattern\":{\"shape\":\"\"}},\"name\":\"no\",\"offsetgroup\":\"no\",\"orientation\":\"v\",\"showlegend\":true,\"textposition\":\"outside\",\"x\":[\"1-4 ANOS\",\"15-19 ANOS\",\"20-39 ANOS\",\"40-69 ANOS\",\"5-14 ANOS\",\"<1 ANO\",\">=70 ANOS\"],\"xaxis\":\"x\",\"y\":[3303.0,5684.0,13403.0,6805.0,10635.0,232.0,503.0],\"yaxis\":\"y\",\"type\":\"bar\",\"texttemplate\":\"%{y}\"},{\"alignmentgroup\":\"True\",\"hovertemplate\":\"barrio_popular=si<br>Rango Etario=%{x}<br>Cantidad de Consultas=%{y}<extra></extra>\",\"legendgroup\":\"si\",\"marker\":{\"color\":\"#EF553B\",\"pattern\":{\"shape\":\"\"}},\"name\":\"si\",\"offsetgroup\":\"si\",\"orientation\":\"v\",\"showlegend\":true,\"textposition\":\"outside\",\"x\":[\"1-4 ANOS\",\"15-19 ANOS\",\"20-39 ANOS\",\"40-69 ANOS\",\"5-14 ANOS\",\"<1 ANO\",\">=70 ANOS\"],\"xaxis\":\"x\",\"y\":[3580.0,8587.0,13187.0,6404.0,13242.0,200.0,1362.0],\"yaxis\":\"y\",\"type\":\"bar\",\"texttemplate\":\"%{y}\"}],                        {\"template\":{\"data\":{\"histogram2dcontour\":[{\"type\":\"histogram2dcontour\",\"colorbar\":{\"outlinewidth\":0,\"ticks\":\"\"},\"colorscale\":[[0.0,\"#0d0887\"],[0.1111111111111111,\"#46039f\"],[0.2222222222222222,\"#7201a8\"],[0.3333333333333333,\"#9c179e\"],[0.4444444444444444,\"#bd3786\"],[0.5555555555555556,\"#d8576b\"],[0.6666666666666666,\"#ed7953\"],[0.7777777777777778,\"#fb9f3a\"],[0.8888888888888888,\"#fdca26\"],[1.0,\"#f0f921\"]]}],\"choropleth\":[{\"type\":\"choropleth\",\"colorbar\":{\"outlinewidth\":0,\"ticks\":\"\"}}],\"histogram2d\":[{\"type\":\"histogram2d\",\"colorbar\":{\"outlinewidth\":0,\"ticks\":\"\"},\"colorscale\":[[0.0,\"#0d0887\"],[0.1111111111111111,\"#46039f\"],[0.2222222222222222,\"#7201a8\"],[0.3333333333333333,\"#9c179e\"],[0.4444444444444444,\"#bd3786\"],[0.5555555555555556,\"#d8576b\"],[0.6666666666666666,\"#ed7953\"],[0.7777777777777778,\"#fb9f3a\"],[0.8888888888888888,\"#fdca26\"],[1.0,\"#f0f921\"]]}],\"heatmap\":[{\"type\":\"heatmap\",\"colorbar\":{\"outlinewidth\":0,\"ticks\":\"\"},\"colorscale\":[[0.0,\"#0d0887\"],[0.1111111111111111,\"#46039f\"],[0.2222222222222222,\"#7201a8\"],[0.3333333333333333,\"#9c179e\"],[0.4444444444444444,\"#bd3786\"],[0.5555555555555556,\"#d8576b\"],[0.6666666666666666,\"#ed7953\"],[0.7777777777777778,\"#fb9f3a\"],[0.8888888888888888,\"#fdca26\"],[1.0,\"#f0f921\"]]}],\"heatmapgl\":[{\"type\":\"heatmapgl\",\"colorbar\":{\"outlinewidth\":0,\"ticks\":\"\"},\"colorscale\":[[0.0,\"#0d0887\"],[0.1111111111111111,\"#46039f\"],[0.2222222222222222,\"#7201a8\"],[0.3333333333333333,\"#9c179e\"],[0.4444444444444444,\"#bd3786\"],[0.5555555555555556,\"#d8576b\"],[0.6666666666666666,\"#ed7953\"],[0.7777777777777778,\"#fb9f3a\"],[0.8888888888888888,\"#fdca26\"],[1.0,\"#f0f921\"]]}],\"contourcarpet\":[{\"type\":\"contourcarpet\",\"colorbar\":{\"outlinewidth\":0,\"ticks\":\"\"}}],\"contour\":[{\"type\":\"contour\",\"colorbar\":{\"outlinewidth\":0,\"ticks\":\"\"},\"colorscale\":[[0.0,\"#0d0887\"],[0.1111111111111111,\"#46039f\"],[0.2222222222222222,\"#7201a8\"],[0.3333333333333333,\"#9c179e\"],[0.4444444444444444,\"#bd3786\"],[0.5555555555555556,\"#d8576b\"],[0.6666666666666666,\"#ed7953\"],[0.7777777777777778,\"#fb9f3a\"],[0.8888888888888888,\"#fdca26\"],[1.0,\"#f0f921\"]]}],\"surface\":[{\"type\":\"surface\",\"colorbar\":{\"outlinewidth\":0,\"ticks\":\"\"},\"colorscale\":[[0.0,\"#0d0887\"],[0.1111111111111111,\"#46039f\"],[0.2222222222222222,\"#7201a8\"],[0.3333333333333333,\"#9c179e\"],[0.4444444444444444,\"#bd3786\"],[0.5555555555555556,\"#d8576b\"],[0.6666666666666666,\"#ed7953\"],[0.7777777777777778,\"#fb9f3a\"],[0.8888888888888888,\"#fdca26\"],[1.0,\"#f0f921\"]]}],\"mesh3d\":[{\"type\":\"mesh3d\",\"colorbar\":{\"outlinewidth\":0,\"ticks\":\"\"}}],\"scatter\":[{\"fillpattern\":{\"fillmode\":\"overlay\",\"size\":10,\"solidity\":0.2},\"type\":\"scatter\"}],\"parcoords\":[{\"type\":\"parcoords\",\"line\":{\"colorbar\":{\"outlinewidth\":0,\"ticks\":\"\"}}}],\"scatterpolargl\":[{\"type\":\"scatterpolargl\",\"marker\":{\"colorbar\":{\"outlinewidth\":0,\"ticks\":\"\"}}}],\"bar\":[{\"error_x\":{\"color\":\"#2a3f5f\"},\"error_y\":{\"color\":\"#2a3f5f\"},\"marker\":{\"line\":{\"color\":\"#E5ECF6\",\"width\":0.5},\"pattern\":{\"fillmode\":\"overlay\",\"size\":10,\"solidity\":0.2}},\"type\":\"bar\"}],\"scattergeo\":[{\"type\":\"scattergeo\",\"marker\":{\"colorbar\":{\"outlinewidth\":0,\"ticks\":\"\"}}}],\"scatterpolar\":[{\"type\":\"scatterpolar\",\"marker\":{\"colorbar\":{\"outlinewidth\":0,\"ticks\":\"\"}}}],\"histogram\":[{\"marker\":{\"pattern\":{\"fillmode\":\"overlay\",\"size\":10,\"solidity\":0.2}},\"type\":\"histogram\"}],\"scattergl\":[{\"type\":\"scattergl\",\"marker\":{\"colorbar\":{\"outlinewidth\":0,\"ticks\":\"\"}}}],\"scatter3d\":[{\"type\":\"scatter3d\",\"line\":{\"colorbar\":{\"outlinewidth\":0,\"ticks\":\"\"}},\"marker\":{\"colorbar\":{\"outlinewidth\":0,\"ticks\":\"\"}}}],\"scattermapbox\":[{\"type\":\"scattermapbox\",\"marker\":{\"colorbar\":{\"outlinewidth\":0,\"ticks\":\"\"}}}],\"scatterternary\":[{\"type\":\"scatterternary\",\"marker\":{\"colorbar\":{\"outlinewidth\":0,\"ticks\":\"\"}}}],\"scattercarpet\":[{\"type\":\"scattercarpet\",\"marker\":{\"colorbar\":{\"outlinewidth\":0,\"ticks\":\"\"}}}],\"carpet\":[{\"aaxis\":{\"endlinecolor\":\"#2a3f5f\",\"gridcolor\":\"white\",\"linecolor\":\"white\",\"minorgridcolor\":\"white\",\"startlinecolor\":\"#2a3f5f\"},\"baxis\":{\"endlinecolor\":\"#2a3f5f\",\"gridcolor\":\"white\",\"linecolor\":\"white\",\"minorgridcolor\":\"white\",\"startlinecolor\":\"#2a3f5f\"},\"type\":\"carpet\"}],\"table\":[{\"cells\":{\"fill\":{\"color\":\"#EBF0F8\"},\"line\":{\"color\":\"white\"}},\"header\":{\"fill\":{\"color\":\"#C8D4E3\"},\"line\":{\"color\":\"white\"}},\"type\":\"table\"}],\"barpolar\":[{\"marker\":{\"line\":{\"color\":\"#E5ECF6\",\"width\":0.5},\"pattern\":{\"fillmode\":\"overlay\",\"size\":10,\"solidity\":0.2}},\"type\":\"barpolar\"}],\"pie\":[{\"automargin\":true,\"type\":\"pie\"}]},\"layout\":{\"autotypenumbers\":\"strict\",\"colorway\":[\"#636efa\",\"#EF553B\",\"#00cc96\",\"#ab63fa\",\"#FFA15A\",\"#19d3f3\",\"#FF6692\",\"#B6E880\",\"#FF97FF\",\"#FECB52\"],\"font\":{\"color\":\"#2a3f5f\"},\"hovermode\":\"closest\",\"hoverlabel\":{\"align\":\"left\"},\"paper_bgcolor\":\"white\",\"plot_bgcolor\":\"#E5ECF6\",\"polar\":{\"bgcolor\":\"#E5ECF6\",\"angularaxis\":{\"gridcolor\":\"white\",\"linecolor\":\"white\",\"ticks\":\"\"},\"radialaxis\":{\"gridcolor\":\"white\",\"linecolor\":\"white\",\"ticks\":\"\"}},\"ternary\":{\"bgcolor\":\"#E5ECF6\",\"aaxis\":{\"gridcolor\":\"white\",\"linecolor\":\"white\",\"ticks\":\"\"},\"baxis\":{\"gridcolor\":\"white\",\"linecolor\":\"white\",\"ticks\":\"\"},\"caxis\":{\"gridcolor\":\"white\",\"linecolor\":\"white\",\"ticks\":\"\"}},\"coloraxis\":{\"colorbar\":{\"outlinewidth\":0,\"ticks\":\"\"}},\"colorscale\":{\"sequential\":[[0.0,\"#0d0887\"],[0.1111111111111111,\"#46039f\"],[0.2222222222222222,\"#7201a8\"],[0.3333333333333333,\"#9c179e\"],[0.4444444444444444,\"#bd3786\"],[0.5555555555555556,\"#d8576b\"],[0.6666666666666666,\"#ed7953\"],[0.7777777777777778,\"#fb9f3a\"],[0.8888888888888888,\"#fdca26\"],[1.0,\"#f0f921\"]],\"sequentialminus\":[[0.0,\"#0d0887\"],[0.1111111111111111,\"#46039f\"],[0.2222222222222222,\"#7201a8\"],[0.3333333333333333,\"#9c179e\"],[0.4444444444444444,\"#bd3786\"],[0.5555555555555556,\"#d8576b\"],[0.6666666666666666,\"#ed7953\"],[0.7777777777777778,\"#fb9f3a\"],[0.8888888888888888,\"#fdca26\"],[1.0,\"#f0f921\"]],\"diverging\":[[0,\"#8e0152\"],[0.1,\"#c51b7d\"],[0.2,\"#de77ae\"],[0.3,\"#f1b6da\"],[0.4,\"#fde0ef\"],[0.5,\"#f7f7f7\"],[0.6,\"#e6f5d0\"],[0.7,\"#b8e186\"],[0.8,\"#7fbc41\"],[0.9,\"#4d9221\"],[1,\"#276419\"]]},\"xaxis\":{\"gridcolor\":\"white\",\"linecolor\":\"white\",\"ticks\":\"\",\"title\":{\"standoff\":15},\"zerolinecolor\":\"white\",\"automargin\":true,\"zerolinewidth\":2},\"yaxis\":{\"gridcolor\":\"white\",\"linecolor\":\"white\",\"ticks\":\"\",\"title\":{\"standoff\":15},\"zerolinecolor\":\"white\",\"automargin\":true,\"zerolinewidth\":2},\"scene\":{\"xaxis\":{\"backgroundcolor\":\"#E5ECF6\",\"gridcolor\":\"white\",\"linecolor\":\"white\",\"showbackground\":true,\"ticks\":\"\",\"zerolinecolor\":\"white\",\"gridwidth\":2},\"yaxis\":{\"backgroundcolor\":\"#E5ECF6\",\"gridcolor\":\"white\",\"linecolor\":\"white\",\"showbackground\":true,\"ticks\":\"\",\"zerolinecolor\":\"white\",\"gridwidth\":2},\"zaxis\":{\"backgroundcolor\":\"#E5ECF6\",\"gridcolor\":\"white\",\"linecolor\":\"white\",\"showbackground\":true,\"ticks\":\"\",\"zerolinecolor\":\"white\",\"gridwidth\":2}},\"shapedefaults\":{\"line\":{\"color\":\"#2a3f5f\"}},\"annotationdefaults\":{\"arrowcolor\":\"#2a3f5f\",\"arrowhead\":0,\"arrowwidth\":1},\"geo\":{\"bgcolor\":\"white\",\"landcolor\":\"#E5ECF6\",\"subunitcolor\":\"white\",\"showland\":true,\"showlakes\":true,\"lakecolor\":\"white\"},\"title\":{\"x\":0.05},\"mapbox\":{\"style\":\"light\"}}},\"xaxis\":{\"anchor\":\"y\",\"domain\":[0.0,1.0],\"title\":{\"text\":\"Rango Etario\"}},\"yaxis\":{\"anchor\":\"x\",\"domain\":[0.0,1.0],\"title\":{\"text\":\"Cantidad de Consultas\"}},\"legend\":{\"title\":{\"text\":\"barrio_popular\"},\"tracegroupgap\":0},\"title\":{\"text\":\"Cantidad de Consultas por Rango Etario y Tipo de Barrio\"},\"barmode\":\"relative\",\"uniformtext\":{\"minsize\":8,\"mode\":\"hide\"}},                        {\"responsive\": true}                    ).then(function(){\n",
       "                            \n",
       "var gd = document.getElementById('0f5ce977-15db-44e9-86c0-0c5515605023');\n",
       "var x = new MutationObserver(function (mutations, observer) {{\n",
       "        var display = window.getComputedStyle(gd).display;\n",
       "        if (!display || display === 'none') {{\n",
       "            console.log([gd, 'removed!']);\n",
       "            Plotly.purge(gd);\n",
       "            observer.disconnect();\n",
       "        }}\n",
       "}});\n",
       "\n",
       "// Listen for the removal of the full notebook cells\n",
       "var notebookContainer = gd.closest('#notebook-container');\n",
       "if (notebookContainer) {{\n",
       "    x.observe(notebookContainer, {childList: true});\n",
       "}}\n",
       "\n",
       "// Listen for the clearing of the current output cell\n",
       "var outputEl = gd.closest('.output');\n",
       "if (outputEl) {{\n",
       "    x.observe(outputEl, {childList: true});\n",
       "}}\n",
       "\n",
       "                        })                };                });            </script>        </div>"
      ]
     },
     "metadata": {},
     "output_type": "display_data"
    }
   ],
   "source": [
    "import plotly.express as px\n",
    "\n",
    "# Crear el gráfico de barras apiladas con etiquetas de datos\n",
    "fig = px.bar(atenciones_rango_etario, x='rango_etario_normalizado', y='consulta_cantidad',\n",
    "             color='barrio_popular',\n",
    "             title='Cantidad de Consultas por Rango Etario y Tipo de Barrio',\n",
    "             labels={'rango_etario_normalizado': 'Rango Etario', 'consulta_cantidad': 'Cantidad de Consultas'},\n",
    "             category_orders={\"barrio_popular\": [\"no\", \"si\"]})  # Ordenar las categorías\n",
    "\n",
    "fig.update_xaxes(title_text='Rango Etario')\n",
    "fig.update_yaxes(title_text='Cantidad de Consultas')\n",
    "\n",
    "# Agregar etiquetas de datos a las barras\n",
    "fig.update_traces(texttemplate='%{y}', textposition='outside')\n",
    "\n",
    "# Ajustar el diseño del gráfico para que quepan las etiquetas de datos\n",
    "fig.update_layout(uniformtext_minsize=8, uniformtext_mode='hide')\n",
    "\n",
    "# Mostrar el gráfico interactivo\n",
    "fig.show()\n",
    "\n",
    "# Guardar la imagen en formato PNG para PowerPoint\n",
    "fig.write_image(\"grafico_consultas_con_etiquetas.png\")\n"
   ]
  },
  {
   "cell_type": "code",
   "execution_count": null,
   "id": "99ad729c",
   "metadata": {},
   "outputs": [],
   "source": []
  },
  {
   "cell_type": "code",
   "execution_count": 103,
   "id": "f45a75ef",
   "metadata": {},
   "outputs": [
    {
     "data": {
      "application/vnd.plotly.v1+json": {
       "config": {
        "plotlyServerURL": "https://plot.ly"
       },
       "data": [
        {
         "alignmentgroup": "True",
         "hovertemplate": "barrio_popular=no<br>Rango Etario=%{x}<br>Cantidad de Consultas=%{y}<extra></extra>",
         "legendgroup": "no",
         "marker": {
          "color": "#636efa",
          "pattern": {
           "shape": ""
          }
         },
         "name": "no",
         "offsetgroup": "no",
         "orientation": "v",
         "showlegend": true,
         "textposition": "auto",
         "type": "bar",
         "x": [
          "1-4 ANOS",
          "15-19 ANOS",
          "20-39 ANOS",
          "40-69 ANOS",
          "5-14 ANOS",
          "<1 ANO",
          ">=70 ANOS",
          "Desconocido"
         ],
         "xaxis": "x2",
         "y": [
          3303,
          5684,
          13403,
          6805,
          10635,
          232,
          503,
          14
         ],
         "yaxis": "y2"
        },
        {
         "alignmentgroup": "True",
         "hovertemplate": "barrio_popular=si<br>Rango Etario=%{x}<br>Cantidad de Consultas=%{y}<extra></extra>",
         "legendgroup": "si",
         "marker": {
          "color": "#EF553B",
          "pattern": {
           "shape": ""
          }
         },
         "name": "si",
         "offsetgroup": "si",
         "orientation": "v",
         "showlegend": true,
         "textposition": "auto",
         "type": "bar",
         "x": [
          "1-4 ANOS",
          "15-19 ANOS",
          "20-39 ANOS",
          "40-69 ANOS",
          "5-14 ANOS",
          "<1 ANO",
          ">=70 ANOS",
          "Desconocido"
         ],
         "xaxis": "x",
         "y": [
          3580,
          8587,
          13187,
          6404,
          13242,
          200,
          1362,
          5
         ],
         "yaxis": "y"
        }
       ],
       "layout": {
        "annotations": [
         {
          "font": {},
          "showarrow": false,
          "text": "barrio_popular=si",
          "x": 0.5,
          "xanchor": "center",
          "xref": "paper",
          "y": 0.46499999999999997,
          "yanchor": "bottom",
          "yref": "paper"
         },
         {
          "font": {},
          "showarrow": false,
          "text": "barrio_popular=no",
          "x": 0.5,
          "xanchor": "center",
          "xref": "paper",
          "y": 0.9999999999999999,
          "yanchor": "bottom",
          "yref": "paper"
         }
        ],
        "barmode": "relative",
        "legend": {
         "title": {
          "text": "barrio_popular"
         },
         "tracegroupgap": 0
        },
        "template": {
         "data": {
          "bar": [
           {
            "error_x": {
             "color": "#2a3f5f"
            },
            "error_y": {
             "color": "#2a3f5f"
            },
            "marker": {
             "line": {
              "color": "#E5ECF6",
              "width": 0.5
             },
             "pattern": {
              "fillmode": "overlay",
              "size": 10,
              "solidity": 0.2
             }
            },
            "type": "bar"
           }
          ],
          "barpolar": [
           {
            "marker": {
             "line": {
              "color": "#E5ECF6",
              "width": 0.5
             },
             "pattern": {
              "fillmode": "overlay",
              "size": 10,
              "solidity": 0.2
             }
            },
            "type": "barpolar"
           }
          ],
          "carpet": [
           {
            "aaxis": {
             "endlinecolor": "#2a3f5f",
             "gridcolor": "white",
             "linecolor": "white",
             "minorgridcolor": "white",
             "startlinecolor": "#2a3f5f"
            },
            "baxis": {
             "endlinecolor": "#2a3f5f",
             "gridcolor": "white",
             "linecolor": "white",
             "minorgridcolor": "white",
             "startlinecolor": "#2a3f5f"
            },
            "type": "carpet"
           }
          ],
          "choropleth": [
           {
            "colorbar": {
             "outlinewidth": 0,
             "ticks": ""
            },
            "type": "choropleth"
           }
          ],
          "contour": [
           {
            "colorbar": {
             "outlinewidth": 0,
             "ticks": ""
            },
            "colorscale": [
             [
              0,
              "#0d0887"
             ],
             [
              0.1111111111111111,
              "#46039f"
             ],
             [
              0.2222222222222222,
              "#7201a8"
             ],
             [
              0.3333333333333333,
              "#9c179e"
             ],
             [
              0.4444444444444444,
              "#bd3786"
             ],
             [
              0.5555555555555556,
              "#d8576b"
             ],
             [
              0.6666666666666666,
              "#ed7953"
             ],
             [
              0.7777777777777778,
              "#fb9f3a"
             ],
             [
              0.8888888888888888,
              "#fdca26"
             ],
             [
              1,
              "#f0f921"
             ]
            ],
            "type": "contour"
           }
          ],
          "contourcarpet": [
           {
            "colorbar": {
             "outlinewidth": 0,
             "ticks": ""
            },
            "type": "contourcarpet"
           }
          ],
          "heatmap": [
           {
            "colorbar": {
             "outlinewidth": 0,
             "ticks": ""
            },
            "colorscale": [
             [
              0,
              "#0d0887"
             ],
             [
              0.1111111111111111,
              "#46039f"
             ],
             [
              0.2222222222222222,
              "#7201a8"
             ],
             [
              0.3333333333333333,
              "#9c179e"
             ],
             [
              0.4444444444444444,
              "#bd3786"
             ],
             [
              0.5555555555555556,
              "#d8576b"
             ],
             [
              0.6666666666666666,
              "#ed7953"
             ],
             [
              0.7777777777777778,
              "#fb9f3a"
             ],
             [
              0.8888888888888888,
              "#fdca26"
             ],
             [
              1,
              "#f0f921"
             ]
            ],
            "type": "heatmap"
           }
          ],
          "heatmapgl": [
           {
            "colorbar": {
             "outlinewidth": 0,
             "ticks": ""
            },
            "colorscale": [
             [
              0,
              "#0d0887"
             ],
             [
              0.1111111111111111,
              "#46039f"
             ],
             [
              0.2222222222222222,
              "#7201a8"
             ],
             [
              0.3333333333333333,
              "#9c179e"
             ],
             [
              0.4444444444444444,
              "#bd3786"
             ],
             [
              0.5555555555555556,
              "#d8576b"
             ],
             [
              0.6666666666666666,
              "#ed7953"
             ],
             [
              0.7777777777777778,
              "#fb9f3a"
             ],
             [
              0.8888888888888888,
              "#fdca26"
             ],
             [
              1,
              "#f0f921"
             ]
            ],
            "type": "heatmapgl"
           }
          ],
          "histogram": [
           {
            "marker": {
             "pattern": {
              "fillmode": "overlay",
              "size": 10,
              "solidity": 0.2
             }
            },
            "type": "histogram"
           }
          ],
          "histogram2d": [
           {
            "colorbar": {
             "outlinewidth": 0,
             "ticks": ""
            },
            "colorscale": [
             [
              0,
              "#0d0887"
             ],
             [
              0.1111111111111111,
              "#46039f"
             ],
             [
              0.2222222222222222,
              "#7201a8"
             ],
             [
              0.3333333333333333,
              "#9c179e"
             ],
             [
              0.4444444444444444,
              "#bd3786"
             ],
             [
              0.5555555555555556,
              "#d8576b"
             ],
             [
              0.6666666666666666,
              "#ed7953"
             ],
             [
              0.7777777777777778,
              "#fb9f3a"
             ],
             [
              0.8888888888888888,
              "#fdca26"
             ],
             [
              1,
              "#f0f921"
             ]
            ],
            "type": "histogram2d"
           }
          ],
          "histogram2dcontour": [
           {
            "colorbar": {
             "outlinewidth": 0,
             "ticks": ""
            },
            "colorscale": [
             [
              0,
              "#0d0887"
             ],
             [
              0.1111111111111111,
              "#46039f"
             ],
             [
              0.2222222222222222,
              "#7201a8"
             ],
             [
              0.3333333333333333,
              "#9c179e"
             ],
             [
              0.4444444444444444,
              "#bd3786"
             ],
             [
              0.5555555555555556,
              "#d8576b"
             ],
             [
              0.6666666666666666,
              "#ed7953"
             ],
             [
              0.7777777777777778,
              "#fb9f3a"
             ],
             [
              0.8888888888888888,
              "#fdca26"
             ],
             [
              1,
              "#f0f921"
             ]
            ],
            "type": "histogram2dcontour"
           }
          ],
          "mesh3d": [
           {
            "colorbar": {
             "outlinewidth": 0,
             "ticks": ""
            },
            "type": "mesh3d"
           }
          ],
          "parcoords": [
           {
            "line": {
             "colorbar": {
              "outlinewidth": 0,
              "ticks": ""
             }
            },
            "type": "parcoords"
           }
          ],
          "pie": [
           {
            "automargin": true,
            "type": "pie"
           }
          ],
          "scatter": [
           {
            "fillpattern": {
             "fillmode": "overlay",
             "size": 10,
             "solidity": 0.2
            },
            "type": "scatter"
           }
          ],
          "scatter3d": [
           {
            "line": {
             "colorbar": {
              "outlinewidth": 0,
              "ticks": ""
             }
            },
            "marker": {
             "colorbar": {
              "outlinewidth": 0,
              "ticks": ""
             }
            },
            "type": "scatter3d"
           }
          ],
          "scattercarpet": [
           {
            "marker": {
             "colorbar": {
              "outlinewidth": 0,
              "ticks": ""
             }
            },
            "type": "scattercarpet"
           }
          ],
          "scattergeo": [
           {
            "marker": {
             "colorbar": {
              "outlinewidth": 0,
              "ticks": ""
             }
            },
            "type": "scattergeo"
           }
          ],
          "scattergl": [
           {
            "marker": {
             "colorbar": {
              "outlinewidth": 0,
              "ticks": ""
             }
            },
            "type": "scattergl"
           }
          ],
          "scattermapbox": [
           {
            "marker": {
             "colorbar": {
              "outlinewidth": 0,
              "ticks": ""
             }
            },
            "type": "scattermapbox"
           }
          ],
          "scatterpolar": [
           {
            "marker": {
             "colorbar": {
              "outlinewidth": 0,
              "ticks": ""
             }
            },
            "type": "scatterpolar"
           }
          ],
          "scatterpolargl": [
           {
            "marker": {
             "colorbar": {
              "outlinewidth": 0,
              "ticks": ""
             }
            },
            "type": "scatterpolargl"
           }
          ],
          "scatterternary": [
           {
            "marker": {
             "colorbar": {
              "outlinewidth": 0,
              "ticks": ""
             }
            },
            "type": "scatterternary"
           }
          ],
          "surface": [
           {
            "colorbar": {
             "outlinewidth": 0,
             "ticks": ""
            },
            "colorscale": [
             [
              0,
              "#0d0887"
             ],
             [
              0.1111111111111111,
              "#46039f"
             ],
             [
              0.2222222222222222,
              "#7201a8"
             ],
             [
              0.3333333333333333,
              "#9c179e"
             ],
             [
              0.4444444444444444,
              "#bd3786"
             ],
             [
              0.5555555555555556,
              "#d8576b"
             ],
             [
              0.6666666666666666,
              "#ed7953"
             ],
             [
              0.7777777777777778,
              "#fb9f3a"
             ],
             [
              0.8888888888888888,
              "#fdca26"
             ],
             [
              1,
              "#f0f921"
             ]
            ],
            "type": "surface"
           }
          ],
          "table": [
           {
            "cells": {
             "fill": {
              "color": "#EBF0F8"
             },
             "line": {
              "color": "white"
             }
            },
            "header": {
             "fill": {
              "color": "#C8D4E3"
             },
             "line": {
              "color": "white"
             }
            },
            "type": "table"
           }
          ]
         },
         "layout": {
          "annotationdefaults": {
           "arrowcolor": "#2a3f5f",
           "arrowhead": 0,
           "arrowwidth": 1
          },
          "autotypenumbers": "strict",
          "coloraxis": {
           "colorbar": {
            "outlinewidth": 0,
            "ticks": ""
           }
          },
          "colorscale": {
           "diverging": [
            [
             0,
             "#8e0152"
            ],
            [
             0.1,
             "#c51b7d"
            ],
            [
             0.2,
             "#de77ae"
            ],
            [
             0.3,
             "#f1b6da"
            ],
            [
             0.4,
             "#fde0ef"
            ],
            [
             0.5,
             "#f7f7f7"
            ],
            [
             0.6,
             "#e6f5d0"
            ],
            [
             0.7,
             "#b8e186"
            ],
            [
             0.8,
             "#7fbc41"
            ],
            [
             0.9,
             "#4d9221"
            ],
            [
             1,
             "#276419"
            ]
           ],
           "sequential": [
            [
             0,
             "#0d0887"
            ],
            [
             0.1111111111111111,
             "#46039f"
            ],
            [
             0.2222222222222222,
             "#7201a8"
            ],
            [
             0.3333333333333333,
             "#9c179e"
            ],
            [
             0.4444444444444444,
             "#bd3786"
            ],
            [
             0.5555555555555556,
             "#d8576b"
            ],
            [
             0.6666666666666666,
             "#ed7953"
            ],
            [
             0.7777777777777778,
             "#fb9f3a"
            ],
            [
             0.8888888888888888,
             "#fdca26"
            ],
            [
             1,
             "#f0f921"
            ]
           ],
           "sequentialminus": [
            [
             0,
             "#0d0887"
            ],
            [
             0.1111111111111111,
             "#46039f"
            ],
            [
             0.2222222222222222,
             "#7201a8"
            ],
            [
             0.3333333333333333,
             "#9c179e"
            ],
            [
             0.4444444444444444,
             "#bd3786"
            ],
            [
             0.5555555555555556,
             "#d8576b"
            ],
            [
             0.6666666666666666,
             "#ed7953"
            ],
            [
             0.7777777777777778,
             "#fb9f3a"
            ],
            [
             0.8888888888888888,
             "#fdca26"
            ],
            [
             1,
             "#f0f921"
            ]
           ]
          },
          "colorway": [
           "#636efa",
           "#EF553B",
           "#00cc96",
           "#ab63fa",
           "#FFA15A",
           "#19d3f3",
           "#FF6692",
           "#B6E880",
           "#FF97FF",
           "#FECB52"
          ],
          "font": {
           "color": "#2a3f5f"
          },
          "geo": {
           "bgcolor": "white",
           "lakecolor": "white",
           "landcolor": "#E5ECF6",
           "showlakes": true,
           "showland": true,
           "subunitcolor": "white"
          },
          "hoverlabel": {
           "align": "left"
          },
          "hovermode": "closest",
          "mapbox": {
           "style": "light"
          },
          "paper_bgcolor": "white",
          "plot_bgcolor": "#E5ECF6",
          "polar": {
           "angularaxis": {
            "gridcolor": "white",
            "linecolor": "white",
            "ticks": ""
           },
           "bgcolor": "#E5ECF6",
           "radialaxis": {
            "gridcolor": "white",
            "linecolor": "white",
            "ticks": ""
           }
          },
          "scene": {
           "xaxis": {
            "backgroundcolor": "#E5ECF6",
            "gridcolor": "white",
            "gridwidth": 2,
            "linecolor": "white",
            "showbackground": true,
            "ticks": "",
            "zerolinecolor": "white"
           },
           "yaxis": {
            "backgroundcolor": "#E5ECF6",
            "gridcolor": "white",
            "gridwidth": 2,
            "linecolor": "white",
            "showbackground": true,
            "ticks": "",
            "zerolinecolor": "white"
           },
           "zaxis": {
            "backgroundcolor": "#E5ECF6",
            "gridcolor": "white",
            "gridwidth": 2,
            "linecolor": "white",
            "showbackground": true,
            "ticks": "",
            "zerolinecolor": "white"
           }
          },
          "shapedefaults": {
           "line": {
            "color": "#2a3f5f"
           }
          },
          "ternary": {
           "aaxis": {
            "gridcolor": "white",
            "linecolor": "white",
            "ticks": ""
           },
           "baxis": {
            "gridcolor": "white",
            "linecolor": "white",
            "ticks": ""
           },
           "bgcolor": "#E5ECF6",
           "caxis": {
            "gridcolor": "white",
            "linecolor": "white",
            "ticks": ""
           }
          },
          "title": {
           "x": 0.05
          },
          "xaxis": {
           "automargin": true,
           "gridcolor": "white",
           "linecolor": "white",
           "ticks": "",
           "title": {
            "standoff": 15
           },
           "zerolinecolor": "white",
           "zerolinewidth": 2
          },
          "yaxis": {
           "automargin": true,
           "gridcolor": "white",
           "linecolor": "white",
           "ticks": "",
           "title": {
            "standoff": 15
           },
           "zerolinecolor": "white",
           "zerolinewidth": 2
          }
         }
        },
        "title": {
         "text": "Cantidad de Consultas por Rango Etario y Tipo de Barrio"
        },
        "xaxis": {
         "anchor": "y",
         "domain": [
          0,
          1
         ],
         "title": {
          "text": "Rango Etario"
         }
        },
        "xaxis2": {
         "anchor": "y2",
         "domain": [
          0,
          1
         ],
         "matches": "x",
         "showticklabels": false,
         "title": {
          "text": "Rango Etario"
         }
        },
        "yaxis": {
         "anchor": "x",
         "domain": [
          0,
          0.46499999999999997
         ],
         "title": {
          "text": "Cantidad de Consultas"
         }
        },
        "yaxis2": {
         "anchor": "x2",
         "domain": [
          0.5349999999999999,
          0.9999999999999999
         ],
         "matches": "y",
         "title": {
          "text": "Cantidad de Consultas"
         }
        }
       }
      },
      "text/html": [
       "<div>                            <div id=\"4f5365e7-5457-4863-a0df-07f4541f603c\" class=\"plotly-graph-div\" style=\"height:525px; width:100%;\"></div>            <script type=\"text/javascript\">                require([\"plotly\"], function(Plotly) {                    window.PLOTLYENV=window.PLOTLYENV || {};                                    if (document.getElementById(\"4f5365e7-5457-4863-a0df-07f4541f603c\")) {                    Plotly.newPlot(                        \"4f5365e7-5457-4863-a0df-07f4541f603c\",                        [{\"alignmentgroup\":\"True\",\"hovertemplate\":\"barrio_popular=no<br>Rango Etario=%{x}<br>Cantidad de Consultas=%{y}<extra></extra>\",\"legendgroup\":\"no\",\"marker\":{\"color\":\"#636efa\",\"pattern\":{\"shape\":\"\"}},\"name\":\"no\",\"offsetgroup\":\"no\",\"orientation\":\"v\",\"showlegend\":true,\"textposition\":\"auto\",\"x\":[\"1-4 ANOS\",\"15-19 ANOS\",\"20-39 ANOS\",\"40-69 ANOS\",\"5-14 ANOS\",\"<1 ANO\",\">=70 ANOS\",\"Desconocido\"],\"xaxis\":\"x2\",\"y\":[3303.0,5684.0,13403.0,6805.0,10635.0,232.0,503.0,14.0],\"yaxis\":\"y2\",\"type\":\"bar\"},{\"alignmentgroup\":\"True\",\"hovertemplate\":\"barrio_popular=si<br>Rango Etario=%{x}<br>Cantidad de Consultas=%{y}<extra></extra>\",\"legendgroup\":\"si\",\"marker\":{\"color\":\"#EF553B\",\"pattern\":{\"shape\":\"\"}},\"name\":\"si\",\"offsetgroup\":\"si\",\"orientation\":\"v\",\"showlegend\":true,\"textposition\":\"auto\",\"x\":[\"1-4 ANOS\",\"15-19 ANOS\",\"20-39 ANOS\",\"40-69 ANOS\",\"5-14 ANOS\",\"<1 ANO\",\">=70 ANOS\",\"Desconocido\"],\"xaxis\":\"x\",\"y\":[3580.0,8587.0,13187.0,6404.0,13242.0,200.0,1362.0,5.0],\"yaxis\":\"y\",\"type\":\"bar\"}],                        {\"template\":{\"data\":{\"histogram2dcontour\":[{\"type\":\"histogram2dcontour\",\"colorbar\":{\"outlinewidth\":0,\"ticks\":\"\"},\"colorscale\":[[0.0,\"#0d0887\"],[0.1111111111111111,\"#46039f\"],[0.2222222222222222,\"#7201a8\"],[0.3333333333333333,\"#9c179e\"],[0.4444444444444444,\"#bd3786\"],[0.5555555555555556,\"#d8576b\"],[0.6666666666666666,\"#ed7953\"],[0.7777777777777778,\"#fb9f3a\"],[0.8888888888888888,\"#fdca26\"],[1.0,\"#f0f921\"]]}],\"choropleth\":[{\"type\":\"choropleth\",\"colorbar\":{\"outlinewidth\":0,\"ticks\":\"\"}}],\"histogram2d\":[{\"type\":\"histogram2d\",\"colorbar\":{\"outlinewidth\":0,\"ticks\":\"\"},\"colorscale\":[[0.0,\"#0d0887\"],[0.1111111111111111,\"#46039f\"],[0.2222222222222222,\"#7201a8\"],[0.3333333333333333,\"#9c179e\"],[0.4444444444444444,\"#bd3786\"],[0.5555555555555556,\"#d8576b\"],[0.6666666666666666,\"#ed7953\"],[0.7777777777777778,\"#fb9f3a\"],[0.8888888888888888,\"#fdca26\"],[1.0,\"#f0f921\"]]}],\"heatmap\":[{\"type\":\"heatmap\",\"colorbar\":{\"outlinewidth\":0,\"ticks\":\"\"},\"colorscale\":[[0.0,\"#0d0887\"],[0.1111111111111111,\"#46039f\"],[0.2222222222222222,\"#7201a8\"],[0.3333333333333333,\"#9c179e\"],[0.4444444444444444,\"#bd3786\"],[0.5555555555555556,\"#d8576b\"],[0.6666666666666666,\"#ed7953\"],[0.7777777777777778,\"#fb9f3a\"],[0.8888888888888888,\"#fdca26\"],[1.0,\"#f0f921\"]]}],\"heatmapgl\":[{\"type\":\"heatmapgl\",\"colorbar\":{\"outlinewidth\":0,\"ticks\":\"\"},\"colorscale\":[[0.0,\"#0d0887\"],[0.1111111111111111,\"#46039f\"],[0.2222222222222222,\"#7201a8\"],[0.3333333333333333,\"#9c179e\"],[0.4444444444444444,\"#bd3786\"],[0.5555555555555556,\"#d8576b\"],[0.6666666666666666,\"#ed7953\"],[0.7777777777777778,\"#fb9f3a\"],[0.8888888888888888,\"#fdca26\"],[1.0,\"#f0f921\"]]}],\"contourcarpet\":[{\"type\":\"contourcarpet\",\"colorbar\":{\"outlinewidth\":0,\"ticks\":\"\"}}],\"contour\":[{\"type\":\"contour\",\"colorbar\":{\"outlinewidth\":0,\"ticks\":\"\"},\"colorscale\":[[0.0,\"#0d0887\"],[0.1111111111111111,\"#46039f\"],[0.2222222222222222,\"#7201a8\"],[0.3333333333333333,\"#9c179e\"],[0.4444444444444444,\"#bd3786\"],[0.5555555555555556,\"#d8576b\"],[0.6666666666666666,\"#ed7953\"],[0.7777777777777778,\"#fb9f3a\"],[0.8888888888888888,\"#fdca26\"],[1.0,\"#f0f921\"]]}],\"surface\":[{\"type\":\"surface\",\"colorbar\":{\"outlinewidth\":0,\"ticks\":\"\"},\"colorscale\":[[0.0,\"#0d0887\"],[0.1111111111111111,\"#46039f\"],[0.2222222222222222,\"#7201a8\"],[0.3333333333333333,\"#9c179e\"],[0.4444444444444444,\"#bd3786\"],[0.5555555555555556,\"#d8576b\"],[0.6666666666666666,\"#ed7953\"],[0.7777777777777778,\"#fb9f3a\"],[0.8888888888888888,\"#fdca26\"],[1.0,\"#f0f921\"]]}],\"mesh3d\":[{\"type\":\"mesh3d\",\"colorbar\":{\"outlinewidth\":0,\"ticks\":\"\"}}],\"scatter\":[{\"fillpattern\":{\"fillmode\":\"overlay\",\"size\":10,\"solidity\":0.2},\"type\":\"scatter\"}],\"parcoords\":[{\"type\":\"parcoords\",\"line\":{\"colorbar\":{\"outlinewidth\":0,\"ticks\":\"\"}}}],\"scatterpolargl\":[{\"type\":\"scatterpolargl\",\"marker\":{\"colorbar\":{\"outlinewidth\":0,\"ticks\":\"\"}}}],\"bar\":[{\"error_x\":{\"color\":\"#2a3f5f\"},\"error_y\":{\"color\":\"#2a3f5f\"},\"marker\":{\"line\":{\"color\":\"#E5ECF6\",\"width\":0.5},\"pattern\":{\"fillmode\":\"overlay\",\"size\":10,\"solidity\":0.2}},\"type\":\"bar\"}],\"scattergeo\":[{\"type\":\"scattergeo\",\"marker\":{\"colorbar\":{\"outlinewidth\":0,\"ticks\":\"\"}}}],\"scatterpolar\":[{\"type\":\"scatterpolar\",\"marker\":{\"colorbar\":{\"outlinewidth\":0,\"ticks\":\"\"}}}],\"histogram\":[{\"marker\":{\"pattern\":{\"fillmode\":\"overlay\",\"size\":10,\"solidity\":0.2}},\"type\":\"histogram\"}],\"scattergl\":[{\"type\":\"scattergl\",\"marker\":{\"colorbar\":{\"outlinewidth\":0,\"ticks\":\"\"}}}],\"scatter3d\":[{\"type\":\"scatter3d\",\"line\":{\"colorbar\":{\"outlinewidth\":0,\"ticks\":\"\"}},\"marker\":{\"colorbar\":{\"outlinewidth\":0,\"ticks\":\"\"}}}],\"scattermapbox\":[{\"type\":\"scattermapbox\",\"marker\":{\"colorbar\":{\"outlinewidth\":0,\"ticks\":\"\"}}}],\"scatterternary\":[{\"type\":\"scatterternary\",\"marker\":{\"colorbar\":{\"outlinewidth\":0,\"ticks\":\"\"}}}],\"scattercarpet\":[{\"type\":\"scattercarpet\",\"marker\":{\"colorbar\":{\"outlinewidth\":0,\"ticks\":\"\"}}}],\"carpet\":[{\"aaxis\":{\"endlinecolor\":\"#2a3f5f\",\"gridcolor\":\"white\",\"linecolor\":\"white\",\"minorgridcolor\":\"white\",\"startlinecolor\":\"#2a3f5f\"},\"baxis\":{\"endlinecolor\":\"#2a3f5f\",\"gridcolor\":\"white\",\"linecolor\":\"white\",\"minorgridcolor\":\"white\",\"startlinecolor\":\"#2a3f5f\"},\"type\":\"carpet\"}],\"table\":[{\"cells\":{\"fill\":{\"color\":\"#EBF0F8\"},\"line\":{\"color\":\"white\"}},\"header\":{\"fill\":{\"color\":\"#C8D4E3\"},\"line\":{\"color\":\"white\"}},\"type\":\"table\"}],\"barpolar\":[{\"marker\":{\"line\":{\"color\":\"#E5ECF6\",\"width\":0.5},\"pattern\":{\"fillmode\":\"overlay\",\"size\":10,\"solidity\":0.2}},\"type\":\"barpolar\"}],\"pie\":[{\"automargin\":true,\"type\":\"pie\"}]},\"layout\":{\"autotypenumbers\":\"strict\",\"colorway\":[\"#636efa\",\"#EF553B\",\"#00cc96\",\"#ab63fa\",\"#FFA15A\",\"#19d3f3\",\"#FF6692\",\"#B6E880\",\"#FF97FF\",\"#FECB52\"],\"font\":{\"color\":\"#2a3f5f\"},\"hovermode\":\"closest\",\"hoverlabel\":{\"align\":\"left\"},\"paper_bgcolor\":\"white\",\"plot_bgcolor\":\"#E5ECF6\",\"polar\":{\"bgcolor\":\"#E5ECF6\",\"angularaxis\":{\"gridcolor\":\"white\",\"linecolor\":\"white\",\"ticks\":\"\"},\"radialaxis\":{\"gridcolor\":\"white\",\"linecolor\":\"white\",\"ticks\":\"\"}},\"ternary\":{\"bgcolor\":\"#E5ECF6\",\"aaxis\":{\"gridcolor\":\"white\",\"linecolor\":\"white\",\"ticks\":\"\"},\"baxis\":{\"gridcolor\":\"white\",\"linecolor\":\"white\",\"ticks\":\"\"},\"caxis\":{\"gridcolor\":\"white\",\"linecolor\":\"white\",\"ticks\":\"\"}},\"coloraxis\":{\"colorbar\":{\"outlinewidth\":0,\"ticks\":\"\"}},\"colorscale\":{\"sequential\":[[0.0,\"#0d0887\"],[0.1111111111111111,\"#46039f\"],[0.2222222222222222,\"#7201a8\"],[0.3333333333333333,\"#9c179e\"],[0.4444444444444444,\"#bd3786\"],[0.5555555555555556,\"#d8576b\"],[0.6666666666666666,\"#ed7953\"],[0.7777777777777778,\"#fb9f3a\"],[0.8888888888888888,\"#fdca26\"],[1.0,\"#f0f921\"]],\"sequentialminus\":[[0.0,\"#0d0887\"],[0.1111111111111111,\"#46039f\"],[0.2222222222222222,\"#7201a8\"],[0.3333333333333333,\"#9c179e\"],[0.4444444444444444,\"#bd3786\"],[0.5555555555555556,\"#d8576b\"],[0.6666666666666666,\"#ed7953\"],[0.7777777777777778,\"#fb9f3a\"],[0.8888888888888888,\"#fdca26\"],[1.0,\"#f0f921\"]],\"diverging\":[[0,\"#8e0152\"],[0.1,\"#c51b7d\"],[0.2,\"#de77ae\"],[0.3,\"#f1b6da\"],[0.4,\"#fde0ef\"],[0.5,\"#f7f7f7\"],[0.6,\"#e6f5d0\"],[0.7,\"#b8e186\"],[0.8,\"#7fbc41\"],[0.9,\"#4d9221\"],[1,\"#276419\"]]},\"xaxis\":{\"gridcolor\":\"white\",\"linecolor\":\"white\",\"ticks\":\"\",\"title\":{\"standoff\":15},\"zerolinecolor\":\"white\",\"automargin\":true,\"zerolinewidth\":2},\"yaxis\":{\"gridcolor\":\"white\",\"linecolor\":\"white\",\"ticks\":\"\",\"title\":{\"standoff\":15},\"zerolinecolor\":\"white\",\"automargin\":true,\"zerolinewidth\":2},\"scene\":{\"xaxis\":{\"backgroundcolor\":\"#E5ECF6\",\"gridcolor\":\"white\",\"linecolor\":\"white\",\"showbackground\":true,\"ticks\":\"\",\"zerolinecolor\":\"white\",\"gridwidth\":2},\"yaxis\":{\"backgroundcolor\":\"#E5ECF6\",\"gridcolor\":\"white\",\"linecolor\":\"white\",\"showbackground\":true,\"ticks\":\"\",\"zerolinecolor\":\"white\",\"gridwidth\":2},\"zaxis\":{\"backgroundcolor\":\"#E5ECF6\",\"gridcolor\":\"white\",\"linecolor\":\"white\",\"showbackground\":true,\"ticks\":\"\",\"zerolinecolor\":\"white\",\"gridwidth\":2}},\"shapedefaults\":{\"line\":{\"color\":\"#2a3f5f\"}},\"annotationdefaults\":{\"arrowcolor\":\"#2a3f5f\",\"arrowhead\":0,\"arrowwidth\":1},\"geo\":{\"bgcolor\":\"white\",\"landcolor\":\"#E5ECF6\",\"subunitcolor\":\"white\",\"showland\":true,\"showlakes\":true,\"lakecolor\":\"white\"},\"title\":{\"x\":0.05},\"mapbox\":{\"style\":\"light\"}}},\"xaxis\":{\"anchor\":\"y\",\"domain\":[0.0,1.0],\"title\":{\"text\":\"Rango Etario\"}},\"yaxis\":{\"anchor\":\"x\",\"domain\":[0.0,0.46499999999999997],\"title\":{\"text\":\"Cantidad de Consultas\"}},\"xaxis2\":{\"anchor\":\"y2\",\"domain\":[0.0,1.0],\"matches\":\"x\",\"showticklabels\":false,\"title\":{\"text\":\"Rango Etario\"}},\"yaxis2\":{\"anchor\":\"x2\",\"domain\":[0.5349999999999999,0.9999999999999999],\"matches\":\"y\",\"title\":{\"text\":\"Cantidad de Consultas\"}},\"annotations\":[{\"font\":{},\"showarrow\":false,\"text\":\"barrio_popular=si\",\"x\":0.5,\"xanchor\":\"center\",\"xref\":\"paper\",\"y\":0.46499999999999997,\"yanchor\":\"bottom\",\"yref\":\"paper\"},{\"font\":{},\"showarrow\":false,\"text\":\"barrio_popular=no\",\"x\":0.5,\"xanchor\":\"center\",\"xref\":\"paper\",\"y\":0.9999999999999999,\"yanchor\":\"bottom\",\"yref\":\"paper\"}],\"legend\":{\"title\":{\"text\":\"barrio_popular\"},\"tracegroupgap\":0},\"title\":{\"text\":\"Cantidad de Consultas por Rango Etario y Tipo de Barrio\"},\"barmode\":\"relative\"},                        {\"responsive\": true}                    ).then(function(){\n",
       "                            \n",
       "var gd = document.getElementById('4f5365e7-5457-4863-a0df-07f4541f603c');\n",
       "var x = new MutationObserver(function (mutations, observer) {{\n",
       "        var display = window.getComputedStyle(gd).display;\n",
       "        if (!display || display === 'none') {{\n",
       "            console.log([gd, 'removed!']);\n",
       "            Plotly.purge(gd);\n",
       "            observer.disconnect();\n",
       "        }}\n",
       "}});\n",
       "\n",
       "// Listen for the removal of the full notebook cells\n",
       "var notebookContainer = gd.closest('#notebook-container');\n",
       "if (notebookContainer) {{\n",
       "    x.observe(notebookContainer, {childList: true});\n",
       "}}\n",
       "\n",
       "// Listen for the clearing of the current output cell\n",
       "var outputEl = gd.closest('.output');\n",
       "if (outputEl) {{\n",
       "    x.observe(outputEl, {childList: true});\n",
       "}}\n",
       "\n",
       "                        })                };                });            </script>        </div>"
      ]
     },
     "metadata": {},
     "output_type": "display_data"
    }
   ],
   "source": [
    "import plotly.express as px\n",
    "\n",
    "# Crear el gráfico de barras agrupadas\n",
    "fig = px.bar(atenciones_rango_etario, x='rango_etario_normalizado', y='consulta_cantidad',\n",
    "             color='barrio_popular',\n",
    "             title='Cantidad de Consultas por Rango Etario y Tipo de Barrio',\n",
    "             labels={'rango_etario_normalizado': 'Rango Etario', 'consulta_cantidad': 'Cantidad de Consultas'},\n",
    "             category_orders={\"barrio_popular\": [\"no\", \"si\"]},  # Ordenar las categorías\n",
    "             facet_col='barrio_popular',  # Colocar en columnas diferentes\n",
    "             facet_col_wrap=1,  # Una columna por grupo\n",
    "            )\n",
    "\n",
    "fig.update_xaxes(title_text='Rango Etario')\n",
    "fig.update_yaxes(title_text='Cantidad de Consultas')\n",
    "\n",
    "# Mostrar el gráfico interactivo\n",
    "fig.show()\n"
   ]
  },
  {
   "cell_type": "code",
   "execution_count": null,
   "id": "2dec811f",
   "metadata": {},
   "outputs": [],
   "source": []
  },
  {
   "cell_type": "code",
   "execution_count": 111,
   "id": "ba246e5c",
   "metadata": {},
   "outputs": [
    {
     "data": {
      "text/html": [
       "<div>\n",
       "<style scoped>\n",
       "    .dataframe tbody tr th:only-of-type {\n",
       "        vertical-align: middle;\n",
       "    }\n",
       "\n",
       "    .dataframe tbody tr th {\n",
       "        vertical-align: top;\n",
       "    }\n",
       "\n",
       "    .dataframe thead th {\n",
       "        text-align: right;\n",
       "    }\n",
       "</style>\n",
       "<table border=\"1\" class=\"dataframe\">\n",
       "  <thead>\n",
       "    <tr style=\"text-align: right;\">\n",
       "      <th></th>\n",
       "      <th>detalle</th>\n",
       "      <th>barrio_popular</th>\n",
       "      <th>consulta_cantidad</th>\n",
       "    </tr>\n",
       "  </thead>\n",
       "  <tbody>\n",
       "    <tr>\n",
       "      <th>0</th>\n",
       "      <td>#¡REF!</td>\n",
       "      <td>no</td>\n",
       "      <td>8.0</td>\n",
       "    </tr>\n",
       "    <tr>\n",
       "      <th>1</th>\n",
       "      <td>APLICACION DE FLUOR</td>\n",
       "      <td>no</td>\n",
       "      <td>289.0</td>\n",
       "    </tr>\n",
       "    <tr>\n",
       "      <th>2</th>\n",
       "      <td>APLICACION DE FLUOR</td>\n",
       "      <td>si</td>\n",
       "      <td>843.0</td>\n",
       "    </tr>\n",
       "    <tr>\n",
       "      <th>3</th>\n",
       "      <td>BIOPULPECTOMIA PARCIAL</td>\n",
       "      <td>no</td>\n",
       "      <td>19.0</td>\n",
       "    </tr>\n",
       "    <tr>\n",
       "      <th>4</th>\n",
       "      <td>BIOPULPECTOMIA PARCIAL</td>\n",
       "      <td>si</td>\n",
       "      <td>183.0</td>\n",
       "    </tr>\n",
       "    <tr>\n",
       "      <th>5</th>\n",
       "      <td>CONSULTA-ADULTO (Desde 15 anios)</td>\n",
       "      <td>no</td>\n",
       "      <td>7097.0</td>\n",
       "    </tr>\n",
       "    <tr>\n",
       "      <th>6</th>\n",
       "      <td>CONSULTA-ADULTO (Desde 15 anios)</td>\n",
       "      <td>si</td>\n",
       "      <td>5423.0</td>\n",
       "    </tr>\n",
       "    <tr>\n",
       "      <th>7</th>\n",
       "      <td>CONSULTA-ADULTO (Desde 15 anos)</td>\n",
       "      <td>no</td>\n",
       "      <td>3665.0</td>\n",
       "    </tr>\n",
       "    <tr>\n",
       "      <th>8</th>\n",
       "      <td>CONSULTA-ADULTO (Desde 15 anos)</td>\n",
       "      <td>si</td>\n",
       "      <td>4953.0</td>\n",
       "    </tr>\n",
       "    <tr>\n",
       "      <th>9</th>\n",
       "      <td>CONSULTAS FICHADAS Y MOTIVACION (NINOS hasta 1...</td>\n",
       "      <td>no</td>\n",
       "      <td>1187.0</td>\n",
       "    </tr>\n",
       "    <tr>\n",
       "      <th>10</th>\n",
       "      <td>CONSULTAS FICHADAS Y MOTIVACION (NINOS hasta 1...</td>\n",
       "      <td>si</td>\n",
       "      <td>1880.0</td>\n",
       "    </tr>\n",
       "    <tr>\n",
       "      <th>11</th>\n",
       "      <td>CONSULTAS FICHADAS Y MOTIVACION (ninios hasta ...</td>\n",
       "      <td>no</td>\n",
       "      <td>3789.0</td>\n",
       "    </tr>\n",
       "    <tr>\n",
       "      <th>12</th>\n",
       "      <td>CONSULTAS FICHADAS Y MOTIVACION (ninios hasta ...</td>\n",
       "      <td>si</td>\n",
       "      <td>2612.0</td>\n",
       "    </tr>\n",
       "    <tr>\n",
       "      <th>13</th>\n",
       "      <td>DERIVACION</td>\n",
       "      <td>no</td>\n",
       "      <td>205.0</td>\n",
       "    </tr>\n",
       "    <tr>\n",
       "      <th>14</th>\n",
       "      <td>DERIVACION</td>\n",
       "      <td>si</td>\n",
       "      <td>367.0</td>\n",
       "    </tr>\n",
       "    <tr>\n",
       "      <th>15</th>\n",
       "      <td>DETENCION, CONTROL PLACA BACTERIANA Y ENS</td>\n",
       "      <td>no</td>\n",
       "      <td>1868.0</td>\n",
       "    </tr>\n",
       "    <tr>\n",
       "      <th>16</th>\n",
       "      <td>DETENCION, CONTROL PLACA BACTERIANA Y ENS</td>\n",
       "      <td>si</td>\n",
       "      <td>2408.0</td>\n",
       "    </tr>\n",
       "    <tr>\n",
       "      <th>17</th>\n",
       "      <td>EXTRACCION DENTARIA</td>\n",
       "      <td>no</td>\n",
       "      <td>4783.0</td>\n",
       "    </tr>\n",
       "    <tr>\n",
       "      <th>18</th>\n",
       "      <td>EXTRACCION DENTARIA</td>\n",
       "      <td>si</td>\n",
       "      <td>6697.0</td>\n",
       "    </tr>\n",
       "    <tr>\n",
       "      <th>19</th>\n",
       "      <td>EXTRACION DIENTES CON RETENCION OSEA</td>\n",
       "      <td>no</td>\n",
       "      <td>1.0</td>\n",
       "    </tr>\n",
       "    <tr>\n",
       "      <th>20</th>\n",
       "      <td>EXTRACION DIENTES CON RETENCION osEA</td>\n",
       "      <td>no</td>\n",
       "      <td>4.0</td>\n",
       "    </tr>\n",
       "    <tr>\n",
       "      <th>21</th>\n",
       "      <td>FOTOCURADO ANTERIORES Y POSTERIORES</td>\n",
       "      <td>no</td>\n",
       "      <td>2387.0</td>\n",
       "    </tr>\n",
       "    <tr>\n",
       "      <th>22</th>\n",
       "      <td>FOTOCURADO ANTERIORES Y POSTERIORES</td>\n",
       "      <td>si</td>\n",
       "      <td>2562.0</td>\n",
       "    </tr>\n",
       "    <tr>\n",
       "      <th>23</th>\n",
       "      <td>FOTOCURADO ANTERIORES Y PosTERIORES</td>\n",
       "      <td>no</td>\n",
       "      <td>2285.0</td>\n",
       "    </tr>\n",
       "    <tr>\n",
       "      <th>24</th>\n",
       "      <td>FOTOCURADO ANTERIORES Y PosTERIORES</td>\n",
       "      <td>si</td>\n",
       "      <td>2109.0</td>\n",
       "    </tr>\n",
       "    <tr>\n",
       "      <th>25</th>\n",
       "      <td>INACTIVACION DE CARIES</td>\n",
       "      <td>no</td>\n",
       "      <td>1529.0</td>\n",
       "    </tr>\n",
       "    <tr>\n",
       "      <th>26</th>\n",
       "      <td>INACTIVACION DE CARIES</td>\n",
       "      <td>si</td>\n",
       "      <td>4282.0</td>\n",
       "    </tr>\n",
       "    <tr>\n",
       "      <th>27</th>\n",
       "      <td>PROT. PAR ACRIL INFERIOR</td>\n",
       "      <td>no</td>\n",
       "      <td>15.0</td>\n",
       "    </tr>\n",
       "    <tr>\n",
       "      <th>28</th>\n",
       "      <td>PROT. PAR ACRIL SUPERIOR</td>\n",
       "      <td>no</td>\n",
       "      <td>41.0</td>\n",
       "    </tr>\n",
       "    <tr>\n",
       "      <th>29</th>\n",
       "      <td>PROT. PAR ACRIL SUPERIOR</td>\n",
       "      <td>si</td>\n",
       "      <td>265.0</td>\n",
       "    </tr>\n",
       "    <tr>\n",
       "      <th>30</th>\n",
       "      <td>RADIOGRAFIA PERIAPICAL</td>\n",
       "      <td>no</td>\n",
       "      <td>205.0</td>\n",
       "    </tr>\n",
       "    <tr>\n",
       "      <th>31</th>\n",
       "      <td>RADIOGRAFIA PERIAPICAL</td>\n",
       "      <td>si</td>\n",
       "      <td>109.0</td>\n",
       "    </tr>\n",
       "    <tr>\n",
       "      <th>32</th>\n",
       "      <td>SELLANTES DE PUNTOS FISURAS</td>\n",
       "      <td>no</td>\n",
       "      <td>42.0</td>\n",
       "    </tr>\n",
       "    <tr>\n",
       "      <th>33</th>\n",
       "      <td>SELLANTES DE PUNTOS FISURAS</td>\n",
       "      <td>si</td>\n",
       "      <td>268.0</td>\n",
       "    </tr>\n",
       "    <tr>\n",
       "      <th>34</th>\n",
       "      <td>SELLANTES DE PUNTos FISURAS</td>\n",
       "      <td>no</td>\n",
       "      <td>110.0</td>\n",
       "    </tr>\n",
       "    <tr>\n",
       "      <th>35</th>\n",
       "      <td>SELLANTES DE PUNTos FISURAS</td>\n",
       "      <td>si</td>\n",
       "      <td>292.0</td>\n",
       "    </tr>\n",
       "    <tr>\n",
       "      <th>36</th>\n",
       "      <td>TALLER DE PROMOCION Y PREVENCION</td>\n",
       "      <td>no</td>\n",
       "      <td>178.0</td>\n",
       "    </tr>\n",
       "    <tr>\n",
       "      <th>37</th>\n",
       "      <td>TALLER DE PROMOCION Y PREVENCION</td>\n",
       "      <td>si</td>\n",
       "      <td>1472.0</td>\n",
       "    </tr>\n",
       "    <tr>\n",
       "      <th>38</th>\n",
       "      <td>TARTREC Y CEPILLADO MECANICO</td>\n",
       "      <td>no</td>\n",
       "      <td>621.0</td>\n",
       "    </tr>\n",
       "    <tr>\n",
       "      <th>39</th>\n",
       "      <td>TARTREC Y CEPILLADO MECANICO</td>\n",
       "      <td>si</td>\n",
       "      <td>784.0</td>\n",
       "    </tr>\n",
       "    <tr>\n",
       "      <th>40</th>\n",
       "      <td>TARTREC Y CEPILLADO MECAniCO</td>\n",
       "      <td>no</td>\n",
       "      <td>712.0</td>\n",
       "    </tr>\n",
       "    <tr>\n",
       "      <th>41</th>\n",
       "      <td>TARTREC Y CEPILLADO MECAniCO</td>\n",
       "      <td>si</td>\n",
       "      <td>1151.0</td>\n",
       "    </tr>\n",
       "    <tr>\n",
       "      <th>42</th>\n",
       "      <td>TRATAMIENTO DE DIENTES PRIMARIOS CON FORM</td>\n",
       "      <td>no</td>\n",
       "      <td>61.0</td>\n",
       "    </tr>\n",
       "    <tr>\n",
       "      <th>43</th>\n",
       "      <td>TRATAMIENTO DE DIENTES PRIMARIOS CON FORM</td>\n",
       "      <td>si</td>\n",
       "      <td>97.0</td>\n",
       "    </tr>\n",
       "    <tr>\n",
       "      <th>44</th>\n",
       "      <td>TRATAMIENTO DE DIENTES PRIMARIos CON FORM</td>\n",
       "      <td>no</td>\n",
       "      <td>65.0</td>\n",
       "    </tr>\n",
       "    <tr>\n",
       "      <th>45</th>\n",
       "      <td>TRATAMIENTO DE DIENTES PRIMARIos CON FORM</td>\n",
       "      <td>si</td>\n",
       "      <td>95.0</td>\n",
       "    </tr>\n",
       "    <tr>\n",
       "      <th>46</th>\n",
       "      <td>TRATAMIENTO MULTIRRACIDULAR</td>\n",
       "      <td>no</td>\n",
       "      <td>26.0</td>\n",
       "    </tr>\n",
       "    <tr>\n",
       "      <th>47</th>\n",
       "      <td>TRATAMIENTO MULTIRRACIDULAR</td>\n",
       "      <td>si</td>\n",
       "      <td>2.0</td>\n",
       "    </tr>\n",
       "    <tr>\n",
       "      <th>48</th>\n",
       "      <td>TRATAMIENTO UNIRRADICULAR</td>\n",
       "      <td>no</td>\n",
       "      <td>43.0</td>\n",
       "    </tr>\n",
       "    <tr>\n",
       "      <th>49</th>\n",
       "      <td>TRATAMIENTO UNIRRADICULAR</td>\n",
       "      <td>si</td>\n",
       "      <td>60.0</td>\n",
       "    </tr>\n",
       "    <tr>\n",
       "      <th>50</th>\n",
       "      <td>TRATAMIENTO UniRRADICULAR</td>\n",
       "      <td>no</td>\n",
       "      <td>10.0</td>\n",
       "    </tr>\n",
       "    <tr>\n",
       "      <th>51</th>\n",
       "      <td>TRATAMIENTO UniRRADICULAR</td>\n",
       "      <td>si</td>\n",
       "      <td>34.0</td>\n",
       "    </tr>\n",
       "    <tr>\n",
       "      <th>52</th>\n",
       "      <td>URGENCIA</td>\n",
       "      <td>no</td>\n",
       "      <td>9328.0</td>\n",
       "    </tr>\n",
       "    <tr>\n",
       "      <th>53</th>\n",
       "      <td>URGENCIA</td>\n",
       "      <td>si</td>\n",
       "      <td>7611.0</td>\n",
       "    </tr>\n",
       "  </tbody>\n",
       "</table>\n",
       "</div>"
      ],
      "text/plain": [
       "                                              detalle barrio_popular  \\\n",
       "0                                              #¡REF!             no   \n",
       "1                                 APLICACION DE FLUOR             no   \n",
       "2                                 APLICACION DE FLUOR             si   \n",
       "3                              BIOPULPECTOMIA PARCIAL             no   \n",
       "4                              BIOPULPECTOMIA PARCIAL             si   \n",
       "5                    CONSULTA-ADULTO (Desde 15 anios)             no   \n",
       "6                    CONSULTA-ADULTO (Desde 15 anios)             si   \n",
       "7                     CONSULTA-ADULTO (Desde 15 anos)             no   \n",
       "8                     CONSULTA-ADULTO (Desde 15 anos)             si   \n",
       "9   CONSULTAS FICHADAS Y MOTIVACION (NINOS hasta 1...             no   \n",
       "10  CONSULTAS FICHADAS Y MOTIVACION (NINOS hasta 1...             si   \n",
       "11  CONSULTAS FICHADAS Y MOTIVACION (ninios hasta ...             no   \n",
       "12  CONSULTAS FICHADAS Y MOTIVACION (ninios hasta ...             si   \n",
       "13                                         DERIVACION             no   \n",
       "14                                         DERIVACION             si   \n",
       "15          DETENCION, CONTROL PLACA BACTERIANA Y ENS             no   \n",
       "16          DETENCION, CONTROL PLACA BACTERIANA Y ENS             si   \n",
       "17                                EXTRACCION DENTARIA             no   \n",
       "18                                EXTRACCION DENTARIA             si   \n",
       "19               EXTRACION DIENTES CON RETENCION OSEA             no   \n",
       "20               EXTRACION DIENTES CON RETENCION osEA             no   \n",
       "21                FOTOCURADO ANTERIORES Y POSTERIORES             no   \n",
       "22                FOTOCURADO ANTERIORES Y POSTERIORES             si   \n",
       "23                FOTOCURADO ANTERIORES Y PosTERIORES             no   \n",
       "24                FOTOCURADO ANTERIORES Y PosTERIORES             si   \n",
       "25                             INACTIVACION DE CARIES             no   \n",
       "26                             INACTIVACION DE CARIES             si   \n",
       "27                           PROT. PAR ACRIL INFERIOR             no   \n",
       "28                           PROT. PAR ACRIL SUPERIOR             no   \n",
       "29                           PROT. PAR ACRIL SUPERIOR             si   \n",
       "30                             RADIOGRAFIA PERIAPICAL             no   \n",
       "31                             RADIOGRAFIA PERIAPICAL             si   \n",
       "32                        SELLANTES DE PUNTOS FISURAS             no   \n",
       "33                        SELLANTES DE PUNTOS FISURAS             si   \n",
       "34                        SELLANTES DE PUNTos FISURAS             no   \n",
       "35                        SELLANTES DE PUNTos FISURAS             si   \n",
       "36                   TALLER DE PROMOCION Y PREVENCION             no   \n",
       "37                   TALLER DE PROMOCION Y PREVENCION             si   \n",
       "38                       TARTREC Y CEPILLADO MECANICO             no   \n",
       "39                       TARTREC Y CEPILLADO MECANICO             si   \n",
       "40                       TARTREC Y CEPILLADO MECAniCO             no   \n",
       "41                       TARTREC Y CEPILLADO MECAniCO             si   \n",
       "42          TRATAMIENTO DE DIENTES PRIMARIOS CON FORM             no   \n",
       "43          TRATAMIENTO DE DIENTES PRIMARIOS CON FORM             si   \n",
       "44          TRATAMIENTO DE DIENTES PRIMARIos CON FORM             no   \n",
       "45          TRATAMIENTO DE DIENTES PRIMARIos CON FORM             si   \n",
       "46                        TRATAMIENTO MULTIRRACIDULAR             no   \n",
       "47                        TRATAMIENTO MULTIRRACIDULAR             si   \n",
       "48                          TRATAMIENTO UNIRRADICULAR             no   \n",
       "49                          TRATAMIENTO UNIRRADICULAR             si   \n",
       "50                          TRATAMIENTO UniRRADICULAR             no   \n",
       "51                          TRATAMIENTO UniRRADICULAR             si   \n",
       "52                                           URGENCIA             no   \n",
       "53                                           URGENCIA             si   \n",
       "\n",
       "    consulta_cantidad  \n",
       "0                 8.0  \n",
       "1               289.0  \n",
       "2               843.0  \n",
       "3                19.0  \n",
       "4               183.0  \n",
       "5              7097.0  \n",
       "6              5423.0  \n",
       "7              3665.0  \n",
       "8              4953.0  \n",
       "9              1187.0  \n",
       "10             1880.0  \n",
       "11             3789.0  \n",
       "12             2612.0  \n",
       "13              205.0  \n",
       "14              367.0  \n",
       "15             1868.0  \n",
       "16             2408.0  \n",
       "17             4783.0  \n",
       "18             6697.0  \n",
       "19                1.0  \n",
       "20                4.0  \n",
       "21             2387.0  \n",
       "22             2562.0  \n",
       "23             2285.0  \n",
       "24             2109.0  \n",
       "25             1529.0  \n",
       "26             4282.0  \n",
       "27               15.0  \n",
       "28               41.0  \n",
       "29              265.0  \n",
       "30              205.0  \n",
       "31              109.0  \n",
       "32               42.0  \n",
       "33              268.0  \n",
       "34              110.0  \n",
       "35              292.0  \n",
       "36              178.0  \n",
       "37             1472.0  \n",
       "38              621.0  \n",
       "39              784.0  \n",
       "40              712.0  \n",
       "41             1151.0  \n",
       "42               61.0  \n",
       "43               97.0  \n",
       "44               65.0  \n",
       "45               95.0  \n",
       "46               26.0  \n",
       "47                2.0  \n",
       "48               43.0  \n",
       "49               60.0  \n",
       "50               10.0  \n",
       "51               34.0  \n",
       "52             9328.0  \n",
       "53             7611.0  "
      ]
     },
     "execution_count": 111,
     "metadata": {},
     "output_type": "execute_result"
    }
   ],
   "source": [
    "# Agrupar los datos por 'detalle' y sumar la 'consulta_cantidad'\n",
    "atenciones_detalle = df.groupby(['detalle', 'barrio_popular'])['consulta_cantidad'].sum().reset_index()\n",
    "\n",
    "atenciones_detalle"
   ]
  },
  {
   "cell_type": "code",
   "execution_count": 112,
   "id": "28d3d0bc",
   "metadata": {},
   "outputs": [
    {
     "data": {
      "application/vnd.plotly.v1+json": {
       "config": {
        "plotlyServerURL": "https://plot.ly"
       },
       "data": [
        {
         "alignmentgroup": "True",
         "hovertemplate": "barrio_popular=no<br>Detalle=%{x}<br>Cantidad de Consultas=%{y}<extra></extra>",
         "legendgroup": "no",
         "marker": {
          "color": "#636efa",
          "pattern": {
           "shape": ""
          }
         },
         "name": "no",
         "offsetgroup": "no",
         "orientation": "v",
         "showlegend": true,
         "textposition": "outside",
         "texttemplate": "%{y}",
         "type": "bar",
         "x": [
          "APLICACION DE FLUOR",
          "BIOPULPECTOMIA PARCIAL",
          "CONSULTA-ADULTO (Desde 15 anios)",
          "CONSULTA-ADULTO (Desde 15 anos)",
          "CONSULTAS FICHADAS Y MOTIVACION (NINOS hasta 14 anos)",
          "CONSULTAS FICHADAS Y MOTIVACION (ninios hasta 14 anios)",
          "DERIVACION",
          "DETENCION, CONTROL PLACA BACTERIANA Y ENS",
          "EXTRACCION DENTARIA",
          "EXTRACION DIENTES CON RETENCION OSEA",
          "EXTRACION DIENTES CON RETENCION osEA",
          "FOTOCURADO ANTERIORES Y POSTERIORES",
          "FOTOCURADO ANTERIORES Y PosTERIORES",
          "INACTIVACION DE CARIES",
          "PROT. PAR ACRIL INFERIOR",
          "PROT. PAR ACRIL SUPERIOR",
          "RADIOGRAFIA PERIAPICAL",
          "SELLANTES DE PUNTOS FISURAS",
          "SELLANTES DE PUNTos FISURAS",
          "TALLER DE PROMOCION Y PREVENCION",
          "TARTREC Y CEPILLADO MECANICO",
          "TARTREC Y CEPILLADO MECAniCO",
          "TRATAMIENTO DE DIENTES PRIMARIOS CON FORM",
          "TRATAMIENTO DE DIENTES PRIMARIos CON FORM",
          "TRATAMIENTO MULTIRRACIDULAR",
          "TRATAMIENTO UNIRRADICULAR",
          "TRATAMIENTO UniRRADICULAR",
          "URGENCIA"
         ],
         "xaxis": "x",
         "y": [
          289,
          19,
          7097,
          3665,
          1187,
          3789,
          205,
          1868,
          4783,
          1,
          4,
          2387,
          2285,
          1529,
          15,
          41,
          205,
          42,
          110,
          178,
          621,
          712,
          61,
          65,
          26,
          43,
          10,
          9328
         ],
         "yaxis": "y"
        },
        {
         "alignmentgroup": "True",
         "hovertemplate": "barrio_popular=si<br>Detalle=%{x}<br>Cantidad de Consultas=%{y}<extra></extra>",
         "legendgroup": "si",
         "marker": {
          "color": "#EF553B",
          "pattern": {
           "shape": ""
          }
         },
         "name": "si",
         "offsetgroup": "si",
         "orientation": "v",
         "showlegend": true,
         "textposition": "outside",
         "texttemplate": "%{y}",
         "type": "bar",
         "x": [
          "APLICACION DE FLUOR",
          "BIOPULPECTOMIA PARCIAL",
          "CONSULTA-ADULTO (Desde 15 anios)",
          "CONSULTA-ADULTO (Desde 15 anos)",
          "CONSULTAS FICHADAS Y MOTIVACION (NINOS hasta 14 anos)",
          "CONSULTAS FICHADAS Y MOTIVACION (ninios hasta 14 anios)",
          "DERIVACION",
          "DETENCION, CONTROL PLACA BACTERIANA Y ENS",
          "EXTRACCION DENTARIA",
          "FOTOCURADO ANTERIORES Y POSTERIORES",
          "FOTOCURADO ANTERIORES Y PosTERIORES",
          "INACTIVACION DE CARIES",
          "PROT. PAR ACRIL SUPERIOR",
          "RADIOGRAFIA PERIAPICAL",
          "SELLANTES DE PUNTOS FISURAS",
          "SELLANTES DE PUNTos FISURAS",
          "TALLER DE PROMOCION Y PREVENCION",
          "TARTREC Y CEPILLADO MECANICO",
          "TARTREC Y CEPILLADO MECAniCO",
          "TRATAMIENTO DE DIENTES PRIMARIOS CON FORM",
          "TRATAMIENTO DE DIENTES PRIMARIos CON FORM",
          "TRATAMIENTO MULTIRRACIDULAR",
          "TRATAMIENTO UNIRRADICULAR",
          "TRATAMIENTO UniRRADICULAR",
          "URGENCIA"
         ],
         "xaxis": "x",
         "y": [
          843,
          183,
          5423,
          4953,
          1880,
          2612,
          367,
          2408,
          6697,
          2562,
          2109,
          4282,
          265,
          109,
          268,
          292,
          1472,
          784,
          1151,
          97,
          95,
          2,
          60,
          34,
          7611
         ],
         "yaxis": "y"
        }
       ],
       "layout": {
        "barmode": "relative",
        "legend": {
         "title": {
          "text": "barrio_popular"
         },
         "tracegroupgap": 0
        },
        "template": {
         "data": {
          "bar": [
           {
            "error_x": {
             "color": "#2a3f5f"
            },
            "error_y": {
             "color": "#2a3f5f"
            },
            "marker": {
             "line": {
              "color": "#E5ECF6",
              "width": 0.5
             },
             "pattern": {
              "fillmode": "overlay",
              "size": 10,
              "solidity": 0.2
             }
            },
            "type": "bar"
           }
          ],
          "barpolar": [
           {
            "marker": {
             "line": {
              "color": "#E5ECF6",
              "width": 0.5
             },
             "pattern": {
              "fillmode": "overlay",
              "size": 10,
              "solidity": 0.2
             }
            },
            "type": "barpolar"
           }
          ],
          "carpet": [
           {
            "aaxis": {
             "endlinecolor": "#2a3f5f",
             "gridcolor": "white",
             "linecolor": "white",
             "minorgridcolor": "white",
             "startlinecolor": "#2a3f5f"
            },
            "baxis": {
             "endlinecolor": "#2a3f5f",
             "gridcolor": "white",
             "linecolor": "white",
             "minorgridcolor": "white",
             "startlinecolor": "#2a3f5f"
            },
            "type": "carpet"
           }
          ],
          "choropleth": [
           {
            "colorbar": {
             "outlinewidth": 0,
             "ticks": ""
            },
            "type": "choropleth"
           }
          ],
          "contour": [
           {
            "colorbar": {
             "outlinewidth": 0,
             "ticks": ""
            },
            "colorscale": [
             [
              0,
              "#0d0887"
             ],
             [
              0.1111111111111111,
              "#46039f"
             ],
             [
              0.2222222222222222,
              "#7201a8"
             ],
             [
              0.3333333333333333,
              "#9c179e"
             ],
             [
              0.4444444444444444,
              "#bd3786"
             ],
             [
              0.5555555555555556,
              "#d8576b"
             ],
             [
              0.6666666666666666,
              "#ed7953"
             ],
             [
              0.7777777777777778,
              "#fb9f3a"
             ],
             [
              0.8888888888888888,
              "#fdca26"
             ],
             [
              1,
              "#f0f921"
             ]
            ],
            "type": "contour"
           }
          ],
          "contourcarpet": [
           {
            "colorbar": {
             "outlinewidth": 0,
             "ticks": ""
            },
            "type": "contourcarpet"
           }
          ],
          "heatmap": [
           {
            "colorbar": {
             "outlinewidth": 0,
             "ticks": ""
            },
            "colorscale": [
             [
              0,
              "#0d0887"
             ],
             [
              0.1111111111111111,
              "#46039f"
             ],
             [
              0.2222222222222222,
              "#7201a8"
             ],
             [
              0.3333333333333333,
              "#9c179e"
             ],
             [
              0.4444444444444444,
              "#bd3786"
             ],
             [
              0.5555555555555556,
              "#d8576b"
             ],
             [
              0.6666666666666666,
              "#ed7953"
             ],
             [
              0.7777777777777778,
              "#fb9f3a"
             ],
             [
              0.8888888888888888,
              "#fdca26"
             ],
             [
              1,
              "#f0f921"
             ]
            ],
            "type": "heatmap"
           }
          ],
          "heatmapgl": [
           {
            "colorbar": {
             "outlinewidth": 0,
             "ticks": ""
            },
            "colorscale": [
             [
              0,
              "#0d0887"
             ],
             [
              0.1111111111111111,
              "#46039f"
             ],
             [
              0.2222222222222222,
              "#7201a8"
             ],
             [
              0.3333333333333333,
              "#9c179e"
             ],
             [
              0.4444444444444444,
              "#bd3786"
             ],
             [
              0.5555555555555556,
              "#d8576b"
             ],
             [
              0.6666666666666666,
              "#ed7953"
             ],
             [
              0.7777777777777778,
              "#fb9f3a"
             ],
             [
              0.8888888888888888,
              "#fdca26"
             ],
             [
              1,
              "#f0f921"
             ]
            ],
            "type": "heatmapgl"
           }
          ],
          "histogram": [
           {
            "marker": {
             "pattern": {
              "fillmode": "overlay",
              "size": 10,
              "solidity": 0.2
             }
            },
            "type": "histogram"
           }
          ],
          "histogram2d": [
           {
            "colorbar": {
             "outlinewidth": 0,
             "ticks": ""
            },
            "colorscale": [
             [
              0,
              "#0d0887"
             ],
             [
              0.1111111111111111,
              "#46039f"
             ],
             [
              0.2222222222222222,
              "#7201a8"
             ],
             [
              0.3333333333333333,
              "#9c179e"
             ],
             [
              0.4444444444444444,
              "#bd3786"
             ],
             [
              0.5555555555555556,
              "#d8576b"
             ],
             [
              0.6666666666666666,
              "#ed7953"
             ],
             [
              0.7777777777777778,
              "#fb9f3a"
             ],
             [
              0.8888888888888888,
              "#fdca26"
             ],
             [
              1,
              "#f0f921"
             ]
            ],
            "type": "histogram2d"
           }
          ],
          "histogram2dcontour": [
           {
            "colorbar": {
             "outlinewidth": 0,
             "ticks": ""
            },
            "colorscale": [
             [
              0,
              "#0d0887"
             ],
             [
              0.1111111111111111,
              "#46039f"
             ],
             [
              0.2222222222222222,
              "#7201a8"
             ],
             [
              0.3333333333333333,
              "#9c179e"
             ],
             [
              0.4444444444444444,
              "#bd3786"
             ],
             [
              0.5555555555555556,
              "#d8576b"
             ],
             [
              0.6666666666666666,
              "#ed7953"
             ],
             [
              0.7777777777777778,
              "#fb9f3a"
             ],
             [
              0.8888888888888888,
              "#fdca26"
             ],
             [
              1,
              "#f0f921"
             ]
            ],
            "type": "histogram2dcontour"
           }
          ],
          "mesh3d": [
           {
            "colorbar": {
             "outlinewidth": 0,
             "ticks": ""
            },
            "type": "mesh3d"
           }
          ],
          "parcoords": [
           {
            "line": {
             "colorbar": {
              "outlinewidth": 0,
              "ticks": ""
             }
            },
            "type": "parcoords"
           }
          ],
          "pie": [
           {
            "automargin": true,
            "type": "pie"
           }
          ],
          "scatter": [
           {
            "fillpattern": {
             "fillmode": "overlay",
             "size": 10,
             "solidity": 0.2
            },
            "type": "scatter"
           }
          ],
          "scatter3d": [
           {
            "line": {
             "colorbar": {
              "outlinewidth": 0,
              "ticks": ""
             }
            },
            "marker": {
             "colorbar": {
              "outlinewidth": 0,
              "ticks": ""
             }
            },
            "type": "scatter3d"
           }
          ],
          "scattercarpet": [
           {
            "marker": {
             "colorbar": {
              "outlinewidth": 0,
              "ticks": ""
             }
            },
            "type": "scattercarpet"
           }
          ],
          "scattergeo": [
           {
            "marker": {
             "colorbar": {
              "outlinewidth": 0,
              "ticks": ""
             }
            },
            "type": "scattergeo"
           }
          ],
          "scattergl": [
           {
            "marker": {
             "colorbar": {
              "outlinewidth": 0,
              "ticks": ""
             }
            },
            "type": "scattergl"
           }
          ],
          "scattermapbox": [
           {
            "marker": {
             "colorbar": {
              "outlinewidth": 0,
              "ticks": ""
             }
            },
            "type": "scattermapbox"
           }
          ],
          "scatterpolar": [
           {
            "marker": {
             "colorbar": {
              "outlinewidth": 0,
              "ticks": ""
             }
            },
            "type": "scatterpolar"
           }
          ],
          "scatterpolargl": [
           {
            "marker": {
             "colorbar": {
              "outlinewidth": 0,
              "ticks": ""
             }
            },
            "type": "scatterpolargl"
           }
          ],
          "scatterternary": [
           {
            "marker": {
             "colorbar": {
              "outlinewidth": 0,
              "ticks": ""
             }
            },
            "type": "scatterternary"
           }
          ],
          "surface": [
           {
            "colorbar": {
             "outlinewidth": 0,
             "ticks": ""
            },
            "colorscale": [
             [
              0,
              "#0d0887"
             ],
             [
              0.1111111111111111,
              "#46039f"
             ],
             [
              0.2222222222222222,
              "#7201a8"
             ],
             [
              0.3333333333333333,
              "#9c179e"
             ],
             [
              0.4444444444444444,
              "#bd3786"
             ],
             [
              0.5555555555555556,
              "#d8576b"
             ],
             [
              0.6666666666666666,
              "#ed7953"
             ],
             [
              0.7777777777777778,
              "#fb9f3a"
             ],
             [
              0.8888888888888888,
              "#fdca26"
             ],
             [
              1,
              "#f0f921"
             ]
            ],
            "type": "surface"
           }
          ],
          "table": [
           {
            "cells": {
             "fill": {
              "color": "#EBF0F8"
             },
             "line": {
              "color": "white"
             }
            },
            "header": {
             "fill": {
              "color": "#C8D4E3"
             },
             "line": {
              "color": "white"
             }
            },
            "type": "table"
           }
          ]
         },
         "layout": {
          "annotationdefaults": {
           "arrowcolor": "#2a3f5f",
           "arrowhead": 0,
           "arrowwidth": 1
          },
          "autotypenumbers": "strict",
          "coloraxis": {
           "colorbar": {
            "outlinewidth": 0,
            "ticks": ""
           }
          },
          "colorscale": {
           "diverging": [
            [
             0,
             "#8e0152"
            ],
            [
             0.1,
             "#c51b7d"
            ],
            [
             0.2,
             "#de77ae"
            ],
            [
             0.3,
             "#f1b6da"
            ],
            [
             0.4,
             "#fde0ef"
            ],
            [
             0.5,
             "#f7f7f7"
            ],
            [
             0.6,
             "#e6f5d0"
            ],
            [
             0.7,
             "#b8e186"
            ],
            [
             0.8,
             "#7fbc41"
            ],
            [
             0.9,
             "#4d9221"
            ],
            [
             1,
             "#276419"
            ]
           ],
           "sequential": [
            [
             0,
             "#0d0887"
            ],
            [
             0.1111111111111111,
             "#46039f"
            ],
            [
             0.2222222222222222,
             "#7201a8"
            ],
            [
             0.3333333333333333,
             "#9c179e"
            ],
            [
             0.4444444444444444,
             "#bd3786"
            ],
            [
             0.5555555555555556,
             "#d8576b"
            ],
            [
             0.6666666666666666,
             "#ed7953"
            ],
            [
             0.7777777777777778,
             "#fb9f3a"
            ],
            [
             0.8888888888888888,
             "#fdca26"
            ],
            [
             1,
             "#f0f921"
            ]
           ],
           "sequentialminus": [
            [
             0,
             "#0d0887"
            ],
            [
             0.1111111111111111,
             "#46039f"
            ],
            [
             0.2222222222222222,
             "#7201a8"
            ],
            [
             0.3333333333333333,
             "#9c179e"
            ],
            [
             0.4444444444444444,
             "#bd3786"
            ],
            [
             0.5555555555555556,
             "#d8576b"
            ],
            [
             0.6666666666666666,
             "#ed7953"
            ],
            [
             0.7777777777777778,
             "#fb9f3a"
            ],
            [
             0.8888888888888888,
             "#fdca26"
            ],
            [
             1,
             "#f0f921"
            ]
           ]
          },
          "colorway": [
           "#636efa",
           "#EF553B",
           "#00cc96",
           "#ab63fa",
           "#FFA15A",
           "#19d3f3",
           "#FF6692",
           "#B6E880",
           "#FF97FF",
           "#FECB52"
          ],
          "font": {
           "color": "#2a3f5f"
          },
          "geo": {
           "bgcolor": "white",
           "lakecolor": "white",
           "landcolor": "#E5ECF6",
           "showlakes": true,
           "showland": true,
           "subunitcolor": "white"
          },
          "hoverlabel": {
           "align": "left"
          },
          "hovermode": "closest",
          "mapbox": {
           "style": "light"
          },
          "paper_bgcolor": "white",
          "plot_bgcolor": "#E5ECF6",
          "polar": {
           "angularaxis": {
            "gridcolor": "white",
            "linecolor": "white",
            "ticks": ""
           },
           "bgcolor": "#E5ECF6",
           "radialaxis": {
            "gridcolor": "white",
            "linecolor": "white",
            "ticks": ""
           }
          },
          "scene": {
           "xaxis": {
            "backgroundcolor": "#E5ECF6",
            "gridcolor": "white",
            "gridwidth": 2,
            "linecolor": "white",
            "showbackground": true,
            "ticks": "",
            "zerolinecolor": "white"
           },
           "yaxis": {
            "backgroundcolor": "#E5ECF6",
            "gridcolor": "white",
            "gridwidth": 2,
            "linecolor": "white",
            "showbackground": true,
            "ticks": "",
            "zerolinecolor": "white"
           },
           "zaxis": {
            "backgroundcolor": "#E5ECF6",
            "gridcolor": "white",
            "gridwidth": 2,
            "linecolor": "white",
            "showbackground": true,
            "ticks": "",
            "zerolinecolor": "white"
           }
          },
          "shapedefaults": {
           "line": {
            "color": "#2a3f5f"
           }
          },
          "ternary": {
           "aaxis": {
            "gridcolor": "white",
            "linecolor": "white",
            "ticks": ""
           },
           "baxis": {
            "gridcolor": "white",
            "linecolor": "white",
            "ticks": ""
           },
           "bgcolor": "#E5ECF6",
           "caxis": {
            "gridcolor": "white",
            "linecolor": "white",
            "ticks": ""
           }
          },
          "title": {
           "x": 0.05
          },
          "xaxis": {
           "automargin": true,
           "gridcolor": "white",
           "linecolor": "white",
           "ticks": "",
           "title": {
            "standoff": 15
           },
           "zerolinecolor": "white",
           "zerolinewidth": 2
          },
          "yaxis": {
           "automargin": true,
           "gridcolor": "white",
           "linecolor": "white",
           "ticks": "",
           "title": {
            "standoff": 15
           },
           "zerolinecolor": "white",
           "zerolinewidth": 2
          }
         }
        },
        "title": {
         "text": "Cantidad de Consultas por Detalle y Tipo de Barrio"
        },
        "uniformtext": {
         "minsize": 8,
         "mode": "hide"
        },
        "xaxis": {
         "anchor": "y",
         "domain": [
          0,
          1
         ],
         "title": {
          "text": "Detalle"
         }
        },
        "yaxis": {
         "anchor": "x",
         "domain": [
          0,
          1
         ],
         "title": {
          "text": "Cantidad de Consultas"
         }
        }
       }
      },
      "text/html": [
       "<div>                            <div id=\"3b4908a1-c685-4a24-bfe7-5a20bfc1d1ef\" class=\"plotly-graph-div\" style=\"height:525px; width:100%;\"></div>            <script type=\"text/javascript\">                require([\"plotly\"], function(Plotly) {                    window.PLOTLYENV=window.PLOTLYENV || {};                                    if (document.getElementById(\"3b4908a1-c685-4a24-bfe7-5a20bfc1d1ef\")) {                    Plotly.newPlot(                        \"3b4908a1-c685-4a24-bfe7-5a20bfc1d1ef\",                        [{\"alignmentgroup\":\"True\",\"hovertemplate\":\"barrio_popular=no<br>Detalle=%{x}<br>Cantidad de Consultas=%{y}<extra></extra>\",\"legendgroup\":\"no\",\"marker\":{\"color\":\"#636efa\",\"pattern\":{\"shape\":\"\"}},\"name\":\"no\",\"offsetgroup\":\"no\",\"orientation\":\"v\",\"showlegend\":true,\"textposition\":\"outside\",\"x\":[\"APLICACION DE FLUOR\",\"BIOPULPECTOMIA PARCIAL\",\"CONSULTA-ADULTO (Desde 15 anios)\",\"CONSULTA-ADULTO (Desde 15 anos)\",\"CONSULTAS FICHADAS Y MOTIVACION (NINOS hasta 14 anos)\",\"CONSULTAS FICHADAS Y MOTIVACION (ninios hasta 14 anios)\",\"DERIVACION\",\"DETENCION, CONTROL PLACA BACTERIANA Y ENS\",\"EXTRACCION DENTARIA\",\"EXTRACION DIENTES CON RETENCION OSEA\",\"EXTRACION DIENTES CON RETENCION osEA\",\"FOTOCURADO ANTERIORES Y POSTERIORES\",\"FOTOCURADO ANTERIORES Y PosTERIORES\",\"INACTIVACION DE CARIES\",\"PROT. PAR ACRIL INFERIOR\",\"PROT. PAR ACRIL SUPERIOR\",\"RADIOGRAFIA PERIAPICAL\",\"SELLANTES DE PUNTOS FISURAS\",\"SELLANTES DE PUNTos FISURAS\",\"TALLER DE PROMOCION Y PREVENCION\",\"TARTREC Y CEPILLADO MECANICO\",\"TARTREC Y CEPILLADO MECAniCO\",\"TRATAMIENTO DE DIENTES PRIMARIOS CON FORM\",\"TRATAMIENTO DE DIENTES PRIMARIos CON FORM\",\"TRATAMIENTO MULTIRRACIDULAR\",\"TRATAMIENTO UNIRRADICULAR\",\"TRATAMIENTO UniRRADICULAR\",\"URGENCIA\"],\"xaxis\":\"x\",\"y\":[289.0,19.0,7097.0,3665.0,1187.0,3789.0,205.0,1868.0,4783.0,1.0,4.0,2387.0,2285.0,1529.0,15.0,41.0,205.0,42.0,110.0,178.0,621.0,712.0,61.0,65.0,26.0,43.0,10.0,9328.0],\"yaxis\":\"y\",\"type\":\"bar\",\"texttemplate\":\"%{y}\"},{\"alignmentgroup\":\"True\",\"hovertemplate\":\"barrio_popular=si<br>Detalle=%{x}<br>Cantidad de Consultas=%{y}<extra></extra>\",\"legendgroup\":\"si\",\"marker\":{\"color\":\"#EF553B\",\"pattern\":{\"shape\":\"\"}},\"name\":\"si\",\"offsetgroup\":\"si\",\"orientation\":\"v\",\"showlegend\":true,\"textposition\":\"outside\",\"x\":[\"APLICACION DE FLUOR\",\"BIOPULPECTOMIA PARCIAL\",\"CONSULTA-ADULTO (Desde 15 anios)\",\"CONSULTA-ADULTO (Desde 15 anos)\",\"CONSULTAS FICHADAS Y MOTIVACION (NINOS hasta 14 anos)\",\"CONSULTAS FICHADAS Y MOTIVACION (ninios hasta 14 anios)\",\"DERIVACION\",\"DETENCION, CONTROL PLACA BACTERIANA Y ENS\",\"EXTRACCION DENTARIA\",\"FOTOCURADO ANTERIORES Y POSTERIORES\",\"FOTOCURADO ANTERIORES Y PosTERIORES\",\"INACTIVACION DE CARIES\",\"PROT. PAR ACRIL SUPERIOR\",\"RADIOGRAFIA PERIAPICAL\",\"SELLANTES DE PUNTOS FISURAS\",\"SELLANTES DE PUNTos FISURAS\",\"TALLER DE PROMOCION Y PREVENCION\",\"TARTREC Y CEPILLADO MECANICO\",\"TARTREC Y CEPILLADO MECAniCO\",\"TRATAMIENTO DE DIENTES PRIMARIOS CON FORM\",\"TRATAMIENTO DE DIENTES PRIMARIos CON FORM\",\"TRATAMIENTO MULTIRRACIDULAR\",\"TRATAMIENTO UNIRRADICULAR\",\"TRATAMIENTO UniRRADICULAR\",\"URGENCIA\"],\"xaxis\":\"x\",\"y\":[843.0,183.0,5423.0,4953.0,1880.0,2612.0,367.0,2408.0,6697.0,2562.0,2109.0,4282.0,265.0,109.0,268.0,292.0,1472.0,784.0,1151.0,97.0,95.0,2.0,60.0,34.0,7611.0],\"yaxis\":\"y\",\"type\":\"bar\",\"texttemplate\":\"%{y}\"}],                        {\"template\":{\"data\":{\"histogram2dcontour\":[{\"type\":\"histogram2dcontour\",\"colorbar\":{\"outlinewidth\":0,\"ticks\":\"\"},\"colorscale\":[[0.0,\"#0d0887\"],[0.1111111111111111,\"#46039f\"],[0.2222222222222222,\"#7201a8\"],[0.3333333333333333,\"#9c179e\"],[0.4444444444444444,\"#bd3786\"],[0.5555555555555556,\"#d8576b\"],[0.6666666666666666,\"#ed7953\"],[0.7777777777777778,\"#fb9f3a\"],[0.8888888888888888,\"#fdca26\"],[1.0,\"#f0f921\"]]}],\"choropleth\":[{\"type\":\"choropleth\",\"colorbar\":{\"outlinewidth\":0,\"ticks\":\"\"}}],\"histogram2d\":[{\"type\":\"histogram2d\",\"colorbar\":{\"outlinewidth\":0,\"ticks\":\"\"},\"colorscale\":[[0.0,\"#0d0887\"],[0.1111111111111111,\"#46039f\"],[0.2222222222222222,\"#7201a8\"],[0.3333333333333333,\"#9c179e\"],[0.4444444444444444,\"#bd3786\"],[0.5555555555555556,\"#d8576b\"],[0.6666666666666666,\"#ed7953\"],[0.7777777777777778,\"#fb9f3a\"],[0.8888888888888888,\"#fdca26\"],[1.0,\"#f0f921\"]]}],\"heatmap\":[{\"type\":\"heatmap\",\"colorbar\":{\"outlinewidth\":0,\"ticks\":\"\"},\"colorscale\":[[0.0,\"#0d0887\"],[0.1111111111111111,\"#46039f\"],[0.2222222222222222,\"#7201a8\"],[0.3333333333333333,\"#9c179e\"],[0.4444444444444444,\"#bd3786\"],[0.5555555555555556,\"#d8576b\"],[0.6666666666666666,\"#ed7953\"],[0.7777777777777778,\"#fb9f3a\"],[0.8888888888888888,\"#fdca26\"],[1.0,\"#f0f921\"]]}],\"heatmapgl\":[{\"type\":\"heatmapgl\",\"colorbar\":{\"outlinewidth\":0,\"ticks\":\"\"},\"colorscale\":[[0.0,\"#0d0887\"],[0.1111111111111111,\"#46039f\"],[0.2222222222222222,\"#7201a8\"],[0.3333333333333333,\"#9c179e\"],[0.4444444444444444,\"#bd3786\"],[0.5555555555555556,\"#d8576b\"],[0.6666666666666666,\"#ed7953\"],[0.7777777777777778,\"#fb9f3a\"],[0.8888888888888888,\"#fdca26\"],[1.0,\"#f0f921\"]]}],\"contourcarpet\":[{\"type\":\"contourcarpet\",\"colorbar\":{\"outlinewidth\":0,\"ticks\":\"\"}}],\"contour\":[{\"type\":\"contour\",\"colorbar\":{\"outlinewidth\":0,\"ticks\":\"\"},\"colorscale\":[[0.0,\"#0d0887\"],[0.1111111111111111,\"#46039f\"],[0.2222222222222222,\"#7201a8\"],[0.3333333333333333,\"#9c179e\"],[0.4444444444444444,\"#bd3786\"],[0.5555555555555556,\"#d8576b\"],[0.6666666666666666,\"#ed7953\"],[0.7777777777777778,\"#fb9f3a\"],[0.8888888888888888,\"#fdca26\"],[1.0,\"#f0f921\"]]}],\"surface\":[{\"type\":\"surface\",\"colorbar\":{\"outlinewidth\":0,\"ticks\":\"\"},\"colorscale\":[[0.0,\"#0d0887\"],[0.1111111111111111,\"#46039f\"],[0.2222222222222222,\"#7201a8\"],[0.3333333333333333,\"#9c179e\"],[0.4444444444444444,\"#bd3786\"],[0.5555555555555556,\"#d8576b\"],[0.6666666666666666,\"#ed7953\"],[0.7777777777777778,\"#fb9f3a\"],[0.8888888888888888,\"#fdca26\"],[1.0,\"#f0f921\"]]}],\"mesh3d\":[{\"type\":\"mesh3d\",\"colorbar\":{\"outlinewidth\":0,\"ticks\":\"\"}}],\"scatter\":[{\"fillpattern\":{\"fillmode\":\"overlay\",\"size\":10,\"solidity\":0.2},\"type\":\"scatter\"}],\"parcoords\":[{\"type\":\"parcoords\",\"line\":{\"colorbar\":{\"outlinewidth\":0,\"ticks\":\"\"}}}],\"scatterpolargl\":[{\"type\":\"scatterpolargl\",\"marker\":{\"colorbar\":{\"outlinewidth\":0,\"ticks\":\"\"}}}],\"bar\":[{\"error_x\":{\"color\":\"#2a3f5f\"},\"error_y\":{\"color\":\"#2a3f5f\"},\"marker\":{\"line\":{\"color\":\"#E5ECF6\",\"width\":0.5},\"pattern\":{\"fillmode\":\"overlay\",\"size\":10,\"solidity\":0.2}},\"type\":\"bar\"}],\"scattergeo\":[{\"type\":\"scattergeo\",\"marker\":{\"colorbar\":{\"outlinewidth\":0,\"ticks\":\"\"}}}],\"scatterpolar\":[{\"type\":\"scatterpolar\",\"marker\":{\"colorbar\":{\"outlinewidth\":0,\"ticks\":\"\"}}}],\"histogram\":[{\"marker\":{\"pattern\":{\"fillmode\":\"overlay\",\"size\":10,\"solidity\":0.2}},\"type\":\"histogram\"}],\"scattergl\":[{\"type\":\"scattergl\",\"marker\":{\"colorbar\":{\"outlinewidth\":0,\"ticks\":\"\"}}}],\"scatter3d\":[{\"type\":\"scatter3d\",\"line\":{\"colorbar\":{\"outlinewidth\":0,\"ticks\":\"\"}},\"marker\":{\"colorbar\":{\"outlinewidth\":0,\"ticks\":\"\"}}}],\"scattermapbox\":[{\"type\":\"scattermapbox\",\"marker\":{\"colorbar\":{\"outlinewidth\":0,\"ticks\":\"\"}}}],\"scatterternary\":[{\"type\":\"scatterternary\",\"marker\":{\"colorbar\":{\"outlinewidth\":0,\"ticks\":\"\"}}}],\"scattercarpet\":[{\"type\":\"scattercarpet\",\"marker\":{\"colorbar\":{\"outlinewidth\":0,\"ticks\":\"\"}}}],\"carpet\":[{\"aaxis\":{\"endlinecolor\":\"#2a3f5f\",\"gridcolor\":\"white\",\"linecolor\":\"white\",\"minorgridcolor\":\"white\",\"startlinecolor\":\"#2a3f5f\"},\"baxis\":{\"endlinecolor\":\"#2a3f5f\",\"gridcolor\":\"white\",\"linecolor\":\"white\",\"minorgridcolor\":\"white\",\"startlinecolor\":\"#2a3f5f\"},\"type\":\"carpet\"}],\"table\":[{\"cells\":{\"fill\":{\"color\":\"#EBF0F8\"},\"line\":{\"color\":\"white\"}},\"header\":{\"fill\":{\"color\":\"#C8D4E3\"},\"line\":{\"color\":\"white\"}},\"type\":\"table\"}],\"barpolar\":[{\"marker\":{\"line\":{\"color\":\"#E5ECF6\",\"width\":0.5},\"pattern\":{\"fillmode\":\"overlay\",\"size\":10,\"solidity\":0.2}},\"type\":\"barpolar\"}],\"pie\":[{\"automargin\":true,\"type\":\"pie\"}]},\"layout\":{\"autotypenumbers\":\"strict\",\"colorway\":[\"#636efa\",\"#EF553B\",\"#00cc96\",\"#ab63fa\",\"#FFA15A\",\"#19d3f3\",\"#FF6692\",\"#B6E880\",\"#FF97FF\",\"#FECB52\"],\"font\":{\"color\":\"#2a3f5f\"},\"hovermode\":\"closest\",\"hoverlabel\":{\"align\":\"left\"},\"paper_bgcolor\":\"white\",\"plot_bgcolor\":\"#E5ECF6\",\"polar\":{\"bgcolor\":\"#E5ECF6\",\"angularaxis\":{\"gridcolor\":\"white\",\"linecolor\":\"white\",\"ticks\":\"\"},\"radialaxis\":{\"gridcolor\":\"white\",\"linecolor\":\"white\",\"ticks\":\"\"}},\"ternary\":{\"bgcolor\":\"#E5ECF6\",\"aaxis\":{\"gridcolor\":\"white\",\"linecolor\":\"white\",\"ticks\":\"\"},\"baxis\":{\"gridcolor\":\"white\",\"linecolor\":\"white\",\"ticks\":\"\"},\"caxis\":{\"gridcolor\":\"white\",\"linecolor\":\"white\",\"ticks\":\"\"}},\"coloraxis\":{\"colorbar\":{\"outlinewidth\":0,\"ticks\":\"\"}},\"colorscale\":{\"sequential\":[[0.0,\"#0d0887\"],[0.1111111111111111,\"#46039f\"],[0.2222222222222222,\"#7201a8\"],[0.3333333333333333,\"#9c179e\"],[0.4444444444444444,\"#bd3786\"],[0.5555555555555556,\"#d8576b\"],[0.6666666666666666,\"#ed7953\"],[0.7777777777777778,\"#fb9f3a\"],[0.8888888888888888,\"#fdca26\"],[1.0,\"#f0f921\"]],\"sequentialminus\":[[0.0,\"#0d0887\"],[0.1111111111111111,\"#46039f\"],[0.2222222222222222,\"#7201a8\"],[0.3333333333333333,\"#9c179e\"],[0.4444444444444444,\"#bd3786\"],[0.5555555555555556,\"#d8576b\"],[0.6666666666666666,\"#ed7953\"],[0.7777777777777778,\"#fb9f3a\"],[0.8888888888888888,\"#fdca26\"],[1.0,\"#f0f921\"]],\"diverging\":[[0,\"#8e0152\"],[0.1,\"#c51b7d\"],[0.2,\"#de77ae\"],[0.3,\"#f1b6da\"],[0.4,\"#fde0ef\"],[0.5,\"#f7f7f7\"],[0.6,\"#e6f5d0\"],[0.7,\"#b8e186\"],[0.8,\"#7fbc41\"],[0.9,\"#4d9221\"],[1,\"#276419\"]]},\"xaxis\":{\"gridcolor\":\"white\",\"linecolor\":\"white\",\"ticks\":\"\",\"title\":{\"standoff\":15},\"zerolinecolor\":\"white\",\"automargin\":true,\"zerolinewidth\":2},\"yaxis\":{\"gridcolor\":\"white\",\"linecolor\":\"white\",\"ticks\":\"\",\"title\":{\"standoff\":15},\"zerolinecolor\":\"white\",\"automargin\":true,\"zerolinewidth\":2},\"scene\":{\"xaxis\":{\"backgroundcolor\":\"#E5ECF6\",\"gridcolor\":\"white\",\"linecolor\":\"white\",\"showbackground\":true,\"ticks\":\"\",\"zerolinecolor\":\"white\",\"gridwidth\":2},\"yaxis\":{\"backgroundcolor\":\"#E5ECF6\",\"gridcolor\":\"white\",\"linecolor\":\"white\",\"showbackground\":true,\"ticks\":\"\",\"zerolinecolor\":\"white\",\"gridwidth\":2},\"zaxis\":{\"backgroundcolor\":\"#E5ECF6\",\"gridcolor\":\"white\",\"linecolor\":\"white\",\"showbackground\":true,\"ticks\":\"\",\"zerolinecolor\":\"white\",\"gridwidth\":2}},\"shapedefaults\":{\"line\":{\"color\":\"#2a3f5f\"}},\"annotationdefaults\":{\"arrowcolor\":\"#2a3f5f\",\"arrowhead\":0,\"arrowwidth\":1},\"geo\":{\"bgcolor\":\"white\",\"landcolor\":\"#E5ECF6\",\"subunitcolor\":\"white\",\"showland\":true,\"showlakes\":true,\"lakecolor\":\"white\"},\"title\":{\"x\":0.05},\"mapbox\":{\"style\":\"light\"}}},\"xaxis\":{\"anchor\":\"y\",\"domain\":[0.0,1.0],\"title\":{\"text\":\"Detalle\"}},\"yaxis\":{\"anchor\":\"x\",\"domain\":[0.0,1.0],\"title\":{\"text\":\"Cantidad de Consultas\"}},\"legend\":{\"title\":{\"text\":\"barrio_popular\"},\"tracegroupgap\":0},\"title\":{\"text\":\"Cantidad de Consultas por Detalle y Tipo de Barrio\"},\"barmode\":\"relative\",\"uniformtext\":{\"minsize\":8,\"mode\":\"hide\"}},                        {\"responsive\": true}                    ).then(function(){\n",
       "                            \n",
       "var gd = document.getElementById('3b4908a1-c685-4a24-bfe7-5a20bfc1d1ef');\n",
       "var x = new MutationObserver(function (mutations, observer) {{\n",
       "        var display = window.getComputedStyle(gd).display;\n",
       "        if (!display || display === 'none') {{\n",
       "            console.log([gd, 'removed!']);\n",
       "            Plotly.purge(gd);\n",
       "            observer.disconnect();\n",
       "        }}\n",
       "}});\n",
       "\n",
       "// Listen for the removal of the full notebook cells\n",
       "var notebookContainer = gd.closest('#notebook-container');\n",
       "if (notebookContainer) {{\n",
       "    x.observe(notebookContainer, {childList: true});\n",
       "}}\n",
       "\n",
       "// Listen for the clearing of the current output cell\n",
       "var outputEl = gd.closest('.output');\n",
       "if (outputEl) {{\n",
       "    x.observe(outputEl, {childList: true});\n",
       "}}\n",
       "\n",
       "                        })                };                });            </script>        </div>"
      ]
     },
     "metadata": {},
     "output_type": "display_data"
    }
   ],
   "source": [
    "import pandas as pd\n",
    "import plotly.express as px\n",
    "\n",
    "# Supongamos que tienes tu DataFrame llamado 'df' con los datos\n",
    "# ... (procesa los datos como se mostró anteriormente)\n",
    "\n",
    "# Eliminar filas con 'detalle' igual a '#¡REF!'\n",
    "df = df[df['detalle'] != '#¡REF!']\n",
    "\n",
    "# Calcular la cantidad de consultas por detalle\n",
    "atenciones_detalle = df.groupby(['detalle', 'barrio_popular'])['consulta_cantidad'].sum().reset_index()\n",
    "\n",
    "# Crear el gráfico de barras apiladas con etiquetas de datos\n",
    "fig = px.bar(atenciones_detalle, x='detalle', y='consulta_cantidad',\n",
    "             color='barrio_popular',\n",
    "             title='Cantidad de Consultas por Detalle y Tipo de Barrio',\n",
    "             labels={'detalle': 'Detalle', 'consulta_cantidad': 'Cantidad de Consultas'},\n",
    "             category_orders={\"barrio_popular\": [\"no\", \"si\"]})  # Ordenar las categorías\n",
    "\n",
    "fig.update_xaxes(title_text='Detalle')\n",
    "fig.update_yaxes(title_text='Cantidad de Consultas')\n",
    "\n",
    "# Agregar etiquetas de datos a las barras\n",
    "fig.update_traces(texttemplate='%{y}', textposition='outside')\n",
    "\n",
    "# Ajustar el diseño del gráfico para que quepan las etiquetas de datos\n",
    "fig.update_layout(uniformtext_minsize=8, uniformtext_mode='hide')\n",
    "\n",
    "# Mostrar el gráfico interactivo\n",
    "fig.show()\n",
    "\n",
    "# Guardar la imagen en formato PNG para PowerPoint\n",
    "fig.write_image(\"grafico_consultas_detalle.png\")\n"
   ]
  },
  {
   "cell_type": "code",
   "execution_count": null,
   "id": "25b1c494",
   "metadata": {},
   "outputs": [],
   "source": []
  },
  {
   "cell_type": "code",
   "execution_count": 117,
   "id": "fab6dcbf",
   "metadata": {},
   "outputs": [
    {
     "data": {
      "application/vnd.plotly.v1+json": {
       "config": {
        "plotlyServerURL": "https://plot.ly"
       },
       "data": [
        {
         "domain": {
          "x": [
           0,
           1
          ],
          "y": [
           0,
           1
          ]
         },
         "hole": 0.3,
         "hovertemplate": "detalle=%{label}<br>consulta_cantidad=%{value}<extra></extra>",
         "labels": [
          "APLICACION DE FLUOR",
          "BIOPULPECTOMIA PARCIAL",
          "CONSULTA-ADULTO (Desde 15 anios)",
          "CONSULTA-ADULTO (Desde 15 anos)",
          "CONSULTAS FICHADAS Y MOTIVACION (NINOS hasta 14 anos)",
          "CONSULTAS FICHADAS Y MOTIVACION (ninios hasta 14 anios)",
          "DERIVACION",
          "DETENCION, CONTROL PLACA BACTERIANA Y ENS",
          "EXTRACCION DENTARIA",
          "EXTRACION DIENTES CON RETENCION OSEA",
          "EXTRACION DIENTES CON RETENCION osEA",
          "FOTOCURADO ANTERIORES Y POSTERIORES",
          "FOTOCURADO ANTERIORES Y PosTERIORES",
          "INACTIVACION DE CARIES",
          "PROT. PAR ACRIL INFERIOR",
          "PROT. PAR ACRIL SUPERIOR",
          "RADIOGRAFIA PERIAPICAL",
          "SELLANTES DE PUNTOS FISURAS",
          "SELLANTES DE PUNTos FISURAS",
          "TALLER DE PROMOCION Y PREVENCION",
          "TARTREC Y CEPILLADO MECANICO",
          "TARTREC Y CEPILLADO MECAniCO",
          "TRATAMIENTO DE DIENTES PRIMARIOS CON FORM",
          "TRATAMIENTO DE DIENTES PRIMARIos CON FORM",
          "TRATAMIENTO MULTIRRACIDULAR",
          "TRATAMIENTO UNIRRADICULAR",
          "TRATAMIENTO UniRRADICULAR",
          "URGENCIA"
         ],
         "legendgroup": "",
         "name": "",
         "showlegend": true,
         "textinfo": "none",
         "type": "pie",
         "values": [
          1132,
          202,
          12520,
          8618,
          3067,
          6401,
          572,
          4276,
          11480,
          1,
          4,
          4949,
          4394,
          5811,
          15,
          306,
          314,
          310,
          402,
          1650,
          1405,
          1863,
          158,
          160,
          28,
          103,
          44,
          16939
         ]
        }
       ],
       "layout": {
        "legend": {
         "tracegroupgap": 0
        },
        "template": {
         "data": {
          "bar": [
           {
            "error_x": {
             "color": "#2a3f5f"
            },
            "error_y": {
             "color": "#2a3f5f"
            },
            "marker": {
             "line": {
              "color": "#E5ECF6",
              "width": 0.5
             },
             "pattern": {
              "fillmode": "overlay",
              "size": 10,
              "solidity": 0.2
             }
            },
            "type": "bar"
           }
          ],
          "barpolar": [
           {
            "marker": {
             "line": {
              "color": "#E5ECF6",
              "width": 0.5
             },
             "pattern": {
              "fillmode": "overlay",
              "size": 10,
              "solidity": 0.2
             }
            },
            "type": "barpolar"
           }
          ],
          "carpet": [
           {
            "aaxis": {
             "endlinecolor": "#2a3f5f",
             "gridcolor": "white",
             "linecolor": "white",
             "minorgridcolor": "white",
             "startlinecolor": "#2a3f5f"
            },
            "baxis": {
             "endlinecolor": "#2a3f5f",
             "gridcolor": "white",
             "linecolor": "white",
             "minorgridcolor": "white",
             "startlinecolor": "#2a3f5f"
            },
            "type": "carpet"
           }
          ],
          "choropleth": [
           {
            "colorbar": {
             "outlinewidth": 0,
             "ticks": ""
            },
            "type": "choropleth"
           }
          ],
          "contour": [
           {
            "colorbar": {
             "outlinewidth": 0,
             "ticks": ""
            },
            "colorscale": [
             [
              0,
              "#0d0887"
             ],
             [
              0.1111111111111111,
              "#46039f"
             ],
             [
              0.2222222222222222,
              "#7201a8"
             ],
             [
              0.3333333333333333,
              "#9c179e"
             ],
             [
              0.4444444444444444,
              "#bd3786"
             ],
             [
              0.5555555555555556,
              "#d8576b"
             ],
             [
              0.6666666666666666,
              "#ed7953"
             ],
             [
              0.7777777777777778,
              "#fb9f3a"
             ],
             [
              0.8888888888888888,
              "#fdca26"
             ],
             [
              1,
              "#f0f921"
             ]
            ],
            "type": "contour"
           }
          ],
          "contourcarpet": [
           {
            "colorbar": {
             "outlinewidth": 0,
             "ticks": ""
            },
            "type": "contourcarpet"
           }
          ],
          "heatmap": [
           {
            "colorbar": {
             "outlinewidth": 0,
             "ticks": ""
            },
            "colorscale": [
             [
              0,
              "#0d0887"
             ],
             [
              0.1111111111111111,
              "#46039f"
             ],
             [
              0.2222222222222222,
              "#7201a8"
             ],
             [
              0.3333333333333333,
              "#9c179e"
             ],
             [
              0.4444444444444444,
              "#bd3786"
             ],
             [
              0.5555555555555556,
              "#d8576b"
             ],
             [
              0.6666666666666666,
              "#ed7953"
             ],
             [
              0.7777777777777778,
              "#fb9f3a"
             ],
             [
              0.8888888888888888,
              "#fdca26"
             ],
             [
              1,
              "#f0f921"
             ]
            ],
            "type": "heatmap"
           }
          ],
          "heatmapgl": [
           {
            "colorbar": {
             "outlinewidth": 0,
             "ticks": ""
            },
            "colorscale": [
             [
              0,
              "#0d0887"
             ],
             [
              0.1111111111111111,
              "#46039f"
             ],
             [
              0.2222222222222222,
              "#7201a8"
             ],
             [
              0.3333333333333333,
              "#9c179e"
             ],
             [
              0.4444444444444444,
              "#bd3786"
             ],
             [
              0.5555555555555556,
              "#d8576b"
             ],
             [
              0.6666666666666666,
              "#ed7953"
             ],
             [
              0.7777777777777778,
              "#fb9f3a"
             ],
             [
              0.8888888888888888,
              "#fdca26"
             ],
             [
              1,
              "#f0f921"
             ]
            ],
            "type": "heatmapgl"
           }
          ],
          "histogram": [
           {
            "marker": {
             "pattern": {
              "fillmode": "overlay",
              "size": 10,
              "solidity": 0.2
             }
            },
            "type": "histogram"
           }
          ],
          "histogram2d": [
           {
            "colorbar": {
             "outlinewidth": 0,
             "ticks": ""
            },
            "colorscale": [
             [
              0,
              "#0d0887"
             ],
             [
              0.1111111111111111,
              "#46039f"
             ],
             [
              0.2222222222222222,
              "#7201a8"
             ],
             [
              0.3333333333333333,
              "#9c179e"
             ],
             [
              0.4444444444444444,
              "#bd3786"
             ],
             [
              0.5555555555555556,
              "#d8576b"
             ],
             [
              0.6666666666666666,
              "#ed7953"
             ],
             [
              0.7777777777777778,
              "#fb9f3a"
             ],
             [
              0.8888888888888888,
              "#fdca26"
             ],
             [
              1,
              "#f0f921"
             ]
            ],
            "type": "histogram2d"
           }
          ],
          "histogram2dcontour": [
           {
            "colorbar": {
             "outlinewidth": 0,
             "ticks": ""
            },
            "colorscale": [
             [
              0,
              "#0d0887"
             ],
             [
              0.1111111111111111,
              "#46039f"
             ],
             [
              0.2222222222222222,
              "#7201a8"
             ],
             [
              0.3333333333333333,
              "#9c179e"
             ],
             [
              0.4444444444444444,
              "#bd3786"
             ],
             [
              0.5555555555555556,
              "#d8576b"
             ],
             [
              0.6666666666666666,
              "#ed7953"
             ],
             [
              0.7777777777777778,
              "#fb9f3a"
             ],
             [
              0.8888888888888888,
              "#fdca26"
             ],
             [
              1,
              "#f0f921"
             ]
            ],
            "type": "histogram2dcontour"
           }
          ],
          "mesh3d": [
           {
            "colorbar": {
             "outlinewidth": 0,
             "ticks": ""
            },
            "type": "mesh3d"
           }
          ],
          "parcoords": [
           {
            "line": {
             "colorbar": {
              "outlinewidth": 0,
              "ticks": ""
             }
            },
            "type": "parcoords"
           }
          ],
          "pie": [
           {
            "automargin": true,
            "type": "pie"
           }
          ],
          "scatter": [
           {
            "fillpattern": {
             "fillmode": "overlay",
             "size": 10,
             "solidity": 0.2
            },
            "type": "scatter"
           }
          ],
          "scatter3d": [
           {
            "line": {
             "colorbar": {
              "outlinewidth": 0,
              "ticks": ""
             }
            },
            "marker": {
             "colorbar": {
              "outlinewidth": 0,
              "ticks": ""
             }
            },
            "type": "scatter3d"
           }
          ],
          "scattercarpet": [
           {
            "marker": {
             "colorbar": {
              "outlinewidth": 0,
              "ticks": ""
             }
            },
            "type": "scattercarpet"
           }
          ],
          "scattergeo": [
           {
            "marker": {
             "colorbar": {
              "outlinewidth": 0,
              "ticks": ""
             }
            },
            "type": "scattergeo"
           }
          ],
          "scattergl": [
           {
            "marker": {
             "colorbar": {
              "outlinewidth": 0,
              "ticks": ""
             }
            },
            "type": "scattergl"
           }
          ],
          "scattermapbox": [
           {
            "marker": {
             "colorbar": {
              "outlinewidth": 0,
              "ticks": ""
             }
            },
            "type": "scattermapbox"
           }
          ],
          "scatterpolar": [
           {
            "marker": {
             "colorbar": {
              "outlinewidth": 0,
              "ticks": ""
             }
            },
            "type": "scatterpolar"
           }
          ],
          "scatterpolargl": [
           {
            "marker": {
             "colorbar": {
              "outlinewidth": 0,
              "ticks": ""
             }
            },
            "type": "scatterpolargl"
           }
          ],
          "scatterternary": [
           {
            "marker": {
             "colorbar": {
              "outlinewidth": 0,
              "ticks": ""
             }
            },
            "type": "scatterternary"
           }
          ],
          "surface": [
           {
            "colorbar": {
             "outlinewidth": 0,
             "ticks": ""
            },
            "colorscale": [
             [
              0,
              "#0d0887"
             ],
             [
              0.1111111111111111,
              "#46039f"
             ],
             [
              0.2222222222222222,
              "#7201a8"
             ],
             [
              0.3333333333333333,
              "#9c179e"
             ],
             [
              0.4444444444444444,
              "#bd3786"
             ],
             [
              0.5555555555555556,
              "#d8576b"
             ],
             [
              0.6666666666666666,
              "#ed7953"
             ],
             [
              0.7777777777777778,
              "#fb9f3a"
             ],
             [
              0.8888888888888888,
              "#fdca26"
             ],
             [
              1,
              "#f0f921"
             ]
            ],
            "type": "surface"
           }
          ],
          "table": [
           {
            "cells": {
             "fill": {
              "color": "#EBF0F8"
             },
             "line": {
              "color": "white"
             }
            },
            "header": {
             "fill": {
              "color": "#C8D4E3"
             },
             "line": {
              "color": "white"
             }
            },
            "type": "table"
           }
          ]
         },
         "layout": {
          "annotationdefaults": {
           "arrowcolor": "#2a3f5f",
           "arrowhead": 0,
           "arrowwidth": 1
          },
          "autotypenumbers": "strict",
          "coloraxis": {
           "colorbar": {
            "outlinewidth": 0,
            "ticks": ""
           }
          },
          "colorscale": {
           "diverging": [
            [
             0,
             "#8e0152"
            ],
            [
             0.1,
             "#c51b7d"
            ],
            [
             0.2,
             "#de77ae"
            ],
            [
             0.3,
             "#f1b6da"
            ],
            [
             0.4,
             "#fde0ef"
            ],
            [
             0.5,
             "#f7f7f7"
            ],
            [
             0.6,
             "#e6f5d0"
            ],
            [
             0.7,
             "#b8e186"
            ],
            [
             0.8,
             "#7fbc41"
            ],
            [
             0.9,
             "#4d9221"
            ],
            [
             1,
             "#276419"
            ]
           ],
           "sequential": [
            [
             0,
             "#0d0887"
            ],
            [
             0.1111111111111111,
             "#46039f"
            ],
            [
             0.2222222222222222,
             "#7201a8"
            ],
            [
             0.3333333333333333,
             "#9c179e"
            ],
            [
             0.4444444444444444,
             "#bd3786"
            ],
            [
             0.5555555555555556,
             "#d8576b"
            ],
            [
             0.6666666666666666,
             "#ed7953"
            ],
            [
             0.7777777777777778,
             "#fb9f3a"
            ],
            [
             0.8888888888888888,
             "#fdca26"
            ],
            [
             1,
             "#f0f921"
            ]
           ],
           "sequentialminus": [
            [
             0,
             "#0d0887"
            ],
            [
             0.1111111111111111,
             "#46039f"
            ],
            [
             0.2222222222222222,
             "#7201a8"
            ],
            [
             0.3333333333333333,
             "#9c179e"
            ],
            [
             0.4444444444444444,
             "#bd3786"
            ],
            [
             0.5555555555555556,
             "#d8576b"
            ],
            [
             0.6666666666666666,
             "#ed7953"
            ],
            [
             0.7777777777777778,
             "#fb9f3a"
            ],
            [
             0.8888888888888888,
             "#fdca26"
            ],
            [
             1,
             "#f0f921"
            ]
           ]
          },
          "colorway": [
           "#636efa",
           "#EF553B",
           "#00cc96",
           "#ab63fa",
           "#FFA15A",
           "#19d3f3",
           "#FF6692",
           "#B6E880",
           "#FF97FF",
           "#FECB52"
          ],
          "font": {
           "color": "#2a3f5f"
          },
          "geo": {
           "bgcolor": "white",
           "lakecolor": "white",
           "landcolor": "#E5ECF6",
           "showlakes": true,
           "showland": true,
           "subunitcolor": "white"
          },
          "hoverlabel": {
           "align": "left"
          },
          "hovermode": "closest",
          "mapbox": {
           "style": "light"
          },
          "paper_bgcolor": "white",
          "plot_bgcolor": "#E5ECF6",
          "polar": {
           "angularaxis": {
            "gridcolor": "white",
            "linecolor": "white",
            "ticks": ""
           },
           "bgcolor": "#E5ECF6",
           "radialaxis": {
            "gridcolor": "white",
            "linecolor": "white",
            "ticks": ""
           }
          },
          "scene": {
           "xaxis": {
            "backgroundcolor": "#E5ECF6",
            "gridcolor": "white",
            "gridwidth": 2,
            "linecolor": "white",
            "showbackground": true,
            "ticks": "",
            "zerolinecolor": "white"
           },
           "yaxis": {
            "backgroundcolor": "#E5ECF6",
            "gridcolor": "white",
            "gridwidth": 2,
            "linecolor": "white",
            "showbackground": true,
            "ticks": "",
            "zerolinecolor": "white"
           },
           "zaxis": {
            "backgroundcolor": "#E5ECF6",
            "gridcolor": "white",
            "gridwidth": 2,
            "linecolor": "white",
            "showbackground": true,
            "ticks": "",
            "zerolinecolor": "white"
           }
          },
          "shapedefaults": {
           "line": {
            "color": "#2a3f5f"
           }
          },
          "ternary": {
           "aaxis": {
            "gridcolor": "white",
            "linecolor": "white",
            "ticks": ""
           },
           "baxis": {
            "gridcolor": "white",
            "linecolor": "white",
            "ticks": ""
           },
           "bgcolor": "#E5ECF6",
           "caxis": {
            "gridcolor": "white",
            "linecolor": "white",
            "ticks": ""
           }
          },
          "title": {
           "x": 0.05
          },
          "xaxis": {
           "automargin": true,
           "gridcolor": "white",
           "linecolor": "white",
           "ticks": "",
           "title": {
            "standoff": 15
           },
           "zerolinecolor": "white",
           "zerolinewidth": 2
          },
          "yaxis": {
           "automargin": true,
           "gridcolor": "white",
           "linecolor": "white",
           "ticks": "",
           "title": {
            "standoff": 15
           },
           "zerolinecolor": "white",
           "zerolinewidth": 2
          }
         }
        },
        "title": {
         "text": "Cantidad de Consultas por Detalle"
        }
       }
      },
      "text/html": [
       "<div>                            <div id=\"144797dc-4768-42ff-bbcb-3dadfbd696c4\" class=\"plotly-graph-div\" style=\"height:525px; width:100%;\"></div>            <script type=\"text/javascript\">                require([\"plotly\"], function(Plotly) {                    window.PLOTLYENV=window.PLOTLYENV || {};                                    if (document.getElementById(\"144797dc-4768-42ff-bbcb-3dadfbd696c4\")) {                    Plotly.newPlot(                        \"144797dc-4768-42ff-bbcb-3dadfbd696c4\",                        [{\"domain\":{\"x\":[0.0,1.0],\"y\":[0.0,1.0]},\"hole\":0.3,\"hovertemplate\":\"detalle=%{label}<br>consulta_cantidad=%{value}<extra></extra>\",\"labels\":[\"APLICACION DE FLUOR\",\"BIOPULPECTOMIA PARCIAL\",\"CONSULTA-ADULTO (Desde 15 anios)\",\"CONSULTA-ADULTO (Desde 15 anos)\",\"CONSULTAS FICHADAS Y MOTIVACION (NINOS hasta 14 anos)\",\"CONSULTAS FICHADAS Y MOTIVACION (ninios hasta 14 anios)\",\"DERIVACION\",\"DETENCION, CONTROL PLACA BACTERIANA Y ENS\",\"EXTRACCION DENTARIA\",\"EXTRACION DIENTES CON RETENCION OSEA\",\"EXTRACION DIENTES CON RETENCION osEA\",\"FOTOCURADO ANTERIORES Y POSTERIORES\",\"FOTOCURADO ANTERIORES Y PosTERIORES\",\"INACTIVACION DE CARIES\",\"PROT. PAR ACRIL INFERIOR\",\"PROT. PAR ACRIL SUPERIOR\",\"RADIOGRAFIA PERIAPICAL\",\"SELLANTES DE PUNTOS FISURAS\",\"SELLANTES DE PUNTos FISURAS\",\"TALLER DE PROMOCION Y PREVENCION\",\"TARTREC Y CEPILLADO MECANICO\",\"TARTREC Y CEPILLADO MECAniCO\",\"TRATAMIENTO DE DIENTES PRIMARIOS CON FORM\",\"TRATAMIENTO DE DIENTES PRIMARIos CON FORM\",\"TRATAMIENTO MULTIRRACIDULAR\",\"TRATAMIENTO UNIRRADICULAR\",\"TRATAMIENTO UniRRADICULAR\",\"URGENCIA\"],\"legendgroup\":\"\",\"name\":\"\",\"showlegend\":true,\"values\":[1132.0,202.0,12520.0,8618.0,3067.0,6401.0,572.0,4276.0,11480.0,1.0,4.0,4949.0,4394.0,5811.0,15.0,306.0,314.0,310.0,402.0,1650.0,1405.0,1863.0,158.0,160.0,28.0,103.0,44.0,16939.0],\"type\":\"pie\",\"textinfo\":\"none\"}],                        {\"template\":{\"data\":{\"histogram2dcontour\":[{\"type\":\"histogram2dcontour\",\"colorbar\":{\"outlinewidth\":0,\"ticks\":\"\"},\"colorscale\":[[0.0,\"#0d0887\"],[0.1111111111111111,\"#46039f\"],[0.2222222222222222,\"#7201a8\"],[0.3333333333333333,\"#9c179e\"],[0.4444444444444444,\"#bd3786\"],[0.5555555555555556,\"#d8576b\"],[0.6666666666666666,\"#ed7953\"],[0.7777777777777778,\"#fb9f3a\"],[0.8888888888888888,\"#fdca26\"],[1.0,\"#f0f921\"]]}],\"choropleth\":[{\"type\":\"choropleth\",\"colorbar\":{\"outlinewidth\":0,\"ticks\":\"\"}}],\"histogram2d\":[{\"type\":\"histogram2d\",\"colorbar\":{\"outlinewidth\":0,\"ticks\":\"\"},\"colorscale\":[[0.0,\"#0d0887\"],[0.1111111111111111,\"#46039f\"],[0.2222222222222222,\"#7201a8\"],[0.3333333333333333,\"#9c179e\"],[0.4444444444444444,\"#bd3786\"],[0.5555555555555556,\"#d8576b\"],[0.6666666666666666,\"#ed7953\"],[0.7777777777777778,\"#fb9f3a\"],[0.8888888888888888,\"#fdca26\"],[1.0,\"#f0f921\"]]}],\"heatmap\":[{\"type\":\"heatmap\",\"colorbar\":{\"outlinewidth\":0,\"ticks\":\"\"},\"colorscale\":[[0.0,\"#0d0887\"],[0.1111111111111111,\"#46039f\"],[0.2222222222222222,\"#7201a8\"],[0.3333333333333333,\"#9c179e\"],[0.4444444444444444,\"#bd3786\"],[0.5555555555555556,\"#d8576b\"],[0.6666666666666666,\"#ed7953\"],[0.7777777777777778,\"#fb9f3a\"],[0.8888888888888888,\"#fdca26\"],[1.0,\"#f0f921\"]]}],\"heatmapgl\":[{\"type\":\"heatmapgl\",\"colorbar\":{\"outlinewidth\":0,\"ticks\":\"\"},\"colorscale\":[[0.0,\"#0d0887\"],[0.1111111111111111,\"#46039f\"],[0.2222222222222222,\"#7201a8\"],[0.3333333333333333,\"#9c179e\"],[0.4444444444444444,\"#bd3786\"],[0.5555555555555556,\"#d8576b\"],[0.6666666666666666,\"#ed7953\"],[0.7777777777777778,\"#fb9f3a\"],[0.8888888888888888,\"#fdca26\"],[1.0,\"#f0f921\"]]}],\"contourcarpet\":[{\"type\":\"contourcarpet\",\"colorbar\":{\"outlinewidth\":0,\"ticks\":\"\"}}],\"contour\":[{\"type\":\"contour\",\"colorbar\":{\"outlinewidth\":0,\"ticks\":\"\"},\"colorscale\":[[0.0,\"#0d0887\"],[0.1111111111111111,\"#46039f\"],[0.2222222222222222,\"#7201a8\"],[0.3333333333333333,\"#9c179e\"],[0.4444444444444444,\"#bd3786\"],[0.5555555555555556,\"#d8576b\"],[0.6666666666666666,\"#ed7953\"],[0.7777777777777778,\"#fb9f3a\"],[0.8888888888888888,\"#fdca26\"],[1.0,\"#f0f921\"]]}],\"surface\":[{\"type\":\"surface\",\"colorbar\":{\"outlinewidth\":0,\"ticks\":\"\"},\"colorscale\":[[0.0,\"#0d0887\"],[0.1111111111111111,\"#46039f\"],[0.2222222222222222,\"#7201a8\"],[0.3333333333333333,\"#9c179e\"],[0.4444444444444444,\"#bd3786\"],[0.5555555555555556,\"#d8576b\"],[0.6666666666666666,\"#ed7953\"],[0.7777777777777778,\"#fb9f3a\"],[0.8888888888888888,\"#fdca26\"],[1.0,\"#f0f921\"]]}],\"mesh3d\":[{\"type\":\"mesh3d\",\"colorbar\":{\"outlinewidth\":0,\"ticks\":\"\"}}],\"scatter\":[{\"fillpattern\":{\"fillmode\":\"overlay\",\"size\":10,\"solidity\":0.2},\"type\":\"scatter\"}],\"parcoords\":[{\"type\":\"parcoords\",\"line\":{\"colorbar\":{\"outlinewidth\":0,\"ticks\":\"\"}}}],\"scatterpolargl\":[{\"type\":\"scatterpolargl\",\"marker\":{\"colorbar\":{\"outlinewidth\":0,\"ticks\":\"\"}}}],\"bar\":[{\"error_x\":{\"color\":\"#2a3f5f\"},\"error_y\":{\"color\":\"#2a3f5f\"},\"marker\":{\"line\":{\"color\":\"#E5ECF6\",\"width\":0.5},\"pattern\":{\"fillmode\":\"overlay\",\"size\":10,\"solidity\":0.2}},\"type\":\"bar\"}],\"scattergeo\":[{\"type\":\"scattergeo\",\"marker\":{\"colorbar\":{\"outlinewidth\":0,\"ticks\":\"\"}}}],\"scatterpolar\":[{\"type\":\"scatterpolar\",\"marker\":{\"colorbar\":{\"outlinewidth\":0,\"ticks\":\"\"}}}],\"histogram\":[{\"marker\":{\"pattern\":{\"fillmode\":\"overlay\",\"size\":10,\"solidity\":0.2}},\"type\":\"histogram\"}],\"scattergl\":[{\"type\":\"scattergl\",\"marker\":{\"colorbar\":{\"outlinewidth\":0,\"ticks\":\"\"}}}],\"scatter3d\":[{\"type\":\"scatter3d\",\"line\":{\"colorbar\":{\"outlinewidth\":0,\"ticks\":\"\"}},\"marker\":{\"colorbar\":{\"outlinewidth\":0,\"ticks\":\"\"}}}],\"scattermapbox\":[{\"type\":\"scattermapbox\",\"marker\":{\"colorbar\":{\"outlinewidth\":0,\"ticks\":\"\"}}}],\"scatterternary\":[{\"type\":\"scatterternary\",\"marker\":{\"colorbar\":{\"outlinewidth\":0,\"ticks\":\"\"}}}],\"scattercarpet\":[{\"type\":\"scattercarpet\",\"marker\":{\"colorbar\":{\"outlinewidth\":0,\"ticks\":\"\"}}}],\"carpet\":[{\"aaxis\":{\"endlinecolor\":\"#2a3f5f\",\"gridcolor\":\"white\",\"linecolor\":\"white\",\"minorgridcolor\":\"white\",\"startlinecolor\":\"#2a3f5f\"},\"baxis\":{\"endlinecolor\":\"#2a3f5f\",\"gridcolor\":\"white\",\"linecolor\":\"white\",\"minorgridcolor\":\"white\",\"startlinecolor\":\"#2a3f5f\"},\"type\":\"carpet\"}],\"table\":[{\"cells\":{\"fill\":{\"color\":\"#EBF0F8\"},\"line\":{\"color\":\"white\"}},\"header\":{\"fill\":{\"color\":\"#C8D4E3\"},\"line\":{\"color\":\"white\"}},\"type\":\"table\"}],\"barpolar\":[{\"marker\":{\"line\":{\"color\":\"#E5ECF6\",\"width\":0.5},\"pattern\":{\"fillmode\":\"overlay\",\"size\":10,\"solidity\":0.2}},\"type\":\"barpolar\"}],\"pie\":[{\"automargin\":true,\"type\":\"pie\"}]},\"layout\":{\"autotypenumbers\":\"strict\",\"colorway\":[\"#636efa\",\"#EF553B\",\"#00cc96\",\"#ab63fa\",\"#FFA15A\",\"#19d3f3\",\"#FF6692\",\"#B6E880\",\"#FF97FF\",\"#FECB52\"],\"font\":{\"color\":\"#2a3f5f\"},\"hovermode\":\"closest\",\"hoverlabel\":{\"align\":\"left\"},\"paper_bgcolor\":\"white\",\"plot_bgcolor\":\"#E5ECF6\",\"polar\":{\"bgcolor\":\"#E5ECF6\",\"angularaxis\":{\"gridcolor\":\"white\",\"linecolor\":\"white\",\"ticks\":\"\"},\"radialaxis\":{\"gridcolor\":\"white\",\"linecolor\":\"white\",\"ticks\":\"\"}},\"ternary\":{\"bgcolor\":\"#E5ECF6\",\"aaxis\":{\"gridcolor\":\"white\",\"linecolor\":\"white\",\"ticks\":\"\"},\"baxis\":{\"gridcolor\":\"white\",\"linecolor\":\"white\",\"ticks\":\"\"},\"caxis\":{\"gridcolor\":\"white\",\"linecolor\":\"white\",\"ticks\":\"\"}},\"coloraxis\":{\"colorbar\":{\"outlinewidth\":0,\"ticks\":\"\"}},\"colorscale\":{\"sequential\":[[0.0,\"#0d0887\"],[0.1111111111111111,\"#46039f\"],[0.2222222222222222,\"#7201a8\"],[0.3333333333333333,\"#9c179e\"],[0.4444444444444444,\"#bd3786\"],[0.5555555555555556,\"#d8576b\"],[0.6666666666666666,\"#ed7953\"],[0.7777777777777778,\"#fb9f3a\"],[0.8888888888888888,\"#fdca26\"],[1.0,\"#f0f921\"]],\"sequentialminus\":[[0.0,\"#0d0887\"],[0.1111111111111111,\"#46039f\"],[0.2222222222222222,\"#7201a8\"],[0.3333333333333333,\"#9c179e\"],[0.4444444444444444,\"#bd3786\"],[0.5555555555555556,\"#d8576b\"],[0.6666666666666666,\"#ed7953\"],[0.7777777777777778,\"#fb9f3a\"],[0.8888888888888888,\"#fdca26\"],[1.0,\"#f0f921\"]],\"diverging\":[[0,\"#8e0152\"],[0.1,\"#c51b7d\"],[0.2,\"#de77ae\"],[0.3,\"#f1b6da\"],[0.4,\"#fde0ef\"],[0.5,\"#f7f7f7\"],[0.6,\"#e6f5d0\"],[0.7,\"#b8e186\"],[0.8,\"#7fbc41\"],[0.9,\"#4d9221\"],[1,\"#276419\"]]},\"xaxis\":{\"gridcolor\":\"white\",\"linecolor\":\"white\",\"ticks\":\"\",\"title\":{\"standoff\":15},\"zerolinecolor\":\"white\",\"automargin\":true,\"zerolinewidth\":2},\"yaxis\":{\"gridcolor\":\"white\",\"linecolor\":\"white\",\"ticks\":\"\",\"title\":{\"standoff\":15},\"zerolinecolor\":\"white\",\"automargin\":true,\"zerolinewidth\":2},\"scene\":{\"xaxis\":{\"backgroundcolor\":\"#E5ECF6\",\"gridcolor\":\"white\",\"linecolor\":\"white\",\"showbackground\":true,\"ticks\":\"\",\"zerolinecolor\":\"white\",\"gridwidth\":2},\"yaxis\":{\"backgroundcolor\":\"#E5ECF6\",\"gridcolor\":\"white\",\"linecolor\":\"white\",\"showbackground\":true,\"ticks\":\"\",\"zerolinecolor\":\"white\",\"gridwidth\":2},\"zaxis\":{\"backgroundcolor\":\"#E5ECF6\",\"gridcolor\":\"white\",\"linecolor\":\"white\",\"showbackground\":true,\"ticks\":\"\",\"zerolinecolor\":\"white\",\"gridwidth\":2}},\"shapedefaults\":{\"line\":{\"color\":\"#2a3f5f\"}},\"annotationdefaults\":{\"arrowcolor\":\"#2a3f5f\",\"arrowhead\":0,\"arrowwidth\":1},\"geo\":{\"bgcolor\":\"white\",\"landcolor\":\"#E5ECF6\",\"subunitcolor\":\"white\",\"showland\":true,\"showlakes\":true,\"lakecolor\":\"white\"},\"title\":{\"x\":0.05},\"mapbox\":{\"style\":\"light\"}}},\"legend\":{\"tracegroupgap\":0},\"title\":{\"text\":\"Cantidad de Consultas por Detalle\"}},                        {\"responsive\": true}                    ).then(function(){\n",
       "                            \n",
       "var gd = document.getElementById('144797dc-4768-42ff-bbcb-3dadfbd696c4');\n",
       "var x = new MutationObserver(function (mutations, observer) {{\n",
       "        var display = window.getComputedStyle(gd).display;\n",
       "        if (!display || display === 'none') {{\n",
       "            console.log([gd, 'removed!']);\n",
       "            Plotly.purge(gd);\n",
       "            observer.disconnect();\n",
       "        }}\n",
       "}});\n",
       "\n",
       "// Listen for the removal of the full notebook cells\n",
       "var notebookContainer = gd.closest('#notebook-container');\n",
       "if (notebookContainer) {{\n",
       "    x.observe(notebookContainer, {childList: true});\n",
       "}}\n",
       "\n",
       "// Listen for the clearing of the current output cell\n",
       "var outputEl = gd.closest('.output');\n",
       "if (outputEl) {{\n",
       "    x.observe(outputEl, {childList: true});\n",
       "}}\n",
       "\n",
       "                        })                };                });            </script>        </div>"
      ]
     },
     "metadata": {},
     "output_type": "display_data"
    }
   ],
   "source": [
    "import pandas as pd\n",
    "import plotly.express as px\n",
    "\n",
    "# Supongamos que tienes tu DataFrame llamado 'df' con los datos\n",
    "# ... (procesa los datos como se mostró anteriormente)\n",
    "\n",
    "# Eliminar filas con 'detalle' igual a '#¡REF!'\n",
    "df = df[df['detalle'] != '#¡REF!']\n",
    "\n",
    "# Calcular la cantidad de consultas por detalle\n",
    "atenciones_detalle = df.groupby(['detalle'])['consulta_cantidad'].sum().reset_index()\n",
    "\n",
    "# Crear el gráfico de dona sin etiquetas de porcentaje\n",
    "fig = px.pie(atenciones_detalle, names='detalle', values='consulta_cantidad',\n",
    "             title='Cantidad de Consultas por Detalle',\n",
    "             hole=0.3,  # Agregar un agujero en el centro para hacerlo un gráfico de dona\n",
    "             )\n",
    "\n",
    "# Eliminar las etiquetas de porcentaje\n",
    "fig.update_traces(textinfo='none')\n",
    "\n",
    "# Mostrar el gráfico interactivo\n",
    "fig.show()\n",
    "\n",
    "# Guardar la imagen en formato PNG para PowerPoint\n",
    "fig.write_image(\"grafico_consultas_detalle_dona_sin_porcentaje.png\")"
   ]
  },
  {
   "cell_type": "code",
   "execution_count": 118,
   "id": "254a01ee",
   "metadata": {},
   "outputs": [
    {
     "data": {
      "application/vnd.plotly.v1+json": {
       "config": {
        "plotlyServerURL": "https://plot.ly"
       },
       "data": [
        {
         "alignmentgroup": "True",
         "hovertemplate": "Detalle=%{x}<br>Cantidad de Consultas=%{y}<extra></extra>",
         "legendgroup": "",
         "marker": {
          "color": "#636efa",
          "pattern": {
           "shape": ""
          }
         },
         "name": "",
         "offsetgroup": "",
         "orientation": "v",
         "showlegend": false,
         "textposition": "auto",
         "type": "bar",
         "x": [
          "URGENCIA",
          "CONSULTA-ADULTO (Desde 15 anios)",
          "EXTRACCION DENTARIA",
          "CONSULTA-ADULTO (Desde 15 anos)",
          "CONSULTAS FICHADAS Y MOTIVACION (ninios hasta 14 anios)",
          "INACTIVACION DE CARIES",
          "FOTOCURADO ANTERIORES Y POSTERIORES",
          "FOTOCURADO ANTERIORES Y PosTERIORES",
          "DETENCION, CONTROL PLACA BACTERIANA Y ENS",
          "CONSULTAS FICHADAS Y MOTIVACION (NINOS hasta 14 anos)"
         ],
         "xaxis": "x",
         "y": [
          16939,
          12520,
          11480,
          8618,
          6401,
          5811,
          4949,
          4394,
          4276,
          3067
         ],
         "yaxis": "y"
        }
       ],
       "layout": {
        "barmode": "relative",
        "legend": {
         "tracegroupgap": 0
        },
        "template": {
         "data": {
          "bar": [
           {
            "error_x": {
             "color": "#2a3f5f"
            },
            "error_y": {
             "color": "#2a3f5f"
            },
            "marker": {
             "line": {
              "color": "#E5ECF6",
              "width": 0.5
             },
             "pattern": {
              "fillmode": "overlay",
              "size": 10,
              "solidity": 0.2
             }
            },
            "type": "bar"
           }
          ],
          "barpolar": [
           {
            "marker": {
             "line": {
              "color": "#E5ECF6",
              "width": 0.5
             },
             "pattern": {
              "fillmode": "overlay",
              "size": 10,
              "solidity": 0.2
             }
            },
            "type": "barpolar"
           }
          ],
          "carpet": [
           {
            "aaxis": {
             "endlinecolor": "#2a3f5f",
             "gridcolor": "white",
             "linecolor": "white",
             "minorgridcolor": "white",
             "startlinecolor": "#2a3f5f"
            },
            "baxis": {
             "endlinecolor": "#2a3f5f",
             "gridcolor": "white",
             "linecolor": "white",
             "minorgridcolor": "white",
             "startlinecolor": "#2a3f5f"
            },
            "type": "carpet"
           }
          ],
          "choropleth": [
           {
            "colorbar": {
             "outlinewidth": 0,
             "ticks": ""
            },
            "type": "choropleth"
           }
          ],
          "contour": [
           {
            "colorbar": {
             "outlinewidth": 0,
             "ticks": ""
            },
            "colorscale": [
             [
              0,
              "#0d0887"
             ],
             [
              0.1111111111111111,
              "#46039f"
             ],
             [
              0.2222222222222222,
              "#7201a8"
             ],
             [
              0.3333333333333333,
              "#9c179e"
             ],
             [
              0.4444444444444444,
              "#bd3786"
             ],
             [
              0.5555555555555556,
              "#d8576b"
             ],
             [
              0.6666666666666666,
              "#ed7953"
             ],
             [
              0.7777777777777778,
              "#fb9f3a"
             ],
             [
              0.8888888888888888,
              "#fdca26"
             ],
             [
              1,
              "#f0f921"
             ]
            ],
            "type": "contour"
           }
          ],
          "contourcarpet": [
           {
            "colorbar": {
             "outlinewidth": 0,
             "ticks": ""
            },
            "type": "contourcarpet"
           }
          ],
          "heatmap": [
           {
            "colorbar": {
             "outlinewidth": 0,
             "ticks": ""
            },
            "colorscale": [
             [
              0,
              "#0d0887"
             ],
             [
              0.1111111111111111,
              "#46039f"
             ],
             [
              0.2222222222222222,
              "#7201a8"
             ],
             [
              0.3333333333333333,
              "#9c179e"
             ],
             [
              0.4444444444444444,
              "#bd3786"
             ],
             [
              0.5555555555555556,
              "#d8576b"
             ],
             [
              0.6666666666666666,
              "#ed7953"
             ],
             [
              0.7777777777777778,
              "#fb9f3a"
             ],
             [
              0.8888888888888888,
              "#fdca26"
             ],
             [
              1,
              "#f0f921"
             ]
            ],
            "type": "heatmap"
           }
          ],
          "heatmapgl": [
           {
            "colorbar": {
             "outlinewidth": 0,
             "ticks": ""
            },
            "colorscale": [
             [
              0,
              "#0d0887"
             ],
             [
              0.1111111111111111,
              "#46039f"
             ],
             [
              0.2222222222222222,
              "#7201a8"
             ],
             [
              0.3333333333333333,
              "#9c179e"
             ],
             [
              0.4444444444444444,
              "#bd3786"
             ],
             [
              0.5555555555555556,
              "#d8576b"
             ],
             [
              0.6666666666666666,
              "#ed7953"
             ],
             [
              0.7777777777777778,
              "#fb9f3a"
             ],
             [
              0.8888888888888888,
              "#fdca26"
             ],
             [
              1,
              "#f0f921"
             ]
            ],
            "type": "heatmapgl"
           }
          ],
          "histogram": [
           {
            "marker": {
             "pattern": {
              "fillmode": "overlay",
              "size": 10,
              "solidity": 0.2
             }
            },
            "type": "histogram"
           }
          ],
          "histogram2d": [
           {
            "colorbar": {
             "outlinewidth": 0,
             "ticks": ""
            },
            "colorscale": [
             [
              0,
              "#0d0887"
             ],
             [
              0.1111111111111111,
              "#46039f"
             ],
             [
              0.2222222222222222,
              "#7201a8"
             ],
             [
              0.3333333333333333,
              "#9c179e"
             ],
             [
              0.4444444444444444,
              "#bd3786"
             ],
             [
              0.5555555555555556,
              "#d8576b"
             ],
             [
              0.6666666666666666,
              "#ed7953"
             ],
             [
              0.7777777777777778,
              "#fb9f3a"
             ],
             [
              0.8888888888888888,
              "#fdca26"
             ],
             [
              1,
              "#f0f921"
             ]
            ],
            "type": "histogram2d"
           }
          ],
          "histogram2dcontour": [
           {
            "colorbar": {
             "outlinewidth": 0,
             "ticks": ""
            },
            "colorscale": [
             [
              0,
              "#0d0887"
             ],
             [
              0.1111111111111111,
              "#46039f"
             ],
             [
              0.2222222222222222,
              "#7201a8"
             ],
             [
              0.3333333333333333,
              "#9c179e"
             ],
             [
              0.4444444444444444,
              "#bd3786"
             ],
             [
              0.5555555555555556,
              "#d8576b"
             ],
             [
              0.6666666666666666,
              "#ed7953"
             ],
             [
              0.7777777777777778,
              "#fb9f3a"
             ],
             [
              0.8888888888888888,
              "#fdca26"
             ],
             [
              1,
              "#f0f921"
             ]
            ],
            "type": "histogram2dcontour"
           }
          ],
          "mesh3d": [
           {
            "colorbar": {
             "outlinewidth": 0,
             "ticks": ""
            },
            "type": "mesh3d"
           }
          ],
          "parcoords": [
           {
            "line": {
             "colorbar": {
              "outlinewidth": 0,
              "ticks": ""
             }
            },
            "type": "parcoords"
           }
          ],
          "pie": [
           {
            "automargin": true,
            "type": "pie"
           }
          ],
          "scatter": [
           {
            "fillpattern": {
             "fillmode": "overlay",
             "size": 10,
             "solidity": 0.2
            },
            "type": "scatter"
           }
          ],
          "scatter3d": [
           {
            "line": {
             "colorbar": {
              "outlinewidth": 0,
              "ticks": ""
             }
            },
            "marker": {
             "colorbar": {
              "outlinewidth": 0,
              "ticks": ""
             }
            },
            "type": "scatter3d"
           }
          ],
          "scattercarpet": [
           {
            "marker": {
             "colorbar": {
              "outlinewidth": 0,
              "ticks": ""
             }
            },
            "type": "scattercarpet"
           }
          ],
          "scattergeo": [
           {
            "marker": {
             "colorbar": {
              "outlinewidth": 0,
              "ticks": ""
             }
            },
            "type": "scattergeo"
           }
          ],
          "scattergl": [
           {
            "marker": {
             "colorbar": {
              "outlinewidth": 0,
              "ticks": ""
             }
            },
            "type": "scattergl"
           }
          ],
          "scattermapbox": [
           {
            "marker": {
             "colorbar": {
              "outlinewidth": 0,
              "ticks": ""
             }
            },
            "type": "scattermapbox"
           }
          ],
          "scatterpolar": [
           {
            "marker": {
             "colorbar": {
              "outlinewidth": 0,
              "ticks": ""
             }
            },
            "type": "scatterpolar"
           }
          ],
          "scatterpolargl": [
           {
            "marker": {
             "colorbar": {
              "outlinewidth": 0,
              "ticks": ""
             }
            },
            "type": "scatterpolargl"
           }
          ],
          "scatterternary": [
           {
            "marker": {
             "colorbar": {
              "outlinewidth": 0,
              "ticks": ""
             }
            },
            "type": "scatterternary"
           }
          ],
          "surface": [
           {
            "colorbar": {
             "outlinewidth": 0,
             "ticks": ""
            },
            "colorscale": [
             [
              0,
              "#0d0887"
             ],
             [
              0.1111111111111111,
              "#46039f"
             ],
             [
              0.2222222222222222,
              "#7201a8"
             ],
             [
              0.3333333333333333,
              "#9c179e"
             ],
             [
              0.4444444444444444,
              "#bd3786"
             ],
             [
              0.5555555555555556,
              "#d8576b"
             ],
             [
              0.6666666666666666,
              "#ed7953"
             ],
             [
              0.7777777777777778,
              "#fb9f3a"
             ],
             [
              0.8888888888888888,
              "#fdca26"
             ],
             [
              1,
              "#f0f921"
             ]
            ],
            "type": "surface"
           }
          ],
          "table": [
           {
            "cells": {
             "fill": {
              "color": "#EBF0F8"
             },
             "line": {
              "color": "white"
             }
            },
            "header": {
             "fill": {
              "color": "#C8D4E3"
             },
             "line": {
              "color": "white"
             }
            },
            "type": "table"
           }
          ]
         },
         "layout": {
          "annotationdefaults": {
           "arrowcolor": "#2a3f5f",
           "arrowhead": 0,
           "arrowwidth": 1
          },
          "autotypenumbers": "strict",
          "coloraxis": {
           "colorbar": {
            "outlinewidth": 0,
            "ticks": ""
           }
          },
          "colorscale": {
           "diverging": [
            [
             0,
             "#8e0152"
            ],
            [
             0.1,
             "#c51b7d"
            ],
            [
             0.2,
             "#de77ae"
            ],
            [
             0.3,
             "#f1b6da"
            ],
            [
             0.4,
             "#fde0ef"
            ],
            [
             0.5,
             "#f7f7f7"
            ],
            [
             0.6,
             "#e6f5d0"
            ],
            [
             0.7,
             "#b8e186"
            ],
            [
             0.8,
             "#7fbc41"
            ],
            [
             0.9,
             "#4d9221"
            ],
            [
             1,
             "#276419"
            ]
           ],
           "sequential": [
            [
             0,
             "#0d0887"
            ],
            [
             0.1111111111111111,
             "#46039f"
            ],
            [
             0.2222222222222222,
             "#7201a8"
            ],
            [
             0.3333333333333333,
             "#9c179e"
            ],
            [
             0.4444444444444444,
             "#bd3786"
            ],
            [
             0.5555555555555556,
             "#d8576b"
            ],
            [
             0.6666666666666666,
             "#ed7953"
            ],
            [
             0.7777777777777778,
             "#fb9f3a"
            ],
            [
             0.8888888888888888,
             "#fdca26"
            ],
            [
             1,
             "#f0f921"
            ]
           ],
           "sequentialminus": [
            [
             0,
             "#0d0887"
            ],
            [
             0.1111111111111111,
             "#46039f"
            ],
            [
             0.2222222222222222,
             "#7201a8"
            ],
            [
             0.3333333333333333,
             "#9c179e"
            ],
            [
             0.4444444444444444,
             "#bd3786"
            ],
            [
             0.5555555555555556,
             "#d8576b"
            ],
            [
             0.6666666666666666,
             "#ed7953"
            ],
            [
             0.7777777777777778,
             "#fb9f3a"
            ],
            [
             0.8888888888888888,
             "#fdca26"
            ],
            [
             1,
             "#f0f921"
            ]
           ]
          },
          "colorway": [
           "#636efa",
           "#EF553B",
           "#00cc96",
           "#ab63fa",
           "#FFA15A",
           "#19d3f3",
           "#FF6692",
           "#B6E880",
           "#FF97FF",
           "#FECB52"
          ],
          "font": {
           "color": "#2a3f5f"
          },
          "geo": {
           "bgcolor": "white",
           "lakecolor": "white",
           "landcolor": "#E5ECF6",
           "showlakes": true,
           "showland": true,
           "subunitcolor": "white"
          },
          "hoverlabel": {
           "align": "left"
          },
          "hovermode": "closest",
          "mapbox": {
           "style": "light"
          },
          "paper_bgcolor": "white",
          "plot_bgcolor": "#E5ECF6",
          "polar": {
           "angularaxis": {
            "gridcolor": "white",
            "linecolor": "white",
            "ticks": ""
           },
           "bgcolor": "#E5ECF6",
           "radialaxis": {
            "gridcolor": "white",
            "linecolor": "white",
            "ticks": ""
           }
          },
          "scene": {
           "xaxis": {
            "backgroundcolor": "#E5ECF6",
            "gridcolor": "white",
            "gridwidth": 2,
            "linecolor": "white",
            "showbackground": true,
            "ticks": "",
            "zerolinecolor": "white"
           },
           "yaxis": {
            "backgroundcolor": "#E5ECF6",
            "gridcolor": "white",
            "gridwidth": 2,
            "linecolor": "white",
            "showbackground": true,
            "ticks": "",
            "zerolinecolor": "white"
           },
           "zaxis": {
            "backgroundcolor": "#E5ECF6",
            "gridcolor": "white",
            "gridwidth": 2,
            "linecolor": "white",
            "showbackground": true,
            "ticks": "",
            "zerolinecolor": "white"
           }
          },
          "shapedefaults": {
           "line": {
            "color": "#2a3f5f"
           }
          },
          "ternary": {
           "aaxis": {
            "gridcolor": "white",
            "linecolor": "white",
            "ticks": ""
           },
           "baxis": {
            "gridcolor": "white",
            "linecolor": "white",
            "ticks": ""
           },
           "bgcolor": "#E5ECF6",
           "caxis": {
            "gridcolor": "white",
            "linecolor": "white",
            "ticks": ""
           }
          },
          "title": {
           "x": 0.05
          },
          "xaxis": {
           "automargin": true,
           "gridcolor": "white",
           "linecolor": "white",
           "ticks": "",
           "title": {
            "standoff": 15
           },
           "zerolinecolor": "white",
           "zerolinewidth": 2
          },
          "yaxis": {
           "automargin": true,
           "gridcolor": "white",
           "linecolor": "white",
           "ticks": "",
           "title": {
            "standoff": 15
           },
           "zerolinecolor": "white",
           "zerolinewidth": 2
          }
         }
        },
        "title": {
         "text": "Top 10 Consultas por Detalle"
        },
        "xaxis": {
         "anchor": "y",
         "domain": [
          0,
          1
         ],
         "title": {
          "text": "Detalle"
         }
        },
        "yaxis": {
         "anchor": "x",
         "domain": [
          0,
          1
         ],
         "title": {
          "text": "Cantidad de Consultas"
         }
        }
       }
      },
      "text/html": [
       "<div>                            <div id=\"9db8b333-e46a-49f5-b716-bb60f08501cc\" class=\"plotly-graph-div\" style=\"height:525px; width:100%;\"></div>            <script type=\"text/javascript\">                require([\"plotly\"], function(Plotly) {                    window.PLOTLYENV=window.PLOTLYENV || {};                                    if (document.getElementById(\"9db8b333-e46a-49f5-b716-bb60f08501cc\")) {                    Plotly.newPlot(                        \"9db8b333-e46a-49f5-b716-bb60f08501cc\",                        [{\"alignmentgroup\":\"True\",\"hovertemplate\":\"Detalle=%{x}<br>Cantidad de Consultas=%{y}<extra></extra>\",\"legendgroup\":\"\",\"marker\":{\"color\":\"#636efa\",\"pattern\":{\"shape\":\"\"}},\"name\":\"\",\"offsetgroup\":\"\",\"orientation\":\"v\",\"showlegend\":false,\"textposition\":\"auto\",\"x\":[\"URGENCIA\",\"CONSULTA-ADULTO (Desde 15 anios)\",\"EXTRACCION DENTARIA\",\"CONSULTA-ADULTO (Desde 15 anos)\",\"CONSULTAS FICHADAS Y MOTIVACION (ninios hasta 14 anios)\",\"INACTIVACION DE CARIES\",\"FOTOCURADO ANTERIORES Y POSTERIORES\",\"FOTOCURADO ANTERIORES Y PosTERIORES\",\"DETENCION, CONTROL PLACA BACTERIANA Y ENS\",\"CONSULTAS FICHADAS Y MOTIVACION (NINOS hasta 14 anos)\"],\"xaxis\":\"x\",\"y\":[16939.0,12520.0,11480.0,8618.0,6401.0,5811.0,4949.0,4394.0,4276.0,3067.0],\"yaxis\":\"y\",\"type\":\"bar\"}],                        {\"template\":{\"data\":{\"histogram2dcontour\":[{\"type\":\"histogram2dcontour\",\"colorbar\":{\"outlinewidth\":0,\"ticks\":\"\"},\"colorscale\":[[0.0,\"#0d0887\"],[0.1111111111111111,\"#46039f\"],[0.2222222222222222,\"#7201a8\"],[0.3333333333333333,\"#9c179e\"],[0.4444444444444444,\"#bd3786\"],[0.5555555555555556,\"#d8576b\"],[0.6666666666666666,\"#ed7953\"],[0.7777777777777778,\"#fb9f3a\"],[0.8888888888888888,\"#fdca26\"],[1.0,\"#f0f921\"]]}],\"choropleth\":[{\"type\":\"choropleth\",\"colorbar\":{\"outlinewidth\":0,\"ticks\":\"\"}}],\"histogram2d\":[{\"type\":\"histogram2d\",\"colorbar\":{\"outlinewidth\":0,\"ticks\":\"\"},\"colorscale\":[[0.0,\"#0d0887\"],[0.1111111111111111,\"#46039f\"],[0.2222222222222222,\"#7201a8\"],[0.3333333333333333,\"#9c179e\"],[0.4444444444444444,\"#bd3786\"],[0.5555555555555556,\"#d8576b\"],[0.6666666666666666,\"#ed7953\"],[0.7777777777777778,\"#fb9f3a\"],[0.8888888888888888,\"#fdca26\"],[1.0,\"#f0f921\"]]}],\"heatmap\":[{\"type\":\"heatmap\",\"colorbar\":{\"outlinewidth\":0,\"ticks\":\"\"},\"colorscale\":[[0.0,\"#0d0887\"],[0.1111111111111111,\"#46039f\"],[0.2222222222222222,\"#7201a8\"],[0.3333333333333333,\"#9c179e\"],[0.4444444444444444,\"#bd3786\"],[0.5555555555555556,\"#d8576b\"],[0.6666666666666666,\"#ed7953\"],[0.7777777777777778,\"#fb9f3a\"],[0.8888888888888888,\"#fdca26\"],[1.0,\"#f0f921\"]]}],\"heatmapgl\":[{\"type\":\"heatmapgl\",\"colorbar\":{\"outlinewidth\":0,\"ticks\":\"\"},\"colorscale\":[[0.0,\"#0d0887\"],[0.1111111111111111,\"#46039f\"],[0.2222222222222222,\"#7201a8\"],[0.3333333333333333,\"#9c179e\"],[0.4444444444444444,\"#bd3786\"],[0.5555555555555556,\"#d8576b\"],[0.6666666666666666,\"#ed7953\"],[0.7777777777777778,\"#fb9f3a\"],[0.8888888888888888,\"#fdca26\"],[1.0,\"#f0f921\"]]}],\"contourcarpet\":[{\"type\":\"contourcarpet\",\"colorbar\":{\"outlinewidth\":0,\"ticks\":\"\"}}],\"contour\":[{\"type\":\"contour\",\"colorbar\":{\"outlinewidth\":0,\"ticks\":\"\"},\"colorscale\":[[0.0,\"#0d0887\"],[0.1111111111111111,\"#46039f\"],[0.2222222222222222,\"#7201a8\"],[0.3333333333333333,\"#9c179e\"],[0.4444444444444444,\"#bd3786\"],[0.5555555555555556,\"#d8576b\"],[0.6666666666666666,\"#ed7953\"],[0.7777777777777778,\"#fb9f3a\"],[0.8888888888888888,\"#fdca26\"],[1.0,\"#f0f921\"]]}],\"surface\":[{\"type\":\"surface\",\"colorbar\":{\"outlinewidth\":0,\"ticks\":\"\"},\"colorscale\":[[0.0,\"#0d0887\"],[0.1111111111111111,\"#46039f\"],[0.2222222222222222,\"#7201a8\"],[0.3333333333333333,\"#9c179e\"],[0.4444444444444444,\"#bd3786\"],[0.5555555555555556,\"#d8576b\"],[0.6666666666666666,\"#ed7953\"],[0.7777777777777778,\"#fb9f3a\"],[0.8888888888888888,\"#fdca26\"],[1.0,\"#f0f921\"]]}],\"mesh3d\":[{\"type\":\"mesh3d\",\"colorbar\":{\"outlinewidth\":0,\"ticks\":\"\"}}],\"scatter\":[{\"fillpattern\":{\"fillmode\":\"overlay\",\"size\":10,\"solidity\":0.2},\"type\":\"scatter\"}],\"parcoords\":[{\"type\":\"parcoords\",\"line\":{\"colorbar\":{\"outlinewidth\":0,\"ticks\":\"\"}}}],\"scatterpolargl\":[{\"type\":\"scatterpolargl\",\"marker\":{\"colorbar\":{\"outlinewidth\":0,\"ticks\":\"\"}}}],\"bar\":[{\"error_x\":{\"color\":\"#2a3f5f\"},\"error_y\":{\"color\":\"#2a3f5f\"},\"marker\":{\"line\":{\"color\":\"#E5ECF6\",\"width\":0.5},\"pattern\":{\"fillmode\":\"overlay\",\"size\":10,\"solidity\":0.2}},\"type\":\"bar\"}],\"scattergeo\":[{\"type\":\"scattergeo\",\"marker\":{\"colorbar\":{\"outlinewidth\":0,\"ticks\":\"\"}}}],\"scatterpolar\":[{\"type\":\"scatterpolar\",\"marker\":{\"colorbar\":{\"outlinewidth\":0,\"ticks\":\"\"}}}],\"histogram\":[{\"marker\":{\"pattern\":{\"fillmode\":\"overlay\",\"size\":10,\"solidity\":0.2}},\"type\":\"histogram\"}],\"scattergl\":[{\"type\":\"scattergl\",\"marker\":{\"colorbar\":{\"outlinewidth\":0,\"ticks\":\"\"}}}],\"scatter3d\":[{\"type\":\"scatter3d\",\"line\":{\"colorbar\":{\"outlinewidth\":0,\"ticks\":\"\"}},\"marker\":{\"colorbar\":{\"outlinewidth\":0,\"ticks\":\"\"}}}],\"scattermapbox\":[{\"type\":\"scattermapbox\",\"marker\":{\"colorbar\":{\"outlinewidth\":0,\"ticks\":\"\"}}}],\"scatterternary\":[{\"type\":\"scatterternary\",\"marker\":{\"colorbar\":{\"outlinewidth\":0,\"ticks\":\"\"}}}],\"scattercarpet\":[{\"type\":\"scattercarpet\",\"marker\":{\"colorbar\":{\"outlinewidth\":0,\"ticks\":\"\"}}}],\"carpet\":[{\"aaxis\":{\"endlinecolor\":\"#2a3f5f\",\"gridcolor\":\"white\",\"linecolor\":\"white\",\"minorgridcolor\":\"white\",\"startlinecolor\":\"#2a3f5f\"},\"baxis\":{\"endlinecolor\":\"#2a3f5f\",\"gridcolor\":\"white\",\"linecolor\":\"white\",\"minorgridcolor\":\"white\",\"startlinecolor\":\"#2a3f5f\"},\"type\":\"carpet\"}],\"table\":[{\"cells\":{\"fill\":{\"color\":\"#EBF0F8\"},\"line\":{\"color\":\"white\"}},\"header\":{\"fill\":{\"color\":\"#C8D4E3\"},\"line\":{\"color\":\"white\"}},\"type\":\"table\"}],\"barpolar\":[{\"marker\":{\"line\":{\"color\":\"#E5ECF6\",\"width\":0.5},\"pattern\":{\"fillmode\":\"overlay\",\"size\":10,\"solidity\":0.2}},\"type\":\"barpolar\"}],\"pie\":[{\"automargin\":true,\"type\":\"pie\"}]},\"layout\":{\"autotypenumbers\":\"strict\",\"colorway\":[\"#636efa\",\"#EF553B\",\"#00cc96\",\"#ab63fa\",\"#FFA15A\",\"#19d3f3\",\"#FF6692\",\"#B6E880\",\"#FF97FF\",\"#FECB52\"],\"font\":{\"color\":\"#2a3f5f\"},\"hovermode\":\"closest\",\"hoverlabel\":{\"align\":\"left\"},\"paper_bgcolor\":\"white\",\"plot_bgcolor\":\"#E5ECF6\",\"polar\":{\"bgcolor\":\"#E5ECF6\",\"angularaxis\":{\"gridcolor\":\"white\",\"linecolor\":\"white\",\"ticks\":\"\"},\"radialaxis\":{\"gridcolor\":\"white\",\"linecolor\":\"white\",\"ticks\":\"\"}},\"ternary\":{\"bgcolor\":\"#E5ECF6\",\"aaxis\":{\"gridcolor\":\"white\",\"linecolor\":\"white\",\"ticks\":\"\"},\"baxis\":{\"gridcolor\":\"white\",\"linecolor\":\"white\",\"ticks\":\"\"},\"caxis\":{\"gridcolor\":\"white\",\"linecolor\":\"white\",\"ticks\":\"\"}},\"coloraxis\":{\"colorbar\":{\"outlinewidth\":0,\"ticks\":\"\"}},\"colorscale\":{\"sequential\":[[0.0,\"#0d0887\"],[0.1111111111111111,\"#46039f\"],[0.2222222222222222,\"#7201a8\"],[0.3333333333333333,\"#9c179e\"],[0.4444444444444444,\"#bd3786\"],[0.5555555555555556,\"#d8576b\"],[0.6666666666666666,\"#ed7953\"],[0.7777777777777778,\"#fb9f3a\"],[0.8888888888888888,\"#fdca26\"],[1.0,\"#f0f921\"]],\"sequentialminus\":[[0.0,\"#0d0887\"],[0.1111111111111111,\"#46039f\"],[0.2222222222222222,\"#7201a8\"],[0.3333333333333333,\"#9c179e\"],[0.4444444444444444,\"#bd3786\"],[0.5555555555555556,\"#d8576b\"],[0.6666666666666666,\"#ed7953\"],[0.7777777777777778,\"#fb9f3a\"],[0.8888888888888888,\"#fdca26\"],[1.0,\"#f0f921\"]],\"diverging\":[[0,\"#8e0152\"],[0.1,\"#c51b7d\"],[0.2,\"#de77ae\"],[0.3,\"#f1b6da\"],[0.4,\"#fde0ef\"],[0.5,\"#f7f7f7\"],[0.6,\"#e6f5d0\"],[0.7,\"#b8e186\"],[0.8,\"#7fbc41\"],[0.9,\"#4d9221\"],[1,\"#276419\"]]},\"xaxis\":{\"gridcolor\":\"white\",\"linecolor\":\"white\",\"ticks\":\"\",\"title\":{\"standoff\":15},\"zerolinecolor\":\"white\",\"automargin\":true,\"zerolinewidth\":2},\"yaxis\":{\"gridcolor\":\"white\",\"linecolor\":\"white\",\"ticks\":\"\",\"title\":{\"standoff\":15},\"zerolinecolor\":\"white\",\"automargin\":true,\"zerolinewidth\":2},\"scene\":{\"xaxis\":{\"backgroundcolor\":\"#E5ECF6\",\"gridcolor\":\"white\",\"linecolor\":\"white\",\"showbackground\":true,\"ticks\":\"\",\"zerolinecolor\":\"white\",\"gridwidth\":2},\"yaxis\":{\"backgroundcolor\":\"#E5ECF6\",\"gridcolor\":\"white\",\"linecolor\":\"white\",\"showbackground\":true,\"ticks\":\"\",\"zerolinecolor\":\"white\",\"gridwidth\":2},\"zaxis\":{\"backgroundcolor\":\"#E5ECF6\",\"gridcolor\":\"white\",\"linecolor\":\"white\",\"showbackground\":true,\"ticks\":\"\",\"zerolinecolor\":\"white\",\"gridwidth\":2}},\"shapedefaults\":{\"line\":{\"color\":\"#2a3f5f\"}},\"annotationdefaults\":{\"arrowcolor\":\"#2a3f5f\",\"arrowhead\":0,\"arrowwidth\":1},\"geo\":{\"bgcolor\":\"white\",\"landcolor\":\"#E5ECF6\",\"subunitcolor\":\"white\",\"showland\":true,\"showlakes\":true,\"lakecolor\":\"white\"},\"title\":{\"x\":0.05},\"mapbox\":{\"style\":\"light\"}}},\"xaxis\":{\"anchor\":\"y\",\"domain\":[0.0,1.0],\"title\":{\"text\":\"Detalle\"}},\"yaxis\":{\"anchor\":\"x\",\"domain\":[0.0,1.0],\"title\":{\"text\":\"Cantidad de Consultas\"}},\"legend\":{\"tracegroupgap\":0},\"title\":{\"text\":\"Top 10 Consultas por Detalle\"},\"barmode\":\"relative\"},                        {\"responsive\": true}                    ).then(function(){\n",
       "                            \n",
       "var gd = document.getElementById('9db8b333-e46a-49f5-b716-bb60f08501cc');\n",
       "var x = new MutationObserver(function (mutations, observer) {{\n",
       "        var display = window.getComputedStyle(gd).display;\n",
       "        if (!display || display === 'none') {{\n",
       "            console.log([gd, 'removed!']);\n",
       "            Plotly.purge(gd);\n",
       "            observer.disconnect();\n",
       "        }}\n",
       "}});\n",
       "\n",
       "// Listen for the removal of the full notebook cells\n",
       "var notebookContainer = gd.closest('#notebook-container');\n",
       "if (notebookContainer) {{\n",
       "    x.observe(notebookContainer, {childList: true});\n",
       "}}\n",
       "\n",
       "// Listen for the clearing of the current output cell\n",
       "var outputEl = gd.closest('.output');\n",
       "if (outputEl) {{\n",
       "    x.observe(outputEl, {childList: true});\n",
       "}}\n",
       "\n",
       "                        })                };                });            </script>        </div>"
      ]
     },
     "metadata": {},
     "output_type": "display_data"
    }
   ],
   "source": [
    "import pandas as pd\n",
    "import plotly.express as px\n",
    "\n",
    "# Supongamos que tienes tu DataFrame llamado 'df' con los datos\n",
    "# ... (procesa los datos como se mostró anteriormente)\n",
    "\n",
    "# Eliminar filas con 'detalle' igual a '#¡REF!'\n",
    "df = df[df['detalle'] != '#¡REF!']\n",
    "\n",
    "# Calcular la cantidad de consultas por detalle\n",
    "atenciones_detalle = df.groupby(['detalle'])['consulta_cantidad'].sum().reset_index()\n",
    "\n",
    "# Seleccionar las 10 mayores consultas\n",
    "top_10_consultas = atenciones_detalle.nlargest(10, 'consulta_cantidad')\n",
    "\n",
    "# Crear el gráfico de barras\n",
    "fig = px.bar(top_10_consultas, x='detalle', y='consulta_cantidad',\n",
    "             title='Top 10 Consultas por Detalle',\n",
    "             labels={'detalle': 'Detalle', 'consulta_cantidad': 'Cantidad de Consultas'})\n",
    "\n",
    "fig.update_xaxes(title_text='Detalle')\n",
    "fig.update_yaxes(title_text='Cantidad de Consultas')\n",
    "\n",
    "# Mostrar el gráfico interactivo\n",
    "fig.show()\n",
    "\n",
    "# Guardar la imagen en formato PNG para PowerPoint\n",
    "fig.write_image(\"grafico_consultas_detalle_top_10.png\")\n"
   ]
  },
  {
   "cell_type": "code",
   "execution_count": 119,
   "id": "beb11d4f",
   "metadata": {},
   "outputs": [
    {
     "data": {
      "application/vnd.plotly.v1+json": {
       "config": {
        "plotlyServerURL": "https://plot.ly"
       },
       "data": [
        {
         "alignmentgroup": "True",
         "hovertemplate": "Detalle=%{x}<br>Cantidad de Consultas=%{y}<extra></extra>",
         "legendgroup": "",
         "marker": {
          "color": "#636efa",
          "pattern": {
           "shape": ""
          }
         },
         "name": "",
         "offsetgroup": "",
         "orientation": "v",
         "showlegend": false,
         "textposition": "auto",
         "type": "bar",
         "x": [
          "URGENCIA",
          "EXTRACCION DENTARIA",
          "CONSULTA-ADULTO (Desde 15 anos)",
          "CONSULTAS FICHADAS Y MOTIVACION (ninios hasta 14 anios)",
          "INACTIVACION DE CARIES",
          "FOTOCURADO ANTERIORES Y POSTERIORES",
          "FOTOCURADO ANTERIORES Y PosTERIORES",
          "DETENCION, CONTROL PLACA BACTERIANA Y ENS",
          "TARTREC Y CEPILLADO MECAniCO",
          "TALLER DE PROMOCION Y PREVENCION"
         ],
         "xaxis": "x",
         "y": [
          16939,
          11480,
          8618,
          6401,
          5811,
          4949,
          4394,
          4276,
          1863,
          1650
         ],
         "yaxis": "y"
        }
       ],
       "layout": {
        "barmode": "relative",
        "legend": {
         "tracegroupgap": 0
        },
        "template": {
         "data": {
          "bar": [
           {
            "error_x": {
             "color": "#2a3f5f"
            },
            "error_y": {
             "color": "#2a3f5f"
            },
            "marker": {
             "line": {
              "color": "#E5ECF6",
              "width": 0.5
             },
             "pattern": {
              "fillmode": "overlay",
              "size": 10,
              "solidity": 0.2
             }
            },
            "type": "bar"
           }
          ],
          "barpolar": [
           {
            "marker": {
             "line": {
              "color": "#E5ECF6",
              "width": 0.5
             },
             "pattern": {
              "fillmode": "overlay",
              "size": 10,
              "solidity": 0.2
             }
            },
            "type": "barpolar"
           }
          ],
          "carpet": [
           {
            "aaxis": {
             "endlinecolor": "#2a3f5f",
             "gridcolor": "white",
             "linecolor": "white",
             "minorgridcolor": "white",
             "startlinecolor": "#2a3f5f"
            },
            "baxis": {
             "endlinecolor": "#2a3f5f",
             "gridcolor": "white",
             "linecolor": "white",
             "minorgridcolor": "white",
             "startlinecolor": "#2a3f5f"
            },
            "type": "carpet"
           }
          ],
          "choropleth": [
           {
            "colorbar": {
             "outlinewidth": 0,
             "ticks": ""
            },
            "type": "choropleth"
           }
          ],
          "contour": [
           {
            "colorbar": {
             "outlinewidth": 0,
             "ticks": ""
            },
            "colorscale": [
             [
              0,
              "#0d0887"
             ],
             [
              0.1111111111111111,
              "#46039f"
             ],
             [
              0.2222222222222222,
              "#7201a8"
             ],
             [
              0.3333333333333333,
              "#9c179e"
             ],
             [
              0.4444444444444444,
              "#bd3786"
             ],
             [
              0.5555555555555556,
              "#d8576b"
             ],
             [
              0.6666666666666666,
              "#ed7953"
             ],
             [
              0.7777777777777778,
              "#fb9f3a"
             ],
             [
              0.8888888888888888,
              "#fdca26"
             ],
             [
              1,
              "#f0f921"
             ]
            ],
            "type": "contour"
           }
          ],
          "contourcarpet": [
           {
            "colorbar": {
             "outlinewidth": 0,
             "ticks": ""
            },
            "type": "contourcarpet"
           }
          ],
          "heatmap": [
           {
            "colorbar": {
             "outlinewidth": 0,
             "ticks": ""
            },
            "colorscale": [
             [
              0,
              "#0d0887"
             ],
             [
              0.1111111111111111,
              "#46039f"
             ],
             [
              0.2222222222222222,
              "#7201a8"
             ],
             [
              0.3333333333333333,
              "#9c179e"
             ],
             [
              0.4444444444444444,
              "#bd3786"
             ],
             [
              0.5555555555555556,
              "#d8576b"
             ],
             [
              0.6666666666666666,
              "#ed7953"
             ],
             [
              0.7777777777777778,
              "#fb9f3a"
             ],
             [
              0.8888888888888888,
              "#fdca26"
             ],
             [
              1,
              "#f0f921"
             ]
            ],
            "type": "heatmap"
           }
          ],
          "heatmapgl": [
           {
            "colorbar": {
             "outlinewidth": 0,
             "ticks": ""
            },
            "colorscale": [
             [
              0,
              "#0d0887"
             ],
             [
              0.1111111111111111,
              "#46039f"
             ],
             [
              0.2222222222222222,
              "#7201a8"
             ],
             [
              0.3333333333333333,
              "#9c179e"
             ],
             [
              0.4444444444444444,
              "#bd3786"
             ],
             [
              0.5555555555555556,
              "#d8576b"
             ],
             [
              0.6666666666666666,
              "#ed7953"
             ],
             [
              0.7777777777777778,
              "#fb9f3a"
             ],
             [
              0.8888888888888888,
              "#fdca26"
             ],
             [
              1,
              "#f0f921"
             ]
            ],
            "type": "heatmapgl"
           }
          ],
          "histogram": [
           {
            "marker": {
             "pattern": {
              "fillmode": "overlay",
              "size": 10,
              "solidity": 0.2
             }
            },
            "type": "histogram"
           }
          ],
          "histogram2d": [
           {
            "colorbar": {
             "outlinewidth": 0,
             "ticks": ""
            },
            "colorscale": [
             [
              0,
              "#0d0887"
             ],
             [
              0.1111111111111111,
              "#46039f"
             ],
             [
              0.2222222222222222,
              "#7201a8"
             ],
             [
              0.3333333333333333,
              "#9c179e"
             ],
             [
              0.4444444444444444,
              "#bd3786"
             ],
             [
              0.5555555555555556,
              "#d8576b"
             ],
             [
              0.6666666666666666,
              "#ed7953"
             ],
             [
              0.7777777777777778,
              "#fb9f3a"
             ],
             [
              0.8888888888888888,
              "#fdca26"
             ],
             [
              1,
              "#f0f921"
             ]
            ],
            "type": "histogram2d"
           }
          ],
          "histogram2dcontour": [
           {
            "colorbar": {
             "outlinewidth": 0,
             "ticks": ""
            },
            "colorscale": [
             [
              0,
              "#0d0887"
             ],
             [
              0.1111111111111111,
              "#46039f"
             ],
             [
              0.2222222222222222,
              "#7201a8"
             ],
             [
              0.3333333333333333,
              "#9c179e"
             ],
             [
              0.4444444444444444,
              "#bd3786"
             ],
             [
              0.5555555555555556,
              "#d8576b"
             ],
             [
              0.6666666666666666,
              "#ed7953"
             ],
             [
              0.7777777777777778,
              "#fb9f3a"
             ],
             [
              0.8888888888888888,
              "#fdca26"
             ],
             [
              1,
              "#f0f921"
             ]
            ],
            "type": "histogram2dcontour"
           }
          ],
          "mesh3d": [
           {
            "colorbar": {
             "outlinewidth": 0,
             "ticks": ""
            },
            "type": "mesh3d"
           }
          ],
          "parcoords": [
           {
            "line": {
             "colorbar": {
              "outlinewidth": 0,
              "ticks": ""
             }
            },
            "type": "parcoords"
           }
          ],
          "pie": [
           {
            "automargin": true,
            "type": "pie"
           }
          ],
          "scatter": [
           {
            "fillpattern": {
             "fillmode": "overlay",
             "size": 10,
             "solidity": 0.2
            },
            "type": "scatter"
           }
          ],
          "scatter3d": [
           {
            "line": {
             "colorbar": {
              "outlinewidth": 0,
              "ticks": ""
             }
            },
            "marker": {
             "colorbar": {
              "outlinewidth": 0,
              "ticks": ""
             }
            },
            "type": "scatter3d"
           }
          ],
          "scattercarpet": [
           {
            "marker": {
             "colorbar": {
              "outlinewidth": 0,
              "ticks": ""
             }
            },
            "type": "scattercarpet"
           }
          ],
          "scattergeo": [
           {
            "marker": {
             "colorbar": {
              "outlinewidth": 0,
              "ticks": ""
             }
            },
            "type": "scattergeo"
           }
          ],
          "scattergl": [
           {
            "marker": {
             "colorbar": {
              "outlinewidth": 0,
              "ticks": ""
             }
            },
            "type": "scattergl"
           }
          ],
          "scattermapbox": [
           {
            "marker": {
             "colorbar": {
              "outlinewidth": 0,
              "ticks": ""
             }
            },
            "type": "scattermapbox"
           }
          ],
          "scatterpolar": [
           {
            "marker": {
             "colorbar": {
              "outlinewidth": 0,
              "ticks": ""
             }
            },
            "type": "scatterpolar"
           }
          ],
          "scatterpolargl": [
           {
            "marker": {
             "colorbar": {
              "outlinewidth": 0,
              "ticks": ""
             }
            },
            "type": "scatterpolargl"
           }
          ],
          "scatterternary": [
           {
            "marker": {
             "colorbar": {
              "outlinewidth": 0,
              "ticks": ""
             }
            },
            "type": "scatterternary"
           }
          ],
          "surface": [
           {
            "colorbar": {
             "outlinewidth": 0,
             "ticks": ""
            },
            "colorscale": [
             [
              0,
              "#0d0887"
             ],
             [
              0.1111111111111111,
              "#46039f"
             ],
             [
              0.2222222222222222,
              "#7201a8"
             ],
             [
              0.3333333333333333,
              "#9c179e"
             ],
             [
              0.4444444444444444,
              "#bd3786"
             ],
             [
              0.5555555555555556,
              "#d8576b"
             ],
             [
              0.6666666666666666,
              "#ed7953"
             ],
             [
              0.7777777777777778,
              "#fb9f3a"
             ],
             [
              0.8888888888888888,
              "#fdca26"
             ],
             [
              1,
              "#f0f921"
             ]
            ],
            "type": "surface"
           }
          ],
          "table": [
           {
            "cells": {
             "fill": {
              "color": "#EBF0F8"
             },
             "line": {
              "color": "white"
             }
            },
            "header": {
             "fill": {
              "color": "#C8D4E3"
             },
             "line": {
              "color": "white"
             }
            },
            "type": "table"
           }
          ]
         },
         "layout": {
          "annotationdefaults": {
           "arrowcolor": "#2a3f5f",
           "arrowhead": 0,
           "arrowwidth": 1
          },
          "autotypenumbers": "strict",
          "coloraxis": {
           "colorbar": {
            "outlinewidth": 0,
            "ticks": ""
           }
          },
          "colorscale": {
           "diverging": [
            [
             0,
             "#8e0152"
            ],
            [
             0.1,
             "#c51b7d"
            ],
            [
             0.2,
             "#de77ae"
            ],
            [
             0.3,
             "#f1b6da"
            ],
            [
             0.4,
             "#fde0ef"
            ],
            [
             0.5,
             "#f7f7f7"
            ],
            [
             0.6,
             "#e6f5d0"
            ],
            [
             0.7,
             "#b8e186"
            ],
            [
             0.8,
             "#7fbc41"
            ],
            [
             0.9,
             "#4d9221"
            ],
            [
             1,
             "#276419"
            ]
           ],
           "sequential": [
            [
             0,
             "#0d0887"
            ],
            [
             0.1111111111111111,
             "#46039f"
            ],
            [
             0.2222222222222222,
             "#7201a8"
            ],
            [
             0.3333333333333333,
             "#9c179e"
            ],
            [
             0.4444444444444444,
             "#bd3786"
            ],
            [
             0.5555555555555556,
             "#d8576b"
            ],
            [
             0.6666666666666666,
             "#ed7953"
            ],
            [
             0.7777777777777778,
             "#fb9f3a"
            ],
            [
             0.8888888888888888,
             "#fdca26"
            ],
            [
             1,
             "#f0f921"
            ]
           ],
           "sequentialminus": [
            [
             0,
             "#0d0887"
            ],
            [
             0.1111111111111111,
             "#46039f"
            ],
            [
             0.2222222222222222,
             "#7201a8"
            ],
            [
             0.3333333333333333,
             "#9c179e"
            ],
            [
             0.4444444444444444,
             "#bd3786"
            ],
            [
             0.5555555555555556,
             "#d8576b"
            ],
            [
             0.6666666666666666,
             "#ed7953"
            ],
            [
             0.7777777777777778,
             "#fb9f3a"
            ],
            [
             0.8888888888888888,
             "#fdca26"
            ],
            [
             1,
             "#f0f921"
            ]
           ]
          },
          "colorway": [
           "#636efa",
           "#EF553B",
           "#00cc96",
           "#ab63fa",
           "#FFA15A",
           "#19d3f3",
           "#FF6692",
           "#B6E880",
           "#FF97FF",
           "#FECB52"
          ],
          "font": {
           "color": "#2a3f5f"
          },
          "geo": {
           "bgcolor": "white",
           "lakecolor": "white",
           "landcolor": "#E5ECF6",
           "showlakes": true,
           "showland": true,
           "subunitcolor": "white"
          },
          "hoverlabel": {
           "align": "left"
          },
          "hovermode": "closest",
          "mapbox": {
           "style": "light"
          },
          "paper_bgcolor": "white",
          "plot_bgcolor": "#E5ECF6",
          "polar": {
           "angularaxis": {
            "gridcolor": "white",
            "linecolor": "white",
            "ticks": ""
           },
           "bgcolor": "#E5ECF6",
           "radialaxis": {
            "gridcolor": "white",
            "linecolor": "white",
            "ticks": ""
           }
          },
          "scene": {
           "xaxis": {
            "backgroundcolor": "#E5ECF6",
            "gridcolor": "white",
            "gridwidth": 2,
            "linecolor": "white",
            "showbackground": true,
            "ticks": "",
            "zerolinecolor": "white"
           },
           "yaxis": {
            "backgroundcolor": "#E5ECF6",
            "gridcolor": "white",
            "gridwidth": 2,
            "linecolor": "white",
            "showbackground": true,
            "ticks": "",
            "zerolinecolor": "white"
           },
           "zaxis": {
            "backgroundcolor": "#E5ECF6",
            "gridcolor": "white",
            "gridwidth": 2,
            "linecolor": "white",
            "showbackground": true,
            "ticks": "",
            "zerolinecolor": "white"
           }
          },
          "shapedefaults": {
           "line": {
            "color": "#2a3f5f"
           }
          },
          "ternary": {
           "aaxis": {
            "gridcolor": "white",
            "linecolor": "white",
            "ticks": ""
           },
           "baxis": {
            "gridcolor": "white",
            "linecolor": "white",
            "ticks": ""
           },
           "bgcolor": "#E5ECF6",
           "caxis": {
            "gridcolor": "white",
            "linecolor": "white",
            "ticks": ""
           }
          },
          "title": {
           "x": 0.05
          },
          "xaxis": {
           "automargin": true,
           "gridcolor": "white",
           "linecolor": "white",
           "ticks": "",
           "title": {
            "standoff": 15
           },
           "zerolinecolor": "white",
           "zerolinewidth": 2
          },
          "yaxis": {
           "automargin": true,
           "gridcolor": "white",
           "linecolor": "white",
           "ticks": "",
           "title": {
            "standoff": 15
           },
           "zerolinecolor": "white",
           "zerolinewidth": 2
          }
         }
        },
        "title": {
         "text": "Top 10 Consultas por Detalle"
        },
        "xaxis": {
         "anchor": "y",
         "domain": [
          0,
          1
         ],
         "title": {
          "text": "Detalle"
         }
        },
        "yaxis": {
         "anchor": "x",
         "domain": [
          0,
          1
         ],
         "title": {
          "text": "Cantidad de Consultas"
         }
        }
       }
      },
      "text/html": [
       "<div>                            <div id=\"6288f03c-4971-4f60-8fae-0048fe3430ab\" class=\"plotly-graph-div\" style=\"height:525px; width:100%;\"></div>            <script type=\"text/javascript\">                require([\"plotly\"], function(Plotly) {                    window.PLOTLYENV=window.PLOTLYENV || {};                                    if (document.getElementById(\"6288f03c-4971-4f60-8fae-0048fe3430ab\")) {                    Plotly.newPlot(                        \"6288f03c-4971-4f60-8fae-0048fe3430ab\",                        [{\"alignmentgroup\":\"True\",\"hovertemplate\":\"Detalle=%{x}<br>Cantidad de Consultas=%{y}<extra></extra>\",\"legendgroup\":\"\",\"marker\":{\"color\":\"#636efa\",\"pattern\":{\"shape\":\"\"}},\"name\":\"\",\"offsetgroup\":\"\",\"orientation\":\"v\",\"showlegend\":false,\"textposition\":\"auto\",\"x\":[\"URGENCIA\",\"EXTRACCION DENTARIA\",\"CONSULTA-ADULTO (Desde 15 anos)\",\"CONSULTAS FICHADAS Y MOTIVACION (ninios hasta 14 anios)\",\"INACTIVACION DE CARIES\",\"FOTOCURADO ANTERIORES Y POSTERIORES\",\"FOTOCURADO ANTERIORES Y PosTERIORES\",\"DETENCION, CONTROL PLACA BACTERIANA Y ENS\",\"TARTREC Y CEPILLADO MECAniCO\",\"TALLER DE PROMOCION Y PREVENCION\"],\"xaxis\":\"x\",\"y\":[16939.0,11480.0,8618.0,6401.0,5811.0,4949.0,4394.0,4276.0,1863.0,1650.0],\"yaxis\":\"y\",\"type\":\"bar\"}],                        {\"template\":{\"data\":{\"histogram2dcontour\":[{\"type\":\"histogram2dcontour\",\"colorbar\":{\"outlinewidth\":0,\"ticks\":\"\"},\"colorscale\":[[0.0,\"#0d0887\"],[0.1111111111111111,\"#46039f\"],[0.2222222222222222,\"#7201a8\"],[0.3333333333333333,\"#9c179e\"],[0.4444444444444444,\"#bd3786\"],[0.5555555555555556,\"#d8576b\"],[0.6666666666666666,\"#ed7953\"],[0.7777777777777778,\"#fb9f3a\"],[0.8888888888888888,\"#fdca26\"],[1.0,\"#f0f921\"]]}],\"choropleth\":[{\"type\":\"choropleth\",\"colorbar\":{\"outlinewidth\":0,\"ticks\":\"\"}}],\"histogram2d\":[{\"type\":\"histogram2d\",\"colorbar\":{\"outlinewidth\":0,\"ticks\":\"\"},\"colorscale\":[[0.0,\"#0d0887\"],[0.1111111111111111,\"#46039f\"],[0.2222222222222222,\"#7201a8\"],[0.3333333333333333,\"#9c179e\"],[0.4444444444444444,\"#bd3786\"],[0.5555555555555556,\"#d8576b\"],[0.6666666666666666,\"#ed7953\"],[0.7777777777777778,\"#fb9f3a\"],[0.8888888888888888,\"#fdca26\"],[1.0,\"#f0f921\"]]}],\"heatmap\":[{\"type\":\"heatmap\",\"colorbar\":{\"outlinewidth\":0,\"ticks\":\"\"},\"colorscale\":[[0.0,\"#0d0887\"],[0.1111111111111111,\"#46039f\"],[0.2222222222222222,\"#7201a8\"],[0.3333333333333333,\"#9c179e\"],[0.4444444444444444,\"#bd3786\"],[0.5555555555555556,\"#d8576b\"],[0.6666666666666666,\"#ed7953\"],[0.7777777777777778,\"#fb9f3a\"],[0.8888888888888888,\"#fdca26\"],[1.0,\"#f0f921\"]]}],\"heatmapgl\":[{\"type\":\"heatmapgl\",\"colorbar\":{\"outlinewidth\":0,\"ticks\":\"\"},\"colorscale\":[[0.0,\"#0d0887\"],[0.1111111111111111,\"#46039f\"],[0.2222222222222222,\"#7201a8\"],[0.3333333333333333,\"#9c179e\"],[0.4444444444444444,\"#bd3786\"],[0.5555555555555556,\"#d8576b\"],[0.6666666666666666,\"#ed7953\"],[0.7777777777777778,\"#fb9f3a\"],[0.8888888888888888,\"#fdca26\"],[1.0,\"#f0f921\"]]}],\"contourcarpet\":[{\"type\":\"contourcarpet\",\"colorbar\":{\"outlinewidth\":0,\"ticks\":\"\"}}],\"contour\":[{\"type\":\"contour\",\"colorbar\":{\"outlinewidth\":0,\"ticks\":\"\"},\"colorscale\":[[0.0,\"#0d0887\"],[0.1111111111111111,\"#46039f\"],[0.2222222222222222,\"#7201a8\"],[0.3333333333333333,\"#9c179e\"],[0.4444444444444444,\"#bd3786\"],[0.5555555555555556,\"#d8576b\"],[0.6666666666666666,\"#ed7953\"],[0.7777777777777778,\"#fb9f3a\"],[0.8888888888888888,\"#fdca26\"],[1.0,\"#f0f921\"]]}],\"surface\":[{\"type\":\"surface\",\"colorbar\":{\"outlinewidth\":0,\"ticks\":\"\"},\"colorscale\":[[0.0,\"#0d0887\"],[0.1111111111111111,\"#46039f\"],[0.2222222222222222,\"#7201a8\"],[0.3333333333333333,\"#9c179e\"],[0.4444444444444444,\"#bd3786\"],[0.5555555555555556,\"#d8576b\"],[0.6666666666666666,\"#ed7953\"],[0.7777777777777778,\"#fb9f3a\"],[0.8888888888888888,\"#fdca26\"],[1.0,\"#f0f921\"]]}],\"mesh3d\":[{\"type\":\"mesh3d\",\"colorbar\":{\"outlinewidth\":0,\"ticks\":\"\"}}],\"scatter\":[{\"fillpattern\":{\"fillmode\":\"overlay\",\"size\":10,\"solidity\":0.2},\"type\":\"scatter\"}],\"parcoords\":[{\"type\":\"parcoords\",\"line\":{\"colorbar\":{\"outlinewidth\":0,\"ticks\":\"\"}}}],\"scatterpolargl\":[{\"type\":\"scatterpolargl\",\"marker\":{\"colorbar\":{\"outlinewidth\":0,\"ticks\":\"\"}}}],\"bar\":[{\"error_x\":{\"color\":\"#2a3f5f\"},\"error_y\":{\"color\":\"#2a3f5f\"},\"marker\":{\"line\":{\"color\":\"#E5ECF6\",\"width\":0.5},\"pattern\":{\"fillmode\":\"overlay\",\"size\":10,\"solidity\":0.2}},\"type\":\"bar\"}],\"scattergeo\":[{\"type\":\"scattergeo\",\"marker\":{\"colorbar\":{\"outlinewidth\":0,\"ticks\":\"\"}}}],\"scatterpolar\":[{\"type\":\"scatterpolar\",\"marker\":{\"colorbar\":{\"outlinewidth\":0,\"ticks\":\"\"}}}],\"histogram\":[{\"marker\":{\"pattern\":{\"fillmode\":\"overlay\",\"size\":10,\"solidity\":0.2}},\"type\":\"histogram\"}],\"scattergl\":[{\"type\":\"scattergl\",\"marker\":{\"colorbar\":{\"outlinewidth\":0,\"ticks\":\"\"}}}],\"scatter3d\":[{\"type\":\"scatter3d\",\"line\":{\"colorbar\":{\"outlinewidth\":0,\"ticks\":\"\"}},\"marker\":{\"colorbar\":{\"outlinewidth\":0,\"ticks\":\"\"}}}],\"scattermapbox\":[{\"type\":\"scattermapbox\",\"marker\":{\"colorbar\":{\"outlinewidth\":0,\"ticks\":\"\"}}}],\"scatterternary\":[{\"type\":\"scatterternary\",\"marker\":{\"colorbar\":{\"outlinewidth\":0,\"ticks\":\"\"}}}],\"scattercarpet\":[{\"type\":\"scattercarpet\",\"marker\":{\"colorbar\":{\"outlinewidth\":0,\"ticks\":\"\"}}}],\"carpet\":[{\"aaxis\":{\"endlinecolor\":\"#2a3f5f\",\"gridcolor\":\"white\",\"linecolor\":\"white\",\"minorgridcolor\":\"white\",\"startlinecolor\":\"#2a3f5f\"},\"baxis\":{\"endlinecolor\":\"#2a3f5f\",\"gridcolor\":\"white\",\"linecolor\":\"white\",\"minorgridcolor\":\"white\",\"startlinecolor\":\"#2a3f5f\"},\"type\":\"carpet\"}],\"table\":[{\"cells\":{\"fill\":{\"color\":\"#EBF0F8\"},\"line\":{\"color\":\"white\"}},\"header\":{\"fill\":{\"color\":\"#C8D4E3\"},\"line\":{\"color\":\"white\"}},\"type\":\"table\"}],\"barpolar\":[{\"marker\":{\"line\":{\"color\":\"#E5ECF6\",\"width\":0.5},\"pattern\":{\"fillmode\":\"overlay\",\"size\":10,\"solidity\":0.2}},\"type\":\"barpolar\"}],\"pie\":[{\"automargin\":true,\"type\":\"pie\"}]},\"layout\":{\"autotypenumbers\":\"strict\",\"colorway\":[\"#636efa\",\"#EF553B\",\"#00cc96\",\"#ab63fa\",\"#FFA15A\",\"#19d3f3\",\"#FF6692\",\"#B6E880\",\"#FF97FF\",\"#FECB52\"],\"font\":{\"color\":\"#2a3f5f\"},\"hovermode\":\"closest\",\"hoverlabel\":{\"align\":\"left\"},\"paper_bgcolor\":\"white\",\"plot_bgcolor\":\"#E5ECF6\",\"polar\":{\"bgcolor\":\"#E5ECF6\",\"angularaxis\":{\"gridcolor\":\"white\",\"linecolor\":\"white\",\"ticks\":\"\"},\"radialaxis\":{\"gridcolor\":\"white\",\"linecolor\":\"white\",\"ticks\":\"\"}},\"ternary\":{\"bgcolor\":\"#E5ECF6\",\"aaxis\":{\"gridcolor\":\"white\",\"linecolor\":\"white\",\"ticks\":\"\"},\"baxis\":{\"gridcolor\":\"white\",\"linecolor\":\"white\",\"ticks\":\"\"},\"caxis\":{\"gridcolor\":\"white\",\"linecolor\":\"white\",\"ticks\":\"\"}},\"coloraxis\":{\"colorbar\":{\"outlinewidth\":0,\"ticks\":\"\"}},\"colorscale\":{\"sequential\":[[0.0,\"#0d0887\"],[0.1111111111111111,\"#46039f\"],[0.2222222222222222,\"#7201a8\"],[0.3333333333333333,\"#9c179e\"],[0.4444444444444444,\"#bd3786\"],[0.5555555555555556,\"#d8576b\"],[0.6666666666666666,\"#ed7953\"],[0.7777777777777778,\"#fb9f3a\"],[0.8888888888888888,\"#fdca26\"],[1.0,\"#f0f921\"]],\"sequentialminus\":[[0.0,\"#0d0887\"],[0.1111111111111111,\"#46039f\"],[0.2222222222222222,\"#7201a8\"],[0.3333333333333333,\"#9c179e\"],[0.4444444444444444,\"#bd3786\"],[0.5555555555555556,\"#d8576b\"],[0.6666666666666666,\"#ed7953\"],[0.7777777777777778,\"#fb9f3a\"],[0.8888888888888888,\"#fdca26\"],[1.0,\"#f0f921\"]],\"diverging\":[[0,\"#8e0152\"],[0.1,\"#c51b7d\"],[0.2,\"#de77ae\"],[0.3,\"#f1b6da\"],[0.4,\"#fde0ef\"],[0.5,\"#f7f7f7\"],[0.6,\"#e6f5d0\"],[0.7,\"#b8e186\"],[0.8,\"#7fbc41\"],[0.9,\"#4d9221\"],[1,\"#276419\"]]},\"xaxis\":{\"gridcolor\":\"white\",\"linecolor\":\"white\",\"ticks\":\"\",\"title\":{\"standoff\":15},\"zerolinecolor\":\"white\",\"automargin\":true,\"zerolinewidth\":2},\"yaxis\":{\"gridcolor\":\"white\",\"linecolor\":\"white\",\"ticks\":\"\",\"title\":{\"standoff\":15},\"zerolinecolor\":\"white\",\"automargin\":true,\"zerolinewidth\":2},\"scene\":{\"xaxis\":{\"backgroundcolor\":\"#E5ECF6\",\"gridcolor\":\"white\",\"linecolor\":\"white\",\"showbackground\":true,\"ticks\":\"\",\"zerolinecolor\":\"white\",\"gridwidth\":2},\"yaxis\":{\"backgroundcolor\":\"#E5ECF6\",\"gridcolor\":\"white\",\"linecolor\":\"white\",\"showbackground\":true,\"ticks\":\"\",\"zerolinecolor\":\"white\",\"gridwidth\":2},\"zaxis\":{\"backgroundcolor\":\"#E5ECF6\",\"gridcolor\":\"white\",\"linecolor\":\"white\",\"showbackground\":true,\"ticks\":\"\",\"zerolinecolor\":\"white\",\"gridwidth\":2}},\"shapedefaults\":{\"line\":{\"color\":\"#2a3f5f\"}},\"annotationdefaults\":{\"arrowcolor\":\"#2a3f5f\",\"arrowhead\":0,\"arrowwidth\":1},\"geo\":{\"bgcolor\":\"white\",\"landcolor\":\"#E5ECF6\",\"subunitcolor\":\"white\",\"showland\":true,\"showlakes\":true,\"lakecolor\":\"white\"},\"title\":{\"x\":0.05},\"mapbox\":{\"style\":\"light\"}}},\"xaxis\":{\"anchor\":\"y\",\"domain\":[0.0,1.0],\"title\":{\"text\":\"Detalle\"}},\"yaxis\":{\"anchor\":\"x\",\"domain\":[0.0,1.0],\"title\":{\"text\":\"Cantidad de Consultas\"}},\"legend\":{\"tracegroupgap\":0},\"title\":{\"text\":\"Top 10 Consultas por Detalle\"},\"barmode\":\"relative\"},                        {\"responsive\": true}                    ).then(function(){\n",
       "                            \n",
       "var gd = document.getElementById('6288f03c-4971-4f60-8fae-0048fe3430ab');\n",
       "var x = new MutationObserver(function (mutations, observer) {{\n",
       "        var display = window.getComputedStyle(gd).display;\n",
       "        if (!display || display === 'none') {{\n",
       "            console.log([gd, 'removed!']);\n",
       "            Plotly.purge(gd);\n",
       "            observer.disconnect();\n",
       "        }}\n",
       "}});\n",
       "\n",
       "// Listen for the removal of the full notebook cells\n",
       "var notebookContainer = gd.closest('#notebook-container');\n",
       "if (notebookContainer) {{\n",
       "    x.observe(notebookContainer, {childList: true});\n",
       "}}\n",
       "\n",
       "// Listen for the clearing of the current output cell\n",
       "var outputEl = gd.closest('.output');\n",
       "if (outputEl) {{\n",
       "    x.observe(outputEl, {childList: true});\n",
       "}}\n",
       "\n",
       "                        })                };                });            </script>        </div>"
      ]
     },
     "metadata": {},
     "output_type": "display_data"
    }
   ],
   "source": [
    "import pandas as pd\n",
    "import plotly.express as px\n",
    "\n",
    "# Supongamos que tienes tu DataFrame llamado 'df' con los datos\n",
    "# ... (procesa los datos como se mostró anteriormente)\n",
    "\n",
    "# Eliminar filas con 'detalle' igual a '#¡REF!' y los detalles específicos\n",
    "df = df[(df['detalle'] != '#¡REF!') &\n",
    "        (df['detalle'] != 'CONSULTA-ADULTO (Desde 15 anios)') &\n",
    "        (df['detalle'] != 'CONSULTAS FICHADAS Y MOTIVACION (NINOS hasta 14 anos)')]\n",
    "\n",
    "# Calcular la cantidad de consultas por detalle\n",
    "atenciones_detalle = df.groupby(['detalle'])['consulta_cantidad'].sum().reset_index()\n",
    "\n",
    "# Seleccionar las 10 mayores consultas\n",
    "top_10_consultas = atenciones_detalle.nlargest(10, 'consulta_cantidad')\n",
    "\n",
    "# Crear el gráfico de barras\n",
    "fig = px.bar(top_10_consultas, x='detalle', y='consulta_cantidad',\n",
    "             title='Top 10 Consultas por Detalle',\n",
    "             labels={'detalle': 'Detalle', 'consulta_cantidad': 'Cantidad de Consultas'})\n",
    "\n",
    "fig.update_xaxes(title_text='Detalle')\n",
    "fig.update_yaxes(title_text='Cantidad de Consultas')\n",
    "\n",
    "# Mostrar el gráfico interactivo\n",
    "fig.show()\n",
    "\n",
    "# Guardar la imagen en formato PNG para PowerPoint\n",
    "fig.write_image(\"grafico_consultas_detalle_top_10_sin_excluir.png\")\n"
   ]
  },
  {
   "cell_type": "code",
   "execution_count": 133,
   "id": "2b3000f8",
   "metadata": {},
   "outputs": [
    {
     "data": {
      "application/vnd.plotly.v1+json": {
       "config": {
        "plotlyServerURL": "https://plot.ly"
       },
       "data": [
        {
         "alignmentgroup": "True",
         "hovertemplate": "barrio_popular=no<br>Detalle=%{x}<br>Cantidad de Consultas=%{y}<extra></extra>",
         "legendgroup": "no",
         "marker": {
          "color": "#636efa",
          "pattern": {
           "shape": ""
          }
         },
         "name": "no",
         "offsetgroup": "no",
         "orientation": "v",
         "showlegend": true,
         "textposition": "auto",
         "type": "bar",
         "x": [
          "URGENCIA",
          "EXTRACCION DENTARIA",
          "FOTOCURADO ANTERIORES Y POSTERIORES",
          "CONSULTAS FICHADAS Y MOTIVACION (ninios hasta 14 anios)",
          "DETENCION, CONTROL PLACA BACTERIANA Y ENS",
          "INACTIVACION DE CARIES",
          "TARTREC Y CEPILLADO MECANICO",
          "APLICACION DE FLUOR"
         ],
         "xaxis": "x",
         "y": [
          9328,
          4783,
          4672,
          3789,
          1868,
          1529,
          1333,
          289
         ],
         "yaxis": "y"
        },
        {
         "alignmentgroup": "True",
         "hovertemplate": "barrio_popular=si<br>Detalle=%{x}<br>Cantidad de Consultas=%{y}<extra></extra>",
         "legendgroup": "si",
         "marker": {
          "color": "#EF553B",
          "pattern": {
           "shape": ""
          }
         },
         "name": "si",
         "offsetgroup": "si",
         "orientation": "v",
         "showlegend": true,
         "textposition": "auto",
         "type": "bar",
         "x": [
          "URGENCIA",
          "EXTRACCION DENTARIA",
          "FOTOCURADO ANTERIORES Y POSTERIORES",
          "INACTIVACION DE CARIES",
          "CONSULTAS FICHADAS Y MOTIVACION (ninios hasta 14 anios)",
          "DETENCION, CONTROL PLACA BACTERIANA Y ENS",
          "TARTREC Y CEPILLADO MECANICO",
          "TALLER DE PROMOCION Y PREVENCION",
          "APLICACION DE FLUOR",
          "DERIVACION",
          "SELLANTES DE PUNTos FISURAS",
          "SELLANTES DE PUNTOS FISURAS"
         ],
         "xaxis": "x",
         "y": [
          7611,
          6697,
          4671,
          4282,
          2612,
          2408,
          1935,
          1472,
          843,
          367,
          292,
          268
         ],
         "yaxis": "y"
        }
       ],
       "layout": {
        "barmode": "relative",
        "legend": {
         "title": {
          "text": "barrio_popular"
         },
         "tracegroupgap": 0
        },
        "template": {
         "data": {
          "bar": [
           {
            "error_x": {
             "color": "#2a3f5f"
            },
            "error_y": {
             "color": "#2a3f5f"
            },
            "marker": {
             "line": {
              "color": "#E5ECF6",
              "width": 0.5
             },
             "pattern": {
              "fillmode": "overlay",
              "size": 10,
              "solidity": 0.2
             }
            },
            "type": "bar"
           }
          ],
          "barpolar": [
           {
            "marker": {
             "line": {
              "color": "#E5ECF6",
              "width": 0.5
             },
             "pattern": {
              "fillmode": "overlay",
              "size": 10,
              "solidity": 0.2
             }
            },
            "type": "barpolar"
           }
          ],
          "carpet": [
           {
            "aaxis": {
             "endlinecolor": "#2a3f5f",
             "gridcolor": "white",
             "linecolor": "white",
             "minorgridcolor": "white",
             "startlinecolor": "#2a3f5f"
            },
            "baxis": {
             "endlinecolor": "#2a3f5f",
             "gridcolor": "white",
             "linecolor": "white",
             "minorgridcolor": "white",
             "startlinecolor": "#2a3f5f"
            },
            "type": "carpet"
           }
          ],
          "choropleth": [
           {
            "colorbar": {
             "outlinewidth": 0,
             "ticks": ""
            },
            "type": "choropleth"
           }
          ],
          "contour": [
           {
            "colorbar": {
             "outlinewidth": 0,
             "ticks": ""
            },
            "colorscale": [
             [
              0,
              "#0d0887"
             ],
             [
              0.1111111111111111,
              "#46039f"
             ],
             [
              0.2222222222222222,
              "#7201a8"
             ],
             [
              0.3333333333333333,
              "#9c179e"
             ],
             [
              0.4444444444444444,
              "#bd3786"
             ],
             [
              0.5555555555555556,
              "#d8576b"
             ],
             [
              0.6666666666666666,
              "#ed7953"
             ],
             [
              0.7777777777777778,
              "#fb9f3a"
             ],
             [
              0.8888888888888888,
              "#fdca26"
             ],
             [
              1,
              "#f0f921"
             ]
            ],
            "type": "contour"
           }
          ],
          "contourcarpet": [
           {
            "colorbar": {
             "outlinewidth": 0,
             "ticks": ""
            },
            "type": "contourcarpet"
           }
          ],
          "heatmap": [
           {
            "colorbar": {
             "outlinewidth": 0,
             "ticks": ""
            },
            "colorscale": [
             [
              0,
              "#0d0887"
             ],
             [
              0.1111111111111111,
              "#46039f"
             ],
             [
              0.2222222222222222,
              "#7201a8"
             ],
             [
              0.3333333333333333,
              "#9c179e"
             ],
             [
              0.4444444444444444,
              "#bd3786"
             ],
             [
              0.5555555555555556,
              "#d8576b"
             ],
             [
              0.6666666666666666,
              "#ed7953"
             ],
             [
              0.7777777777777778,
              "#fb9f3a"
             ],
             [
              0.8888888888888888,
              "#fdca26"
             ],
             [
              1,
              "#f0f921"
             ]
            ],
            "type": "heatmap"
           }
          ],
          "heatmapgl": [
           {
            "colorbar": {
             "outlinewidth": 0,
             "ticks": ""
            },
            "colorscale": [
             [
              0,
              "#0d0887"
             ],
             [
              0.1111111111111111,
              "#46039f"
             ],
             [
              0.2222222222222222,
              "#7201a8"
             ],
             [
              0.3333333333333333,
              "#9c179e"
             ],
             [
              0.4444444444444444,
              "#bd3786"
             ],
             [
              0.5555555555555556,
              "#d8576b"
             ],
             [
              0.6666666666666666,
              "#ed7953"
             ],
             [
              0.7777777777777778,
              "#fb9f3a"
             ],
             [
              0.8888888888888888,
              "#fdca26"
             ],
             [
              1,
              "#f0f921"
             ]
            ],
            "type": "heatmapgl"
           }
          ],
          "histogram": [
           {
            "marker": {
             "pattern": {
              "fillmode": "overlay",
              "size": 10,
              "solidity": 0.2
             }
            },
            "type": "histogram"
           }
          ],
          "histogram2d": [
           {
            "colorbar": {
             "outlinewidth": 0,
             "ticks": ""
            },
            "colorscale": [
             [
              0,
              "#0d0887"
             ],
             [
              0.1111111111111111,
              "#46039f"
             ],
             [
              0.2222222222222222,
              "#7201a8"
             ],
             [
              0.3333333333333333,
              "#9c179e"
             ],
             [
              0.4444444444444444,
              "#bd3786"
             ],
             [
              0.5555555555555556,
              "#d8576b"
             ],
             [
              0.6666666666666666,
              "#ed7953"
             ],
             [
              0.7777777777777778,
              "#fb9f3a"
             ],
             [
              0.8888888888888888,
              "#fdca26"
             ],
             [
              1,
              "#f0f921"
             ]
            ],
            "type": "histogram2d"
           }
          ],
          "histogram2dcontour": [
           {
            "colorbar": {
             "outlinewidth": 0,
             "ticks": ""
            },
            "colorscale": [
             [
              0,
              "#0d0887"
             ],
             [
              0.1111111111111111,
              "#46039f"
             ],
             [
              0.2222222222222222,
              "#7201a8"
             ],
             [
              0.3333333333333333,
              "#9c179e"
             ],
             [
              0.4444444444444444,
              "#bd3786"
             ],
             [
              0.5555555555555556,
              "#d8576b"
             ],
             [
              0.6666666666666666,
              "#ed7953"
             ],
             [
              0.7777777777777778,
              "#fb9f3a"
             ],
             [
              0.8888888888888888,
              "#fdca26"
             ],
             [
              1,
              "#f0f921"
             ]
            ],
            "type": "histogram2dcontour"
           }
          ],
          "mesh3d": [
           {
            "colorbar": {
             "outlinewidth": 0,
             "ticks": ""
            },
            "type": "mesh3d"
           }
          ],
          "parcoords": [
           {
            "line": {
             "colorbar": {
              "outlinewidth": 0,
              "ticks": ""
             }
            },
            "type": "parcoords"
           }
          ],
          "pie": [
           {
            "automargin": true,
            "type": "pie"
           }
          ],
          "scatter": [
           {
            "fillpattern": {
             "fillmode": "overlay",
             "size": 10,
             "solidity": 0.2
            },
            "type": "scatter"
           }
          ],
          "scatter3d": [
           {
            "line": {
             "colorbar": {
              "outlinewidth": 0,
              "ticks": ""
             }
            },
            "marker": {
             "colorbar": {
              "outlinewidth": 0,
              "ticks": ""
             }
            },
            "type": "scatter3d"
           }
          ],
          "scattercarpet": [
           {
            "marker": {
             "colorbar": {
              "outlinewidth": 0,
              "ticks": ""
             }
            },
            "type": "scattercarpet"
           }
          ],
          "scattergeo": [
           {
            "marker": {
             "colorbar": {
              "outlinewidth": 0,
              "ticks": ""
             }
            },
            "type": "scattergeo"
           }
          ],
          "scattergl": [
           {
            "marker": {
             "colorbar": {
              "outlinewidth": 0,
              "ticks": ""
             }
            },
            "type": "scattergl"
           }
          ],
          "scattermapbox": [
           {
            "marker": {
             "colorbar": {
              "outlinewidth": 0,
              "ticks": ""
             }
            },
            "type": "scattermapbox"
           }
          ],
          "scatterpolar": [
           {
            "marker": {
             "colorbar": {
              "outlinewidth": 0,
              "ticks": ""
             }
            },
            "type": "scatterpolar"
           }
          ],
          "scatterpolargl": [
           {
            "marker": {
             "colorbar": {
              "outlinewidth": 0,
              "ticks": ""
             }
            },
            "type": "scatterpolargl"
           }
          ],
          "scatterternary": [
           {
            "marker": {
             "colorbar": {
              "outlinewidth": 0,
              "ticks": ""
             }
            },
            "type": "scatterternary"
           }
          ],
          "surface": [
           {
            "colorbar": {
             "outlinewidth": 0,
             "ticks": ""
            },
            "colorscale": [
             [
              0,
              "#0d0887"
             ],
             [
              0.1111111111111111,
              "#46039f"
             ],
             [
              0.2222222222222222,
              "#7201a8"
             ],
             [
              0.3333333333333333,
              "#9c179e"
             ],
             [
              0.4444444444444444,
              "#bd3786"
             ],
             [
              0.5555555555555556,
              "#d8576b"
             ],
             [
              0.6666666666666666,
              "#ed7953"
             ],
             [
              0.7777777777777778,
              "#fb9f3a"
             ],
             [
              0.8888888888888888,
              "#fdca26"
             ],
             [
              1,
              "#f0f921"
             ]
            ],
            "type": "surface"
           }
          ],
          "table": [
           {
            "cells": {
             "fill": {
              "color": "#EBF0F8"
             },
             "line": {
              "color": "white"
             }
            },
            "header": {
             "fill": {
              "color": "#C8D4E3"
             },
             "line": {
              "color": "white"
             }
            },
            "type": "table"
           }
          ]
         },
         "layout": {
          "annotationdefaults": {
           "arrowcolor": "#2a3f5f",
           "arrowhead": 0,
           "arrowwidth": 1
          },
          "autotypenumbers": "strict",
          "coloraxis": {
           "colorbar": {
            "outlinewidth": 0,
            "ticks": ""
           }
          },
          "colorscale": {
           "diverging": [
            [
             0,
             "#8e0152"
            ],
            [
             0.1,
             "#c51b7d"
            ],
            [
             0.2,
             "#de77ae"
            ],
            [
             0.3,
             "#f1b6da"
            ],
            [
             0.4,
             "#fde0ef"
            ],
            [
             0.5,
             "#f7f7f7"
            ],
            [
             0.6,
             "#e6f5d0"
            ],
            [
             0.7,
             "#b8e186"
            ],
            [
             0.8,
             "#7fbc41"
            ],
            [
             0.9,
             "#4d9221"
            ],
            [
             1,
             "#276419"
            ]
           ],
           "sequential": [
            [
             0,
             "#0d0887"
            ],
            [
             0.1111111111111111,
             "#46039f"
            ],
            [
             0.2222222222222222,
             "#7201a8"
            ],
            [
             0.3333333333333333,
             "#9c179e"
            ],
            [
             0.4444444444444444,
             "#bd3786"
            ],
            [
             0.5555555555555556,
             "#d8576b"
            ],
            [
             0.6666666666666666,
             "#ed7953"
            ],
            [
             0.7777777777777778,
             "#fb9f3a"
            ],
            [
             0.8888888888888888,
             "#fdca26"
            ],
            [
             1,
             "#f0f921"
            ]
           ],
           "sequentialminus": [
            [
             0,
             "#0d0887"
            ],
            [
             0.1111111111111111,
             "#46039f"
            ],
            [
             0.2222222222222222,
             "#7201a8"
            ],
            [
             0.3333333333333333,
             "#9c179e"
            ],
            [
             0.4444444444444444,
             "#bd3786"
            ],
            [
             0.5555555555555556,
             "#d8576b"
            ],
            [
             0.6666666666666666,
             "#ed7953"
            ],
            [
             0.7777777777777778,
             "#fb9f3a"
            ],
            [
             0.8888888888888888,
             "#fdca26"
            ],
            [
             1,
             "#f0f921"
            ]
           ]
          },
          "colorway": [
           "#636efa",
           "#EF553B",
           "#00cc96",
           "#ab63fa",
           "#FFA15A",
           "#19d3f3",
           "#FF6692",
           "#B6E880",
           "#FF97FF",
           "#FECB52"
          ],
          "font": {
           "color": "#2a3f5f"
          },
          "geo": {
           "bgcolor": "white",
           "lakecolor": "white",
           "landcolor": "#E5ECF6",
           "showlakes": true,
           "showland": true,
           "subunitcolor": "white"
          },
          "hoverlabel": {
           "align": "left"
          },
          "hovermode": "closest",
          "mapbox": {
           "style": "light"
          },
          "paper_bgcolor": "white",
          "plot_bgcolor": "#E5ECF6",
          "polar": {
           "angularaxis": {
            "gridcolor": "white",
            "linecolor": "white",
            "ticks": ""
           },
           "bgcolor": "#E5ECF6",
           "radialaxis": {
            "gridcolor": "white",
            "linecolor": "white",
            "ticks": ""
           }
          },
          "scene": {
           "xaxis": {
            "backgroundcolor": "#E5ECF6",
            "gridcolor": "white",
            "gridwidth": 2,
            "linecolor": "white",
            "showbackground": true,
            "ticks": "",
            "zerolinecolor": "white"
           },
           "yaxis": {
            "backgroundcolor": "#E5ECF6",
            "gridcolor": "white",
            "gridwidth": 2,
            "linecolor": "white",
            "showbackground": true,
            "ticks": "",
            "zerolinecolor": "white"
           },
           "zaxis": {
            "backgroundcolor": "#E5ECF6",
            "gridcolor": "white",
            "gridwidth": 2,
            "linecolor": "white",
            "showbackground": true,
            "ticks": "",
            "zerolinecolor": "white"
           }
          },
          "shapedefaults": {
           "line": {
            "color": "#2a3f5f"
           }
          },
          "ternary": {
           "aaxis": {
            "gridcolor": "white",
            "linecolor": "white",
            "ticks": ""
           },
           "baxis": {
            "gridcolor": "white",
            "linecolor": "white",
            "ticks": ""
           },
           "bgcolor": "#E5ECF6",
           "caxis": {
            "gridcolor": "white",
            "linecolor": "white",
            "ticks": ""
           }
          },
          "title": {
           "x": 0.05
          },
          "xaxis": {
           "automargin": true,
           "gridcolor": "white",
           "linecolor": "white",
           "ticks": "",
           "title": {
            "standoff": 15
           },
           "zerolinecolor": "white",
           "zerolinewidth": 2
          },
          "yaxis": {
           "automargin": true,
           "gridcolor": "white",
           "linecolor": "white",
           "ticks": "",
           "title": {
            "standoff": 15
           },
           "zerolinecolor": "white",
           "zerolinewidth": 2
          }
         }
        },
        "title": {
         "text": "Top 10 Consultas por Detalle y Tipo de Barrio"
        },
        "xaxis": {
         "anchor": "y",
         "domain": [
          0,
          1
         ],
         "title": {
          "text": "Detalle"
         }
        },
        "yaxis": {
         "anchor": "x",
         "domain": [
          0,
          1
         ],
         "title": {
          "text": "Cantidad de Consultas"
         }
        }
       }
      },
      "text/html": [
       "<div>                            <div id=\"0276c0c2-17b3-4f4a-95ac-0418ad6e6cbe\" class=\"plotly-graph-div\" style=\"height:525px; width:100%;\"></div>            <script type=\"text/javascript\">                require([\"plotly\"], function(Plotly) {                    window.PLOTLYENV=window.PLOTLYENV || {};                                    if (document.getElementById(\"0276c0c2-17b3-4f4a-95ac-0418ad6e6cbe\")) {                    Plotly.newPlot(                        \"0276c0c2-17b3-4f4a-95ac-0418ad6e6cbe\",                        [{\"alignmentgroup\":\"True\",\"hovertemplate\":\"barrio_popular=no<br>Detalle=%{x}<br>Cantidad de Consultas=%{y}<extra></extra>\",\"legendgroup\":\"no\",\"marker\":{\"color\":\"#636efa\",\"pattern\":{\"shape\":\"\"}},\"name\":\"no\",\"offsetgroup\":\"no\",\"orientation\":\"v\",\"showlegend\":true,\"textposition\":\"auto\",\"x\":[\"URGENCIA\",\"EXTRACCION DENTARIA\",\"FOTOCURADO ANTERIORES Y POSTERIORES\",\"CONSULTAS FICHADAS Y MOTIVACION (ninios hasta 14 anios)\",\"DETENCION, CONTROL PLACA BACTERIANA Y ENS\",\"INACTIVACION DE CARIES\",\"TARTREC Y CEPILLADO MECANICO\",\"APLICACION DE FLUOR\"],\"xaxis\":\"x\",\"y\":[9328.0,4783.0,4672.0,3789.0,1868.0,1529.0,1333.0,289.0],\"yaxis\":\"y\",\"type\":\"bar\"},{\"alignmentgroup\":\"True\",\"hovertemplate\":\"barrio_popular=si<br>Detalle=%{x}<br>Cantidad de Consultas=%{y}<extra></extra>\",\"legendgroup\":\"si\",\"marker\":{\"color\":\"#EF553B\",\"pattern\":{\"shape\":\"\"}},\"name\":\"si\",\"offsetgroup\":\"si\",\"orientation\":\"v\",\"showlegend\":true,\"textposition\":\"auto\",\"x\":[\"URGENCIA\",\"EXTRACCION DENTARIA\",\"FOTOCURADO ANTERIORES Y POSTERIORES\",\"INACTIVACION DE CARIES\",\"CONSULTAS FICHADAS Y MOTIVACION (ninios hasta 14 anios)\",\"DETENCION, CONTROL PLACA BACTERIANA Y ENS\",\"TARTREC Y CEPILLADO MECANICO\",\"TALLER DE PROMOCION Y PREVENCION\",\"APLICACION DE FLUOR\",\"DERIVACION\",\"SELLANTES DE PUNTos FISURAS\",\"SELLANTES DE PUNTOS FISURAS\"],\"xaxis\":\"x\",\"y\":[7611.0,6697.0,4671.0,4282.0,2612.0,2408.0,1935.0,1472.0,843.0,367.0,292.0,268.0],\"yaxis\":\"y\",\"type\":\"bar\"}],                        {\"template\":{\"data\":{\"histogram2dcontour\":[{\"type\":\"histogram2dcontour\",\"colorbar\":{\"outlinewidth\":0,\"ticks\":\"\"},\"colorscale\":[[0.0,\"#0d0887\"],[0.1111111111111111,\"#46039f\"],[0.2222222222222222,\"#7201a8\"],[0.3333333333333333,\"#9c179e\"],[0.4444444444444444,\"#bd3786\"],[0.5555555555555556,\"#d8576b\"],[0.6666666666666666,\"#ed7953\"],[0.7777777777777778,\"#fb9f3a\"],[0.8888888888888888,\"#fdca26\"],[1.0,\"#f0f921\"]]}],\"choropleth\":[{\"type\":\"choropleth\",\"colorbar\":{\"outlinewidth\":0,\"ticks\":\"\"}}],\"histogram2d\":[{\"type\":\"histogram2d\",\"colorbar\":{\"outlinewidth\":0,\"ticks\":\"\"},\"colorscale\":[[0.0,\"#0d0887\"],[0.1111111111111111,\"#46039f\"],[0.2222222222222222,\"#7201a8\"],[0.3333333333333333,\"#9c179e\"],[0.4444444444444444,\"#bd3786\"],[0.5555555555555556,\"#d8576b\"],[0.6666666666666666,\"#ed7953\"],[0.7777777777777778,\"#fb9f3a\"],[0.8888888888888888,\"#fdca26\"],[1.0,\"#f0f921\"]]}],\"heatmap\":[{\"type\":\"heatmap\",\"colorbar\":{\"outlinewidth\":0,\"ticks\":\"\"},\"colorscale\":[[0.0,\"#0d0887\"],[0.1111111111111111,\"#46039f\"],[0.2222222222222222,\"#7201a8\"],[0.3333333333333333,\"#9c179e\"],[0.4444444444444444,\"#bd3786\"],[0.5555555555555556,\"#d8576b\"],[0.6666666666666666,\"#ed7953\"],[0.7777777777777778,\"#fb9f3a\"],[0.8888888888888888,\"#fdca26\"],[1.0,\"#f0f921\"]]}],\"heatmapgl\":[{\"type\":\"heatmapgl\",\"colorbar\":{\"outlinewidth\":0,\"ticks\":\"\"},\"colorscale\":[[0.0,\"#0d0887\"],[0.1111111111111111,\"#46039f\"],[0.2222222222222222,\"#7201a8\"],[0.3333333333333333,\"#9c179e\"],[0.4444444444444444,\"#bd3786\"],[0.5555555555555556,\"#d8576b\"],[0.6666666666666666,\"#ed7953\"],[0.7777777777777778,\"#fb9f3a\"],[0.8888888888888888,\"#fdca26\"],[1.0,\"#f0f921\"]]}],\"contourcarpet\":[{\"type\":\"contourcarpet\",\"colorbar\":{\"outlinewidth\":0,\"ticks\":\"\"}}],\"contour\":[{\"type\":\"contour\",\"colorbar\":{\"outlinewidth\":0,\"ticks\":\"\"},\"colorscale\":[[0.0,\"#0d0887\"],[0.1111111111111111,\"#46039f\"],[0.2222222222222222,\"#7201a8\"],[0.3333333333333333,\"#9c179e\"],[0.4444444444444444,\"#bd3786\"],[0.5555555555555556,\"#d8576b\"],[0.6666666666666666,\"#ed7953\"],[0.7777777777777778,\"#fb9f3a\"],[0.8888888888888888,\"#fdca26\"],[1.0,\"#f0f921\"]]}],\"surface\":[{\"type\":\"surface\",\"colorbar\":{\"outlinewidth\":0,\"ticks\":\"\"},\"colorscale\":[[0.0,\"#0d0887\"],[0.1111111111111111,\"#46039f\"],[0.2222222222222222,\"#7201a8\"],[0.3333333333333333,\"#9c179e\"],[0.4444444444444444,\"#bd3786\"],[0.5555555555555556,\"#d8576b\"],[0.6666666666666666,\"#ed7953\"],[0.7777777777777778,\"#fb9f3a\"],[0.8888888888888888,\"#fdca26\"],[1.0,\"#f0f921\"]]}],\"mesh3d\":[{\"type\":\"mesh3d\",\"colorbar\":{\"outlinewidth\":0,\"ticks\":\"\"}}],\"scatter\":[{\"fillpattern\":{\"fillmode\":\"overlay\",\"size\":10,\"solidity\":0.2},\"type\":\"scatter\"}],\"parcoords\":[{\"type\":\"parcoords\",\"line\":{\"colorbar\":{\"outlinewidth\":0,\"ticks\":\"\"}}}],\"scatterpolargl\":[{\"type\":\"scatterpolargl\",\"marker\":{\"colorbar\":{\"outlinewidth\":0,\"ticks\":\"\"}}}],\"bar\":[{\"error_x\":{\"color\":\"#2a3f5f\"},\"error_y\":{\"color\":\"#2a3f5f\"},\"marker\":{\"line\":{\"color\":\"#E5ECF6\",\"width\":0.5},\"pattern\":{\"fillmode\":\"overlay\",\"size\":10,\"solidity\":0.2}},\"type\":\"bar\"}],\"scattergeo\":[{\"type\":\"scattergeo\",\"marker\":{\"colorbar\":{\"outlinewidth\":0,\"ticks\":\"\"}}}],\"scatterpolar\":[{\"type\":\"scatterpolar\",\"marker\":{\"colorbar\":{\"outlinewidth\":0,\"ticks\":\"\"}}}],\"histogram\":[{\"marker\":{\"pattern\":{\"fillmode\":\"overlay\",\"size\":10,\"solidity\":0.2}},\"type\":\"histogram\"}],\"scattergl\":[{\"type\":\"scattergl\",\"marker\":{\"colorbar\":{\"outlinewidth\":0,\"ticks\":\"\"}}}],\"scatter3d\":[{\"type\":\"scatter3d\",\"line\":{\"colorbar\":{\"outlinewidth\":0,\"ticks\":\"\"}},\"marker\":{\"colorbar\":{\"outlinewidth\":0,\"ticks\":\"\"}}}],\"scattermapbox\":[{\"type\":\"scattermapbox\",\"marker\":{\"colorbar\":{\"outlinewidth\":0,\"ticks\":\"\"}}}],\"scatterternary\":[{\"type\":\"scatterternary\",\"marker\":{\"colorbar\":{\"outlinewidth\":0,\"ticks\":\"\"}}}],\"scattercarpet\":[{\"type\":\"scattercarpet\",\"marker\":{\"colorbar\":{\"outlinewidth\":0,\"ticks\":\"\"}}}],\"carpet\":[{\"aaxis\":{\"endlinecolor\":\"#2a3f5f\",\"gridcolor\":\"white\",\"linecolor\":\"white\",\"minorgridcolor\":\"white\",\"startlinecolor\":\"#2a3f5f\"},\"baxis\":{\"endlinecolor\":\"#2a3f5f\",\"gridcolor\":\"white\",\"linecolor\":\"white\",\"minorgridcolor\":\"white\",\"startlinecolor\":\"#2a3f5f\"},\"type\":\"carpet\"}],\"table\":[{\"cells\":{\"fill\":{\"color\":\"#EBF0F8\"},\"line\":{\"color\":\"white\"}},\"header\":{\"fill\":{\"color\":\"#C8D4E3\"},\"line\":{\"color\":\"white\"}},\"type\":\"table\"}],\"barpolar\":[{\"marker\":{\"line\":{\"color\":\"#E5ECF6\",\"width\":0.5},\"pattern\":{\"fillmode\":\"overlay\",\"size\":10,\"solidity\":0.2}},\"type\":\"barpolar\"}],\"pie\":[{\"automargin\":true,\"type\":\"pie\"}]},\"layout\":{\"autotypenumbers\":\"strict\",\"colorway\":[\"#636efa\",\"#EF553B\",\"#00cc96\",\"#ab63fa\",\"#FFA15A\",\"#19d3f3\",\"#FF6692\",\"#B6E880\",\"#FF97FF\",\"#FECB52\"],\"font\":{\"color\":\"#2a3f5f\"},\"hovermode\":\"closest\",\"hoverlabel\":{\"align\":\"left\"},\"paper_bgcolor\":\"white\",\"plot_bgcolor\":\"#E5ECF6\",\"polar\":{\"bgcolor\":\"#E5ECF6\",\"angularaxis\":{\"gridcolor\":\"white\",\"linecolor\":\"white\",\"ticks\":\"\"},\"radialaxis\":{\"gridcolor\":\"white\",\"linecolor\":\"white\",\"ticks\":\"\"}},\"ternary\":{\"bgcolor\":\"#E5ECF6\",\"aaxis\":{\"gridcolor\":\"white\",\"linecolor\":\"white\",\"ticks\":\"\"},\"baxis\":{\"gridcolor\":\"white\",\"linecolor\":\"white\",\"ticks\":\"\"},\"caxis\":{\"gridcolor\":\"white\",\"linecolor\":\"white\",\"ticks\":\"\"}},\"coloraxis\":{\"colorbar\":{\"outlinewidth\":0,\"ticks\":\"\"}},\"colorscale\":{\"sequential\":[[0.0,\"#0d0887\"],[0.1111111111111111,\"#46039f\"],[0.2222222222222222,\"#7201a8\"],[0.3333333333333333,\"#9c179e\"],[0.4444444444444444,\"#bd3786\"],[0.5555555555555556,\"#d8576b\"],[0.6666666666666666,\"#ed7953\"],[0.7777777777777778,\"#fb9f3a\"],[0.8888888888888888,\"#fdca26\"],[1.0,\"#f0f921\"]],\"sequentialminus\":[[0.0,\"#0d0887\"],[0.1111111111111111,\"#46039f\"],[0.2222222222222222,\"#7201a8\"],[0.3333333333333333,\"#9c179e\"],[0.4444444444444444,\"#bd3786\"],[0.5555555555555556,\"#d8576b\"],[0.6666666666666666,\"#ed7953\"],[0.7777777777777778,\"#fb9f3a\"],[0.8888888888888888,\"#fdca26\"],[1.0,\"#f0f921\"]],\"diverging\":[[0,\"#8e0152\"],[0.1,\"#c51b7d\"],[0.2,\"#de77ae\"],[0.3,\"#f1b6da\"],[0.4,\"#fde0ef\"],[0.5,\"#f7f7f7\"],[0.6,\"#e6f5d0\"],[0.7,\"#b8e186\"],[0.8,\"#7fbc41\"],[0.9,\"#4d9221\"],[1,\"#276419\"]]},\"xaxis\":{\"gridcolor\":\"white\",\"linecolor\":\"white\",\"ticks\":\"\",\"title\":{\"standoff\":15},\"zerolinecolor\":\"white\",\"automargin\":true,\"zerolinewidth\":2},\"yaxis\":{\"gridcolor\":\"white\",\"linecolor\":\"white\",\"ticks\":\"\",\"title\":{\"standoff\":15},\"zerolinecolor\":\"white\",\"automargin\":true,\"zerolinewidth\":2},\"scene\":{\"xaxis\":{\"backgroundcolor\":\"#E5ECF6\",\"gridcolor\":\"white\",\"linecolor\":\"white\",\"showbackground\":true,\"ticks\":\"\",\"zerolinecolor\":\"white\",\"gridwidth\":2},\"yaxis\":{\"backgroundcolor\":\"#E5ECF6\",\"gridcolor\":\"white\",\"linecolor\":\"white\",\"showbackground\":true,\"ticks\":\"\",\"zerolinecolor\":\"white\",\"gridwidth\":2},\"zaxis\":{\"backgroundcolor\":\"#E5ECF6\",\"gridcolor\":\"white\",\"linecolor\":\"white\",\"showbackground\":true,\"ticks\":\"\",\"zerolinecolor\":\"white\",\"gridwidth\":2}},\"shapedefaults\":{\"line\":{\"color\":\"#2a3f5f\"}},\"annotationdefaults\":{\"arrowcolor\":\"#2a3f5f\",\"arrowhead\":0,\"arrowwidth\":1},\"geo\":{\"bgcolor\":\"white\",\"landcolor\":\"#E5ECF6\",\"subunitcolor\":\"white\",\"showland\":true,\"showlakes\":true,\"lakecolor\":\"white\"},\"title\":{\"x\":0.05},\"mapbox\":{\"style\":\"light\"}}},\"xaxis\":{\"anchor\":\"y\",\"domain\":[0.0,1.0],\"title\":{\"text\":\"Detalle\"}},\"yaxis\":{\"anchor\":\"x\",\"domain\":[0.0,1.0],\"title\":{\"text\":\"Cantidad de Consultas\"}},\"legend\":{\"title\":{\"text\":\"barrio_popular\"},\"tracegroupgap\":0},\"title\":{\"text\":\"Top 10 Consultas por Detalle y Tipo de Barrio\"},\"barmode\":\"relative\"},                        {\"responsive\": true}                    ).then(function(){\n",
       "                            \n",
       "var gd = document.getElementById('0276c0c2-17b3-4f4a-95ac-0418ad6e6cbe');\n",
       "var x = new MutationObserver(function (mutations, observer) {{\n",
       "        var display = window.getComputedStyle(gd).display;\n",
       "        if (!display || display === 'none') {{\n",
       "            console.log([gd, 'removed!']);\n",
       "            Plotly.purge(gd);\n",
       "            observer.disconnect();\n",
       "        }}\n",
       "}});\n",
       "\n",
       "// Listen for the removal of the full notebook cells\n",
       "var notebookContainer = gd.closest('#notebook-container');\n",
       "if (notebookContainer) {{\n",
       "    x.observe(notebookContainer, {childList: true});\n",
       "}}\n",
       "\n",
       "// Listen for the clearing of the current output cell\n",
       "var outputEl = gd.closest('.output');\n",
       "if (outputEl) {{\n",
       "    x.observe(outputEl, {childList: true});\n",
       "}}\n",
       "\n",
       "                        })                };                });            </script>        </div>"
      ]
     },
     "metadata": {},
     "output_type": "display_data"
    }
   ],
   "source": [
    "import pandas as pd\n",
    "import plotly.express as px\n",
    "\n",
    "# Supongamos que tienes tu DataFrame llamado 'df' con los datos\n",
    "# ... (procesa los datos como se mostró anteriormente)\n",
    "\n",
    "# Eliminar filas con 'detalle' igual a '#¡REF!' y los detalles específicos\n",
    "df = df[(df['detalle'] != '#¡REF!') &\n",
    "        (df['detalle'] != 'CONSULTA-ADULTO (Desde 15 anos)') &\n",
    "        (df['detalle'] != 'CONSULTAS FICHADAS Y MOTIVACION (NINOS hasta 14 anos)')]\n",
    "\n",
    "# Corregir errores tipográficos en los detalles de las consultas\n",
    "correcciones = {\n",
    "    'FOTOCURADO ANTERIORES Y PosTERIORES': 'FOTOCURADO ANTERIORES Y POSTERIORES',\n",
    "    'TARTREC Y CEPILLADO MECAniCO': 'TARTREC Y CEPILLADO MECANICO'\n",
    "}\n",
    "\n",
    "df['detalle'] = df['detalle'].replace(correcciones)\n",
    "\n",
    "# Calcular la cantidad de consultas por detalle\n",
    "atenciones_detalle = df.groupby(['detalle', 'barrio_popular'])['consulta_cantidad'].sum().reset_index()\n",
    "\n",
    "# Encontrar los 10 detalles con la mayor cantidad de consultas\n",
    "top_10_consultas = atenciones_detalle.nlargest(20, 'consulta_cantidad')\n",
    "\n",
    "# Crear el gráfico de barras\n",
    "fig = px.bar(top_10_consultas, x='detalle', y='consulta_cantidad',\n",
    "             title='Top 10 Consultas por Detalle y Tipo de Barrio',\n",
    "             labels={'detalle': 'Detalle', 'consulta_cantidad': 'Cantidad de Consultas'},\n",
    "             color='barrio_popular',  # Colorear por tipo de barrio\n",
    "             category_orders={\"barrio_popular\": [\"no\", \"si\"]},  # Ordenar las categorías\n",
    "            )\n",
    "\n",
    "fig.update_xaxes(title_text='Detalle')\n",
    "fig.update_yaxes(title_text='Cantidad de Consultas')\n",
    "\n",
    "# Mostrar el gráfico interactivo\n",
    "fig.show()\n",
    "\n",
    "# Guardar la imagen en formato PNG para PowerPoint\n",
    "fig.write_image(\"grafico_consultas_detalle_top_10.png\")\n"
   ]
  },
  {
   "cell_type": "code",
   "execution_count": 136,
   "id": "3236a487",
   "metadata": {},
   "outputs": [
    {
     "data": {
      "application/vnd.plotly.v1+json": {
       "config": {
        "plotlyServerURL": "https://plot.ly"
       },
       "data": [
        {
         "alignmentgroup": "True",
         "hovertemplate": "barrio_popular=no<br>Detalle=%{x}<br>Cantidad de Consultas=%{y}<extra></extra>",
         "legendgroup": "no",
         "marker": {
          "color": "#636efa",
          "pattern": {
           "shape": ""
          }
         },
         "name": "no",
         "offsetgroup": "no",
         "orientation": "v",
         "showlegend": true,
         "textposition": "auto",
         "type": "bar",
         "x": [
          "URGENCIA",
          "EXTRACCION DENTARIA",
          "FOTOCURADO ANTERIORES Y POSTERIORES",
          "CONSULTAS FICHADAS Y MOTIVACION (ninios hasta 14 anios)",
          "DETENCION, CONTROL PLACA BACTERIANA Y ENS",
          "INACTIVACION DE CARIES",
          "TARTREC Y CEPILLADO MECANICO",
          "APLICACION DE FLUOR"
         ],
         "xaxis": "x",
         "y": [
          9328,
          4783,
          4672,
          3789,
          1868,
          1529,
          1333,
          289
         ],
         "yaxis": "y"
        },
        {
         "alignmentgroup": "True",
         "hovertemplate": "barrio_popular=si<br>Detalle=%{x}<br>Cantidad de Consultas=%{y}<extra></extra>",
         "legendgroup": "si",
         "marker": {
          "color": "#EF553B",
          "pattern": {
           "shape": ""
          }
         },
         "name": "si",
         "offsetgroup": "si",
         "orientation": "v",
         "showlegend": true,
         "textposition": "auto",
         "type": "bar",
         "x": [
          "URGENCIA",
          "EXTRACCION DENTARIA",
          "FOTOCURADO ANTERIORES Y POSTERIORES",
          "INACTIVACION DE CARIES",
          "CONSULTAS FICHADAS Y MOTIVACION (ninios hasta 14 anios)",
          "DETENCION, CONTROL PLACA BACTERIANA Y ENS",
          "TARTREC Y CEPILLADO MECANICO",
          "TALLER DE PROMOCION Y PREVENCION",
          "APLICACION DE FLUOR",
          "DERIVACION",
          "SELLANTES DE PUNTos FISURAS",
          "SELLANTES DE PUNTOS FISURAS"
         ],
         "xaxis": "x",
         "y": [
          7611,
          6697,
          4671,
          4282,
          2612,
          2408,
          1935,
          1472,
          843,
          367,
          292,
          268
         ],
         "yaxis": "y"
        }
       ],
       "layout": {
        "barmode": "relative",
        "legend": {
         "title": {
          "text": "barrio_popular"
         },
         "tracegroupgap": 0
        },
        "template": {
         "data": {
          "bar": [
           {
            "error_x": {
             "color": "#2a3f5f"
            },
            "error_y": {
             "color": "#2a3f5f"
            },
            "marker": {
             "line": {
              "color": "#E5ECF6",
              "width": 0.5
             },
             "pattern": {
              "fillmode": "overlay",
              "size": 10,
              "solidity": 0.2
             }
            },
            "type": "bar"
           }
          ],
          "barpolar": [
           {
            "marker": {
             "line": {
              "color": "#E5ECF6",
              "width": 0.5
             },
             "pattern": {
              "fillmode": "overlay",
              "size": 10,
              "solidity": 0.2
             }
            },
            "type": "barpolar"
           }
          ],
          "carpet": [
           {
            "aaxis": {
             "endlinecolor": "#2a3f5f",
             "gridcolor": "white",
             "linecolor": "white",
             "minorgridcolor": "white",
             "startlinecolor": "#2a3f5f"
            },
            "baxis": {
             "endlinecolor": "#2a3f5f",
             "gridcolor": "white",
             "linecolor": "white",
             "minorgridcolor": "white",
             "startlinecolor": "#2a3f5f"
            },
            "type": "carpet"
           }
          ],
          "choropleth": [
           {
            "colorbar": {
             "outlinewidth": 0,
             "ticks": ""
            },
            "type": "choropleth"
           }
          ],
          "contour": [
           {
            "colorbar": {
             "outlinewidth": 0,
             "ticks": ""
            },
            "colorscale": [
             [
              0,
              "#0d0887"
             ],
             [
              0.1111111111111111,
              "#46039f"
             ],
             [
              0.2222222222222222,
              "#7201a8"
             ],
             [
              0.3333333333333333,
              "#9c179e"
             ],
             [
              0.4444444444444444,
              "#bd3786"
             ],
             [
              0.5555555555555556,
              "#d8576b"
             ],
             [
              0.6666666666666666,
              "#ed7953"
             ],
             [
              0.7777777777777778,
              "#fb9f3a"
             ],
             [
              0.8888888888888888,
              "#fdca26"
             ],
             [
              1,
              "#f0f921"
             ]
            ],
            "type": "contour"
           }
          ],
          "contourcarpet": [
           {
            "colorbar": {
             "outlinewidth": 0,
             "ticks": ""
            },
            "type": "contourcarpet"
           }
          ],
          "heatmap": [
           {
            "colorbar": {
             "outlinewidth": 0,
             "ticks": ""
            },
            "colorscale": [
             [
              0,
              "#0d0887"
             ],
             [
              0.1111111111111111,
              "#46039f"
             ],
             [
              0.2222222222222222,
              "#7201a8"
             ],
             [
              0.3333333333333333,
              "#9c179e"
             ],
             [
              0.4444444444444444,
              "#bd3786"
             ],
             [
              0.5555555555555556,
              "#d8576b"
             ],
             [
              0.6666666666666666,
              "#ed7953"
             ],
             [
              0.7777777777777778,
              "#fb9f3a"
             ],
             [
              0.8888888888888888,
              "#fdca26"
             ],
             [
              1,
              "#f0f921"
             ]
            ],
            "type": "heatmap"
           }
          ],
          "heatmapgl": [
           {
            "colorbar": {
             "outlinewidth": 0,
             "ticks": ""
            },
            "colorscale": [
             [
              0,
              "#0d0887"
             ],
             [
              0.1111111111111111,
              "#46039f"
             ],
             [
              0.2222222222222222,
              "#7201a8"
             ],
             [
              0.3333333333333333,
              "#9c179e"
             ],
             [
              0.4444444444444444,
              "#bd3786"
             ],
             [
              0.5555555555555556,
              "#d8576b"
             ],
             [
              0.6666666666666666,
              "#ed7953"
             ],
             [
              0.7777777777777778,
              "#fb9f3a"
             ],
             [
              0.8888888888888888,
              "#fdca26"
             ],
             [
              1,
              "#f0f921"
             ]
            ],
            "type": "heatmapgl"
           }
          ],
          "histogram": [
           {
            "marker": {
             "pattern": {
              "fillmode": "overlay",
              "size": 10,
              "solidity": 0.2
             }
            },
            "type": "histogram"
           }
          ],
          "histogram2d": [
           {
            "colorbar": {
             "outlinewidth": 0,
             "ticks": ""
            },
            "colorscale": [
             [
              0,
              "#0d0887"
             ],
             [
              0.1111111111111111,
              "#46039f"
             ],
             [
              0.2222222222222222,
              "#7201a8"
             ],
             [
              0.3333333333333333,
              "#9c179e"
             ],
             [
              0.4444444444444444,
              "#bd3786"
             ],
             [
              0.5555555555555556,
              "#d8576b"
             ],
             [
              0.6666666666666666,
              "#ed7953"
             ],
             [
              0.7777777777777778,
              "#fb9f3a"
             ],
             [
              0.8888888888888888,
              "#fdca26"
             ],
             [
              1,
              "#f0f921"
             ]
            ],
            "type": "histogram2d"
           }
          ],
          "histogram2dcontour": [
           {
            "colorbar": {
             "outlinewidth": 0,
             "ticks": ""
            },
            "colorscale": [
             [
              0,
              "#0d0887"
             ],
             [
              0.1111111111111111,
              "#46039f"
             ],
             [
              0.2222222222222222,
              "#7201a8"
             ],
             [
              0.3333333333333333,
              "#9c179e"
             ],
             [
              0.4444444444444444,
              "#bd3786"
             ],
             [
              0.5555555555555556,
              "#d8576b"
             ],
             [
              0.6666666666666666,
              "#ed7953"
             ],
             [
              0.7777777777777778,
              "#fb9f3a"
             ],
             [
              0.8888888888888888,
              "#fdca26"
             ],
             [
              1,
              "#f0f921"
             ]
            ],
            "type": "histogram2dcontour"
           }
          ],
          "mesh3d": [
           {
            "colorbar": {
             "outlinewidth": 0,
             "ticks": ""
            },
            "type": "mesh3d"
           }
          ],
          "parcoords": [
           {
            "line": {
             "colorbar": {
              "outlinewidth": 0,
              "ticks": ""
             }
            },
            "type": "parcoords"
           }
          ],
          "pie": [
           {
            "automargin": true,
            "type": "pie"
           }
          ],
          "scatter": [
           {
            "fillpattern": {
             "fillmode": "overlay",
             "size": 10,
             "solidity": 0.2
            },
            "type": "scatter"
           }
          ],
          "scatter3d": [
           {
            "line": {
             "colorbar": {
              "outlinewidth": 0,
              "ticks": ""
             }
            },
            "marker": {
             "colorbar": {
              "outlinewidth": 0,
              "ticks": ""
             }
            },
            "type": "scatter3d"
           }
          ],
          "scattercarpet": [
           {
            "marker": {
             "colorbar": {
              "outlinewidth": 0,
              "ticks": ""
             }
            },
            "type": "scattercarpet"
           }
          ],
          "scattergeo": [
           {
            "marker": {
             "colorbar": {
              "outlinewidth": 0,
              "ticks": ""
             }
            },
            "type": "scattergeo"
           }
          ],
          "scattergl": [
           {
            "marker": {
             "colorbar": {
              "outlinewidth": 0,
              "ticks": ""
             }
            },
            "type": "scattergl"
           }
          ],
          "scattermapbox": [
           {
            "marker": {
             "colorbar": {
              "outlinewidth": 0,
              "ticks": ""
             }
            },
            "type": "scattermapbox"
           }
          ],
          "scatterpolar": [
           {
            "marker": {
             "colorbar": {
              "outlinewidth": 0,
              "ticks": ""
             }
            },
            "type": "scatterpolar"
           }
          ],
          "scatterpolargl": [
           {
            "marker": {
             "colorbar": {
              "outlinewidth": 0,
              "ticks": ""
             }
            },
            "type": "scatterpolargl"
           }
          ],
          "scatterternary": [
           {
            "marker": {
             "colorbar": {
              "outlinewidth": 0,
              "ticks": ""
             }
            },
            "type": "scatterternary"
           }
          ],
          "surface": [
           {
            "colorbar": {
             "outlinewidth": 0,
             "ticks": ""
            },
            "colorscale": [
             [
              0,
              "#0d0887"
             ],
             [
              0.1111111111111111,
              "#46039f"
             ],
             [
              0.2222222222222222,
              "#7201a8"
             ],
             [
              0.3333333333333333,
              "#9c179e"
             ],
             [
              0.4444444444444444,
              "#bd3786"
             ],
             [
              0.5555555555555556,
              "#d8576b"
             ],
             [
              0.6666666666666666,
              "#ed7953"
             ],
             [
              0.7777777777777778,
              "#fb9f3a"
             ],
             [
              0.8888888888888888,
              "#fdca26"
             ],
             [
              1,
              "#f0f921"
             ]
            ],
            "type": "surface"
           }
          ],
          "table": [
           {
            "cells": {
             "fill": {
              "color": "#EBF0F8"
             },
             "line": {
              "color": "white"
             }
            },
            "header": {
             "fill": {
              "color": "#C8D4E3"
             },
             "line": {
              "color": "white"
             }
            },
            "type": "table"
           }
          ]
         },
         "layout": {
          "annotationdefaults": {
           "arrowcolor": "#2a3f5f",
           "arrowhead": 0,
           "arrowwidth": 1
          },
          "autotypenumbers": "strict",
          "coloraxis": {
           "colorbar": {
            "outlinewidth": 0,
            "ticks": ""
           }
          },
          "colorscale": {
           "diverging": [
            [
             0,
             "#8e0152"
            ],
            [
             0.1,
             "#c51b7d"
            ],
            [
             0.2,
             "#de77ae"
            ],
            [
             0.3,
             "#f1b6da"
            ],
            [
             0.4,
             "#fde0ef"
            ],
            [
             0.5,
             "#f7f7f7"
            ],
            [
             0.6,
             "#e6f5d0"
            ],
            [
             0.7,
             "#b8e186"
            ],
            [
             0.8,
             "#7fbc41"
            ],
            [
             0.9,
             "#4d9221"
            ],
            [
             1,
             "#276419"
            ]
           ],
           "sequential": [
            [
             0,
             "#0d0887"
            ],
            [
             0.1111111111111111,
             "#46039f"
            ],
            [
             0.2222222222222222,
             "#7201a8"
            ],
            [
             0.3333333333333333,
             "#9c179e"
            ],
            [
             0.4444444444444444,
             "#bd3786"
            ],
            [
             0.5555555555555556,
             "#d8576b"
            ],
            [
             0.6666666666666666,
             "#ed7953"
            ],
            [
             0.7777777777777778,
             "#fb9f3a"
            ],
            [
             0.8888888888888888,
             "#fdca26"
            ],
            [
             1,
             "#f0f921"
            ]
           ],
           "sequentialminus": [
            [
             0,
             "#0d0887"
            ],
            [
             0.1111111111111111,
             "#46039f"
            ],
            [
             0.2222222222222222,
             "#7201a8"
            ],
            [
             0.3333333333333333,
             "#9c179e"
            ],
            [
             0.4444444444444444,
             "#bd3786"
            ],
            [
             0.5555555555555556,
             "#d8576b"
            ],
            [
             0.6666666666666666,
             "#ed7953"
            ],
            [
             0.7777777777777778,
             "#fb9f3a"
            ],
            [
             0.8888888888888888,
             "#fdca26"
            ],
            [
             1,
             "#f0f921"
            ]
           ]
          },
          "colorway": [
           "#636efa",
           "#EF553B",
           "#00cc96",
           "#ab63fa",
           "#FFA15A",
           "#19d3f3",
           "#FF6692",
           "#B6E880",
           "#FF97FF",
           "#FECB52"
          ],
          "font": {
           "color": "#2a3f5f"
          },
          "geo": {
           "bgcolor": "white",
           "lakecolor": "white",
           "landcolor": "#E5ECF6",
           "showlakes": true,
           "showland": true,
           "subunitcolor": "white"
          },
          "hoverlabel": {
           "align": "left"
          },
          "hovermode": "closest",
          "mapbox": {
           "style": "light"
          },
          "paper_bgcolor": "white",
          "plot_bgcolor": "#E5ECF6",
          "polar": {
           "angularaxis": {
            "gridcolor": "white",
            "linecolor": "white",
            "ticks": ""
           },
           "bgcolor": "#E5ECF6",
           "radialaxis": {
            "gridcolor": "white",
            "linecolor": "white",
            "ticks": ""
           }
          },
          "scene": {
           "xaxis": {
            "backgroundcolor": "#E5ECF6",
            "gridcolor": "white",
            "gridwidth": 2,
            "linecolor": "white",
            "showbackground": true,
            "ticks": "",
            "zerolinecolor": "white"
           },
           "yaxis": {
            "backgroundcolor": "#E5ECF6",
            "gridcolor": "white",
            "gridwidth": 2,
            "linecolor": "white",
            "showbackground": true,
            "ticks": "",
            "zerolinecolor": "white"
           },
           "zaxis": {
            "backgroundcolor": "#E5ECF6",
            "gridcolor": "white",
            "gridwidth": 2,
            "linecolor": "white",
            "showbackground": true,
            "ticks": "",
            "zerolinecolor": "white"
           }
          },
          "shapedefaults": {
           "line": {
            "color": "#2a3f5f"
           }
          },
          "ternary": {
           "aaxis": {
            "gridcolor": "white",
            "linecolor": "white",
            "ticks": ""
           },
           "baxis": {
            "gridcolor": "white",
            "linecolor": "white",
            "ticks": ""
           },
           "bgcolor": "#E5ECF6",
           "caxis": {
            "gridcolor": "white",
            "linecolor": "white",
            "ticks": ""
           }
          },
          "title": {
           "x": 0.05
          },
          "xaxis": {
           "automargin": true,
           "gridcolor": "white",
           "linecolor": "white",
           "ticks": "",
           "title": {
            "standoff": 15
           },
           "zerolinecolor": "white",
           "zerolinewidth": 2
          },
          "yaxis": {
           "automargin": true,
           "gridcolor": "white",
           "linecolor": "white",
           "ticks": "",
           "title": {
            "standoff": 15
           },
           "zerolinecolor": "white",
           "zerolinewidth": 2
          }
         }
        },
        "title": {
         "text": "Top 10 Consultas por Detalle y Tipo de Barrio"
        },
        "xaxis": {
         "anchor": "y",
         "domain": [
          0,
          1
         ],
         "tickangle": 45,
         "tickfont": {
          "size": 10
         },
         "title": {
          "text": "Detalle"
         }
        },
        "yaxis": {
         "anchor": "x",
         "domain": [
          0,
          1
         ],
         "tickprefix": "Cantidad: ",
         "title": {
          "text": "Cantidad de Consultas"
         }
        }
       }
      },
      "text/html": [
       "<div>                            <div id=\"04157193-4e6a-40c6-8762-78a4944a478c\" class=\"plotly-graph-div\" style=\"height:525px; width:100%;\"></div>            <script type=\"text/javascript\">                require([\"plotly\"], function(Plotly) {                    window.PLOTLYENV=window.PLOTLYENV || {};                                    if (document.getElementById(\"04157193-4e6a-40c6-8762-78a4944a478c\")) {                    Plotly.newPlot(                        \"04157193-4e6a-40c6-8762-78a4944a478c\",                        [{\"alignmentgroup\":\"True\",\"hovertemplate\":\"barrio_popular=no<br>Detalle=%{x}<br>Cantidad de Consultas=%{y}<extra></extra>\",\"legendgroup\":\"no\",\"marker\":{\"color\":\"#636efa\",\"pattern\":{\"shape\":\"\"}},\"name\":\"no\",\"offsetgroup\":\"no\",\"orientation\":\"v\",\"showlegend\":true,\"textposition\":\"auto\",\"x\":[\"URGENCIA\",\"EXTRACCION DENTARIA\",\"FOTOCURADO ANTERIORES Y POSTERIORES\",\"CONSULTAS FICHADAS Y MOTIVACION (ninios hasta 14 anios)\",\"DETENCION, CONTROL PLACA BACTERIANA Y ENS\",\"INACTIVACION DE CARIES\",\"TARTREC Y CEPILLADO MECANICO\",\"APLICACION DE FLUOR\"],\"xaxis\":\"x\",\"y\":[9328.0,4783.0,4672.0,3789.0,1868.0,1529.0,1333.0,289.0],\"yaxis\":\"y\",\"type\":\"bar\"},{\"alignmentgroup\":\"True\",\"hovertemplate\":\"barrio_popular=si<br>Detalle=%{x}<br>Cantidad de Consultas=%{y}<extra></extra>\",\"legendgroup\":\"si\",\"marker\":{\"color\":\"#EF553B\",\"pattern\":{\"shape\":\"\"}},\"name\":\"si\",\"offsetgroup\":\"si\",\"orientation\":\"v\",\"showlegend\":true,\"textposition\":\"auto\",\"x\":[\"URGENCIA\",\"EXTRACCION DENTARIA\",\"FOTOCURADO ANTERIORES Y POSTERIORES\",\"INACTIVACION DE CARIES\",\"CONSULTAS FICHADAS Y MOTIVACION (ninios hasta 14 anios)\",\"DETENCION, CONTROL PLACA BACTERIANA Y ENS\",\"TARTREC Y CEPILLADO MECANICO\",\"TALLER DE PROMOCION Y PREVENCION\",\"APLICACION DE FLUOR\",\"DERIVACION\",\"SELLANTES DE PUNTos FISURAS\",\"SELLANTES DE PUNTOS FISURAS\"],\"xaxis\":\"x\",\"y\":[7611.0,6697.0,4671.0,4282.0,2612.0,2408.0,1935.0,1472.0,843.0,367.0,292.0,268.0],\"yaxis\":\"y\",\"type\":\"bar\"}],                        {\"template\":{\"data\":{\"histogram2dcontour\":[{\"type\":\"histogram2dcontour\",\"colorbar\":{\"outlinewidth\":0,\"ticks\":\"\"},\"colorscale\":[[0.0,\"#0d0887\"],[0.1111111111111111,\"#46039f\"],[0.2222222222222222,\"#7201a8\"],[0.3333333333333333,\"#9c179e\"],[0.4444444444444444,\"#bd3786\"],[0.5555555555555556,\"#d8576b\"],[0.6666666666666666,\"#ed7953\"],[0.7777777777777778,\"#fb9f3a\"],[0.8888888888888888,\"#fdca26\"],[1.0,\"#f0f921\"]]}],\"choropleth\":[{\"type\":\"choropleth\",\"colorbar\":{\"outlinewidth\":0,\"ticks\":\"\"}}],\"histogram2d\":[{\"type\":\"histogram2d\",\"colorbar\":{\"outlinewidth\":0,\"ticks\":\"\"},\"colorscale\":[[0.0,\"#0d0887\"],[0.1111111111111111,\"#46039f\"],[0.2222222222222222,\"#7201a8\"],[0.3333333333333333,\"#9c179e\"],[0.4444444444444444,\"#bd3786\"],[0.5555555555555556,\"#d8576b\"],[0.6666666666666666,\"#ed7953\"],[0.7777777777777778,\"#fb9f3a\"],[0.8888888888888888,\"#fdca26\"],[1.0,\"#f0f921\"]]}],\"heatmap\":[{\"type\":\"heatmap\",\"colorbar\":{\"outlinewidth\":0,\"ticks\":\"\"},\"colorscale\":[[0.0,\"#0d0887\"],[0.1111111111111111,\"#46039f\"],[0.2222222222222222,\"#7201a8\"],[0.3333333333333333,\"#9c179e\"],[0.4444444444444444,\"#bd3786\"],[0.5555555555555556,\"#d8576b\"],[0.6666666666666666,\"#ed7953\"],[0.7777777777777778,\"#fb9f3a\"],[0.8888888888888888,\"#fdca26\"],[1.0,\"#f0f921\"]]}],\"heatmapgl\":[{\"type\":\"heatmapgl\",\"colorbar\":{\"outlinewidth\":0,\"ticks\":\"\"},\"colorscale\":[[0.0,\"#0d0887\"],[0.1111111111111111,\"#46039f\"],[0.2222222222222222,\"#7201a8\"],[0.3333333333333333,\"#9c179e\"],[0.4444444444444444,\"#bd3786\"],[0.5555555555555556,\"#d8576b\"],[0.6666666666666666,\"#ed7953\"],[0.7777777777777778,\"#fb9f3a\"],[0.8888888888888888,\"#fdca26\"],[1.0,\"#f0f921\"]]}],\"contourcarpet\":[{\"type\":\"contourcarpet\",\"colorbar\":{\"outlinewidth\":0,\"ticks\":\"\"}}],\"contour\":[{\"type\":\"contour\",\"colorbar\":{\"outlinewidth\":0,\"ticks\":\"\"},\"colorscale\":[[0.0,\"#0d0887\"],[0.1111111111111111,\"#46039f\"],[0.2222222222222222,\"#7201a8\"],[0.3333333333333333,\"#9c179e\"],[0.4444444444444444,\"#bd3786\"],[0.5555555555555556,\"#d8576b\"],[0.6666666666666666,\"#ed7953\"],[0.7777777777777778,\"#fb9f3a\"],[0.8888888888888888,\"#fdca26\"],[1.0,\"#f0f921\"]]}],\"surface\":[{\"type\":\"surface\",\"colorbar\":{\"outlinewidth\":0,\"ticks\":\"\"},\"colorscale\":[[0.0,\"#0d0887\"],[0.1111111111111111,\"#46039f\"],[0.2222222222222222,\"#7201a8\"],[0.3333333333333333,\"#9c179e\"],[0.4444444444444444,\"#bd3786\"],[0.5555555555555556,\"#d8576b\"],[0.6666666666666666,\"#ed7953\"],[0.7777777777777778,\"#fb9f3a\"],[0.8888888888888888,\"#fdca26\"],[1.0,\"#f0f921\"]]}],\"mesh3d\":[{\"type\":\"mesh3d\",\"colorbar\":{\"outlinewidth\":0,\"ticks\":\"\"}}],\"scatter\":[{\"fillpattern\":{\"fillmode\":\"overlay\",\"size\":10,\"solidity\":0.2},\"type\":\"scatter\"}],\"parcoords\":[{\"type\":\"parcoords\",\"line\":{\"colorbar\":{\"outlinewidth\":0,\"ticks\":\"\"}}}],\"scatterpolargl\":[{\"type\":\"scatterpolargl\",\"marker\":{\"colorbar\":{\"outlinewidth\":0,\"ticks\":\"\"}}}],\"bar\":[{\"error_x\":{\"color\":\"#2a3f5f\"},\"error_y\":{\"color\":\"#2a3f5f\"},\"marker\":{\"line\":{\"color\":\"#E5ECF6\",\"width\":0.5},\"pattern\":{\"fillmode\":\"overlay\",\"size\":10,\"solidity\":0.2}},\"type\":\"bar\"}],\"scattergeo\":[{\"type\":\"scattergeo\",\"marker\":{\"colorbar\":{\"outlinewidth\":0,\"ticks\":\"\"}}}],\"scatterpolar\":[{\"type\":\"scatterpolar\",\"marker\":{\"colorbar\":{\"outlinewidth\":0,\"ticks\":\"\"}}}],\"histogram\":[{\"marker\":{\"pattern\":{\"fillmode\":\"overlay\",\"size\":10,\"solidity\":0.2}},\"type\":\"histogram\"}],\"scattergl\":[{\"type\":\"scattergl\",\"marker\":{\"colorbar\":{\"outlinewidth\":0,\"ticks\":\"\"}}}],\"scatter3d\":[{\"type\":\"scatter3d\",\"line\":{\"colorbar\":{\"outlinewidth\":0,\"ticks\":\"\"}},\"marker\":{\"colorbar\":{\"outlinewidth\":0,\"ticks\":\"\"}}}],\"scattermapbox\":[{\"type\":\"scattermapbox\",\"marker\":{\"colorbar\":{\"outlinewidth\":0,\"ticks\":\"\"}}}],\"scatterternary\":[{\"type\":\"scatterternary\",\"marker\":{\"colorbar\":{\"outlinewidth\":0,\"ticks\":\"\"}}}],\"scattercarpet\":[{\"type\":\"scattercarpet\",\"marker\":{\"colorbar\":{\"outlinewidth\":0,\"ticks\":\"\"}}}],\"carpet\":[{\"aaxis\":{\"endlinecolor\":\"#2a3f5f\",\"gridcolor\":\"white\",\"linecolor\":\"white\",\"minorgridcolor\":\"white\",\"startlinecolor\":\"#2a3f5f\"},\"baxis\":{\"endlinecolor\":\"#2a3f5f\",\"gridcolor\":\"white\",\"linecolor\":\"white\",\"minorgridcolor\":\"white\",\"startlinecolor\":\"#2a3f5f\"},\"type\":\"carpet\"}],\"table\":[{\"cells\":{\"fill\":{\"color\":\"#EBF0F8\"},\"line\":{\"color\":\"white\"}},\"header\":{\"fill\":{\"color\":\"#C8D4E3\"},\"line\":{\"color\":\"white\"}},\"type\":\"table\"}],\"barpolar\":[{\"marker\":{\"line\":{\"color\":\"#E5ECF6\",\"width\":0.5},\"pattern\":{\"fillmode\":\"overlay\",\"size\":10,\"solidity\":0.2}},\"type\":\"barpolar\"}],\"pie\":[{\"automargin\":true,\"type\":\"pie\"}]},\"layout\":{\"autotypenumbers\":\"strict\",\"colorway\":[\"#636efa\",\"#EF553B\",\"#00cc96\",\"#ab63fa\",\"#FFA15A\",\"#19d3f3\",\"#FF6692\",\"#B6E880\",\"#FF97FF\",\"#FECB52\"],\"font\":{\"color\":\"#2a3f5f\"},\"hovermode\":\"closest\",\"hoverlabel\":{\"align\":\"left\"},\"paper_bgcolor\":\"white\",\"plot_bgcolor\":\"#E5ECF6\",\"polar\":{\"bgcolor\":\"#E5ECF6\",\"angularaxis\":{\"gridcolor\":\"white\",\"linecolor\":\"white\",\"ticks\":\"\"},\"radialaxis\":{\"gridcolor\":\"white\",\"linecolor\":\"white\",\"ticks\":\"\"}},\"ternary\":{\"bgcolor\":\"#E5ECF6\",\"aaxis\":{\"gridcolor\":\"white\",\"linecolor\":\"white\",\"ticks\":\"\"},\"baxis\":{\"gridcolor\":\"white\",\"linecolor\":\"white\",\"ticks\":\"\"},\"caxis\":{\"gridcolor\":\"white\",\"linecolor\":\"white\",\"ticks\":\"\"}},\"coloraxis\":{\"colorbar\":{\"outlinewidth\":0,\"ticks\":\"\"}},\"colorscale\":{\"sequential\":[[0.0,\"#0d0887\"],[0.1111111111111111,\"#46039f\"],[0.2222222222222222,\"#7201a8\"],[0.3333333333333333,\"#9c179e\"],[0.4444444444444444,\"#bd3786\"],[0.5555555555555556,\"#d8576b\"],[0.6666666666666666,\"#ed7953\"],[0.7777777777777778,\"#fb9f3a\"],[0.8888888888888888,\"#fdca26\"],[1.0,\"#f0f921\"]],\"sequentialminus\":[[0.0,\"#0d0887\"],[0.1111111111111111,\"#46039f\"],[0.2222222222222222,\"#7201a8\"],[0.3333333333333333,\"#9c179e\"],[0.4444444444444444,\"#bd3786\"],[0.5555555555555556,\"#d8576b\"],[0.6666666666666666,\"#ed7953\"],[0.7777777777777778,\"#fb9f3a\"],[0.8888888888888888,\"#fdca26\"],[1.0,\"#f0f921\"]],\"diverging\":[[0,\"#8e0152\"],[0.1,\"#c51b7d\"],[0.2,\"#de77ae\"],[0.3,\"#f1b6da\"],[0.4,\"#fde0ef\"],[0.5,\"#f7f7f7\"],[0.6,\"#e6f5d0\"],[0.7,\"#b8e186\"],[0.8,\"#7fbc41\"],[0.9,\"#4d9221\"],[1,\"#276419\"]]},\"xaxis\":{\"gridcolor\":\"white\",\"linecolor\":\"white\",\"ticks\":\"\",\"title\":{\"standoff\":15},\"zerolinecolor\":\"white\",\"automargin\":true,\"zerolinewidth\":2},\"yaxis\":{\"gridcolor\":\"white\",\"linecolor\":\"white\",\"ticks\":\"\",\"title\":{\"standoff\":15},\"zerolinecolor\":\"white\",\"automargin\":true,\"zerolinewidth\":2},\"scene\":{\"xaxis\":{\"backgroundcolor\":\"#E5ECF6\",\"gridcolor\":\"white\",\"linecolor\":\"white\",\"showbackground\":true,\"ticks\":\"\",\"zerolinecolor\":\"white\",\"gridwidth\":2},\"yaxis\":{\"backgroundcolor\":\"#E5ECF6\",\"gridcolor\":\"white\",\"linecolor\":\"white\",\"showbackground\":true,\"ticks\":\"\",\"zerolinecolor\":\"white\",\"gridwidth\":2},\"zaxis\":{\"backgroundcolor\":\"#E5ECF6\",\"gridcolor\":\"white\",\"linecolor\":\"white\",\"showbackground\":true,\"ticks\":\"\",\"zerolinecolor\":\"white\",\"gridwidth\":2}},\"shapedefaults\":{\"line\":{\"color\":\"#2a3f5f\"}},\"annotationdefaults\":{\"arrowcolor\":\"#2a3f5f\",\"arrowhead\":0,\"arrowwidth\":1},\"geo\":{\"bgcolor\":\"white\",\"landcolor\":\"#E5ECF6\",\"subunitcolor\":\"white\",\"showland\":true,\"showlakes\":true,\"lakecolor\":\"white\"},\"title\":{\"x\":0.05},\"mapbox\":{\"style\":\"light\"}}},\"xaxis\":{\"anchor\":\"y\",\"domain\":[0.0,1.0],\"title\":{\"text\":\"Detalle\"},\"tickfont\":{\"size\":10},\"tickangle\":45},\"yaxis\":{\"anchor\":\"x\",\"domain\":[0.0,1.0],\"title\":{\"text\":\"Cantidad de Consultas\"},\"tickprefix\":\"Cantidad: \"},\"legend\":{\"title\":{\"text\":\"barrio_popular\"},\"tracegroupgap\":0},\"title\":{\"text\":\"Top 10 Consultas por Detalle y Tipo de Barrio\"},\"barmode\":\"relative\"},                        {\"responsive\": true}                    ).then(function(){\n",
       "                            \n",
       "var gd = document.getElementById('04157193-4e6a-40c6-8762-78a4944a478c');\n",
       "var x = new MutationObserver(function (mutations, observer) {{\n",
       "        var display = window.getComputedStyle(gd).display;\n",
       "        if (!display || display === 'none') {{\n",
       "            console.log([gd, 'removed!']);\n",
       "            Plotly.purge(gd);\n",
       "            observer.disconnect();\n",
       "        }}\n",
       "}});\n",
       "\n",
       "// Listen for the removal of the full notebook cells\n",
       "var notebookContainer = gd.closest('#notebook-container');\n",
       "if (notebookContainer) {{\n",
       "    x.observe(notebookContainer, {childList: true});\n",
       "}}\n",
       "\n",
       "// Listen for the clearing of the current output cell\n",
       "var outputEl = gd.closest('.output');\n",
       "if (outputEl) {{\n",
       "    x.observe(outputEl, {childList: true});\n",
       "}}\n",
       "\n",
       "                        })                };                });            </script>        </div>"
      ]
     },
     "metadata": {},
     "output_type": "display_data"
    }
   ],
   "source": [
    "import pandas as pd\n",
    "import plotly.express as px\n",
    "\n",
    "# Supongamos que tienes tu DataFrame llamado 'df' con los datos\n",
    "# ... (procesa los datos como se mostró anteriormente)\n",
    "\n",
    "# Eliminar filas con 'detalle' igual a '#¡REF!' y los detalles específicos\n",
    "df = df[(df['detalle'] != '#¡REF!') &\n",
    "        (df['detalle'] != 'CONSULTA-ADULTO (Desde 15 anos)') &\n",
    "        (df['detalle'] != 'CONSULTAS FICHADAS Y MOTIVACION (NINOS hasta 14 anos)')]\n",
    "\n",
    "# Corregir errores tipográficos en los detalles de las consultas\n",
    "correcciones = {\n",
    "    'FOTOCURADO ANTERIORES Y PosTERIORES': 'FOTOCURADO ANTERIORES Y POSTERIORES',\n",
    "    'TARTREC Y CEPILLADO MECAniCO': 'TARTREC Y CEPILLADO MECANICO'\n",
    "}\n",
    "\n",
    "df['detalle'] = df['detalle'].replace(correcciones)\n",
    "\n",
    "# Calcular la cantidad de consultas por detalle\n",
    "atenciones_detalle = df.groupby(['detalle', 'barrio_popular'])['consulta_cantidad'].sum().reset_index()\n",
    "\n",
    "# Encontrar los 10 detalles con la mayor cantidad de consultas\n",
    "top_10_consultas = atenciones_detalle.nlargest(20, 'consulta_cantidad')\n",
    "\n",
    "# Crear el gráfico de barras\n",
    "fig = px.bar(top_10_consultas, x='detalle', y='consulta_cantidad',\n",
    "             title='Top 10 Consultas por Detalle y Tipo de Barrio',\n",
    "             labels={'detalle': 'Detalle', 'consulta_cantidad': 'Cantidad de Consultas'},\n",
    "             color='barrio_popular',  # Colorear por tipo de barrio\n",
    "             category_orders={\"barrio_popular\": [\"no\", \"si\"]},  # Ordenar las categorías\n",
    "            )\n",
    "\n",
    "fig.update_xaxes(title_text='Detalle')\n",
    "fig.update_yaxes(title_text='Cantidad de Consultas', tickprefix=\"Cantidad: \")\n",
    "\n",
    "# Ajustar el tamaño de las leyendas en el eje x\n",
    "fig.update_xaxes(tickangle=45, tickfont=dict(size=10))\n",
    "\n",
    "# Mostrar el gráfico interactivo\n",
    "fig.show()\n",
    "\n",
    "# Guardar la imagen en formato PNG para PowerPoint\n",
    "fig.write_image(\"grafico_consultas_detalle_top_10.png\")\n"
   ]
  },
  {
   "cell_type": "code",
   "execution_count": 139,
   "id": "47200fca",
   "metadata": {},
   "outputs": [
    {
     "data": {
      "application/vnd.plotly.v1+json": {
       "config": {
        "plotlyServerURL": "https://plot.ly"
       },
       "data": [
        {
         "alignmentgroup": "True",
         "hovertemplate": "barrio_popular=no<br>Detalle=%{x}<br>Cantidad de Consultas=%{y}<extra></extra>",
         "legendgroup": "no",
         "marker": {
          "color": "#636efa",
          "pattern": {
           "shape": ""
          }
         },
         "name": "no",
         "offsetgroup": "no",
         "orientation": "v",
         "showlegend": true,
         "text": [
          9328,
          7611,
          6697,
          4783,
          4672,
          4671,
          4282,
          2408,
          1935,
          1868,
          1529,
          1472,
          1333,
          843,
          367,
          292,
          289,
          268,
          265,
          205
         ],
         "textposition": "inside",
         "type": "bar",
         "x": [
          "URGENCIA",
          "EXTRACCION DENTARIA",
          "FOTOCURADO ANTERIORES Y POSTERIORES",
          "DETENCION, CONTROL PLACA BACTERIANA Y ENS",
          "INACTIVACION DE CARIES",
          "TARTREC Y CEPILLADO MECANICO",
          "APLICACION DE FLUOR",
          "DERIVACION"
         ],
         "xaxis": "x",
         "y": [
          9328,
          4783,
          4672,
          1868,
          1529,
          1333,
          289,
          205
         ],
         "yaxis": "y"
        },
        {
         "alignmentgroup": "True",
         "hovertemplate": "barrio_popular=si<br>Detalle=%{x}<br>Cantidad de Consultas=%{y}<extra></extra>",
         "legendgroup": "si",
         "marker": {
          "color": "#EF553B",
          "pattern": {
           "shape": ""
          }
         },
         "name": "si",
         "offsetgroup": "si",
         "orientation": "v",
         "showlegend": true,
         "text": [
          9328,
          7611,
          6697,
          4783,
          4672,
          4671,
          4282,
          2408,
          1935,
          1868,
          1529,
          1472,
          1333,
          843,
          367,
          292,
          289,
          268,
          265,
          205
         ],
         "textposition": "inside",
         "type": "bar",
         "x": [
          "URGENCIA",
          "EXTRACCION DENTARIA",
          "FOTOCURADO ANTERIORES Y POSTERIORES",
          "INACTIVACION DE CARIES",
          "DETENCION, CONTROL PLACA BACTERIANA Y ENS",
          "TARTREC Y CEPILLADO MECANICO",
          "TALLER DE PROMOCION Y PREVENCION",
          "APLICACION DE FLUOR",
          "DERIVACION",
          "SELLANTES DE PUNTos FISURAS",
          "SELLANTES DE PUNTOS FISURAS",
          "PROT. PAR ACRIL SUPERIOR"
         ],
         "xaxis": "x",
         "y": [
          7611,
          6697,
          4671,
          4282,
          2408,
          1935,
          1472,
          843,
          367,
          292,
          268,
          265
         ],
         "yaxis": "y"
        }
       ],
       "layout": {
        "barmode": "relative",
        "legend": {
         "title": {
          "text": "barrio_popular"
         },
         "tracegroupgap": 0
        },
        "template": {
         "data": {
          "bar": [
           {
            "error_x": {
             "color": "#2a3f5f"
            },
            "error_y": {
             "color": "#2a3f5f"
            },
            "marker": {
             "line": {
              "color": "#E5ECF6",
              "width": 0.5
             },
             "pattern": {
              "fillmode": "overlay",
              "size": 10,
              "solidity": 0.2
             }
            },
            "type": "bar"
           }
          ],
          "barpolar": [
           {
            "marker": {
             "line": {
              "color": "#E5ECF6",
              "width": 0.5
             },
             "pattern": {
              "fillmode": "overlay",
              "size": 10,
              "solidity": 0.2
             }
            },
            "type": "barpolar"
           }
          ],
          "carpet": [
           {
            "aaxis": {
             "endlinecolor": "#2a3f5f",
             "gridcolor": "white",
             "linecolor": "white",
             "minorgridcolor": "white",
             "startlinecolor": "#2a3f5f"
            },
            "baxis": {
             "endlinecolor": "#2a3f5f",
             "gridcolor": "white",
             "linecolor": "white",
             "minorgridcolor": "white",
             "startlinecolor": "#2a3f5f"
            },
            "type": "carpet"
           }
          ],
          "choropleth": [
           {
            "colorbar": {
             "outlinewidth": 0,
             "ticks": ""
            },
            "type": "choropleth"
           }
          ],
          "contour": [
           {
            "colorbar": {
             "outlinewidth": 0,
             "ticks": ""
            },
            "colorscale": [
             [
              0,
              "#0d0887"
             ],
             [
              0.1111111111111111,
              "#46039f"
             ],
             [
              0.2222222222222222,
              "#7201a8"
             ],
             [
              0.3333333333333333,
              "#9c179e"
             ],
             [
              0.4444444444444444,
              "#bd3786"
             ],
             [
              0.5555555555555556,
              "#d8576b"
             ],
             [
              0.6666666666666666,
              "#ed7953"
             ],
             [
              0.7777777777777778,
              "#fb9f3a"
             ],
             [
              0.8888888888888888,
              "#fdca26"
             ],
             [
              1,
              "#f0f921"
             ]
            ],
            "type": "contour"
           }
          ],
          "contourcarpet": [
           {
            "colorbar": {
             "outlinewidth": 0,
             "ticks": ""
            },
            "type": "contourcarpet"
           }
          ],
          "heatmap": [
           {
            "colorbar": {
             "outlinewidth": 0,
             "ticks": ""
            },
            "colorscale": [
             [
              0,
              "#0d0887"
             ],
             [
              0.1111111111111111,
              "#46039f"
             ],
             [
              0.2222222222222222,
              "#7201a8"
             ],
             [
              0.3333333333333333,
              "#9c179e"
             ],
             [
              0.4444444444444444,
              "#bd3786"
             ],
             [
              0.5555555555555556,
              "#d8576b"
             ],
             [
              0.6666666666666666,
              "#ed7953"
             ],
             [
              0.7777777777777778,
              "#fb9f3a"
             ],
             [
              0.8888888888888888,
              "#fdca26"
             ],
             [
              1,
              "#f0f921"
             ]
            ],
            "type": "heatmap"
           }
          ],
          "heatmapgl": [
           {
            "colorbar": {
             "outlinewidth": 0,
             "ticks": ""
            },
            "colorscale": [
             [
              0,
              "#0d0887"
             ],
             [
              0.1111111111111111,
              "#46039f"
             ],
             [
              0.2222222222222222,
              "#7201a8"
             ],
             [
              0.3333333333333333,
              "#9c179e"
             ],
             [
              0.4444444444444444,
              "#bd3786"
             ],
             [
              0.5555555555555556,
              "#d8576b"
             ],
             [
              0.6666666666666666,
              "#ed7953"
             ],
             [
              0.7777777777777778,
              "#fb9f3a"
             ],
             [
              0.8888888888888888,
              "#fdca26"
             ],
             [
              1,
              "#f0f921"
             ]
            ],
            "type": "heatmapgl"
           }
          ],
          "histogram": [
           {
            "marker": {
             "pattern": {
              "fillmode": "overlay",
              "size": 10,
              "solidity": 0.2
             }
            },
            "type": "histogram"
           }
          ],
          "histogram2d": [
           {
            "colorbar": {
             "outlinewidth": 0,
             "ticks": ""
            },
            "colorscale": [
             [
              0,
              "#0d0887"
             ],
             [
              0.1111111111111111,
              "#46039f"
             ],
             [
              0.2222222222222222,
              "#7201a8"
             ],
             [
              0.3333333333333333,
              "#9c179e"
             ],
             [
              0.4444444444444444,
              "#bd3786"
             ],
             [
              0.5555555555555556,
              "#d8576b"
             ],
             [
              0.6666666666666666,
              "#ed7953"
             ],
             [
              0.7777777777777778,
              "#fb9f3a"
             ],
             [
              0.8888888888888888,
              "#fdca26"
             ],
             [
              1,
              "#f0f921"
             ]
            ],
            "type": "histogram2d"
           }
          ],
          "histogram2dcontour": [
           {
            "colorbar": {
             "outlinewidth": 0,
             "ticks": ""
            },
            "colorscale": [
             [
              0,
              "#0d0887"
             ],
             [
              0.1111111111111111,
              "#46039f"
             ],
             [
              0.2222222222222222,
              "#7201a8"
             ],
             [
              0.3333333333333333,
              "#9c179e"
             ],
             [
              0.4444444444444444,
              "#bd3786"
             ],
             [
              0.5555555555555556,
              "#d8576b"
             ],
             [
              0.6666666666666666,
              "#ed7953"
             ],
             [
              0.7777777777777778,
              "#fb9f3a"
             ],
             [
              0.8888888888888888,
              "#fdca26"
             ],
             [
              1,
              "#f0f921"
             ]
            ],
            "type": "histogram2dcontour"
           }
          ],
          "mesh3d": [
           {
            "colorbar": {
             "outlinewidth": 0,
             "ticks": ""
            },
            "type": "mesh3d"
           }
          ],
          "parcoords": [
           {
            "line": {
             "colorbar": {
              "outlinewidth": 0,
              "ticks": ""
             }
            },
            "type": "parcoords"
           }
          ],
          "pie": [
           {
            "automargin": true,
            "type": "pie"
           }
          ],
          "scatter": [
           {
            "fillpattern": {
             "fillmode": "overlay",
             "size": 10,
             "solidity": 0.2
            },
            "type": "scatter"
           }
          ],
          "scatter3d": [
           {
            "line": {
             "colorbar": {
              "outlinewidth": 0,
              "ticks": ""
             }
            },
            "marker": {
             "colorbar": {
              "outlinewidth": 0,
              "ticks": ""
             }
            },
            "type": "scatter3d"
           }
          ],
          "scattercarpet": [
           {
            "marker": {
             "colorbar": {
              "outlinewidth": 0,
              "ticks": ""
             }
            },
            "type": "scattercarpet"
           }
          ],
          "scattergeo": [
           {
            "marker": {
             "colorbar": {
              "outlinewidth": 0,
              "ticks": ""
             }
            },
            "type": "scattergeo"
           }
          ],
          "scattergl": [
           {
            "marker": {
             "colorbar": {
              "outlinewidth": 0,
              "ticks": ""
             }
            },
            "type": "scattergl"
           }
          ],
          "scattermapbox": [
           {
            "marker": {
             "colorbar": {
              "outlinewidth": 0,
              "ticks": ""
             }
            },
            "type": "scattermapbox"
           }
          ],
          "scatterpolar": [
           {
            "marker": {
             "colorbar": {
              "outlinewidth": 0,
              "ticks": ""
             }
            },
            "type": "scatterpolar"
           }
          ],
          "scatterpolargl": [
           {
            "marker": {
             "colorbar": {
              "outlinewidth": 0,
              "ticks": ""
             }
            },
            "type": "scatterpolargl"
           }
          ],
          "scatterternary": [
           {
            "marker": {
             "colorbar": {
              "outlinewidth": 0,
              "ticks": ""
             }
            },
            "type": "scatterternary"
           }
          ],
          "surface": [
           {
            "colorbar": {
             "outlinewidth": 0,
             "ticks": ""
            },
            "colorscale": [
             [
              0,
              "#0d0887"
             ],
             [
              0.1111111111111111,
              "#46039f"
             ],
             [
              0.2222222222222222,
              "#7201a8"
             ],
             [
              0.3333333333333333,
              "#9c179e"
             ],
             [
              0.4444444444444444,
              "#bd3786"
             ],
             [
              0.5555555555555556,
              "#d8576b"
             ],
             [
              0.6666666666666666,
              "#ed7953"
             ],
             [
              0.7777777777777778,
              "#fb9f3a"
             ],
             [
              0.8888888888888888,
              "#fdca26"
             ],
             [
              1,
              "#f0f921"
             ]
            ],
            "type": "surface"
           }
          ],
          "table": [
           {
            "cells": {
             "fill": {
              "color": "#EBF0F8"
             },
             "line": {
              "color": "white"
             }
            },
            "header": {
             "fill": {
              "color": "#C8D4E3"
             },
             "line": {
              "color": "white"
             }
            },
            "type": "table"
           }
          ]
         },
         "layout": {
          "annotationdefaults": {
           "arrowcolor": "#2a3f5f",
           "arrowhead": 0,
           "arrowwidth": 1
          },
          "autotypenumbers": "strict",
          "coloraxis": {
           "colorbar": {
            "outlinewidth": 0,
            "ticks": ""
           }
          },
          "colorscale": {
           "diverging": [
            [
             0,
             "#8e0152"
            ],
            [
             0.1,
             "#c51b7d"
            ],
            [
             0.2,
             "#de77ae"
            ],
            [
             0.3,
             "#f1b6da"
            ],
            [
             0.4,
             "#fde0ef"
            ],
            [
             0.5,
             "#f7f7f7"
            ],
            [
             0.6,
             "#e6f5d0"
            ],
            [
             0.7,
             "#b8e186"
            ],
            [
             0.8,
             "#7fbc41"
            ],
            [
             0.9,
             "#4d9221"
            ],
            [
             1,
             "#276419"
            ]
           ],
           "sequential": [
            [
             0,
             "#0d0887"
            ],
            [
             0.1111111111111111,
             "#46039f"
            ],
            [
             0.2222222222222222,
             "#7201a8"
            ],
            [
             0.3333333333333333,
             "#9c179e"
            ],
            [
             0.4444444444444444,
             "#bd3786"
            ],
            [
             0.5555555555555556,
             "#d8576b"
            ],
            [
             0.6666666666666666,
             "#ed7953"
            ],
            [
             0.7777777777777778,
             "#fb9f3a"
            ],
            [
             0.8888888888888888,
             "#fdca26"
            ],
            [
             1,
             "#f0f921"
            ]
           ],
           "sequentialminus": [
            [
             0,
             "#0d0887"
            ],
            [
             0.1111111111111111,
             "#46039f"
            ],
            [
             0.2222222222222222,
             "#7201a8"
            ],
            [
             0.3333333333333333,
             "#9c179e"
            ],
            [
             0.4444444444444444,
             "#bd3786"
            ],
            [
             0.5555555555555556,
             "#d8576b"
            ],
            [
             0.6666666666666666,
             "#ed7953"
            ],
            [
             0.7777777777777778,
             "#fb9f3a"
            ],
            [
             0.8888888888888888,
             "#fdca26"
            ],
            [
             1,
             "#f0f921"
            ]
           ]
          },
          "colorway": [
           "#636efa",
           "#EF553B",
           "#00cc96",
           "#ab63fa",
           "#FFA15A",
           "#19d3f3",
           "#FF6692",
           "#B6E880",
           "#FF97FF",
           "#FECB52"
          ],
          "font": {
           "color": "#2a3f5f"
          },
          "geo": {
           "bgcolor": "white",
           "lakecolor": "white",
           "landcolor": "#E5ECF6",
           "showlakes": true,
           "showland": true,
           "subunitcolor": "white"
          },
          "hoverlabel": {
           "align": "left"
          },
          "hovermode": "closest",
          "mapbox": {
           "style": "light"
          },
          "paper_bgcolor": "white",
          "plot_bgcolor": "#E5ECF6",
          "polar": {
           "angularaxis": {
            "gridcolor": "white",
            "linecolor": "white",
            "ticks": ""
           },
           "bgcolor": "#E5ECF6",
           "radialaxis": {
            "gridcolor": "white",
            "linecolor": "white",
            "ticks": ""
           }
          },
          "scene": {
           "xaxis": {
            "backgroundcolor": "#E5ECF6",
            "gridcolor": "white",
            "gridwidth": 2,
            "linecolor": "white",
            "showbackground": true,
            "ticks": "",
            "zerolinecolor": "white"
           },
           "yaxis": {
            "backgroundcolor": "#E5ECF6",
            "gridcolor": "white",
            "gridwidth": 2,
            "linecolor": "white",
            "showbackground": true,
            "ticks": "",
            "zerolinecolor": "white"
           },
           "zaxis": {
            "backgroundcolor": "#E5ECF6",
            "gridcolor": "white",
            "gridwidth": 2,
            "linecolor": "white",
            "showbackground": true,
            "ticks": "",
            "zerolinecolor": "white"
           }
          },
          "shapedefaults": {
           "line": {
            "color": "#2a3f5f"
           }
          },
          "ternary": {
           "aaxis": {
            "gridcolor": "white",
            "linecolor": "white",
            "ticks": ""
           },
           "baxis": {
            "gridcolor": "white",
            "linecolor": "white",
            "ticks": ""
           },
           "bgcolor": "#E5ECF6",
           "caxis": {
            "gridcolor": "white",
            "linecolor": "white",
            "ticks": ""
           }
          },
          "title": {
           "x": 0.05
          },
          "xaxis": {
           "automargin": true,
           "gridcolor": "white",
           "linecolor": "white",
           "ticks": "",
           "title": {
            "standoff": 15
           },
           "zerolinecolor": "white",
           "zerolinewidth": 2
          },
          "yaxis": {
           "automargin": true,
           "gridcolor": "white",
           "linecolor": "white",
           "ticks": "",
           "title": {
            "standoff": 15
           },
           "zerolinecolor": "white",
           "zerolinewidth": 2
          }
         }
        },
        "title": {
         "text": "Top 10 Consultas por Detalle y Tipo de Barrio"
        },
        "xaxis": {
         "anchor": "y",
         "domain": [
          0,
          1
         ],
         "title": {
          "text": "Detalle"
         }
        },
        "yaxis": {
         "anchor": "x",
         "domain": [
          0,
          1
         ],
         "title": {
          "text": "Cantidad de Consultas"
         }
        }
       }
      },
      "text/html": [
       "<div>                            <div id=\"029ceef0-bc43-4d35-a83c-0fec9ba6c9f6\" class=\"plotly-graph-div\" style=\"height:525px; width:100%;\"></div>            <script type=\"text/javascript\">                require([\"plotly\"], function(Plotly) {                    window.PLOTLYENV=window.PLOTLYENV || {};                                    if (document.getElementById(\"029ceef0-bc43-4d35-a83c-0fec9ba6c9f6\")) {                    Plotly.newPlot(                        \"029ceef0-bc43-4d35-a83c-0fec9ba6c9f6\",                        [{\"alignmentgroup\":\"True\",\"hovertemplate\":\"barrio_popular=no<br>Detalle=%{x}<br>Cantidad de Consultas=%{y}<extra></extra>\",\"legendgroup\":\"no\",\"marker\":{\"color\":\"#636efa\",\"pattern\":{\"shape\":\"\"}},\"name\":\"no\",\"offsetgroup\":\"no\",\"orientation\":\"v\",\"showlegend\":true,\"textposition\":\"inside\",\"x\":[\"URGENCIA\",\"EXTRACCION DENTARIA\",\"FOTOCURADO ANTERIORES Y POSTERIORES\",\"DETENCION, CONTROL PLACA BACTERIANA Y ENS\",\"INACTIVACION DE CARIES\",\"TARTREC Y CEPILLADO MECANICO\",\"APLICACION DE FLUOR\",\"DERIVACION\"],\"xaxis\":\"x\",\"y\":[9328.0,4783.0,4672.0,1868.0,1529.0,1333.0,289.0,205.0],\"yaxis\":\"y\",\"type\":\"bar\",\"text\":[9328.0,7611.0,6697.0,4783.0,4672.0,4671.0,4282.0,2408.0,1935.0,1868.0,1529.0,1472.0,1333.0,843.0,367.0,292.0,289.0,268.0,265.0,205.0]},{\"alignmentgroup\":\"True\",\"hovertemplate\":\"barrio_popular=si<br>Detalle=%{x}<br>Cantidad de Consultas=%{y}<extra></extra>\",\"legendgroup\":\"si\",\"marker\":{\"color\":\"#EF553B\",\"pattern\":{\"shape\":\"\"}},\"name\":\"si\",\"offsetgroup\":\"si\",\"orientation\":\"v\",\"showlegend\":true,\"textposition\":\"inside\",\"x\":[\"URGENCIA\",\"EXTRACCION DENTARIA\",\"FOTOCURADO ANTERIORES Y POSTERIORES\",\"INACTIVACION DE CARIES\",\"DETENCION, CONTROL PLACA BACTERIANA Y ENS\",\"TARTREC Y CEPILLADO MECANICO\",\"TALLER DE PROMOCION Y PREVENCION\",\"APLICACION DE FLUOR\",\"DERIVACION\",\"SELLANTES DE PUNTos FISURAS\",\"SELLANTES DE PUNTOS FISURAS\",\"PROT. PAR ACRIL SUPERIOR\"],\"xaxis\":\"x\",\"y\":[7611.0,6697.0,4671.0,4282.0,2408.0,1935.0,1472.0,843.0,367.0,292.0,268.0,265.0],\"yaxis\":\"y\",\"type\":\"bar\",\"text\":[9328.0,7611.0,6697.0,4783.0,4672.0,4671.0,4282.0,2408.0,1935.0,1868.0,1529.0,1472.0,1333.0,843.0,367.0,292.0,289.0,268.0,265.0,205.0]}],                        {\"template\":{\"data\":{\"histogram2dcontour\":[{\"type\":\"histogram2dcontour\",\"colorbar\":{\"outlinewidth\":0,\"ticks\":\"\"},\"colorscale\":[[0.0,\"#0d0887\"],[0.1111111111111111,\"#46039f\"],[0.2222222222222222,\"#7201a8\"],[0.3333333333333333,\"#9c179e\"],[0.4444444444444444,\"#bd3786\"],[0.5555555555555556,\"#d8576b\"],[0.6666666666666666,\"#ed7953\"],[0.7777777777777778,\"#fb9f3a\"],[0.8888888888888888,\"#fdca26\"],[1.0,\"#f0f921\"]]}],\"choropleth\":[{\"type\":\"choropleth\",\"colorbar\":{\"outlinewidth\":0,\"ticks\":\"\"}}],\"histogram2d\":[{\"type\":\"histogram2d\",\"colorbar\":{\"outlinewidth\":0,\"ticks\":\"\"},\"colorscale\":[[0.0,\"#0d0887\"],[0.1111111111111111,\"#46039f\"],[0.2222222222222222,\"#7201a8\"],[0.3333333333333333,\"#9c179e\"],[0.4444444444444444,\"#bd3786\"],[0.5555555555555556,\"#d8576b\"],[0.6666666666666666,\"#ed7953\"],[0.7777777777777778,\"#fb9f3a\"],[0.8888888888888888,\"#fdca26\"],[1.0,\"#f0f921\"]]}],\"heatmap\":[{\"type\":\"heatmap\",\"colorbar\":{\"outlinewidth\":0,\"ticks\":\"\"},\"colorscale\":[[0.0,\"#0d0887\"],[0.1111111111111111,\"#46039f\"],[0.2222222222222222,\"#7201a8\"],[0.3333333333333333,\"#9c179e\"],[0.4444444444444444,\"#bd3786\"],[0.5555555555555556,\"#d8576b\"],[0.6666666666666666,\"#ed7953\"],[0.7777777777777778,\"#fb9f3a\"],[0.8888888888888888,\"#fdca26\"],[1.0,\"#f0f921\"]]}],\"heatmapgl\":[{\"type\":\"heatmapgl\",\"colorbar\":{\"outlinewidth\":0,\"ticks\":\"\"},\"colorscale\":[[0.0,\"#0d0887\"],[0.1111111111111111,\"#46039f\"],[0.2222222222222222,\"#7201a8\"],[0.3333333333333333,\"#9c179e\"],[0.4444444444444444,\"#bd3786\"],[0.5555555555555556,\"#d8576b\"],[0.6666666666666666,\"#ed7953\"],[0.7777777777777778,\"#fb9f3a\"],[0.8888888888888888,\"#fdca26\"],[1.0,\"#f0f921\"]]}],\"contourcarpet\":[{\"type\":\"contourcarpet\",\"colorbar\":{\"outlinewidth\":0,\"ticks\":\"\"}}],\"contour\":[{\"type\":\"contour\",\"colorbar\":{\"outlinewidth\":0,\"ticks\":\"\"},\"colorscale\":[[0.0,\"#0d0887\"],[0.1111111111111111,\"#46039f\"],[0.2222222222222222,\"#7201a8\"],[0.3333333333333333,\"#9c179e\"],[0.4444444444444444,\"#bd3786\"],[0.5555555555555556,\"#d8576b\"],[0.6666666666666666,\"#ed7953\"],[0.7777777777777778,\"#fb9f3a\"],[0.8888888888888888,\"#fdca26\"],[1.0,\"#f0f921\"]]}],\"surface\":[{\"type\":\"surface\",\"colorbar\":{\"outlinewidth\":0,\"ticks\":\"\"},\"colorscale\":[[0.0,\"#0d0887\"],[0.1111111111111111,\"#46039f\"],[0.2222222222222222,\"#7201a8\"],[0.3333333333333333,\"#9c179e\"],[0.4444444444444444,\"#bd3786\"],[0.5555555555555556,\"#d8576b\"],[0.6666666666666666,\"#ed7953\"],[0.7777777777777778,\"#fb9f3a\"],[0.8888888888888888,\"#fdca26\"],[1.0,\"#f0f921\"]]}],\"mesh3d\":[{\"type\":\"mesh3d\",\"colorbar\":{\"outlinewidth\":0,\"ticks\":\"\"}}],\"scatter\":[{\"fillpattern\":{\"fillmode\":\"overlay\",\"size\":10,\"solidity\":0.2},\"type\":\"scatter\"}],\"parcoords\":[{\"type\":\"parcoords\",\"line\":{\"colorbar\":{\"outlinewidth\":0,\"ticks\":\"\"}}}],\"scatterpolargl\":[{\"type\":\"scatterpolargl\",\"marker\":{\"colorbar\":{\"outlinewidth\":0,\"ticks\":\"\"}}}],\"bar\":[{\"error_x\":{\"color\":\"#2a3f5f\"},\"error_y\":{\"color\":\"#2a3f5f\"},\"marker\":{\"line\":{\"color\":\"#E5ECF6\",\"width\":0.5},\"pattern\":{\"fillmode\":\"overlay\",\"size\":10,\"solidity\":0.2}},\"type\":\"bar\"}],\"scattergeo\":[{\"type\":\"scattergeo\",\"marker\":{\"colorbar\":{\"outlinewidth\":0,\"ticks\":\"\"}}}],\"scatterpolar\":[{\"type\":\"scatterpolar\",\"marker\":{\"colorbar\":{\"outlinewidth\":0,\"ticks\":\"\"}}}],\"histogram\":[{\"marker\":{\"pattern\":{\"fillmode\":\"overlay\",\"size\":10,\"solidity\":0.2}},\"type\":\"histogram\"}],\"scattergl\":[{\"type\":\"scattergl\",\"marker\":{\"colorbar\":{\"outlinewidth\":0,\"ticks\":\"\"}}}],\"scatter3d\":[{\"type\":\"scatter3d\",\"line\":{\"colorbar\":{\"outlinewidth\":0,\"ticks\":\"\"}},\"marker\":{\"colorbar\":{\"outlinewidth\":0,\"ticks\":\"\"}}}],\"scattermapbox\":[{\"type\":\"scattermapbox\",\"marker\":{\"colorbar\":{\"outlinewidth\":0,\"ticks\":\"\"}}}],\"scatterternary\":[{\"type\":\"scatterternary\",\"marker\":{\"colorbar\":{\"outlinewidth\":0,\"ticks\":\"\"}}}],\"scattercarpet\":[{\"type\":\"scattercarpet\",\"marker\":{\"colorbar\":{\"outlinewidth\":0,\"ticks\":\"\"}}}],\"carpet\":[{\"aaxis\":{\"endlinecolor\":\"#2a3f5f\",\"gridcolor\":\"white\",\"linecolor\":\"white\",\"minorgridcolor\":\"white\",\"startlinecolor\":\"#2a3f5f\"},\"baxis\":{\"endlinecolor\":\"#2a3f5f\",\"gridcolor\":\"white\",\"linecolor\":\"white\",\"minorgridcolor\":\"white\",\"startlinecolor\":\"#2a3f5f\"},\"type\":\"carpet\"}],\"table\":[{\"cells\":{\"fill\":{\"color\":\"#EBF0F8\"},\"line\":{\"color\":\"white\"}},\"header\":{\"fill\":{\"color\":\"#C8D4E3\"},\"line\":{\"color\":\"white\"}},\"type\":\"table\"}],\"barpolar\":[{\"marker\":{\"line\":{\"color\":\"#E5ECF6\",\"width\":0.5},\"pattern\":{\"fillmode\":\"overlay\",\"size\":10,\"solidity\":0.2}},\"type\":\"barpolar\"}],\"pie\":[{\"automargin\":true,\"type\":\"pie\"}]},\"layout\":{\"autotypenumbers\":\"strict\",\"colorway\":[\"#636efa\",\"#EF553B\",\"#00cc96\",\"#ab63fa\",\"#FFA15A\",\"#19d3f3\",\"#FF6692\",\"#B6E880\",\"#FF97FF\",\"#FECB52\"],\"font\":{\"color\":\"#2a3f5f\"},\"hovermode\":\"closest\",\"hoverlabel\":{\"align\":\"left\"},\"paper_bgcolor\":\"white\",\"plot_bgcolor\":\"#E5ECF6\",\"polar\":{\"bgcolor\":\"#E5ECF6\",\"angularaxis\":{\"gridcolor\":\"white\",\"linecolor\":\"white\",\"ticks\":\"\"},\"radialaxis\":{\"gridcolor\":\"white\",\"linecolor\":\"white\",\"ticks\":\"\"}},\"ternary\":{\"bgcolor\":\"#E5ECF6\",\"aaxis\":{\"gridcolor\":\"white\",\"linecolor\":\"white\",\"ticks\":\"\"},\"baxis\":{\"gridcolor\":\"white\",\"linecolor\":\"white\",\"ticks\":\"\"},\"caxis\":{\"gridcolor\":\"white\",\"linecolor\":\"white\",\"ticks\":\"\"}},\"coloraxis\":{\"colorbar\":{\"outlinewidth\":0,\"ticks\":\"\"}},\"colorscale\":{\"sequential\":[[0.0,\"#0d0887\"],[0.1111111111111111,\"#46039f\"],[0.2222222222222222,\"#7201a8\"],[0.3333333333333333,\"#9c179e\"],[0.4444444444444444,\"#bd3786\"],[0.5555555555555556,\"#d8576b\"],[0.6666666666666666,\"#ed7953\"],[0.7777777777777778,\"#fb9f3a\"],[0.8888888888888888,\"#fdca26\"],[1.0,\"#f0f921\"]],\"sequentialminus\":[[0.0,\"#0d0887\"],[0.1111111111111111,\"#46039f\"],[0.2222222222222222,\"#7201a8\"],[0.3333333333333333,\"#9c179e\"],[0.4444444444444444,\"#bd3786\"],[0.5555555555555556,\"#d8576b\"],[0.6666666666666666,\"#ed7953\"],[0.7777777777777778,\"#fb9f3a\"],[0.8888888888888888,\"#fdca26\"],[1.0,\"#f0f921\"]],\"diverging\":[[0,\"#8e0152\"],[0.1,\"#c51b7d\"],[0.2,\"#de77ae\"],[0.3,\"#f1b6da\"],[0.4,\"#fde0ef\"],[0.5,\"#f7f7f7\"],[0.6,\"#e6f5d0\"],[0.7,\"#b8e186\"],[0.8,\"#7fbc41\"],[0.9,\"#4d9221\"],[1,\"#276419\"]]},\"xaxis\":{\"gridcolor\":\"white\",\"linecolor\":\"white\",\"ticks\":\"\",\"title\":{\"standoff\":15},\"zerolinecolor\":\"white\",\"automargin\":true,\"zerolinewidth\":2},\"yaxis\":{\"gridcolor\":\"white\",\"linecolor\":\"white\",\"ticks\":\"\",\"title\":{\"standoff\":15},\"zerolinecolor\":\"white\",\"automargin\":true,\"zerolinewidth\":2},\"scene\":{\"xaxis\":{\"backgroundcolor\":\"#E5ECF6\",\"gridcolor\":\"white\",\"linecolor\":\"white\",\"showbackground\":true,\"ticks\":\"\",\"zerolinecolor\":\"white\",\"gridwidth\":2},\"yaxis\":{\"backgroundcolor\":\"#E5ECF6\",\"gridcolor\":\"white\",\"linecolor\":\"white\",\"showbackground\":true,\"ticks\":\"\",\"zerolinecolor\":\"white\",\"gridwidth\":2},\"zaxis\":{\"backgroundcolor\":\"#E5ECF6\",\"gridcolor\":\"white\",\"linecolor\":\"white\",\"showbackground\":true,\"ticks\":\"\",\"zerolinecolor\":\"white\",\"gridwidth\":2}},\"shapedefaults\":{\"line\":{\"color\":\"#2a3f5f\"}},\"annotationdefaults\":{\"arrowcolor\":\"#2a3f5f\",\"arrowhead\":0,\"arrowwidth\":1},\"geo\":{\"bgcolor\":\"white\",\"landcolor\":\"#E5ECF6\",\"subunitcolor\":\"white\",\"showland\":true,\"showlakes\":true,\"lakecolor\":\"white\"},\"title\":{\"x\":0.05},\"mapbox\":{\"style\":\"light\"}}},\"xaxis\":{\"anchor\":\"y\",\"domain\":[0.0,1.0],\"title\":{\"text\":\"Detalle\"}},\"yaxis\":{\"anchor\":\"x\",\"domain\":[0.0,1.0],\"title\":{\"text\":\"Cantidad de Consultas\"}},\"legend\":{\"title\":{\"text\":\"barrio_popular\"},\"tracegroupgap\":0},\"title\":{\"text\":\"Top 10 Consultas por Detalle y Tipo de Barrio\"},\"barmode\":\"relative\"},                        {\"responsive\": true}                    ).then(function(){\n",
       "                            \n",
       "var gd = document.getElementById('029ceef0-bc43-4d35-a83c-0fec9ba6c9f6');\n",
       "var x = new MutationObserver(function (mutations, observer) {{\n",
       "        var display = window.getComputedStyle(gd).display;\n",
       "        if (!display || display === 'none') {{\n",
       "            console.log([gd, 'removed!']);\n",
       "            Plotly.purge(gd);\n",
       "            observer.disconnect();\n",
       "        }}\n",
       "}});\n",
       "\n",
       "// Listen for the removal of the full notebook cells\n",
       "var notebookContainer = gd.closest('#notebook-container');\n",
       "if (notebookContainer) {{\n",
       "    x.observe(notebookContainer, {childList: true});\n",
       "}}\n",
       "\n",
       "// Listen for the clearing of the current output cell\n",
       "var outputEl = gd.closest('.output');\n",
       "if (outputEl) {{\n",
       "    x.observe(outputEl, {childList: true});\n",
       "}}\n",
       "\n",
       "                        })                };                });            </script>        </div>"
      ]
     },
     "metadata": {},
     "output_type": "display_data"
    }
   ],
   "source": [
    "import pandas as pd\n",
    "import plotly.express as px\n",
    "\n",
    "# Supongamos que tienes tu DataFrame llamado 'df' con los datos\n",
    "# ... (procesa los datos como se mostró anteriormente)\n",
    "\n",
    "# Eliminar filas con 'detalle' igual a '#¡REF!' y los detalles específicos\n",
    "df = df[(df['detalle'] != '#¡REF!') &\n",
    "        (df['detalle'] != 'CONSULTA-ADULTO (Desde 15 anos)') &\n",
    "        (df['detalle'] != 'CONSULTAS FICHADAS Y MOTIVACION (NINOS hasta 14 anos)') &\n",
    "        (df['detalle'] != 'CONSULTAS FICHADAS Y MOTIVACION (ninios hasta 14 anios)')]\n",
    "\n",
    "# Corregir errores tipográficos en los detalles de las consultas\n",
    "correcciones = {\n",
    "    'FOTOCURADO ANTERIORES Y PosTERIORES': 'FOTOCURADO ANTERIORES Y POSTERIORES',\n",
    "    'TARTREC Y CEPILLADO MECAniCO': 'TARTREC Y CEPILLADO MECANICO'\n",
    "}\n",
    "\n",
    "df['detalle'] = df['detalle'].replace(correcciones)\n",
    "\n",
    "# Calcular la cantidad de consultas por detalle\n",
    "atenciones_detalle = df.groupby(['detalle', 'barrio_popular'])['consulta_cantidad'].sum().reset_index()\n",
    "\n",
    "# Encontrar los 10 detalles con la mayor cantidad de consultas\n",
    "top_10_consultas = atenciones_detalle.nlargest(20, 'consulta_cantidad')\n",
    "\n",
    "# Crear el gráfico de barras\n",
    "fig = px.bar(top_10_consultas, x='detalle', y='consulta_cantidad',\n",
    "             title='Top 10 Consultas por Detalle y Tipo de Barrio',\n",
    "             labels={'detalle': 'Detalle', 'consulta_cantidad': 'Cantidad de Consultas'},\n",
    "             color='barrio_popular',  # Colorear por tipo de barrio\n",
    "             category_orders={\"barrio_popular\": [\"no\", \"si\"]},  # Ordenar las categorías\n",
    "            )\n",
    "\n",
    "fig.update_xaxes(title_text='Detalle')\n",
    "fig.update_yaxes(title_text='Cantidad de Consultas')\n",
    "\n",
    "# Agregar etiquetas de texto a cada barra con la cantidad\n",
    "fig.update_traces(text=top_10_consultas['consulta_cantidad'], textposition='inside')\n",
    "\n",
    "# Mostrar el gráfico interactivo\n",
    "fig.show()\n",
    "\n",
    "# Guardar la imagen en formato PNG para PowerPoint\n",
    "fig.write_image(\"grafico_consultas_detalle_top_10.png\")"
   ]
  },
  {
   "cell_type": "code",
   "execution_count": null,
   "id": "460c17e1",
   "metadata": {},
   "outputs": [],
   "source": []
  },
  {
   "cell_type": "code",
   "execution_count": null,
   "id": "81d88953",
   "metadata": {},
   "outputs": [],
   "source": []
  },
  {
   "cell_type": "code",
   "execution_count": 131,
   "id": "88ec3f37",
   "metadata": {},
   "outputs": [
    {
     "data": {
      "text/html": [
       "<div>\n",
       "<style scoped>\n",
       "    .dataframe tbody tr th:only-of-type {\n",
       "        vertical-align: middle;\n",
       "    }\n",
       "\n",
       "    .dataframe tbody tr th {\n",
       "        vertical-align: top;\n",
       "    }\n",
       "\n",
       "    .dataframe thead th {\n",
       "        text-align: right;\n",
       "    }\n",
       "</style>\n",
       "<table border=\"1\" class=\"dataframe\">\n",
       "  <thead>\n",
       "    <tr style=\"text-align: right;\">\n",
       "      <th></th>\n",
       "      <th>detalle</th>\n",
       "      <th>barrio_popular</th>\n",
       "      <th>consulta_cantidad</th>\n",
       "    </tr>\n",
       "  </thead>\n",
       "  <tbody>\n",
       "    <tr>\n",
       "      <th>45</th>\n",
       "      <td>URGENCIA</td>\n",
       "      <td>no</td>\n",
       "      <td>9328.0</td>\n",
       "    </tr>\n",
       "    <tr>\n",
       "      <th>46</th>\n",
       "      <td>URGENCIA</td>\n",
       "      <td>si</td>\n",
       "      <td>7611.0</td>\n",
       "    </tr>\n",
       "    <tr>\n",
       "      <th>11</th>\n",
       "      <td>EXTRACCION DENTARIA</td>\n",
       "      <td>si</td>\n",
       "      <td>6697.0</td>\n",
       "    </tr>\n",
       "    <tr>\n",
       "      <th>10</th>\n",
       "      <td>EXTRACCION DENTARIA</td>\n",
       "      <td>no</td>\n",
       "      <td>4783.0</td>\n",
       "    </tr>\n",
       "    <tr>\n",
       "      <th>19</th>\n",
       "      <td>INACTIVACION DE CARIES</td>\n",
       "      <td>si</td>\n",
       "      <td>4282.0</td>\n",
       "    </tr>\n",
       "    <tr>\n",
       "      <th>4</th>\n",
       "      <td>CONSULTAS FICHADAS Y MOTIVACION (ninios hasta ...</td>\n",
       "      <td>no</td>\n",
       "      <td>3789.0</td>\n",
       "    </tr>\n",
       "    <tr>\n",
       "      <th>5</th>\n",
       "      <td>CONSULTAS FICHADAS Y MOTIVACION (ninios hasta ...</td>\n",
       "      <td>si</td>\n",
       "      <td>2612.0</td>\n",
       "    </tr>\n",
       "    <tr>\n",
       "      <th>15</th>\n",
       "      <td>FOTOCURADO ANTERIORES Y POSTERIORES</td>\n",
       "      <td>si</td>\n",
       "      <td>2562.0</td>\n",
       "    </tr>\n",
       "    <tr>\n",
       "      <th>9</th>\n",
       "      <td>DETENCION, CONTROL PLACA BACTERIANA Y ENS</td>\n",
       "      <td>si</td>\n",
       "      <td>2408.0</td>\n",
       "    </tr>\n",
       "    <tr>\n",
       "      <th>14</th>\n",
       "      <td>FOTOCURADO ANTERIORES Y POSTERIORES</td>\n",
       "      <td>no</td>\n",
       "      <td>2387.0</td>\n",
       "    </tr>\n",
       "    <tr>\n",
       "      <th>16</th>\n",
       "      <td>FOTOCURADO ANTERIORES Y PosTERIORES</td>\n",
       "      <td>no</td>\n",
       "      <td>2285.0</td>\n",
       "    </tr>\n",
       "    <tr>\n",
       "      <th>17</th>\n",
       "      <td>FOTOCURADO ANTERIORES Y PosTERIORES</td>\n",
       "      <td>si</td>\n",
       "      <td>2109.0</td>\n",
       "    </tr>\n",
       "    <tr>\n",
       "      <th>8</th>\n",
       "      <td>DETENCION, CONTROL PLACA BACTERIANA Y ENS</td>\n",
       "      <td>no</td>\n",
       "      <td>1868.0</td>\n",
       "    </tr>\n",
       "    <tr>\n",
       "      <th>18</th>\n",
       "      <td>INACTIVACION DE CARIES</td>\n",
       "      <td>no</td>\n",
       "      <td>1529.0</td>\n",
       "    </tr>\n",
       "    <tr>\n",
       "      <th>30</th>\n",
       "      <td>TALLER DE PROMOCION Y PREVENCION</td>\n",
       "      <td>si</td>\n",
       "      <td>1472.0</td>\n",
       "    </tr>\n",
       "    <tr>\n",
       "      <th>34</th>\n",
       "      <td>TARTREC Y CEPILLADO MECAniCO</td>\n",
       "      <td>si</td>\n",
       "      <td>1151.0</td>\n",
       "    </tr>\n",
       "    <tr>\n",
       "      <th>1</th>\n",
       "      <td>APLICACION DE FLUOR</td>\n",
       "      <td>si</td>\n",
       "      <td>843.0</td>\n",
       "    </tr>\n",
       "    <tr>\n",
       "      <th>32</th>\n",
       "      <td>TARTREC Y CEPILLADO MECANICO</td>\n",
       "      <td>si</td>\n",
       "      <td>784.0</td>\n",
       "    </tr>\n",
       "    <tr>\n",
       "      <th>33</th>\n",
       "      <td>TARTREC Y CEPILLADO MECAniCO</td>\n",
       "      <td>no</td>\n",
       "      <td>712.0</td>\n",
       "    </tr>\n",
       "    <tr>\n",
       "      <th>31</th>\n",
       "      <td>TARTREC Y CEPILLADO MECANICO</td>\n",
       "      <td>no</td>\n",
       "      <td>621.0</td>\n",
       "    </tr>\n",
       "  </tbody>\n",
       "</table>\n",
       "</div>"
      ],
      "text/plain": [
       "                                              detalle barrio_popular  \\\n",
       "45                                           URGENCIA             no   \n",
       "46                                           URGENCIA             si   \n",
       "11                                EXTRACCION DENTARIA             si   \n",
       "10                                EXTRACCION DENTARIA             no   \n",
       "19                             INACTIVACION DE CARIES             si   \n",
       "4   CONSULTAS FICHADAS Y MOTIVACION (ninios hasta ...             no   \n",
       "5   CONSULTAS FICHADAS Y MOTIVACION (ninios hasta ...             si   \n",
       "15                FOTOCURADO ANTERIORES Y POSTERIORES             si   \n",
       "9           DETENCION, CONTROL PLACA BACTERIANA Y ENS             si   \n",
       "14                FOTOCURADO ANTERIORES Y POSTERIORES             no   \n",
       "16                FOTOCURADO ANTERIORES Y PosTERIORES             no   \n",
       "17                FOTOCURADO ANTERIORES Y PosTERIORES             si   \n",
       "8           DETENCION, CONTROL PLACA BACTERIANA Y ENS             no   \n",
       "18                             INACTIVACION DE CARIES             no   \n",
       "30                   TALLER DE PROMOCION Y PREVENCION             si   \n",
       "34                       TARTREC Y CEPILLADO MECAniCO             si   \n",
       "1                                 APLICACION DE FLUOR             si   \n",
       "32                       TARTREC Y CEPILLADO MECANICO             si   \n",
       "33                       TARTREC Y CEPILLADO MECAniCO             no   \n",
       "31                       TARTREC Y CEPILLADO MECANICO             no   \n",
       "\n",
       "    consulta_cantidad  \n",
       "45             9328.0  \n",
       "46             7611.0  \n",
       "11             6697.0  \n",
       "10             4783.0  \n",
       "19             4282.0  \n",
       "4              3789.0  \n",
       "5              2612.0  \n",
       "15             2562.0  \n",
       "9              2408.0  \n",
       "14             2387.0  \n",
       "16             2285.0  \n",
       "17             2109.0  \n",
       "8              1868.0  \n",
       "18             1529.0  \n",
       "30             1472.0  \n",
       "34             1151.0  \n",
       "1               843.0  \n",
       "32              784.0  \n",
       "33              712.0  \n",
       "31              621.0  "
      ]
     },
     "execution_count": 131,
     "metadata": {},
     "output_type": "execute_result"
    }
   ],
   "source": [
    "top_10_consultas"
   ]
  },
  {
   "cell_type": "code",
   "execution_count": null,
   "id": "ec94e437",
   "metadata": {},
   "outputs": [],
   "source": []
  },
  {
   "cell_type": "code",
   "execution_count": null,
   "id": "d295976d",
   "metadata": {},
   "outputs": [],
   "source": []
  },
  {
   "cell_type": "code",
   "execution_count": null,
   "id": "3ca66b7f",
   "metadata": {},
   "outputs": [],
   "source": []
  },
  {
   "cell_type": "code",
   "execution_count": null,
   "id": "2bc7988b",
   "metadata": {},
   "outputs": [],
   "source": []
  },
  {
   "cell_type": "markdown",
   "id": "c3d70b33",
   "metadata": {},
   "source": [
    "La distribución de las consultas según los rangos etarios es la siguiente:\n",
    "\n",
    "    1−41−4 años: 6,8836,883 consultas\n",
    "    15−1915−19 años: 14,27114,271 consultas\n",
    "    20−3920−39 años: 26,59026,590 consultas\n",
    "    40−6940−69 años: 13,21213,212 consultas\n",
    "    5−145−14 años: 23,87923,879 consultas\n",
    "    <1<1 año: 432432 consultas\n",
    "    >=70>=70 años: 1,8671,867 consultas\n",
    "    Desconocido: 1919 consultas\n",
    "\n",
    "Se observa que el mayor número de consultas se da en el rango etario de 20−3920−39 años, seguido por el rango de 5−145−14 años.\n",
    "\n",
    "En cuanto a los tipos de consulta (detalle), los más frecuentes son:\n",
    "\n",
    "    Urgencia: 16,939 consultas\n",
    "    Consulta-Adulto (Desde 15 años): 12,520 consultas\n",
    "    Extracción dentaria: 11,482 consultas\n",
    "    Consulta-Adulto (Desde 15 anos): 8,618 consultas\n",
    "    Consultas fichadas y motivación (niños hasta 14 años): 6,401 consultas"
   ]
  },
  {
   "cell_type": "markdown",
   "id": "d9aeded5",
   "metadata": {},
   "source": [
    " ## 4. Cantidad de consultas por hectárea para cada barrio\n"
   ]
  },
  {
   "cell_type": "code",
   "execution_count": 147,
   "id": "4cef27cf",
   "metadata": {},
   "outputs": [
    {
     "data": {
      "text/html": [
       "<div>\n",
       "<style scoped>\n",
       "    .dataframe tbody tr th:only-of-type {\n",
       "        vertical-align: middle;\n",
       "    }\n",
       "\n",
       "    .dataframe tbody tr th {\n",
       "        vertical-align: top;\n",
       "    }\n",
       "\n",
       "    .dataframe thead th {\n",
       "        text-align: right;\n",
       "    }\n",
       "</style>\n",
       "<table border=\"1\" class=\"dataframe\">\n",
       "  <thead>\n",
       "    <tr style=\"text-align: right;\">\n",
       "      <th></th>\n",
       "      <th>nombre_barrio_correcto</th>\n",
       "      <th>consulta_cantidad</th>\n",
       "      <th>sup_ha</th>\n",
       "      <th>consultas_por_ha</th>\n",
       "    </tr>\n",
       "  </thead>\n",
       "  <tbody>\n",
       "    <tr>\n",
       "      <th>0</th>\n",
       "      <td>3 DE ABRIL</td>\n",
       "      <td>3215.0</td>\n",
       "      <td>111.521732</td>\n",
       "      <td>28.828462</td>\n",
       "    </tr>\n",
       "    <tr>\n",
       "      <th>1</th>\n",
       "      <td>ANAHI</td>\n",
       "      <td>2154.0</td>\n",
       "      <td>102.603897</td>\n",
       "      <td>20.993355</td>\n",
       "    </tr>\n",
       "    <tr>\n",
       "      <th>2</th>\n",
       "      <td>CICHERO</td>\n",
       "      <td>1356.0</td>\n",
       "      <td>7.745175</td>\n",
       "      <td>175.076746</td>\n",
       "    </tr>\n",
       "    <tr>\n",
       "      <th>3</th>\n",
       "      <td>ESPERANZA</td>\n",
       "      <td>3359.0</td>\n",
       "      <td>57.560568</td>\n",
       "      <td>58.355922</td>\n",
       "    </tr>\n",
       "    <tr>\n",
       "      <th>4</th>\n",
       "      <td>GUEMES TRADICIONAL</td>\n",
       "      <td>1237.0</td>\n",
       "      <td>19.731018</td>\n",
       "      <td>62.693166</td>\n",
       "    </tr>\n",
       "    <tr>\n",
       "      <th>5</th>\n",
       "      <td>INDEPENDENCIA</td>\n",
       "      <td>2483.0</td>\n",
       "      <td>55.771462</td>\n",
       "      <td>44.520978</td>\n",
       "    </tr>\n",
       "    <tr>\n",
       "      <th>6</th>\n",
       "      <td>LOMAS</td>\n",
       "      <td>619.0</td>\n",
       "      <td>48.260038</td>\n",
       "      <td>12.826347</td>\n",
       "    </tr>\n",
       "    <tr>\n",
       "      <th>7</th>\n",
       "      <td>LOMAS DEL MIRADOR</td>\n",
       "      <td>6220.0</td>\n",
       "      <td>39.008708</td>\n",
       "      <td>159.451575</td>\n",
       "    </tr>\n",
       "    <tr>\n",
       "      <th>8</th>\n",
       "      <td>NIÑO JESUS</td>\n",
       "      <td>2278.0</td>\n",
       "      <td>52.571536</td>\n",
       "      <td>43.331433</td>\n",
       "    </tr>\n",
       "    <tr>\n",
       "      <th>9</th>\n",
       "      <td>NTRA SRA DE LA ASUNCION</td>\n",
       "      <td>712.0</td>\n",
       "      <td>73.694634</td>\n",
       "      <td>9.661490</td>\n",
       "    </tr>\n",
       "    <tr>\n",
       "      <th>10</th>\n",
       "      <td>PARQUE CADENA NORTE</td>\n",
       "      <td>4337.0</td>\n",
       "      <td>32.760741</td>\n",
       "      <td>132.384062</td>\n",
       "    </tr>\n",
       "    <tr>\n",
       "      <th>11</th>\n",
       "      <td>PASO MARTINEZ</td>\n",
       "      <td>427.0</td>\n",
       "      <td>196.213921</td>\n",
       "      <td>2.176196</td>\n",
       "    </tr>\n",
       "    <tr>\n",
       "      <th>12</th>\n",
       "      <td>PEDRO FERRE</td>\n",
       "      <td>8026.0</td>\n",
       "      <td>5.751110</td>\n",
       "      <td>1395.556643</td>\n",
       "    </tr>\n",
       "    <tr>\n",
       "      <th>13</th>\n",
       "      <td>PIRAYUI</td>\n",
       "      <td>3683.0</td>\n",
       "      <td>115.928467</td>\n",
       "      <td>31.769591</td>\n",
       "    </tr>\n",
       "    <tr>\n",
       "      <th>14</th>\n",
       "      <td>PLACIDO MARTINEZ</td>\n",
       "      <td>5026.0</td>\n",
       "      <td>22.511038</td>\n",
       "      <td>223.268252</td>\n",
       "    </tr>\n",
       "    <tr>\n",
       "      <th>15</th>\n",
       "      <td>PRIMERA JUNTA</td>\n",
       "      <td>1685.0</td>\n",
       "      <td>24.701800</td>\n",
       "      <td>68.213653</td>\n",
       "    </tr>\n",
       "    <tr>\n",
       "      <th>16</th>\n",
       "      <td>QUINTA FERRE</td>\n",
       "      <td>1698.0</td>\n",
       "      <td>23.423022</td>\n",
       "      <td>72.492781</td>\n",
       "    </tr>\n",
       "    <tr>\n",
       "      <th>17</th>\n",
       "      <td>RIO PARANA</td>\n",
       "      <td>3654.0</td>\n",
       "      <td>121.174631</td>\n",
       "      <td>30.154827</td>\n",
       "    </tr>\n",
       "    <tr>\n",
       "      <th>18</th>\n",
       "      <td>SAN ANTONIO</td>\n",
       "      <td>10325.0</td>\n",
       "      <td>74.532534</td>\n",
       "      <td>138.530107</td>\n",
       "    </tr>\n",
       "    <tr>\n",
       "      <th>19</th>\n",
       "      <td>SAN GERONIMO</td>\n",
       "      <td>3270.0</td>\n",
       "      <td>77.670742</td>\n",
       "      <td>42.100795</td>\n",
       "    </tr>\n",
       "    <tr>\n",
       "      <th>20</th>\n",
       "      <td>SAN MARCOS</td>\n",
       "      <td>1262.0</td>\n",
       "      <td>13.967420</td>\n",
       "      <td>90.353125</td>\n",
       "    </tr>\n",
       "    <tr>\n",
       "      <th>21</th>\n",
       "      <td>SANTA MARGARITA</td>\n",
       "      <td>81.0</td>\n",
       "      <td>73.390272</td>\n",
       "      <td>1.103689</td>\n",
       "    </tr>\n",
       "    <tr>\n",
       "      <th>22</th>\n",
       "      <td>SANTA RITA NORTE</td>\n",
       "      <td>4479.0</td>\n",
       "      <td>19.429034</td>\n",
       "      <td>230.531280</td>\n",
       "    </tr>\n",
       "    <tr>\n",
       "      <th>23</th>\n",
       "      <td>VICTOR COLAS</td>\n",
       "      <td>8502.0</td>\n",
       "      <td>41.157373</td>\n",
       "      <td>206.572949</td>\n",
       "    </tr>\n",
       "    <tr>\n",
       "      <th>24</th>\n",
       "      <td>VILLA ONGAY</td>\n",
       "      <td>3426.0</td>\n",
       "      <td>44.423311</td>\n",
       "      <td>77.121672</td>\n",
       "    </tr>\n",
       "    <tr>\n",
       "      <th>25</th>\n",
       "      <td>VILLA PATONO</td>\n",
       "      <td>186.0</td>\n",
       "      <td>111.707438</td>\n",
       "      <td>1.665064</td>\n",
       "    </tr>\n",
       "    <tr>\n",
       "      <th>26</th>\n",
       "      <td>VIRGEN DE LOS DOLORES</td>\n",
       "      <td>2957.0</td>\n",
       "      <td>11.839430</td>\n",
       "      <td>249.758642</td>\n",
       "    </tr>\n",
       "  </tbody>\n",
       "</table>\n",
       "</div>"
      ],
      "text/plain": [
       "     nombre_barrio_correcto  consulta_cantidad      sup_ha  consultas_por_ha\n",
       "0                3 DE ABRIL             3215.0  111.521732         28.828462\n",
       "1                     ANAHI             2154.0  102.603897         20.993355\n",
       "2                   CICHERO             1356.0    7.745175        175.076746\n",
       "3                 ESPERANZA             3359.0   57.560568         58.355922\n",
       "4        GUEMES TRADICIONAL             1237.0   19.731018         62.693166\n",
       "5             INDEPENDENCIA             2483.0   55.771462         44.520978\n",
       "6                     LOMAS              619.0   48.260038         12.826347\n",
       "7         LOMAS DEL MIRADOR             6220.0   39.008708        159.451575\n",
       "8                NIÑO JESUS             2278.0   52.571536         43.331433\n",
       "9   NTRA SRA DE LA ASUNCION              712.0   73.694634          9.661490\n",
       "10      PARQUE CADENA NORTE             4337.0   32.760741        132.384062\n",
       "11            PASO MARTINEZ              427.0  196.213921          2.176196\n",
       "12              PEDRO FERRE             8026.0    5.751110       1395.556643\n",
       "13                  PIRAYUI             3683.0  115.928467         31.769591\n",
       "14         PLACIDO MARTINEZ             5026.0   22.511038        223.268252\n",
       "15            PRIMERA JUNTA             1685.0   24.701800         68.213653\n",
       "16             QUINTA FERRE             1698.0   23.423022         72.492781\n",
       "17               RIO PARANA             3654.0  121.174631         30.154827\n",
       "18              SAN ANTONIO            10325.0   74.532534        138.530107\n",
       "19             SAN GERONIMO             3270.0   77.670742         42.100795\n",
       "20               SAN MARCOS             1262.0   13.967420         90.353125\n",
       "21          SANTA MARGARITA               81.0   73.390272          1.103689\n",
       "22         SANTA RITA NORTE             4479.0   19.429034        230.531280\n",
       "23             VICTOR COLAS             8502.0   41.157373        206.572949\n",
       "24              VILLA ONGAY             3426.0   44.423311         77.121672\n",
       "25             VILLA PATONO              186.0  111.707438          1.665064\n",
       "26    VIRGEN DE LOS DOLORES             2957.0   11.839430        249.758642"
      ]
     },
     "execution_count": 147,
     "metadata": {},
     "output_type": "execute_result"
    }
   ],
   "source": [
    "# Limpiar y convertir la columna 'sup_ha' a float\n",
    "df['sup_ha'] = df['sup_ha'].str.replace(',', '.').astype(float)\n",
    "\n",
    "# Agrupar los datos por 'nombre_barrio_correcto' y calcular la suma de 'consulta_cantidad' y el promedio de 'sup_ha'\n",
    "\n",
    "atenciones_sup_ha = df.groupby('nombre_barrio_correcto').agg({\n",
    "\n",
    "    'consulta_cantidad': 'sum',\n",
    "\n",
    "    'sup_ha': 'mean',  # Tomamos el promedio ya que el valor debería ser el mismo para cada barrio\n",
    "\n",
    "}).reset_index()\n",
    "\n",
    "\n",
    "\n",
    "# Calcular las consultas por hectárea\n",
    "\n",
    "atenciones_sup_ha['consultas_por_ha'] = atenciones_sup_ha['consulta_cantidad'] / atenciones_sup_ha['sup_ha']\n",
    "\n",
    "\n",
    "\n",
    "atenciones_sup_ha\n"
   ]
  },
  {
   "cell_type": "code",
   "execution_count": 148,
   "id": "208d725e",
   "metadata": {},
   "outputs": [
    {
     "data": {
      "application/vnd.plotly.v1+json": {
       "config": {
        "plotlyServerURL": "https://plot.ly"
       },
       "data": [
        {
         "customdata": [
          [
           "3 DE ABRIL"
          ],
          [
           "ANAHI"
          ],
          [
           "CICHERO"
          ],
          [
           "ESPERANZA"
          ],
          [
           "GUEMES TRADICIONAL"
          ],
          [
           "INDEPENDENCIA"
          ],
          [
           "LOMAS"
          ],
          [
           "LOMAS DEL MIRADOR"
          ],
          [
           "NIÑO JESUS"
          ],
          [
           "NTRA SRA DE LA ASUNCION"
          ],
          [
           "PARQUE CADENA NORTE"
          ],
          [
           "PASO MARTINEZ"
          ],
          [
           "PEDRO FERRE"
          ],
          [
           "PIRAYUI"
          ],
          [
           "PLACIDO MARTINEZ"
          ],
          [
           "PRIMERA JUNTA"
          ],
          [
           "QUINTA FERRE"
          ],
          [
           "RIO PARANA"
          ],
          [
           "SAN ANTONIO"
          ],
          [
           "SAN GERONIMO"
          ],
          [
           "SAN MARCOS"
          ],
          [
           "SANTA MARGARITA"
          ],
          [
           "SANTA RITA NORTE"
          ],
          [
           "VICTOR COLAS"
          ],
          [
           "VILLA ONGAY"
          ],
          [
           "VILLA PATONO"
          ],
          [
           "VIRGEN DE LOS DOLORES"
          ]
         ],
         "hovertemplate": "Superficie (ha)=%{x}<br>Cantidad de Consultas=%{y}<br>nombre_barrio_correcto=%{customdata[0]}<extra></extra>",
         "legendgroup": "",
         "marker": {
          "color": "#636efa",
          "symbol": "circle"
         },
         "mode": "markers",
         "name": "",
         "orientation": "v",
         "showlegend": false,
         "type": "scatter",
         "x": [
          111.5217323,
          102.6038972,
          7.745174778,
          57.56056765,
          19.73101815,
          55.771461519999995,
          48.26003786,
          39.00870849,
          52.57153621,
          73.69463377,
          32.76074115,
          196.2139205,
          5.751110169,
          115.92846739999999,
          22.51103753,
          24.70179985,
          23.42302185,
          121.1746314,
          74.53253449,
          77.67074204,
          13.96741956,
          73.39027214,
          19.42903369,
          41.15737347,
          44.42331068,
          111.7074379,
          11.83943017
         ],
         "xaxis": "x",
         "y": [
          3215,
          2154,
          1356,
          3359,
          1237,
          2483,
          619,
          6220,
          2278,
          712,
          4337,
          427,
          8026,
          3683,
          5026,
          1685,
          1698,
          3654,
          10325,
          3270,
          1262,
          81,
          4479,
          8502,
          3426,
          186,
          2957
         ],
         "yaxis": "y"
        },
        {
         "hovertemplate": "<b>OLS trendline</b><br>consulta_cantidad = -12.2938 * sup_ha + 3928.5<br>R<sup>2</sup>=0.045438<br><br>Superficie (ha)=%{x}<br>Cantidad de Consultas=%{y} <b>(trend)</b><extra></extra>",
         "legendgroup": "",
         "marker": {
          "color": "#636efa",
          "symbol": "circle"
         },
         "mode": "lines",
         "name": "",
         "showlegend": false,
         "type": "scatter",
         "x": [
          5.751110169,
          7.745174778,
          11.83943017,
          13.96741956,
          19.42903369,
          19.73101815,
          22.51103753,
          23.42302185,
          24.70179985,
          32.76074115,
          39.00870849,
          41.15737347,
          44.42331068,
          48.26003786,
          52.57153621,
          55.771461519999995,
          57.56056765,
          73.39027214,
          73.69463377,
          74.53253449,
          77.67074204,
          102.6038972,
          111.5217323,
          111.7074379,
          115.92846739999999,
          121.1746314,
          196.2139205
         ],
         "xaxis": "x",
         "y": [
          3857.800496195568,
          3833.285785537166,
          3782.9516660490226,
          3756.7905056008863,
          3689.6462969726936,
          3685.93374842897,
          3651.7566358029007,
          3640.5448467621177,
          3624.823755015722,
          3525.7484225059975,
          3448.9369135649413,
          3422.521570727601,
          3382.370662191187,
          3335.2025532601047,
          3282.1976836699296,
          3242.858314850537,
          3220.8633308785193,
          3026.255481349025,
          3022.513708258377,
          3012.2126911205382,
          2973.6320705493504,
          2667.107857748154,
          2557.473422540221,
          2555.190387662064,
          2503.29772761181,
          2438.802228345604,
          1516.2812368009918
         ],
         "yaxis": "y"
        }
       ],
       "layout": {
        "legend": {
         "tracegroupgap": 0
        },
        "template": {
         "data": {
          "bar": [
           {
            "error_x": {
             "color": "#2a3f5f"
            },
            "error_y": {
             "color": "#2a3f5f"
            },
            "marker": {
             "line": {
              "color": "#E5ECF6",
              "width": 0.5
             },
             "pattern": {
              "fillmode": "overlay",
              "size": 10,
              "solidity": 0.2
             }
            },
            "type": "bar"
           }
          ],
          "barpolar": [
           {
            "marker": {
             "line": {
              "color": "#E5ECF6",
              "width": 0.5
             },
             "pattern": {
              "fillmode": "overlay",
              "size": 10,
              "solidity": 0.2
             }
            },
            "type": "barpolar"
           }
          ],
          "carpet": [
           {
            "aaxis": {
             "endlinecolor": "#2a3f5f",
             "gridcolor": "white",
             "linecolor": "white",
             "minorgridcolor": "white",
             "startlinecolor": "#2a3f5f"
            },
            "baxis": {
             "endlinecolor": "#2a3f5f",
             "gridcolor": "white",
             "linecolor": "white",
             "minorgridcolor": "white",
             "startlinecolor": "#2a3f5f"
            },
            "type": "carpet"
           }
          ],
          "choropleth": [
           {
            "colorbar": {
             "outlinewidth": 0,
             "ticks": ""
            },
            "type": "choropleth"
           }
          ],
          "contour": [
           {
            "colorbar": {
             "outlinewidth": 0,
             "ticks": ""
            },
            "colorscale": [
             [
              0,
              "#0d0887"
             ],
             [
              0.1111111111111111,
              "#46039f"
             ],
             [
              0.2222222222222222,
              "#7201a8"
             ],
             [
              0.3333333333333333,
              "#9c179e"
             ],
             [
              0.4444444444444444,
              "#bd3786"
             ],
             [
              0.5555555555555556,
              "#d8576b"
             ],
             [
              0.6666666666666666,
              "#ed7953"
             ],
             [
              0.7777777777777778,
              "#fb9f3a"
             ],
             [
              0.8888888888888888,
              "#fdca26"
             ],
             [
              1,
              "#f0f921"
             ]
            ],
            "type": "contour"
           }
          ],
          "contourcarpet": [
           {
            "colorbar": {
             "outlinewidth": 0,
             "ticks": ""
            },
            "type": "contourcarpet"
           }
          ],
          "heatmap": [
           {
            "colorbar": {
             "outlinewidth": 0,
             "ticks": ""
            },
            "colorscale": [
             [
              0,
              "#0d0887"
             ],
             [
              0.1111111111111111,
              "#46039f"
             ],
             [
              0.2222222222222222,
              "#7201a8"
             ],
             [
              0.3333333333333333,
              "#9c179e"
             ],
             [
              0.4444444444444444,
              "#bd3786"
             ],
             [
              0.5555555555555556,
              "#d8576b"
             ],
             [
              0.6666666666666666,
              "#ed7953"
             ],
             [
              0.7777777777777778,
              "#fb9f3a"
             ],
             [
              0.8888888888888888,
              "#fdca26"
             ],
             [
              1,
              "#f0f921"
             ]
            ],
            "type": "heatmap"
           }
          ],
          "heatmapgl": [
           {
            "colorbar": {
             "outlinewidth": 0,
             "ticks": ""
            },
            "colorscale": [
             [
              0,
              "#0d0887"
             ],
             [
              0.1111111111111111,
              "#46039f"
             ],
             [
              0.2222222222222222,
              "#7201a8"
             ],
             [
              0.3333333333333333,
              "#9c179e"
             ],
             [
              0.4444444444444444,
              "#bd3786"
             ],
             [
              0.5555555555555556,
              "#d8576b"
             ],
             [
              0.6666666666666666,
              "#ed7953"
             ],
             [
              0.7777777777777778,
              "#fb9f3a"
             ],
             [
              0.8888888888888888,
              "#fdca26"
             ],
             [
              1,
              "#f0f921"
             ]
            ],
            "type": "heatmapgl"
           }
          ],
          "histogram": [
           {
            "marker": {
             "pattern": {
              "fillmode": "overlay",
              "size": 10,
              "solidity": 0.2
             }
            },
            "type": "histogram"
           }
          ],
          "histogram2d": [
           {
            "colorbar": {
             "outlinewidth": 0,
             "ticks": ""
            },
            "colorscale": [
             [
              0,
              "#0d0887"
             ],
             [
              0.1111111111111111,
              "#46039f"
             ],
             [
              0.2222222222222222,
              "#7201a8"
             ],
             [
              0.3333333333333333,
              "#9c179e"
             ],
             [
              0.4444444444444444,
              "#bd3786"
             ],
             [
              0.5555555555555556,
              "#d8576b"
             ],
             [
              0.6666666666666666,
              "#ed7953"
             ],
             [
              0.7777777777777778,
              "#fb9f3a"
             ],
             [
              0.8888888888888888,
              "#fdca26"
             ],
             [
              1,
              "#f0f921"
             ]
            ],
            "type": "histogram2d"
           }
          ],
          "histogram2dcontour": [
           {
            "colorbar": {
             "outlinewidth": 0,
             "ticks": ""
            },
            "colorscale": [
             [
              0,
              "#0d0887"
             ],
             [
              0.1111111111111111,
              "#46039f"
             ],
             [
              0.2222222222222222,
              "#7201a8"
             ],
             [
              0.3333333333333333,
              "#9c179e"
             ],
             [
              0.4444444444444444,
              "#bd3786"
             ],
             [
              0.5555555555555556,
              "#d8576b"
             ],
             [
              0.6666666666666666,
              "#ed7953"
             ],
             [
              0.7777777777777778,
              "#fb9f3a"
             ],
             [
              0.8888888888888888,
              "#fdca26"
             ],
             [
              1,
              "#f0f921"
             ]
            ],
            "type": "histogram2dcontour"
           }
          ],
          "mesh3d": [
           {
            "colorbar": {
             "outlinewidth": 0,
             "ticks": ""
            },
            "type": "mesh3d"
           }
          ],
          "parcoords": [
           {
            "line": {
             "colorbar": {
              "outlinewidth": 0,
              "ticks": ""
             }
            },
            "type": "parcoords"
           }
          ],
          "pie": [
           {
            "automargin": true,
            "type": "pie"
           }
          ],
          "scatter": [
           {
            "fillpattern": {
             "fillmode": "overlay",
             "size": 10,
             "solidity": 0.2
            },
            "type": "scatter"
           }
          ],
          "scatter3d": [
           {
            "line": {
             "colorbar": {
              "outlinewidth": 0,
              "ticks": ""
             }
            },
            "marker": {
             "colorbar": {
              "outlinewidth": 0,
              "ticks": ""
             }
            },
            "type": "scatter3d"
           }
          ],
          "scattercarpet": [
           {
            "marker": {
             "colorbar": {
              "outlinewidth": 0,
              "ticks": ""
             }
            },
            "type": "scattercarpet"
           }
          ],
          "scattergeo": [
           {
            "marker": {
             "colorbar": {
              "outlinewidth": 0,
              "ticks": ""
             }
            },
            "type": "scattergeo"
           }
          ],
          "scattergl": [
           {
            "marker": {
             "colorbar": {
              "outlinewidth": 0,
              "ticks": ""
             }
            },
            "type": "scattergl"
           }
          ],
          "scattermapbox": [
           {
            "marker": {
             "colorbar": {
              "outlinewidth": 0,
              "ticks": ""
             }
            },
            "type": "scattermapbox"
           }
          ],
          "scatterpolar": [
           {
            "marker": {
             "colorbar": {
              "outlinewidth": 0,
              "ticks": ""
             }
            },
            "type": "scatterpolar"
           }
          ],
          "scatterpolargl": [
           {
            "marker": {
             "colorbar": {
              "outlinewidth": 0,
              "ticks": ""
             }
            },
            "type": "scatterpolargl"
           }
          ],
          "scatterternary": [
           {
            "marker": {
             "colorbar": {
              "outlinewidth": 0,
              "ticks": ""
             }
            },
            "type": "scatterternary"
           }
          ],
          "surface": [
           {
            "colorbar": {
             "outlinewidth": 0,
             "ticks": ""
            },
            "colorscale": [
             [
              0,
              "#0d0887"
             ],
             [
              0.1111111111111111,
              "#46039f"
             ],
             [
              0.2222222222222222,
              "#7201a8"
             ],
             [
              0.3333333333333333,
              "#9c179e"
             ],
             [
              0.4444444444444444,
              "#bd3786"
             ],
             [
              0.5555555555555556,
              "#d8576b"
             ],
             [
              0.6666666666666666,
              "#ed7953"
             ],
             [
              0.7777777777777778,
              "#fb9f3a"
             ],
             [
              0.8888888888888888,
              "#fdca26"
             ],
             [
              1,
              "#f0f921"
             ]
            ],
            "type": "surface"
           }
          ],
          "table": [
           {
            "cells": {
             "fill": {
              "color": "#EBF0F8"
             },
             "line": {
              "color": "white"
             }
            },
            "header": {
             "fill": {
              "color": "#C8D4E3"
             },
             "line": {
              "color": "white"
             }
            },
            "type": "table"
           }
          ]
         },
         "layout": {
          "annotationdefaults": {
           "arrowcolor": "#2a3f5f",
           "arrowhead": 0,
           "arrowwidth": 1
          },
          "autotypenumbers": "strict",
          "coloraxis": {
           "colorbar": {
            "outlinewidth": 0,
            "ticks": ""
           }
          },
          "colorscale": {
           "diverging": [
            [
             0,
             "#8e0152"
            ],
            [
             0.1,
             "#c51b7d"
            ],
            [
             0.2,
             "#de77ae"
            ],
            [
             0.3,
             "#f1b6da"
            ],
            [
             0.4,
             "#fde0ef"
            ],
            [
             0.5,
             "#f7f7f7"
            ],
            [
             0.6,
             "#e6f5d0"
            ],
            [
             0.7,
             "#b8e186"
            ],
            [
             0.8,
             "#7fbc41"
            ],
            [
             0.9,
             "#4d9221"
            ],
            [
             1,
             "#276419"
            ]
           ],
           "sequential": [
            [
             0,
             "#0d0887"
            ],
            [
             0.1111111111111111,
             "#46039f"
            ],
            [
             0.2222222222222222,
             "#7201a8"
            ],
            [
             0.3333333333333333,
             "#9c179e"
            ],
            [
             0.4444444444444444,
             "#bd3786"
            ],
            [
             0.5555555555555556,
             "#d8576b"
            ],
            [
             0.6666666666666666,
             "#ed7953"
            ],
            [
             0.7777777777777778,
             "#fb9f3a"
            ],
            [
             0.8888888888888888,
             "#fdca26"
            ],
            [
             1,
             "#f0f921"
            ]
           ],
           "sequentialminus": [
            [
             0,
             "#0d0887"
            ],
            [
             0.1111111111111111,
             "#46039f"
            ],
            [
             0.2222222222222222,
             "#7201a8"
            ],
            [
             0.3333333333333333,
             "#9c179e"
            ],
            [
             0.4444444444444444,
             "#bd3786"
            ],
            [
             0.5555555555555556,
             "#d8576b"
            ],
            [
             0.6666666666666666,
             "#ed7953"
            ],
            [
             0.7777777777777778,
             "#fb9f3a"
            ],
            [
             0.8888888888888888,
             "#fdca26"
            ],
            [
             1,
             "#f0f921"
            ]
           ]
          },
          "colorway": [
           "#636efa",
           "#EF553B",
           "#00cc96",
           "#ab63fa",
           "#FFA15A",
           "#19d3f3",
           "#FF6692",
           "#B6E880",
           "#FF97FF",
           "#FECB52"
          ],
          "font": {
           "color": "#2a3f5f"
          },
          "geo": {
           "bgcolor": "white",
           "lakecolor": "white",
           "landcolor": "#E5ECF6",
           "showlakes": true,
           "showland": true,
           "subunitcolor": "white"
          },
          "hoverlabel": {
           "align": "left"
          },
          "hovermode": "closest",
          "mapbox": {
           "style": "light"
          },
          "paper_bgcolor": "white",
          "plot_bgcolor": "#E5ECF6",
          "polar": {
           "angularaxis": {
            "gridcolor": "white",
            "linecolor": "white",
            "ticks": ""
           },
           "bgcolor": "#E5ECF6",
           "radialaxis": {
            "gridcolor": "white",
            "linecolor": "white",
            "ticks": ""
           }
          },
          "scene": {
           "xaxis": {
            "backgroundcolor": "#E5ECF6",
            "gridcolor": "white",
            "gridwidth": 2,
            "linecolor": "white",
            "showbackground": true,
            "ticks": "",
            "zerolinecolor": "white"
           },
           "yaxis": {
            "backgroundcolor": "#E5ECF6",
            "gridcolor": "white",
            "gridwidth": 2,
            "linecolor": "white",
            "showbackground": true,
            "ticks": "",
            "zerolinecolor": "white"
           },
           "zaxis": {
            "backgroundcolor": "#E5ECF6",
            "gridcolor": "white",
            "gridwidth": 2,
            "linecolor": "white",
            "showbackground": true,
            "ticks": "",
            "zerolinecolor": "white"
           }
          },
          "shapedefaults": {
           "line": {
            "color": "#2a3f5f"
           }
          },
          "ternary": {
           "aaxis": {
            "gridcolor": "white",
            "linecolor": "white",
            "ticks": ""
           },
           "baxis": {
            "gridcolor": "white",
            "linecolor": "white",
            "ticks": ""
           },
           "bgcolor": "#E5ECF6",
           "caxis": {
            "gridcolor": "white",
            "linecolor": "white",
            "ticks": ""
           }
          },
          "title": {
           "x": 0.05
          },
          "xaxis": {
           "automargin": true,
           "gridcolor": "white",
           "linecolor": "white",
           "ticks": "",
           "title": {
            "standoff": 15
           },
           "zerolinecolor": "white",
           "zerolinewidth": 2
          },
          "yaxis": {
           "automargin": true,
           "gridcolor": "white",
           "linecolor": "white",
           "ticks": "",
           "title": {
            "standoff": 15
           },
           "zerolinecolor": "white",
           "zerolinewidth": 2
          }
         }
        },
        "title": {
         "text": "Relación entre Superficie de Barrios y Cantidad de Consultas"
        },
        "xaxis": {
         "anchor": "y",
         "domain": [
          0,
          1
         ],
         "title": {
          "text": "Superficie (ha)"
         }
        },
        "yaxis": {
         "anchor": "x",
         "domain": [
          0,
          1
         ],
         "title": {
          "text": "Cantidad de Consultas"
         }
        }
       }
      },
      "text/html": [
       "<div>                            <div id=\"4f667104-a40c-4e39-b32f-64f6f0ce650e\" class=\"plotly-graph-div\" style=\"height:525px; width:100%;\"></div>            <script type=\"text/javascript\">                require([\"plotly\"], function(Plotly) {                    window.PLOTLYENV=window.PLOTLYENV || {};                                    if (document.getElementById(\"4f667104-a40c-4e39-b32f-64f6f0ce650e\")) {                    Plotly.newPlot(                        \"4f667104-a40c-4e39-b32f-64f6f0ce650e\",                        [{\"customdata\":[[\"3 DE ABRIL\"],[\"ANAHI\"],[\"CICHERO\"],[\"ESPERANZA\"],[\"GUEMES TRADICIONAL\"],[\"INDEPENDENCIA\"],[\"LOMAS\"],[\"LOMAS DEL MIRADOR\"],[\"NI\\u00d1O JESUS\"],[\"NTRA SRA DE LA ASUNCION\"],[\"PARQUE CADENA NORTE\"],[\"PASO MARTINEZ\"],[\"PEDRO FERRE\"],[\"PIRAYUI\"],[\"PLACIDO MARTINEZ\"],[\"PRIMERA JUNTA\"],[\"QUINTA FERRE\"],[\"RIO PARANA\"],[\"SAN ANTONIO\"],[\"SAN GERONIMO\"],[\"SAN MARCOS\"],[\"SANTA MARGARITA\"],[\"SANTA RITA NORTE\"],[\"VICTOR COLAS\"],[\"VILLA ONGAY\"],[\"VILLA PATONO\"],[\"VIRGEN DE LOS DOLORES\"]],\"hovertemplate\":\"Superficie (ha)=%{x}<br>Cantidad de Consultas=%{y}<br>nombre_barrio_correcto=%{customdata[0]}<extra></extra>\",\"legendgroup\":\"\",\"marker\":{\"color\":\"#636efa\",\"symbol\":\"circle\"},\"mode\":\"markers\",\"name\":\"\",\"orientation\":\"v\",\"showlegend\":false,\"x\":[111.5217323,102.6038972,7.745174778,57.56056765,19.73101815,55.771461519999995,48.26003786,39.00870849,52.57153621,73.69463377,32.76074115,196.2139205,5.751110169,115.92846739999999,22.51103753,24.70179985,23.42302185,121.1746314,74.53253449,77.67074204,13.96741956,73.39027214,19.42903369,41.15737347,44.42331068,111.7074379,11.83943017],\"xaxis\":\"x\",\"y\":[3215.0,2154.0,1356.0,3359.0,1237.0,2483.0,619.0,6220.0,2278.0,712.0,4337.0,427.0,8026.0,3683.0,5026.0,1685.0,1698.0,3654.0,10325.0,3270.0,1262.0,81.0,4479.0,8502.0,3426.0,186.0,2957.0],\"yaxis\":\"y\",\"type\":\"scatter\"},{\"hovertemplate\":\"<b>OLS trendline</b><br>consulta_cantidad = -12.2938 * sup_ha + 3928.5<br>R<sup>2</sup>=0.045438<br><br>Superficie (ha)=%{x}<br>Cantidad de Consultas=%{y} <b>(trend)</b><extra></extra>\",\"legendgroup\":\"\",\"marker\":{\"color\":\"#636efa\",\"symbol\":\"circle\"},\"mode\":\"lines\",\"name\":\"\",\"showlegend\":false,\"x\":[5.751110169,7.745174778,11.83943017,13.96741956,19.42903369,19.73101815,22.51103753,23.42302185,24.70179985,32.76074115,39.00870849,41.15737347,44.42331068,48.26003786,52.57153621,55.771461519999995,57.56056765,73.39027214,73.69463377,74.53253449,77.67074204,102.6038972,111.5217323,111.7074379,115.92846739999999,121.1746314,196.2139205],\"xaxis\":\"x\",\"y\":[3857.800496195568,3833.285785537166,3782.9516660490226,3756.7905056008863,3689.6462969726936,3685.93374842897,3651.7566358029007,3640.5448467621177,3624.823755015722,3525.7484225059975,3448.9369135649413,3422.521570727601,3382.370662191187,3335.2025532601047,3282.1976836699296,3242.858314850537,3220.8633308785193,3026.255481349025,3022.513708258377,3012.2126911205382,2973.6320705493504,2667.107857748154,2557.473422540221,2555.190387662064,2503.29772761181,2438.802228345604,1516.2812368009918],\"yaxis\":\"y\",\"type\":\"scatter\"}],                        {\"template\":{\"data\":{\"histogram2dcontour\":[{\"type\":\"histogram2dcontour\",\"colorbar\":{\"outlinewidth\":0,\"ticks\":\"\"},\"colorscale\":[[0.0,\"#0d0887\"],[0.1111111111111111,\"#46039f\"],[0.2222222222222222,\"#7201a8\"],[0.3333333333333333,\"#9c179e\"],[0.4444444444444444,\"#bd3786\"],[0.5555555555555556,\"#d8576b\"],[0.6666666666666666,\"#ed7953\"],[0.7777777777777778,\"#fb9f3a\"],[0.8888888888888888,\"#fdca26\"],[1.0,\"#f0f921\"]]}],\"choropleth\":[{\"type\":\"choropleth\",\"colorbar\":{\"outlinewidth\":0,\"ticks\":\"\"}}],\"histogram2d\":[{\"type\":\"histogram2d\",\"colorbar\":{\"outlinewidth\":0,\"ticks\":\"\"},\"colorscale\":[[0.0,\"#0d0887\"],[0.1111111111111111,\"#46039f\"],[0.2222222222222222,\"#7201a8\"],[0.3333333333333333,\"#9c179e\"],[0.4444444444444444,\"#bd3786\"],[0.5555555555555556,\"#d8576b\"],[0.6666666666666666,\"#ed7953\"],[0.7777777777777778,\"#fb9f3a\"],[0.8888888888888888,\"#fdca26\"],[1.0,\"#f0f921\"]]}],\"heatmap\":[{\"type\":\"heatmap\",\"colorbar\":{\"outlinewidth\":0,\"ticks\":\"\"},\"colorscale\":[[0.0,\"#0d0887\"],[0.1111111111111111,\"#46039f\"],[0.2222222222222222,\"#7201a8\"],[0.3333333333333333,\"#9c179e\"],[0.4444444444444444,\"#bd3786\"],[0.5555555555555556,\"#d8576b\"],[0.6666666666666666,\"#ed7953\"],[0.7777777777777778,\"#fb9f3a\"],[0.8888888888888888,\"#fdca26\"],[1.0,\"#f0f921\"]]}],\"heatmapgl\":[{\"type\":\"heatmapgl\",\"colorbar\":{\"outlinewidth\":0,\"ticks\":\"\"},\"colorscale\":[[0.0,\"#0d0887\"],[0.1111111111111111,\"#46039f\"],[0.2222222222222222,\"#7201a8\"],[0.3333333333333333,\"#9c179e\"],[0.4444444444444444,\"#bd3786\"],[0.5555555555555556,\"#d8576b\"],[0.6666666666666666,\"#ed7953\"],[0.7777777777777778,\"#fb9f3a\"],[0.8888888888888888,\"#fdca26\"],[1.0,\"#f0f921\"]]}],\"contourcarpet\":[{\"type\":\"contourcarpet\",\"colorbar\":{\"outlinewidth\":0,\"ticks\":\"\"}}],\"contour\":[{\"type\":\"contour\",\"colorbar\":{\"outlinewidth\":0,\"ticks\":\"\"},\"colorscale\":[[0.0,\"#0d0887\"],[0.1111111111111111,\"#46039f\"],[0.2222222222222222,\"#7201a8\"],[0.3333333333333333,\"#9c179e\"],[0.4444444444444444,\"#bd3786\"],[0.5555555555555556,\"#d8576b\"],[0.6666666666666666,\"#ed7953\"],[0.7777777777777778,\"#fb9f3a\"],[0.8888888888888888,\"#fdca26\"],[1.0,\"#f0f921\"]]}],\"surface\":[{\"type\":\"surface\",\"colorbar\":{\"outlinewidth\":0,\"ticks\":\"\"},\"colorscale\":[[0.0,\"#0d0887\"],[0.1111111111111111,\"#46039f\"],[0.2222222222222222,\"#7201a8\"],[0.3333333333333333,\"#9c179e\"],[0.4444444444444444,\"#bd3786\"],[0.5555555555555556,\"#d8576b\"],[0.6666666666666666,\"#ed7953\"],[0.7777777777777778,\"#fb9f3a\"],[0.8888888888888888,\"#fdca26\"],[1.0,\"#f0f921\"]]}],\"mesh3d\":[{\"type\":\"mesh3d\",\"colorbar\":{\"outlinewidth\":0,\"ticks\":\"\"}}],\"scatter\":[{\"fillpattern\":{\"fillmode\":\"overlay\",\"size\":10,\"solidity\":0.2},\"type\":\"scatter\"}],\"parcoords\":[{\"type\":\"parcoords\",\"line\":{\"colorbar\":{\"outlinewidth\":0,\"ticks\":\"\"}}}],\"scatterpolargl\":[{\"type\":\"scatterpolargl\",\"marker\":{\"colorbar\":{\"outlinewidth\":0,\"ticks\":\"\"}}}],\"bar\":[{\"error_x\":{\"color\":\"#2a3f5f\"},\"error_y\":{\"color\":\"#2a3f5f\"},\"marker\":{\"line\":{\"color\":\"#E5ECF6\",\"width\":0.5},\"pattern\":{\"fillmode\":\"overlay\",\"size\":10,\"solidity\":0.2}},\"type\":\"bar\"}],\"scattergeo\":[{\"type\":\"scattergeo\",\"marker\":{\"colorbar\":{\"outlinewidth\":0,\"ticks\":\"\"}}}],\"scatterpolar\":[{\"type\":\"scatterpolar\",\"marker\":{\"colorbar\":{\"outlinewidth\":0,\"ticks\":\"\"}}}],\"histogram\":[{\"marker\":{\"pattern\":{\"fillmode\":\"overlay\",\"size\":10,\"solidity\":0.2}},\"type\":\"histogram\"}],\"scattergl\":[{\"type\":\"scattergl\",\"marker\":{\"colorbar\":{\"outlinewidth\":0,\"ticks\":\"\"}}}],\"scatter3d\":[{\"type\":\"scatter3d\",\"line\":{\"colorbar\":{\"outlinewidth\":0,\"ticks\":\"\"}},\"marker\":{\"colorbar\":{\"outlinewidth\":0,\"ticks\":\"\"}}}],\"scattermapbox\":[{\"type\":\"scattermapbox\",\"marker\":{\"colorbar\":{\"outlinewidth\":0,\"ticks\":\"\"}}}],\"scatterternary\":[{\"type\":\"scatterternary\",\"marker\":{\"colorbar\":{\"outlinewidth\":0,\"ticks\":\"\"}}}],\"scattercarpet\":[{\"type\":\"scattercarpet\",\"marker\":{\"colorbar\":{\"outlinewidth\":0,\"ticks\":\"\"}}}],\"carpet\":[{\"aaxis\":{\"endlinecolor\":\"#2a3f5f\",\"gridcolor\":\"white\",\"linecolor\":\"white\",\"minorgridcolor\":\"white\",\"startlinecolor\":\"#2a3f5f\"},\"baxis\":{\"endlinecolor\":\"#2a3f5f\",\"gridcolor\":\"white\",\"linecolor\":\"white\",\"minorgridcolor\":\"white\",\"startlinecolor\":\"#2a3f5f\"},\"type\":\"carpet\"}],\"table\":[{\"cells\":{\"fill\":{\"color\":\"#EBF0F8\"},\"line\":{\"color\":\"white\"}},\"header\":{\"fill\":{\"color\":\"#C8D4E3\"},\"line\":{\"color\":\"white\"}},\"type\":\"table\"}],\"barpolar\":[{\"marker\":{\"line\":{\"color\":\"#E5ECF6\",\"width\":0.5},\"pattern\":{\"fillmode\":\"overlay\",\"size\":10,\"solidity\":0.2}},\"type\":\"barpolar\"}],\"pie\":[{\"automargin\":true,\"type\":\"pie\"}]},\"layout\":{\"autotypenumbers\":\"strict\",\"colorway\":[\"#636efa\",\"#EF553B\",\"#00cc96\",\"#ab63fa\",\"#FFA15A\",\"#19d3f3\",\"#FF6692\",\"#B6E880\",\"#FF97FF\",\"#FECB52\"],\"font\":{\"color\":\"#2a3f5f\"},\"hovermode\":\"closest\",\"hoverlabel\":{\"align\":\"left\"},\"paper_bgcolor\":\"white\",\"plot_bgcolor\":\"#E5ECF6\",\"polar\":{\"bgcolor\":\"#E5ECF6\",\"angularaxis\":{\"gridcolor\":\"white\",\"linecolor\":\"white\",\"ticks\":\"\"},\"radialaxis\":{\"gridcolor\":\"white\",\"linecolor\":\"white\",\"ticks\":\"\"}},\"ternary\":{\"bgcolor\":\"#E5ECF6\",\"aaxis\":{\"gridcolor\":\"white\",\"linecolor\":\"white\",\"ticks\":\"\"},\"baxis\":{\"gridcolor\":\"white\",\"linecolor\":\"white\",\"ticks\":\"\"},\"caxis\":{\"gridcolor\":\"white\",\"linecolor\":\"white\",\"ticks\":\"\"}},\"coloraxis\":{\"colorbar\":{\"outlinewidth\":0,\"ticks\":\"\"}},\"colorscale\":{\"sequential\":[[0.0,\"#0d0887\"],[0.1111111111111111,\"#46039f\"],[0.2222222222222222,\"#7201a8\"],[0.3333333333333333,\"#9c179e\"],[0.4444444444444444,\"#bd3786\"],[0.5555555555555556,\"#d8576b\"],[0.6666666666666666,\"#ed7953\"],[0.7777777777777778,\"#fb9f3a\"],[0.8888888888888888,\"#fdca26\"],[1.0,\"#f0f921\"]],\"sequentialminus\":[[0.0,\"#0d0887\"],[0.1111111111111111,\"#46039f\"],[0.2222222222222222,\"#7201a8\"],[0.3333333333333333,\"#9c179e\"],[0.4444444444444444,\"#bd3786\"],[0.5555555555555556,\"#d8576b\"],[0.6666666666666666,\"#ed7953\"],[0.7777777777777778,\"#fb9f3a\"],[0.8888888888888888,\"#fdca26\"],[1.0,\"#f0f921\"]],\"diverging\":[[0,\"#8e0152\"],[0.1,\"#c51b7d\"],[0.2,\"#de77ae\"],[0.3,\"#f1b6da\"],[0.4,\"#fde0ef\"],[0.5,\"#f7f7f7\"],[0.6,\"#e6f5d0\"],[0.7,\"#b8e186\"],[0.8,\"#7fbc41\"],[0.9,\"#4d9221\"],[1,\"#276419\"]]},\"xaxis\":{\"gridcolor\":\"white\",\"linecolor\":\"white\",\"ticks\":\"\",\"title\":{\"standoff\":15},\"zerolinecolor\":\"white\",\"automargin\":true,\"zerolinewidth\":2},\"yaxis\":{\"gridcolor\":\"white\",\"linecolor\":\"white\",\"ticks\":\"\",\"title\":{\"standoff\":15},\"zerolinecolor\":\"white\",\"automargin\":true,\"zerolinewidth\":2},\"scene\":{\"xaxis\":{\"backgroundcolor\":\"#E5ECF6\",\"gridcolor\":\"white\",\"linecolor\":\"white\",\"showbackground\":true,\"ticks\":\"\",\"zerolinecolor\":\"white\",\"gridwidth\":2},\"yaxis\":{\"backgroundcolor\":\"#E5ECF6\",\"gridcolor\":\"white\",\"linecolor\":\"white\",\"showbackground\":true,\"ticks\":\"\",\"zerolinecolor\":\"white\",\"gridwidth\":2},\"zaxis\":{\"backgroundcolor\":\"#E5ECF6\",\"gridcolor\":\"white\",\"linecolor\":\"white\",\"showbackground\":true,\"ticks\":\"\",\"zerolinecolor\":\"white\",\"gridwidth\":2}},\"shapedefaults\":{\"line\":{\"color\":\"#2a3f5f\"}},\"annotationdefaults\":{\"arrowcolor\":\"#2a3f5f\",\"arrowhead\":0,\"arrowwidth\":1},\"geo\":{\"bgcolor\":\"white\",\"landcolor\":\"#E5ECF6\",\"subunitcolor\":\"white\",\"showland\":true,\"showlakes\":true,\"lakecolor\":\"white\"},\"title\":{\"x\":0.05},\"mapbox\":{\"style\":\"light\"}}},\"xaxis\":{\"anchor\":\"y\",\"domain\":[0.0,1.0],\"title\":{\"text\":\"Superficie (ha)\"}},\"yaxis\":{\"anchor\":\"x\",\"domain\":[0.0,1.0],\"title\":{\"text\":\"Cantidad de Consultas\"}},\"legend\":{\"tracegroupgap\":0},\"title\":{\"text\":\"Relaci\\u00f3n entre Superficie de Barrios y Cantidad de Consultas\"}},                        {\"responsive\": true}                    ).then(function(){\n",
       "                            \n",
       "var gd = document.getElementById('4f667104-a40c-4e39-b32f-64f6f0ce650e');\n",
       "var x = new MutationObserver(function (mutations, observer) {{\n",
       "        var display = window.getComputedStyle(gd).display;\n",
       "        if (!display || display === 'none') {{\n",
       "            console.log([gd, 'removed!']);\n",
       "            Plotly.purge(gd);\n",
       "            observer.disconnect();\n",
       "        }}\n",
       "}});\n",
       "\n",
       "// Listen for the removal of the full notebook cells\n",
       "var notebookContainer = gd.closest('#notebook-container');\n",
       "if (notebookContainer) {{\n",
       "    x.observe(notebookContainer, {childList: true});\n",
       "}}\n",
       "\n",
       "// Listen for the clearing of the current output cell\n",
       "var outputEl = gd.closest('.output');\n",
       "if (outputEl) {{\n",
       "    x.observe(outputEl, {childList: true});\n",
       "}}\n",
       "\n",
       "                        })                };                });            </script>        </div>"
      ]
     },
     "metadata": {},
     "output_type": "display_data"
    }
   ],
   "source": [
    "import pandas as pd\n",
    "import plotly.express as px\n",
    "\n",
    "# Supongamos que tienes tu DataFrame llamado 'atenciones_sup_ha' con los datos\n",
    "# ... (procesa los datos como se mostró anteriormente)\n",
    "\n",
    "# Crear el gráfico de dispersión\n",
    "fig = px.scatter(atenciones_sup_ha, x='sup_ha', y='consulta_cantidad',\n",
    "                 title='Relación entre Superficie de Barrios y Cantidad de Consultas',\n",
    "                 labels={'sup_ha': 'Superficie (ha)', 'consulta_cantidad': 'Cantidad de Consultas'},\n",
    "                 trendline='ols',  # Agregar una línea de tendencia\n",
    "                 hover_data=['nombre_barrio_correcto'],  # Mostrar el nombre del barrio al pasar el mouse\n",
    "                )\n",
    "\n",
    "fig.update_xaxes(title_text='Superficie (ha)')\n",
    "fig.update_yaxes(title_text='Cantidad de Consultas')\n",
    "\n",
    "# Mostrar el gráfico interactivo\n",
    "fig.show()\n",
    "\n",
    "# Guardar la imagen en formato PNG para PowerPoint\n",
    "fig.write_image(\"grafico_superficie_vs_consultas.png\")\n"
   ]
  },
  {
   "cell_type": "code",
   "execution_count": 160,
   "id": "9514727d",
   "metadata": {},
   "outputs": [
    {
     "data": {
      "application/vnd.plotly.v1+json": {
       "config": {
        "plotlyServerURL": "https://plot.ly"
       },
       "data": [
        {
         "customdata": [
          [
           "3 DE ABRIL"
          ],
          [
           "ANAHI"
          ],
          [
           "CICHERO"
          ],
          [
           "ESPERANZA"
          ],
          [
           "GUEMES TRADICIONAL"
          ],
          [
           "INDEPENDENCIA"
          ],
          [
           "LOMAS"
          ],
          [
           "LOMAS DEL MIRADOR"
          ],
          [
           "NIÑO JESUS"
          ],
          [
           "NTRA SRA DE LA ASUNCION"
          ],
          [
           "PARQUE CADENA NORTE"
          ],
          [
           "PASO MARTINEZ"
          ],
          [
           "PEDRO FERRE"
          ],
          [
           "PIRAYUI"
          ],
          [
           "PLACIDO MARTINEZ"
          ],
          [
           "PRIMERA JUNTA"
          ],
          [
           "QUINTA FERRE"
          ],
          [
           "RIO PARANA"
          ],
          [
           "SAN ANTONIO"
          ],
          [
           "SAN GERONIMO"
          ],
          [
           "SAN MARCOS"
          ],
          [
           "SANTA MARGARITA"
          ],
          [
           "SANTA RITA NORTE"
          ],
          [
           "VICTOR COLAS"
          ],
          [
           "VILLA ONGAY"
          ],
          [
           "VILLA PATONO"
          ],
          [
           "VIRGEN DE LOS DOLORES"
          ]
         ],
         "hovertemplate": "Superficie (ha)=%{x}<br>Cantidad de Consultas=%{y}<br>nombre_barrio_correcto=%{customdata[0]}<extra></extra>",
         "legendgroup": "",
         "marker": {
          "color": "#636efa",
          "symbol": "circle"
         },
         "mode": "markers",
         "name": "",
         "orientation": "v",
         "showlegend": false,
         "type": "scatter",
         "x": [
          111.5217323,
          102.6038972,
          7.745174778,
          57.56056765,
          19.73101815,
          55.771461519999995,
          48.26003786,
          39.00870849,
          52.57153621,
          73.69463377,
          32.76074115,
          196.2139205,
          5.751110169,
          115.92846739999999,
          22.51103753,
          24.70179985,
          23.42302185,
          121.1746314,
          74.53253449,
          77.67074204,
          13.96741956,
          73.39027214,
          19.42903369,
          41.15737347,
          44.42331068,
          111.7074379,
          11.83943017
         ],
         "xaxis": "x",
         "y": [
          3215,
          2154,
          1356,
          3359,
          1237,
          2483,
          619,
          6220,
          2278,
          712,
          4337,
          427,
          8026,
          3683,
          5026,
          1685,
          1698,
          3654,
          10325,
          3270,
          1262,
          81,
          4479,
          8502,
          3426,
          186,
          2957
         ],
         "yaxis": "y"
        },
        {
         "hovertemplate": "<b>OLS trendline</b><br>consulta_cantidad = -12.2938 * sup_ha + 3928.5<br>R<sup>2</sup>=0.045438<br><br>Superficie (ha)=%{x}<br>Cantidad de Consultas=%{y} <b>(trend)</b><extra></extra>",
         "legendgroup": "",
         "marker": {
          "color": "#636efa",
          "symbol": "circle"
         },
         "mode": "lines",
         "name": "",
         "showlegend": false,
         "type": "scatter",
         "x": [
          5.751110169,
          7.745174778,
          11.83943017,
          13.96741956,
          19.42903369,
          19.73101815,
          22.51103753,
          23.42302185,
          24.70179985,
          32.76074115,
          39.00870849,
          41.15737347,
          44.42331068,
          48.26003786,
          52.57153621,
          55.771461519999995,
          57.56056765,
          73.39027214,
          73.69463377,
          74.53253449,
          77.67074204,
          102.6038972,
          111.5217323,
          111.7074379,
          115.92846739999999,
          121.1746314,
          196.2139205
         ],
         "xaxis": "x",
         "y": [
          3857.800496195568,
          3833.285785537166,
          3782.9516660490226,
          3756.7905056008863,
          3689.6462969726936,
          3685.93374842897,
          3651.7566358029007,
          3640.5448467621177,
          3624.823755015722,
          3525.7484225059975,
          3448.9369135649413,
          3422.521570727601,
          3382.370662191187,
          3335.2025532601047,
          3282.1976836699296,
          3242.858314850537,
          3220.8633308785193,
          3026.255481349025,
          3022.513708258377,
          3012.2126911205382,
          2973.6320705493504,
          2667.107857748154,
          2557.473422540221,
          2555.190387662064,
          2503.29772761181,
          2438.802228345604,
          1516.2812368009918
         ],
         "yaxis": "y"
        }
       ],
       "layout": {
        "legend": {
         "tracegroupgap": 0
        },
        "template": {
         "data": {
          "bar": [
           {
            "error_x": {
             "color": "#2a3f5f"
            },
            "error_y": {
             "color": "#2a3f5f"
            },
            "marker": {
             "line": {
              "color": "#E5ECF6",
              "width": 0.5
             },
             "pattern": {
              "fillmode": "overlay",
              "size": 10,
              "solidity": 0.2
             }
            },
            "type": "bar"
           }
          ],
          "barpolar": [
           {
            "marker": {
             "line": {
              "color": "#E5ECF6",
              "width": 0.5
             },
             "pattern": {
              "fillmode": "overlay",
              "size": 10,
              "solidity": 0.2
             }
            },
            "type": "barpolar"
           }
          ],
          "carpet": [
           {
            "aaxis": {
             "endlinecolor": "#2a3f5f",
             "gridcolor": "white",
             "linecolor": "white",
             "minorgridcolor": "white",
             "startlinecolor": "#2a3f5f"
            },
            "baxis": {
             "endlinecolor": "#2a3f5f",
             "gridcolor": "white",
             "linecolor": "white",
             "minorgridcolor": "white",
             "startlinecolor": "#2a3f5f"
            },
            "type": "carpet"
           }
          ],
          "choropleth": [
           {
            "colorbar": {
             "outlinewidth": 0,
             "ticks": ""
            },
            "type": "choropleth"
           }
          ],
          "contour": [
           {
            "colorbar": {
             "outlinewidth": 0,
             "ticks": ""
            },
            "colorscale": [
             [
              0,
              "#0d0887"
             ],
             [
              0.1111111111111111,
              "#46039f"
             ],
             [
              0.2222222222222222,
              "#7201a8"
             ],
             [
              0.3333333333333333,
              "#9c179e"
             ],
             [
              0.4444444444444444,
              "#bd3786"
             ],
             [
              0.5555555555555556,
              "#d8576b"
             ],
             [
              0.6666666666666666,
              "#ed7953"
             ],
             [
              0.7777777777777778,
              "#fb9f3a"
             ],
             [
              0.8888888888888888,
              "#fdca26"
             ],
             [
              1,
              "#f0f921"
             ]
            ],
            "type": "contour"
           }
          ],
          "contourcarpet": [
           {
            "colorbar": {
             "outlinewidth": 0,
             "ticks": ""
            },
            "type": "contourcarpet"
           }
          ],
          "heatmap": [
           {
            "colorbar": {
             "outlinewidth": 0,
             "ticks": ""
            },
            "colorscale": [
             [
              0,
              "#0d0887"
             ],
             [
              0.1111111111111111,
              "#46039f"
             ],
             [
              0.2222222222222222,
              "#7201a8"
             ],
             [
              0.3333333333333333,
              "#9c179e"
             ],
             [
              0.4444444444444444,
              "#bd3786"
             ],
             [
              0.5555555555555556,
              "#d8576b"
             ],
             [
              0.6666666666666666,
              "#ed7953"
             ],
             [
              0.7777777777777778,
              "#fb9f3a"
             ],
             [
              0.8888888888888888,
              "#fdca26"
             ],
             [
              1,
              "#f0f921"
             ]
            ],
            "type": "heatmap"
           }
          ],
          "heatmapgl": [
           {
            "colorbar": {
             "outlinewidth": 0,
             "ticks": ""
            },
            "colorscale": [
             [
              0,
              "#0d0887"
             ],
             [
              0.1111111111111111,
              "#46039f"
             ],
             [
              0.2222222222222222,
              "#7201a8"
             ],
             [
              0.3333333333333333,
              "#9c179e"
             ],
             [
              0.4444444444444444,
              "#bd3786"
             ],
             [
              0.5555555555555556,
              "#d8576b"
             ],
             [
              0.6666666666666666,
              "#ed7953"
             ],
             [
              0.7777777777777778,
              "#fb9f3a"
             ],
             [
              0.8888888888888888,
              "#fdca26"
             ],
             [
              1,
              "#f0f921"
             ]
            ],
            "type": "heatmapgl"
           }
          ],
          "histogram": [
           {
            "marker": {
             "pattern": {
              "fillmode": "overlay",
              "size": 10,
              "solidity": 0.2
             }
            },
            "type": "histogram"
           }
          ],
          "histogram2d": [
           {
            "colorbar": {
             "outlinewidth": 0,
             "ticks": ""
            },
            "colorscale": [
             [
              0,
              "#0d0887"
             ],
             [
              0.1111111111111111,
              "#46039f"
             ],
             [
              0.2222222222222222,
              "#7201a8"
             ],
             [
              0.3333333333333333,
              "#9c179e"
             ],
             [
              0.4444444444444444,
              "#bd3786"
             ],
             [
              0.5555555555555556,
              "#d8576b"
             ],
             [
              0.6666666666666666,
              "#ed7953"
             ],
             [
              0.7777777777777778,
              "#fb9f3a"
             ],
             [
              0.8888888888888888,
              "#fdca26"
             ],
             [
              1,
              "#f0f921"
             ]
            ],
            "type": "histogram2d"
           }
          ],
          "histogram2dcontour": [
           {
            "colorbar": {
             "outlinewidth": 0,
             "ticks": ""
            },
            "colorscale": [
             [
              0,
              "#0d0887"
             ],
             [
              0.1111111111111111,
              "#46039f"
             ],
             [
              0.2222222222222222,
              "#7201a8"
             ],
             [
              0.3333333333333333,
              "#9c179e"
             ],
             [
              0.4444444444444444,
              "#bd3786"
             ],
             [
              0.5555555555555556,
              "#d8576b"
             ],
             [
              0.6666666666666666,
              "#ed7953"
             ],
             [
              0.7777777777777778,
              "#fb9f3a"
             ],
             [
              0.8888888888888888,
              "#fdca26"
             ],
             [
              1,
              "#f0f921"
             ]
            ],
            "type": "histogram2dcontour"
           }
          ],
          "mesh3d": [
           {
            "colorbar": {
             "outlinewidth": 0,
             "ticks": ""
            },
            "type": "mesh3d"
           }
          ],
          "parcoords": [
           {
            "line": {
             "colorbar": {
              "outlinewidth": 0,
              "ticks": ""
             }
            },
            "type": "parcoords"
           }
          ],
          "pie": [
           {
            "automargin": true,
            "type": "pie"
           }
          ],
          "scatter": [
           {
            "fillpattern": {
             "fillmode": "overlay",
             "size": 10,
             "solidity": 0.2
            },
            "type": "scatter"
           }
          ],
          "scatter3d": [
           {
            "line": {
             "colorbar": {
              "outlinewidth": 0,
              "ticks": ""
             }
            },
            "marker": {
             "colorbar": {
              "outlinewidth": 0,
              "ticks": ""
             }
            },
            "type": "scatter3d"
           }
          ],
          "scattercarpet": [
           {
            "marker": {
             "colorbar": {
              "outlinewidth": 0,
              "ticks": ""
             }
            },
            "type": "scattercarpet"
           }
          ],
          "scattergeo": [
           {
            "marker": {
             "colorbar": {
              "outlinewidth": 0,
              "ticks": ""
             }
            },
            "type": "scattergeo"
           }
          ],
          "scattergl": [
           {
            "marker": {
             "colorbar": {
              "outlinewidth": 0,
              "ticks": ""
             }
            },
            "type": "scattergl"
           }
          ],
          "scattermapbox": [
           {
            "marker": {
             "colorbar": {
              "outlinewidth": 0,
              "ticks": ""
             }
            },
            "type": "scattermapbox"
           }
          ],
          "scatterpolar": [
           {
            "marker": {
             "colorbar": {
              "outlinewidth": 0,
              "ticks": ""
             }
            },
            "type": "scatterpolar"
           }
          ],
          "scatterpolargl": [
           {
            "marker": {
             "colorbar": {
              "outlinewidth": 0,
              "ticks": ""
             }
            },
            "type": "scatterpolargl"
           }
          ],
          "scatterternary": [
           {
            "marker": {
             "colorbar": {
              "outlinewidth": 0,
              "ticks": ""
             }
            },
            "type": "scatterternary"
           }
          ],
          "surface": [
           {
            "colorbar": {
             "outlinewidth": 0,
             "ticks": ""
            },
            "colorscale": [
             [
              0,
              "#0d0887"
             ],
             [
              0.1111111111111111,
              "#46039f"
             ],
             [
              0.2222222222222222,
              "#7201a8"
             ],
             [
              0.3333333333333333,
              "#9c179e"
             ],
             [
              0.4444444444444444,
              "#bd3786"
             ],
             [
              0.5555555555555556,
              "#d8576b"
             ],
             [
              0.6666666666666666,
              "#ed7953"
             ],
             [
              0.7777777777777778,
              "#fb9f3a"
             ],
             [
              0.8888888888888888,
              "#fdca26"
             ],
             [
              1,
              "#f0f921"
             ]
            ],
            "type": "surface"
           }
          ],
          "table": [
           {
            "cells": {
             "fill": {
              "color": "#EBF0F8"
             },
             "line": {
              "color": "white"
             }
            },
            "header": {
             "fill": {
              "color": "#C8D4E3"
             },
             "line": {
              "color": "white"
             }
            },
            "type": "table"
           }
          ]
         },
         "layout": {
          "annotationdefaults": {
           "arrowcolor": "#2a3f5f",
           "arrowhead": 0,
           "arrowwidth": 1
          },
          "autotypenumbers": "strict",
          "coloraxis": {
           "colorbar": {
            "outlinewidth": 0,
            "ticks": ""
           }
          },
          "colorscale": {
           "diverging": [
            [
             0,
             "#8e0152"
            ],
            [
             0.1,
             "#c51b7d"
            ],
            [
             0.2,
             "#de77ae"
            ],
            [
             0.3,
             "#f1b6da"
            ],
            [
             0.4,
             "#fde0ef"
            ],
            [
             0.5,
             "#f7f7f7"
            ],
            [
             0.6,
             "#e6f5d0"
            ],
            [
             0.7,
             "#b8e186"
            ],
            [
             0.8,
             "#7fbc41"
            ],
            [
             0.9,
             "#4d9221"
            ],
            [
             1,
             "#276419"
            ]
           ],
           "sequential": [
            [
             0,
             "#0d0887"
            ],
            [
             0.1111111111111111,
             "#46039f"
            ],
            [
             0.2222222222222222,
             "#7201a8"
            ],
            [
             0.3333333333333333,
             "#9c179e"
            ],
            [
             0.4444444444444444,
             "#bd3786"
            ],
            [
             0.5555555555555556,
             "#d8576b"
            ],
            [
             0.6666666666666666,
             "#ed7953"
            ],
            [
             0.7777777777777778,
             "#fb9f3a"
            ],
            [
             0.8888888888888888,
             "#fdca26"
            ],
            [
             1,
             "#f0f921"
            ]
           ],
           "sequentialminus": [
            [
             0,
             "#0d0887"
            ],
            [
             0.1111111111111111,
             "#46039f"
            ],
            [
             0.2222222222222222,
             "#7201a8"
            ],
            [
             0.3333333333333333,
             "#9c179e"
            ],
            [
             0.4444444444444444,
             "#bd3786"
            ],
            [
             0.5555555555555556,
             "#d8576b"
            ],
            [
             0.6666666666666666,
             "#ed7953"
            ],
            [
             0.7777777777777778,
             "#fb9f3a"
            ],
            [
             0.8888888888888888,
             "#fdca26"
            ],
            [
             1,
             "#f0f921"
            ]
           ]
          },
          "colorway": [
           "#636efa",
           "#EF553B",
           "#00cc96",
           "#ab63fa",
           "#FFA15A",
           "#19d3f3",
           "#FF6692",
           "#B6E880",
           "#FF97FF",
           "#FECB52"
          ],
          "font": {
           "color": "#2a3f5f"
          },
          "geo": {
           "bgcolor": "white",
           "lakecolor": "white",
           "landcolor": "#E5ECF6",
           "showlakes": true,
           "showland": true,
           "subunitcolor": "white"
          },
          "hoverlabel": {
           "align": "left"
          },
          "hovermode": "closest",
          "mapbox": {
           "style": "light"
          },
          "paper_bgcolor": "white",
          "plot_bgcolor": "#E5ECF6",
          "polar": {
           "angularaxis": {
            "gridcolor": "white",
            "linecolor": "white",
            "ticks": ""
           },
           "bgcolor": "#E5ECF6",
           "radialaxis": {
            "gridcolor": "white",
            "linecolor": "white",
            "ticks": ""
           }
          },
          "scene": {
           "xaxis": {
            "backgroundcolor": "#E5ECF6",
            "gridcolor": "white",
            "gridwidth": 2,
            "linecolor": "white",
            "showbackground": true,
            "ticks": "",
            "zerolinecolor": "white"
           },
           "yaxis": {
            "backgroundcolor": "#E5ECF6",
            "gridcolor": "white",
            "gridwidth": 2,
            "linecolor": "white",
            "showbackground": true,
            "ticks": "",
            "zerolinecolor": "white"
           },
           "zaxis": {
            "backgroundcolor": "#E5ECF6",
            "gridcolor": "white",
            "gridwidth": 2,
            "linecolor": "white",
            "showbackground": true,
            "ticks": "",
            "zerolinecolor": "white"
           }
          },
          "shapedefaults": {
           "line": {
            "color": "#2a3f5f"
           }
          },
          "ternary": {
           "aaxis": {
            "gridcolor": "white",
            "linecolor": "white",
            "ticks": ""
           },
           "baxis": {
            "gridcolor": "white",
            "linecolor": "white",
            "ticks": ""
           },
           "bgcolor": "#E5ECF6",
           "caxis": {
            "gridcolor": "white",
            "linecolor": "white",
            "ticks": ""
           }
          },
          "title": {
           "x": 0.05
          },
          "xaxis": {
           "automargin": true,
           "gridcolor": "white",
           "linecolor": "white",
           "ticks": "",
           "title": {
            "standoff": 15
           },
           "zerolinecolor": "white",
           "zerolinewidth": 2
          },
          "yaxis": {
           "automargin": true,
           "gridcolor": "white",
           "linecolor": "white",
           "ticks": "",
           "title": {
            "standoff": 15
           },
           "zerolinecolor": "white",
           "zerolinewidth": 2
          }
         }
        },
        "title": {
         "text": "Relación entre Superficie de Barrios y Cantidad de Consultas"
        },
        "xaxis": {
         "anchor": "y",
         "domain": [
          0,
          1
         ],
         "title": {
          "text": "Superficie (ha)"
         }
        },
        "yaxis": {
         "anchor": "x",
         "domain": [
          0,
          1
         ],
         "title": {
          "text": "Cantidad de Consultas"
         }
        }
       }
      },
      "text/html": [
       "<div>                            <div id=\"b83511d5-858a-4bd8-a791-8e4ed64e5f81\" class=\"plotly-graph-div\" style=\"height:525px; width:100%;\"></div>            <script type=\"text/javascript\">                require([\"plotly\"], function(Plotly) {                    window.PLOTLYENV=window.PLOTLYENV || {};                                    if (document.getElementById(\"b83511d5-858a-4bd8-a791-8e4ed64e5f81\")) {                    Plotly.newPlot(                        \"b83511d5-858a-4bd8-a791-8e4ed64e5f81\",                        [{\"customdata\":[[\"3 DE ABRIL\"],[\"ANAHI\"],[\"CICHERO\"],[\"ESPERANZA\"],[\"GUEMES TRADICIONAL\"],[\"INDEPENDENCIA\"],[\"LOMAS\"],[\"LOMAS DEL MIRADOR\"],[\"NI\\u00d1O JESUS\"],[\"NTRA SRA DE LA ASUNCION\"],[\"PARQUE CADENA NORTE\"],[\"PASO MARTINEZ\"],[\"PEDRO FERRE\"],[\"PIRAYUI\"],[\"PLACIDO MARTINEZ\"],[\"PRIMERA JUNTA\"],[\"QUINTA FERRE\"],[\"RIO PARANA\"],[\"SAN ANTONIO\"],[\"SAN GERONIMO\"],[\"SAN MARCOS\"],[\"SANTA MARGARITA\"],[\"SANTA RITA NORTE\"],[\"VICTOR COLAS\"],[\"VILLA ONGAY\"],[\"VILLA PATONO\"],[\"VIRGEN DE LOS DOLORES\"]],\"hovertemplate\":\"Superficie (ha)=%{x}<br>Cantidad de Consultas=%{y}<br>nombre_barrio_correcto=%{customdata[0]}<extra></extra>\",\"legendgroup\":\"\",\"marker\":{\"color\":\"#636efa\",\"symbol\":\"circle\"},\"mode\":\"markers\",\"name\":\"\",\"orientation\":\"v\",\"showlegend\":false,\"x\":[111.5217323,102.6038972,7.745174778,57.56056765,19.73101815,55.771461519999995,48.26003786,39.00870849,52.57153621,73.69463377,32.76074115,196.2139205,5.751110169,115.92846739999999,22.51103753,24.70179985,23.42302185,121.1746314,74.53253449,77.67074204,13.96741956,73.39027214,19.42903369,41.15737347,44.42331068,111.7074379,11.83943017],\"xaxis\":\"x\",\"y\":[3215.0,2154.0,1356.0,3359.0,1237.0,2483.0,619.0,6220.0,2278.0,712.0,4337.0,427.0,8026.0,3683.0,5026.0,1685.0,1698.0,3654.0,10325.0,3270.0,1262.0,81.0,4479.0,8502.0,3426.0,186.0,2957.0],\"yaxis\":\"y\",\"type\":\"scatter\"},{\"hovertemplate\":\"<b>OLS trendline</b><br>consulta_cantidad = -12.2938 * sup_ha + 3928.5<br>R<sup>2</sup>=0.045438<br><br>Superficie (ha)=%{x}<br>Cantidad de Consultas=%{y} <b>(trend)</b><extra></extra>\",\"legendgroup\":\"\",\"marker\":{\"color\":\"#636efa\",\"symbol\":\"circle\"},\"mode\":\"lines\",\"name\":\"\",\"showlegend\":false,\"x\":[5.751110169,7.745174778,11.83943017,13.96741956,19.42903369,19.73101815,22.51103753,23.42302185,24.70179985,32.76074115,39.00870849,41.15737347,44.42331068,48.26003786,52.57153621,55.771461519999995,57.56056765,73.39027214,73.69463377,74.53253449,77.67074204,102.6038972,111.5217323,111.7074379,115.92846739999999,121.1746314,196.2139205],\"xaxis\":\"x\",\"y\":[3857.800496195568,3833.285785537166,3782.9516660490226,3756.7905056008863,3689.6462969726936,3685.93374842897,3651.7566358029007,3640.5448467621177,3624.823755015722,3525.7484225059975,3448.9369135649413,3422.521570727601,3382.370662191187,3335.2025532601047,3282.1976836699296,3242.858314850537,3220.8633308785193,3026.255481349025,3022.513708258377,3012.2126911205382,2973.6320705493504,2667.107857748154,2557.473422540221,2555.190387662064,2503.29772761181,2438.802228345604,1516.2812368009918],\"yaxis\":\"y\",\"type\":\"scatter\"}],                        {\"template\":{\"data\":{\"histogram2dcontour\":[{\"type\":\"histogram2dcontour\",\"colorbar\":{\"outlinewidth\":0,\"ticks\":\"\"},\"colorscale\":[[0.0,\"#0d0887\"],[0.1111111111111111,\"#46039f\"],[0.2222222222222222,\"#7201a8\"],[0.3333333333333333,\"#9c179e\"],[0.4444444444444444,\"#bd3786\"],[0.5555555555555556,\"#d8576b\"],[0.6666666666666666,\"#ed7953\"],[0.7777777777777778,\"#fb9f3a\"],[0.8888888888888888,\"#fdca26\"],[1.0,\"#f0f921\"]]}],\"choropleth\":[{\"type\":\"choropleth\",\"colorbar\":{\"outlinewidth\":0,\"ticks\":\"\"}}],\"histogram2d\":[{\"type\":\"histogram2d\",\"colorbar\":{\"outlinewidth\":0,\"ticks\":\"\"},\"colorscale\":[[0.0,\"#0d0887\"],[0.1111111111111111,\"#46039f\"],[0.2222222222222222,\"#7201a8\"],[0.3333333333333333,\"#9c179e\"],[0.4444444444444444,\"#bd3786\"],[0.5555555555555556,\"#d8576b\"],[0.6666666666666666,\"#ed7953\"],[0.7777777777777778,\"#fb9f3a\"],[0.8888888888888888,\"#fdca26\"],[1.0,\"#f0f921\"]]}],\"heatmap\":[{\"type\":\"heatmap\",\"colorbar\":{\"outlinewidth\":0,\"ticks\":\"\"},\"colorscale\":[[0.0,\"#0d0887\"],[0.1111111111111111,\"#46039f\"],[0.2222222222222222,\"#7201a8\"],[0.3333333333333333,\"#9c179e\"],[0.4444444444444444,\"#bd3786\"],[0.5555555555555556,\"#d8576b\"],[0.6666666666666666,\"#ed7953\"],[0.7777777777777778,\"#fb9f3a\"],[0.8888888888888888,\"#fdca26\"],[1.0,\"#f0f921\"]]}],\"heatmapgl\":[{\"type\":\"heatmapgl\",\"colorbar\":{\"outlinewidth\":0,\"ticks\":\"\"},\"colorscale\":[[0.0,\"#0d0887\"],[0.1111111111111111,\"#46039f\"],[0.2222222222222222,\"#7201a8\"],[0.3333333333333333,\"#9c179e\"],[0.4444444444444444,\"#bd3786\"],[0.5555555555555556,\"#d8576b\"],[0.6666666666666666,\"#ed7953\"],[0.7777777777777778,\"#fb9f3a\"],[0.8888888888888888,\"#fdca26\"],[1.0,\"#f0f921\"]]}],\"contourcarpet\":[{\"type\":\"contourcarpet\",\"colorbar\":{\"outlinewidth\":0,\"ticks\":\"\"}}],\"contour\":[{\"type\":\"contour\",\"colorbar\":{\"outlinewidth\":0,\"ticks\":\"\"},\"colorscale\":[[0.0,\"#0d0887\"],[0.1111111111111111,\"#46039f\"],[0.2222222222222222,\"#7201a8\"],[0.3333333333333333,\"#9c179e\"],[0.4444444444444444,\"#bd3786\"],[0.5555555555555556,\"#d8576b\"],[0.6666666666666666,\"#ed7953\"],[0.7777777777777778,\"#fb9f3a\"],[0.8888888888888888,\"#fdca26\"],[1.0,\"#f0f921\"]]}],\"surface\":[{\"type\":\"surface\",\"colorbar\":{\"outlinewidth\":0,\"ticks\":\"\"},\"colorscale\":[[0.0,\"#0d0887\"],[0.1111111111111111,\"#46039f\"],[0.2222222222222222,\"#7201a8\"],[0.3333333333333333,\"#9c179e\"],[0.4444444444444444,\"#bd3786\"],[0.5555555555555556,\"#d8576b\"],[0.6666666666666666,\"#ed7953\"],[0.7777777777777778,\"#fb9f3a\"],[0.8888888888888888,\"#fdca26\"],[1.0,\"#f0f921\"]]}],\"mesh3d\":[{\"type\":\"mesh3d\",\"colorbar\":{\"outlinewidth\":0,\"ticks\":\"\"}}],\"scatter\":[{\"fillpattern\":{\"fillmode\":\"overlay\",\"size\":10,\"solidity\":0.2},\"type\":\"scatter\"}],\"parcoords\":[{\"type\":\"parcoords\",\"line\":{\"colorbar\":{\"outlinewidth\":0,\"ticks\":\"\"}}}],\"scatterpolargl\":[{\"type\":\"scatterpolargl\",\"marker\":{\"colorbar\":{\"outlinewidth\":0,\"ticks\":\"\"}}}],\"bar\":[{\"error_x\":{\"color\":\"#2a3f5f\"},\"error_y\":{\"color\":\"#2a3f5f\"},\"marker\":{\"line\":{\"color\":\"#E5ECF6\",\"width\":0.5},\"pattern\":{\"fillmode\":\"overlay\",\"size\":10,\"solidity\":0.2}},\"type\":\"bar\"}],\"scattergeo\":[{\"type\":\"scattergeo\",\"marker\":{\"colorbar\":{\"outlinewidth\":0,\"ticks\":\"\"}}}],\"scatterpolar\":[{\"type\":\"scatterpolar\",\"marker\":{\"colorbar\":{\"outlinewidth\":0,\"ticks\":\"\"}}}],\"histogram\":[{\"marker\":{\"pattern\":{\"fillmode\":\"overlay\",\"size\":10,\"solidity\":0.2}},\"type\":\"histogram\"}],\"scattergl\":[{\"type\":\"scattergl\",\"marker\":{\"colorbar\":{\"outlinewidth\":0,\"ticks\":\"\"}}}],\"scatter3d\":[{\"type\":\"scatter3d\",\"line\":{\"colorbar\":{\"outlinewidth\":0,\"ticks\":\"\"}},\"marker\":{\"colorbar\":{\"outlinewidth\":0,\"ticks\":\"\"}}}],\"scattermapbox\":[{\"type\":\"scattermapbox\",\"marker\":{\"colorbar\":{\"outlinewidth\":0,\"ticks\":\"\"}}}],\"scatterternary\":[{\"type\":\"scatterternary\",\"marker\":{\"colorbar\":{\"outlinewidth\":0,\"ticks\":\"\"}}}],\"scattercarpet\":[{\"type\":\"scattercarpet\",\"marker\":{\"colorbar\":{\"outlinewidth\":0,\"ticks\":\"\"}}}],\"carpet\":[{\"aaxis\":{\"endlinecolor\":\"#2a3f5f\",\"gridcolor\":\"white\",\"linecolor\":\"white\",\"minorgridcolor\":\"white\",\"startlinecolor\":\"#2a3f5f\"},\"baxis\":{\"endlinecolor\":\"#2a3f5f\",\"gridcolor\":\"white\",\"linecolor\":\"white\",\"minorgridcolor\":\"white\",\"startlinecolor\":\"#2a3f5f\"},\"type\":\"carpet\"}],\"table\":[{\"cells\":{\"fill\":{\"color\":\"#EBF0F8\"},\"line\":{\"color\":\"white\"}},\"header\":{\"fill\":{\"color\":\"#C8D4E3\"},\"line\":{\"color\":\"white\"}},\"type\":\"table\"}],\"barpolar\":[{\"marker\":{\"line\":{\"color\":\"#E5ECF6\",\"width\":0.5},\"pattern\":{\"fillmode\":\"overlay\",\"size\":10,\"solidity\":0.2}},\"type\":\"barpolar\"}],\"pie\":[{\"automargin\":true,\"type\":\"pie\"}]},\"layout\":{\"autotypenumbers\":\"strict\",\"colorway\":[\"#636efa\",\"#EF553B\",\"#00cc96\",\"#ab63fa\",\"#FFA15A\",\"#19d3f3\",\"#FF6692\",\"#B6E880\",\"#FF97FF\",\"#FECB52\"],\"font\":{\"color\":\"#2a3f5f\"},\"hovermode\":\"closest\",\"hoverlabel\":{\"align\":\"left\"},\"paper_bgcolor\":\"white\",\"plot_bgcolor\":\"#E5ECF6\",\"polar\":{\"bgcolor\":\"#E5ECF6\",\"angularaxis\":{\"gridcolor\":\"white\",\"linecolor\":\"white\",\"ticks\":\"\"},\"radialaxis\":{\"gridcolor\":\"white\",\"linecolor\":\"white\",\"ticks\":\"\"}},\"ternary\":{\"bgcolor\":\"#E5ECF6\",\"aaxis\":{\"gridcolor\":\"white\",\"linecolor\":\"white\",\"ticks\":\"\"},\"baxis\":{\"gridcolor\":\"white\",\"linecolor\":\"white\",\"ticks\":\"\"},\"caxis\":{\"gridcolor\":\"white\",\"linecolor\":\"white\",\"ticks\":\"\"}},\"coloraxis\":{\"colorbar\":{\"outlinewidth\":0,\"ticks\":\"\"}},\"colorscale\":{\"sequential\":[[0.0,\"#0d0887\"],[0.1111111111111111,\"#46039f\"],[0.2222222222222222,\"#7201a8\"],[0.3333333333333333,\"#9c179e\"],[0.4444444444444444,\"#bd3786\"],[0.5555555555555556,\"#d8576b\"],[0.6666666666666666,\"#ed7953\"],[0.7777777777777778,\"#fb9f3a\"],[0.8888888888888888,\"#fdca26\"],[1.0,\"#f0f921\"]],\"sequentialminus\":[[0.0,\"#0d0887\"],[0.1111111111111111,\"#46039f\"],[0.2222222222222222,\"#7201a8\"],[0.3333333333333333,\"#9c179e\"],[0.4444444444444444,\"#bd3786\"],[0.5555555555555556,\"#d8576b\"],[0.6666666666666666,\"#ed7953\"],[0.7777777777777778,\"#fb9f3a\"],[0.8888888888888888,\"#fdca26\"],[1.0,\"#f0f921\"]],\"diverging\":[[0,\"#8e0152\"],[0.1,\"#c51b7d\"],[0.2,\"#de77ae\"],[0.3,\"#f1b6da\"],[0.4,\"#fde0ef\"],[0.5,\"#f7f7f7\"],[0.6,\"#e6f5d0\"],[0.7,\"#b8e186\"],[0.8,\"#7fbc41\"],[0.9,\"#4d9221\"],[1,\"#276419\"]]},\"xaxis\":{\"gridcolor\":\"white\",\"linecolor\":\"white\",\"ticks\":\"\",\"title\":{\"standoff\":15},\"zerolinecolor\":\"white\",\"automargin\":true,\"zerolinewidth\":2},\"yaxis\":{\"gridcolor\":\"white\",\"linecolor\":\"white\",\"ticks\":\"\",\"title\":{\"standoff\":15},\"zerolinecolor\":\"white\",\"automargin\":true,\"zerolinewidth\":2},\"scene\":{\"xaxis\":{\"backgroundcolor\":\"#E5ECF6\",\"gridcolor\":\"white\",\"linecolor\":\"white\",\"showbackground\":true,\"ticks\":\"\",\"zerolinecolor\":\"white\",\"gridwidth\":2},\"yaxis\":{\"backgroundcolor\":\"#E5ECF6\",\"gridcolor\":\"white\",\"linecolor\":\"white\",\"showbackground\":true,\"ticks\":\"\",\"zerolinecolor\":\"white\",\"gridwidth\":2},\"zaxis\":{\"backgroundcolor\":\"#E5ECF6\",\"gridcolor\":\"white\",\"linecolor\":\"white\",\"showbackground\":true,\"ticks\":\"\",\"zerolinecolor\":\"white\",\"gridwidth\":2}},\"shapedefaults\":{\"line\":{\"color\":\"#2a3f5f\"}},\"annotationdefaults\":{\"arrowcolor\":\"#2a3f5f\",\"arrowhead\":0,\"arrowwidth\":1},\"geo\":{\"bgcolor\":\"white\",\"landcolor\":\"#E5ECF6\",\"subunitcolor\":\"white\",\"showland\":true,\"showlakes\":true,\"lakecolor\":\"white\"},\"title\":{\"x\":0.05},\"mapbox\":{\"style\":\"light\"}}},\"xaxis\":{\"anchor\":\"y\",\"domain\":[0.0,1.0],\"title\":{\"text\":\"Superficie (ha)\"}},\"yaxis\":{\"anchor\":\"x\",\"domain\":[0.0,1.0],\"title\":{\"text\":\"Cantidad de Consultas\"}},\"legend\":{\"tracegroupgap\":0},\"title\":{\"text\":\"Relaci\\u00f3n entre Superficie de Barrios y Cantidad de Consultas\"}},                        {\"responsive\": true}                    ).then(function(){\n",
       "                            \n",
       "var gd = document.getElementById('b83511d5-858a-4bd8-a791-8e4ed64e5f81');\n",
       "var x = new MutationObserver(function (mutations, observer) {{\n",
       "        var display = window.getComputedStyle(gd).display;\n",
       "        if (!display || display === 'none') {{\n",
       "            console.log([gd, 'removed!']);\n",
       "            Plotly.purge(gd);\n",
       "            observer.disconnect();\n",
       "        }}\n",
       "}});\n",
       "\n",
       "// Listen for the removal of the full notebook cells\n",
       "var notebookContainer = gd.closest('#notebook-container');\n",
       "if (notebookContainer) {{\n",
       "    x.observe(notebookContainer, {childList: true});\n",
       "}}\n",
       "\n",
       "// Listen for the clearing of the current output cell\n",
       "var outputEl = gd.closest('.output');\n",
       "if (outputEl) {{\n",
       "    x.observe(outputEl, {childList: true});\n",
       "}}\n",
       "\n",
       "                        })                };                });            </script>        </div>"
      ]
     },
     "metadata": {},
     "output_type": "display_data"
    }
   ],
   "source": [
    "import pandas as pd\n",
    "import plotly.express as px\n",
    "\n",
    "# Supongamos que tienes tu DataFrame llamado 'atenciones_sup_ha' con los datos\n",
    "# ... (procesa los datos como se mostró anteriormente)\n",
    "\n",
    "# Crear el gráfico de dispersión\n",
    "fig = px.scatter(\n",
    "    atenciones_sup_ha, \n",
    "    x='sup_ha', \n",
    "    y='consulta_cantidad',\n",
    "    title='Relación entre Superficie de Barrios y Cantidad de Consultas',\n",
    "    labels={'sup_ha': 'Superficie (ha)', 'consulta_cantidad': 'Cantidad de Consultas'},\n",
    "    trendline='ols',  # Agregar una línea de tendencia (OLS es para regresión lineal)\n",
    "    hover_data=['nombre_barrio_correcto'],  # Mostrar el nombre del barrio al pasar el mouse\n",
    ")\n",
    "\n",
    "# Definir títulos de ejes\n",
    "fig.update_xaxes(title_text='Superficie (ha)')\n",
    "fig.update_yaxes(title_text='Cantidad de Consultas')\n",
    "\n",
    "# Mostrar el gráfico interactivo\n",
    "fig.show()\n",
    "\n",
    "# Guardar la imagen en formato PNG para PowerPoint\n",
    "fig.write_image(\"grafico_superficie_vs_consultas.png\")\n"
   ]
  },
  {
   "cell_type": "code",
   "execution_count": 161,
   "id": "e25fa23a",
   "metadata": {},
   "outputs": [
    {
     "data": {
      "application/vnd.plotly.v1+json": {
       "config": {
        "plotlyServerURL": "https://plot.ly"
       },
       "data": [
        {
         "customdata": [
          [
           "3 DE ABRIL"
          ],
          [
           "ANAHI"
          ],
          [
           "CICHERO"
          ],
          [
           "ESPERANZA"
          ],
          [
           "GUEMES TRADICIONAL"
          ],
          [
           "INDEPENDENCIA"
          ],
          [
           "LOMAS"
          ],
          [
           "LOMAS DEL MIRADOR"
          ],
          [
           "NIÑO JESUS"
          ],
          [
           "NTRA SRA DE LA ASUNCION"
          ],
          [
           "PARQUE CADENA NORTE"
          ],
          [
           "PASO MARTINEZ"
          ],
          [
           "PEDRO FERRE"
          ],
          [
           "PIRAYUI"
          ],
          [
           "PLACIDO MARTINEZ"
          ],
          [
           "PRIMERA JUNTA"
          ],
          [
           "QUINTA FERRE"
          ],
          [
           "RIO PARANA"
          ],
          [
           "SAN ANTONIO"
          ],
          [
           "SAN GERONIMO"
          ],
          [
           "SAN MARCOS"
          ],
          [
           "SANTA MARGARITA"
          ],
          [
           "SANTA RITA NORTE"
          ],
          [
           "VICTOR COLAS"
          ],
          [
           "VILLA ONGAY"
          ],
          [
           "VILLA PATONO"
          ],
          [
           "VIRGEN DE LOS DOLORES"
          ]
         ],
         "hovertemplate": "Superficie (ha)=%{x}<br>Cantidad de Consultas=%{y}<br>nombre_barrio_correcto=%{customdata[0]}<extra></extra>",
         "legendgroup": "",
         "marker": {
          "color": "#636efa",
          "symbol": "circle"
         },
         "mode": "markers+text",
         "name": "",
         "orientation": "v",
         "showlegend": false,
         "text": [
          "3 DE ABRIL",
          "ANAHI",
          "CICHERO",
          "ESPERANZA",
          "GUEMES TRADICIONAL",
          "INDEPENDENCIA",
          "LOMAS",
          "LOMAS DEL MIRADOR",
          "NIÑO JESUS",
          "NTRA SRA DE LA ASUNCION",
          "PARQUE CADENA NORTE",
          "PASO MARTINEZ",
          "PEDRO FERRE",
          "PIRAYUI",
          "PLACIDO MARTINEZ",
          "PRIMERA JUNTA",
          "QUINTA FERRE",
          "RIO PARANA",
          "SAN ANTONIO",
          "SAN GERONIMO",
          "SAN MARCOS",
          "SANTA MARGARITA",
          "SANTA RITA NORTE",
          "VICTOR COLAS",
          "VILLA ONGAY",
          "VILLA PATONO",
          "VIRGEN DE LOS DOLORES"
         ],
         "type": "scatter",
         "x": [
          111.5217323,
          102.6038972,
          7.745174778,
          57.56056765,
          19.73101815,
          55.771461519999995,
          48.26003786,
          39.00870849,
          52.57153621,
          73.69463377,
          32.76074115,
          196.2139205,
          5.751110169,
          115.92846739999999,
          22.51103753,
          24.70179985,
          23.42302185,
          121.1746314,
          74.53253449,
          77.67074204,
          13.96741956,
          73.39027214,
          19.42903369,
          41.15737347,
          44.42331068,
          111.7074379,
          11.83943017
         ],
         "xaxis": "x",
         "y": [
          3215,
          2154,
          1356,
          3359,
          1237,
          2483,
          619,
          6220,
          2278,
          712,
          4337,
          427,
          8026,
          3683,
          5026,
          1685,
          1698,
          3654,
          10325,
          3270,
          1262,
          81,
          4479,
          8502,
          3426,
          186,
          2957
         ],
         "yaxis": "y"
        },
        {
         "hovertemplate": "<b>OLS trendline</b><br>consulta_cantidad = -12.2938 * sup_ha + 3928.5<br>R<sup>2</sup>=0.045438<br><br>Superficie (ha)=%{x}<br>Cantidad de Consultas=%{y} <b>(trend)</b><extra></extra>",
         "legendgroup": "",
         "marker": {
          "color": "#636efa",
          "symbol": "circle"
         },
         "mode": "lines",
         "name": "",
         "showlegend": false,
         "type": "scatter",
         "x": [
          5.751110169,
          7.745174778,
          11.83943017,
          13.96741956,
          19.42903369,
          19.73101815,
          22.51103753,
          23.42302185,
          24.70179985,
          32.76074115,
          39.00870849,
          41.15737347,
          44.42331068,
          48.26003786,
          52.57153621,
          55.771461519999995,
          57.56056765,
          73.39027214,
          73.69463377,
          74.53253449,
          77.67074204,
          102.6038972,
          111.5217323,
          111.7074379,
          115.92846739999999,
          121.1746314,
          196.2139205
         ],
         "xaxis": "x",
         "y": [
          3857.800496195568,
          3833.285785537166,
          3782.9516660490226,
          3756.7905056008863,
          3689.6462969726936,
          3685.93374842897,
          3651.7566358029007,
          3640.5448467621177,
          3624.823755015722,
          3525.7484225059975,
          3448.9369135649413,
          3422.521570727601,
          3382.370662191187,
          3335.2025532601047,
          3282.1976836699296,
          3242.858314850537,
          3220.8633308785193,
          3026.255481349025,
          3022.513708258377,
          3012.2126911205382,
          2973.6320705493504,
          2667.107857748154,
          2557.473422540221,
          2555.190387662064,
          2503.29772761181,
          2438.802228345604,
          1516.2812368009918
         ],
         "yaxis": "y"
        }
       ],
       "layout": {
        "legend": {
         "tracegroupgap": 0
        },
        "template": {
         "data": {
          "bar": [
           {
            "error_x": {
             "color": "#2a3f5f"
            },
            "error_y": {
             "color": "#2a3f5f"
            },
            "marker": {
             "line": {
              "color": "#E5ECF6",
              "width": 0.5
             },
             "pattern": {
              "fillmode": "overlay",
              "size": 10,
              "solidity": 0.2
             }
            },
            "type": "bar"
           }
          ],
          "barpolar": [
           {
            "marker": {
             "line": {
              "color": "#E5ECF6",
              "width": 0.5
             },
             "pattern": {
              "fillmode": "overlay",
              "size": 10,
              "solidity": 0.2
             }
            },
            "type": "barpolar"
           }
          ],
          "carpet": [
           {
            "aaxis": {
             "endlinecolor": "#2a3f5f",
             "gridcolor": "white",
             "linecolor": "white",
             "minorgridcolor": "white",
             "startlinecolor": "#2a3f5f"
            },
            "baxis": {
             "endlinecolor": "#2a3f5f",
             "gridcolor": "white",
             "linecolor": "white",
             "minorgridcolor": "white",
             "startlinecolor": "#2a3f5f"
            },
            "type": "carpet"
           }
          ],
          "choropleth": [
           {
            "colorbar": {
             "outlinewidth": 0,
             "ticks": ""
            },
            "type": "choropleth"
           }
          ],
          "contour": [
           {
            "colorbar": {
             "outlinewidth": 0,
             "ticks": ""
            },
            "colorscale": [
             [
              0,
              "#0d0887"
             ],
             [
              0.1111111111111111,
              "#46039f"
             ],
             [
              0.2222222222222222,
              "#7201a8"
             ],
             [
              0.3333333333333333,
              "#9c179e"
             ],
             [
              0.4444444444444444,
              "#bd3786"
             ],
             [
              0.5555555555555556,
              "#d8576b"
             ],
             [
              0.6666666666666666,
              "#ed7953"
             ],
             [
              0.7777777777777778,
              "#fb9f3a"
             ],
             [
              0.8888888888888888,
              "#fdca26"
             ],
             [
              1,
              "#f0f921"
             ]
            ],
            "type": "contour"
           }
          ],
          "contourcarpet": [
           {
            "colorbar": {
             "outlinewidth": 0,
             "ticks": ""
            },
            "type": "contourcarpet"
           }
          ],
          "heatmap": [
           {
            "colorbar": {
             "outlinewidth": 0,
             "ticks": ""
            },
            "colorscale": [
             [
              0,
              "#0d0887"
             ],
             [
              0.1111111111111111,
              "#46039f"
             ],
             [
              0.2222222222222222,
              "#7201a8"
             ],
             [
              0.3333333333333333,
              "#9c179e"
             ],
             [
              0.4444444444444444,
              "#bd3786"
             ],
             [
              0.5555555555555556,
              "#d8576b"
             ],
             [
              0.6666666666666666,
              "#ed7953"
             ],
             [
              0.7777777777777778,
              "#fb9f3a"
             ],
             [
              0.8888888888888888,
              "#fdca26"
             ],
             [
              1,
              "#f0f921"
             ]
            ],
            "type": "heatmap"
           }
          ],
          "heatmapgl": [
           {
            "colorbar": {
             "outlinewidth": 0,
             "ticks": ""
            },
            "colorscale": [
             [
              0,
              "#0d0887"
             ],
             [
              0.1111111111111111,
              "#46039f"
             ],
             [
              0.2222222222222222,
              "#7201a8"
             ],
             [
              0.3333333333333333,
              "#9c179e"
             ],
             [
              0.4444444444444444,
              "#bd3786"
             ],
             [
              0.5555555555555556,
              "#d8576b"
             ],
             [
              0.6666666666666666,
              "#ed7953"
             ],
             [
              0.7777777777777778,
              "#fb9f3a"
             ],
             [
              0.8888888888888888,
              "#fdca26"
             ],
             [
              1,
              "#f0f921"
             ]
            ],
            "type": "heatmapgl"
           }
          ],
          "histogram": [
           {
            "marker": {
             "pattern": {
              "fillmode": "overlay",
              "size": 10,
              "solidity": 0.2
             }
            },
            "type": "histogram"
           }
          ],
          "histogram2d": [
           {
            "colorbar": {
             "outlinewidth": 0,
             "ticks": ""
            },
            "colorscale": [
             [
              0,
              "#0d0887"
             ],
             [
              0.1111111111111111,
              "#46039f"
             ],
             [
              0.2222222222222222,
              "#7201a8"
             ],
             [
              0.3333333333333333,
              "#9c179e"
             ],
             [
              0.4444444444444444,
              "#bd3786"
             ],
             [
              0.5555555555555556,
              "#d8576b"
             ],
             [
              0.6666666666666666,
              "#ed7953"
             ],
             [
              0.7777777777777778,
              "#fb9f3a"
             ],
             [
              0.8888888888888888,
              "#fdca26"
             ],
             [
              1,
              "#f0f921"
             ]
            ],
            "type": "histogram2d"
           }
          ],
          "histogram2dcontour": [
           {
            "colorbar": {
             "outlinewidth": 0,
             "ticks": ""
            },
            "colorscale": [
             [
              0,
              "#0d0887"
             ],
             [
              0.1111111111111111,
              "#46039f"
             ],
             [
              0.2222222222222222,
              "#7201a8"
             ],
             [
              0.3333333333333333,
              "#9c179e"
             ],
             [
              0.4444444444444444,
              "#bd3786"
             ],
             [
              0.5555555555555556,
              "#d8576b"
             ],
             [
              0.6666666666666666,
              "#ed7953"
             ],
             [
              0.7777777777777778,
              "#fb9f3a"
             ],
             [
              0.8888888888888888,
              "#fdca26"
             ],
             [
              1,
              "#f0f921"
             ]
            ],
            "type": "histogram2dcontour"
           }
          ],
          "mesh3d": [
           {
            "colorbar": {
             "outlinewidth": 0,
             "ticks": ""
            },
            "type": "mesh3d"
           }
          ],
          "parcoords": [
           {
            "line": {
             "colorbar": {
              "outlinewidth": 0,
              "ticks": ""
             }
            },
            "type": "parcoords"
           }
          ],
          "pie": [
           {
            "automargin": true,
            "type": "pie"
           }
          ],
          "scatter": [
           {
            "fillpattern": {
             "fillmode": "overlay",
             "size": 10,
             "solidity": 0.2
            },
            "type": "scatter"
           }
          ],
          "scatter3d": [
           {
            "line": {
             "colorbar": {
              "outlinewidth": 0,
              "ticks": ""
             }
            },
            "marker": {
             "colorbar": {
              "outlinewidth": 0,
              "ticks": ""
             }
            },
            "type": "scatter3d"
           }
          ],
          "scattercarpet": [
           {
            "marker": {
             "colorbar": {
              "outlinewidth": 0,
              "ticks": ""
             }
            },
            "type": "scattercarpet"
           }
          ],
          "scattergeo": [
           {
            "marker": {
             "colorbar": {
              "outlinewidth": 0,
              "ticks": ""
             }
            },
            "type": "scattergeo"
           }
          ],
          "scattergl": [
           {
            "marker": {
             "colorbar": {
              "outlinewidth": 0,
              "ticks": ""
             }
            },
            "type": "scattergl"
           }
          ],
          "scattermapbox": [
           {
            "marker": {
             "colorbar": {
              "outlinewidth": 0,
              "ticks": ""
             }
            },
            "type": "scattermapbox"
           }
          ],
          "scatterpolar": [
           {
            "marker": {
             "colorbar": {
              "outlinewidth": 0,
              "ticks": ""
             }
            },
            "type": "scatterpolar"
           }
          ],
          "scatterpolargl": [
           {
            "marker": {
             "colorbar": {
              "outlinewidth": 0,
              "ticks": ""
             }
            },
            "type": "scatterpolargl"
           }
          ],
          "scatterternary": [
           {
            "marker": {
             "colorbar": {
              "outlinewidth": 0,
              "ticks": ""
             }
            },
            "type": "scatterternary"
           }
          ],
          "surface": [
           {
            "colorbar": {
             "outlinewidth": 0,
             "ticks": ""
            },
            "colorscale": [
             [
              0,
              "#0d0887"
             ],
             [
              0.1111111111111111,
              "#46039f"
             ],
             [
              0.2222222222222222,
              "#7201a8"
             ],
             [
              0.3333333333333333,
              "#9c179e"
             ],
             [
              0.4444444444444444,
              "#bd3786"
             ],
             [
              0.5555555555555556,
              "#d8576b"
             ],
             [
              0.6666666666666666,
              "#ed7953"
             ],
             [
              0.7777777777777778,
              "#fb9f3a"
             ],
             [
              0.8888888888888888,
              "#fdca26"
             ],
             [
              1,
              "#f0f921"
             ]
            ],
            "type": "surface"
           }
          ],
          "table": [
           {
            "cells": {
             "fill": {
              "color": "#EBF0F8"
             },
             "line": {
              "color": "white"
             }
            },
            "header": {
             "fill": {
              "color": "#C8D4E3"
             },
             "line": {
              "color": "white"
             }
            },
            "type": "table"
           }
          ]
         },
         "layout": {
          "annotationdefaults": {
           "arrowcolor": "#2a3f5f",
           "arrowhead": 0,
           "arrowwidth": 1
          },
          "autotypenumbers": "strict",
          "coloraxis": {
           "colorbar": {
            "outlinewidth": 0,
            "ticks": ""
           }
          },
          "colorscale": {
           "diverging": [
            [
             0,
             "#8e0152"
            ],
            [
             0.1,
             "#c51b7d"
            ],
            [
             0.2,
             "#de77ae"
            ],
            [
             0.3,
             "#f1b6da"
            ],
            [
             0.4,
             "#fde0ef"
            ],
            [
             0.5,
             "#f7f7f7"
            ],
            [
             0.6,
             "#e6f5d0"
            ],
            [
             0.7,
             "#b8e186"
            ],
            [
             0.8,
             "#7fbc41"
            ],
            [
             0.9,
             "#4d9221"
            ],
            [
             1,
             "#276419"
            ]
           ],
           "sequential": [
            [
             0,
             "#0d0887"
            ],
            [
             0.1111111111111111,
             "#46039f"
            ],
            [
             0.2222222222222222,
             "#7201a8"
            ],
            [
             0.3333333333333333,
             "#9c179e"
            ],
            [
             0.4444444444444444,
             "#bd3786"
            ],
            [
             0.5555555555555556,
             "#d8576b"
            ],
            [
             0.6666666666666666,
             "#ed7953"
            ],
            [
             0.7777777777777778,
             "#fb9f3a"
            ],
            [
             0.8888888888888888,
             "#fdca26"
            ],
            [
             1,
             "#f0f921"
            ]
           ],
           "sequentialminus": [
            [
             0,
             "#0d0887"
            ],
            [
             0.1111111111111111,
             "#46039f"
            ],
            [
             0.2222222222222222,
             "#7201a8"
            ],
            [
             0.3333333333333333,
             "#9c179e"
            ],
            [
             0.4444444444444444,
             "#bd3786"
            ],
            [
             0.5555555555555556,
             "#d8576b"
            ],
            [
             0.6666666666666666,
             "#ed7953"
            ],
            [
             0.7777777777777778,
             "#fb9f3a"
            ],
            [
             0.8888888888888888,
             "#fdca26"
            ],
            [
             1,
             "#f0f921"
            ]
           ]
          },
          "colorway": [
           "#636efa",
           "#EF553B",
           "#00cc96",
           "#ab63fa",
           "#FFA15A",
           "#19d3f3",
           "#FF6692",
           "#B6E880",
           "#FF97FF",
           "#FECB52"
          ],
          "font": {
           "color": "#2a3f5f"
          },
          "geo": {
           "bgcolor": "white",
           "lakecolor": "white",
           "landcolor": "#E5ECF6",
           "showlakes": true,
           "showland": true,
           "subunitcolor": "white"
          },
          "hoverlabel": {
           "align": "left"
          },
          "hovermode": "closest",
          "mapbox": {
           "style": "light"
          },
          "paper_bgcolor": "white",
          "plot_bgcolor": "#E5ECF6",
          "polar": {
           "angularaxis": {
            "gridcolor": "white",
            "linecolor": "white",
            "ticks": ""
           },
           "bgcolor": "#E5ECF6",
           "radialaxis": {
            "gridcolor": "white",
            "linecolor": "white",
            "ticks": ""
           }
          },
          "scene": {
           "xaxis": {
            "backgroundcolor": "#E5ECF6",
            "gridcolor": "white",
            "gridwidth": 2,
            "linecolor": "white",
            "showbackground": true,
            "ticks": "",
            "zerolinecolor": "white"
           },
           "yaxis": {
            "backgroundcolor": "#E5ECF6",
            "gridcolor": "white",
            "gridwidth": 2,
            "linecolor": "white",
            "showbackground": true,
            "ticks": "",
            "zerolinecolor": "white"
           },
           "zaxis": {
            "backgroundcolor": "#E5ECF6",
            "gridcolor": "white",
            "gridwidth": 2,
            "linecolor": "white",
            "showbackground": true,
            "ticks": "",
            "zerolinecolor": "white"
           }
          },
          "shapedefaults": {
           "line": {
            "color": "#2a3f5f"
           }
          },
          "ternary": {
           "aaxis": {
            "gridcolor": "white",
            "linecolor": "white",
            "ticks": ""
           },
           "baxis": {
            "gridcolor": "white",
            "linecolor": "white",
            "ticks": ""
           },
           "bgcolor": "#E5ECF6",
           "caxis": {
            "gridcolor": "white",
            "linecolor": "white",
            "ticks": ""
           }
          },
          "title": {
           "x": 0.05
          },
          "xaxis": {
           "automargin": true,
           "gridcolor": "white",
           "linecolor": "white",
           "ticks": "",
           "title": {
            "standoff": 15
           },
           "zerolinecolor": "white",
           "zerolinewidth": 2
          },
          "yaxis": {
           "automargin": true,
           "gridcolor": "white",
           "linecolor": "white",
           "ticks": "",
           "title": {
            "standoff": 15
           },
           "zerolinecolor": "white",
           "zerolinewidth": 2
          }
         }
        },
        "title": {
         "text": "Relación entre Superficie de Barrios y Cantidad de Consultas"
        },
        "xaxis": {
         "anchor": "y",
         "domain": [
          0,
          1
         ],
         "title": {
          "text": "Superficie (ha)"
         }
        },
        "yaxis": {
         "anchor": "x",
         "domain": [
          0,
          1
         ],
         "title": {
          "text": "Cantidad de Consultas"
         }
        }
       }
      },
      "text/html": [
       "<div>                            <div id=\"79241a64-e31b-4fa2-9ea9-980735a6ce26\" class=\"plotly-graph-div\" style=\"height:525px; width:100%;\"></div>            <script type=\"text/javascript\">                require([\"plotly\"], function(Plotly) {                    window.PLOTLYENV=window.PLOTLYENV || {};                                    if (document.getElementById(\"79241a64-e31b-4fa2-9ea9-980735a6ce26\")) {                    Plotly.newPlot(                        \"79241a64-e31b-4fa2-9ea9-980735a6ce26\",                        [{\"customdata\":[[\"3 DE ABRIL\"],[\"ANAHI\"],[\"CICHERO\"],[\"ESPERANZA\"],[\"GUEMES TRADICIONAL\"],[\"INDEPENDENCIA\"],[\"LOMAS\"],[\"LOMAS DEL MIRADOR\"],[\"NI\\u00d1O JESUS\"],[\"NTRA SRA DE LA ASUNCION\"],[\"PARQUE CADENA NORTE\"],[\"PASO MARTINEZ\"],[\"PEDRO FERRE\"],[\"PIRAYUI\"],[\"PLACIDO MARTINEZ\"],[\"PRIMERA JUNTA\"],[\"QUINTA FERRE\"],[\"RIO PARANA\"],[\"SAN ANTONIO\"],[\"SAN GERONIMO\"],[\"SAN MARCOS\"],[\"SANTA MARGARITA\"],[\"SANTA RITA NORTE\"],[\"VICTOR COLAS\"],[\"VILLA ONGAY\"],[\"VILLA PATONO\"],[\"VIRGEN DE LOS DOLORES\"]],\"hovertemplate\":\"Superficie (ha)=%{x}<br>Cantidad de Consultas=%{y}<br>nombre_barrio_correcto=%{customdata[0]}<extra></extra>\",\"legendgroup\":\"\",\"marker\":{\"color\":\"#636efa\",\"symbol\":\"circle\"},\"mode\":\"markers+text\",\"name\":\"\",\"orientation\":\"v\",\"showlegend\":false,\"text\":[\"3 DE ABRIL\",\"ANAHI\",\"CICHERO\",\"ESPERANZA\",\"GUEMES TRADICIONAL\",\"INDEPENDENCIA\",\"LOMAS\",\"LOMAS DEL MIRADOR\",\"NI\\u00d1O JESUS\",\"NTRA SRA DE LA ASUNCION\",\"PARQUE CADENA NORTE\",\"PASO MARTINEZ\",\"PEDRO FERRE\",\"PIRAYUI\",\"PLACIDO MARTINEZ\",\"PRIMERA JUNTA\",\"QUINTA FERRE\",\"RIO PARANA\",\"SAN ANTONIO\",\"SAN GERONIMO\",\"SAN MARCOS\",\"SANTA MARGARITA\",\"SANTA RITA NORTE\",\"VICTOR COLAS\",\"VILLA ONGAY\",\"VILLA PATONO\",\"VIRGEN DE LOS DOLORES\"],\"x\":[111.5217323,102.6038972,7.745174778,57.56056765,19.73101815,55.771461519999995,48.26003786,39.00870849,52.57153621,73.69463377,32.76074115,196.2139205,5.751110169,115.92846739999999,22.51103753,24.70179985,23.42302185,121.1746314,74.53253449,77.67074204,13.96741956,73.39027214,19.42903369,41.15737347,44.42331068,111.7074379,11.83943017],\"xaxis\":\"x\",\"y\":[3215.0,2154.0,1356.0,3359.0,1237.0,2483.0,619.0,6220.0,2278.0,712.0,4337.0,427.0,8026.0,3683.0,5026.0,1685.0,1698.0,3654.0,10325.0,3270.0,1262.0,81.0,4479.0,8502.0,3426.0,186.0,2957.0],\"yaxis\":\"y\",\"type\":\"scatter\"},{\"hovertemplate\":\"<b>OLS trendline</b><br>consulta_cantidad = -12.2938 * sup_ha + 3928.5<br>R<sup>2</sup>=0.045438<br><br>Superficie (ha)=%{x}<br>Cantidad de Consultas=%{y} <b>(trend)</b><extra></extra>\",\"legendgroup\":\"\",\"marker\":{\"color\":\"#636efa\",\"symbol\":\"circle\"},\"mode\":\"lines\",\"name\":\"\",\"showlegend\":false,\"x\":[5.751110169,7.745174778,11.83943017,13.96741956,19.42903369,19.73101815,22.51103753,23.42302185,24.70179985,32.76074115,39.00870849,41.15737347,44.42331068,48.26003786,52.57153621,55.771461519999995,57.56056765,73.39027214,73.69463377,74.53253449,77.67074204,102.6038972,111.5217323,111.7074379,115.92846739999999,121.1746314,196.2139205],\"xaxis\":\"x\",\"y\":[3857.800496195568,3833.285785537166,3782.9516660490226,3756.7905056008863,3689.6462969726936,3685.93374842897,3651.7566358029007,3640.5448467621177,3624.823755015722,3525.7484225059975,3448.9369135649413,3422.521570727601,3382.370662191187,3335.2025532601047,3282.1976836699296,3242.858314850537,3220.8633308785193,3026.255481349025,3022.513708258377,3012.2126911205382,2973.6320705493504,2667.107857748154,2557.473422540221,2555.190387662064,2503.29772761181,2438.802228345604,1516.2812368009918],\"yaxis\":\"y\",\"type\":\"scatter\"}],                        {\"template\":{\"data\":{\"histogram2dcontour\":[{\"type\":\"histogram2dcontour\",\"colorbar\":{\"outlinewidth\":0,\"ticks\":\"\"},\"colorscale\":[[0.0,\"#0d0887\"],[0.1111111111111111,\"#46039f\"],[0.2222222222222222,\"#7201a8\"],[0.3333333333333333,\"#9c179e\"],[0.4444444444444444,\"#bd3786\"],[0.5555555555555556,\"#d8576b\"],[0.6666666666666666,\"#ed7953\"],[0.7777777777777778,\"#fb9f3a\"],[0.8888888888888888,\"#fdca26\"],[1.0,\"#f0f921\"]]}],\"choropleth\":[{\"type\":\"choropleth\",\"colorbar\":{\"outlinewidth\":0,\"ticks\":\"\"}}],\"histogram2d\":[{\"type\":\"histogram2d\",\"colorbar\":{\"outlinewidth\":0,\"ticks\":\"\"},\"colorscale\":[[0.0,\"#0d0887\"],[0.1111111111111111,\"#46039f\"],[0.2222222222222222,\"#7201a8\"],[0.3333333333333333,\"#9c179e\"],[0.4444444444444444,\"#bd3786\"],[0.5555555555555556,\"#d8576b\"],[0.6666666666666666,\"#ed7953\"],[0.7777777777777778,\"#fb9f3a\"],[0.8888888888888888,\"#fdca26\"],[1.0,\"#f0f921\"]]}],\"heatmap\":[{\"type\":\"heatmap\",\"colorbar\":{\"outlinewidth\":0,\"ticks\":\"\"},\"colorscale\":[[0.0,\"#0d0887\"],[0.1111111111111111,\"#46039f\"],[0.2222222222222222,\"#7201a8\"],[0.3333333333333333,\"#9c179e\"],[0.4444444444444444,\"#bd3786\"],[0.5555555555555556,\"#d8576b\"],[0.6666666666666666,\"#ed7953\"],[0.7777777777777778,\"#fb9f3a\"],[0.8888888888888888,\"#fdca26\"],[1.0,\"#f0f921\"]]}],\"heatmapgl\":[{\"type\":\"heatmapgl\",\"colorbar\":{\"outlinewidth\":0,\"ticks\":\"\"},\"colorscale\":[[0.0,\"#0d0887\"],[0.1111111111111111,\"#46039f\"],[0.2222222222222222,\"#7201a8\"],[0.3333333333333333,\"#9c179e\"],[0.4444444444444444,\"#bd3786\"],[0.5555555555555556,\"#d8576b\"],[0.6666666666666666,\"#ed7953\"],[0.7777777777777778,\"#fb9f3a\"],[0.8888888888888888,\"#fdca26\"],[1.0,\"#f0f921\"]]}],\"contourcarpet\":[{\"type\":\"contourcarpet\",\"colorbar\":{\"outlinewidth\":0,\"ticks\":\"\"}}],\"contour\":[{\"type\":\"contour\",\"colorbar\":{\"outlinewidth\":0,\"ticks\":\"\"},\"colorscale\":[[0.0,\"#0d0887\"],[0.1111111111111111,\"#46039f\"],[0.2222222222222222,\"#7201a8\"],[0.3333333333333333,\"#9c179e\"],[0.4444444444444444,\"#bd3786\"],[0.5555555555555556,\"#d8576b\"],[0.6666666666666666,\"#ed7953\"],[0.7777777777777778,\"#fb9f3a\"],[0.8888888888888888,\"#fdca26\"],[1.0,\"#f0f921\"]]}],\"surface\":[{\"type\":\"surface\",\"colorbar\":{\"outlinewidth\":0,\"ticks\":\"\"},\"colorscale\":[[0.0,\"#0d0887\"],[0.1111111111111111,\"#46039f\"],[0.2222222222222222,\"#7201a8\"],[0.3333333333333333,\"#9c179e\"],[0.4444444444444444,\"#bd3786\"],[0.5555555555555556,\"#d8576b\"],[0.6666666666666666,\"#ed7953\"],[0.7777777777777778,\"#fb9f3a\"],[0.8888888888888888,\"#fdca26\"],[1.0,\"#f0f921\"]]}],\"mesh3d\":[{\"type\":\"mesh3d\",\"colorbar\":{\"outlinewidth\":0,\"ticks\":\"\"}}],\"scatter\":[{\"fillpattern\":{\"fillmode\":\"overlay\",\"size\":10,\"solidity\":0.2},\"type\":\"scatter\"}],\"parcoords\":[{\"type\":\"parcoords\",\"line\":{\"colorbar\":{\"outlinewidth\":0,\"ticks\":\"\"}}}],\"scatterpolargl\":[{\"type\":\"scatterpolargl\",\"marker\":{\"colorbar\":{\"outlinewidth\":0,\"ticks\":\"\"}}}],\"bar\":[{\"error_x\":{\"color\":\"#2a3f5f\"},\"error_y\":{\"color\":\"#2a3f5f\"},\"marker\":{\"line\":{\"color\":\"#E5ECF6\",\"width\":0.5},\"pattern\":{\"fillmode\":\"overlay\",\"size\":10,\"solidity\":0.2}},\"type\":\"bar\"}],\"scattergeo\":[{\"type\":\"scattergeo\",\"marker\":{\"colorbar\":{\"outlinewidth\":0,\"ticks\":\"\"}}}],\"scatterpolar\":[{\"type\":\"scatterpolar\",\"marker\":{\"colorbar\":{\"outlinewidth\":0,\"ticks\":\"\"}}}],\"histogram\":[{\"marker\":{\"pattern\":{\"fillmode\":\"overlay\",\"size\":10,\"solidity\":0.2}},\"type\":\"histogram\"}],\"scattergl\":[{\"type\":\"scattergl\",\"marker\":{\"colorbar\":{\"outlinewidth\":0,\"ticks\":\"\"}}}],\"scatter3d\":[{\"type\":\"scatter3d\",\"line\":{\"colorbar\":{\"outlinewidth\":0,\"ticks\":\"\"}},\"marker\":{\"colorbar\":{\"outlinewidth\":0,\"ticks\":\"\"}}}],\"scattermapbox\":[{\"type\":\"scattermapbox\",\"marker\":{\"colorbar\":{\"outlinewidth\":0,\"ticks\":\"\"}}}],\"scatterternary\":[{\"type\":\"scatterternary\",\"marker\":{\"colorbar\":{\"outlinewidth\":0,\"ticks\":\"\"}}}],\"scattercarpet\":[{\"type\":\"scattercarpet\",\"marker\":{\"colorbar\":{\"outlinewidth\":0,\"ticks\":\"\"}}}],\"carpet\":[{\"aaxis\":{\"endlinecolor\":\"#2a3f5f\",\"gridcolor\":\"white\",\"linecolor\":\"white\",\"minorgridcolor\":\"white\",\"startlinecolor\":\"#2a3f5f\"},\"baxis\":{\"endlinecolor\":\"#2a3f5f\",\"gridcolor\":\"white\",\"linecolor\":\"white\",\"minorgridcolor\":\"white\",\"startlinecolor\":\"#2a3f5f\"},\"type\":\"carpet\"}],\"table\":[{\"cells\":{\"fill\":{\"color\":\"#EBF0F8\"},\"line\":{\"color\":\"white\"}},\"header\":{\"fill\":{\"color\":\"#C8D4E3\"},\"line\":{\"color\":\"white\"}},\"type\":\"table\"}],\"barpolar\":[{\"marker\":{\"line\":{\"color\":\"#E5ECF6\",\"width\":0.5},\"pattern\":{\"fillmode\":\"overlay\",\"size\":10,\"solidity\":0.2}},\"type\":\"barpolar\"}],\"pie\":[{\"automargin\":true,\"type\":\"pie\"}]},\"layout\":{\"autotypenumbers\":\"strict\",\"colorway\":[\"#636efa\",\"#EF553B\",\"#00cc96\",\"#ab63fa\",\"#FFA15A\",\"#19d3f3\",\"#FF6692\",\"#B6E880\",\"#FF97FF\",\"#FECB52\"],\"font\":{\"color\":\"#2a3f5f\"},\"hovermode\":\"closest\",\"hoverlabel\":{\"align\":\"left\"},\"paper_bgcolor\":\"white\",\"plot_bgcolor\":\"#E5ECF6\",\"polar\":{\"bgcolor\":\"#E5ECF6\",\"angularaxis\":{\"gridcolor\":\"white\",\"linecolor\":\"white\",\"ticks\":\"\"},\"radialaxis\":{\"gridcolor\":\"white\",\"linecolor\":\"white\",\"ticks\":\"\"}},\"ternary\":{\"bgcolor\":\"#E5ECF6\",\"aaxis\":{\"gridcolor\":\"white\",\"linecolor\":\"white\",\"ticks\":\"\"},\"baxis\":{\"gridcolor\":\"white\",\"linecolor\":\"white\",\"ticks\":\"\"},\"caxis\":{\"gridcolor\":\"white\",\"linecolor\":\"white\",\"ticks\":\"\"}},\"coloraxis\":{\"colorbar\":{\"outlinewidth\":0,\"ticks\":\"\"}},\"colorscale\":{\"sequential\":[[0.0,\"#0d0887\"],[0.1111111111111111,\"#46039f\"],[0.2222222222222222,\"#7201a8\"],[0.3333333333333333,\"#9c179e\"],[0.4444444444444444,\"#bd3786\"],[0.5555555555555556,\"#d8576b\"],[0.6666666666666666,\"#ed7953\"],[0.7777777777777778,\"#fb9f3a\"],[0.8888888888888888,\"#fdca26\"],[1.0,\"#f0f921\"]],\"sequentialminus\":[[0.0,\"#0d0887\"],[0.1111111111111111,\"#46039f\"],[0.2222222222222222,\"#7201a8\"],[0.3333333333333333,\"#9c179e\"],[0.4444444444444444,\"#bd3786\"],[0.5555555555555556,\"#d8576b\"],[0.6666666666666666,\"#ed7953\"],[0.7777777777777778,\"#fb9f3a\"],[0.8888888888888888,\"#fdca26\"],[1.0,\"#f0f921\"]],\"diverging\":[[0,\"#8e0152\"],[0.1,\"#c51b7d\"],[0.2,\"#de77ae\"],[0.3,\"#f1b6da\"],[0.4,\"#fde0ef\"],[0.5,\"#f7f7f7\"],[0.6,\"#e6f5d0\"],[0.7,\"#b8e186\"],[0.8,\"#7fbc41\"],[0.9,\"#4d9221\"],[1,\"#276419\"]]},\"xaxis\":{\"gridcolor\":\"white\",\"linecolor\":\"white\",\"ticks\":\"\",\"title\":{\"standoff\":15},\"zerolinecolor\":\"white\",\"automargin\":true,\"zerolinewidth\":2},\"yaxis\":{\"gridcolor\":\"white\",\"linecolor\":\"white\",\"ticks\":\"\",\"title\":{\"standoff\":15},\"zerolinecolor\":\"white\",\"automargin\":true,\"zerolinewidth\":2},\"scene\":{\"xaxis\":{\"backgroundcolor\":\"#E5ECF6\",\"gridcolor\":\"white\",\"linecolor\":\"white\",\"showbackground\":true,\"ticks\":\"\",\"zerolinecolor\":\"white\",\"gridwidth\":2},\"yaxis\":{\"backgroundcolor\":\"#E5ECF6\",\"gridcolor\":\"white\",\"linecolor\":\"white\",\"showbackground\":true,\"ticks\":\"\",\"zerolinecolor\":\"white\",\"gridwidth\":2},\"zaxis\":{\"backgroundcolor\":\"#E5ECF6\",\"gridcolor\":\"white\",\"linecolor\":\"white\",\"showbackground\":true,\"ticks\":\"\",\"zerolinecolor\":\"white\",\"gridwidth\":2}},\"shapedefaults\":{\"line\":{\"color\":\"#2a3f5f\"}},\"annotationdefaults\":{\"arrowcolor\":\"#2a3f5f\",\"arrowhead\":0,\"arrowwidth\":1},\"geo\":{\"bgcolor\":\"white\",\"landcolor\":\"#E5ECF6\",\"subunitcolor\":\"white\",\"showland\":true,\"showlakes\":true,\"lakecolor\":\"white\"},\"title\":{\"x\":0.05},\"mapbox\":{\"style\":\"light\"}}},\"xaxis\":{\"anchor\":\"y\",\"domain\":[0.0,1.0],\"title\":{\"text\":\"Superficie (ha)\"}},\"yaxis\":{\"anchor\":\"x\",\"domain\":[0.0,1.0],\"title\":{\"text\":\"Cantidad de Consultas\"}},\"legend\":{\"tracegroupgap\":0},\"title\":{\"text\":\"Relaci\\u00f3n entre Superficie de Barrios y Cantidad de Consultas\"}},                        {\"responsive\": true}                    ).then(function(){\n",
       "                            \n",
       "var gd = document.getElementById('79241a64-e31b-4fa2-9ea9-980735a6ce26');\n",
       "var x = new MutationObserver(function (mutations, observer) {{\n",
       "        var display = window.getComputedStyle(gd).display;\n",
       "        if (!display || display === 'none') {{\n",
       "            console.log([gd, 'removed!']);\n",
       "            Plotly.purge(gd);\n",
       "            observer.disconnect();\n",
       "        }}\n",
       "}});\n",
       "\n",
       "// Listen for the removal of the full notebook cells\n",
       "var notebookContainer = gd.closest('#notebook-container');\n",
       "if (notebookContainer) {{\n",
       "    x.observe(notebookContainer, {childList: true});\n",
       "}}\n",
       "\n",
       "// Listen for the clearing of the current output cell\n",
       "var outputEl = gd.closest('.output');\n",
       "if (outputEl) {{\n",
       "    x.observe(outputEl, {childList: true});\n",
       "}}\n",
       "\n",
       "                        })                };                });            </script>        </div>"
      ]
     },
     "metadata": {},
     "output_type": "display_data"
    }
   ],
   "source": [
    "import pandas as pd\n",
    "import plotly.express as px\n",
    "\n",
    "# Supongamos que tienes tu DataFrame llamado 'atenciones_sup_ha' con los datos\n",
    "# ... (procesa los datos como se mostró anteriormente)\n",
    "\n",
    "# Crear el gráfico de dispersión con etiquetas en cada punto\n",
    "fig = px.scatter(\n",
    "    atenciones_sup_ha, \n",
    "    x='sup_ha', \n",
    "    y='consulta_cantidad',\n",
    "    title='Relación entre Superficie de Barrios y Cantidad de Consultas',\n",
    "    labels={'sup_ha': 'Superficie (ha)', 'consulta_cantidad': 'Cantidad de Consultas'},\n",
    "    trendline='ols',  # Agregar una línea de tendencia (OLS es para regresión lineal)\n",
    "    hover_data=['nombre_barrio_correcto'],  # Mostrar el nombre del barrio al pasar el mouse\n",
    "    text='nombre_barrio_correcto',  # Agregar etiquetas de barrio a los puntos\n",
    ")\n",
    "\n",
    "# Definir títulos de ejes\n",
    "fig.update_xaxes(title_text='Superficie (ha)')\n",
    "fig.update_yaxes(title_text='Cantidad de Consultas')\n",
    "\n",
    "# Mostrar el gráfico interactivo\n",
    "fig.show()\n",
    "\n",
    "# Guardar la imagen en formato PNG para PowerPoint\n",
    "fig.write_image(\"grafico_superficie_vs_consultas.png\")\n"
   ]
  },
  {
   "cell_type": "code",
   "execution_count": 162,
   "id": "17cf13c5",
   "metadata": {},
   "outputs": [
    {
     "data": {
      "application/vnd.plotly.v1+json": {
       "config": {
        "plotlyServerURL": "https://plot.ly"
       },
       "data": [
        {
         "customdata": [
          [
           "3 DE ABRIL"
          ],
          [
           "ANAHI"
          ],
          [
           "CICHERO"
          ],
          [
           "ESPERANZA"
          ],
          [
           "GUEMES TRADICIONAL"
          ],
          [
           "INDEPENDENCIA"
          ],
          [
           "LOMAS"
          ],
          [
           "LOMAS DEL MIRADOR"
          ],
          [
           "NIÑO JESUS"
          ],
          [
           "NTRA SRA DE LA ASUNCION"
          ],
          [
           "PARQUE CADENA NORTE"
          ],
          [
           "PASO MARTINEZ"
          ],
          [
           "PEDRO FERRE"
          ],
          [
           "PIRAYUI"
          ],
          [
           "PLACIDO MARTINEZ"
          ],
          [
           "PRIMERA JUNTA"
          ],
          [
           "QUINTA FERRE"
          ],
          [
           "RIO PARANA"
          ],
          [
           "SAN ANTONIO"
          ],
          [
           "SAN GERONIMO"
          ],
          [
           "SAN MARCOS"
          ],
          [
           "SANTA MARGARITA"
          ],
          [
           "SANTA RITA NORTE"
          ],
          [
           "VICTOR COLAS"
          ],
          [
           "VILLA ONGAY"
          ],
          [
           "VILLA PATONO"
          ],
          [
           "VIRGEN DE LOS DOLORES"
          ]
         ],
         "hovertemplate": "Superficie (ha)=%{x}<br>Cantidad de Consultas=%{y}<br>nombre_barrio_correcto=%{customdata[0]}<extra></extra>",
         "legendgroup": "",
         "marker": {
          "color": "#636efa",
          "symbol": "circle"
         },
         "mode": "markers+text",
         "name": "",
         "orientation": "v",
         "showlegend": false,
         "text": [
          "3 DE ABRIL",
          "ANAHI",
          "CICHERO",
          "ESPERANZA",
          "GUEMES TRADICIONAL",
          "INDEPENDENCIA",
          "LOMAS",
          "LOMAS DEL MIRADOR",
          "NIÑO JESUS",
          "NTRA SRA DE LA ASUNCION",
          "PARQUE CADENA NORTE",
          "PASO MARTINEZ",
          "PEDRO FERRE",
          "PIRAYUI",
          "PLACIDO MARTINEZ",
          "PRIMERA JUNTA",
          "QUINTA FERRE",
          "RIO PARANA",
          "SAN ANTONIO",
          "SAN GERONIMO",
          "SAN MARCOS",
          "SANTA MARGARITA",
          "SANTA RITA NORTE",
          "VICTOR COLAS",
          "VILLA ONGAY",
          "VILLA PATONO",
          "VIRGEN DE LOS DOLORES"
         ],
         "textfont": {
          "size": 10
         },
         "textposition": "top center",
         "type": "scatter",
         "x": [
          111.5217323,
          102.6038972,
          7.745174778,
          57.56056765,
          19.73101815,
          55.771461519999995,
          48.26003786,
          39.00870849,
          52.57153621,
          73.69463377,
          32.76074115,
          196.2139205,
          5.751110169,
          115.92846739999999,
          22.51103753,
          24.70179985,
          23.42302185,
          121.1746314,
          74.53253449,
          77.67074204,
          13.96741956,
          73.39027214,
          19.42903369,
          41.15737347,
          44.42331068,
          111.7074379,
          11.83943017
         ],
         "xaxis": "x",
         "y": [
          3215,
          2154,
          1356,
          3359,
          1237,
          2483,
          619,
          6220,
          2278,
          712,
          4337,
          427,
          8026,
          3683,
          5026,
          1685,
          1698,
          3654,
          10325,
          3270,
          1262,
          81,
          4479,
          8502,
          3426,
          186,
          2957
         ],
         "yaxis": "y"
        },
        {
         "hovertemplate": "<b>OLS trendline</b><br>consulta_cantidad = -12.2938 * sup_ha + 3928.5<br>R<sup>2</sup>=0.045438<br><br>Superficie (ha)=%{x}<br>Cantidad de Consultas=%{y} <b>(trend)</b><extra></extra>",
         "legendgroup": "",
         "marker": {
          "color": "#636efa",
          "symbol": "circle"
         },
         "mode": "lines",
         "name": "",
         "showlegend": false,
         "textfont": {
          "size": 10
         },
         "textposition": "top center",
         "type": "scatter",
         "x": [
          5.751110169,
          7.745174778,
          11.83943017,
          13.96741956,
          19.42903369,
          19.73101815,
          22.51103753,
          23.42302185,
          24.70179985,
          32.76074115,
          39.00870849,
          41.15737347,
          44.42331068,
          48.26003786,
          52.57153621,
          55.771461519999995,
          57.56056765,
          73.39027214,
          73.69463377,
          74.53253449,
          77.67074204,
          102.6038972,
          111.5217323,
          111.7074379,
          115.92846739999999,
          121.1746314,
          196.2139205
         ],
         "xaxis": "x",
         "y": [
          3857.800496195568,
          3833.285785537166,
          3782.9516660490226,
          3756.7905056008863,
          3689.6462969726936,
          3685.93374842897,
          3651.7566358029007,
          3640.5448467621177,
          3624.823755015722,
          3525.7484225059975,
          3448.9369135649413,
          3422.521570727601,
          3382.370662191187,
          3335.2025532601047,
          3282.1976836699296,
          3242.858314850537,
          3220.8633308785193,
          3026.255481349025,
          3022.513708258377,
          3012.2126911205382,
          2973.6320705493504,
          2667.107857748154,
          2557.473422540221,
          2555.190387662064,
          2503.29772761181,
          2438.802228345604,
          1516.2812368009918
         ],
         "yaxis": "y"
        }
       ],
       "layout": {
        "legend": {
         "tracegroupgap": 0
        },
        "template": {
         "data": {
          "bar": [
           {
            "error_x": {
             "color": "#2a3f5f"
            },
            "error_y": {
             "color": "#2a3f5f"
            },
            "marker": {
             "line": {
              "color": "#E5ECF6",
              "width": 0.5
             },
             "pattern": {
              "fillmode": "overlay",
              "size": 10,
              "solidity": 0.2
             }
            },
            "type": "bar"
           }
          ],
          "barpolar": [
           {
            "marker": {
             "line": {
              "color": "#E5ECF6",
              "width": 0.5
             },
             "pattern": {
              "fillmode": "overlay",
              "size": 10,
              "solidity": 0.2
             }
            },
            "type": "barpolar"
           }
          ],
          "carpet": [
           {
            "aaxis": {
             "endlinecolor": "#2a3f5f",
             "gridcolor": "white",
             "linecolor": "white",
             "minorgridcolor": "white",
             "startlinecolor": "#2a3f5f"
            },
            "baxis": {
             "endlinecolor": "#2a3f5f",
             "gridcolor": "white",
             "linecolor": "white",
             "minorgridcolor": "white",
             "startlinecolor": "#2a3f5f"
            },
            "type": "carpet"
           }
          ],
          "choropleth": [
           {
            "colorbar": {
             "outlinewidth": 0,
             "ticks": ""
            },
            "type": "choropleth"
           }
          ],
          "contour": [
           {
            "colorbar": {
             "outlinewidth": 0,
             "ticks": ""
            },
            "colorscale": [
             [
              0,
              "#0d0887"
             ],
             [
              0.1111111111111111,
              "#46039f"
             ],
             [
              0.2222222222222222,
              "#7201a8"
             ],
             [
              0.3333333333333333,
              "#9c179e"
             ],
             [
              0.4444444444444444,
              "#bd3786"
             ],
             [
              0.5555555555555556,
              "#d8576b"
             ],
             [
              0.6666666666666666,
              "#ed7953"
             ],
             [
              0.7777777777777778,
              "#fb9f3a"
             ],
             [
              0.8888888888888888,
              "#fdca26"
             ],
             [
              1,
              "#f0f921"
             ]
            ],
            "type": "contour"
           }
          ],
          "contourcarpet": [
           {
            "colorbar": {
             "outlinewidth": 0,
             "ticks": ""
            },
            "type": "contourcarpet"
           }
          ],
          "heatmap": [
           {
            "colorbar": {
             "outlinewidth": 0,
             "ticks": ""
            },
            "colorscale": [
             [
              0,
              "#0d0887"
             ],
             [
              0.1111111111111111,
              "#46039f"
             ],
             [
              0.2222222222222222,
              "#7201a8"
             ],
             [
              0.3333333333333333,
              "#9c179e"
             ],
             [
              0.4444444444444444,
              "#bd3786"
             ],
             [
              0.5555555555555556,
              "#d8576b"
             ],
             [
              0.6666666666666666,
              "#ed7953"
             ],
             [
              0.7777777777777778,
              "#fb9f3a"
             ],
             [
              0.8888888888888888,
              "#fdca26"
             ],
             [
              1,
              "#f0f921"
             ]
            ],
            "type": "heatmap"
           }
          ],
          "heatmapgl": [
           {
            "colorbar": {
             "outlinewidth": 0,
             "ticks": ""
            },
            "colorscale": [
             [
              0,
              "#0d0887"
             ],
             [
              0.1111111111111111,
              "#46039f"
             ],
             [
              0.2222222222222222,
              "#7201a8"
             ],
             [
              0.3333333333333333,
              "#9c179e"
             ],
             [
              0.4444444444444444,
              "#bd3786"
             ],
             [
              0.5555555555555556,
              "#d8576b"
             ],
             [
              0.6666666666666666,
              "#ed7953"
             ],
             [
              0.7777777777777778,
              "#fb9f3a"
             ],
             [
              0.8888888888888888,
              "#fdca26"
             ],
             [
              1,
              "#f0f921"
             ]
            ],
            "type": "heatmapgl"
           }
          ],
          "histogram": [
           {
            "marker": {
             "pattern": {
              "fillmode": "overlay",
              "size": 10,
              "solidity": 0.2
             }
            },
            "type": "histogram"
           }
          ],
          "histogram2d": [
           {
            "colorbar": {
             "outlinewidth": 0,
             "ticks": ""
            },
            "colorscale": [
             [
              0,
              "#0d0887"
             ],
             [
              0.1111111111111111,
              "#46039f"
             ],
             [
              0.2222222222222222,
              "#7201a8"
             ],
             [
              0.3333333333333333,
              "#9c179e"
             ],
             [
              0.4444444444444444,
              "#bd3786"
             ],
             [
              0.5555555555555556,
              "#d8576b"
             ],
             [
              0.6666666666666666,
              "#ed7953"
             ],
             [
              0.7777777777777778,
              "#fb9f3a"
             ],
             [
              0.8888888888888888,
              "#fdca26"
             ],
             [
              1,
              "#f0f921"
             ]
            ],
            "type": "histogram2d"
           }
          ],
          "histogram2dcontour": [
           {
            "colorbar": {
             "outlinewidth": 0,
             "ticks": ""
            },
            "colorscale": [
             [
              0,
              "#0d0887"
             ],
             [
              0.1111111111111111,
              "#46039f"
             ],
             [
              0.2222222222222222,
              "#7201a8"
             ],
             [
              0.3333333333333333,
              "#9c179e"
             ],
             [
              0.4444444444444444,
              "#bd3786"
             ],
             [
              0.5555555555555556,
              "#d8576b"
             ],
             [
              0.6666666666666666,
              "#ed7953"
             ],
             [
              0.7777777777777778,
              "#fb9f3a"
             ],
             [
              0.8888888888888888,
              "#fdca26"
             ],
             [
              1,
              "#f0f921"
             ]
            ],
            "type": "histogram2dcontour"
           }
          ],
          "mesh3d": [
           {
            "colorbar": {
             "outlinewidth": 0,
             "ticks": ""
            },
            "type": "mesh3d"
           }
          ],
          "parcoords": [
           {
            "line": {
             "colorbar": {
              "outlinewidth": 0,
              "ticks": ""
             }
            },
            "type": "parcoords"
           }
          ],
          "pie": [
           {
            "automargin": true,
            "type": "pie"
           }
          ],
          "scatter": [
           {
            "fillpattern": {
             "fillmode": "overlay",
             "size": 10,
             "solidity": 0.2
            },
            "type": "scatter"
           }
          ],
          "scatter3d": [
           {
            "line": {
             "colorbar": {
              "outlinewidth": 0,
              "ticks": ""
             }
            },
            "marker": {
             "colorbar": {
              "outlinewidth": 0,
              "ticks": ""
             }
            },
            "type": "scatter3d"
           }
          ],
          "scattercarpet": [
           {
            "marker": {
             "colorbar": {
              "outlinewidth": 0,
              "ticks": ""
             }
            },
            "type": "scattercarpet"
           }
          ],
          "scattergeo": [
           {
            "marker": {
             "colorbar": {
              "outlinewidth": 0,
              "ticks": ""
             }
            },
            "type": "scattergeo"
           }
          ],
          "scattergl": [
           {
            "marker": {
             "colorbar": {
              "outlinewidth": 0,
              "ticks": ""
             }
            },
            "type": "scattergl"
           }
          ],
          "scattermapbox": [
           {
            "marker": {
             "colorbar": {
              "outlinewidth": 0,
              "ticks": ""
             }
            },
            "type": "scattermapbox"
           }
          ],
          "scatterpolar": [
           {
            "marker": {
             "colorbar": {
              "outlinewidth": 0,
              "ticks": ""
             }
            },
            "type": "scatterpolar"
           }
          ],
          "scatterpolargl": [
           {
            "marker": {
             "colorbar": {
              "outlinewidth": 0,
              "ticks": ""
             }
            },
            "type": "scatterpolargl"
           }
          ],
          "scatterternary": [
           {
            "marker": {
             "colorbar": {
              "outlinewidth": 0,
              "ticks": ""
             }
            },
            "type": "scatterternary"
           }
          ],
          "surface": [
           {
            "colorbar": {
             "outlinewidth": 0,
             "ticks": ""
            },
            "colorscale": [
             [
              0,
              "#0d0887"
             ],
             [
              0.1111111111111111,
              "#46039f"
             ],
             [
              0.2222222222222222,
              "#7201a8"
             ],
             [
              0.3333333333333333,
              "#9c179e"
             ],
             [
              0.4444444444444444,
              "#bd3786"
             ],
             [
              0.5555555555555556,
              "#d8576b"
             ],
             [
              0.6666666666666666,
              "#ed7953"
             ],
             [
              0.7777777777777778,
              "#fb9f3a"
             ],
             [
              0.8888888888888888,
              "#fdca26"
             ],
             [
              1,
              "#f0f921"
             ]
            ],
            "type": "surface"
           }
          ],
          "table": [
           {
            "cells": {
             "fill": {
              "color": "#EBF0F8"
             },
             "line": {
              "color": "white"
             }
            },
            "header": {
             "fill": {
              "color": "#C8D4E3"
             },
             "line": {
              "color": "white"
             }
            },
            "type": "table"
           }
          ]
         },
         "layout": {
          "annotationdefaults": {
           "arrowcolor": "#2a3f5f",
           "arrowhead": 0,
           "arrowwidth": 1
          },
          "autotypenumbers": "strict",
          "coloraxis": {
           "colorbar": {
            "outlinewidth": 0,
            "ticks": ""
           }
          },
          "colorscale": {
           "diverging": [
            [
             0,
             "#8e0152"
            ],
            [
             0.1,
             "#c51b7d"
            ],
            [
             0.2,
             "#de77ae"
            ],
            [
             0.3,
             "#f1b6da"
            ],
            [
             0.4,
             "#fde0ef"
            ],
            [
             0.5,
             "#f7f7f7"
            ],
            [
             0.6,
             "#e6f5d0"
            ],
            [
             0.7,
             "#b8e186"
            ],
            [
             0.8,
             "#7fbc41"
            ],
            [
             0.9,
             "#4d9221"
            ],
            [
             1,
             "#276419"
            ]
           ],
           "sequential": [
            [
             0,
             "#0d0887"
            ],
            [
             0.1111111111111111,
             "#46039f"
            ],
            [
             0.2222222222222222,
             "#7201a8"
            ],
            [
             0.3333333333333333,
             "#9c179e"
            ],
            [
             0.4444444444444444,
             "#bd3786"
            ],
            [
             0.5555555555555556,
             "#d8576b"
            ],
            [
             0.6666666666666666,
             "#ed7953"
            ],
            [
             0.7777777777777778,
             "#fb9f3a"
            ],
            [
             0.8888888888888888,
             "#fdca26"
            ],
            [
             1,
             "#f0f921"
            ]
           ],
           "sequentialminus": [
            [
             0,
             "#0d0887"
            ],
            [
             0.1111111111111111,
             "#46039f"
            ],
            [
             0.2222222222222222,
             "#7201a8"
            ],
            [
             0.3333333333333333,
             "#9c179e"
            ],
            [
             0.4444444444444444,
             "#bd3786"
            ],
            [
             0.5555555555555556,
             "#d8576b"
            ],
            [
             0.6666666666666666,
             "#ed7953"
            ],
            [
             0.7777777777777778,
             "#fb9f3a"
            ],
            [
             0.8888888888888888,
             "#fdca26"
            ],
            [
             1,
             "#f0f921"
            ]
           ]
          },
          "colorway": [
           "#636efa",
           "#EF553B",
           "#00cc96",
           "#ab63fa",
           "#FFA15A",
           "#19d3f3",
           "#FF6692",
           "#B6E880",
           "#FF97FF",
           "#FECB52"
          ],
          "font": {
           "color": "#2a3f5f"
          },
          "geo": {
           "bgcolor": "white",
           "lakecolor": "white",
           "landcolor": "#E5ECF6",
           "showlakes": true,
           "showland": true,
           "subunitcolor": "white"
          },
          "hoverlabel": {
           "align": "left"
          },
          "hovermode": "closest",
          "mapbox": {
           "style": "light"
          },
          "paper_bgcolor": "white",
          "plot_bgcolor": "#E5ECF6",
          "polar": {
           "angularaxis": {
            "gridcolor": "white",
            "linecolor": "white",
            "ticks": ""
           },
           "bgcolor": "#E5ECF6",
           "radialaxis": {
            "gridcolor": "white",
            "linecolor": "white",
            "ticks": ""
           }
          },
          "scene": {
           "xaxis": {
            "backgroundcolor": "#E5ECF6",
            "gridcolor": "white",
            "gridwidth": 2,
            "linecolor": "white",
            "showbackground": true,
            "ticks": "",
            "zerolinecolor": "white"
           },
           "yaxis": {
            "backgroundcolor": "#E5ECF6",
            "gridcolor": "white",
            "gridwidth": 2,
            "linecolor": "white",
            "showbackground": true,
            "ticks": "",
            "zerolinecolor": "white"
           },
           "zaxis": {
            "backgroundcolor": "#E5ECF6",
            "gridcolor": "white",
            "gridwidth": 2,
            "linecolor": "white",
            "showbackground": true,
            "ticks": "",
            "zerolinecolor": "white"
           }
          },
          "shapedefaults": {
           "line": {
            "color": "#2a3f5f"
           }
          },
          "ternary": {
           "aaxis": {
            "gridcolor": "white",
            "linecolor": "white",
            "ticks": ""
           },
           "baxis": {
            "gridcolor": "white",
            "linecolor": "white",
            "ticks": ""
           },
           "bgcolor": "#E5ECF6",
           "caxis": {
            "gridcolor": "white",
            "linecolor": "white",
            "ticks": ""
           }
          },
          "title": {
           "x": 0.05
          },
          "xaxis": {
           "automargin": true,
           "gridcolor": "white",
           "linecolor": "white",
           "ticks": "",
           "title": {
            "standoff": 15
           },
           "zerolinecolor": "white",
           "zerolinewidth": 2
          },
          "yaxis": {
           "automargin": true,
           "gridcolor": "white",
           "linecolor": "white",
           "ticks": "",
           "title": {
            "standoff": 15
           },
           "zerolinecolor": "white",
           "zerolinewidth": 2
          }
         }
        },
        "title": {
         "text": "Relación entre Superficie de Barrios y Cantidad de Consultas"
        },
        "xaxis": {
         "anchor": "y",
         "domain": [
          0,
          1
         ],
         "title": {
          "text": "Superficie (ha)"
         }
        },
        "yaxis": {
         "anchor": "x",
         "domain": [
          0,
          1
         ],
         "title": {
          "text": "Cantidad de Consultas"
         }
        }
       }
      },
      "text/html": [
       "<div>                            <div id=\"16fd4aee-678f-46ad-bf12-8f9a1351a1f0\" class=\"plotly-graph-div\" style=\"height:525px; width:100%;\"></div>            <script type=\"text/javascript\">                require([\"plotly\"], function(Plotly) {                    window.PLOTLYENV=window.PLOTLYENV || {};                                    if (document.getElementById(\"16fd4aee-678f-46ad-bf12-8f9a1351a1f0\")) {                    Plotly.newPlot(                        \"16fd4aee-678f-46ad-bf12-8f9a1351a1f0\",                        [{\"customdata\":[[\"3 DE ABRIL\"],[\"ANAHI\"],[\"CICHERO\"],[\"ESPERANZA\"],[\"GUEMES TRADICIONAL\"],[\"INDEPENDENCIA\"],[\"LOMAS\"],[\"LOMAS DEL MIRADOR\"],[\"NI\\u00d1O JESUS\"],[\"NTRA SRA DE LA ASUNCION\"],[\"PARQUE CADENA NORTE\"],[\"PASO MARTINEZ\"],[\"PEDRO FERRE\"],[\"PIRAYUI\"],[\"PLACIDO MARTINEZ\"],[\"PRIMERA JUNTA\"],[\"QUINTA FERRE\"],[\"RIO PARANA\"],[\"SAN ANTONIO\"],[\"SAN GERONIMO\"],[\"SAN MARCOS\"],[\"SANTA MARGARITA\"],[\"SANTA RITA NORTE\"],[\"VICTOR COLAS\"],[\"VILLA ONGAY\"],[\"VILLA PATONO\"],[\"VIRGEN DE LOS DOLORES\"]],\"hovertemplate\":\"Superficie (ha)=%{x}<br>Cantidad de Consultas=%{y}<br>nombre_barrio_correcto=%{customdata[0]}<extra></extra>\",\"legendgroup\":\"\",\"marker\":{\"color\":\"#636efa\",\"symbol\":\"circle\"},\"mode\":\"markers+text\",\"name\":\"\",\"orientation\":\"v\",\"showlegend\":false,\"text\":[\"3 DE ABRIL\",\"ANAHI\",\"CICHERO\",\"ESPERANZA\",\"GUEMES TRADICIONAL\",\"INDEPENDENCIA\",\"LOMAS\",\"LOMAS DEL MIRADOR\",\"NI\\u00d1O JESUS\",\"NTRA SRA DE LA ASUNCION\",\"PARQUE CADENA NORTE\",\"PASO MARTINEZ\",\"PEDRO FERRE\",\"PIRAYUI\",\"PLACIDO MARTINEZ\",\"PRIMERA JUNTA\",\"QUINTA FERRE\",\"RIO PARANA\",\"SAN ANTONIO\",\"SAN GERONIMO\",\"SAN MARCOS\",\"SANTA MARGARITA\",\"SANTA RITA NORTE\",\"VICTOR COLAS\",\"VILLA ONGAY\",\"VILLA PATONO\",\"VIRGEN DE LOS DOLORES\"],\"x\":[111.5217323,102.6038972,7.745174778,57.56056765,19.73101815,55.771461519999995,48.26003786,39.00870849,52.57153621,73.69463377,32.76074115,196.2139205,5.751110169,115.92846739999999,22.51103753,24.70179985,23.42302185,121.1746314,74.53253449,77.67074204,13.96741956,73.39027214,19.42903369,41.15737347,44.42331068,111.7074379,11.83943017],\"xaxis\":\"x\",\"y\":[3215.0,2154.0,1356.0,3359.0,1237.0,2483.0,619.0,6220.0,2278.0,712.0,4337.0,427.0,8026.0,3683.0,5026.0,1685.0,1698.0,3654.0,10325.0,3270.0,1262.0,81.0,4479.0,8502.0,3426.0,186.0,2957.0],\"yaxis\":\"y\",\"type\":\"scatter\",\"textfont\":{\"size\":10},\"textposition\":\"top center\"},{\"hovertemplate\":\"<b>OLS trendline</b><br>consulta_cantidad = -12.2938 * sup_ha + 3928.5<br>R<sup>2</sup>=0.045438<br><br>Superficie (ha)=%{x}<br>Cantidad de Consultas=%{y} <b>(trend)</b><extra></extra>\",\"legendgroup\":\"\",\"marker\":{\"color\":\"#636efa\",\"symbol\":\"circle\"},\"mode\":\"lines\",\"name\":\"\",\"showlegend\":false,\"x\":[5.751110169,7.745174778,11.83943017,13.96741956,19.42903369,19.73101815,22.51103753,23.42302185,24.70179985,32.76074115,39.00870849,41.15737347,44.42331068,48.26003786,52.57153621,55.771461519999995,57.56056765,73.39027214,73.69463377,74.53253449,77.67074204,102.6038972,111.5217323,111.7074379,115.92846739999999,121.1746314,196.2139205],\"xaxis\":\"x\",\"y\":[3857.800496195568,3833.285785537166,3782.9516660490226,3756.7905056008863,3689.6462969726936,3685.93374842897,3651.7566358029007,3640.5448467621177,3624.823755015722,3525.7484225059975,3448.9369135649413,3422.521570727601,3382.370662191187,3335.2025532601047,3282.1976836699296,3242.858314850537,3220.8633308785193,3026.255481349025,3022.513708258377,3012.2126911205382,2973.6320705493504,2667.107857748154,2557.473422540221,2555.190387662064,2503.29772761181,2438.802228345604,1516.2812368009918],\"yaxis\":\"y\",\"type\":\"scatter\",\"textfont\":{\"size\":10},\"textposition\":\"top center\"}],                        {\"template\":{\"data\":{\"histogram2dcontour\":[{\"type\":\"histogram2dcontour\",\"colorbar\":{\"outlinewidth\":0,\"ticks\":\"\"},\"colorscale\":[[0.0,\"#0d0887\"],[0.1111111111111111,\"#46039f\"],[0.2222222222222222,\"#7201a8\"],[0.3333333333333333,\"#9c179e\"],[0.4444444444444444,\"#bd3786\"],[0.5555555555555556,\"#d8576b\"],[0.6666666666666666,\"#ed7953\"],[0.7777777777777778,\"#fb9f3a\"],[0.8888888888888888,\"#fdca26\"],[1.0,\"#f0f921\"]]}],\"choropleth\":[{\"type\":\"choropleth\",\"colorbar\":{\"outlinewidth\":0,\"ticks\":\"\"}}],\"histogram2d\":[{\"type\":\"histogram2d\",\"colorbar\":{\"outlinewidth\":0,\"ticks\":\"\"},\"colorscale\":[[0.0,\"#0d0887\"],[0.1111111111111111,\"#46039f\"],[0.2222222222222222,\"#7201a8\"],[0.3333333333333333,\"#9c179e\"],[0.4444444444444444,\"#bd3786\"],[0.5555555555555556,\"#d8576b\"],[0.6666666666666666,\"#ed7953\"],[0.7777777777777778,\"#fb9f3a\"],[0.8888888888888888,\"#fdca26\"],[1.0,\"#f0f921\"]]}],\"heatmap\":[{\"type\":\"heatmap\",\"colorbar\":{\"outlinewidth\":0,\"ticks\":\"\"},\"colorscale\":[[0.0,\"#0d0887\"],[0.1111111111111111,\"#46039f\"],[0.2222222222222222,\"#7201a8\"],[0.3333333333333333,\"#9c179e\"],[0.4444444444444444,\"#bd3786\"],[0.5555555555555556,\"#d8576b\"],[0.6666666666666666,\"#ed7953\"],[0.7777777777777778,\"#fb9f3a\"],[0.8888888888888888,\"#fdca26\"],[1.0,\"#f0f921\"]]}],\"heatmapgl\":[{\"type\":\"heatmapgl\",\"colorbar\":{\"outlinewidth\":0,\"ticks\":\"\"},\"colorscale\":[[0.0,\"#0d0887\"],[0.1111111111111111,\"#46039f\"],[0.2222222222222222,\"#7201a8\"],[0.3333333333333333,\"#9c179e\"],[0.4444444444444444,\"#bd3786\"],[0.5555555555555556,\"#d8576b\"],[0.6666666666666666,\"#ed7953\"],[0.7777777777777778,\"#fb9f3a\"],[0.8888888888888888,\"#fdca26\"],[1.0,\"#f0f921\"]]}],\"contourcarpet\":[{\"type\":\"contourcarpet\",\"colorbar\":{\"outlinewidth\":0,\"ticks\":\"\"}}],\"contour\":[{\"type\":\"contour\",\"colorbar\":{\"outlinewidth\":0,\"ticks\":\"\"},\"colorscale\":[[0.0,\"#0d0887\"],[0.1111111111111111,\"#46039f\"],[0.2222222222222222,\"#7201a8\"],[0.3333333333333333,\"#9c179e\"],[0.4444444444444444,\"#bd3786\"],[0.5555555555555556,\"#d8576b\"],[0.6666666666666666,\"#ed7953\"],[0.7777777777777778,\"#fb9f3a\"],[0.8888888888888888,\"#fdca26\"],[1.0,\"#f0f921\"]]}],\"surface\":[{\"type\":\"surface\",\"colorbar\":{\"outlinewidth\":0,\"ticks\":\"\"},\"colorscale\":[[0.0,\"#0d0887\"],[0.1111111111111111,\"#46039f\"],[0.2222222222222222,\"#7201a8\"],[0.3333333333333333,\"#9c179e\"],[0.4444444444444444,\"#bd3786\"],[0.5555555555555556,\"#d8576b\"],[0.6666666666666666,\"#ed7953\"],[0.7777777777777778,\"#fb9f3a\"],[0.8888888888888888,\"#fdca26\"],[1.0,\"#f0f921\"]]}],\"mesh3d\":[{\"type\":\"mesh3d\",\"colorbar\":{\"outlinewidth\":0,\"ticks\":\"\"}}],\"scatter\":[{\"fillpattern\":{\"fillmode\":\"overlay\",\"size\":10,\"solidity\":0.2},\"type\":\"scatter\"}],\"parcoords\":[{\"type\":\"parcoords\",\"line\":{\"colorbar\":{\"outlinewidth\":0,\"ticks\":\"\"}}}],\"scatterpolargl\":[{\"type\":\"scatterpolargl\",\"marker\":{\"colorbar\":{\"outlinewidth\":0,\"ticks\":\"\"}}}],\"bar\":[{\"error_x\":{\"color\":\"#2a3f5f\"},\"error_y\":{\"color\":\"#2a3f5f\"},\"marker\":{\"line\":{\"color\":\"#E5ECF6\",\"width\":0.5},\"pattern\":{\"fillmode\":\"overlay\",\"size\":10,\"solidity\":0.2}},\"type\":\"bar\"}],\"scattergeo\":[{\"type\":\"scattergeo\",\"marker\":{\"colorbar\":{\"outlinewidth\":0,\"ticks\":\"\"}}}],\"scatterpolar\":[{\"type\":\"scatterpolar\",\"marker\":{\"colorbar\":{\"outlinewidth\":0,\"ticks\":\"\"}}}],\"histogram\":[{\"marker\":{\"pattern\":{\"fillmode\":\"overlay\",\"size\":10,\"solidity\":0.2}},\"type\":\"histogram\"}],\"scattergl\":[{\"type\":\"scattergl\",\"marker\":{\"colorbar\":{\"outlinewidth\":0,\"ticks\":\"\"}}}],\"scatter3d\":[{\"type\":\"scatter3d\",\"line\":{\"colorbar\":{\"outlinewidth\":0,\"ticks\":\"\"}},\"marker\":{\"colorbar\":{\"outlinewidth\":0,\"ticks\":\"\"}}}],\"scattermapbox\":[{\"type\":\"scattermapbox\",\"marker\":{\"colorbar\":{\"outlinewidth\":0,\"ticks\":\"\"}}}],\"scatterternary\":[{\"type\":\"scatterternary\",\"marker\":{\"colorbar\":{\"outlinewidth\":0,\"ticks\":\"\"}}}],\"scattercarpet\":[{\"type\":\"scattercarpet\",\"marker\":{\"colorbar\":{\"outlinewidth\":0,\"ticks\":\"\"}}}],\"carpet\":[{\"aaxis\":{\"endlinecolor\":\"#2a3f5f\",\"gridcolor\":\"white\",\"linecolor\":\"white\",\"minorgridcolor\":\"white\",\"startlinecolor\":\"#2a3f5f\"},\"baxis\":{\"endlinecolor\":\"#2a3f5f\",\"gridcolor\":\"white\",\"linecolor\":\"white\",\"minorgridcolor\":\"white\",\"startlinecolor\":\"#2a3f5f\"},\"type\":\"carpet\"}],\"table\":[{\"cells\":{\"fill\":{\"color\":\"#EBF0F8\"},\"line\":{\"color\":\"white\"}},\"header\":{\"fill\":{\"color\":\"#C8D4E3\"},\"line\":{\"color\":\"white\"}},\"type\":\"table\"}],\"barpolar\":[{\"marker\":{\"line\":{\"color\":\"#E5ECF6\",\"width\":0.5},\"pattern\":{\"fillmode\":\"overlay\",\"size\":10,\"solidity\":0.2}},\"type\":\"barpolar\"}],\"pie\":[{\"automargin\":true,\"type\":\"pie\"}]},\"layout\":{\"autotypenumbers\":\"strict\",\"colorway\":[\"#636efa\",\"#EF553B\",\"#00cc96\",\"#ab63fa\",\"#FFA15A\",\"#19d3f3\",\"#FF6692\",\"#B6E880\",\"#FF97FF\",\"#FECB52\"],\"font\":{\"color\":\"#2a3f5f\"},\"hovermode\":\"closest\",\"hoverlabel\":{\"align\":\"left\"},\"paper_bgcolor\":\"white\",\"plot_bgcolor\":\"#E5ECF6\",\"polar\":{\"bgcolor\":\"#E5ECF6\",\"angularaxis\":{\"gridcolor\":\"white\",\"linecolor\":\"white\",\"ticks\":\"\"},\"radialaxis\":{\"gridcolor\":\"white\",\"linecolor\":\"white\",\"ticks\":\"\"}},\"ternary\":{\"bgcolor\":\"#E5ECF6\",\"aaxis\":{\"gridcolor\":\"white\",\"linecolor\":\"white\",\"ticks\":\"\"},\"baxis\":{\"gridcolor\":\"white\",\"linecolor\":\"white\",\"ticks\":\"\"},\"caxis\":{\"gridcolor\":\"white\",\"linecolor\":\"white\",\"ticks\":\"\"}},\"coloraxis\":{\"colorbar\":{\"outlinewidth\":0,\"ticks\":\"\"}},\"colorscale\":{\"sequential\":[[0.0,\"#0d0887\"],[0.1111111111111111,\"#46039f\"],[0.2222222222222222,\"#7201a8\"],[0.3333333333333333,\"#9c179e\"],[0.4444444444444444,\"#bd3786\"],[0.5555555555555556,\"#d8576b\"],[0.6666666666666666,\"#ed7953\"],[0.7777777777777778,\"#fb9f3a\"],[0.8888888888888888,\"#fdca26\"],[1.0,\"#f0f921\"]],\"sequentialminus\":[[0.0,\"#0d0887\"],[0.1111111111111111,\"#46039f\"],[0.2222222222222222,\"#7201a8\"],[0.3333333333333333,\"#9c179e\"],[0.4444444444444444,\"#bd3786\"],[0.5555555555555556,\"#d8576b\"],[0.6666666666666666,\"#ed7953\"],[0.7777777777777778,\"#fb9f3a\"],[0.8888888888888888,\"#fdca26\"],[1.0,\"#f0f921\"]],\"diverging\":[[0,\"#8e0152\"],[0.1,\"#c51b7d\"],[0.2,\"#de77ae\"],[0.3,\"#f1b6da\"],[0.4,\"#fde0ef\"],[0.5,\"#f7f7f7\"],[0.6,\"#e6f5d0\"],[0.7,\"#b8e186\"],[0.8,\"#7fbc41\"],[0.9,\"#4d9221\"],[1,\"#276419\"]]},\"xaxis\":{\"gridcolor\":\"white\",\"linecolor\":\"white\",\"ticks\":\"\",\"title\":{\"standoff\":15},\"zerolinecolor\":\"white\",\"automargin\":true,\"zerolinewidth\":2},\"yaxis\":{\"gridcolor\":\"white\",\"linecolor\":\"white\",\"ticks\":\"\",\"title\":{\"standoff\":15},\"zerolinecolor\":\"white\",\"automargin\":true,\"zerolinewidth\":2},\"scene\":{\"xaxis\":{\"backgroundcolor\":\"#E5ECF6\",\"gridcolor\":\"white\",\"linecolor\":\"white\",\"showbackground\":true,\"ticks\":\"\",\"zerolinecolor\":\"white\",\"gridwidth\":2},\"yaxis\":{\"backgroundcolor\":\"#E5ECF6\",\"gridcolor\":\"white\",\"linecolor\":\"white\",\"showbackground\":true,\"ticks\":\"\",\"zerolinecolor\":\"white\",\"gridwidth\":2},\"zaxis\":{\"backgroundcolor\":\"#E5ECF6\",\"gridcolor\":\"white\",\"linecolor\":\"white\",\"showbackground\":true,\"ticks\":\"\",\"zerolinecolor\":\"white\",\"gridwidth\":2}},\"shapedefaults\":{\"line\":{\"color\":\"#2a3f5f\"}},\"annotationdefaults\":{\"arrowcolor\":\"#2a3f5f\",\"arrowhead\":0,\"arrowwidth\":1},\"geo\":{\"bgcolor\":\"white\",\"landcolor\":\"#E5ECF6\",\"subunitcolor\":\"white\",\"showland\":true,\"showlakes\":true,\"lakecolor\":\"white\"},\"title\":{\"x\":0.05},\"mapbox\":{\"style\":\"light\"}}},\"xaxis\":{\"anchor\":\"y\",\"domain\":[0.0,1.0],\"title\":{\"text\":\"Superficie (ha)\"}},\"yaxis\":{\"anchor\":\"x\",\"domain\":[0.0,1.0],\"title\":{\"text\":\"Cantidad de Consultas\"}},\"legend\":{\"tracegroupgap\":0},\"title\":{\"text\":\"Relaci\\u00f3n entre Superficie de Barrios y Cantidad de Consultas\"}},                        {\"responsive\": true}                    ).then(function(){\n",
       "                            \n",
       "var gd = document.getElementById('16fd4aee-678f-46ad-bf12-8f9a1351a1f0');\n",
       "var x = new MutationObserver(function (mutations, observer) {{\n",
       "        var display = window.getComputedStyle(gd).display;\n",
       "        if (!display || display === 'none') {{\n",
       "            console.log([gd, 'removed!']);\n",
       "            Plotly.purge(gd);\n",
       "            observer.disconnect();\n",
       "        }}\n",
       "}});\n",
       "\n",
       "// Listen for the removal of the full notebook cells\n",
       "var notebookContainer = gd.closest('#notebook-container');\n",
       "if (notebookContainer) {{\n",
       "    x.observe(notebookContainer, {childList: true});\n",
       "}}\n",
       "\n",
       "// Listen for the clearing of the current output cell\n",
       "var outputEl = gd.closest('.output');\n",
       "if (outputEl) {{\n",
       "    x.observe(outputEl, {childList: true});\n",
       "}}\n",
       "\n",
       "                        })                };                });            </script>        </div>"
      ]
     },
     "metadata": {},
     "output_type": "display_data"
    }
   ],
   "source": [
    "import pandas as pd\n",
    "import plotly.express as px\n",
    "\n",
    "# Supongamos que tienes tu DataFrame llamado 'atenciones_sup_ha' con los datos\n",
    "# ... (procesa los datos como se mostró anteriormente)\n",
    "\n",
    "# Crear el gráfico de dispersión\n",
    "fig = px.scatter(atenciones_sup_ha, x='sup_ha', y='consulta_cantidad',\n",
    "                 title='Relación entre Superficie de Barrios y Cantidad de Consultas',\n",
    "                 labels={'sup_ha': 'Superficie (ha)', 'consulta_cantidad': 'Cantidad de Consultas'},\n",
    "                 trendline='ols',  # Agregar una línea de tendencia\n",
    "                 hover_data=['nombre_barrio_correcto'],  # Mostrar el nombre del barrio al pasar el mouse\n",
    "                 text='nombre_barrio_correcto'  # Mostrar el nombre del barrio en la etiqueta\n",
    "                )\n",
    "\n",
    "fig.update_xaxes(title_text='Superficie (ha)')\n",
    "fig.update_yaxes(title_text='Cantidad de Consultas')\n",
    "\n",
    "# Agregar números o valores en las etiquetas de los puntos\n",
    "fig.update_traces(textposition='top center', textfont_size=10)\n",
    "\n",
    "# Mostrar el gráfico interactivo\n",
    "fig.show()\n",
    "\n",
    "# Guardar la imagen en formato PNG para PowerPoint\n",
    "fig.write_image(\"grafico_superficie_vs_consultas_con_leyenda.png\")\n"
   ]
  },
  {
   "cell_type": "code",
   "execution_count": 176,
   "id": "cb73fcd4",
   "metadata": {},
   "outputs": [
    {
     "data": {
      "text/html": [
       "<div>\n",
       "<style scoped>\n",
       "    .dataframe tbody tr th:only-of-type {\n",
       "        vertical-align: middle;\n",
       "    }\n",
       "\n",
       "    .dataframe tbody tr th {\n",
       "        vertical-align: top;\n",
       "    }\n",
       "\n",
       "    .dataframe thead th {\n",
       "        text-align: right;\n",
       "    }\n",
       "</style>\n",
       "<table border=\"1\" class=\"dataframe\">\n",
       "  <thead>\n",
       "    <tr style=\"text-align: right;\">\n",
       "      <th></th>\n",
       "      <th>nombre_barrio_correcto</th>\n",
       "      <th>consulta_cantidad</th>\n",
       "      <th>sup_ha</th>\n",
       "      <th>consultas_por_ha</th>\n",
       "      <th>barrio_popular</th>\n",
       "    </tr>\n",
       "  </thead>\n",
       "  <tbody>\n",
       "    <tr>\n",
       "      <th>0</th>\n",
       "      <td>3 DE ABRIL</td>\n",
       "      <td>3215.0</td>\n",
       "      <td>111.521732</td>\n",
       "      <td>28.828462</td>\n",
       "      <td>si</td>\n",
       "    </tr>\n",
       "    <tr>\n",
       "      <th>1</th>\n",
       "      <td>ANAHI</td>\n",
       "      <td>2154.0</td>\n",
       "      <td>102.603897</td>\n",
       "      <td>20.993355</td>\n",
       "      <td>no</td>\n",
       "    </tr>\n",
       "    <tr>\n",
       "      <th>2</th>\n",
       "      <td>CICHERO</td>\n",
       "      <td>1356.0</td>\n",
       "      <td>7.745175</td>\n",
       "      <td>175.076746</td>\n",
       "      <td>si</td>\n",
       "    </tr>\n",
       "    <tr>\n",
       "      <th>3</th>\n",
       "      <td>ESPERANZA</td>\n",
       "      <td>3359.0</td>\n",
       "      <td>57.560568</td>\n",
       "      <td>58.355922</td>\n",
       "      <td>si</td>\n",
       "    </tr>\n",
       "    <tr>\n",
       "      <th>4</th>\n",
       "      <td>GUEMES TRADICIONAL</td>\n",
       "      <td>1237.0</td>\n",
       "      <td>19.731018</td>\n",
       "      <td>62.693166</td>\n",
       "      <td>no</td>\n",
       "    </tr>\n",
       "    <tr>\n",
       "      <th>5</th>\n",
       "      <td>INDEPENDENCIA</td>\n",
       "      <td>2483.0</td>\n",
       "      <td>55.771462</td>\n",
       "      <td>44.520978</td>\n",
       "      <td>si</td>\n",
       "    </tr>\n",
       "    <tr>\n",
       "      <th>6</th>\n",
       "      <td>LOMAS</td>\n",
       "      <td>619.0</td>\n",
       "      <td>48.260038</td>\n",
       "      <td>12.826347</td>\n",
       "      <td>no</td>\n",
       "    </tr>\n",
       "    <tr>\n",
       "      <th>7</th>\n",
       "      <td>LOMAS DEL MIRADOR</td>\n",
       "      <td>6220.0</td>\n",
       "      <td>39.008708</td>\n",
       "      <td>159.451575</td>\n",
       "      <td>si</td>\n",
       "    </tr>\n",
       "    <tr>\n",
       "      <th>8</th>\n",
       "      <td>NIÑO JESUS</td>\n",
       "      <td>2278.0</td>\n",
       "      <td>52.571536</td>\n",
       "      <td>43.331433</td>\n",
       "      <td>no</td>\n",
       "    </tr>\n",
       "    <tr>\n",
       "      <th>9</th>\n",
       "      <td>NTRA SRA DE LA ASUNCION</td>\n",
       "      <td>712.0</td>\n",
       "      <td>73.694634</td>\n",
       "      <td>9.661490</td>\n",
       "      <td>si</td>\n",
       "    </tr>\n",
       "    <tr>\n",
       "      <th>10</th>\n",
       "      <td>PARQUE CADENA NORTE</td>\n",
       "      <td>4337.0</td>\n",
       "      <td>32.760741</td>\n",
       "      <td>132.384062</td>\n",
       "      <td>no</td>\n",
       "    </tr>\n",
       "    <tr>\n",
       "      <th>11</th>\n",
       "      <td>PASO MARTINEZ</td>\n",
       "      <td>427.0</td>\n",
       "      <td>196.213921</td>\n",
       "      <td>2.176196</td>\n",
       "      <td>no</td>\n",
       "    </tr>\n",
       "    <tr>\n",
       "      <th>12</th>\n",
       "      <td>PEDRO FERRE</td>\n",
       "      <td>8026.0</td>\n",
       "      <td>5.751110</td>\n",
       "      <td>1395.556643</td>\n",
       "      <td>no</td>\n",
       "    </tr>\n",
       "    <tr>\n",
       "      <th>13</th>\n",
       "      <td>PIRAYUI</td>\n",
       "      <td>3683.0</td>\n",
       "      <td>115.928467</td>\n",
       "      <td>31.769591</td>\n",
       "      <td>no</td>\n",
       "    </tr>\n",
       "    <tr>\n",
       "      <th>14</th>\n",
       "      <td>PLACIDO MARTINEZ</td>\n",
       "      <td>5026.0</td>\n",
       "      <td>22.511038</td>\n",
       "      <td>223.268252</td>\n",
       "      <td>si</td>\n",
       "    </tr>\n",
       "    <tr>\n",
       "      <th>15</th>\n",
       "      <td>PRIMERA JUNTA</td>\n",
       "      <td>1685.0</td>\n",
       "      <td>24.701800</td>\n",
       "      <td>68.213653</td>\n",
       "      <td>no</td>\n",
       "    </tr>\n",
       "    <tr>\n",
       "      <th>16</th>\n",
       "      <td>QUINTA FERRE</td>\n",
       "      <td>1698.0</td>\n",
       "      <td>23.423022</td>\n",
       "      <td>72.492781</td>\n",
       "      <td>si</td>\n",
       "    </tr>\n",
       "    <tr>\n",
       "      <th>17</th>\n",
       "      <td>RIO PARANA</td>\n",
       "      <td>3654.0</td>\n",
       "      <td>121.174631</td>\n",
       "      <td>30.154827</td>\n",
       "      <td>si</td>\n",
       "    </tr>\n",
       "    <tr>\n",
       "      <th>18</th>\n",
       "      <td>SAN ANTONIO</td>\n",
       "      <td>10325.0</td>\n",
       "      <td>74.532534</td>\n",
       "      <td>138.530107</td>\n",
       "      <td>si</td>\n",
       "    </tr>\n",
       "    <tr>\n",
       "      <th>19</th>\n",
       "      <td>SAN GERONIMO</td>\n",
       "      <td>3270.0</td>\n",
       "      <td>77.670742</td>\n",
       "      <td>42.100795</td>\n",
       "      <td>no</td>\n",
       "    </tr>\n",
       "    <tr>\n",
       "      <th>20</th>\n",
       "      <td>SAN MARCOS</td>\n",
       "      <td>1262.0</td>\n",
       "      <td>13.967420</td>\n",
       "      <td>90.353125</td>\n",
       "      <td>no</td>\n",
       "    </tr>\n",
       "    <tr>\n",
       "      <th>21</th>\n",
       "      <td>SANTA MARGARITA</td>\n",
       "      <td>81.0</td>\n",
       "      <td>73.390272</td>\n",
       "      <td>1.103689</td>\n",
       "      <td>si</td>\n",
       "    </tr>\n",
       "    <tr>\n",
       "      <th>22</th>\n",
       "      <td>SANTA RITA NORTE</td>\n",
       "      <td>4479.0</td>\n",
       "      <td>19.429034</td>\n",
       "      <td>230.531280</td>\n",
       "      <td>si</td>\n",
       "    </tr>\n",
       "    <tr>\n",
       "      <th>23</th>\n",
       "      <td>VICTOR COLAS</td>\n",
       "      <td>8502.0</td>\n",
       "      <td>41.157373</td>\n",
       "      <td>206.572949</td>\n",
       "      <td>no</td>\n",
       "    </tr>\n",
       "    <tr>\n",
       "      <th>24</th>\n",
       "      <td>VILLA ONGAY</td>\n",
       "      <td>3426.0</td>\n",
       "      <td>44.423311</td>\n",
       "      <td>77.121672</td>\n",
       "      <td>si</td>\n",
       "    </tr>\n",
       "    <tr>\n",
       "      <th>25</th>\n",
       "      <td>VILLA PATONO</td>\n",
       "      <td>186.0</td>\n",
       "      <td>111.707438</td>\n",
       "      <td>1.665064</td>\n",
       "      <td>si</td>\n",
       "    </tr>\n",
       "    <tr>\n",
       "      <th>26</th>\n",
       "      <td>VIRGEN DE LOS DOLORES</td>\n",
       "      <td>2957.0</td>\n",
       "      <td>11.839430</td>\n",
       "      <td>249.758642</td>\n",
       "      <td>si</td>\n",
       "    </tr>\n",
       "  </tbody>\n",
       "</table>\n",
       "</div>"
      ],
      "text/plain": [
       "     nombre_barrio_correcto  consulta_cantidad      sup_ha  consultas_por_ha  \\\n",
       "0                3 DE ABRIL             3215.0  111.521732         28.828462   \n",
       "1                     ANAHI             2154.0  102.603897         20.993355   \n",
       "2                   CICHERO             1356.0    7.745175        175.076746   \n",
       "3                 ESPERANZA             3359.0   57.560568         58.355922   \n",
       "4        GUEMES TRADICIONAL             1237.0   19.731018         62.693166   \n",
       "5             INDEPENDENCIA             2483.0   55.771462         44.520978   \n",
       "6                     LOMAS              619.0   48.260038         12.826347   \n",
       "7         LOMAS DEL MIRADOR             6220.0   39.008708        159.451575   \n",
       "8                NIÑO JESUS             2278.0   52.571536         43.331433   \n",
       "9   NTRA SRA DE LA ASUNCION              712.0   73.694634          9.661490   \n",
       "10      PARQUE CADENA NORTE             4337.0   32.760741        132.384062   \n",
       "11            PASO MARTINEZ              427.0  196.213921          2.176196   \n",
       "12              PEDRO FERRE             8026.0    5.751110       1395.556643   \n",
       "13                  PIRAYUI             3683.0  115.928467         31.769591   \n",
       "14         PLACIDO MARTINEZ             5026.0   22.511038        223.268252   \n",
       "15            PRIMERA JUNTA             1685.0   24.701800         68.213653   \n",
       "16             QUINTA FERRE             1698.0   23.423022         72.492781   \n",
       "17               RIO PARANA             3654.0  121.174631         30.154827   \n",
       "18              SAN ANTONIO            10325.0   74.532534        138.530107   \n",
       "19             SAN GERONIMO             3270.0   77.670742         42.100795   \n",
       "20               SAN MARCOS             1262.0   13.967420         90.353125   \n",
       "21          SANTA MARGARITA               81.0   73.390272          1.103689   \n",
       "22         SANTA RITA NORTE             4479.0   19.429034        230.531280   \n",
       "23             VICTOR COLAS             8502.0   41.157373        206.572949   \n",
       "24              VILLA ONGAY             3426.0   44.423311         77.121672   \n",
       "25             VILLA PATONO              186.0  111.707438          1.665064   \n",
       "26    VIRGEN DE LOS DOLORES             2957.0   11.839430        249.758642   \n",
       "\n",
       "   barrio_popular  \n",
       "0              si  \n",
       "1              no  \n",
       "2              si  \n",
       "3              si  \n",
       "4              no  \n",
       "5              si  \n",
       "6              no  \n",
       "7              si  \n",
       "8              no  \n",
       "9              si  \n",
       "10             no  \n",
       "11             no  \n",
       "12             no  \n",
       "13             no  \n",
       "14             si  \n",
       "15             no  \n",
       "16             si  \n",
       "17             si  \n",
       "18             si  \n",
       "19             no  \n",
       "20             no  \n",
       "21             si  \n",
       "22             si  \n",
       "23             no  \n",
       "24             si  \n",
       "25             si  \n",
       "26             si  "
      ]
     },
     "execution_count": 176,
     "metadata": {},
     "output_type": "execute_result"
    }
   ],
   "source": [
    "# Eliminar duplicados en df en función de la columna 'nombre_barrio_correcto'\n",
    "df_sin_duplicados = df.drop_duplicates(subset='nombre_barrio_correcto')\n",
    "\n",
    "# Realizar una combinación entre atenciones_sup_ha y df_sin_duplicados\n",
    "atenciones_sup_ha_con_popularidad = atenciones_sup_ha.merge(df_sin_duplicados[['nombre_barrio_correcto', 'barrio_popular']], on='nombre_barrio_correcto')\n",
    "\n",
    "# Mostrar la tabla resultante\n",
    "atenciones_sup_ha_con_popularidad"
   ]
  },
  {
   "cell_type": "code",
   "execution_count": 184,
   "id": "4d993562",
   "metadata": {},
   "outputs": [
    {
     "data": {
      "application/vnd.plotly.v1+json": {
       "config": {
        "plotlyServerURL": "https://plot.ly"
       },
       "data": [
        {
         "alignmentgroup": "True",
         "hovertemplate": "Barrios=%{x}<br>Consultas por Hectárea=%{text}<extra></extra>",
         "legendgroup": "",
         "marker": {
          "color": "#636efa",
          "pattern": {
           "shape": ""
          }
         },
         "name": "",
         "offsetgroup": "",
         "orientation": "v",
         "showlegend": false,
         "text": [
          249.75864188909694,
          230.5312797056558,
          223.26825199868964,
          175.07674634427727,
          159.45157480911004,
          138.5301072967712,
          77.12167210316528,
          72.49278128475126,
          58.355922068464864,
          44.52097779631578,
          30.15482661497083,
          28.828461804659398,
          9.66149044477435,
          1.665063701187976,
          1.10368850854625
         ],
         "textposition": "inside",
         "texttemplate": "%{text:.2s}",
         "type": "bar",
         "x": [
          "VIRGEN DE LOS DOLORES",
          "SANTA RITA NORTE",
          "PLACIDO MARTINEZ",
          "CICHERO",
          "LOMAS DEL MIRADOR",
          "SAN ANTONIO",
          "VILLA ONGAY",
          "QUINTA FERRE",
          "ESPERANZA",
          "INDEPENDENCIA",
          "RIO PARANA",
          "3 DE ABRIL",
          "NTRA SRA DE LA ASUNCION",
          "VILLA PATONO",
          "SANTA MARGARITA"
         ],
         "xaxis": "x",
         "y": [
          249.75864188909694,
          230.5312797056558,
          223.26825199868964,
          175.07674634427727,
          159.45157480911004,
          138.5301072967712,
          77.12167210316528,
          72.49278128475126,
          58.355922068464864,
          44.52097779631578,
          30.15482661497083,
          28.828461804659398,
          9.66149044477435,
          1.665063701187976,
          1.10368850854625
         ],
         "yaxis": "y"
        },
        {
         "alignmentgroup": "True",
         "hovertemplate": "nombre_barrio_correcto=%{x}<br>consultas_por_ha=%{y}<extra></extra>",
         "legendgroup": "",
         "marker": {
          "color": "#636efa",
          "pattern": {
           "shape": ""
          }
         },
         "name": "",
         "offsetgroup": "",
         "orientation": "v",
         "showlegend": false,
         "textposition": "inside",
         "texttemplate": "%{text:.2s}",
         "type": "bar",
         "x": [
          "PEDRO FERRE",
          "VICTOR COLAS",
          "PARQUE CADENA NORTE",
          "SAN MARCOS",
          "PRIMERA JUNTA",
          "GUEMES TRADICIONAL",
          "NIÑO JESUS",
          "SAN GERONIMO",
          "PIRAYUI",
          "ANAHI",
          "LOMAS",
          "PASO MARTINEZ"
         ],
         "xaxis": "x",
         "y": [
          1395.5566428308496,
          206.57294873778056,
          132.3840623794923,
          90.353124611086,
          68.21365286060319,
          62.69316619122364,
          43.33143301919881,
          42.10079515290286,
          31.76959104697006,
          20.99335462668956,
          12.826347169384505,
          2.1761962602444407
         ],
         "yaxis": "y"
        }
       ],
       "layout": {
        "barmode": "relative",
        "height": 400,
        "legend": {
         "tracegroupgap": 0
        },
        "template": {
         "data": {
          "bar": [
           {
            "error_x": {
             "color": "#2a3f5f"
            },
            "error_y": {
             "color": "#2a3f5f"
            },
            "marker": {
             "line": {
              "color": "#E5ECF6",
              "width": 0.5
             },
             "pattern": {
              "fillmode": "overlay",
              "size": 10,
              "solidity": 0.2
             }
            },
            "type": "bar"
           }
          ],
          "barpolar": [
           {
            "marker": {
             "line": {
              "color": "#E5ECF6",
              "width": 0.5
             },
             "pattern": {
              "fillmode": "overlay",
              "size": 10,
              "solidity": 0.2
             }
            },
            "type": "barpolar"
           }
          ],
          "carpet": [
           {
            "aaxis": {
             "endlinecolor": "#2a3f5f",
             "gridcolor": "white",
             "linecolor": "white",
             "minorgridcolor": "white",
             "startlinecolor": "#2a3f5f"
            },
            "baxis": {
             "endlinecolor": "#2a3f5f",
             "gridcolor": "white",
             "linecolor": "white",
             "minorgridcolor": "white",
             "startlinecolor": "#2a3f5f"
            },
            "type": "carpet"
           }
          ],
          "choropleth": [
           {
            "colorbar": {
             "outlinewidth": 0,
             "ticks": ""
            },
            "type": "choropleth"
           }
          ],
          "contour": [
           {
            "colorbar": {
             "outlinewidth": 0,
             "ticks": ""
            },
            "colorscale": [
             [
              0,
              "#0d0887"
             ],
             [
              0.1111111111111111,
              "#46039f"
             ],
             [
              0.2222222222222222,
              "#7201a8"
             ],
             [
              0.3333333333333333,
              "#9c179e"
             ],
             [
              0.4444444444444444,
              "#bd3786"
             ],
             [
              0.5555555555555556,
              "#d8576b"
             ],
             [
              0.6666666666666666,
              "#ed7953"
             ],
             [
              0.7777777777777778,
              "#fb9f3a"
             ],
             [
              0.8888888888888888,
              "#fdca26"
             ],
             [
              1,
              "#f0f921"
             ]
            ],
            "type": "contour"
           }
          ],
          "contourcarpet": [
           {
            "colorbar": {
             "outlinewidth": 0,
             "ticks": ""
            },
            "type": "contourcarpet"
           }
          ],
          "heatmap": [
           {
            "colorbar": {
             "outlinewidth": 0,
             "ticks": ""
            },
            "colorscale": [
             [
              0,
              "#0d0887"
             ],
             [
              0.1111111111111111,
              "#46039f"
             ],
             [
              0.2222222222222222,
              "#7201a8"
             ],
             [
              0.3333333333333333,
              "#9c179e"
             ],
             [
              0.4444444444444444,
              "#bd3786"
             ],
             [
              0.5555555555555556,
              "#d8576b"
             ],
             [
              0.6666666666666666,
              "#ed7953"
             ],
             [
              0.7777777777777778,
              "#fb9f3a"
             ],
             [
              0.8888888888888888,
              "#fdca26"
             ],
             [
              1,
              "#f0f921"
             ]
            ],
            "type": "heatmap"
           }
          ],
          "heatmapgl": [
           {
            "colorbar": {
             "outlinewidth": 0,
             "ticks": ""
            },
            "colorscale": [
             [
              0,
              "#0d0887"
             ],
             [
              0.1111111111111111,
              "#46039f"
             ],
             [
              0.2222222222222222,
              "#7201a8"
             ],
             [
              0.3333333333333333,
              "#9c179e"
             ],
             [
              0.4444444444444444,
              "#bd3786"
             ],
             [
              0.5555555555555556,
              "#d8576b"
             ],
             [
              0.6666666666666666,
              "#ed7953"
             ],
             [
              0.7777777777777778,
              "#fb9f3a"
             ],
             [
              0.8888888888888888,
              "#fdca26"
             ],
             [
              1,
              "#f0f921"
             ]
            ],
            "type": "heatmapgl"
           }
          ],
          "histogram": [
           {
            "marker": {
             "pattern": {
              "fillmode": "overlay",
              "size": 10,
              "solidity": 0.2
             }
            },
            "type": "histogram"
           }
          ],
          "histogram2d": [
           {
            "colorbar": {
             "outlinewidth": 0,
             "ticks": ""
            },
            "colorscale": [
             [
              0,
              "#0d0887"
             ],
             [
              0.1111111111111111,
              "#46039f"
             ],
             [
              0.2222222222222222,
              "#7201a8"
             ],
             [
              0.3333333333333333,
              "#9c179e"
             ],
             [
              0.4444444444444444,
              "#bd3786"
             ],
             [
              0.5555555555555556,
              "#d8576b"
             ],
             [
              0.6666666666666666,
              "#ed7953"
             ],
             [
              0.7777777777777778,
              "#fb9f3a"
             ],
             [
              0.8888888888888888,
              "#fdca26"
             ],
             [
              1,
              "#f0f921"
             ]
            ],
            "type": "histogram2d"
           }
          ],
          "histogram2dcontour": [
           {
            "colorbar": {
             "outlinewidth": 0,
             "ticks": ""
            },
            "colorscale": [
             [
              0,
              "#0d0887"
             ],
             [
              0.1111111111111111,
              "#46039f"
             ],
             [
              0.2222222222222222,
              "#7201a8"
             ],
             [
              0.3333333333333333,
              "#9c179e"
             ],
             [
              0.4444444444444444,
              "#bd3786"
             ],
             [
              0.5555555555555556,
              "#d8576b"
             ],
             [
              0.6666666666666666,
              "#ed7953"
             ],
             [
              0.7777777777777778,
              "#fb9f3a"
             ],
             [
              0.8888888888888888,
              "#fdca26"
             ],
             [
              1,
              "#f0f921"
             ]
            ],
            "type": "histogram2dcontour"
           }
          ],
          "mesh3d": [
           {
            "colorbar": {
             "outlinewidth": 0,
             "ticks": ""
            },
            "type": "mesh3d"
           }
          ],
          "parcoords": [
           {
            "line": {
             "colorbar": {
              "outlinewidth": 0,
              "ticks": ""
             }
            },
            "type": "parcoords"
           }
          ],
          "pie": [
           {
            "automargin": true,
            "type": "pie"
           }
          ],
          "scatter": [
           {
            "fillpattern": {
             "fillmode": "overlay",
             "size": 10,
             "solidity": 0.2
            },
            "type": "scatter"
           }
          ],
          "scatter3d": [
           {
            "line": {
             "colorbar": {
              "outlinewidth": 0,
              "ticks": ""
             }
            },
            "marker": {
             "colorbar": {
              "outlinewidth": 0,
              "ticks": ""
             }
            },
            "type": "scatter3d"
           }
          ],
          "scattercarpet": [
           {
            "marker": {
             "colorbar": {
              "outlinewidth": 0,
              "ticks": ""
             }
            },
            "type": "scattercarpet"
           }
          ],
          "scattergeo": [
           {
            "marker": {
             "colorbar": {
              "outlinewidth": 0,
              "ticks": ""
             }
            },
            "type": "scattergeo"
           }
          ],
          "scattergl": [
           {
            "marker": {
             "colorbar": {
              "outlinewidth": 0,
              "ticks": ""
             }
            },
            "type": "scattergl"
           }
          ],
          "scattermapbox": [
           {
            "marker": {
             "colorbar": {
              "outlinewidth": 0,
              "ticks": ""
             }
            },
            "type": "scattermapbox"
           }
          ],
          "scatterpolar": [
           {
            "marker": {
             "colorbar": {
              "outlinewidth": 0,
              "ticks": ""
             }
            },
            "type": "scatterpolar"
           }
          ],
          "scatterpolargl": [
           {
            "marker": {
             "colorbar": {
              "outlinewidth": 0,
              "ticks": ""
             }
            },
            "type": "scatterpolargl"
           }
          ],
          "scatterternary": [
           {
            "marker": {
             "colorbar": {
              "outlinewidth": 0,
              "ticks": ""
             }
            },
            "type": "scatterternary"
           }
          ],
          "surface": [
           {
            "colorbar": {
             "outlinewidth": 0,
             "ticks": ""
            },
            "colorscale": [
             [
              0,
              "#0d0887"
             ],
             [
              0.1111111111111111,
              "#46039f"
             ],
             [
              0.2222222222222222,
              "#7201a8"
             ],
             [
              0.3333333333333333,
              "#9c179e"
             ],
             [
              0.4444444444444444,
              "#bd3786"
             ],
             [
              0.5555555555555556,
              "#d8576b"
             ],
             [
              0.6666666666666666,
              "#ed7953"
             ],
             [
              0.7777777777777778,
              "#fb9f3a"
             ],
             [
              0.8888888888888888,
              "#fdca26"
             ],
             [
              1,
              "#f0f921"
             ]
            ],
            "type": "surface"
           }
          ],
          "table": [
           {
            "cells": {
             "fill": {
              "color": "#EBF0F8"
             },
             "line": {
              "color": "white"
             }
            },
            "header": {
             "fill": {
              "color": "#C8D4E3"
             },
             "line": {
              "color": "white"
             }
            },
            "type": "table"
           }
          ]
         },
         "layout": {
          "annotationdefaults": {
           "arrowcolor": "#2a3f5f",
           "arrowhead": 0,
           "arrowwidth": 1
          },
          "autotypenumbers": "strict",
          "coloraxis": {
           "colorbar": {
            "outlinewidth": 0,
            "ticks": ""
           }
          },
          "colorscale": {
           "diverging": [
            [
             0,
             "#8e0152"
            ],
            [
             0.1,
             "#c51b7d"
            ],
            [
             0.2,
             "#de77ae"
            ],
            [
             0.3,
             "#f1b6da"
            ],
            [
             0.4,
             "#fde0ef"
            ],
            [
             0.5,
             "#f7f7f7"
            ],
            [
             0.6,
             "#e6f5d0"
            ],
            [
             0.7,
             "#b8e186"
            ],
            [
             0.8,
             "#7fbc41"
            ],
            [
             0.9,
             "#4d9221"
            ],
            [
             1,
             "#276419"
            ]
           ],
           "sequential": [
            [
             0,
             "#0d0887"
            ],
            [
             0.1111111111111111,
             "#46039f"
            ],
            [
             0.2222222222222222,
             "#7201a8"
            ],
            [
             0.3333333333333333,
             "#9c179e"
            ],
            [
             0.4444444444444444,
             "#bd3786"
            ],
            [
             0.5555555555555556,
             "#d8576b"
            ],
            [
             0.6666666666666666,
             "#ed7953"
            ],
            [
             0.7777777777777778,
             "#fb9f3a"
            ],
            [
             0.8888888888888888,
             "#fdca26"
            ],
            [
             1,
             "#f0f921"
            ]
           ],
           "sequentialminus": [
            [
             0,
             "#0d0887"
            ],
            [
             0.1111111111111111,
             "#46039f"
            ],
            [
             0.2222222222222222,
             "#7201a8"
            ],
            [
             0.3333333333333333,
             "#9c179e"
            ],
            [
             0.4444444444444444,
             "#bd3786"
            ],
            [
             0.5555555555555556,
             "#d8576b"
            ],
            [
             0.6666666666666666,
             "#ed7953"
            ],
            [
             0.7777777777777778,
             "#fb9f3a"
            ],
            [
             0.8888888888888888,
             "#fdca26"
            ],
            [
             1,
             "#f0f921"
            ]
           ]
          },
          "colorway": [
           "#636efa",
           "#EF553B",
           "#00cc96",
           "#ab63fa",
           "#FFA15A",
           "#19d3f3",
           "#FF6692",
           "#B6E880",
           "#FF97FF",
           "#FECB52"
          ],
          "font": {
           "color": "#2a3f5f"
          },
          "geo": {
           "bgcolor": "white",
           "lakecolor": "white",
           "landcolor": "#E5ECF6",
           "showlakes": true,
           "showland": true,
           "subunitcolor": "white"
          },
          "hoverlabel": {
           "align": "left"
          },
          "hovermode": "closest",
          "mapbox": {
           "style": "light"
          },
          "paper_bgcolor": "white",
          "plot_bgcolor": "#E5ECF6",
          "polar": {
           "angularaxis": {
            "gridcolor": "white",
            "linecolor": "white",
            "ticks": ""
           },
           "bgcolor": "#E5ECF6",
           "radialaxis": {
            "gridcolor": "white",
            "linecolor": "white",
            "ticks": ""
           }
          },
          "scene": {
           "xaxis": {
            "backgroundcolor": "#E5ECF6",
            "gridcolor": "white",
            "gridwidth": 2,
            "linecolor": "white",
            "showbackground": true,
            "ticks": "",
            "zerolinecolor": "white"
           },
           "yaxis": {
            "backgroundcolor": "#E5ECF6",
            "gridcolor": "white",
            "gridwidth": 2,
            "linecolor": "white",
            "showbackground": true,
            "ticks": "",
            "zerolinecolor": "white"
           },
           "zaxis": {
            "backgroundcolor": "#E5ECF6",
            "gridcolor": "white",
            "gridwidth": 2,
            "linecolor": "white",
            "showbackground": true,
            "ticks": "",
            "zerolinecolor": "white"
           }
          },
          "shapedefaults": {
           "line": {
            "color": "#2a3f5f"
           }
          },
          "ternary": {
           "aaxis": {
            "gridcolor": "white",
            "linecolor": "white",
            "ticks": ""
           },
           "baxis": {
            "gridcolor": "white",
            "linecolor": "white",
            "ticks": ""
           },
           "bgcolor": "#E5ECF6",
           "caxis": {
            "gridcolor": "white",
            "linecolor": "white",
            "ticks": ""
           }
          },
          "title": {
           "x": 0.05
          },
          "xaxis": {
           "automargin": true,
           "gridcolor": "white",
           "linecolor": "white",
           "ticks": "",
           "title": {
            "standoff": 15
           },
           "zerolinecolor": "white",
           "zerolinewidth": 2
          },
          "yaxis": {
           "automargin": true,
           "gridcolor": "white",
           "linecolor": "white",
           "ticks": "",
           "title": {
            "standoff": 15
           },
           "zerolinecolor": "white",
           "zerolinewidth": 2
          }
         }
        },
        "title": {
         "text": "Consultas por Hectárea en Barrios Populares"
        },
        "xaxis": {
         "anchor": "y",
         "domain": [
          0,
          1
         ],
         "title": {
          "text": "Barrios"
         }
        },
        "yaxis": {
         "anchor": "x",
         "domain": [
          0,
          1
         ],
         "title": {
          "text": "Consultas por Hectárea"
         }
        }
       }
      },
      "text/html": [
       "<div>                            <div id=\"7eb524cd-160b-45e4-ae09-9456fce62c0e\" class=\"plotly-graph-div\" style=\"height:400px; width:100%;\"></div>            <script type=\"text/javascript\">                require([\"plotly\"], function(Plotly) {                    window.PLOTLYENV=window.PLOTLYENV || {};                                    if (document.getElementById(\"7eb524cd-160b-45e4-ae09-9456fce62c0e\")) {                    Plotly.newPlot(                        \"7eb524cd-160b-45e4-ae09-9456fce62c0e\",                        [{\"alignmentgroup\":\"True\",\"hovertemplate\":\"Barrios=%{x}<br>Consultas por Hect\\u00e1rea=%{text}<extra></extra>\",\"legendgroup\":\"\",\"marker\":{\"color\":\"#636efa\",\"pattern\":{\"shape\":\"\"}},\"name\":\"\",\"offsetgroup\":\"\",\"orientation\":\"v\",\"showlegend\":false,\"text\":[249.75864188909694,230.5312797056558,223.26825199868964,175.07674634427727,159.45157480911004,138.5301072967712,77.12167210316528,72.49278128475126,58.355922068464864,44.52097779631578,30.15482661497083,28.828461804659398,9.66149044477435,1.665063701187976,1.10368850854625],\"textposition\":\"inside\",\"x\":[\"VIRGEN DE LOS DOLORES\",\"SANTA RITA NORTE\",\"PLACIDO MARTINEZ\",\"CICHERO\",\"LOMAS DEL MIRADOR\",\"SAN ANTONIO\",\"VILLA ONGAY\",\"QUINTA FERRE\",\"ESPERANZA\",\"INDEPENDENCIA\",\"RIO PARANA\",\"3 DE ABRIL\",\"NTRA SRA DE LA ASUNCION\",\"VILLA PATONO\",\"SANTA MARGARITA\"],\"xaxis\":\"x\",\"y\":[249.75864188909694,230.5312797056558,223.26825199868964,175.07674634427727,159.45157480911004,138.5301072967712,77.12167210316528,72.49278128475126,58.355922068464864,44.52097779631578,30.15482661497083,28.828461804659398,9.66149044477435,1.665063701187976,1.10368850854625],\"yaxis\":\"y\",\"type\":\"bar\",\"texttemplate\":\"%{text:.2s}\"},{\"alignmentgroup\":\"True\",\"hovertemplate\":\"nombre_barrio_correcto=%{x}<br>consultas_por_ha=%{y}<extra></extra>\",\"legendgroup\":\"\",\"marker\":{\"color\":\"#636efa\",\"pattern\":{\"shape\":\"\"}},\"name\":\"\",\"offsetgroup\":\"\",\"orientation\":\"v\",\"showlegend\":false,\"textposition\":\"inside\",\"x\":[\"PEDRO FERRE\",\"VICTOR COLAS\",\"PARQUE CADENA NORTE\",\"SAN MARCOS\",\"PRIMERA JUNTA\",\"GUEMES TRADICIONAL\",\"NI\\u00d1O JESUS\",\"SAN GERONIMO\",\"PIRAYUI\",\"ANAHI\",\"LOMAS\",\"PASO MARTINEZ\"],\"xaxis\":\"x\",\"y\":[1395.5566428308496,206.57294873778056,132.3840623794923,90.353124611086,68.21365286060319,62.69316619122364,43.33143301919881,42.10079515290286,31.76959104697006,20.99335462668956,12.826347169384505,2.1761962602444407],\"yaxis\":\"y\",\"type\":\"bar\",\"texttemplate\":\"%{text:.2s}\"}],                        {\"template\":{\"data\":{\"histogram2dcontour\":[{\"type\":\"histogram2dcontour\",\"colorbar\":{\"outlinewidth\":0,\"ticks\":\"\"},\"colorscale\":[[0.0,\"#0d0887\"],[0.1111111111111111,\"#46039f\"],[0.2222222222222222,\"#7201a8\"],[0.3333333333333333,\"#9c179e\"],[0.4444444444444444,\"#bd3786\"],[0.5555555555555556,\"#d8576b\"],[0.6666666666666666,\"#ed7953\"],[0.7777777777777778,\"#fb9f3a\"],[0.8888888888888888,\"#fdca26\"],[1.0,\"#f0f921\"]]}],\"choropleth\":[{\"type\":\"choropleth\",\"colorbar\":{\"outlinewidth\":0,\"ticks\":\"\"}}],\"histogram2d\":[{\"type\":\"histogram2d\",\"colorbar\":{\"outlinewidth\":0,\"ticks\":\"\"},\"colorscale\":[[0.0,\"#0d0887\"],[0.1111111111111111,\"#46039f\"],[0.2222222222222222,\"#7201a8\"],[0.3333333333333333,\"#9c179e\"],[0.4444444444444444,\"#bd3786\"],[0.5555555555555556,\"#d8576b\"],[0.6666666666666666,\"#ed7953\"],[0.7777777777777778,\"#fb9f3a\"],[0.8888888888888888,\"#fdca26\"],[1.0,\"#f0f921\"]]}],\"heatmap\":[{\"type\":\"heatmap\",\"colorbar\":{\"outlinewidth\":0,\"ticks\":\"\"},\"colorscale\":[[0.0,\"#0d0887\"],[0.1111111111111111,\"#46039f\"],[0.2222222222222222,\"#7201a8\"],[0.3333333333333333,\"#9c179e\"],[0.4444444444444444,\"#bd3786\"],[0.5555555555555556,\"#d8576b\"],[0.6666666666666666,\"#ed7953\"],[0.7777777777777778,\"#fb9f3a\"],[0.8888888888888888,\"#fdca26\"],[1.0,\"#f0f921\"]]}],\"heatmapgl\":[{\"type\":\"heatmapgl\",\"colorbar\":{\"outlinewidth\":0,\"ticks\":\"\"},\"colorscale\":[[0.0,\"#0d0887\"],[0.1111111111111111,\"#46039f\"],[0.2222222222222222,\"#7201a8\"],[0.3333333333333333,\"#9c179e\"],[0.4444444444444444,\"#bd3786\"],[0.5555555555555556,\"#d8576b\"],[0.6666666666666666,\"#ed7953\"],[0.7777777777777778,\"#fb9f3a\"],[0.8888888888888888,\"#fdca26\"],[1.0,\"#f0f921\"]]}],\"contourcarpet\":[{\"type\":\"contourcarpet\",\"colorbar\":{\"outlinewidth\":0,\"ticks\":\"\"}}],\"contour\":[{\"type\":\"contour\",\"colorbar\":{\"outlinewidth\":0,\"ticks\":\"\"},\"colorscale\":[[0.0,\"#0d0887\"],[0.1111111111111111,\"#46039f\"],[0.2222222222222222,\"#7201a8\"],[0.3333333333333333,\"#9c179e\"],[0.4444444444444444,\"#bd3786\"],[0.5555555555555556,\"#d8576b\"],[0.6666666666666666,\"#ed7953\"],[0.7777777777777778,\"#fb9f3a\"],[0.8888888888888888,\"#fdca26\"],[1.0,\"#f0f921\"]]}],\"surface\":[{\"type\":\"surface\",\"colorbar\":{\"outlinewidth\":0,\"ticks\":\"\"},\"colorscale\":[[0.0,\"#0d0887\"],[0.1111111111111111,\"#46039f\"],[0.2222222222222222,\"#7201a8\"],[0.3333333333333333,\"#9c179e\"],[0.4444444444444444,\"#bd3786\"],[0.5555555555555556,\"#d8576b\"],[0.6666666666666666,\"#ed7953\"],[0.7777777777777778,\"#fb9f3a\"],[0.8888888888888888,\"#fdca26\"],[1.0,\"#f0f921\"]]}],\"mesh3d\":[{\"type\":\"mesh3d\",\"colorbar\":{\"outlinewidth\":0,\"ticks\":\"\"}}],\"scatter\":[{\"fillpattern\":{\"fillmode\":\"overlay\",\"size\":10,\"solidity\":0.2},\"type\":\"scatter\"}],\"parcoords\":[{\"type\":\"parcoords\",\"line\":{\"colorbar\":{\"outlinewidth\":0,\"ticks\":\"\"}}}],\"scatterpolargl\":[{\"type\":\"scatterpolargl\",\"marker\":{\"colorbar\":{\"outlinewidth\":0,\"ticks\":\"\"}}}],\"bar\":[{\"error_x\":{\"color\":\"#2a3f5f\"},\"error_y\":{\"color\":\"#2a3f5f\"},\"marker\":{\"line\":{\"color\":\"#E5ECF6\",\"width\":0.5},\"pattern\":{\"fillmode\":\"overlay\",\"size\":10,\"solidity\":0.2}},\"type\":\"bar\"}],\"scattergeo\":[{\"type\":\"scattergeo\",\"marker\":{\"colorbar\":{\"outlinewidth\":0,\"ticks\":\"\"}}}],\"scatterpolar\":[{\"type\":\"scatterpolar\",\"marker\":{\"colorbar\":{\"outlinewidth\":0,\"ticks\":\"\"}}}],\"histogram\":[{\"marker\":{\"pattern\":{\"fillmode\":\"overlay\",\"size\":10,\"solidity\":0.2}},\"type\":\"histogram\"}],\"scattergl\":[{\"type\":\"scattergl\",\"marker\":{\"colorbar\":{\"outlinewidth\":0,\"ticks\":\"\"}}}],\"scatter3d\":[{\"type\":\"scatter3d\",\"line\":{\"colorbar\":{\"outlinewidth\":0,\"ticks\":\"\"}},\"marker\":{\"colorbar\":{\"outlinewidth\":0,\"ticks\":\"\"}}}],\"scattermapbox\":[{\"type\":\"scattermapbox\",\"marker\":{\"colorbar\":{\"outlinewidth\":0,\"ticks\":\"\"}}}],\"scatterternary\":[{\"type\":\"scatterternary\",\"marker\":{\"colorbar\":{\"outlinewidth\":0,\"ticks\":\"\"}}}],\"scattercarpet\":[{\"type\":\"scattercarpet\",\"marker\":{\"colorbar\":{\"outlinewidth\":0,\"ticks\":\"\"}}}],\"carpet\":[{\"aaxis\":{\"endlinecolor\":\"#2a3f5f\",\"gridcolor\":\"white\",\"linecolor\":\"white\",\"minorgridcolor\":\"white\",\"startlinecolor\":\"#2a3f5f\"},\"baxis\":{\"endlinecolor\":\"#2a3f5f\",\"gridcolor\":\"white\",\"linecolor\":\"white\",\"minorgridcolor\":\"white\",\"startlinecolor\":\"#2a3f5f\"},\"type\":\"carpet\"}],\"table\":[{\"cells\":{\"fill\":{\"color\":\"#EBF0F8\"},\"line\":{\"color\":\"white\"}},\"header\":{\"fill\":{\"color\":\"#C8D4E3\"},\"line\":{\"color\":\"white\"}},\"type\":\"table\"}],\"barpolar\":[{\"marker\":{\"line\":{\"color\":\"#E5ECF6\",\"width\":0.5},\"pattern\":{\"fillmode\":\"overlay\",\"size\":10,\"solidity\":0.2}},\"type\":\"barpolar\"}],\"pie\":[{\"automargin\":true,\"type\":\"pie\"}]},\"layout\":{\"autotypenumbers\":\"strict\",\"colorway\":[\"#636efa\",\"#EF553B\",\"#00cc96\",\"#ab63fa\",\"#FFA15A\",\"#19d3f3\",\"#FF6692\",\"#B6E880\",\"#FF97FF\",\"#FECB52\"],\"font\":{\"color\":\"#2a3f5f\"},\"hovermode\":\"closest\",\"hoverlabel\":{\"align\":\"left\"},\"paper_bgcolor\":\"white\",\"plot_bgcolor\":\"#E5ECF6\",\"polar\":{\"bgcolor\":\"#E5ECF6\",\"angularaxis\":{\"gridcolor\":\"white\",\"linecolor\":\"white\",\"ticks\":\"\"},\"radialaxis\":{\"gridcolor\":\"white\",\"linecolor\":\"white\",\"ticks\":\"\"}},\"ternary\":{\"bgcolor\":\"#E5ECF6\",\"aaxis\":{\"gridcolor\":\"white\",\"linecolor\":\"white\",\"ticks\":\"\"},\"baxis\":{\"gridcolor\":\"white\",\"linecolor\":\"white\",\"ticks\":\"\"},\"caxis\":{\"gridcolor\":\"white\",\"linecolor\":\"white\",\"ticks\":\"\"}},\"coloraxis\":{\"colorbar\":{\"outlinewidth\":0,\"ticks\":\"\"}},\"colorscale\":{\"sequential\":[[0.0,\"#0d0887\"],[0.1111111111111111,\"#46039f\"],[0.2222222222222222,\"#7201a8\"],[0.3333333333333333,\"#9c179e\"],[0.4444444444444444,\"#bd3786\"],[0.5555555555555556,\"#d8576b\"],[0.6666666666666666,\"#ed7953\"],[0.7777777777777778,\"#fb9f3a\"],[0.8888888888888888,\"#fdca26\"],[1.0,\"#f0f921\"]],\"sequentialminus\":[[0.0,\"#0d0887\"],[0.1111111111111111,\"#46039f\"],[0.2222222222222222,\"#7201a8\"],[0.3333333333333333,\"#9c179e\"],[0.4444444444444444,\"#bd3786\"],[0.5555555555555556,\"#d8576b\"],[0.6666666666666666,\"#ed7953\"],[0.7777777777777778,\"#fb9f3a\"],[0.8888888888888888,\"#fdca26\"],[1.0,\"#f0f921\"]],\"diverging\":[[0,\"#8e0152\"],[0.1,\"#c51b7d\"],[0.2,\"#de77ae\"],[0.3,\"#f1b6da\"],[0.4,\"#fde0ef\"],[0.5,\"#f7f7f7\"],[0.6,\"#e6f5d0\"],[0.7,\"#b8e186\"],[0.8,\"#7fbc41\"],[0.9,\"#4d9221\"],[1,\"#276419\"]]},\"xaxis\":{\"gridcolor\":\"white\",\"linecolor\":\"white\",\"ticks\":\"\",\"title\":{\"standoff\":15},\"zerolinecolor\":\"white\",\"automargin\":true,\"zerolinewidth\":2},\"yaxis\":{\"gridcolor\":\"white\",\"linecolor\":\"white\",\"ticks\":\"\",\"title\":{\"standoff\":15},\"zerolinecolor\":\"white\",\"automargin\":true,\"zerolinewidth\":2},\"scene\":{\"xaxis\":{\"backgroundcolor\":\"#E5ECF6\",\"gridcolor\":\"white\",\"linecolor\":\"white\",\"showbackground\":true,\"ticks\":\"\",\"zerolinecolor\":\"white\",\"gridwidth\":2},\"yaxis\":{\"backgroundcolor\":\"#E5ECF6\",\"gridcolor\":\"white\",\"linecolor\":\"white\",\"showbackground\":true,\"ticks\":\"\",\"zerolinecolor\":\"white\",\"gridwidth\":2},\"zaxis\":{\"backgroundcolor\":\"#E5ECF6\",\"gridcolor\":\"white\",\"linecolor\":\"white\",\"showbackground\":true,\"ticks\":\"\",\"zerolinecolor\":\"white\",\"gridwidth\":2}},\"shapedefaults\":{\"line\":{\"color\":\"#2a3f5f\"}},\"annotationdefaults\":{\"arrowcolor\":\"#2a3f5f\",\"arrowhead\":0,\"arrowwidth\":1},\"geo\":{\"bgcolor\":\"white\",\"landcolor\":\"#E5ECF6\",\"subunitcolor\":\"white\",\"showland\":true,\"showlakes\":true,\"lakecolor\":\"white\"},\"title\":{\"x\":0.05},\"mapbox\":{\"style\":\"light\"}}},\"xaxis\":{\"anchor\":\"y\",\"domain\":[0.0,1.0],\"title\":{\"text\":\"Barrios\"}},\"yaxis\":{\"anchor\":\"x\",\"domain\":[0.0,1.0],\"title\":{\"text\":\"Consultas por Hect\\u00e1rea\"}},\"legend\":{\"tracegroupgap\":0},\"title\":{\"text\":\"Consultas por Hect\\u00e1rea en Barrios Populares\"},\"barmode\":\"relative\",\"height\":400},                        {\"responsive\": true}                    ).then(function(){\n",
       "                            \n",
       "var gd = document.getElementById('7eb524cd-160b-45e4-ae09-9456fce62c0e');\n",
       "var x = new MutationObserver(function (mutations, observer) {{\n",
       "        var display = window.getComputedStyle(gd).display;\n",
       "        if (!display || display === 'none') {{\n",
       "            console.log([gd, 'removed!']);\n",
       "            Plotly.purge(gd);\n",
       "            observer.disconnect();\n",
       "        }}\n",
       "}});\n",
       "\n",
       "// Listen for the removal of the full notebook cells\n",
       "var notebookContainer = gd.closest('#notebook-container');\n",
       "if (notebookContainer) {{\n",
       "    x.observe(notebookContainer, {childList: true});\n",
       "}}\n",
       "\n",
       "// Listen for the clearing of the current output cell\n",
       "var outputEl = gd.closest('.output');\n",
       "if (outputEl) {{\n",
       "    x.observe(outputEl, {childList: true});\n",
       "}}\n",
       "\n",
       "                        })                };                });            </script>        </div>"
      ]
     },
     "metadata": {},
     "output_type": "display_data"
    }
   ],
   "source": [
    "import plotly.express as px\n",
    "\n",
    "# Filtrar los datos por barrios populares y no populares\n",
    "barrios_populares = atenciones_sup_ha_con_popularidad[atenciones_sup_ha_con_popularidad['barrio_popular'] == 'si']\n",
    "barrios_no_populares = atenciones_sup_ha_con_popularidad[atenciones_sup_ha_con_popularidad['barrio_popular'] == 'no']\n",
    "\n",
    "# Ordenar los barrios por consultas por hectárea de mayor a menor\n",
    "barrios_populares = barrios_populares.sort_values(by='consultas_por_ha', ascending=False)\n",
    "barrios_no_populares = barrios_no_populares.sort_values(by='consultas_por_ha', ascending=False)\n",
    "\n",
    "# Crear el gráfico de barras para las consultas por hectárea de barrios populares y no populares\n",
    "fig = px.bar(barrios_populares, x='nombre_barrio_correcto', y='consultas_por_ha', title='Consultas por Hectárea en Barrios Populares',\n",
    "             labels={'nombre_barrio_correcto': 'Barrios', 'consultas_por_ha': 'Consultas por Hectárea'},\n",
    "             text='consultas_por_ha', height=400)\n",
    "\n",
    "fig.add_trace(px.bar(barrios_no_populares, x='nombre_barrio_correcto', y='consultas_por_ha', height=400).data[0])\n",
    "\n",
    "# Personalizar el diseño del gráfico\n",
    "fig.update_traces(texttemplate='%{text:.2s}', textposition='inside')\n",
    "\n",
    "# Mostrar el gráfico\n",
    "fig.show()\n"
   ]
  },
  {
   "cell_type": "code",
   "execution_count": null,
   "id": "28bfc2ee",
   "metadata": {},
   "outputs": [],
   "source": []
  },
  {
   "cell_type": "code",
   "execution_count": 81,
   "id": "83f15db5",
   "metadata": {},
   "outputs": [
    {
     "data": {
      "image/png": "[encoded data removed]",
      "text/plain": [
       "<Figure size 720x720 with 1 Axes>"
      ]
     },
     "metadata": {
      "needs_background": "light"
     },
     "output_type": "display_data"
    }
   ],
   "source": [
    "import matplotlib.pyplot as plt\n",
    "\n",
    "import geopandas as gpd\n",
    "\n",
    "from shapely.geometry import Point\n",
    "\n",
    "\n",
    "\n",
    "# Crear un GeoDataFrame\n",
    "\n",
    "geometry = [Point(xy) for xy in zip(df['lng'], df['lat'])]\n",
    "\n",
    "geo_df = gpd.GeoDataFrame(df, geometry=geometry)\n",
    "\n",
    "\n",
    "\n",
    "# Agrupar por ubicación, sumando la cantidad de consultas\n",
    "\n",
    "geo_df_grouped = geo_df.groupby(['lng', 'lat'])['consulta_cantidad'].sum().reset_index()\n",
    "\n",
    "\n",
    "\n",
    "# Crear un nuevo GeoDataFrame agrupado\n",
    "\n",
    "geometry_grouped = [Point(xy) for xy in zip(geo_df_grouped['lng'], geo_df_grouped['lat'])]\n",
    "\n",
    "geo_df_grouped = gpd.GeoDataFrame(geo_df_grouped, geometry=geometry_grouped)\n",
    "\n",
    "\n",
    "\n",
    "# Crear el mapa\n",
    "\n",
    "fig, ax = plt.subplots(figsize=(10, 10))\n",
    "\n",
    "geo_df_grouped.plot(ax=ax, markersize=geo_df_grouped['consulta_cantidad'] / 200, color='red', alpha=0.6)\n",
    "\n",
    "ax.set_title('Cantidad de Consultas Odontológicas por Ubicación')\n",
    "\n",
    "ax.set_xlabel('Longitud')\n",
    "\n",
    "ax.set_ylabel('Latitud')\n",
    "\n",
    "\n",
    "\n",
    "plt.show()\n"
   ]
  },
  {
   "cell_type": "code",
   "execution_count": 84,
   "id": "506b1d2e",
   "metadata": {},
   "outputs": [
    {
     "data": {
      "image/png": "[encoded data removed]",
      "text/plain": [
       "<Figure size 1080x1080 with 1 Axes>"
      ]
     },
     "metadata": {
      "needs_background": "light"
     },
     "output_type": "display_data"
    }
   ],
   "source": [
    "import matplotlib.pyplot as plt\n",
    "\n",
    "import geopandas as gpd\n",
    "\n",
    "from shapely.geometry import Point\n",
    "\n",
    "\n",
    "\n",
    "# Crear un GeoDataFrame\n",
    "\n",
    "geometry = [Point(xy) for xy in zip(df['lng'], df['lat'])]\n",
    "\n",
    "geo_df = gpd.GeoDataFrame(df, geometry=geometry)\n",
    "\n",
    "\n",
    "\n",
    "# Agrupar por ubicación, sumando la cantidad de consultas\n",
    "\n",
    "geo_df_grouped = geo_df.groupby(['lng', 'lat', 'nombre_correcto'])['consulta_cantidad'].sum().reset_index()\n",
    "\n",
    "\n",
    "\n",
    "# Crear un nuevo GeoDataFrame agrupado\n",
    "\n",
    "geometry_grouped = [Point(xy) for xy in zip(geo_df_grouped['lng'], geo_df_grouped['lat'])]\n",
    "\n",
    "geo_df_grouped = gpd.GeoDataFrame(geo_df_grouped, geometry=geometry_grouped)\n",
    "\n",
    "# Calcular las coordenadas medias\n",
    "median_lng = geo_df_grouped['lng'].median()\n",
    "median_lat = geo_df_grouped['lat'].median()\n",
    "\n",
    "\n",
    "\n",
    "# Crear el mapa\n",
    "fig, ax = plt.subplots(figsize=(15, 15))  # Aumentar el tamaño de la figura\n",
    "geo_df_grouped.plot(ax=ax, markersize=geo_df_grouped['consulta_cantidad'] / 100, color='green', alpha=0.6)  # Aumentar el tamaño de los círculos y cambiar el color a verde\n",
    "ax.set_title('Cantidad de Consultas Odontológicas por Ubicación')\n",
    "ax.set_xlabel('Longitud')\n",
    "ax.set_ylabel('Latitud')\n",
    "\n",
    "# Dibujar líneas en las coordenadas medias\n",
    "ax.axhline(median_lat, color='blue', linestyle='--')\n",
    "ax.axvline(median_lng, color='blue', linestyle='--')\n",
    "\n",
    "plt.show()"
   ]
  },
  {
   "cell_type": "code",
   "execution_count": 88,
   "id": "8959e382",
   "metadata": {},
   "outputs": [
    {
     "ename": "NameError",
     "evalue": "name 'go' is not defined",
     "output_type": "error",
     "traceback": [
      "\u001b[0;31m---------------------------------------------------------------------------\u001b[0m",
      "\u001b[0;31mNameError\u001b[0m                                 Traceback (most recent call last)",
      "\u001b[0;32m/tmp/ipykernel_137081/480581200.py\u001b[0m in \u001b[0;36m<module>\u001b[0;34m\u001b[0m\n\u001b[1;32m     36\u001b[0m \u001b[0mfig\u001b[0m\u001b[0;34m.\u001b[0m\u001b[0mupdate_geos\u001b[0m\u001b[0;34m(\u001b[0m\u001b[0mfitbounds\u001b[0m\u001b[0;34m=\u001b[0m\u001b[0;34m\"locations\"\u001b[0m\u001b[0;34m,\u001b[0m \u001b[0mvisible\u001b[0m\u001b[0;34m=\u001b[0m\u001b[0;32mFalse\u001b[0m\u001b[0;34m)\u001b[0m\u001b[0;34m\u001b[0m\u001b[0;34m\u001b[0m\u001b[0m\n\u001b[1;32m     37\u001b[0m fig.add_trace(\n\u001b[0;32m---> 38\u001b[0;31m     go.Choropleth(\n\u001b[0m\u001b[1;32m     39\u001b[0m         \u001b[0mgeojson\u001b[0m\u001b[0;34m=\u001b[0m\u001b[0mgeojson_departamentos\u001b[0m\u001b[0;34m,\u001b[0m\u001b[0;34m\u001b[0m\u001b[0;34m\u001b[0m\u001b[0m\n\u001b[1;32m     40\u001b[0m         \u001b[0mlocations\u001b[0m\u001b[0;34m=\u001b[0m\u001b[0mdf\u001b[0m\u001b[0;34m.\u001b[0m\u001b[0mindex\u001b[0m\u001b[0;34m,\u001b[0m  \u001b[0;31m# El índice del DataFrame se usará para mapear cada fila con un polígono del GeoJSON\u001b[0m\u001b[0;34m\u001b[0m\u001b[0;34m\u001b[0m\u001b[0m\n",
      "\u001b[0;31mNameError\u001b[0m: name 'go' is not defined"
     ]
    }
   ],
   "source": [
    "import plotly.express as px\n",
    "import pandas as pd\n",
    "import geopandas as gpd\n",
    "import json\n",
    "\n",
    "# Asegúrate de tener un archivo GeoJSON que contenga la geometría de los departamentos.\n",
    "# Por ejemplo: 'departamentos.geojson'\n",
    "\n",
    "# Cargar los datos de los puntos\n",
    "df = pd.DataFrame({\n",
    "    'nombre': geo_df_grouped['nombre_correcto'],\n",
    "    'consulta_cantidad': geo_df_grouped['consulta_cantidad'],\n",
    "    'lng': geo_df_grouped['lng'],\n",
    "    'lat': geo_df_grouped['lat']\n",
    "})\n",
    "\n",
    "# Cargar el archivo GeoJSON\n",
    "with open('dpto_ctes.geojson', 'r') as file:\n",
    "    geojson_departamentos = json.load(file)\n",
    "\n",
    "# Crear una visualización con plotly\n",
    "fig = px.scatter_geo(\n",
    "    df,\n",
    "    lon='lng',\n",
    "    lat='lat',\n",
    "    text='nombre',  # Mostrar el nombre de cada saps como etiqueta de texto\n",
    "    size='consulta_cantidad',  # Determinar el tamaño del marcador basado en la cantidad de consultas\n",
    "    projection=\"natural earth\",\n",
    "    title=\"Cantidad de Consultas Odontológicas por Ubicación\",\n",
    "    template=\"plotly\",\n",
    "    color_discrete_sequence=[\"red\"],\n",
    "    opacity=0.6\n",
    ")\n",
    "\n",
    "# Añadir los polígonos de los departamentos al mapa\n",
    "fig.update_geos(fitbounds=\"locations\", visible=False)\n",
    "fig.add_trace(\n",
    "    go.Choropleth(\n",
    "        geojson=geojson_departamentos,\n",
    "        locations=df.index,  # El índice del DataFrame se usará para mapear cada fila con un polígono del GeoJSON\n",
    "        z=df['consulta_cantidad'],  # La cantidad de consultas determinará el color del polígono\n",
    "        showscale=False,  # No mostrar la escala de colores\n",
    "        marker_opacity=0  # Hacer los polígonos completamente transparentes\n",
    "    )\n",
    ")\n",
    "\n",
    "# Mostrar el gráfico\n",
    "fig.show()"
   ]
  },
  {
   "cell_type": "code",
   "execution_count": null,
   "id": "b7847f84",
   "metadata": {},
   "outputs": [],
   "source": []
  },
  {
   "cell_type": "code",
   "execution_count": 76,
   "id": "53a884b9",
   "metadata": {},
   "outputs": [],
   "source": [
    "import folium\n",
    "\n",
    "# Crear un mapa centrado en las coordenadas promedio\n",
    "mapa = folium.Map(location=[-27.5, -58.75], zoom_start=12)\n",
    "\n",
    "# Agrupar por ubicación, sumando la cantidad de consultas y obteniendo el valor modal de 'barrio_popular'\n",
    "geo_df_grouped = geo_df.groupby(['lng', 'lat', 'barrio_popular'])['consulta_cantidad'].sum().reset_index()\n",
    "\n",
    "# Añadir burbujas al mapa\n",
    "for idx, row in geo_df_grouped.iterrows():\n",
    "    color = \"red\" if row['barrio_popular'] == 'si' else \"blue\"\n",
    "    folium.CircleMarker(\n",
    "        location=[row['lat'], row['lng']],\n",
    "        radius=row['consulta_cantidad'] / 5000,  # Ajustar el tamaño de las burbujas\n",
    "        color=color,\n",
    "        fill=True,\n",
    "        fill_opacity=0.6\n",
    "    ).add_to(mapa)\n",
    "\n",
    "# Guardar el mapa como archivo HTML\n",
    "mapa.save('mapa_consultas.html')"
   ]
  },
  {
   "cell_type": "code",
   "execution_count": 77,
   "id": "6760da54",
   "metadata": {},
   "outputs": [
    {
     "data": {
      "text/html": [
       "<div style=\"width:100%;\"><div style=\"position:relative;width:100%;height:0;padding-bottom:60%;\"><span style=\"color:#565656\">Make this Notebook Trusted to load map: File -> Trust Notebook</span><iframe srcdoc=\"&lt;!DOCTYPE html&gt;\n",
       "&lt;html&gt;\n",
       "&lt;head&gt;\n",
       "    \n",
       "    &lt;meta http-equiv=&quot;content-type&quot; content=&quot;text/html; charset=UTF-8&quot; /&gt;\n",
       "    \n",
       "        &lt;script&gt;\n",
       "            L_NO_TOUCH = false;\n",
       "            L_DISABLE_3D = false;\n",
       "        &lt;/script&gt;\n",
       "    \n",
       "    &lt;style&gt;html, body {width: 100%;height: 100%;margin: 0;padding: 0;}&lt;/style&gt;\n",
       "    &lt;style&gt;#map {position:absolute;top:0;bottom:0;right:0;left:0;}&lt;/style&gt;\n",
       "    &lt;script src=&quot;https://cdn.jsdelivr.net/npm/leaflet@1.9.3/dist/leaflet.js&quot;&gt;&lt;/script&gt;\n",
       "    &lt;script src=&quot;https://code.jquery.com/jquery-1.12.4.min.js&quot;&gt;&lt;/script&gt;\n",
       "    &lt;script src=&quot;https://cdn.jsdelivr.net/npm/bootstrap@5.2.2/dist/js/bootstrap.bundle.min.js&quot;&gt;&lt;/script&gt;\n",
       "    &lt;script src=&quot;https://cdnjs.cloudflare.com/ajax/libs/Leaflet.awesome-markers/2.0.2/leaflet.awesome-markers.js&quot;&gt;&lt;/script&gt;\n",
       "    &lt;link rel=&quot;stylesheet&quot; href=&quot;https://cdn.jsdelivr.net/npm/leaflet@1.9.3/dist/leaflet.css&quot;/&gt;\n",
       "    &lt;link rel=&quot;stylesheet&quot; href=&quot;https://cdn.jsdelivr.net/npm/bootstrap@5.2.2/dist/css/bootstrap.min.css&quot;/&gt;\n",
       "    &lt;link rel=&quot;stylesheet&quot; href=&quot;https://netdna.bootstrapcdn.com/bootstrap/3.0.0/css/bootstrap.min.css&quot;/&gt;\n",
       "    &lt;link rel=&quot;stylesheet&quot; href=&quot;https://cdn.jsdelivr.net/npm/@fortawesome/fontawesome-free@6.2.0/css/all.min.css&quot;/&gt;\n",
       "    &lt;link rel=&quot;stylesheet&quot; href=&quot;https://cdnjs.cloudflare.com/ajax/libs/Leaflet.awesome-markers/2.0.2/leaflet.awesome-markers.css&quot;/&gt;\n",
       "    &lt;link rel=&quot;stylesheet&quot; href=&quot;https://cdn.jsdelivr.net/gh/python-visualization/folium/folium/templates/leaflet.awesome.rotate.min.css&quot;/&gt;\n",
       "    \n",
       "            &lt;meta name=&quot;viewport&quot; content=&quot;width=device-width,\n",
       "                initial-scale=1.0, maximum-scale=1.0, user-scalable=no&quot; /&gt;\n",
       "            &lt;style&gt;\n",
       "                #map_f9f8c4a75f9ee7ddbaea0c1c386c033e {\n",
       "                    position: relative;\n",
       "                    width: 100.0%;\n",
       "                    height: 100.0%;\n",
       "                    left: 0.0%;\n",
       "                    top: 0.0%;\n",
       "                }\n",
       "                .leaflet-container { font-size: 1rem; }\n",
       "            &lt;/style&gt;\n",
       "        \n",
       "&lt;/head&gt;\n",
       "&lt;body&gt;\n",
       "    \n",
       "    \n",
       "            &lt;div class=&quot;folium-map&quot; id=&quot;map_f9f8c4a75f9ee7ddbaea0c1c386c033e&quot; &gt;&lt;/div&gt;\n",
       "        \n",
       "&lt;/body&gt;\n",
       "&lt;script&gt;\n",
       "    \n",
       "    \n",
       "            var map_f9f8c4a75f9ee7ddbaea0c1c386c033e = L.map(\n",
       "                &quot;map_f9f8c4a75f9ee7ddbaea0c1c386c033e&quot;,\n",
       "                {\n",
       "                    center: [-27.5, -58.75],\n",
       "                    crs: L.CRS.EPSG3857,\n",
       "                    zoom: 12,\n",
       "                    zoomControl: true,\n",
       "                    preferCanvas: false,\n",
       "                }\n",
       "            );\n",
       "\n",
       "            \n",
       "\n",
       "        \n",
       "    \n",
       "            var tile_layer_f1228fa49951a24387e8717e898817fb = L.tileLayer(\n",
       "                &quot;https://{s}.tile.openstreetmap.org/{z}/{x}/{y}.png&quot;,\n",
       "                {&quot;attribution&quot;: &quot;Data by \\u0026copy; \\u003ca target=\\&quot;_blank\\&quot; href=\\&quot;http://openstreetmap.org\\&quot;\\u003eOpenStreetMap\\u003c/a\\u003e, under \\u003ca target=\\&quot;_blank\\&quot; href=\\&quot;http://www.openstreetmap.org/copyright\\&quot;\\u003eODbL\\u003c/a\\u003e.&quot;, &quot;detectRetina&quot;: false, &quot;maxNativeZoom&quot;: 18, &quot;maxZoom&quot;: 18, &quot;minZoom&quot;: 0, &quot;noWrap&quot;: false, &quot;opacity&quot;: 1, &quot;subdomains&quot;: &quot;abc&quot;, &quot;tms&quot;: false}\n",
       "            ).addTo(map_f9f8c4a75f9ee7ddbaea0c1c386c033e);\n",
       "        \n",
       "    \n",
       "            var circle_marker_7dff32bf986fd085b3f2de88fa999050 = L.circleMarker(\n",
       "                [-27.48884048781297, -58.85220469009686],\n",
       "                {&quot;bubblingMouseEvents&quot;: true, &quot;color&quot;: &quot;red&quot;, &quot;dashArray&quot;: null, &quot;dashOffset&quot;: null, &quot;fill&quot;: true, &quot;fillColor&quot;: &quot;red&quot;, &quot;fillOpacity&quot;: 0.6, &quot;fillRule&quot;: &quot;evenodd&quot;, &quot;lineCap&quot;: &quot;round&quot;, &quot;lineJoin&quot;: &quot;round&quot;, &quot;opacity&quot;: 1.0, &quot;radius&quot;: 0.5914, &quot;stroke&quot;: true, &quot;weight&quot;: 3}\n",
       "            ).addTo(map_f9f8c4a75f9ee7ddbaea0c1c386c033e);\n",
       "        \n",
       "    \n",
       "            var circle_marker_c076ed2c1df63679073fb23994fca97f = L.circleMarker(\n",
       "                [-27.473965968002226, -58.84761266500789],\n",
       "                {&quot;bubblingMouseEvents&quot;: true, &quot;color&quot;: &quot;blue&quot;, &quot;dashArray&quot;: null, &quot;dashOffset&quot;: null, &quot;fill&quot;: true, &quot;fillColor&quot;: &quot;blue&quot;, &quot;fillOpacity&quot;: 0.6, &quot;fillRule&quot;: &quot;evenodd&quot;, &quot;lineCap&quot;: &quot;round&quot;, &quot;lineJoin&quot;: &quot;round&quot;, &quot;opacity&quot;: 1.0, &quot;radius&quot;: 1.6056, &quot;stroke&quot;: true, &quot;weight&quot;: 3}\n",
       "            ).addTo(map_f9f8c4a75f9ee7ddbaea0c1c386c033e);\n",
       "        \n",
       "    \n",
       "            var circle_marker_127ac5000b0f4ae315bdb04b98b85da4 = L.circleMarker(\n",
       "                [-27.4944386828968, -58.84715095698908],\n",
       "                {&quot;bubblingMouseEvents&quot;: true, &quot;color&quot;: &quot;red&quot;, &quot;dashArray&quot;: null, &quot;dashOffset&quot;: null, &quot;fill&quot;: true, &quot;fillColor&quot;: &quot;red&quot;, &quot;fillOpacity&quot;: 0.6, &quot;fillRule&quot;: &quot;evenodd&quot;, &quot;lineCap&quot;: &quot;round&quot;, &quot;lineJoin&quot;: &quot;round&quot;, &quot;opacity&quot;: 1.0, &quot;radius&quot;: 0.0372, &quot;stroke&quot;: true, &quot;weight&quot;: 3}\n",
       "            ).addTo(map_f9f8c4a75f9ee7ddbaea0c1c386c033e);\n",
       "        \n",
       "    \n",
       "            var circle_marker_fe85a597b3b9e1159d71d2f70f1968a5 = L.circleMarker(\n",
       "                [-27.502504268774288, -58.84185386289956],\n",
       "                {&quot;bubblingMouseEvents&quot;: true, &quot;color&quot;: &quot;red&quot;, &quot;dashArray&quot;: null, &quot;dashOffset&quot;: null, &quot;fill&quot;: true, &quot;fillColor&quot;: &quot;red&quot;, &quot;fillOpacity&quot;: 0.6, &quot;fillRule&quot;: &quot;evenodd&quot;, &quot;lineCap&quot;: &quot;round&quot;, &quot;lineJoin&quot;: &quot;round&quot;, &quot;opacity&quot;: 1.0, &quot;radius&quot;: 0.643, &quot;stroke&quot;: true, &quot;weight&quot;: 3}\n",
       "            ).addTo(map_f9f8c4a75f9ee7ddbaea0c1c386c033e);\n",
       "        \n",
       "    \n",
       "            var circle_marker_5aa710918f36b08e83cb47192b5de08a = L.circleMarker(\n",
       "                [-27.503526255773966, -58.82997887583056],\n",
       "                {&quot;bubblingMouseEvents&quot;: true, &quot;color&quot;: &quot;red&quot;, &quot;dashArray&quot;: null, &quot;dashOffset&quot;: null, &quot;fill&quot;: true, &quot;fillColor&quot;: &quot;red&quot;, &quot;fillOpacity&quot;: 0.6, &quot;fillRule&quot;: &quot;evenodd&quot;, &quot;lineCap&quot;: &quot;round&quot;, &quot;lineJoin&quot;: &quot;round&quot;, &quot;opacity&quot;: 1.0, &quot;radius&quot;: 0.4966, &quot;stroke&quot;: true, &quot;weight&quot;: 3}\n",
       "            ).addTo(map_f9f8c4a75f9ee7ddbaea0c1c386c033e);\n",
       "        \n",
       "    \n",
       "            var circle_marker_2c6f9ed8f92ef867da53c8392ee8fbd2 = L.circleMarker(\n",
       "                [-27.515234882889896, -58.82874727967732],\n",
       "                {&quot;bubblingMouseEvents&quot;: true, &quot;color&quot;: &quot;red&quot;, &quot;dashArray&quot;: null, &quot;dashOffset&quot;: null, &quot;fill&quot;: true, &quot;fillColor&quot;: &quot;red&quot;, &quot;fillOpacity&quot;: 0.6, &quot;fillRule&quot;: &quot;evenodd&quot;, &quot;lineCap&quot;: &quot;round&quot;, &quot;lineJoin&quot;: &quot;round&quot;, &quot;opacity&quot;: 1.0, &quot;radius&quot;: 0.7308, &quot;stroke&quot;: true, &quot;weight&quot;: 3}\n",
       "            ).addTo(map_f9f8c4a75f9ee7ddbaea0c1c386c033e);\n",
       "        \n",
       "    \n",
       "            var circle_marker_fcc037da3fb566530e28ab38d5184577 = L.circleMarker(\n",
       "                [-27.488906571047515, -58.82271500188188],\n",
       "                {&quot;bubblingMouseEvents&quot;: true, &quot;color&quot;: &quot;blue&quot;, &quot;dashArray&quot;: null, &quot;dashOffset&quot;: null, &quot;fill&quot;: true, &quot;fillColor&quot;: &quot;blue&quot;, &quot;fillOpacity&quot;: 0.6, &quot;fillRule&quot;: &quot;evenodd&quot;, &quot;lineCap&quot;: &quot;round&quot;, &quot;lineJoin&quot;: &quot;round&quot;, &quot;opacity&quot;: 1.0, &quot;radius&quot;: 0.2524, &quot;stroke&quot;: true, &quot;weight&quot;: 3}\n",
       "            ).addTo(map_f9f8c4a75f9ee7ddbaea0c1c386c033e);\n",
       "        \n",
       "    \n",
       "            var circle_marker_afd8d1ddf43c88d16697c904671979c2 = L.circleMarker(\n",
       "                [-27.490721565787247, -58.818363193983714],\n",
       "                {&quot;bubblingMouseEvents&quot;: true, &quot;color&quot;: &quot;blue&quot;, &quot;dashArray&quot;: null, &quot;dashOffset&quot;: null, &quot;fill&quot;: true, &quot;fillColor&quot;: &quot;blue&quot;, &quot;fillOpacity&quot;: 0.6, &quot;fillRule&quot;: &quot;evenodd&quot;, &quot;lineCap&quot;: &quot;round&quot;, &quot;lineJoin&quot;: &quot;round&quot;, &quot;opacity&quot;: 1.0, &quot;radius&quot;: 0.337, &quot;stroke&quot;: true, &quot;weight&quot;: 3}\n",
       "            ).addTo(map_f9f8c4a75f9ee7ddbaea0c1c386c033e);\n",
       "        \n",
       "    \n",
       "            var circle_marker_02ce26cff1df659f0aaf4b63fb391f1c = L.circleMarker(\n",
       "                [-27.4581754958874, -58.81800217433561],\n",
       "                {&quot;bubblingMouseEvents&quot;: true, &quot;color&quot;: &quot;red&quot;, &quot;dashArray&quot;: null, &quot;dashOffset&quot;: null, &quot;fill&quot;: true, &quot;fillColor&quot;: &quot;red&quot;, &quot;fillOpacity&quot;: 0.6, &quot;fillRule&quot;: &quot;evenodd&quot;, &quot;lineCap&quot;: &quot;round&quot;, &quot;lineJoin&quot;: &quot;round&quot;, &quot;opacity&quot;: 1.0, &quot;radius&quot;: 0.2712, &quot;stroke&quot;: true, &quot;weight&quot;: 3}\n",
       "            ).addTo(map_f9f8c4a75f9ee7ddbaea0c1c386c033e);\n",
       "        \n",
       "    \n",
       "            var circle_marker_82d0deb2c17a3970213ecd8e6dbcf399 = L.circleMarker(\n",
       "                [-27.507874019212625, -58.81319247400218],\n",
       "                {&quot;bubblingMouseEvents&quot;: true, &quot;color&quot;: &quot;blue&quot;, &quot;dashArray&quot;: null, &quot;dashOffset&quot;: null, &quot;fill&quot;: true, &quot;fillColor&quot;: &quot;blue&quot;, &quot;fillOpacity&quot;: 0.6, &quot;fillRule&quot;: &quot;evenodd&quot;, &quot;lineCap&quot;: &quot;round&quot;, &quot;lineJoin&quot;: &quot;round&quot;, &quot;opacity&quot;: 1.0, &quot;radius&quot;: 0.522, &quot;stroke&quot;: true, &quot;weight&quot;: 3}\n",
       "            ).addTo(map_f9f8c4a75f9ee7ddbaea0c1c386c033e);\n",
       "        \n",
       "    \n",
       "            var circle_marker_2cdd63e2bfd1f963b46a9522f6b364bf = L.circleMarker(\n",
       "                [-27.49632494463024, -58.81055045997027],\n",
       "                {&quot;bubblingMouseEvents&quot;: true, &quot;color&quot;: &quot;red&quot;, &quot;dashArray&quot;: null, &quot;dashOffset&quot;: null, &quot;fill&quot;: true, &quot;fillColor&quot;: &quot;red&quot;, &quot;fillOpacity&quot;: 0.6, &quot;fillRule&quot;: &quot;evenodd&quot;, &quot;lineCap&quot;: &quot;round&quot;, &quot;lineJoin&quot;: &quot;round&quot;, &quot;opacity&quot;: 1.0, &quot;radius&quot;: 0.6852, &quot;stroke&quot;: true, &quot;weight&quot;: 3}\n",
       "            ).addTo(map_f9f8c4a75f9ee7ddbaea0c1c386c033e);\n",
       "        \n",
       "    \n",
       "            var circle_marker_c183da0064fd984f49f0716beef47e83 = L.circleMarker(\n",
       "                [-27.46276354076665, -58.809300890403726],\n",
       "                {&quot;bubblingMouseEvents&quot;: true, &quot;color&quot;: &quot;red&quot;, &quot;dashArray&quot;: null, &quot;dashOffset&quot;: null, &quot;fill&quot;: true, &quot;fillColor&quot;: &quot;red&quot;, &quot;fillOpacity&quot;: 0.6, &quot;fillRule&quot;: &quot;evenodd&quot;, &quot;lineCap&quot;: &quot;round&quot;, &quot;lineJoin&quot;: &quot;round&quot;, &quot;opacity&quot;: 1.0, &quot;radius&quot;: 1.0052, &quot;stroke&quot;: true, &quot;weight&quot;: 3}\n",
       "            ).addTo(map_f9f8c4a75f9ee7ddbaea0c1c386c033e);\n",
       "        \n",
       "    \n",
       "            var circle_marker_20a55b92754e4726ca5b739b8b6600b4 = L.circleMarker(\n",
       "                [-27.46306145940636, -58.80677404580655],\n",
       "                {&quot;bubblingMouseEvents&quot;: true, &quot;color&quot;: &quot;red&quot;, &quot;dashArray&quot;: null, &quot;dashOffset&quot;: null, &quot;fill&quot;: true, &quot;fillColor&quot;: &quot;red&quot;, &quot;fillOpacity&quot;: 0.6, &quot;fillRule&quot;: &quot;evenodd&quot;, &quot;lineCap&quot;: &quot;round&quot;, &quot;lineJoin&quot;: &quot;round&quot;, &quot;opacity&quot;: 1.0, &quot;radius&quot;: 0.3396, &quot;stroke&quot;: true, &quot;weight&quot;: 3}\n",
       "            ).addTo(map_f9f8c4a75f9ee7ddbaea0c1c386c033e);\n",
       "        \n",
       "    \n",
       "            var circle_marker_fbb9179293e0632fc2d6b71412e1631a = L.circleMarker(\n",
       "                [-27.50794630948138, -58.80528973012051],\n",
       "                {&quot;bubblingMouseEvents&quot;: true, &quot;color&quot;: &quot;red&quot;, &quot;dashArray&quot;: null, &quot;dashOffset&quot;: null, &quot;fill&quot;: true, &quot;fillColor&quot;: &quot;red&quot;, &quot;fillOpacity&quot;: 0.6, &quot;fillRule&quot;: &quot;evenodd&quot;, &quot;lineCap&quot;: &quot;round&quot;, &quot;lineJoin&quot;: &quot;round&quot;, &quot;opacity&quot;: 1.0, &quot;radius&quot;: 1.543, &quot;stroke&quot;: true, &quot;weight&quot;: 3}\n",
       "            ).addTo(map_f9f8c4a75f9ee7ddbaea0c1c386c033e);\n",
       "        \n",
       "    \n",
       "            var circle_marker_4d1638aeba274d0f404ab23db7216316 = L.circleMarker(\n",
       "                [-27.47804820099385, -58.802544839367926],\n",
       "                {&quot;bubblingMouseEvents&quot;: true, &quot;color&quot;: &quot;blue&quot;, &quot;dashArray&quot;: null, &quot;dashOffset&quot;: null, &quot;fill&quot;: true, &quot;fillColor&quot;: &quot;blue&quot;, &quot;fillOpacity&quot;: 0.6, &quot;fillRule&quot;: &quot;evenodd&quot;, &quot;lineCap&quot;: &quot;round&quot;, &quot;lineJoin&quot;: &quot;round&quot;, &quot;opacity&quot;: 1.0, &quot;radius&quot;: 0.4556, &quot;stroke&quot;: true, &quot;weight&quot;: 3}\n",
       "            ).addTo(map_f9f8c4a75f9ee7ddbaea0c1c386c033e);\n",
       "        \n",
       "    \n",
       "            var circle_marker_221a03a855b58ec2e119b1158a68b0be = L.circleMarker(\n",
       "                [-27.464115630154176, -58.798351117101696],\n",
       "                {&quot;bubblingMouseEvents&quot;: true, &quot;color&quot;: &quot;blue&quot;, &quot;dashArray&quot;: null, &quot;dashOffset&quot;: null, &quot;fill&quot;: true, &quot;fillColor&quot;: &quot;blue&quot;, &quot;fillOpacity&quot;: 0.6, &quot;fillRule&quot;: &quot;evenodd&quot;, &quot;lineCap&quot;: &quot;round&quot;, &quot;lineJoin&quot;: &quot;round&quot;, &quot;opacity&quot;: 1.0, &quot;radius&quot;: 0.4308, &quot;stroke&quot;: true, &quot;weight&quot;: 3}\n",
       "            ).addTo(map_f9f8c4a75f9ee7ddbaea0c1c386c033e);\n",
       "        \n",
       "    \n",
       "            var circle_marker_a325f492da0482820d0eb23d593f9330 = L.circleMarker(\n",
       "                [-27.486207074211148, -58.796761839745336],\n",
       "                {&quot;bubblingMouseEvents&quot;: true, &quot;color&quot;: &quot;blue&quot;, &quot;dashArray&quot;: null, &quot;dashOffset&quot;: null, &quot;fill&quot;: true, &quot;fillColor&quot;: &quot;blue&quot;, &quot;fillOpacity&quot;: 0.6, &quot;fillRule&quot;: &quot;evenodd&quot;, &quot;lineCap&quot;: &quot;round&quot;, &quot;lineJoin&quot;: &quot;round&quot;, &quot;opacity&quot;: 1.0, &quot;radius&quot;: 0.2474, &quot;stroke&quot;: true, &quot;weight&quot;: 3}\n",
       "            ).addTo(map_f9f8c4a75f9ee7ddbaea0c1c386c033e);\n",
       "        \n",
       "    \n",
       "            var circle_marker_ea9ccd29ac12e9b9d89d96c4d9935cd6 = L.circleMarker(\n",
       "                [-27.5005529323252, -58.792643667816094],\n",
       "                {&quot;bubblingMouseEvents&quot;: true, &quot;color&quot;: &quot;red&quot;, &quot;dashArray&quot;: null, &quot;dashOffset&quot;: null, &quot;fill&quot;: true, &quot;fillColor&quot;: &quot;red&quot;, &quot;fillOpacity&quot;: 0.6, &quot;fillRule&quot;: &quot;evenodd&quot;, &quot;lineCap&quot;: &quot;round&quot;, &quot;lineJoin&quot;: &quot;round&quot;, &quot;opacity&quot;: 1.0, &quot;radius&quot;: 0.1424, &quot;stroke&quot;: true, &quot;weight&quot;: 3}\n",
       "            ).addTo(map_f9f8c4a75f9ee7ddbaea0c1c386c033e);\n",
       "        \n",
       "    \n",
       "            var circle_marker_087d071e9a681d10dcae82b63a55cc87 = L.circleMarker(\n",
       "                [-27.45708551240905, -58.79079165358565],\n",
       "                {&quot;bubblingMouseEvents&quot;: true, &quot;color&quot;: &quot;red&quot;, &quot;dashArray&quot;: null, &quot;dashOffset&quot;: null, &quot;fill&quot;: true, &quot;fillColor&quot;: &quot;red&quot;, &quot;fillOpacity&quot;: 0.6, &quot;fillRule&quot;: &quot;evenodd&quot;, &quot;lineCap&quot;: &quot;round&quot;, &quot;lineJoin&quot;: &quot;round&quot;, &quot;opacity&quot;: 1.0, &quot;radius&quot;: 1.2444, &quot;stroke&quot;: true, &quot;weight&quot;: 3}\n",
       "            ).addTo(map_f9f8c4a75f9ee7ddbaea0c1c386c033e);\n",
       "        \n",
       "    \n",
       "            var circle_marker_2bdea3d60fd0313fadb11f74b461a792 = L.circleMarker(\n",
       "                [-27.476504044594705, -58.78834048757713],\n",
       "                {&quot;bubblingMouseEvents&quot;: true, &quot;color&quot;: &quot;blue&quot;, &quot;dashArray&quot;: null, &quot;dashOffset&quot;: null, &quot;fill&quot;: true, &quot;fillColor&quot;: &quot;blue&quot;, &quot;fillOpacity&quot;: 0.6, &quot;fillRule&quot;: &quot;evenodd&quot;, &quot;lineCap&quot;: &quot;round&quot;, &quot;lineJoin&quot;: &quot;round&quot;, &quot;opacity&quot;: 1.0, &quot;radius&quot;: 0.654, &quot;stroke&quot;: true, &quot;weight&quot;: 3}\n",
       "            ).addTo(map_f9f8c4a75f9ee7ddbaea0c1c386c033e);\n",
       "        \n",
       "    \n",
       "            var circle_marker_7629f24d9d1cca93155d5c4e9606959e = L.circleMarker(\n",
       "                [-27.543994819347013, -58.785420303322525],\n",
       "                {&quot;bubblingMouseEvents&quot;: true, &quot;color&quot;: &quot;red&quot;, &quot;dashArray&quot;: null, &quot;dashOffset&quot;: null, &quot;fill&quot;: true, &quot;fillColor&quot;: &quot;red&quot;, &quot;fillOpacity&quot;: 0.6, &quot;fillRule&quot;: &quot;evenodd&quot;, &quot;lineCap&quot;: &quot;round&quot;, &quot;lineJoin&quot;: &quot;round&quot;, &quot;opacity&quot;: 1.0, &quot;radius&quot;: 0.6718, &quot;stroke&quot;: true, &quot;weight&quot;: 3}\n",
       "            ).addTo(map_f9f8c4a75f9ee7ddbaea0c1c386c033e);\n",
       "        \n",
       "    \n",
       "            var circle_marker_bc3c9ae64b96da2b66a597df4a875f49 = L.circleMarker(\n",
       "                [-27.459625891071813, -58.78254313975735],\n",
       "                {&quot;bubblingMouseEvents&quot;: true, &quot;color&quot;: &quot;blue&quot;, &quot;dashArray&quot;: null, &quot;dashOffset&quot;: null, &quot;fill&quot;: true, &quot;fillColor&quot;: &quot;blue&quot;, &quot;fillOpacity&quot;: 0.6, &quot;fillRule&quot;: &quot;evenodd&quot;, &quot;lineCap&quot;: &quot;round&quot;, &quot;lineJoin&quot;: &quot;round&quot;, &quot;opacity&quot;: 1.0, &quot;radius&quot;: 1.701, &quot;stroke&quot;: true, &quot;weight&quot;: 3}\n",
       "            ).addTo(map_f9f8c4a75f9ee7ddbaea0c1c386c033e);\n",
       "        \n",
       "    \n",
       "            var circle_marker_e831d1b3cc4fa18573e06bb3e2b683d1 = L.circleMarker(\n",
       "                [-27.50464544192559, -58.78250229312959],\n",
       "                {&quot;bubblingMouseEvents&quot;: true, &quot;color&quot;: &quot;blue&quot;, &quot;dashArray&quot;: null, &quot;dashOffset&quot;: null, &quot;fill&quot;: true, &quot;fillColor&quot;: &quot;blue&quot;, &quot;fillOpacity&quot;: 0.6, &quot;fillRule&quot;: &quot;evenodd&quot;, &quot;lineCap&quot;: &quot;round&quot;, &quot;lineJoin&quot;: &quot;round&quot;, &quot;opacity&quot;: 1.0, &quot;radius&quot;: 0.7366, &quot;stroke&quot;: true, &quot;weight&quot;: 3}\n",
       "            ).addTo(map_f9f8c4a75f9ee7ddbaea0c1c386c033e);\n",
       "        \n",
       "    \n",
       "            var circle_marker_7e814c575712f389344661a6a4e1425c = L.circleMarker(\n",
       "                [-27.48446285572625, -58.767649680949766],\n",
       "                {&quot;bubblingMouseEvents&quot;: true, &quot;color&quot;: &quot;blue&quot;, &quot;dashArray&quot;: null, &quot;dashOffset&quot;: null, &quot;fill&quot;: true, &quot;fillColor&quot;: &quot;blue&quot;, &quot;fillOpacity&quot;: 0.6, &quot;fillRule&quot;: &quot;evenodd&quot;, &quot;lineCap&quot;: &quot;round&quot;, &quot;lineJoin&quot;: &quot;round&quot;, &quot;opacity&quot;: 1.0, &quot;radius&quot;: 0.1238, &quot;stroke&quot;: true, &quot;weight&quot;: 3}\n",
       "            ).addTo(map_f9f8c4a75f9ee7ddbaea0c1c386c033e);\n",
       "        \n",
       "    \n",
       "            var circle_marker_f07cb696b04be894bab95b7df8852db5 = L.circleMarker(\n",
       "                [-27.492547494916685, -58.76422892493388],\n",
       "                {&quot;bubblingMouseEvents&quot;: true, &quot;color&quot;: &quot;red&quot;, &quot;dashArray&quot;: null, &quot;dashOffset&quot;: null, &quot;fill&quot;: true, &quot;fillColor&quot;: &quot;red&quot;, &quot;fillOpacity&quot;: 0.6, &quot;fillRule&quot;: &quot;evenodd&quot;, &quot;lineCap&quot;: &quot;round&quot;, &quot;lineJoin&quot;: &quot;round&quot;, &quot;opacity&quot;: 1.0, &quot;radius&quot;: 0.8958, &quot;stroke&quot;: true, &quot;weight&quot;: 3}\n",
       "            ).addTo(map_f9f8c4a75f9ee7ddbaea0c1c386c033e);\n",
       "        \n",
       "    \n",
       "            var circle_marker_d6a92a1930321d4becb02d16a0748dfc = L.circleMarker(\n",
       "                [-27.536369352762456, -58.76121991892378],\n",
       "                {&quot;bubblingMouseEvents&quot;: true, &quot;color&quot;: &quot;red&quot;, &quot;dashArray&quot;: null, &quot;dashOffset&quot;: null, &quot;fill&quot;: true, &quot;fillColor&quot;: &quot;red&quot;, &quot;fillOpacity&quot;: 0.6, &quot;fillRule&quot;: &quot;evenodd&quot;, &quot;lineCap&quot;: &quot;round&quot;, &quot;lineJoin&quot;: &quot;round&quot;, &quot;opacity&quot;: 1.0, &quot;radius&quot;: 0.0162, &quot;stroke&quot;: true, &quot;weight&quot;: 3}\n",
       "            ).addTo(map_f9f8c4a75f9ee7ddbaea0c1c386c033e);\n",
       "        \n",
       "    \n",
       "            var circle_marker_b349920866238e69a923638a2e7f9102 = L.circleMarker(\n",
       "                [-27.490823421965768, -58.75115999346107],\n",
       "                {&quot;bubblingMouseEvents&quot;: true, &quot;color&quot;: &quot;blue&quot;, &quot;dashArray&quot;: null, &quot;dashOffset&quot;: null, &quot;fill&quot;: true, &quot;fillColor&quot;: &quot;blue&quot;, &quot;fillOpacity&quot;: 0.6, &quot;fillRule&quot;: &quot;evenodd&quot;, &quot;lineCap&quot;: &quot;round&quot;, &quot;lineJoin&quot;: &quot;round&quot;, &quot;opacity&quot;: 1.0, &quot;radius&quot;: 0.8674, &quot;stroke&quot;: true, &quot;weight&quot;: 3}\n",
       "            ).addTo(map_f9f8c4a75f9ee7ddbaea0c1c386c033e);\n",
       "        \n",
       "    \n",
       "            var circle_marker_bf829843325c93f71f1fb22cdc2ea4ab = L.circleMarker(\n",
       "                [-27.542961455066727, -58.73625504225769],\n",
       "                {&quot;bubblingMouseEvents&quot;: true, &quot;color&quot;: &quot;blue&quot;, &quot;dashArray&quot;: null, &quot;dashOffset&quot;: null, &quot;fill&quot;: true, &quot;fillColor&quot;: &quot;blue&quot;, &quot;fillOpacity&quot;: 0.6, &quot;fillRule&quot;: &quot;evenodd&quot;, &quot;lineCap&quot;: &quot;round&quot;, &quot;lineJoin&quot;: &quot;round&quot;, &quot;opacity&quot;: 1.0, &quot;radius&quot;: 0.0978, &quot;stroke&quot;: true, &quot;weight&quot;: 3}\n",
       "            ).addTo(map_f9f8c4a75f9ee7ddbaea0c1c386c033e);\n",
       "        \n",
       "    \n",
       "            var circle_marker_86609daf8bd2c2ae3a9ba601837f0816 = L.circleMarker(\n",
       "                [-27.516467854227507, -58.658200295877045],\n",
       "                {&quot;bubblingMouseEvents&quot;: true, &quot;color&quot;: &quot;blue&quot;, &quot;dashArray&quot;: null, &quot;dashOffset&quot;: null, &quot;fill&quot;: true, &quot;fillColor&quot;: &quot;blue&quot;, &quot;fillOpacity&quot;: 0.6, &quot;fillRule&quot;: &quot;evenodd&quot;, &quot;lineCap&quot;: &quot;round&quot;, &quot;lineJoin&quot;: &quot;round&quot;, &quot;opacity&quot;: 1.0, &quot;radius&quot;: 0.0854, &quot;stroke&quot;: true, &quot;weight&quot;: 3}\n",
       "            ).addTo(map_f9f8c4a75f9ee7ddbaea0c1c386c033e);\n",
       "        \n",
       "&lt;/script&gt;\n",
       "&lt;/html&gt;\" style=\"position:absolute;width:100%;height:100%;left:0;top:0;border:none !important;\" allowfullscreen webkitallowfullscreen mozallowfullscreen></iframe></div></div>"
      ],
      "text/plain": [
       "<folium.folium.Map at 0x7f07fac0aef0>"
      ]
     },
     "execution_count": 77,
     "metadata": {},
     "output_type": "execute_result"
    }
   ],
   "source": [
    "mapa"
   ]
  },
  {
   "cell_type": "code",
   "execution_count": 64,
   "id": "3a993a19",
   "metadata": {},
   "outputs": [
    {
     "data": {
      "text/html": [
       "<div style=\"width:100%;\"><div style=\"position:relative;width:100%;height:0;padding-bottom:60%;\"><span style=\"color:#565656\">Make this Notebook Trusted to load map: File -> Trust Notebook</span><iframe srcdoc=\"&lt;!DOCTYPE html&gt;\n",
       "&lt;html&gt;\n",
       "&lt;head&gt;\n",
       "    \n",
       "    &lt;meta http-equiv=&quot;content-type&quot; content=&quot;text/html; charset=UTF-8&quot; /&gt;\n",
       "    \n",
       "        &lt;script&gt;\n",
       "            L_NO_TOUCH = false;\n",
       "            L_DISABLE_3D = false;\n",
       "        &lt;/script&gt;\n",
       "    \n",
       "    &lt;style&gt;html, body {width: 100%;height: 100%;margin: 0;padding: 0;}&lt;/style&gt;\n",
       "    &lt;style&gt;#map {position:absolute;top:0;bottom:0;right:0;left:0;}&lt;/style&gt;\n",
       "    &lt;script src=&quot;https://cdn.jsdelivr.net/npm/leaflet@1.9.3/dist/leaflet.js&quot;&gt;&lt;/script&gt;\n",
       "    &lt;script src=&quot;https://code.jquery.com/jquery-1.12.4.min.js&quot;&gt;&lt;/script&gt;\n",
       "    &lt;script src=&quot;https://cdn.jsdelivr.net/npm/bootstrap@5.2.2/dist/js/bootstrap.bundle.min.js&quot;&gt;&lt;/script&gt;\n",
       "    &lt;script src=&quot;https://cdnjs.cloudflare.com/ajax/libs/Leaflet.awesome-markers/2.0.2/leaflet.awesome-markers.js&quot;&gt;&lt;/script&gt;\n",
       "    &lt;link rel=&quot;stylesheet&quot; href=&quot;https://cdn.jsdelivr.net/npm/leaflet@1.9.3/dist/leaflet.css&quot;/&gt;\n",
       "    &lt;link rel=&quot;stylesheet&quot; href=&quot;https://cdn.jsdelivr.net/npm/bootstrap@5.2.2/dist/css/bootstrap.min.css&quot;/&gt;\n",
       "    &lt;link rel=&quot;stylesheet&quot; href=&quot;https://netdna.bootstrapcdn.com/bootstrap/3.0.0/css/bootstrap.min.css&quot;/&gt;\n",
       "    &lt;link rel=&quot;stylesheet&quot; href=&quot;https://cdn.jsdelivr.net/npm/@fortawesome/fontawesome-free@6.2.0/css/all.min.css&quot;/&gt;\n",
       "    &lt;link rel=&quot;stylesheet&quot; href=&quot;https://cdnjs.cloudflare.com/ajax/libs/Leaflet.awesome-markers/2.0.2/leaflet.awesome-markers.css&quot;/&gt;\n",
       "    &lt;link rel=&quot;stylesheet&quot; href=&quot;https://cdn.jsdelivr.net/gh/python-visualization/folium/folium/templates/leaflet.awesome.rotate.min.css&quot;/&gt;\n",
       "    \n",
       "            &lt;meta name=&quot;viewport&quot; content=&quot;width=device-width,\n",
       "                initial-scale=1.0, maximum-scale=1.0, user-scalable=no&quot; /&gt;\n",
       "            &lt;style&gt;\n",
       "                #map_8b765f33a572f0d02590d2321650b237 {\n",
       "                    position: relative;\n",
       "                    width: 100.0%;\n",
       "                    height: 100.0%;\n",
       "                    left: 0.0%;\n",
       "                    top: 0.0%;\n",
       "                }\n",
       "                .leaflet-container { font-size: 1rem; }\n",
       "            &lt;/style&gt;\n",
       "        \n",
       "    &lt;script src=&quot;https://cdn.jsdelivr.net/gh/python-visualization/folium@main/folium/templates/leaflet_heat.min.js&quot;&gt;&lt;/script&gt;\n",
       "&lt;/head&gt;\n",
       "&lt;body&gt;\n",
       "    \n",
       "    \n",
       "            &lt;div class=&quot;folium-map&quot; id=&quot;map_8b765f33a572f0d02590d2321650b237&quot; &gt;&lt;/div&gt;\n",
       "        \n",
       "&lt;/body&gt;\n",
       "&lt;script&gt;\n",
       "    \n",
       "    \n",
       "            var map_8b765f33a572f0d02590d2321650b237 = L.map(\n",
       "                &quot;map_8b765f33a572f0d02590d2321650b237&quot;,\n",
       "                {\n",
       "                    center: [-27.5, -58.75],\n",
       "                    crs: L.CRS.EPSG3857,\n",
       "                    zoom: 12,\n",
       "                    zoomControl: true,\n",
       "                    preferCanvas: false,\n",
       "                }\n",
       "            );\n",
       "\n",
       "            \n",
       "\n",
       "        \n",
       "    \n",
       "            var tile_layer_186ff19db7e06e41127bd0d9a66a7342 = L.tileLayer(\n",
       "                &quot;https://{s}.tile.openstreetmap.org/{z}/{x}/{y}.png&quot;,\n",
       "                {&quot;attribution&quot;: &quot;Data by \\u0026copy; \\u003ca target=\\&quot;_blank\\&quot; href=\\&quot;http://openstreetmap.org\\&quot;\\u003eOpenStreetMap\\u003c/a\\u003e, under \\u003ca target=\\&quot;_blank\\&quot; href=\\&quot;http://www.openstreetmap.org/copyright\\&quot;\\u003eODbL\\u003c/a\\u003e.&quot;, &quot;detectRetina&quot;: false, &quot;maxNativeZoom&quot;: 18, &quot;maxZoom&quot;: 18, &quot;minZoom&quot;: 0, &quot;noWrap&quot;: false, &quot;opacity&quot;: 1, &quot;subdomains&quot;: &quot;abc&quot;, &quot;tms&quot;: false}\n",
       "            ).addTo(map_8b765f33a572f0d02590d2321650b237);\n",
       "        \n",
       "    \n",
       "            var heat_map_9bf12ad451c5c96893c528e0291229d6 = L.heatLayer(\n",
       "                [[-27.48884048781297, -58.85220469009686, 2957.0], [-27.473965968002226, -58.84761266500789, 8028.0], [-27.4944386828968, -58.84715095698908, 186.0], [-27.502504268774288, -58.84185386289956, 3215.0], [-27.503526255773966, -58.82997887583056, 2483.0], [-27.515234882889896, -58.82874727967732, 3654.0], [-27.488906571047515, -58.82271500188188, 1262.0], [-27.490721565787247, -58.818363193983714, 1685.0], [-27.4581754958874, -58.81800217433561, 1356.0], [-27.507874019212625, -58.81319247400218, 2610.0], [-27.49632494463024, -58.81055045997027, 3426.0], [-27.46276354076665, -58.809300890403726, 5026.0], [-27.46306145940636, -58.80677404580655, 1698.0], [-27.50794630948138, -58.80528973012051, 7715.0], [-27.47804820099385, -58.802544839367926, 2278.0], [-27.464115630154176, -58.798351117101696, 2154.0], [-27.486207074211148, -58.796761839745336, 1237.0], [-27.5005529323252, -58.792643667816094, 712.0], [-27.45708551240905, -58.79079165358565, 6222.0], [-27.476504044594705, -58.78834048757713, 3270.0], [-27.543994819347013, -58.785420303322525, 3359.0], [-27.459625891071813, -58.78254313975735, 8505.0], [-27.50464544192559, -58.78250229312959, 3683.0], [-27.48446285572625, -58.767649680949766, 619.0], [-27.492547494916685, -58.76422892493388, 4479.0], [-27.536369352762456, -58.76121991892378, 81.0], [-27.490823421965768, -58.75115999346107, 4337.0], [-27.542961455066727, -58.73625504225769, 489.0], [-27.516467854227507, -58.658200295877045, 427.0]],\n",
       "                {&quot;blur&quot;: 15, &quot;maxZoom&quot;: 18, &quot;minOpacity&quot;: 0.5, &quot;radius&quot;: 25}\n",
       "            ).addTo(map_8b765f33a572f0d02590d2321650b237);\n",
       "        \n",
       "&lt;/script&gt;\n",
       "&lt;/html&gt;\" style=\"position:absolute;width:100%;height:100%;left:0;top:0;border:none !important;\" allowfullscreen webkitallowfullscreen mozallowfullscreen></iframe></div></div>"
      ],
      "text/plain": [
       "<folium.folium.Map at 0x7f080c62ed10>"
      ]
     },
     "execution_count": 64,
     "metadata": {},
     "output_type": "execute_result"
    }
   ],
   "source": [
    "import folium\n",
    "from folium.plugins import HeatMap\n",
    "\n",
    "# Crear un mapa centrado en las coordenadas promedio\n",
    "mapa = folium.Map(location=[-27.5, -58.75], zoom_start=12)\n",
    "\n",
    "# Preparar los datos para el mapa de calor: [(lat, lng, consulta_cantidad), ...]\n",
    "data = geo_df_grouped[['lat', 'lng', 'consulta_cantidad']].values.tolist()\n",
    "\n",
    "# Añadir el mapa de calor al mapa\n",
    "HeatMap(data).add_to(mapa)\n",
    "\n",
    "# Guardar el mapa como archivo HTML\n",
    "mapa.save('heatmap_consultas.html')\n",
    "\n",
    "mapa"
   ]
  },
  {
   "cell_type": "code",
   "execution_count": 71,
   "id": "d0c06080",
   "metadata": {},
   "outputs": [],
   "source": [
    "import json\n",
    "import folium\n",
    "from folium import GeoJson\n",
    "from shapely.geometry import shape\n",
    "\n",
    "# Función para cargar JSON y convertirlo a geometría, maneja errores devolviendo None\n",
    "def load_geometry(x):\n",
    "    try:\n",
    "        return shape(json.loads(x))\n",
    "    except (TypeError, json.JSONDecodeError, ValueError):\n",
    "        return None\n",
    "\n",
    "# Convertir la columna 'st_asgeojson' a geometría\n",
    "df['geometry'] = df['st_asgeojson'].apply(load_geometry)\n",
    "\n",
    "# Filtrar filas con geometría válida\n",
    "df_valid = df[df['geometry'].notna()]\n",
    "\n",
    "# Crear un mapa centrado en las coordenadas promedio\n",
    "mapa = folium.Map(location=[-27.5, -58.75], zoom_start=12)\n",
    "\n",
    "# Añadir los polígonos al mapa con diferentes colores para barrios populares y no populares\n",
    "for idx, row in df_valid.iterrows():\n",
    "    color = 'red' if row['barrio_popular'] == 'si' else 'blue'\n",
    "    GeoJson(\n",
    "        row['geometry'],\n",
    "        style_function=lambda x, color=color: {'fillColor': color, 'color': color, 'weight': 1, 'fillOpacity': 0.6}\n",
    "    ).add_to(mapa)\n",
    "\n",
    "# Guardar el mapa como archivo HTML\n",
    "mapa.save('polygon_heatmap.html')"
   ]
  },
  {
   "cell_type": "code",
   "execution_count": null,
   "id": "71176988",
   "metadata": {},
   "outputs": [],
   "source": []
  },
  {
   "cell_type": "code",
   "execution_count": 89,
   "id": "bf468389",
   "metadata": {},
   "outputs": [
    {
     "ename": "KeyError",
     "evalue": "'fecha'",
     "output_type": "error",
     "traceback": [
      "\u001b[0;31m---------------------------------------------------------------------------\u001b[0m",
      "\u001b[0;31mKeyError\u001b[0m                                  Traceback (most recent call last)",
      "\u001b[0;32m~/.local/lib/python3.10/site-packages/pandas/core/indexes/base.py\u001b[0m in \u001b[0;36mget_loc\u001b[0;34m(self, key, method, tolerance)\u001b[0m\n\u001b[1;32m   3801\u001b[0m             \u001b[0;32mtry\u001b[0m\u001b[0;34m:\u001b[0m\u001b[0;34m\u001b[0m\u001b[0;34m\u001b[0m\u001b[0m\n\u001b[0;32m-> 3802\u001b[0;31m                 \u001b[0;32mreturn\u001b[0m \u001b[0mself\u001b[0m\u001b[0;34m.\u001b[0m\u001b[0m_engine\u001b[0m\u001b[0;34m.\u001b[0m\u001b[0mget_loc\u001b[0m\u001b[0;34m(\u001b[0m\u001b[0mcasted_key\u001b[0m\u001b[0;34m)\u001b[0m\u001b[0;34m\u001b[0m\u001b[0;34m\u001b[0m\u001b[0m\n\u001b[0m\u001b[1;32m   3803\u001b[0m             \u001b[0;32mexcept\u001b[0m \u001b[0mKeyError\u001b[0m \u001b[0;32mas\u001b[0m \u001b[0merr\u001b[0m\u001b[0;34m:\u001b[0m\u001b[0;34m\u001b[0m\u001b[0;34m\u001b[0m\u001b[0m\n",
      "\u001b[0;32m~/.local/lib/python3.10/site-packages/pandas/_libs/index.pyx\u001b[0m in \u001b[0;36mpandas._libs.index.IndexEngine.get_loc\u001b[0;34m()\u001b[0m\n",
      "\u001b[0;32m~/.local/lib/python3.10/site-packages/pandas/_libs/index.pyx\u001b[0m in \u001b[0;36mpandas._libs.index.IndexEngine.get_loc\u001b[0;34m()\u001b[0m\n",
      "\u001b[0;32mpandas/_libs/hashtable_class_helper.pxi\u001b[0m in \u001b[0;36mpandas._libs.hashtable.PyObjectHashTable.get_item\u001b[0;34m()\u001b[0m\n",
      "\u001b[0;32mpandas/_libs/hashtable_class_helper.pxi\u001b[0m in \u001b[0;36mpandas._libs.hashtable.PyObjectHashTable.get_item\u001b[0;34m()\u001b[0m\n",
      "\u001b[0;31mKeyError\u001b[0m: 'fecha'",
      "\nThe above exception was the direct cause of the following exception:\n",
      "\u001b[0;31mKeyError\u001b[0m                                  Traceback (most recent call last)",
      "\u001b[0;32m/tmp/ipykernel_137081/1154080382.py\u001b[0m in \u001b[0;36m<module>\u001b[0;34m\u001b[0m\n\u001b[1;32m      3\u001b[0m \u001b[0;34m\u001b[0m\u001b[0m\n\u001b[1;32m      4\u001b[0m \u001b[0;31m# Agrupa por 'rango_etario_normalizado', 'fecha' y 'barrio_popular', y suma las 'consulta_cantidad'\u001b[0m\u001b[0;34m\u001b[0m\u001b[0;34m\u001b[0m\u001b[0m\n\u001b[0;32m----> 5\u001b[0;31m \u001b[0mresultado\u001b[0m \u001b[0;34m=\u001b[0m \u001b[0mdf\u001b[0m\u001b[0;34m.\u001b[0m\u001b[0mgroupby\u001b[0m\u001b[0;34m(\u001b[0m\u001b[0;34m[\u001b[0m\u001b[0mdf\u001b[0m\u001b[0;34m[\u001b[0m\u001b[0;34m'fecha'\u001b[0m\u001b[0;34m]\u001b[0m\u001b[0;34m.\u001b[0m\u001b[0mdt\u001b[0m\u001b[0;34m.\u001b[0m\u001b[0mto_period\u001b[0m\u001b[0;34m(\u001b[0m\u001b[0;34m'M'\u001b[0m\u001b[0;34m)\u001b[0m\u001b[0;34m,\u001b[0m \u001b[0;34m'rango_etario_normalizado'\u001b[0m\u001b[0;34m,\u001b[0m \u001b[0;34m'barrio_popular'\u001b[0m\u001b[0;34m]\u001b[0m\u001b[0;34m)\u001b[0m\u001b[0;34m[\u001b[0m\u001b[0;34m'consulta_cantidad'\u001b[0m\u001b[0;34m]\u001b[0m\u001b[0;34m.\u001b[0m\u001b[0msum\u001b[0m\u001b[0;34m(\u001b[0m\u001b[0;34m)\u001b[0m\u001b[0;34m.\u001b[0m\u001b[0mreset_index\u001b[0m\u001b[0;34m(\u001b[0m\u001b[0;34m)\u001b[0m\u001b[0;34m\u001b[0m\u001b[0;34m\u001b[0m\u001b[0m\n\u001b[0m\u001b[1;32m      6\u001b[0m \u001b[0;34m\u001b[0m\u001b[0m\n\u001b[1;32m      7\u001b[0m \u001b[0;31m# Convertir 'fecha' de nuevo a datetime\u001b[0m\u001b[0;34m\u001b[0m\u001b[0;34m\u001b[0m\u001b[0m\n",
      "\u001b[0;32m~/.local/lib/python3.10/site-packages/pandas/core/frame.py\u001b[0m in \u001b[0;36m__getitem__\u001b[0;34m(self, key)\u001b[0m\n\u001b[1;32m   3805\u001b[0m             \u001b[0;32mif\u001b[0m \u001b[0mself\u001b[0m\u001b[0;34m.\u001b[0m\u001b[0mcolumns\u001b[0m\u001b[0;34m.\u001b[0m\u001b[0mnlevels\u001b[0m \u001b[0;34m>\u001b[0m \u001b[0;36m1\u001b[0m\u001b[0;34m:\u001b[0m\u001b[0;34m\u001b[0m\u001b[0;34m\u001b[0m\u001b[0m\n\u001b[1;32m   3806\u001b[0m                 \u001b[0;32mreturn\u001b[0m \u001b[0mself\u001b[0m\u001b[0;34m.\u001b[0m\u001b[0m_getitem_multilevel\u001b[0m\u001b[0;34m(\u001b[0m\u001b[0mkey\u001b[0m\u001b[0;34m)\u001b[0m\u001b[0;34m\u001b[0m\u001b[0;34m\u001b[0m\u001b[0m\n\u001b[0;32m-> 3807\u001b[0;31m             \u001b[0mindexer\u001b[0m \u001b[0;34m=\u001b[0m \u001b[0mself\u001b[0m\u001b[0;34m.\u001b[0m\u001b[0mcolumns\u001b[0m\u001b[0;34m.\u001b[0m\u001b[0mget_loc\u001b[0m\u001b[0;34m(\u001b[0m\u001b[0mkey\u001b[0m\u001b[0;34m)\u001b[0m\u001b[0;34m\u001b[0m\u001b[0;34m\u001b[0m\u001b[0m\n\u001b[0m\u001b[1;32m   3808\u001b[0m             \u001b[0;32mif\u001b[0m \u001b[0mis_integer\u001b[0m\u001b[0;34m(\u001b[0m\u001b[0mindexer\u001b[0m\u001b[0;34m)\u001b[0m\u001b[0;34m:\u001b[0m\u001b[0;34m\u001b[0m\u001b[0;34m\u001b[0m\u001b[0m\n\u001b[1;32m   3809\u001b[0m                 \u001b[0mindexer\u001b[0m \u001b[0;34m=\u001b[0m \u001b[0;34m[\u001b[0m\u001b[0mindexer\u001b[0m\u001b[0;34m]\u001b[0m\u001b[0;34m\u001b[0m\u001b[0;34m\u001b[0m\u001b[0m\n",
      "\u001b[0;32m~/.local/lib/python3.10/site-packages/pandas/core/indexes/base.py\u001b[0m in \u001b[0;36mget_loc\u001b[0;34m(self, key, method, tolerance)\u001b[0m\n\u001b[1;32m   3802\u001b[0m                 \u001b[0;32mreturn\u001b[0m \u001b[0mself\u001b[0m\u001b[0;34m.\u001b[0m\u001b[0m_engine\u001b[0m\u001b[0;34m.\u001b[0m\u001b[0mget_loc\u001b[0m\u001b[0;34m(\u001b[0m\u001b[0mcasted_key\u001b[0m\u001b[0;34m)\u001b[0m\u001b[0;34m\u001b[0m\u001b[0;34m\u001b[0m\u001b[0m\n\u001b[1;32m   3803\u001b[0m             \u001b[0;32mexcept\u001b[0m \u001b[0mKeyError\u001b[0m \u001b[0;32mas\u001b[0m \u001b[0merr\u001b[0m\u001b[0;34m:\u001b[0m\u001b[0;34m\u001b[0m\u001b[0;34m\u001b[0m\u001b[0m\n\u001b[0;32m-> 3804\u001b[0;31m                 \u001b[0;32mraise\u001b[0m \u001b[0mKeyError\u001b[0m\u001b[0;34m(\u001b[0m\u001b[0mkey\u001b[0m\u001b[0;34m)\u001b[0m \u001b[0;32mfrom\u001b[0m \u001b[0merr\u001b[0m\u001b[0;34m\u001b[0m\u001b[0;34m\u001b[0m\u001b[0m\n\u001b[0m\u001b[1;32m   3805\u001b[0m             \u001b[0;32mexcept\u001b[0m \u001b[0mTypeError\u001b[0m\u001b[0;34m:\u001b[0m\u001b[0;34m\u001b[0m\u001b[0;34m\u001b[0m\u001b[0m\n\u001b[1;32m   3806\u001b[0m                 \u001b[0;31m# If we have a listlike key, _check_indexing_error will raise\u001b[0m\u001b[0;34m\u001b[0m\u001b[0;34m\u001b[0m\u001b[0m\n",
      "\u001b[0;31mKeyError\u001b[0m: 'fecha'"
     ]
    }
   ],
   "source": []
  },
  {
   "cell_type": "code",
   "execution_count": null,
   "id": "05920fd4",
   "metadata": {},
   "outputs": [],
   "source": []
  },
  {
   "cell_type": "code",
   "execution_count": 99,
   "id": "1fd6b016",
   "metadata": {},
   "outputs": [],
   "source": [
    "import pandas as pd\n",
    "import folium\n",
    "import json\n",
    "import branca.colormap as cm\n",
    "# Agrupar los datos por barrio y sumar la cantidad de consultas para cada barrio\n",
    "grouped = df.groupby('nombre_barrio_correcto')['consulta_cantidad'].sum().reset_index()\n",
    "\n",
    "# Crear un nuevo DataFrame que contenga la información de los polígonos de cada barrio\n",
    "polygons = df[['nombre_barrio_correcto', 'st_asgeojson']].drop_duplicates()\n",
    "\n",
    "# Unir el DataFrame de los polígonos con el DataFrame agrupado\n",
    "final_df = pd.merge(grouped, polygons, on='nombre_barrio_correcto')\n",
    "\n",
    "# Crear un mapa centrado en Corrientes\n",
    "m = folium.Map(location=[-27.4698, -58.8306], zoom_start=13)\n",
    "\n",
    "# Crear una escala de colores\n",
    "min_consultas = final_df['consulta_cantidad'].min()\n",
    "max_consultas = final_df['consulta_cantidad'].max()\n",
    "colormap = cm.linear.YlOrRd_09.scale(min_consultas, max_consultas)\n",
    "\n",
    "# Agregar la escala de colores al mapa como una leyenda\n",
    "colormap.add_to(m)\n",
    "\n",
    "# Agregar el mapa de calor al mapa\n",
    "for _, row in final_df.iterrows():\n",
    "    try:\n",
    "        geojson = folium.GeoJson(\n",
    "            data=json.loads(row['st_asgeojson']),\n",
    "            style_function=lambda x, color=colormap(row['consulta_cantidad']): {'fillColor': color, 'fillOpacity': 0.7, 'weight': 0}\n",
    "        )\n",
    "        geojson.add_child(folium.Popup(f\"{row['nombre_barrio_correcto']}: {row['consulta_cantidad']}\"))\n",
    "        geojson.add_to(m)\n",
    "    except Exception as e:\n",
    "        print(f\"Error al procesar el barrio {row['nombre_barrio_correcto']}: {e}\")\n",
    "\n",
    "\n",
    "        \n",
    "        \n",
    "        \n",
    "# Mostrar el mapa\n",
    "m.save('mapa_calor.html')\n"
   ]
  },
  {
   "cell_type": "code",
   "execution_count": 100,
   "id": "5f681a50",
   "metadata": {},
   "outputs": [
    {
     "data": {
      "text/html": [
       "<div style=\"width:100%;\"><div style=\"position:relative;width:100%;height:0;padding-bottom:60%;\"><span style=\"color:#565656\">Make this Notebook Trusted to load map: File -> Trust Notebook</span><iframe srcdoc=\"&lt;!DOCTYPE html&gt;\n",
       "&lt;html&gt;\n",
       "&lt;head&gt;\n",
       "    \n",
       "    &lt;meta http-equiv=&quot;content-type&quot; content=&quot;text/html; charset=UTF-8&quot; /&gt;\n",
       "    \n",
       "        &lt;script&gt;\n",
       "            L_NO_TOUCH = false;\n",
       "            L_DISABLE_3D = false;\n",
       "        &lt;/script&gt;\n",
       "    \n",
       "    &lt;style&gt;html, body {width: 100%;height: 100%;margin: 0;padding: 0;}&lt;/style&gt;\n",
       "    &lt;style&gt;#map {position:absolute;top:0;bottom:0;right:0;left:0;}&lt;/style&gt;\n",
       "    &lt;script src=&quot;https://cdn.jsdelivr.net/npm/leaflet@1.9.3/dist/leaflet.js&quot;&gt;&lt;/script&gt;\n",
       "    &lt;script src=&quot;https://code.jquery.com/jquery-1.12.4.min.js&quot;&gt;&lt;/script&gt;\n",
       "    &lt;script src=&quot;https://cdn.jsdelivr.net/npm/bootstrap@5.2.2/dist/js/bootstrap.bundle.min.js&quot;&gt;&lt;/script&gt;\n",
       "    &lt;script src=&quot;https://cdnjs.cloudflare.com/ajax/libs/Leaflet.awesome-markers/2.0.2/leaflet.awesome-markers.js&quot;&gt;&lt;/script&gt;\n",
       "    &lt;link rel=&quot;stylesheet&quot; href=&quot;https://cdn.jsdelivr.net/npm/leaflet@1.9.3/dist/leaflet.css&quot;/&gt;\n",
       "    &lt;link rel=&quot;stylesheet&quot; href=&quot;https://cdn.jsdelivr.net/npm/bootstrap@5.2.2/dist/css/bootstrap.min.css&quot;/&gt;\n",
       "    &lt;link rel=&quot;stylesheet&quot; href=&quot;https://netdna.bootstrapcdn.com/bootstrap/3.0.0/css/bootstrap.min.css&quot;/&gt;\n",
       "    &lt;link rel=&quot;stylesheet&quot; href=&quot;https://cdn.jsdelivr.net/npm/@fortawesome/fontawesome-free@6.2.0/css/all.min.css&quot;/&gt;\n",
       "    &lt;link rel=&quot;stylesheet&quot; href=&quot;https://cdnjs.cloudflare.com/ajax/libs/Leaflet.awesome-markers/2.0.2/leaflet.awesome-markers.css&quot;/&gt;\n",
       "    &lt;link rel=&quot;stylesheet&quot; href=&quot;https://cdn.jsdelivr.net/gh/python-visualization/folium/folium/templates/leaflet.awesome.rotate.min.css&quot;/&gt;\n",
       "    \n",
       "            &lt;meta name=&quot;viewport&quot; content=&quot;width=device-width,\n",
       "                initial-scale=1.0, maximum-scale=1.0, user-scalable=no&quot; /&gt;\n",
       "            &lt;style&gt;\n",
       "                #map_17cf8e4bad50bc413478c9236257baf3 {\n",
       "                    position: relative;\n",
       "                    width: 100.0%;\n",
       "                    height: 100.0%;\n",
       "                    left: 0.0%;\n",
       "                    top: 0.0%;\n",
       "                }\n",
       "                .leaflet-container { font-size: 1rem; }\n",
       "            &lt;/style&gt;\n",
       "        \n",
       "    &lt;script src=&quot;https://cdnjs.cloudflare.com/ajax/libs/d3/3.5.5/d3.min.js&quot;&gt;&lt;/script&gt;\n",
       "&lt;/head&gt;\n",
       "&lt;body&gt;\n",
       "    \n",
       "    \n",
       "            &lt;div class=&quot;folium-map&quot; id=&quot;map_17cf8e4bad50bc413478c9236257baf3&quot; &gt;&lt;/div&gt;\n",
       "        \n",
       "&lt;/body&gt;\n",
       "&lt;script&gt;\n",
       "    \n",
       "    \n",
       "            var map_17cf8e4bad50bc413478c9236257baf3 = L.map(\n",
       "                &quot;map_17cf8e4bad50bc413478c9236257baf3&quot;,\n",
       "                {\n",
       "                    center: [-27.4698, -58.8306],\n",
       "                    crs: L.CRS.EPSG3857,\n",
       "                    zoom: 13,\n",
       "                    zoomControl: true,\n",
       "                    preferCanvas: false,\n",
       "                }\n",
       "            );\n",
       "\n",
       "            \n",
       "\n",
       "        \n",
       "    \n",
       "            var tile_layer_b04b478ffe601516ff57e579cac0b353 = L.tileLayer(\n",
       "                &quot;https://{s}.tile.openstreetmap.org/{z}/{x}/{y}.png&quot;,\n",
       "                {&quot;attribution&quot;: &quot;Data by \\u0026copy; \\u003ca target=\\&quot;_blank\\&quot; href=\\&quot;http://openstreetmap.org\\&quot;\\u003eOpenStreetMap\\u003c/a\\u003e, under \\u003ca target=\\&quot;_blank\\&quot; href=\\&quot;http://www.openstreetmap.org/copyright\\&quot;\\u003eODbL\\u003c/a\\u003e.&quot;, &quot;detectRetina&quot;: false, &quot;maxNativeZoom&quot;: 18, &quot;maxZoom&quot;: 18, &quot;minZoom&quot;: 0, &quot;noWrap&quot;: false, &quot;opacity&quot;: 1, &quot;subdomains&quot;: &quot;abc&quot;, &quot;tms&quot;: false}\n",
       "            ).addTo(map_17cf8e4bad50bc413478c9236257baf3);\n",
       "        \n",
       "    \n",
       "    var color_map_3d34d2464ab0599e928fdca3ba9b6d8c = {};\n",
       "\n",
       "    \n",
       "    color_map_3d34d2464ab0599e928fdca3ba9b6d8c.color = d3.scale.threshold()\n",
       "              .domain([81.0, 101.52905811623246, 122.05811623246493, 142.5871743486974, 163.11623246492985, 183.64529058116233, 204.1743486973948, 224.70340681362725, 245.23246492985973, 265.7615230460922, 286.29058116232466, 306.81963927855713, 327.3486973947896, 347.87775551102203, 368.4068136272545, 388.935871743487, 409.46492985971946, 429.9939879759519, 450.52304609218436, 471.05210420841684, 491.5811623246493, 512.1102204408818, 532.6392785571143, 553.1683366733466, 573.6973947895792, 594.2264529058116, 614.7555110220441, 635.2845691382765, 655.813627254509, 676.3426853707415, 696.871743486974, 717.4008016032064, 737.9298597194389, 758.4589178356713, 778.9879759519038, 799.5170340681362, 820.0460921843687, 840.5751503006012, 861.1042084168337, 881.6332665330661, 902.1623246492986, 922.6913827655311, 943.2204408817636, 963.7494989979959, 984.2785571142284, 1004.8076152304609, 1025.3366733466933, 1045.8657314629259, 1066.3947895791584, 1086.9238476953908, 1107.4529058116232, 1127.9819639278558, 1148.5110220440881, 1169.0400801603207, 1189.569138276553, 1210.0981963927857, 1230.627254509018, 1251.1563126252504, 1271.685370741483, 1292.2144288577153, 1312.743486973948, 1333.2725450901803, 1353.801603206413, 1374.3306613226453, 1394.8597194388778, 1415.3887775551102, 1435.9178356713426, 1456.4468937875752, 1476.9759519038075, 1497.5050100200401, 1518.0340681362725, 1538.563126252505, 1559.0921843687374, 1579.62124248497, 1600.1503006012024, 1620.679358717435, 1641.2084168336673, 1661.7374749498997, 1682.2665330661323, 1702.7955911823647, 1723.3246492985973, 1743.8537074148296, 1764.3827655310622, 1784.9118236472946, 1805.4408817635272, 1825.9699398797595, 1846.4989979959919, 1867.0280561122245, 1887.5571142284568, 1908.0861723446894, 1928.6152304609218, 1949.1442885771544, 1969.6733466933867, 1990.2024048096193, 2010.7314629258517, 2031.260521042084, 2051.789579158317, 2072.318637274549, 2092.8476953907816, 2113.3767535070137, 2133.9058116232463, 2154.434869739479, 2174.9639278557115, 2195.492985971944, 2216.0220440881762, 2236.551102204409, 2257.0801603206414, 2277.6092184368736, 2298.138276553106, 2318.6673346693387, 2339.1963927855713, 2359.7254509018035, 2380.254509018036, 2400.7835671342687, 2421.312625250501, 2441.8416833667334, 2462.370741482966, 2482.8997995991986, 2503.4288577154307, 2523.9579158316633, 2544.486973947896, 2565.0160320641285, 2585.5450901803606, 2606.074148296593, 2626.603206412826, 2647.132264529058, 2667.6613226452905, 2688.190380761523, 2708.7194388777557, 2729.248496993988, 2749.7775551102204, 2770.306613226453, 2790.835671342685, 2811.3647294589177, 2831.8937875751503, 2852.422845691383, 2872.951903807615, 2893.4809619238476, 2914.0100200400802, 2934.539078156313, 2955.068136272545, 2975.5971943887776, 2996.12625250501, 3016.6553106212423, 3037.184368737475, 3057.7134268537075, 3078.24248496994, 3098.771543086172, 3119.300601202405, 3139.8296593186374, 3160.35871743487, 3180.887775551102, 3201.4168336673347, 3221.9458917835673, 3242.4749498997994, 3263.004008016032, 3283.5330661322646, 3304.062124248497, 3324.5911823647293, 3345.120240480962, 3365.6492985971945, 3386.1783567134266, 3406.7074148296592, 3427.236472945892, 3447.7655310621244, 3468.2945891783565, 3488.823647294589, 3509.3527054108217, 3529.8817635270543, 3550.4108216432865, 3570.939879759519, 3591.4689378757516, 3611.9979959919838, 3632.5270541082164, 3653.056112224449, 3673.5851703406815, 3694.1142284569137, 3714.6432865731463, 3735.172344689379, 3755.701402805611, 3776.2304609218436, 3796.759519038076, 3817.2885771543088, 3837.817635270541, 3858.3466933867735, 3878.875751503006, 3899.4048096192387, 3919.933867735471, 3940.4629258517034, 3960.991983967936, 3981.521042084168, 4002.0501002004007, 4022.5791583166333, 4043.108216432866, 4063.637274549098, 4084.1663326653306, 4104.695390781563, 4125.224448897796, 4145.7535070140275, 4166.282565130261, 4186.811623246493, 4207.340681362725, 4227.869739478958, 4248.39879759519, 4268.927855711423, 4289.456913827656, 4309.985971943888, 4330.51503006012, 4351.0440881763525, 4371.573146292585, 4392.102204408818, 4412.63126252505, 4433.160320641283, 4453.689378757515, 4474.218436873747, 4494.74749498998, 4515.276553106212, 4535.805611222445, 4556.3346693386775, 4576.86372745491, 4597.392785571143, 4617.921843687374, 4638.450901803607, 4658.9799599198395, 4679.509018036072, 4700.038076152305, 4720.567134268537, 4741.09619238477, 4761.625250501002, 4782.154308617234, 4802.683366733467, 4823.212424849699, 4843.741482965932, 4864.2705410821645, 4884.799599198397, 4905.32865731463, 4925.857715430861, 4946.386773547094, 4966.915831663327, 4987.444889779559, 5007.973947895792, 5028.503006012024, 5049.032064128257, 5069.561122244489, 5090.090180360721, 5110.619238476954, 5131.148296593186, 5151.677354709419, 5172.206412825652, 5192.735470941884, 5213.264529058116, 5233.793587174348, 5254.322645290581, 5274.851703406814, 5295.380761523046, 5315.909819639279, 5336.438877755511, 5356.967935871743, 5377.496993987976, 5398.026052104208, 5418.555110220441, 5439.084168336673, 5459.613226452906, 5480.142284569139, 5500.67134268537, 5521.200400801603, 5541.7294589178355, 5562.258517034068, 5582.787575150301, 5603.316633266533, 5623.845691382766, 5644.374749498998, 5664.90380761523, 5685.432865731463, 5705.961923847695, 5726.490981963928, 5747.0200400801605, 5767.549098196393, 5788.078156312626, 5808.607214428857, 5829.13627254509, 5849.6653306613225, 5870.194388777555, 5890.723446893788, 5911.25250501002, 5931.781563126253, 5952.310621242485, 5972.839679358717, 5993.36873747495, 6013.897795591182, 6034.426853707415, 6054.9559118236475, 6075.48496993988, 6096.014028056112, 6116.543086172344, 6137.072144288577, 6157.60120240481, 6178.130260521042, 6198.659318637275, 6219.188376753507, 6239.71743486974, 6260.246492985972, 6280.775551102204, 6301.304609218437, 6321.833667334669, 6342.362725450902, 6362.891783567135, 6383.420841683367, 6403.949899799599, 6424.478957915831, 6445.008016032064, 6465.537074148297, 6486.066132264529, 6506.595190380762, 6527.124248496994, 6547.653306613226, 6568.182364729459, 6588.711422845691, 6609.240480961924, 6629.769539078156, 6650.298597194389, 6670.827655310622, 6691.356713426853, 6711.885771543086, 6732.4148296593185, 6752.943887775551, 6773.472945891784, 6794.002004008016, 6814.531062124249, 6835.060120240481, 6855.589178356713, 6876.118236472946, 6896.647294589178, 6917.176352705411, 6937.705410821643, 6958.234468937876, 6978.763527054109, 6999.29258517034, 7019.821643286573, 7040.3507014028055, 7060.879759519038, 7081.408817635271, 7101.937875751503, 7122.466933867736, 7142.9959919839675, 7163.5250501002, 7184.054108216433, 7204.583166332665, 7225.112224448898, 7245.6412825651305, 7266.170340681363, 7286.699398797595, 7307.228456913827, 7327.75751503006, 7348.2865731462925, 7368.815631262525, 7389.344689378758, 7409.87374749499, 7430.402805611222, 7450.931863727455, 7471.460921843687, 7491.98997995992, 7512.519038076152, 7533.048096192385, 7553.5771543086175, 7574.10621242485, 7594.635270541082, 7615.164328657314, 7635.693386773547, 7656.22244488978, 7676.751503006012, 7697.280561122245, 7717.809619238477, 7738.338677354709, 7758.867735470942, 7779.396793587174, 7799.925851703407, 7820.454909819639, 7840.983967935872, 7861.513026052105, 7882.042084168336, 7902.571142284569, 7923.100200400801, 7943.629258517034, 7964.158316633267, 7984.687374749499, 8005.216432865732, 8025.7454909819635, 8046.274549098196, 8066.803607214429, 8087.332665330661, 8107.861723446894, 8128.390781563126, 8148.919839679359, 8169.448897795592, 8189.977955911823, 8210.507014028055, 8231.036072144288, 8251.565130260522, 8272.094188376754, 8292.623246492985, 8313.152304609219, 8333.68136272545, 8354.210420841684, 8374.739478957916, 8395.268537074147, 8415.79759519038, 8436.326653306613, 8456.855711422846, 8477.384769539078, 8497.913827655311, 8518.442885771543, 8538.971943887776, 8559.501002004008, 8580.03006012024, 8600.559118236473, 8621.088176352705, 8641.617234468938, 8662.14629258517, 8682.675350701404, 8703.204408817635, 8723.733466933867, 8744.2625250501, 8764.791583166332, 8785.320641282566, 8805.849699398797, 8826.37875751503, 8846.907815631263, 8867.436873747494, 8887.965931863728, 8908.49498997996, 8929.024048096193, 8949.553106212425, 8970.082164328658, 8990.61122244489, 9011.140280561121, 9031.669338677355, 9052.198396793587, 9072.72745490982, 9093.256513026052, 9113.785571142285, 9134.314629258517, 9154.843687374749, 9175.372745490982, 9195.901803607214, 9216.430861723447, 9236.959919839679, 9257.488977955913, 9278.018036072144, 9298.547094188376, 9319.07615230461, 9339.605210420841, 9360.134268537075, 9380.663326653306, 9401.19238476954, 9421.721442885771, 9442.250501002003, 9462.779559118237, 9483.308617234468, 9503.837675350702, 9524.366733466934, 9544.895791583167, 9565.424849699399, 9585.95390781563, 9606.482965931864, 9627.012024048096, 9647.541082164329, 9668.07014028056, 9688.599198396794, 9709.128256513026, 9729.65731462926, 9750.186372745491, 9770.715430861723, 9791.244488977956, 9811.773547094188, 9832.302605210421, 9852.831663326653, 9873.360721442887, 9893.889779559118, 9914.41883767535, 9934.947895791584, 9955.476953907815, 9976.006012024049, 9996.53507014028, 10017.064128256514, 10037.593186372746, 10058.122244488977, 10078.65130260521, 10099.180360721442, 10119.709418837676, 10140.238476953908, 10160.767535070141, 10181.296593186373, 10201.825651302604, 10222.354709418838, 10242.88376753507, 10263.412825651303, 10283.941883767535, 10304.470941883768, 10325.0])\n",
       "              .range([&#x27;#ffffccff&#x27;, &#x27;#ffffccff&#x27;, &#x27;#ffffcbff&#x27;, &#x27;#ffffcaff&#x27;, &#x27;#fffec9ff&#x27;, &#x27;#fffec9ff&#x27;, &#x27;#fffec8ff&#x27;, &#x27;#fffdc7ff&#x27;, &#x27;#fffdc7ff&#x27;, &#x27;#fffdc6ff&#x27;, &#x27;#fffdc5ff&#x27;, &#x27;#fffcc5ff&#x27;, &#x27;#fffcc4ff&#x27;, &#x27;#fffcc3ff&#x27;, &#x27;#fffbc2ff&#x27;, &#x27;#fffbc2ff&#x27;, &#x27;#fffbc1ff&#x27;, &#x27;#fffbc0ff&#x27;, &#x27;#fffac0ff&#x27;, &#x27;#fffabfff&#x27;, &#x27;#fffabeff&#x27;, &#x27;#fff9bdff&#x27;, &#x27;#fff9bdff&#x27;, &#x27;#fff9bcff&#x27;, &#x27;#fff9bbff&#x27;, &#x27;#fff8bbff&#x27;, &#x27;#fff8baff&#x27;, &#x27;#fff8b9ff&#x27;, &#x27;#fff7b8ff&#x27;, &#x27;#fff7b8ff&#x27;, &#x27;#fff7b7ff&#x27;, &#x27;#fff7b6ff&#x27;, &#x27;#fff6b6ff&#x27;, &#x27;#fff6b5ff&#x27;, &#x27;#fff6b4ff&#x27;, &#x27;#fff5b4ff&#x27;, &#x27;#fff5b3ff&#x27;, &#x27;#fff5b2ff&#x27;, &#x27;#fff4b1ff&#x27;, &#x27;#fff4b1ff&#x27;, &#x27;#fff4b0ff&#x27;, &#x27;#fff4afff&#x27;, &#x27;#fff3afff&#x27;, &#x27;#fff3aeff&#x27;, &#x27;#fff3adff&#x27;, &#x27;#fff2acff&#x27;, &#x27;#fff2acff&#x27;, &#x27;#fff2abff&#x27;, &#x27;#fff2aaff&#x27;, &#x27;#fff1aaff&#x27;, &#x27;#fff1a9ff&#x27;, &#x27;#fff1a8ff&#x27;, &#x27;#fff0a7ff&#x27;, &#x27;#fff0a7ff&#x27;, &#x27;#fff0a6ff&#x27;, &#x27;#fff0a5ff&#x27;, &#x27;#ffefa5ff&#x27;, &#x27;#ffefa4ff&#x27;, &#x27;#ffefa3ff&#x27;, &#x27;#ffeea3ff&#x27;, &#x27;#ffeea2ff&#x27;, &#x27;#ffeea1ff&#x27;, &#x27;#ffeea0ff&#x27;, &#x27;#ffeda0ff&#x27;, &#x27;#ffed9fff&#x27;, &#x27;#ffed9eff&#x27;, &#x27;#ffec9eff&#x27;, &#x27;#ffec9dff&#x27;, &#x27;#ffec9cff&#x27;, &#x27;#ffeb9cff&#x27;, &#x27;#ffeb9bff&#x27;, &#x27;#ffeb9aff&#x27;, &#x27;#ffea9aff&#x27;, &#x27;#ffea99ff&#x27;, &#x27;#ffea98ff&#x27;, &#x27;#ffe998ff&#x27;, &#x27;#ffe997ff&#x27;, &#x27;#ffe996ff&#x27;, &#x27;#ffe896ff&#x27;, &#x27;#ffe895ff&#x27;, &#x27;#ffe894ff&#x27;, &#x27;#ffe794ff&#x27;, &#x27;#ffe793ff&#x27;, &#x27;#ffe792ff&#x27;, &#x27;#ffe692ff&#x27;, &#x27;#ffe691ff&#x27;, &#x27;#ffe690ff&#x27;, &#x27;#ffe68fff&#x27;, &#x27;#ffe58fff&#x27;, &#x27;#ffe58eff&#x27;, &#x27;#ffe58dff&#x27;, &#x27;#ffe48dff&#x27;, &#x27;#ffe48cff&#x27;, &#x27;#ffe48bff&#x27;, &#x27;#ffe38bff&#x27;, &#x27;#ffe38aff&#x27;, &#x27;#ffe389ff&#x27;, &#x27;#ffe289ff&#x27;, &#x27;#ffe288ff&#x27;, &#x27;#ffe287ff&#x27;, &#x27;#ffe187ff&#x27;, &#x27;#ffe186ff&#x27;, &#x27;#ffe185ff&#x27;, &#x27;#ffe085ff&#x27;, &#x27;#ffe084ff&#x27;, &#x27;#ffe083ff&#x27;, &#x27;#ffdf83ff&#x27;, &#x27;#ffdf82ff&#x27;, &#x27;#ffdf81ff&#x27;, &#x27;#ffde81ff&#x27;, &#x27;#ffde80ff&#x27;, &#x27;#ffde7fff&#x27;, &#x27;#ffdd7fff&#x27;, &#x27;#ffdd7eff&#x27;, &#x27;#ffdd7dff&#x27;, &#x27;#ffdc7dff&#x27;, &#x27;#ffdc7cff&#x27;, &#x27;#ffdc7bff&#x27;, &#x27;#ffdc7bff&#x27;, &#x27;#ffdb7aff&#x27;, &#x27;#ffdb79ff&#x27;, &#x27;#ffdb78ff&#x27;, &#x27;#ffda78ff&#x27;, &#x27;#ffda77ff&#x27;, &#x27;#ffda76ff&#x27;, &#x27;#fed976ff&#x27;, &#x27;#fed975ff&#x27;, &#x27;#fed874ff&#x27;, &#x27;#fed774ff&#x27;, &#x27;#fed773ff&#x27;, &#x27;#fed672ff&#x27;, &#x27;#fed572ff&#x27;, &#x27;#fed571ff&#x27;, &#x27;#fed470ff&#x27;, &#x27;#fed470ff&#x27;, &#x27;#fed36fff&#x27;, &#x27;#fed26eff&#x27;, &#x27;#fed26eff&#x27;, &#x27;#fed16dff&#x27;, &#x27;#fed06cff&#x27;, &#x27;#fed06cff&#x27;, &#x27;#fecf6bff&#x27;, &#x27;#fecf6aff&#x27;, &#x27;#fece6aff&#x27;, &#x27;#fecd69ff&#x27;, &#x27;#fecd68ff&#x27;, &#x27;#fecc68ff&#x27;, &#x27;#fecb67ff&#x27;, &#x27;#fecb66ff&#x27;, &#x27;#feca66ff&#x27;, &#x27;#feca65ff&#x27;, &#x27;#fec964ff&#x27;, &#x27;#fec864ff&#x27;, &#x27;#fec863ff&#x27;, &#x27;#fec762ff&#x27;, &#x27;#fec662ff&#x27;, &#x27;#fec661ff&#x27;, &#x27;#fec560ff&#x27;, &#x27;#fec45fff&#x27;, &#x27;#fec45fff&#x27;, &#x27;#fec35eff&#x27;, &#x27;#fec35dff&#x27;, &#x27;#fec25dff&#x27;, &#x27;#fec15cff&#x27;, &#x27;#fec15bff&#x27;, &#x27;#fec05bff&#x27;, &#x27;#febf5aff&#x27;, &#x27;#febf59ff&#x27;, &#x27;#febe59ff&#x27;, &#x27;#febe58ff&#x27;, &#x27;#febd57ff&#x27;, &#x27;#febc57ff&#x27;, &#x27;#febc56ff&#x27;, &#x27;#febb55ff&#x27;, &#x27;#feba55ff&#x27;, &#x27;#feba54ff&#x27;, &#x27;#feb953ff&#x27;, &#x27;#feb953ff&#x27;, &#x27;#feb852ff&#x27;, &#x27;#feb751ff&#x27;, &#x27;#feb751ff&#x27;, &#x27;#feb650ff&#x27;, &#x27;#feb54fff&#x27;, &#x27;#feb54fff&#x27;, &#x27;#feb44eff&#x27;, &#x27;#feb44dff&#x27;, &#x27;#feb34dff&#x27;, &#x27;#feb24cff&#x27;, &#x27;#feb24cff&#x27;, &#x27;#feb14bff&#x27;, &#x27;#feb04bff&#x27;, &#x27;#feb04bff&#x27;, &#x27;#feaf4bff&#x27;, &#x27;#feaf4aff&#x27;, &#x27;#feae4aff&#x27;, &#x27;#feae4aff&#x27;, &#x27;#fead4aff&#x27;, &#x27;#feac49ff&#x27;, &#x27;#feac49ff&#x27;, &#x27;#feab49ff&#x27;, &#x27;#feab48ff&#x27;, &#x27;#feaa48ff&#x27;, &#x27;#fea948ff&#x27;, &#x27;#fea948ff&#x27;, &#x27;#fea847ff&#x27;, &#x27;#fea847ff&#x27;, &#x27;#fea747ff&#x27;, &#x27;#fea647ff&#x27;, &#x27;#fea646ff&#x27;, &#x27;#fea546ff&#x27;, &#x27;#fea546ff&#x27;, &#x27;#fea446ff&#x27;, &#x27;#fea345ff&#x27;, &#x27;#fea345ff&#x27;, &#x27;#fea245ff&#x27;, &#x27;#fea245ff&#x27;, &#x27;#fea144ff&#x27;, &#x27;#fea044ff&#x27;, &#x27;#fea044ff&#x27;, &#x27;#fe9f44ff&#x27;, &#x27;#fe9f43ff&#x27;, &#x27;#fe9e43ff&#x27;, &#x27;#fe9d43ff&#x27;, &#x27;#fe9d43ff&#x27;, &#x27;#fe9c42ff&#x27;, &#x27;#fe9c42ff&#x27;, &#x27;#fe9b42ff&#x27;, &#x27;#fe9a42ff&#x27;, &#x27;#fe9a41ff&#x27;, &#x27;#fe9941ff&#x27;, &#x27;#fe9941ff&#x27;, &#x27;#fe9840ff&#x27;, &#x27;#fe9740ff&#x27;, &#x27;#fe9740ff&#x27;, &#x27;#fe9640ff&#x27;, &#x27;#fe963fff&#x27;, &#x27;#fe953fff&#x27;, &#x27;#fe943fff&#x27;, &#x27;#fe943fff&#x27;, &#x27;#fe933eff&#x27;, &#x27;#fe933eff&#x27;, &#x27;#fe923eff&#x27;, &#x27;#fe923eff&#x27;, &#x27;#fe913dff&#x27;, &#x27;#fe903dff&#x27;, &#x27;#fe903dff&#x27;, &#x27;#fe8f3dff&#x27;, &#x27;#fe8f3cff&#x27;, &#x27;#fe8e3cff&#x27;, &#x27;#fe8d3cff&#x27;, &#x27;#fd8d3cff&#x27;, &#x27;#fd8c3bff&#x27;, &#x27;#fd8b3bff&#x27;, &#x27;#fd8a3bff&#x27;, &#x27;#fd883aff&#x27;, &#x27;#fd873aff&#x27;, &#x27;#fd863aff&#x27;, &#x27;#fd853aff&#x27;, &#x27;#fd8439ff&#x27;, &#x27;#fd8339ff&#x27;, &#x27;#fd8239ff&#x27;, &#x27;#fd8138ff&#x27;, &#x27;#fd8038ff&#x27;, &#x27;#fd7f38ff&#x27;, &#x27;#fd7e38ff&#x27;, &#x27;#fd7d37ff&#x27;, &#x27;#fd7c37ff&#x27;, &#x27;#fd7b37ff&#x27;, &#x27;#fd7a36ff&#x27;, &#x27;#fd7936ff&#x27;, &#x27;#fd7836ff&#x27;, &#x27;#fd7736ff&#x27;, &#x27;#fd7635ff&#x27;, &#x27;#fd7535ff&#x27;, &#x27;#fd7435ff&#x27;, &#x27;#fd7334ff&#x27;, &#x27;#fd7234ff&#x27;, &#x27;#fd7134ff&#x27;, &#x27;#fd7033ff&#x27;, &#x27;#fd6f33ff&#x27;, &#x27;#fd6e33ff&#x27;, &#x27;#fd6d33ff&#x27;, &#x27;#fd6c32ff&#x27;, &#x27;#fd6b32ff&#x27;, &#x27;#fd6a32ff&#x27;, &#x27;#fd6931ff&#x27;, &#x27;#fd6831ff&#x27;, &#x27;#fd6731ff&#x27;, &#x27;#fd6631ff&#x27;, &#x27;#fd6530ff&#x27;, &#x27;#fd6430ff&#x27;, &#x27;#fd6330ff&#x27;, &#x27;#fd622fff&#x27;, &#x27;#fd612fff&#x27;, &#x27;#fd602fff&#x27;, &#x27;#fd5f2fff&#x27;, &#x27;#fd5e2eff&#x27;, &#x27;#fd5d2eff&#x27;, &#x27;#fd5c2eff&#x27;, &#x27;#fd5b2dff&#x27;, &#x27;#fd5a2dff&#x27;, &#x27;#fd592dff&#x27;, &#x27;#fd582dff&#x27;, &#x27;#fd572cff&#x27;, &#x27;#fd562cff&#x27;, &#x27;#fd552cff&#x27;, &#x27;#fd542bff&#x27;, &#x27;#fd532bff&#x27;, &#x27;#fd522bff&#x27;, &#x27;#fd512aff&#x27;, &#x27;#fd502aff&#x27;, &#x27;#fd4f2aff&#x27;, &#x27;#fc4e2aff&#x27;, &#x27;#fc4d29ff&#x27;, &#x27;#fc4c29ff&#x27;, &#x27;#fb4b29ff&#x27;, &#x27;#fb4a29ff&#x27;, &#x27;#fa4a29ff&#x27;, &#x27;#fa4928ff&#x27;, &#x27;#fa4828ff&#x27;, &#x27;#f94728ff&#x27;, &#x27;#f94628ff&#x27;, &#x27;#f84527ff&#x27;, &#x27;#f84427ff&#x27;, &#x27;#f84427ff&#x27;, &#x27;#f74327ff&#x27;, &#x27;#f74226ff&#x27;, &#x27;#f64126ff&#x27;, &#x27;#f64026ff&#x27;, &#x27;#f63f26ff&#x27;, &#x27;#f53f26ff&#x27;, &#x27;#f53e25ff&#x27;, &#x27;#f43d25ff&#x27;, &#x27;#f43c25ff&#x27;, &#x27;#f43b25ff&#x27;, &#x27;#f33a24ff&#x27;, &#x27;#f33a24ff&#x27;, &#x27;#f23924ff&#x27;, &#x27;#f23824ff&#x27;, &#x27;#f23724ff&#x27;, &#x27;#f13623ff&#x27;, &#x27;#f13523ff&#x27;, &#x27;#f03523ff&#x27;, &#x27;#f03423ff&#x27;, &#x27;#f03322ff&#x27;, &#x27;#ef3222ff&#x27;, &#x27;#ef3122ff&#x27;, &#x27;#ee3022ff&#x27;, &#x27;#ee3022ff&#x27;, &#x27;#ee2f21ff&#x27;, &#x27;#ed2e21ff&#x27;, &#x27;#ed2d21ff&#x27;, &#x27;#ec2c21ff&#x27;, &#x27;#ec2b20ff&#x27;, &#x27;#ec2b20ff&#x27;, &#x27;#eb2a20ff&#x27;, &#x27;#eb2920ff&#x27;, &#x27;#ea281fff&#x27;, &#x27;#ea271fff&#x27;, &#x27;#ea261fff&#x27;, &#x27;#e9261fff&#x27;, &#x27;#e9251fff&#x27;, &#x27;#e8241eff&#x27;, &#x27;#e8231eff&#x27;, &#x27;#e8221eff&#x27;, &#x27;#e7211eff&#x27;, &#x27;#e7211dff&#x27;, &#x27;#e6201dff&#x27;, &#x27;#e61f1dff&#x27;, &#x27;#e61e1dff&#x27;, &#x27;#e51d1dff&#x27;, &#x27;#e51c1cff&#x27;, &#x27;#e41b1cff&#x27;, &#x27;#e41b1cff&#x27;, &#x27;#e31a1cff&#x27;, &#x27;#e3191cff&#x27;, &#x27;#e2191cff&#x27;, &#x27;#e2181cff&#x27;, &#x27;#e1181cff&#x27;, &#x27;#e0181cff&#x27;, &#x27;#e0171dff&#x27;, &#x27;#df171dff&#x27;, &#x27;#df161dff&#x27;, &#x27;#de161dff&#x27;, &#x27;#dd161dff&#x27;, &#x27;#dd151dff&#x27;, &#x27;#dc151eff&#x27;, &#x27;#dc141eff&#x27;, &#x27;#db141eff&#x27;, &#x27;#da131eff&#x27;, &#x27;#da131eff&#x27;, &#x27;#d9131eff&#x27;, &#x27;#d9121eff&#x27;, &#x27;#d8121fff&#x27;, &#x27;#d7111fff&#x27;, &#x27;#d7111fff&#x27;, &#x27;#d6111fff&#x27;, &#x27;#d5101fff&#x27;, &#x27;#d5101fff&#x27;, &#x27;#d40f20ff&#x27;, &#x27;#d40f20ff&#x27;, &#x27;#d30e20ff&#x27;, &#x27;#d20e20ff&#x27;, &#x27;#d20e20ff&#x27;, &#x27;#d10d20ff&#x27;, &#x27;#d10d21ff&#x27;, &#x27;#d00c21ff&#x27;, &#x27;#cf0c21ff&#x27;, &#x27;#cf0b21ff&#x27;, &#x27;#ce0b21ff&#x27;, &#x27;#ce0b21ff&#x27;, &#x27;#cd0a22ff&#x27;, &#x27;#cc0a22ff&#x27;, &#x27;#cc0922ff&#x27;, &#x27;#cb0922ff&#x27;, &#x27;#ca0922ff&#x27;, &#x27;#ca0822ff&#x27;, &#x27;#c90822ff&#x27;, &#x27;#c90723ff&#x27;, &#x27;#c80723ff&#x27;, &#x27;#c70623ff&#x27;, &#x27;#c70623ff&#x27;, &#x27;#c60623ff&#x27;, &#x27;#c60523ff&#x27;, &#x27;#c50524ff&#x27;, &#x27;#c40424ff&#x27;, &#x27;#c40424ff&#x27;, &#x27;#c30424ff&#x27;, &#x27;#c30324ff&#x27;, &#x27;#c20324ff&#x27;, &#x27;#c10225ff&#x27;, &#x27;#c10225ff&#x27;, &#x27;#c00125ff&#x27;, &#x27;#bf0125ff&#x27;, &#x27;#bf0125ff&#x27;, &#x27;#be0025ff&#x27;, &#x27;#be0026ff&#x27;, &#x27;#bd0026ff&#x27;, &#x27;#bc0026ff&#x27;, &#x27;#bb0026ff&#x27;, &#x27;#ba0026ff&#x27;, &#x27;#b90026ff&#x27;, &#x27;#b80026ff&#x27;, &#x27;#b70026ff&#x27;, &#x27;#b60026ff&#x27;, &#x27;#b50026ff&#x27;, &#x27;#b40026ff&#x27;, &#x27;#b30026ff&#x27;, &#x27;#b20026ff&#x27;, &#x27;#b10026ff&#x27;, &#x27;#b00026ff&#x27;, &#x27;#af0026ff&#x27;, &#x27;#ae0026ff&#x27;, &#x27;#ad0026ff&#x27;, &#x27;#ac0026ff&#x27;, &#x27;#ab0026ff&#x27;, &#x27;#aa0026ff&#x27;, &#x27;#a90026ff&#x27;, &#x27;#a80026ff&#x27;, &#x27;#a70026ff&#x27;, &#x27;#a60026ff&#x27;, &#x27;#a50026ff&#x27;, &#x27;#a40026ff&#x27;, &#x27;#a30026ff&#x27;, &#x27;#a20026ff&#x27;, &#x27;#a10026ff&#x27;, &#x27;#a00026ff&#x27;, &#x27;#9f0026ff&#x27;, &#x27;#9e0026ff&#x27;, &#x27;#9d0026ff&#x27;, &#x27;#9c0026ff&#x27;, &#x27;#9b0026ff&#x27;, &#x27;#9b0026ff&#x27;, &#x27;#9a0026ff&#x27;, &#x27;#990026ff&#x27;, &#x27;#980026ff&#x27;, &#x27;#970026ff&#x27;, &#x27;#960026ff&#x27;, &#x27;#950026ff&#x27;, &#x27;#940026ff&#x27;, &#x27;#930026ff&#x27;, &#x27;#920026ff&#x27;, &#x27;#910026ff&#x27;, &#x27;#900026ff&#x27;, &#x27;#8f0026ff&#x27;, &#x27;#8e0026ff&#x27;, &#x27;#8d0026ff&#x27;, &#x27;#8c0026ff&#x27;, &#x27;#8b0026ff&#x27;, &#x27;#8a0026ff&#x27;, &#x27;#890026ff&#x27;, &#x27;#880026ff&#x27;, &#x27;#870026ff&#x27;, &#x27;#860026ff&#x27;, &#x27;#850026ff&#x27;, &#x27;#840026ff&#x27;, &#x27;#830026ff&#x27;, &#x27;#820026ff&#x27;, &#x27;#810026ff&#x27;, &#x27;#800026ff&#x27;]);\n",
       "    \n",
       "\n",
       "    color_map_3d34d2464ab0599e928fdca3ba9b6d8c.x = d3.scale.linear()\n",
       "              .domain([81.0, 10325.0])\n",
       "              .range([0, 450 - 50]);\n",
       "\n",
       "    color_map_3d34d2464ab0599e928fdca3ba9b6d8c.legend = L.control({position: &#x27;topright&#x27;});\n",
       "    color_map_3d34d2464ab0599e928fdca3ba9b6d8c.legend.onAdd = function (map) {var div = L.DomUtil.create(&#x27;div&#x27;, &#x27;legend&#x27;); return div};\n",
       "    color_map_3d34d2464ab0599e928fdca3ba9b6d8c.legend.addTo(map_17cf8e4bad50bc413478c9236257baf3);\n",
       "\n",
       "    color_map_3d34d2464ab0599e928fdca3ba9b6d8c.xAxis = d3.svg.axis()\n",
       "        .scale(color_map_3d34d2464ab0599e928fdca3ba9b6d8c.x)\n",
       "        .orient(&quot;top&quot;)\n",
       "        .tickSize(1)\n",
       "        .tickValues([81.0, 1361.5, 2642.0, 3922.5, 5203.0, 6483.5, 7764.0, 9044.5, 10325.0]);\n",
       "\n",
       "    color_map_3d34d2464ab0599e928fdca3ba9b6d8c.svg = d3.select(&quot;.legend.leaflet-control&quot;).append(&quot;svg&quot;)\n",
       "        .attr(&quot;id&quot;, &#x27;legend&#x27;)\n",
       "        .attr(&quot;width&quot;, 450)\n",
       "        .attr(&quot;height&quot;, 40);\n",
       "\n",
       "    color_map_3d34d2464ab0599e928fdca3ba9b6d8c.g = color_map_3d34d2464ab0599e928fdca3ba9b6d8c.svg.append(&quot;g&quot;)\n",
       "        .attr(&quot;class&quot;, &quot;key&quot;)\n",
       "        .attr(&quot;transform&quot;, &quot;translate(25,16)&quot;);\n",
       "\n",
       "    color_map_3d34d2464ab0599e928fdca3ba9b6d8c.g.selectAll(&quot;rect&quot;)\n",
       "        .data(color_map_3d34d2464ab0599e928fdca3ba9b6d8c.color.range().map(function(d, i) {\n",
       "          return {\n",
       "            x0: i ? color_map_3d34d2464ab0599e928fdca3ba9b6d8c.x(color_map_3d34d2464ab0599e928fdca3ba9b6d8c.color.domain()[i - 1]) : color_map_3d34d2464ab0599e928fdca3ba9b6d8c.x.range()[0],\n",
       "            x1: i &lt; color_map_3d34d2464ab0599e928fdca3ba9b6d8c.color.domain().length ? color_map_3d34d2464ab0599e928fdca3ba9b6d8c.x(color_map_3d34d2464ab0599e928fdca3ba9b6d8c.color.domain()[i]) : color_map_3d34d2464ab0599e928fdca3ba9b6d8c.x.range()[1],\n",
       "            z: d\n",
       "          };\n",
       "        }))\n",
       "      .enter().append(&quot;rect&quot;)\n",
       "        .attr(&quot;height&quot;, 40 - 30)\n",
       "        .attr(&quot;x&quot;, function(d) { return d.x0; })\n",
       "        .attr(&quot;width&quot;, function(d) { return d.x1 - d.x0; })\n",
       "        .style(&quot;fill&quot;, function(d) { return d.z; });\n",
       "\n",
       "    color_map_3d34d2464ab0599e928fdca3ba9b6d8c.g.call(color_map_3d34d2464ab0599e928fdca3ba9b6d8c.xAxis).append(&quot;text&quot;)\n",
       "        .attr(&quot;class&quot;, &quot;caption&quot;)\n",
       "        .attr(&quot;y&quot;, 21)\n",
       "        .text(&quot;&quot;);\n",
       "    \n",
       "        function geo_json_036d547a711ad90a4f1412eb47fa6525_styler(feature) {\n",
       "            switch(feature.id) {\n",
       "                default:\n",
       "                    return {&quot;fillColor&quot;: &quot;#fec863ff&quot;, &quot;fillOpacity&quot;: 0.7, &quot;weight&quot;: 0};\n",
       "            }\n",
       "        }\n",
       "\n",
       "        function geo_json_036d547a711ad90a4f1412eb47fa6525_onEachFeature(feature, layer) {\n",
       "            layer.on({\n",
       "            });\n",
       "        };\n",
       "        var geo_json_036d547a711ad90a4f1412eb47fa6525 = L.geoJson(null, {\n",
       "                onEachFeature: geo_json_036d547a711ad90a4f1412eb47fa6525_onEachFeature,\n",
       "            \n",
       "                style: geo_json_036d547a711ad90a4f1412eb47fa6525_styler,\n",
       "        });\n",
       "\n",
       "        function geo_json_036d547a711ad90a4f1412eb47fa6525_add (data) {\n",
       "            geo_json_036d547a711ad90a4f1412eb47fa6525\n",
       "                .addData(data)\n",
       "                .addTo(map_17cf8e4bad50bc413478c9236257baf3);\n",
       "        }\n",
       "            geo_json_036d547a711ad90a4f1412eb47fa6525_add({&quot;features&quot;: [{&quot;geometry&quot;: {&quot;coordinates&quot;: [[[-58.8395282601901, -27.5006751610886], [-58.8394764738553, -27.5006811256924], [-58.839156385989, -27.5007179920641], [-58.8379414085687, -27.5008300622787], [-58.8365053170255, -27.5010369327134], [-58.8357490170414, -27.5011205354475], [-58.8357382088549, -27.5010461926406], [-58.8317201716037, -27.5015585893514], [-58.8312116491467, -27.5016443323885], [-58.8312079501139, -27.5017214562693], [-58.8314151803688, -27.5031274171466], [-58.8313852539629, -27.5032300390281], [-58.8317629636391, -27.5056995973392], [-58.8317696481943, -27.5077705440166], [-58.8314388579098, -27.5096204842931], [-58.8313677379515, -27.5100521861116], [-58.8315959201952, -27.5100723708104], [-58.834434269422, -27.5103638435414], [-58.8388619440949, -27.5108511240799], [-58.8392479017572, -27.5109034253733], [-58.8394349907629, -27.5106466276133], [-58.8395157348296, -27.5104828910768], [-58.8396759901153, -27.5102728434222], [-58.8398894164953, -27.5100162646774], [-58.8400630864231, -27.5097828412335], [-58.8402509104569, -27.509455586842], [-58.8403582379645, -27.5092685841965], [-58.8404386102268, -27.5091400747117], [-58.8405847072836, -27.5090238565935], [-58.8408647155014, -27.5086973695888], [-58.8410248425064, -27.5084990627356], [-58.8411847228492, -27.5083242408123], [-58.8414913125076, -27.5079744866766], [-58.8418186996402, -27.5075250843916], [-58.8420185773661, -27.5073036200387], [-58.8422712547916, -27.5070708512071], [-58.8423783306586, -27.5069073319151], [-58.8425778374773, -27.5067210944014], [-58.8427503906283, -27.5065933503614], [-58.8428839268059, -27.5064183071589], [-58.8430442924856, -27.5061965125438], [-58.8432319785384, -27.5058809960823], [-58.8434189267594, -27.5056359348162], [-58.8434462475111, -27.5055422131268], [-58.8436527643085, -27.5053149296023], [-58.8437327615023, -27.5052216456892], [-58.8438251290619, -27.505012512662], [-58.843450600365, -27.5048266348295], [-58.8435372609578, -27.5045809828118], [-58.8435882208479, -27.5043028984308], [-58.843625992683, -27.5041371787832], [-58.843610438057, -27.5039013888673], [-58.8435708034779, -27.503670754707], [-58.8435278095882, -27.5034798428092], [-58.8435205053376, -27.50348341487], [-58.8434454652407, -27.5033071167702], [-58.8433585986738, -27.5031706529593], [-58.8433083664526, -27.5030917400281], [-58.8430894975287, -27.5028842526826], [-58.8428366375774, -27.5027107601996], [-58.8424876833973, -27.502536467804], [-58.8421404206006, -27.5023601911389], [-58.8419921794737, -27.5022767610166], [-58.8421479894244, -27.5018960866536], [-58.8422462365589, -27.5015753715553], [-58.8422690271911, -27.5013906232017], [-58.842249398872, -27.5012732054678], [-58.8422091147114, -27.5012366071519], [-58.8421414975115, -27.501179609723], [-58.8415932778702, -27.500757643331], [-58.8415370325001, -27.5006919014635], [-58.8414972527644, -27.5003482796755], [-58.8399787383408, -27.5006066506567], [-58.839764871934, -27.5006391764676], [-58.8395282601901, -27.5006751610886]]], &quot;type&quot;: &quot;Polygon&quot;}, &quot;id&quot;: &quot;0&quot;, &quot;type&quot;: &quot;Feature&quot;}], &quot;type&quot;: &quot;FeatureCollection&quot;});\n",
       "\n",
       "        \n",
       "    \n",
       "        var popup_8a3823155a0ea9c429c4e31955173e42 = L.popup({&quot;maxWidth&quot;: &quot;100%&quot;});\n",
       "\n",
       "        \n",
       "            \n",
       "                var html_f729993fadfd78ed43ab4769dfd49f6e = $(`&lt;div id=&quot;html_f729993fadfd78ed43ab4769dfd49f6e&quot; style=&quot;width: 100.0%; height: 100.0%;&quot;&gt;3 DE ABRIL: 3215.0&lt;/div&gt;`)[0];\n",
       "                popup_8a3823155a0ea9c429c4e31955173e42.setContent(html_f729993fadfd78ed43ab4769dfd49f6e);\n",
       "            \n",
       "        \n",
       "\n",
       "        geo_json_036d547a711ad90a4f1412eb47fa6525.bindPopup(popup_8a3823155a0ea9c429c4e31955173e42)\n",
       "        ;\n",
       "\n",
       "        \n",
       "    \n",
       "    \n",
       "        function geo_json_ec6fd8c9eed71d06b3f92298470e0f44_styler(feature) {\n",
       "            switch(feature.id) {\n",
       "                default:\n",
       "                    return {&quot;fillColor&quot;: &quot;#ffe186ff&quot;, &quot;fillOpacity&quot;: 0.7, &quot;weight&quot;: 0};\n",
       "            }\n",
       "        }\n",
       "\n",
       "        function geo_json_ec6fd8c9eed71d06b3f92298470e0f44_onEachFeature(feature, layer) {\n",
       "            layer.on({\n",
       "            });\n",
       "        };\n",
       "        var geo_json_ec6fd8c9eed71d06b3f92298470e0f44 = L.geoJson(null, {\n",
       "                onEachFeature: geo_json_ec6fd8c9eed71d06b3f92298470e0f44_onEachFeature,\n",
       "            \n",
       "                style: geo_json_ec6fd8c9eed71d06b3f92298470e0f44_styler,\n",
       "        });\n",
       "\n",
       "        function geo_json_ec6fd8c9eed71d06b3f92298470e0f44_add (data) {\n",
       "            geo_json_ec6fd8c9eed71d06b3f92298470e0f44\n",
       "                .addData(data)\n",
       "                .addTo(map_17cf8e4bad50bc413478c9236257baf3);\n",
       "        }\n",
       "            geo_json_ec6fd8c9eed71d06b3f92298470e0f44_add({&quot;features&quot;: [{&quot;geometry&quot;: {&quot;coordinates&quot;: [[[-58.79044542989, -27.4597342614923], [-58.7905663425573, -27.4604398468412], [-58.7919274496714, -27.4670820098153], [-58.7919486817953, -27.467188611568], [-58.7919496630967, -27.4671888587796], [-58.7957386896856, -27.4681433398196], [-58.7986488335757, -27.4688707392834], [-58.7988197299307, -27.4689074375381], [-58.7992456489322, -27.4690187657259], [-58.7996527194868, -27.4691058459969], [-58.8000384794214, -27.4656207232031], [-58.800368848231, -27.4628300554682], [-58.8005260883758, -27.4618609995135], [-58.8007555068404, -27.459369540648], [-58.7940514691178, -27.4565572493261], [-58.7933958526114, -27.4575052295045], [-58.7921636684656, -27.4581058666166], [-58.7910492057666, -27.4592415235386], [-58.79044542989, -27.4597342614923]]], &quot;type&quot;: &quot;Polygon&quot;}, &quot;id&quot;: &quot;0&quot;, &quot;type&quot;: &quot;Feature&quot;}], &quot;type&quot;: &quot;FeatureCollection&quot;});\n",
       "\n",
       "        \n",
       "    \n",
       "        var popup_71af28feef9a8f6f77f2f003de08f305 = L.popup({&quot;maxWidth&quot;: &quot;100%&quot;});\n",
       "\n",
       "        \n",
       "            \n",
       "                var html_c1b3e0586fb9e8cba426f8e671ce0415 = $(`&lt;div id=&quot;html_c1b3e0586fb9e8cba426f8e671ce0415&quot; style=&quot;width: 100.0%; height: 100.0%;&quot;&gt;ANAHI: 2154.0&lt;/div&gt;`)[0];\n",
       "                popup_71af28feef9a8f6f77f2f003de08f305.setContent(html_c1b3e0586fb9e8cba426f8e671ce0415);\n",
       "            \n",
       "        \n",
       "\n",
       "        geo_json_ec6fd8c9eed71d06b3f92298470e0f44.bindPopup(popup_71af28feef9a8f6f77f2f003de08f305)\n",
       "        ;\n",
       "\n",
       "        \n",
       "    \n",
       "    \n",
       "        function geo_json_96246e8e39bede3889acced6005a919b_styler(feature) {\n",
       "            switch(feature.id) {\n",
       "                default:\n",
       "                    return {&quot;fillColor&quot;: &quot;#ffeea0ff&quot;, &quot;fillOpacity&quot;: 0.7, &quot;weight&quot;: 0};\n",
       "            }\n",
       "        }\n",
       "\n",
       "        function geo_json_96246e8e39bede3889acced6005a919b_onEachFeature(feature, layer) {\n",
       "            layer.on({\n",
       "            });\n",
       "        };\n",
       "        var geo_json_96246e8e39bede3889acced6005a919b = L.geoJson(null, {\n",
       "                onEachFeature: geo_json_96246e8e39bede3889acced6005a919b_onEachFeature,\n",
       "            \n",
       "                style: geo_json_96246e8e39bede3889acced6005a919b_styler,\n",
       "        });\n",
       "\n",
       "        function geo_json_96246e8e39bede3889acced6005a919b_add (data) {\n",
       "            geo_json_96246e8e39bede3889acced6005a919b\n",
       "                .addData(data)\n",
       "                .addTo(map_17cf8e4bad50bc413478c9236257baf3);\n",
       "        }\n",
       "            geo_json_96246e8e39bede3889acced6005a919b_add({&quot;features&quot;: [{&quot;geometry&quot;: {&quot;coordinates&quot;: [[[-58.8214866447719, -27.4564711487891], [-58.8214261181094, -27.4562269667777], [-58.8213052083419, -27.4560192180876], [-58.8210906167135, -27.4560365286466], [-58.821046213383, -27.4561796033315], [-58.8209714825618, -27.4561502806439], [-58.8209402397875, -27.4560639458517], [-58.8208557052167, -27.4559484697959], [-58.8208133362649, -27.4559002942574], [-58.820759739277, -27.4558998404866], [-58.8207174721253, -27.4558421024135], [-58.8206759172158, -27.4557174267797], [-58.8206405424868, -27.4556812392493], [-58.8204311292506, -27.4556816701565], [-58.8204074239153, -27.4557629699994], [-58.8203417845863, -27.4558867378613], [-58.8202338781726, -27.4559527674732], [-58.8199657913699, -27.4559600597985], [-58.8198898392659, -27.456045486591], [-58.8198250137306, -27.4560927541525], [-58.819749265075, -27.4561590558539], [-58.819588066448, -27.4561959432502], [-58.8194272751303, -27.4561945804482], [-58.8191588821239, -27.4562305587037], [-58.8189763462618, -27.4562577011188], [-58.8187938103195, -27.4562848432917], [-58.8186563955856, -27.4562822509171], [-58.8188216888561, -27.4576237935735], [-58.8201133185301, -27.4575172952496], [-58.8203864227865, -27.4597749244373], [-58.8216088660712, -27.4596562715624], [-58.8215270593188, -27.4574195507168], [-58.8214866447719, -27.4564711487891]]], &quot;type&quot;: &quot;Polygon&quot;}, &quot;id&quot;: &quot;0&quot;, &quot;type&quot;: &quot;Feature&quot;}], &quot;type&quot;: &quot;FeatureCollection&quot;});\n",
       "\n",
       "        \n",
       "    \n",
       "        var popup_0a5d3ec42f0fc97828cbe00babcf6e04 = L.popup({&quot;maxWidth&quot;: &quot;100%&quot;});\n",
       "\n",
       "        \n",
       "            \n",
       "                var html_b530ea6b27f625e9d987170639509919 = $(`&lt;div id=&quot;html_b530ea6b27f625e9d987170639509919&quot; style=&quot;width: 100.0%; height: 100.0%;&quot;&gt;CICHERO: 1356.0&lt;/div&gt;`)[0];\n",
       "                popup_0a5d3ec42f0fc97828cbe00babcf6e04.setContent(html_b530ea6b27f625e9d987170639509919);\n",
       "            \n",
       "        \n",
       "\n",
       "        geo_json_96246e8e39bede3889acced6005a919b.bindPopup(popup_0a5d3ec42f0fc97828cbe00babcf6e04)\n",
       "        ;\n",
       "\n",
       "        \n",
       "    \n",
       "    \n",
       "        function geo_json_0862d2404e40105c4f9ab436807624a5_styler(feature) {\n",
       "            switch(feature.id) {\n",
       "                default:\n",
       "                    return {&quot;fillColor&quot;: &quot;#fec35eff&quot;, &quot;fillOpacity&quot;: 0.7, &quot;weight&quot;: 0};\n",
       "            }\n",
       "        }\n",
       "\n",
       "        function geo_json_0862d2404e40105c4f9ab436807624a5_onEachFeature(feature, layer) {\n",
       "            layer.on({\n",
       "            });\n",
       "        };\n",
       "        var geo_json_0862d2404e40105c4f9ab436807624a5 = L.geoJson(null, {\n",
       "                onEachFeature: geo_json_0862d2404e40105c4f9ab436807624a5_onEachFeature,\n",
       "            \n",
       "                style: geo_json_0862d2404e40105c4f9ab436807624a5_styler,\n",
       "        });\n",
       "\n",
       "        function geo_json_0862d2404e40105c4f9ab436807624a5_add (data) {\n",
       "            geo_json_0862d2404e40105c4f9ab436807624a5\n",
       "                .addData(data)\n",
       "                .addTo(map_17cf8e4bad50bc413478c9236257baf3);\n",
       "        }\n",
       "            geo_json_0862d2404e40105c4f9ab436807624a5_add({&quot;features&quot;: [{&quot;geometry&quot;: {&quot;coordinates&quot;: [[[-58.7848778689196, -27.5427802048], [-58.7848108386885, -27.5428497253527], [-58.7839581936998, -27.5507177114012], [-58.7852157903001, -27.5506650845347], [-58.7857639910221, -27.550975830361], [-58.7857682066582, -27.5511508685209], [-58.7864097229932, -27.5511385457764], [-58.787084264223, -27.5506878819659], [-58.7871825309045, -27.5506860002367], [-58.7884346720889, -27.54961130736], [-58.7890242664793, -27.5496000127255], [-58.7896672150904, -27.5497628102824], [-58.7900645011033, -27.5499303156098], [-58.7904084317289, -27.549923722691], [-58.790703229835, -27.5499180710717], [-58.790712734238, -27.5503119072247], [-58.7912135713226, -27.5506963220358], [-58.7915448278457, -27.5501646123492], [-58.7915370121977, -27.5498408671029], [-58.7918137570834, -27.5493443798267], [-58.7919732018384, -27.5490957317248], [-58.7925244351502, -27.5490851570181], [-58.7928842117703, -27.5479976578843], [-58.7925919982879, -27.5473156123508], [-58.7921954703463, -27.5468811573901], [-58.7916442470585, -27.5468917311384], [-58.7910930237534, -27.5469023026966], [-58.7906342858571, -27.5449451946341], [-58.7910420683328, -27.5447912068432], [-58.7910254777231, -27.5441038731581], [-58.7903569178951, -27.5438219844476], [-58.7901920050473, -27.5434836508819], [-58.7900052868179, -27.5430970648924], [-58.7899260141485, -27.5431415202463], [-58.7898101109169, -27.5431906727728], [-58.7893967735185, -27.5431645003507], [-58.7883933167822, -27.5430679734328], [-58.7865225743992, -27.5429024217978], [-58.7849937740228, -27.5427628031915], [-58.7848778689196, -27.5427802048]]], &quot;type&quot;: &quot;Polygon&quot;}, &quot;id&quot;: &quot;0&quot;, &quot;type&quot;: &quot;Feature&quot;}], &quot;type&quot;: &quot;FeatureCollection&quot;});\n",
       "\n",
       "        \n",
       "    \n",
       "        var popup_d99923aa49d12b5ff166767c6c7f09b6 = L.popup({&quot;maxWidth&quot;: &quot;100%&quot;});\n",
       "\n",
       "        \n",
       "            \n",
       "                var html_03bf5b5463a699628ae9410c68024d63 = $(`&lt;div id=&quot;html_03bf5b5463a699628ae9410c68024d63&quot; style=&quot;width: 100.0%; height: 100.0%;&quot;&gt;ESPERANZA: 3359.0&lt;/div&gt;`)[0];\n",
       "                popup_d99923aa49d12b5ff166767c6c7f09b6.setContent(html_03bf5b5463a699628ae9410c68024d63);\n",
       "            \n",
       "        \n",
       "\n",
       "        geo_json_0862d2404e40105c4f9ab436807624a5.bindPopup(popup_d99923aa49d12b5ff166767c6c7f09b6)\n",
       "        ;\n",
       "\n",
       "        \n",
       "    \n",
       "    \n",
       "        function geo_json_a3ad7bc89d17b0782eb3b08eba688dca_styler(feature) {\n",
       "            switch(feature.id) {\n",
       "                default:\n",
       "                    return {&quot;fillColor&quot;: &quot;#ffefa4ff&quot;, &quot;fillOpacity&quot;: 0.7, &quot;weight&quot;: 0};\n",
       "            }\n",
       "        }\n",
       "\n",
       "        function geo_json_a3ad7bc89d17b0782eb3b08eba688dca_onEachFeature(feature, layer) {\n",
       "            layer.on({\n",
       "            });\n",
       "        };\n",
       "        var geo_json_a3ad7bc89d17b0782eb3b08eba688dca = L.geoJson(null, {\n",
       "                onEachFeature: geo_json_a3ad7bc89d17b0782eb3b08eba688dca_onEachFeature,\n",
       "            \n",
       "                style: geo_json_a3ad7bc89d17b0782eb3b08eba688dca_styler,\n",
       "        });\n",
       "\n",
       "        function geo_json_a3ad7bc89d17b0782eb3b08eba688dca_add (data) {\n",
       "            geo_json_a3ad7bc89d17b0782eb3b08eba688dca\n",
       "                .addData(data)\n",
       "                .addTo(map_17cf8e4bad50bc413478c9236257baf3);\n",
       "        }\n",
       "            geo_json_a3ad7bc89d17b0782eb3b08eba688dca_add({&quot;features&quot;: [{&quot;geometry&quot;: {&quot;coordinates&quot;: [[[-58.7994273583071, -27.4875675638672], [-58.8022479190509, -27.487192975157], [-58.8020554190014, -27.4860996386858], [-58.8018697360167, -27.4850177881877], [-58.8016986847248, -27.4840211699348], [-58.8015004134309, -27.4830084762744], [-58.8014172891572, -27.4825877085452], [-58.8014801662155, -27.4825726107103], [-58.8012884475846, -27.481470418227], [-58.8013538713845, -27.4814439987889], [-58.8012685770767, -27.4809586270349], [-58.8012550135105, -27.4808664664118], [-58.8012421086988, -27.4807886812673], [-58.8002269539721, -27.4810741777362], [-58.8001675880988, -27.4810917189174], [-58.7983945827171, -27.4816155847613], [-58.7994273583071, -27.4875675638672]]], &quot;type&quot;: &quot;Polygon&quot;}, &quot;id&quot;: &quot;0&quot;, &quot;type&quot;: &quot;Feature&quot;}], &quot;type&quot;: &quot;FeatureCollection&quot;});\n",
       "\n",
       "        \n",
       "    \n",
       "        var popup_d67d855302b9046f03289a4edad42d33 = L.popup({&quot;maxWidth&quot;: &quot;100%&quot;});\n",
       "\n",
       "        \n",
       "            \n",
       "                var html_c4c1b0c29d67de4c1e2fcaf1a24f38e3 = $(`&lt;div id=&quot;html_c4c1b0c29d67de4c1e2fcaf1a24f38e3&quot; style=&quot;width: 100.0%; height: 100.0%;&quot;&gt;GUEMES TRADICIONAL: 1237.0&lt;/div&gt;`)[0];\n",
       "                popup_d67d855302b9046f03289a4edad42d33.setContent(html_c4c1b0c29d67de4c1e2fcaf1a24f38e3);\n",
       "            \n",
       "        \n",
       "\n",
       "        geo_json_a3ad7bc89d17b0782eb3b08eba688dca.bindPopup(popup_d67d855302b9046f03289a4edad42d33)\n",
       "        ;\n",
       "\n",
       "        \n",
       "    \n",
       "    \n",
       "        function geo_json_e3602918661825dadf99914ef68a780d_styler(feature) {\n",
       "            switch(feature.id) {\n",
       "                default:\n",
       "                    return {&quot;fillColor&quot;: &quot;#ffdc7bff&quot;, &quot;fillOpacity&quot;: 0.7, &quot;weight&quot;: 0};\n",
       "            }\n",
       "        }\n",
       "\n",
       "        function geo_json_e3602918661825dadf99914ef68a780d_onEachFeature(feature, layer) {\n",
       "            layer.on({\n",
       "            });\n",
       "        };\n",
       "        var geo_json_e3602918661825dadf99914ef68a780d = L.geoJson(null, {\n",
       "                onEachFeature: geo_json_e3602918661825dadf99914ef68a780d_onEachFeature,\n",
       "            \n",
       "                style: geo_json_e3602918661825dadf99914ef68a780d_styler,\n",
       "        });\n",
       "\n",
       "        function geo_json_e3602918661825dadf99914ef68a780d_add (data) {\n",
       "            geo_json_e3602918661825dadf99914ef68a780d\n",
       "                .addData(data)\n",
       "                .addTo(map_17cf8e4bad50bc413478c9236257baf3);\n",
       "        }\n",
       "            geo_json_e3602918661825dadf99914ef68a780d_add({&quot;features&quot;: [{&quot;geometry&quot;: {&quot;coordinates&quot;: [[[-58.8256474629272, -27.499344227262], [-58.826183902597, -27.5022917720567], [-58.8264813112309, -27.5095623432352], [-58.8294664787503, -27.5098556931249], [-58.8313677379515, -27.5100521861116], [-58.8314388579098, -27.5096204842931], [-58.8317696481943, -27.5077705440166], [-58.8317629636391, -27.5056995973392], [-58.8313852539629, -27.5032300390281], [-58.8314151803688, -27.5031274171466], [-58.8312079501139, -27.5017214562693], [-58.8299537351628, -27.5018870276471], [-58.8298110131157, -27.5019052977141], [-58.8290870424453, -27.500592780751], [-58.8290661408834, -27.5004629567837], [-58.8282433534718, -27.4990550973305], [-58.8282275138451, -27.4989853160947], [-58.8274355637512, -27.499088920963], [-58.8256474629272, -27.499344227262]]], &quot;type&quot;: &quot;Polygon&quot;}, &quot;id&quot;: &quot;0&quot;, &quot;type&quot;: &quot;Feature&quot;}], &quot;type&quot;: &quot;FeatureCollection&quot;});\n",
       "\n",
       "        \n",
       "    \n",
       "        var popup_59d8f1a4c962a6487e4c37b401d5386b = L.popup({&quot;maxWidth&quot;: &quot;100%&quot;});\n",
       "\n",
       "        \n",
       "            \n",
       "                var html_4b00d67745354364fa9d74bf564be8c0 = $(`&lt;div id=&quot;html_4b00d67745354364fa9d74bf564be8c0&quot; style=&quot;width: 100.0%; height: 100.0%;&quot;&gt;INDEPENDENCIA: 2483.0&lt;/div&gt;`)[0];\n",
       "                popup_59d8f1a4c962a6487e4c37b401d5386b.setContent(html_4b00d67745354364fa9d74bf564be8c0);\n",
       "            \n",
       "        \n",
       "\n",
       "        geo_json_e3602918661825dadf99914ef68a780d.bindPopup(popup_59d8f1a4c962a6487e4c37b401d5386b)\n",
       "        ;\n",
       "\n",
       "        \n",
       "    \n",
       "    \n",
       "        function geo_json_5bfc1760b02f179ea78013e8aa47b75e_styler(feature) {\n",
       "            switch(feature.id) {\n",
       "                default:\n",
       "                    return {&quot;fillColor&quot;: &quot;#fff8baff&quot;, &quot;fillOpacity&quot;: 0.7, &quot;weight&quot;: 0};\n",
       "            }\n",
       "        }\n",
       "\n",
       "        function geo_json_5bfc1760b02f179ea78013e8aa47b75e_onEachFeature(feature, layer) {\n",
       "            layer.on({\n",
       "            });\n",
       "        };\n",
       "        var geo_json_5bfc1760b02f179ea78013e8aa47b75e = L.geoJson(null, {\n",
       "                onEachFeature: geo_json_5bfc1760b02f179ea78013e8aa47b75e_onEachFeature,\n",
       "            \n",
       "                style: geo_json_5bfc1760b02f179ea78013e8aa47b75e_styler,\n",
       "        });\n",
       "\n",
       "        function geo_json_5bfc1760b02f179ea78013e8aa47b75e_add (data) {\n",
       "            geo_json_5bfc1760b02f179ea78013e8aa47b75e\n",
       "                .addData(data)\n",
       "                .addTo(map_17cf8e4bad50bc413478c9236257baf3);\n",
       "        }\n",
       "            geo_json_5bfc1760b02f179ea78013e8aa47b75e_add({&quot;features&quot;: [{&quot;geometry&quot;: {&quot;coordinates&quot;: [[[-58.752247860465, -27.4839808245089], [-58.7520693540048, -27.4839916741996], [-58.7532477399536, -27.4908874672109], [-58.7537314991342, -27.4907998041592], [-58.7547371827423, -27.4906175561754], [-58.7549377345898, -27.4905803580487], [-58.7562124485812, -27.4903439181579], [-58.7563502219363, -27.4903094751804], [-58.756973876111, -27.4901535612762], [-58.7596282797165, -27.489316490515], [-58.7598411266528, -27.4892493660878], [-58.7608221606053, -27.4889375945846], [-58.760814003623, -27.4888660866279], [-58.760599199914, -27.4873645405138], [-58.760424634939, -27.4863203249187], [-58.7602449690631, -27.4852492477812], [-58.7591715037417, -27.4854063647499], [-58.7579836278522, -27.4855559101063], [-58.7567483657078, -27.4857033747706], [-58.7566168203655, -27.4848198722499], [-58.7566199984543, -27.4848194585058], [-58.7564728932334, -27.4838121412981], [-58.7563614533587, -27.4832951241092], [-58.7543328643265, -27.483842359429], [-58.7530800012394, -27.4839305272979], [-58.752247860465, -27.4839808245089]]], &quot;type&quot;: &quot;Polygon&quot;}, &quot;id&quot;: &quot;0&quot;, &quot;type&quot;: &quot;Feature&quot;}], &quot;type&quot;: &quot;FeatureCollection&quot;});\n",
       "\n",
       "        \n",
       "    \n",
       "        var popup_7b6ef2f63c36462a47c196626f455909 = L.popup({&quot;maxWidth&quot;: &quot;100%&quot;});\n",
       "\n",
       "        \n",
       "            \n",
       "                var html_2e09e61c195f2304bd9d0037b1758d14 = $(`&lt;div id=&quot;html_2e09e61c195f2304bd9d0037b1758d14&quot; style=&quot;width: 100.0%; height: 100.0%;&quot;&gt;LOMAS: 619.0&lt;/div&gt;`)[0];\n",
       "                popup_7b6ef2f63c36462a47c196626f455909.setContent(html_2e09e61c195f2304bd9d0037b1758d14);\n",
       "            \n",
       "        \n",
       "\n",
       "        geo_json_5bfc1760b02f179ea78013e8aa47b75e.bindPopup(popup_7b6ef2f63c36462a47c196626f455909)\n",
       "        ;\n",
       "\n",
       "        \n",
       "    \n",
       "    \n",
       "        function geo_json_0b597ce7e0c5315f404ac76514315917_styler(feature) {\n",
       "            switch(feature.id) {\n",
       "                default:\n",
       "                    return {&quot;fillColor&quot;: &quot;#fd5b2dff&quot;, &quot;fillOpacity&quot;: 0.7, &quot;weight&quot;: 0};\n",
       "            }\n",
       "        }\n",
       "\n",
       "        function geo_json_0b597ce7e0c5315f404ac76514315917_onEachFeature(feature, layer) {\n",
       "            layer.on({\n",
       "            });\n",
       "        };\n",
       "        var geo_json_0b597ce7e0c5315f404ac76514315917 = L.geoJson(null, {\n",
       "                onEachFeature: geo_json_0b597ce7e0c5315f404ac76514315917_onEachFeature,\n",
       "            \n",
       "                style: geo_json_0b597ce7e0c5315f404ac76514315917_styler,\n",
       "        });\n",
       "\n",
       "        function geo_json_0b597ce7e0c5315f404ac76514315917_add (data) {\n",
       "            geo_json_0b597ce7e0c5315f404ac76514315917\n",
       "                .addData(data)\n",
       "                .addTo(map_17cf8e4bad50bc413478c9236257baf3);\n",
       "        }\n",
       "            geo_json_0b597ce7e0c5315f404ac76514315917_add({&quot;features&quot;: [{&quot;geometry&quot;: {&quot;coordinates&quot;: [[[-58.7930210482561, -27.4546648353671], [-58.7893777418433, -27.4491272805817], [-58.7890681656965, -27.4495115625008], [-58.7862334315954, -27.4533733180931], [-58.7851932762093, -27.4548877637262], [-58.7848129504632, -27.4553487631266], [-58.7847015402913, -27.4554804497714], [-58.7847206326735, -27.4556610834759], [-58.7847720329825, -27.4559902260024], [-58.7849112143446, -27.4570666953404], [-58.7907330853044, -27.4561732480099], [-58.7919191176634, -27.455953014085], [-58.7926083036151, -27.4558849655399], [-58.7924475888913, -27.4547476160138], [-58.7930210482561, -27.4546648353671]]], &quot;type&quot;: &quot;Polygon&quot;}, &quot;id&quot;: &quot;0&quot;, &quot;type&quot;: &quot;Feature&quot;}], &quot;type&quot;: &quot;FeatureCollection&quot;});\n",
       "\n",
       "        \n",
       "    \n",
       "        var popup_7d291c65cca7331b90c7912e5f1e80ed = L.popup({&quot;maxWidth&quot;: &quot;100%&quot;});\n",
       "\n",
       "        \n",
       "            \n",
       "                var html_63b9fe8eaff6e3606a7846f9dd2e0af6 = $(`&lt;div id=&quot;html_63b9fe8eaff6e3606a7846f9dd2e0af6&quot; style=&quot;width: 100.0%; height: 100.0%;&quot;&gt;LOMAS DEL MIRADOR: 6220.0&lt;/div&gt;`)[0];\n",
       "                popup_7d291c65cca7331b90c7912e5f1e80ed.setContent(html_63b9fe8eaff6e3606a7846f9dd2e0af6);\n",
       "            \n",
       "        \n",
       "\n",
       "        geo_json_0b597ce7e0c5315f404ac76514315917.bindPopup(popup_7d291c65cca7331b90c7912e5f1e80ed)\n",
       "        ;\n",
       "\n",
       "        \n",
       "    \n",
       "    \n",
       "        function geo_json_3de348547ad55dbc8a97fd1e9c3a6607_styler(feature) {\n",
       "            switch(feature.id) {\n",
       "                default:\n",
       "                    return {&quot;fillColor&quot;: &quot;#ffdf82ff&quot;, &quot;fillOpacity&quot;: 0.7, &quot;weight&quot;: 0};\n",
       "            }\n",
       "        }\n",
       "\n",
       "        function geo_json_3de348547ad55dbc8a97fd1e9c3a6607_onEachFeature(feature, layer) {\n",
       "            layer.on({\n",
       "            });\n",
       "        };\n",
       "        var geo_json_3de348547ad55dbc8a97fd1e9c3a6607 = L.geoJson(null, {\n",
       "                onEachFeature: geo_json_3de348547ad55dbc8a97fd1e9c3a6607_onEachFeature,\n",
       "            \n",
       "                style: geo_json_3de348547ad55dbc8a97fd1e9c3a6607_styler,\n",
       "        });\n",
       "\n",
       "        function geo_json_3de348547ad55dbc8a97fd1e9c3a6607_add (data) {\n",
       "            geo_json_3de348547ad55dbc8a97fd1e9c3a6607\n",
       "                .addData(data)\n",
       "                .addTo(map_17cf8e4bad50bc413478c9236257baf3);\n",
       "        }\n",
       "            geo_json_3de348547ad55dbc8a97fd1e9c3a6607_add({&quot;features&quot;: [{&quot;geometry&quot;: {&quot;coordinates&quot;: [[[-58.8046183534985, -27.4740334244786], [-58.8044371292376, -27.473192580399], [-58.802672202011, -27.4736788431236], [-58.8013800733943, -27.4740872391769], [-58.7998658411806, -27.4745316230041], [-58.7982521381953, -27.4749836335018], [-58.7972562009352, -27.4751797054016], [-58.7975687012137, -27.4771594578767], [-58.7983177145471, -27.4814093024664], [-58.7983945827171, -27.4816155847613], [-58.8001675880988, -27.4810917189174], [-58.8002269539721, -27.4810741777362], [-58.8012421086988, -27.4807886812673], [-58.8038707877082, -27.4800300297997], [-58.8045339282536, -27.4798404157131], [-58.8052287609721, -27.4797030470008], [-58.8054186958772, -27.4796788199455], [-58.8048493519067, -27.4764390997011], [-58.805007843157, -27.4764088926535], [-58.8049316517015, -27.4758408812632], [-58.8048840728246, -27.4754786108704], [-58.8047895548574, -27.4751388081449], [-58.8046353947093, -27.4742233048771], [-58.8046183534985, -27.4740334244786]]], &quot;type&quot;: &quot;Polygon&quot;}, &quot;id&quot;: &quot;0&quot;, &quot;type&quot;: &quot;Feature&quot;}], &quot;type&quot;: &quot;FeatureCollection&quot;});\n",
       "\n",
       "        \n",
       "    \n",
       "        var popup_ead30df7117543ea02962b295623414e = L.popup({&quot;maxWidth&quot;: &quot;100%&quot;});\n",
       "\n",
       "        \n",
       "            \n",
       "                var html_2c7f86efb9581ea1efd454fa2c2dc77a = $(`&lt;div id=&quot;html_2c7f86efb9581ea1efd454fa2c2dc77a&quot; style=&quot;width: 100.0%; height: 100.0%;&quot;&gt;NIÑO JESUS: 2278.0&lt;/div&gt;`)[0];\n",
       "                popup_ead30df7117543ea02962b295623414e.setContent(html_2c7f86efb9581ea1efd454fa2c2dc77a);\n",
       "            \n",
       "        \n",
       "\n",
       "        geo_json_3de348547ad55dbc8a97fd1e9c3a6607.bindPopup(popup_ead30df7117543ea02962b295623414e)\n",
       "        ;\n",
       "\n",
       "        \n",
       "    \n",
       "    \n",
       "        function geo_json_d5b0cd723cc1cf7f9220e074d5402d6c_styler(feature) {\n",
       "            switch(feature.id) {\n",
       "                default:\n",
       "                    return {&quot;fillColor&quot;: &quot;#fff7b7ff&quot;, &quot;fillOpacity&quot;: 0.7, &quot;weight&quot;: 0};\n",
       "            }\n",
       "        }\n",
       "\n",
       "        function geo_json_d5b0cd723cc1cf7f9220e074d5402d6c_onEachFeature(feature, layer) {\n",
       "            layer.on({\n",
       "            });\n",
       "        };\n",
       "        var geo_json_d5b0cd723cc1cf7f9220e074d5402d6c = L.geoJson(null, {\n",
       "                onEachFeature: geo_json_d5b0cd723cc1cf7f9220e074d5402d6c_onEachFeature,\n",
       "            \n",
       "                style: geo_json_d5b0cd723cc1cf7f9220e074d5402d6c_styler,\n",
       "        });\n",
       "\n",
       "        function geo_json_d5b0cd723cc1cf7f9220e074d5402d6c_add (data) {\n",
       "            geo_json_d5b0cd723cc1cf7f9220e074d5402d6c\n",
       "                .addData(data)\n",
       "                .addTo(map_17cf8e4bad50bc413478c9236257baf3);\n",
       "        }\n",
       "            geo_json_d5b0cd723cc1cf7f9220e074d5402d6c_add({&quot;features&quot;: [{&quot;geometry&quot;: {&quot;coordinates&quot;: [[[-58.7888117794203, -27.4953163512526], [-58.7888748298756, -27.4960475342603], [-58.7890169901614, -27.4967868959841], [-58.7891300805729, -27.4975080101693], [-58.7892606547442, -27.4980135071052], [-58.7893692335618, -27.4985943317698], [-58.7893870253341, -27.4986268519634], [-58.7894714405918, -27.4986518604689], [-58.7905708889523, -27.4985130802715], [-58.7909314946178, -27.5005593650854], [-58.7909935734689, -27.500656422514], [-58.7902553322316, -27.5013537820596], [-58.7894283793036, -27.5014927956296], [-58.7884818537517, -27.5015784294894], [-58.7885828021818, -27.5025529917545], [-58.7886868913964, -27.5031910041747], [-58.78869744222, -27.5037508083546], [-58.7887400176728, -27.5050565362596], [-58.7897874483898, -27.5049374540364], [-58.7911865246125, -27.5048214406109], [-58.7912730297479, -27.5060625981428], [-58.7945357790222, -27.5059891534278], [-58.7977886145402, -27.5059227857821], [-58.7977657998048, -27.5048364489684], [-58.7976619537994, -27.5034960876628], [-58.7976003303416, -27.5024140711098], [-58.7975287866422, -27.5014151758051], [-58.7963650204674, -27.5015647354794], [-58.796228562496, -27.5015711559564], [-58.7960541757276, -27.5014074903698], [-58.7949995883555, -27.500196111696], [-58.794638651563, -27.4993079018501], [-58.7941581998828, -27.4980149499319], [-58.7937307285289, -27.4969467245839], [-58.7934271120663, -27.4960952897389], [-58.7934974030763, -27.4949265499921], [-58.7912545212979, -27.4951971495995], [-58.7902242240437, -27.4953608739655], [-58.7902037160264, -27.4951106405624], [-58.789179088001, -27.4952752403271], [-58.7888117794203, -27.4953163512526]]], &quot;type&quot;: &quot;Polygon&quot;}, &quot;id&quot;: &quot;0&quot;, &quot;type&quot;: &quot;Feature&quot;}], &quot;type&quot;: &quot;FeatureCollection&quot;});\n",
       "\n",
       "        \n",
       "    \n",
       "        var popup_a04208625dc5cef8025b014cd01e710d = L.popup({&quot;maxWidth&quot;: &quot;100%&quot;});\n",
       "\n",
       "        \n",
       "            \n",
       "                var html_98e3ed5d9b85189c2a63999c7205b527 = $(`&lt;div id=&quot;html_98e3ed5d9b85189c2a63999c7205b527&quot; style=&quot;width: 100.0%; height: 100.0%;&quot;&gt;NTRA SRA DE LA ASUNCION: 712.0&lt;/div&gt;`)[0];\n",
       "                popup_a04208625dc5cef8025b014cd01e710d.setContent(html_98e3ed5d9b85189c2a63999c7205b527);\n",
       "            \n",
       "        \n",
       "\n",
       "        geo_json_d5b0cd723cc1cf7f9220e074d5402d6c.bindPopup(popup_a04208625dc5cef8025b014cd01e710d)\n",
       "        ;\n",
       "\n",
       "        \n",
       "    \n",
       "    \n",
       "        function geo_json_fe5664dce8dd007899980ce166f100eb_styler(feature) {\n",
       "            switch(feature.id) {\n",
       "                default:\n",
       "                    return {&quot;fillColor&quot;: &quot;#fea647ff&quot;, &quot;fillOpacity&quot;: 0.7, &quot;weight&quot;: 0};\n",
       "            }\n",
       "        }\n",
       "\n",
       "        function geo_json_fe5664dce8dd007899980ce166f100eb_onEachFeature(feature, layer) {\n",
       "            layer.on({\n",
       "            });\n",
       "        };\n",
       "        var geo_json_fe5664dce8dd007899980ce166f100eb = L.geoJson(null, {\n",
       "                onEachFeature: geo_json_fe5664dce8dd007899980ce166f100eb_onEachFeature,\n",
       "            \n",
       "                style: geo_json_fe5664dce8dd007899980ce166f100eb_styler,\n",
       "        });\n",
       "\n",
       "        function geo_json_fe5664dce8dd007899980ce166f100eb_add (data) {\n",
       "            geo_json_fe5664dce8dd007899980ce166f100eb\n",
       "                .addData(data)\n",
       "                .addTo(map_17cf8e4bad50bc413478c9236257baf3);\n",
       "        }\n",
       "            geo_json_fe5664dce8dd007899980ce166f100eb_add({&quot;features&quot;: [{&quot;geometry&quot;: {&quot;coordinates&quot;: [[[-58.7520693540048, -27.4839916741996], [-58.7512761508799, -27.4840398825859], [-58.7503253320404, -27.4841516127123], [-58.7496897961132, -27.4842068721356], [-58.7489464563101, -27.4842720168345], [-58.7479537637081, -27.4843802214457], [-58.7479656007761, -27.4845403186408], [-58.7481640675047, -27.4856993010042], [-58.7482377094312, -27.4861293408357], [-58.7483501193169, -27.4867857645113], [-58.7484179266097, -27.4871817255395], [-58.7485336467356, -27.4878574679481], [-58.7491684253173, -27.4915934038154], [-58.7511917858068, -27.4912600106513], [-58.7513620095905, -27.4912291669837], [-58.7526130517853, -27.4910024776483], [-58.7532477399536, -27.4908874672109], [-58.7520693540048, -27.4839916741996]]], &quot;type&quot;: &quot;Polygon&quot;}, &quot;id&quot;: &quot;0&quot;, &quot;type&quot;: &quot;Feature&quot;}], &quot;type&quot;: &quot;FeatureCollection&quot;});\n",
       "\n",
       "        \n",
       "    \n",
       "        var popup_27293d4130cdf4553484cc190b1f710f = L.popup({&quot;maxWidth&quot;: &quot;100%&quot;});\n",
       "\n",
       "        \n",
       "            \n",
       "                var html_9ce8deb87f5df36a25638b8e6a0846c5 = $(`&lt;div id=&quot;html_9ce8deb87f5df36a25638b8e6a0846c5&quot; style=&quot;width: 100.0%; height: 100.0%;&quot;&gt;PARQUE CADENA NORTE: 4337.0&lt;/div&gt;`)[0];\n",
       "                popup_27293d4130cdf4553484cc190b1f710f.setContent(html_9ce8deb87f5df36a25638b8e6a0846c5);\n",
       "            \n",
       "        \n",
       "\n",
       "        geo_json_fe5664dce8dd007899980ce166f100eb.bindPopup(popup_27293d4130cdf4553484cc190b1f710f)\n",
       "        ;\n",
       "\n",
       "        \n",
       "    \n",
       "    \n",
       "        function geo_json_8f520b1bc06be2f26f091f6195a73811_styler(feature) {\n",
       "            switch(feature.id) {\n",
       "                default:\n",
       "                    return {&quot;fillColor&quot;: &quot;#fffbc0ff&quot;, &quot;fillOpacity&quot;: 0.7, &quot;weight&quot;: 0};\n",
       "            }\n",
       "        }\n",
       "\n",
       "        function geo_json_8f520b1bc06be2f26f091f6195a73811_onEachFeature(feature, layer) {\n",
       "            layer.on({\n",
       "            });\n",
       "        };\n",
       "        var geo_json_8f520b1bc06be2f26f091f6195a73811 = L.geoJson(null, {\n",
       "                onEachFeature: geo_json_8f520b1bc06be2f26f091f6195a73811_onEachFeature,\n",
       "            \n",
       "                style: geo_json_8f520b1bc06be2f26f091f6195a73811_styler,\n",
       "        });\n",
       "\n",
       "        function geo_json_8f520b1bc06be2f26f091f6195a73811_add (data) {\n",
       "            geo_json_8f520b1bc06be2f26f091f6195a73811\n",
       "                .addData(data)\n",
       "                .addTo(map_17cf8e4bad50bc413478c9236257baf3);\n",
       "        }\n",
       "            geo_json_8f520b1bc06be2f26f091f6195a73811_add({&quot;features&quot;: [{&quot;geometry&quot;: {&quot;coordinates&quot;: [[[-58.6681390771363, -27.5155168786497], [-58.6625577279111, -27.5116131357875], [-58.6593359734854, -27.5141485722049], [-58.6565226104563, -27.5147522388965], [-58.6551613057672, -27.5155973667356], [-58.6523933195661, -27.51591931849], [-58.6516672903986, -27.5155168786497], [-58.6504874930712, -27.5156778547497], [-58.6502152320636, -27.5161607816874], [-58.649625333365, -27.5170058987038], [-58.652098370201, -27.5225392425312], [-58.6527336457603, -27.5274083547281], [-58.6585645674899, -27.5304866491454], [-58.6619224523895, -27.5244506965778], [-58.6625577279111, -27.5230422599622], [-58.6657085810681, -27.5171618422138], [-58.6681390771363, -27.5155168786497]]], &quot;type&quot;: &quot;Polygon&quot;}, &quot;id&quot;: &quot;0&quot;, &quot;type&quot;: &quot;Feature&quot;}], &quot;type&quot;: &quot;FeatureCollection&quot;});\n",
       "\n",
       "        \n",
       "    \n",
       "        var popup_e421c4e32584a2c1a671ac18c7eca7c4 = L.popup({&quot;maxWidth&quot;: &quot;100%&quot;});\n",
       "\n",
       "        \n",
       "            \n",
       "                var html_01f0e6ca4892ff2f82c0f262f736cfe9 = $(`&lt;div id=&quot;html_01f0e6ca4892ff2f82c0f262f736cfe9&quot; style=&quot;width: 100.0%; height: 100.0%;&quot;&gt;PASO MARTINEZ: 427.0&lt;/div&gt;`)[0];\n",
       "                popup_e421c4e32584a2c1a671ac18c7eca7c4.setContent(html_01f0e6ca4892ff2f82c0f262f736cfe9);\n",
       "            \n",
       "        \n",
       "\n",
       "        geo_json_8f520b1bc06be2f26f091f6195a73811.bindPopup(popup_e421c4e32584a2c1a671ac18c7eca7c4)\n",
       "        ;\n",
       "\n",
       "        \n",
       "    \n",
       "    \n",
       "        function geo_json_0a5a428f12b4deb5ae70371f79278cc9_styler(feature) {\n",
       "            switch(feature.id) {\n",
       "                default:\n",
       "                    return {&quot;fillColor&quot;: &quot;#dc141eff&quot;, &quot;fillOpacity&quot;: 0.7, &quot;weight&quot;: 0};\n",
       "            }\n",
       "        }\n",
       "\n",
       "        function geo_json_0a5a428f12b4deb5ae70371f79278cc9_onEachFeature(feature, layer) {\n",
       "            layer.on({\n",
       "            });\n",
       "        };\n",
       "        var geo_json_0a5a428f12b4deb5ae70371f79278cc9 = L.geoJson(null, {\n",
       "                onEachFeature: geo_json_0a5a428f12b4deb5ae70371f79278cc9_onEachFeature,\n",
       "            \n",
       "                style: geo_json_0a5a428f12b4deb5ae70371f79278cc9_styler,\n",
       "        });\n",
       "\n",
       "        function geo_json_0a5a428f12b4deb5ae70371f79278cc9_add (data) {\n",
       "            geo_json_0a5a428f12b4deb5ae70371f79278cc9\n",
       "                .addData(data)\n",
       "                .addTo(map_17cf8e4bad50bc413478c9236257baf3);\n",
       "        }\n",
       "            geo_json_0a5a428f12b4deb5ae70371f79278cc9_add({&quot;features&quot;: [{&quot;geometry&quot;: {&quot;coordinates&quot;: [[[-58.8473985411239, -27.4744240361799], [-58.849486905928, -27.474168575275], [-58.8500241423421, -27.4741228739629], [-58.8497935725403, -27.4721855124121], [-58.8485010160524, -27.4722882308911], [-58.8472034548423, -27.4723894037297], [-58.8473985411239, -27.4744240361799]]], &quot;type&quot;: &quot;Polygon&quot;}, &quot;id&quot;: &quot;0&quot;, &quot;type&quot;: &quot;Feature&quot;}], &quot;type&quot;: &quot;FeatureCollection&quot;});\n",
       "\n",
       "        \n",
       "    \n",
       "        var popup_24008b8aee7bee9d600d055bbda13a92 = L.popup({&quot;maxWidth&quot;: &quot;100%&quot;});\n",
       "\n",
       "        \n",
       "            \n",
       "                var html_3afbd32a215cf40366081f975ba8eeda = $(`&lt;div id=&quot;html_3afbd32a215cf40366081f975ba8eeda&quot; style=&quot;width: 100.0%; height: 100.0%;&quot;&gt;PEDRO FERRE: 8026.0&lt;/div&gt;`)[0];\n",
       "                popup_24008b8aee7bee9d600d055bbda13a92.setContent(html_3afbd32a215cf40366081f975ba8eeda);\n",
       "            \n",
       "        \n",
       "\n",
       "        geo_json_0a5a428f12b4deb5ae70371f79278cc9.bindPopup(popup_24008b8aee7bee9d600d055bbda13a92)\n",
       "        ;\n",
       "\n",
       "        \n",
       "    \n",
       "    \n",
       "        function geo_json_d42d7d263768c5c1c27bf773a313e657_styler(feature) {\n",
       "            switch(feature.id) {\n",
       "                default:\n",
       "                    return {&quot;fillColor&quot;: &quot;#feba54ff&quot;, &quot;fillOpacity&quot;: 0.7, &quot;weight&quot;: 0};\n",
       "            }\n",
       "        }\n",
       "\n",
       "        function geo_json_d42d7d263768c5c1c27bf773a313e657_onEachFeature(feature, layer) {\n",
       "            layer.on({\n",
       "            });\n",
       "        };\n",
       "        var geo_json_d42d7d263768c5c1c27bf773a313e657 = L.geoJson(null, {\n",
       "                onEachFeature: geo_json_d42d7d263768c5c1c27bf773a313e657_onEachFeature,\n",
       "            \n",
       "                style: geo_json_d42d7d263768c5c1c27bf773a313e657_styler,\n",
       "        });\n",
       "\n",
       "        function geo_json_d42d7d263768c5c1c27bf773a313e657_add (data) {\n",
       "            geo_json_d42d7d263768c5c1c27bf773a313e657\n",
       "                .addData(data)\n",
       "                .addTo(map_17cf8e4bad50bc413478c9236257baf3);\n",
       "        }\n",
       "            geo_json_d42d7d263768c5c1c27bf773a313e657_add({&quot;features&quot;: [{&quot;geometry&quot;: {&quot;coordinates&quot;: [[[-58.7884818537517, -27.5015784294894], [-58.7883322582363, -27.5015919630594], [-58.7875262502269, -27.5016886885855], [-58.7874193857916, -27.5010712101754], [-58.7869479570253, -27.5011349647316], [-58.7853354066727, -27.5013966723551], [-58.7843186328328, -27.5015506971061], [-58.7813372736167, -27.5019953860442], [-58.7805315970921, -27.5021119974384], [-58.7799489291912, -27.5021770137768], [-58.7798086207632, -27.5021736255804], [-58.7795892060305, -27.5021026550402], [-58.7796166697011, -27.5019985178431], [-58.7785874564922, -27.5016617872535], [-58.7772870396939, -27.5012336614219], [-58.7769687340233, -27.501130135418], [-58.7764944037061, -27.5009758621334], [-58.7761545261437, -27.5008678351384], [-58.7753779043427, -27.5006209890863], [-58.7747052885698, -27.5022139690481], [-58.7742304512215, -27.5033385119627], [-58.7730613062317, -27.5060749341193], [-58.7733274278059, -27.5062763484208], [-58.7734075328776, -27.5063735722897], [-58.7735549647514, -27.5064712609988], [-58.7737775035786, -27.5066187151403], [-58.7738170159734, -27.5066448959609], [-58.7742077864632, -27.50693041555], [-58.7745753191696, -27.5071611644084], [-58.7753414290825, -27.5076835439798], [-58.7753881013765, -27.5077117921202], [-58.7758498423311, -27.5079996903078], [-58.7766733326083, -27.5085779970532], [-58.776886992813, -27.5087262382363], [-58.777367897144, -27.5090690474407], [-58.777783132552, -27.5093646353785], [-58.7781032098322, -27.5095859563779], [-58.778367207545, -27.5097783344594], [-58.7785361538009, -27.5098983599483], [-58.7785740868676, -27.5099219822033], [-58.7787713026428, -27.5100472118342], [-58.7788245193194, -27.5100764732831], [-58.7789125210243, -27.5101248613718], [-58.779004105697, -27.5101661151694], [-58.7790904462476, -27.5101881907685], [-58.7791061808534, -27.5101921657649], [-58.779204710702, -27.5102138897812], [-58.779455033094, -27.5102140757508], [-58.7796504206029, -27.5102052389127], [-58.7798791143578, -27.5101925892308], [-58.7801304933125, -27.5101790927862], [-58.7804232232513, -27.5101663819368], [-58.7806287182265, -27.5101493089751], [-58.780763214731, -27.5101361734661], [-58.7808350878025, -27.5101406184723], [-58.7809360887842, -27.5101657349144], [-58.7810372036119, -27.5101842097424], [-58.7811720409297, -27.5101714643265], [-58.7819697452162, -27.5100943587999], [-58.7821732108972, -27.5100761613715], [-58.7822564346817, -27.5100687179701], [-58.7823116417654, -27.5100727222687], [-58.7823800863191, -27.510081487425], [-58.782447906736, -27.5100884911645], [-58.7825149785458, -27.5101094202104], [-58.7825805064961, -27.5101298674728], [-58.7826298720945, -27.5101524181581], [-58.7829432870594, -27.5103622716301], [-58.7830430494372, -27.5104280618082], [-58.783317189153, -27.5106088476449], [-58.7835398664787, -27.5107646202951], [-58.7836474637494, -27.5108238740126], [-58.7845532430544, -27.5096635143644], [-58.7849767812703, -27.5091482447374], [-58.7854462523423, -27.5085269193752], [-58.785825014362, -27.5080112559235], [-58.7864001008552, -27.5072843934092], [-58.7868229202194, -27.5067391309943], [-58.7876605403046, -27.5052993441208], [-58.78869744222, -27.5037508083546], [-58.7886868913964, -27.5031910041747], [-58.7885828021818, -27.5025529917545], [-58.7884818537517, -27.5015784294894]]], &quot;type&quot;: &quot;Polygon&quot;}, &quot;id&quot;: &quot;0&quot;, &quot;type&quot;: &quot;Feature&quot;}], &quot;type&quot;: &quot;FeatureCollection&quot;});\n",
       "\n",
       "        \n",
       "    \n",
       "        var popup_88665aa1861656abd0c3f9afb19f91e5 = L.popup({&quot;maxWidth&quot;: &quot;100%&quot;});\n",
       "\n",
       "        \n",
       "            \n",
       "                var html_e6d9b17fcf3f8dbbf3e4f4e86958cad8 = $(`&lt;div id=&quot;html_e6d9b17fcf3f8dbbf3e4f4e86958cad8&quot; style=&quot;width: 100.0%; height: 100.0%;&quot;&gt;PIRAYUI: 3683.0&lt;/div&gt;`)[0];\n",
       "                popup_88665aa1861656abd0c3f9afb19f91e5.setContent(html_e6d9b17fcf3f8dbbf3e4f4e86958cad8);\n",
       "            \n",
       "        \n",
       "\n",
       "        geo_json_d42d7d263768c5c1c27bf773a313e657.bindPopup(popup_88665aa1861656abd0c3f9afb19f91e5)\n",
       "        ;\n",
       "\n",
       "        \n",
       "    \n",
       "    \n",
       "        function geo_json_3127505188b5b04958779226a782fce7_styler(feature) {\n",
       "            switch(feature.id) {\n",
       "                default:\n",
       "                    return {&quot;fillColor&quot;: &quot;#fe923eff&quot;, &quot;fillOpacity&quot;: 0.7, &quot;weight&quot;: 0};\n",
       "            }\n",
       "        }\n",
       "\n",
       "        function geo_json_3127505188b5b04958779226a782fce7_onEachFeature(feature, layer) {\n",
       "            layer.on({\n",
       "            });\n",
       "        };\n",
       "        var geo_json_3127505188b5b04958779226a782fce7 = L.geoJson(null, {\n",
       "                onEachFeature: geo_json_3127505188b5b04958779226a782fce7_onEachFeature,\n",
       "            \n",
       "                style: geo_json_3127505188b5b04958779226a782fce7_styler,\n",
       "        });\n",
       "\n",
       "        function geo_json_3127505188b5b04958779226a782fce7_add (data) {\n",
       "            geo_json_3127505188b5b04958779226a782fce7\n",
       "                .addData(data)\n",
       "                .addTo(map_17cf8e4bad50bc413478c9236257baf3);\n",
       "        }\n",
       "            geo_json_3127505188b5b04958779226a782fce7_add({&quot;features&quot;: [{&quot;geometry&quot;: {&quot;coordinates&quot;: [[[-58.8118654079798, -27.4605676726867], [-58.8116788687389, -27.4606363739641], [-58.8115037080106, -27.4607015760869], [-58.8113957178901, -27.4607006544556], [-58.8113296598496, -27.4606630368527], [-58.8112629659548, -27.4606846998642], [-58.8112540231179, -27.460743909602], [-58.8112531487434, -27.4608254204865], [-58.8111283856365, -27.4608391769898], [-58.8108957912801, -27.4608371911978], [-58.8107881191307, -27.4608066287746], [-58.8107299705636, -27.4608061322215], [-58.8106876406078, -27.460879878314], [-58.8105877186882, -27.4609012572268], [-58.8105371611876, -27.4609675222431], [-58.8104287731239, -27.461003650244], [-58.8102203833085, -27.4610685668774], [-58.8100048003231, -27.4610296711347], [-58.8098472865626, -27.4609986820881], [-58.8097398533508, -27.4609458886305], [-58.8097741953638, -27.4608424315475], [-58.8098666062404, -27.4607468814658], [-58.8099665281379, -27.4607255030701], [-58.8100667682702, -27.4606744842921], [-58.8101665309473, -27.4606679259044], [-58.8102001564444, -27.4606311593966], [-58.8103078282449, -27.4606617222647], [-58.8104070340895, -27.4607070342511], [-58.8104574324583, -27.4606555894351], [-58.8104499209502, -27.4605814176969], [-58.8103924884168, -27.4605142303014], [-58.8103682835924, -27.4604473267221], [-58.8102860100137, -27.4603725163293], [-58.8101288153377, -27.4603118873137], [-58.8099543704615, -27.4603103967805], [-58.8098125165234, -27.4603684706144], [-58.8097530152165, -27.4604939449658], [-58.8096773774885, -27.4605748168277], [-58.8095853646017, -27.4606333164052], [-58.8095022157817, -27.4606400163989], [-58.8094810771334, -27.4606335294939], [-58.8088772048321, -27.4614101305929], [-58.8090764935481, -27.4626928583724], [-58.8092580983022, -27.4637363474407], [-58.8093947771894, -27.4647841076635], [-58.8095591575637, -27.465824214812], [-58.8097863270377, -27.4672606060102], [-58.8118338373534, -27.4674384788995], [-58.8127563841127, -27.4675091759682], [-58.8129207415836, -27.4675225553342], [-58.8125256904177, -27.4649995059995], [-58.8123187823824, -27.4637627333571], [-58.8118654079798, -27.4605676726867]]], &quot;type&quot;: &quot;Polygon&quot;}, &quot;id&quot;: &quot;0&quot;, &quot;type&quot;: &quot;Feature&quot;}], &quot;type&quot;: &quot;FeatureCollection&quot;});\n",
       "\n",
       "        \n",
       "    \n",
       "        var popup_40b181b85d8329c1fbf0db29029eb4a8 = L.popup({&quot;maxWidth&quot;: &quot;100%&quot;});\n",
       "\n",
       "        \n",
       "            \n",
       "                var html_1e1b5fe55355bce038006b8d08b82d94 = $(`&lt;div id=&quot;html_1e1b5fe55355bce038006b8d08b82d94&quot; style=&quot;width: 100.0%; height: 100.0%;&quot;&gt;PLACIDO MARTINEZ: 5026.0&lt;/div&gt;`)[0];\n",
       "                popup_40b181b85d8329c1fbf0db29029eb4a8.setContent(html_1e1b5fe55355bce038006b8d08b82d94);\n",
       "            \n",
       "        \n",
       "\n",
       "        geo_json_3127505188b5b04958779226a782fce7.bindPopup(popup_40b181b85d8329c1fbf0db29029eb4a8)\n",
       "        ;\n",
       "\n",
       "        \n",
       "    \n",
       "    \n",
       "        function geo_json_d6c64db3b9e4817817de68e2eb21e3cf_styler(feature) {\n",
       "            switch(feature.id) {\n",
       "                default:\n",
       "                    return {&quot;fillColor&quot;: &quot;#ffe895ff&quot;, &quot;fillOpacity&quot;: 0.7, &quot;weight&quot;: 0};\n",
       "            }\n",
       "        }\n",
       "\n",
       "        function geo_json_d6c64db3b9e4817817de68e2eb21e3cf_onEachFeature(feature, layer) {\n",
       "            layer.on({\n",
       "            });\n",
       "        };\n",
       "        var geo_json_d6c64db3b9e4817817de68e2eb21e3cf = L.geoJson(null, {\n",
       "                onEachFeature: geo_json_d6c64db3b9e4817817de68e2eb21e3cf_onEachFeature,\n",
       "            \n",
       "                style: geo_json_d6c64db3b9e4817817de68e2eb21e3cf_styler,\n",
       "        });\n",
       "\n",
       "        function geo_json_d6c64db3b9e4817817de68e2eb21e3cf_add (data) {\n",
       "            geo_json_d6c64db3b9e4817817de68e2eb21e3cf\n",
       "                .addData(data)\n",
       "                .addTo(map_17cf8e4bad50bc413478c9236257baf3);\n",
       "        }\n",
       "            geo_json_d6c64db3b9e4817817de68e2eb21e3cf_add({&quot;features&quot;: [{&quot;geometry&quot;: {&quot;coordinates&quot;: [[[-58.8200955696166, -27.4847414494609], [-58.8192594336134, -27.4848084439368], [-58.815915622066, -27.4850763119547], [-58.8162392655822, -27.4868460986794], [-58.8163537374005, -27.4875553533839], [-58.8168403907591, -27.4902157032029], [-58.8171765318569, -27.492250726799], [-58.8172410994443, -27.4922918162159], [-58.8185475371158, -27.4906602149359], [-58.8188256279834, -27.490309615666], [-58.8194107763016, -27.4895775882809], [-58.8198547949939, -27.4890221073105], [-58.8206113775862, -27.4880547711516], [-58.8204979307413, -27.4869465525437], [-58.8204186390189, -27.4862530506003], [-58.8202724182624, -27.4851905601131], [-58.8202238910357, -27.4847315535625], [-58.8200955696166, -27.4847414494609]]], &quot;type&quot;: &quot;Polygon&quot;}, &quot;id&quot;: &quot;0&quot;, &quot;type&quot;: &quot;Feature&quot;}], &quot;type&quot;: &quot;FeatureCollection&quot;});\n",
       "\n",
       "        \n",
       "    \n",
       "        var popup_80b027c4efbe40c03a38e2149f7ca76d = L.popup({&quot;maxWidth&quot;: &quot;100%&quot;});\n",
       "\n",
       "        \n",
       "            \n",
       "                var html_4748b4928ac3e8eaff5762e08a6b130a = $(`&lt;div id=&quot;html_4748b4928ac3e8eaff5762e08a6b130a&quot; style=&quot;width: 100.0%; height: 100.0%;&quot;&gt;PRIMERA JUNTA: 1685.0&lt;/div&gt;`)[0];\n",
       "                popup_80b027c4efbe40c03a38e2149f7ca76d.setContent(html_4748b4928ac3e8eaff5762e08a6b130a);\n",
       "            \n",
       "        \n",
       "\n",
       "        geo_json_d6c64db3b9e4817817de68e2eb21e3cf.bindPopup(popup_80b027c4efbe40c03a38e2149f7ca76d)\n",
       "        ;\n",
       "\n",
       "        \n",
       "    \n",
       "    \n",
       "        function geo_json_f55c833278f47654fa764e421a2e6840_styler(feature) {\n",
       "            switch(feature.id) {\n",
       "                default:\n",
       "                    return {&quot;fillColor&quot;: &quot;#ffe895ff&quot;, &quot;fillOpacity&quot;: 0.7, &quot;weight&quot;: 0};\n",
       "            }\n",
       "        }\n",
       "\n",
       "        function geo_json_f55c833278f47654fa764e421a2e6840_onEachFeature(feature, layer) {\n",
       "            layer.on({\n",
       "            });\n",
       "        };\n",
       "        var geo_json_f55c833278f47654fa764e421a2e6840 = L.geoJson(null, {\n",
       "                onEachFeature: geo_json_f55c833278f47654fa764e421a2e6840_onEachFeature,\n",
       "            \n",
       "                style: geo_json_f55c833278f47654fa764e421a2e6840_styler,\n",
       "        });\n",
       "\n",
       "        function geo_json_f55c833278f47654fa764e421a2e6840_add (data) {\n",
       "            geo_json_f55c833278f47654fa764e421a2e6840\n",
       "                .addData(data)\n",
       "                .addTo(map_17cf8e4bad50bc413478c9236257baf3);\n",
       "        }\n",
       "            geo_json_f55c833278f47654fa764e421a2e6840_add({&quot;features&quot;: [{&quot;geometry&quot;: {&quot;coordinates&quot;: [[[-58.8059343726505, -27.4603889997349], [-58.8056851198951, -27.4604287180531], [-58.8055695694686, -27.460597815334], [-58.8054555125317, -27.4607790423576], [-58.8053841254567, -27.4609018267112], [-58.8053256260716, -27.4609963387379], [-58.8053248475296, -27.4610590727968], [-58.8053060272599, -27.4611475305856], [-58.8054016676793, -27.4612132884997], [-58.8055039734335, -27.4613437930026], [-58.8055141735811, -27.461652246575], [-58.8051229964, -27.4621884458471], [-58.8047785365902, -27.4626271087064], [-58.8046174412471, -27.462883935712], [-58.8045421736327, -27.4629915823098], [-58.8042979662848, -27.4633015307552], [-58.8041729416935, -27.4635178492451], [-58.8041895543619, -27.4637743440417], [-58.8041045637567, -27.464135644583], [-58.8039829543769, -27.4644188677325], [-58.8039367251206, -27.464838903295], [-58.8037448690548, -27.4654473166885], [-58.8037361302416, -27.4661117873588], [-58.8037857914936, -27.4666073001193], [-58.8038023005369, -27.4667869638433], [-58.8040428718048, -27.467423103647], [-58.8043098075163, -27.468085784788], [-58.8060466131451, -27.4675635519348], [-58.8058025713645, -27.4669879167021], [-58.8062964548938, -27.4668011405613], [-58.8060585188586, -27.4663408132884], [-58.8058537751968, -27.4659446989758], [-58.8049581499502, -27.4642297202146], [-58.8054479408293, -27.4640292314071], [-58.8064147395728, -27.4636309818499], [-58.8068628483639, -27.4644891237575], [-58.8078320780271, -27.4640909220582], [-58.8088250926897, -27.4660660111004], [-58.8095591575636, -27.465824214812], [-58.8093947771894, -27.4647841076635], [-58.8092580983022, -27.4637363474407], [-58.8090764935481, -27.4626928583724], [-58.8088772048321, -27.4614101305929], [-58.8086192557582, -27.4614658231722], [-58.8082753442387, -27.4615774415883], [-58.8080049187518, -27.4616357205946], [-58.807743025553, -27.4616528891645], [-58.8075074758209, -27.4615028509255], [-58.8073430710622, -27.4613556313045], [-58.8071484953208, -27.4612917253181], [-58.8069690478173, -27.4613105409522], [-58.8066904472992, -27.4613423085513], [-58.8063790626505, -27.4613000381301], [-58.806399827687, -27.4611555931466], [-58.8064170123967, -27.4609460951381], [-58.8063117134648, -27.4607790002657], [-58.8062387807022, -27.4606307321502], [-58.8060996872753, -27.460476215794], [-58.8059343726505, -27.4603889997349]]], &quot;type&quot;: &quot;Polygon&quot;}, &quot;id&quot;: &quot;0&quot;, &quot;type&quot;: &quot;Feature&quot;}], &quot;type&quot;: &quot;FeatureCollection&quot;});\n",
       "\n",
       "        \n",
       "    \n",
       "        var popup_1f87c7ba3beda099f5892699c3771f66 = L.popup({&quot;maxWidth&quot;: &quot;100%&quot;});\n",
       "\n",
       "        \n",
       "            \n",
       "                var html_8e32b2eca47ab0af8705722787ff4d6c = $(`&lt;div id=&quot;html_8e32b2eca47ab0af8705722787ff4d6c&quot; style=&quot;width: 100.0%; height: 100.0%;&quot;&gt;QUINTA FERRE: 1698.0&lt;/div&gt;`)[0];\n",
       "                popup_1f87c7ba3beda099f5892699c3771f66.setContent(html_8e32b2eca47ab0af8705722787ff4d6c);\n",
       "            \n",
       "        \n",
       "\n",
       "        geo_json_f55c833278f47654fa764e421a2e6840.bindPopup(popup_1f87c7ba3beda099f5892699c3771f66)\n",
       "        ;\n",
       "\n",
       "        \n",
       "    \n",
       "    \n",
       "        function geo_json_3aeba1a32df6e67c49c9afcf85991d9d_styler(feature) {\n",
       "            switch(feature.id) {\n",
       "                default:\n",
       "                    return {&quot;fillColor&quot;: &quot;#feba55ff&quot;, &quot;fillOpacity&quot;: 0.7, &quot;weight&quot;: 0};\n",
       "            }\n",
       "        }\n",
       "\n",
       "        function geo_json_3aeba1a32df6e67c49c9afcf85991d9d_onEachFeature(feature, layer) {\n",
       "            layer.on({\n",
       "            });\n",
       "        };\n",
       "        var geo_json_3aeba1a32df6e67c49c9afcf85991d9d = L.geoJson(null, {\n",
       "                onEachFeature: geo_json_3aeba1a32df6e67c49c9afcf85991d9d_onEachFeature,\n",
       "            \n",
       "                style: geo_json_3aeba1a32df6e67c49c9afcf85991d9d_styler,\n",
       "        });\n",
       "\n",
       "        function geo_json_3aeba1a32df6e67c49c9afcf85991d9d_add (data) {\n",
       "            geo_json_3aeba1a32df6e67c49c9afcf85991d9d\n",
       "                .addData(data)\n",
       "                .addTo(map_17cf8e4bad50bc413478c9236257baf3);\n",
       "        }\n",
       "            geo_json_3aeba1a32df6e67c49c9afcf85991d9d_add({&quot;features&quot;: [{&quot;geometry&quot;: {&quot;coordinates&quot;: [[[-58.8200934329378, -27.5110032298846], [-58.8199313007798, -27.5110638224399], [-58.8198986355171, -27.5110816307904], [-58.8197472985871, -27.5111641360281], [-58.8196397743443, -27.5113008727202], [-58.8196752675658, -27.5128704084654], [-58.8198493000718, -27.5132086250824], [-58.8199340280008, -27.5133823723541], [-58.8194914371976, -27.514568519245], [-58.8193405214105, -27.5150011400374], [-58.8205176143704, -27.5152107754561], [-58.8293929347295, -27.5161535650003], [-58.82995106654, -27.5161715715132], [-58.8347965916795, -27.5166731237221], [-58.836016799043, -27.5168071536553], [-58.8363864745434, -27.5168511244676], [-58.8364948047975, -27.5165701851428], [-58.8366289811447, -27.5163364361914], [-58.8367627862569, -27.5161379146965], [-58.8369100083751, -27.5159160181185], [-58.8370435654162, -27.5157409813879], [-58.8371907864227, -27.5155190844663], [-58.8373240955505, -27.5153675325092], [-58.8374585155604, -27.5151102975351], [-58.8375129254049, -27.5149463422817], [-58.8376859911556, -27.514771635079], [-58.8378209032794, -27.5144674295078], [-58.8378614014515, -27.5143738192949], [-58.8379570487715, -27.5140457983147], [-58.8379992743752, -27.5137877924033], [-58.8380547933043, -27.5135181539416], [-58.8382029962541, -27.5132023153417], [-58.8383776618306, -27.5128749539794], [-58.8384859827945, -27.5125940126688], [-58.8385815031946, -27.512277733623], [-58.8387295795403, -27.511973636861], [-58.8387977722993, -27.5117510781154], [-58.8388190685739, -27.51160446112], [-58.8388867676946, -27.5114288725221], [-58.8390466557391, -27.5112540533642], [-58.8391806966289, -27.5110320439647], [-58.8392479017572, -27.5109034253733], [-58.8388619440949, -27.5108511240799], [-58.834434269422, -27.5103638435414], [-58.8315959201952, -27.5100723708104], [-58.8313677379515, -27.5100521861116], [-58.8294652405728, -27.5098648416325], [-58.8264813112309, -27.5095623432352], [-58.8241246041892, -27.5092975232114], [-58.8221490225983, -27.5090974198586], [-58.8218821295143, -27.5109687596289], [-58.8204252424084, -27.5108792241661], [-58.8200934329378, -27.5110032298846]]], &quot;type&quot;: &quot;Polygon&quot;}, &quot;id&quot;: &quot;0&quot;, &quot;type&quot;: &quot;Feature&quot;}], &quot;type&quot;: &quot;FeatureCollection&quot;});\n",
       "\n",
       "        \n",
       "    \n",
       "        var popup_ae1e00b665c9a63186ac7d39432e54f8 = L.popup({&quot;maxWidth&quot;: &quot;100%&quot;});\n",
       "\n",
       "        \n",
       "            \n",
       "                var html_85ca2c99213b4ac76bc0a3f1a6af6c48 = $(`&lt;div id=&quot;html_85ca2c99213b4ac76bc0a3f1a6af6c48&quot; style=&quot;width: 100.0%; height: 100.0%;&quot;&gt;RIO PARANA: 3654.0&lt;/div&gt;`)[0];\n",
       "                popup_ae1e00b665c9a63186ac7d39432e54f8.setContent(html_85ca2c99213b4ac76bc0a3f1a6af6c48);\n",
       "            \n",
       "        \n",
       "\n",
       "        geo_json_3aeba1a32df6e67c49c9afcf85991d9d.bindPopup(popup_ae1e00b665c9a63186ac7d39432e54f8)\n",
       "        ;\n",
       "\n",
       "        \n",
       "    \n",
       "    \n",
       "        function geo_json_427ff17f8edbcfb0591e2304bbabf35d_styler(feature) {\n",
       "            switch(feature.id) {\n",
       "                default:\n",
       "                    return {&quot;fillColor&quot;: &quot;#800026ff&quot;, &quot;fillOpacity&quot;: 0.7, &quot;weight&quot;: 0};\n",
       "            }\n",
       "        }\n",
       "\n",
       "        function geo_json_427ff17f8edbcfb0591e2304bbabf35d_onEachFeature(feature, layer) {\n",
       "            layer.on({\n",
       "            });\n",
       "        };\n",
       "        var geo_json_427ff17f8edbcfb0591e2304bbabf35d = L.geoJson(null, {\n",
       "                onEachFeature: geo_json_427ff17f8edbcfb0591e2304bbabf35d_onEachFeature,\n",
       "            \n",
       "                style: geo_json_427ff17f8edbcfb0591e2304bbabf35d_styler,\n",
       "        });\n",
       "\n",
       "        function geo_json_427ff17f8edbcfb0591e2304bbabf35d_add (data) {\n",
       "            geo_json_427ff17f8edbcfb0591e2304bbabf35d\n",
       "                .addData(data)\n",
       "                .addTo(map_17cf8e4bad50bc413478c9236257baf3);\n",
       "        }\n",
       "            geo_json_427ff17f8edbcfb0591e2304bbabf35d_add({&quot;features&quot;: [{&quot;geometry&quot;: {&quot;coordinates&quot;: [[[-58.819632215475, -27.5108643188798], [-58.8197472985871, -27.5111641360281], [-58.8198986355171, -27.5110816307904], [-58.8199313007798, -27.5110638224399], [-58.8200934329378, -27.5110032298846], [-58.8204252424084, -27.5108792241661], [-58.8218821295143, -27.5109687596289], [-58.8221490225983, -27.5090974198586], [-58.8187442374798, -27.5087157118862], [-58.8169526148675, -27.5044719650515], [-58.8143553055213, -27.5040707052846], [-58.8121075706396, -27.5037328642319], [-58.8123325050626, -27.5032314323991], [-58.809835791438, -27.5035589083911], [-58.8094029292255, -27.5036253593622], [-58.8092231604546, -27.5036463807753], [-58.8091551653481, -27.5035777914144], [-58.8090355155311, -27.503401026776], [-58.8082499508685, -27.5040651467184], [-58.8082690349215, -27.504534706206], [-58.8076611489291, -27.5045537682161], [-58.8073274307509, -27.5045405914041], [-58.8070769242712, -27.504349428656], [-58.8063922665136, -27.504894514276], [-58.8061737807208, -27.5050796435452], [-58.805803283925, -27.5053499318514], [-58.8056580597768, -27.5054331385526], [-58.8050120256658, -27.505950397438], [-58.8040236654064, -27.5065523516336], [-58.8041656318081, -27.5085920858438], [-58.8063626874278, -27.5085924976176], [-58.8063281828462, -27.5081407426643], [-58.8105568810099, -27.5077564911161], [-58.8104875344818, -27.5081318522215], [-58.8160224764525, -27.5087817979465], [-58.815851491917, -27.5102903982354], [-58.819632215475, -27.5108643188798]]], &quot;type&quot;: &quot;Polygon&quot;}, &quot;id&quot;: &quot;0&quot;, &quot;type&quot;: &quot;Feature&quot;}], &quot;type&quot;: &quot;FeatureCollection&quot;});\n",
       "\n",
       "        \n",
       "    \n",
       "        var popup_063f25dc7f9a6a00fe0fa92100f31301 = L.popup({&quot;maxWidth&quot;: &quot;100%&quot;});\n",
       "\n",
       "        \n",
       "            \n",
       "                var html_14620c08a62678d72e2fbf4def83757c = $(`&lt;div id=&quot;html_14620c08a62678d72e2fbf4def83757c&quot; style=&quot;width: 100.0%; height: 100.0%;&quot;&gt;SAN ANTONIO: 10325.0&lt;/div&gt;`)[0];\n",
       "                popup_063f25dc7f9a6a00fe0fa92100f31301.setContent(html_14620c08a62678d72e2fbf4def83757c);\n",
       "            \n",
       "        \n",
       "\n",
       "        geo_json_427ff17f8edbcfb0591e2304bbabf35d.bindPopup(popup_063f25dc7f9a6a00fe0fa92100f31301)\n",
       "        ;\n",
       "\n",
       "        \n",
       "    \n",
       "    \n",
       "        function geo_json_acaf8645e7c542ddbf14d8da02afecf4_styler(feature) {\n",
       "            switch(feature.id) {\n",
       "                default:\n",
       "                    return {&quot;fillColor&quot;: &quot;#fec661ff&quot;, &quot;fillOpacity&quot;: 0.7, &quot;weight&quot;: 0};\n",
       "            }\n",
       "        }\n",
       "\n",
       "        function geo_json_acaf8645e7c542ddbf14d8da02afecf4_onEachFeature(feature, layer) {\n",
       "            layer.on({\n",
       "            });\n",
       "        };\n",
       "        var geo_json_acaf8645e7c542ddbf14d8da02afecf4 = L.geoJson(null, {\n",
       "                onEachFeature: geo_json_acaf8645e7c542ddbf14d8da02afecf4_onEachFeature,\n",
       "            \n",
       "                style: geo_json_acaf8645e7c542ddbf14d8da02afecf4_styler,\n",
       "        });\n",
       "\n",
       "        function geo_json_acaf8645e7c542ddbf14d8da02afecf4_add (data) {\n",
       "            geo_json_acaf8645e7c542ddbf14d8da02afecf4\n",
       "                .addData(data)\n",
       "                .addTo(map_17cf8e4bad50bc413478c9236257baf3);\n",
       "        }\n",
       "            geo_json_acaf8645e7c542ddbf14d8da02afecf4_add({&quot;features&quot;: [{&quot;geometry&quot;: {&quot;coordinates&quot;: [[[-58.7879208421877, -27.4767828493686], [-58.7886644280246, -27.4766422786233], [-58.7895134193962, -27.476512629103], [-58.7898736046861, -27.4764551288808], [-58.7900189476873, -27.4764319259435], [-58.7906300287739, -27.4763343695796], [-58.7912658249321, -27.4762328645142], [-58.792406593258, -27.4760779736315], [-58.7936640346372, -27.4758499615461], [-58.7930457565475, -27.4730378885386], [-58.7927439391876, -27.4714260418781], [-58.7919496630967, -27.4671888587796], [-58.7919486817953, -27.467188611568], [-58.7901504617714, -27.4667436783042], [-58.7899695080243, -27.4667072962399], [-58.7898164455109, -27.4666772690614], [-58.7870814320386, -27.4659934988294], [-58.7864156000004, -27.4658211760977], [-58.7864005638453, -27.4659939714156], [-58.7855403953559, -27.4738704428934], [-58.7854380835966, -27.4748097995413], [-58.7853414442762, -27.4759508548492], [-58.7851627833197, -27.4776187650973], [-58.7859366697703, -27.4772902157881], [-58.7879208421877, -27.4767828493686]]], &quot;type&quot;: &quot;Polygon&quot;}, &quot;id&quot;: &quot;0&quot;, &quot;type&quot;: &quot;Feature&quot;}], &quot;type&quot;: &quot;FeatureCollection&quot;});\n",
       "\n",
       "        \n",
       "    \n",
       "        var popup_38a51eeac8d3480d2b8ea6cc89c5df1b = L.popup({&quot;maxWidth&quot;: &quot;100%&quot;});\n",
       "\n",
       "        \n",
       "            \n",
       "                var html_1ddbe7661073eb7e83987b100a933519 = $(`&lt;div id=&quot;html_1ddbe7661073eb7e83987b100a933519&quot; style=&quot;width: 100.0%; height: 100.0%;&quot;&gt;SAN GERONIMO: 3270.0&lt;/div&gt;`)[0];\n",
       "                popup_38a51eeac8d3480d2b8ea6cc89c5df1b.setContent(html_1ddbe7661073eb7e83987b100a933519);\n",
       "            \n",
       "        \n",
       "\n",
       "        geo_json_acaf8645e7c542ddbf14d8da02afecf4.bindPopup(popup_38a51eeac8d3480d2b8ea6cc89c5df1b)\n",
       "        ;\n",
       "\n",
       "        \n",
       "    \n",
       "    \n",
       "        function geo_json_05b30db34df08eede8f5801ab1468347_styler(feature) {\n",
       "            switch(feature.id) {\n",
       "                default:\n",
       "                    return {&quot;fillColor&quot;: &quot;#ffefa4ff&quot;, &quot;fillOpacity&quot;: 0.7, &quot;weight&quot;: 0};\n",
       "            }\n",
       "        }\n",
       "\n",
       "        function geo_json_05b30db34df08eede8f5801ab1468347_onEachFeature(feature, layer) {\n",
       "            layer.on({\n",
       "            });\n",
       "        };\n",
       "        var geo_json_05b30db34df08eede8f5801ab1468347 = L.geoJson(null, {\n",
       "                onEachFeature: geo_json_05b30db34df08eede8f5801ab1468347_onEachFeature,\n",
       "            \n",
       "                style: geo_json_05b30db34df08eede8f5801ab1468347_styler,\n",
       "        });\n",
       "\n",
       "        function geo_json_05b30db34df08eede8f5801ab1468347_add (data) {\n",
       "            geo_json_05b30db34df08eede8f5801ab1468347\n",
       "                .addData(data)\n",
       "                .addTo(map_17cf8e4bad50bc413478c9236257baf3);\n",
       "        }\n",
       "            geo_json_05b30db34df08eede8f5801ab1468347_add({&quot;features&quot;: [{&quot;geometry&quot;: {&quot;coordinates&quot;: [[[-58.8228161405977, -27.4893604878608], [-58.8236679416696, -27.4893058779013], [-58.8242986153183, -27.4892629107254], [-58.8249138209643, -27.4892432060351], [-58.8250921308152, -27.4892380422506], [-58.8256826609376, -27.489176675519], [-58.8255704858095, -27.4884456526651], [-58.8249886408479, -27.4840988563657], [-58.8208056946008, -27.4894291664745], [-58.8207328102849, -27.4895227695806], [-58.8220042344583, -27.4894486184272], [-58.8228161405977, -27.4893604878608]]], &quot;type&quot;: &quot;Polygon&quot;}, &quot;id&quot;: &quot;0&quot;, &quot;type&quot;: &quot;Feature&quot;}], &quot;type&quot;: &quot;FeatureCollection&quot;});\n",
       "\n",
       "        \n",
       "    \n",
       "        var popup_e8c9acaf1ae95269fe3becaa64c826fb = L.popup({&quot;maxWidth&quot;: &quot;100%&quot;});\n",
       "\n",
       "        \n",
       "            \n",
       "                var html_91f8450d66c9dbfb636d558034d63d17 = $(`&lt;div id=&quot;html_91f8450d66c9dbfb636d558034d63d17&quot; style=&quot;width: 100.0%; height: 100.0%;&quot;&gt;SAN MARCOS: 1262.0&lt;/div&gt;`)[0];\n",
       "                popup_e8c9acaf1ae95269fe3becaa64c826fb.setContent(html_91f8450d66c9dbfb636d558034d63d17);\n",
       "            \n",
       "        \n",
       "\n",
       "        geo_json_05b30db34df08eede8f5801ab1468347.bindPopup(popup_e8c9acaf1ae95269fe3becaa64c826fb)\n",
       "        ;\n",
       "\n",
       "        \n",
       "    \n",
       "    \n",
       "        function geo_json_86a609f95bbfd53dd1940be162d44e30_styler(feature) {\n",
       "            switch(feature.id) {\n",
       "                default:\n",
       "                    return {&quot;fillColor&quot;: &quot;#ffffccff&quot;, &quot;fillOpacity&quot;: 0.7, &quot;weight&quot;: 0};\n",
       "            }\n",
       "        }\n",
       "\n",
       "        function geo_json_86a609f95bbfd53dd1940be162d44e30_onEachFeature(feature, layer) {\n",
       "            layer.on({\n",
       "            });\n",
       "        };\n",
       "        var geo_json_86a609f95bbfd53dd1940be162d44e30 = L.geoJson(null, {\n",
       "                onEachFeature: geo_json_86a609f95bbfd53dd1940be162d44e30_onEachFeature,\n",
       "            \n",
       "                style: geo_json_86a609f95bbfd53dd1940be162d44e30_styler,\n",
       "        });\n",
       "\n",
       "        function geo_json_86a609f95bbfd53dd1940be162d44e30_add (data) {\n",
       "            geo_json_86a609f95bbfd53dd1940be162d44e30\n",
       "                .addData(data)\n",
       "                .addTo(map_17cf8e4bad50bc413478c9236257baf3);\n",
       "        }\n",
       "            geo_json_86a609f95bbfd53dd1940be162d44e30_add({&quot;features&quot;: [{&quot;geometry&quot;: {&quot;coordinates&quot;: [[[-58.7550832284591, -27.5383812877961], [-58.755740645271, -27.5381550580563], [-58.7562362044132, -27.5379686406907], [-58.757845975332, -27.537357480879], [-58.7586593570471, -27.5371458727463], [-58.7599442688942, -27.537045586583], [-58.761103509425, -27.5369550985634], [-58.7627041875462, -27.5367486116165], [-58.7633921998463, -27.5366242943269], [-58.7641825153522, -27.5364105787908], [-58.7653015752653, -27.535989068839], [-58.7674355470682, -27.5353005127472], [-58.7675428370685, -27.5352576027472], [-58.7676345283573, -27.5351928801365], [-58.7679076170694, -27.5350001127473], [-58.769774437074, -27.5333478727475], [-58.7708525315912, -27.53230970391], [-58.7709331470769, -27.5322320727477], [-58.7710618970773, -27.5320818627477], [-58.7711761136351, -27.5319519007104], [-58.771249635686, -27.5318668260776], [-58.771094556394, -27.5317912972401], [-58.7683210512046, -27.5304732784327], [-58.7680246680209, -27.5303324268271], [-58.7672734737519, -27.5299732258848], [-58.7669729135185, -27.5298864302097], [-58.7667256175138, -27.5298054823932], [-58.7662769196046, -27.5296777445975], [-58.7659704845365, -27.5296187719085], [-58.765718397145, -27.5295902827094], [-58.7654326172768, -27.5295652440847], [-58.765163537197, -27.5295516038216], [-58.7649236919989, -27.529556973785], [-58.7646542766421, -27.5295733312147], [-58.7644016865878, -27.5295898376515], [-58.7641531350486, -27.5296213803518], [-58.7639297794869, -27.529656896821], [-58.7636640246943, -27.5297220375445], [-58.7634445813823, -27.5297838394555], [-58.7631827385527, -27.5298752654758], [-58.7629248077675, -27.5299929772376], [-58.7626667084731, -27.5301256878258], [-58.7624085665691, -27.5302621477427], [-58.7620230565742, -27.5305024787896], [-58.7616966125244, -27.5307461612026], [-58.7613231133764, -27.5310434647955], [-58.7613152596526, -27.5310527921782], [-58.7612790020992, -27.5310958530076], [-58.7574364932922, -27.5354751030693], [-58.756261527061, -27.5368509600275], [-58.7550832284591, -27.5383812877961]]], &quot;type&quot;: &quot;Polygon&quot;}, &quot;id&quot;: &quot;0&quot;, &quot;type&quot;: &quot;Feature&quot;}], &quot;type&quot;: &quot;FeatureCollection&quot;});\n",
       "\n",
       "        \n",
       "    \n",
       "        var popup_effcc47e4edbfb70d332c1f5ba0665c0 = L.popup({&quot;maxWidth&quot;: &quot;100%&quot;});\n",
       "\n",
       "        \n",
       "            \n",
       "                var html_debe2d322e23e554c8a6fc413e3ec318 = $(`&lt;div id=&quot;html_debe2d322e23e554c8a6fc413e3ec318&quot; style=&quot;width: 100.0%; height: 100.0%;&quot;&gt;SANTA MARGARITA: 81.0&lt;/div&gt;`)[0];\n",
       "                popup_effcc47e4edbfb70d332c1f5ba0665c0.setContent(html_debe2d322e23e554c8a6fc413e3ec318);\n",
       "            \n",
       "        \n",
       "\n",
       "        geo_json_86a609f95bbfd53dd1940be162d44e30.bindPopup(popup_effcc47e4edbfb70d332c1f5ba0665c0)\n",
       "        ;\n",
       "\n",
       "        \n",
       "    \n",
       "    \n",
       "        function geo_json_3d1304fe60c98140029ce2042ad8a11a_styler(feature) {\n",
       "            switch(feature.id) {\n",
       "                default:\n",
       "                    return {&quot;fillColor&quot;: &quot;#fea245ff&quot;, &quot;fillOpacity&quot;: 0.7, &quot;weight&quot;: 0};\n",
       "            }\n",
       "        }\n",
       "\n",
       "        function geo_json_3d1304fe60c98140029ce2042ad8a11a_onEachFeature(feature, layer) {\n",
       "            layer.on({\n",
       "            });\n",
       "        };\n",
       "        var geo_json_3d1304fe60c98140029ce2042ad8a11a = L.geoJson(null, {\n",
       "                onEachFeature: geo_json_3d1304fe60c98140029ce2042ad8a11a_onEachFeature,\n",
       "            \n",
       "                style: geo_json_3d1304fe60c98140029ce2042ad8a11a_styler,\n",
       "        });\n",
       "\n",
       "        function geo_json_3d1304fe60c98140029ce2042ad8a11a_add (data) {\n",
       "            geo_json_3d1304fe60c98140029ce2042ad8a11a\n",
       "                .addData(data)\n",
       "                .addTo(map_17cf8e4bad50bc413478c9236257baf3);\n",
       "        }\n",
       "            geo_json_3d1304fe60c98140029ce2042ad8a11a_add({&quot;features&quot;: [{&quot;geometry&quot;: {&quot;coordinates&quot;: [[[-58.7620038184015, -27.4822011046832], [-58.761761888369, -27.4822536252278], [-58.7609081227674, -27.4824518224329], [-58.7606800012758, -27.4824905272976], [-58.7597902617118, -27.4826671326981], [-58.7599129561812, -27.4833525481568], [-58.7600746840212, -27.4843558335586], [-58.7602449690631, -27.4852492477812], [-58.760424634939, -27.4863203249187], [-58.760599199914, -27.4873645405138], [-58.760814003623, -27.4888660866279], [-58.7608221606053, -27.4889375945846], [-58.7608591818814, -27.4889258290919], [-58.7636221731499, -27.4880477053514], [-58.7635704061598, -27.4878311383398], [-58.7634121641592, -27.4870063445353], [-58.7633367206796, -27.4865914695312], [-58.7633339673259, -27.4865752466033], [-58.7632253359828, -27.4859351696405], [-58.7630485579038, -27.4848778516937], [-58.7628974907239, -27.4839789274147], [-58.7627859423473, -27.4833133038793], [-58.7627269627257, -27.4829613620106], [-58.7625864572798, -27.4821229330311], [-58.7620038184015, -27.4822011046832]]], &quot;type&quot;: &quot;Polygon&quot;}, &quot;id&quot;: &quot;0&quot;, &quot;type&quot;: &quot;Feature&quot;}], &quot;type&quot;: &quot;FeatureCollection&quot;});\n",
       "\n",
       "        \n",
       "    \n",
       "        var popup_16aa4f84649983236cc18dd6b71193d7 = L.popup({&quot;maxWidth&quot;: &quot;100%&quot;});\n",
       "\n",
       "        \n",
       "            \n",
       "                var html_8fa15c347f90e2367b59aa7d6b1b382e = $(`&lt;div id=&quot;html_8fa15c347f90e2367b59aa7d6b1b382e&quot; style=&quot;width: 100.0%; height: 100.0%;&quot;&gt;SANTA RITA NORTE: 4479.0&lt;/div&gt;`)[0];\n",
       "                popup_16aa4f84649983236cc18dd6b71193d7.setContent(html_8fa15c347f90e2367b59aa7d6b1b382e);\n",
       "            \n",
       "        \n",
       "\n",
       "        geo_json_3d1304fe60c98140029ce2042ad8a11a.bindPopup(popup_16aa4f84649983236cc18dd6b71193d7)\n",
       "        ;\n",
       "\n",
       "        \n",
       "    \n",
       "    \n",
       "        function geo_json_41145eadf0a38f6c909019805606a819_styler(feature) {\n",
       "            switch(feature.id) {\n",
       "                default:\n",
       "                    return {&quot;fillColor&quot;: &quot;#cd0b21ff&quot;, &quot;fillOpacity&quot;: 0.7, &quot;weight&quot;: 0};\n",
       "            }\n",
       "        }\n",
       "\n",
       "        function geo_json_41145eadf0a38f6c909019805606a819_onEachFeature(feature, layer) {\n",
       "            layer.on({\n",
       "            });\n",
       "        };\n",
       "        var geo_json_41145eadf0a38f6c909019805606a819 = L.geoJson(null, {\n",
       "                onEachFeature: geo_json_41145eadf0a38f6c909019805606a819_onEachFeature,\n",
       "            \n",
       "                style: geo_json_41145eadf0a38f6c909019805606a819_styler,\n",
       "        });\n",
       "\n",
       "        function geo_json_41145eadf0a38f6c909019805606a819_add (data) {\n",
       "            geo_json_41145eadf0a38f6c909019805606a819\n",
       "                .addData(data)\n",
       "                .addTo(map_17cf8e4bad50bc413478c9236257baf3);\n",
       "        }\n",
       "            geo_json_41145eadf0a38f6c909019805606a819_add({&quot;features&quot;: [{&quot;geometry&quot;: {&quot;coordinates&quot;: [[[-58.7899136723327, -27.4666130128083], [-58.7866237105298, -27.4615035798907], [-58.7809621104476, -27.460982800567], [-58.780799579246, -27.4609702454531], [-58.7791305763015, -27.4608651805205], [-58.7789566374481, -27.4608541005879], [-58.7788596481836, -27.4614743235403], [-58.778681065126, -27.4622084904665], [-58.7785126692406, -27.462949514495], [-58.7782250613619, -27.4638025601703], [-58.7828231149906, -27.4649470301557], [-58.7839516563481, -27.4652178445562], [-58.7864156000004, -27.4658211760977], [-58.7870814320386, -27.4659934988294], [-58.7898164455109, -27.4666772690614], [-58.7899695080243, -27.4667072962399], [-58.7899136723327, -27.4666130128083]]], &quot;type&quot;: &quot;Polygon&quot;}, &quot;id&quot;: &quot;0&quot;, &quot;type&quot;: &quot;Feature&quot;}], &quot;type&quot;: &quot;FeatureCollection&quot;});\n",
       "\n",
       "        \n",
       "    \n",
       "        var popup_d148ca607dc186344586435fbe4e2e01 = L.popup({&quot;maxWidth&quot;: &quot;100%&quot;});\n",
       "\n",
       "        \n",
       "            \n",
       "                var html_32ffff3b5208dba4a19f522f49237449 = $(`&lt;div id=&quot;html_32ffff3b5208dba4a19f522f49237449&quot; style=&quot;width: 100.0%; height: 100.0%;&quot;&gt;VICTOR COLAS: 8502.0&lt;/div&gt;`)[0];\n",
       "                popup_d148ca607dc186344586435fbe4e2e01.setContent(html_32ffff3b5208dba4a19f522f49237449);\n",
       "            \n",
       "        \n",
       "\n",
       "        geo_json_41145eadf0a38f6c909019805606a819.bindPopup(popup_d148ca607dc186344586435fbe4e2e01)\n",
       "        ;\n",
       "\n",
       "        \n",
       "    \n",
       "    \n",
       "        function geo_json_208212ca7f818ee1757ccf29e21bd1b9_styler(feature) {\n",
       "            switch(feature.id) {\n",
       "                default:\n",
       "                    return {&quot;fillColor&quot;: &quot;#fec15cff&quot;, &quot;fillOpacity&quot;: 0.7, &quot;weight&quot;: 0};\n",
       "            }\n",
       "        }\n",
       "\n",
       "        function geo_json_208212ca7f818ee1757ccf29e21bd1b9_onEachFeature(feature, layer) {\n",
       "            layer.on({\n",
       "            });\n",
       "        };\n",
       "        var geo_json_208212ca7f818ee1757ccf29e21bd1b9 = L.geoJson(null, {\n",
       "                onEachFeature: geo_json_208212ca7f818ee1757ccf29e21bd1b9_onEachFeature,\n",
       "            \n",
       "                style: geo_json_208212ca7f818ee1757ccf29e21bd1b9_styler,\n",
       "        });\n",
       "\n",
       "        function geo_json_208212ca7f818ee1757ccf29e21bd1b9_add (data) {\n",
       "            geo_json_208212ca7f818ee1757ccf29e21bd1b9\n",
       "                .addData(data)\n",
       "                .addTo(map_17cf8e4bad50bc413478c9236257baf3);\n",
       "        }\n",
       "            geo_json_208212ca7f818ee1757ccf29e21bd1b9_add({&quot;features&quot;: [{&quot;geometry&quot;: {&quot;coordinates&quot;: [[[-58.8125636476571, -27.493838585072], [-58.8122209800355, -27.4938863614492], [-58.8123621030597, -27.4951093659765], [-58.8125291955409, -27.4962219561482], [-58.8085056218645, -27.4966744455138], [-58.8092788883052, -27.4993622133371], [-58.8117817484012, -27.4988999588273], [-58.8122092449224, -27.498988062593], [-58.8146579785989, -27.4988973461961], [-58.8149350897147, -27.4984995571968], [-58.8158599735119, -27.4972024209318], [-58.8172470086216, -27.4978114265537], [-58.8200366049722, -27.4989991973936], [-58.8197084902213, -27.4974923421453], [-58.8196664917116, -27.4972485412772], [-58.8193046977025, -27.4959428429051], [-58.8189336690575, -27.4944939715247], [-58.8186879659065, -27.4929846330544], [-58.81790563885, -27.494200646548], [-58.8175213491005, -27.4948424384323], [-58.8155554720516, -27.4941946372782], [-58.8161517793524, -27.4934011347985], [-58.8125636476571, -27.493838585072]]], &quot;type&quot;: &quot;Polygon&quot;}, &quot;id&quot;: &quot;0&quot;, &quot;type&quot;: &quot;Feature&quot;}], &quot;type&quot;: &quot;FeatureCollection&quot;});\n",
       "\n",
       "        \n",
       "    \n",
       "        var popup_9327a55f9158784f01e432a7a6d17f38 = L.popup({&quot;maxWidth&quot;: &quot;100%&quot;});\n",
       "\n",
       "        \n",
       "            \n",
       "                var html_3c99d8860df3cea747d9cbb19be834e7 = $(`&lt;div id=&quot;html_3c99d8860df3cea747d9cbb19be834e7&quot; style=&quot;width: 100.0%; height: 100.0%;&quot;&gt;VILLA ONGAY: 3426.0&lt;/div&gt;`)[0];\n",
       "                popup_9327a55f9158784f01e432a7a6d17f38.setContent(html_3c99d8860df3cea747d9cbb19be834e7);\n",
       "            \n",
       "        \n",
       "\n",
       "        geo_json_208212ca7f818ee1757ccf29e21bd1b9.bindPopup(popup_9327a55f9158784f01e432a7a6d17f38)\n",
       "        ;\n",
       "\n",
       "        \n",
       "    \n",
       "    \n",
       "        function geo_json_c7da94e4abc697a8676800ca4db3b80a_styler(feature) {\n",
       "            switch(feature.id) {\n",
       "                default:\n",
       "                    return {&quot;fillColor&quot;: &quot;#fffec9ff&quot;, &quot;fillOpacity&quot;: 0.7, &quot;weight&quot;: 0};\n",
       "            }\n",
       "        }\n",
       "\n",
       "        function geo_json_c7da94e4abc697a8676800ca4db3b80a_onEachFeature(feature, layer) {\n",
       "            layer.on({\n",
       "            });\n",
       "        };\n",
       "        var geo_json_c7da94e4abc697a8676800ca4db3b80a = L.geoJson(null, {\n",
       "                onEachFeature: geo_json_c7da94e4abc697a8676800ca4db3b80a_onEachFeature,\n",
       "            \n",
       "                style: geo_json_c7da94e4abc697a8676800ca4db3b80a_styler,\n",
       "        });\n",
       "\n",
       "        function geo_json_c7da94e4abc697a8676800ca4db3b80a_add (data) {\n",
       "            geo_json_c7da94e4abc697a8676800ca4db3b80a\n",
       "                .addData(data)\n",
       "                .addTo(map_17cf8e4bad50bc413478c9236257baf3);\n",
       "        }\n",
       "            geo_json_c7da94e4abc697a8676800ca4db3b80a_add({&quot;features&quot;: [{&quot;geometry&quot;: {&quot;coordinates&quot;: [[[-58.850681763509, -27.4916496868954], [-58.8411173524577, -27.4933922703015], [-58.8409898475512, -27.4934008785534], [-58.8409009003112, -27.4933592050766], [-58.8409107582507, -27.493500888459], [-58.8409567293002, -27.4939847385461], [-58.8411849011826, -27.4960236739541], [-58.8415817957919, -27.4994982311446], [-58.8415928984223, -27.4998130453999], [-58.8416037087884, -27.5000203807078], [-58.8414972527644, -27.5003482796755], [-58.8415370325001, -27.5006919014635], [-58.8415932778702, -27.500757643331], [-58.8421414975115, -27.501179609723], [-58.8422091147114, -27.5012366071519], [-58.842249398872, -27.5012732054678], [-58.8422690271911, -27.5013906232017], [-58.8422462365589, -27.5015753715553], [-58.8421479894244, -27.5018960866536], [-58.8419921794737, -27.5022767610166], [-58.8421404206006, -27.5023601911389], [-58.8424876833973, -27.502536467804], [-58.8428366375774, -27.5027107601996], [-58.8430894975287, -27.5028842526826], [-58.8433083664526, -27.5030917400281], [-58.8433585986738, -27.5031706529593], [-58.8434454652407, -27.5033071167702], [-58.8435205053376, -27.50348341487], [-58.8435278095882, -27.5034798428092], [-58.8435708034779, -27.503670754707], [-58.843610438057, -27.5039013888673], [-58.843625992683, -27.5041371787832], [-58.8435882208479, -27.5043028984308], [-58.8435372609578, -27.5045809828118], [-58.843450600365, -27.5048266348295], [-58.8438251290619, -27.505012512662], [-58.8439206893292, -27.5048826429721], [-58.8440420341512, -27.5046135483644], [-58.8440832594717, -27.5044494804127], [-58.8441635010651, -27.5043327110345], [-58.8442438651806, -27.5042041990145], [-58.8444176391983, -27.5039590267879], [-58.8444844657145, -27.5038656329874], [-58.8446054400131, -27.5036317655454], [-58.844778108595, -27.503492276122], [-58.8448334823283, -27.5032343764865], [-58.8449479539044, -27.5029613131791], [-58.8451318773004, -27.5025922998541], [-58.8453249397176, -27.5022910805603], [-58.8458393629982, -27.5017419513617], [-58.8464347456952, -27.5013504613563], [-58.8473923462484, -27.5007207859503], [-58.8477836222782, -27.5004634962368], [-58.8477792663829, -27.5003812701987], [-58.8481234250472, -27.5000339892073], [-58.8496612236562, -27.4987827877846], [-58.8509085631552, -27.4979249443892], [-58.8513555991293, -27.497615845997], [-58.8526519533543, -27.4968748434076], [-58.8538443749229, -27.4956690933387], [-58.8538608686464, -27.4955618792543], [-58.8537762319993, -27.4954398962678], [-58.8539610404887, -27.4941838757936], [-58.8538307306227, -27.4936338244481], [-58.8539767914071, -27.4933541548876], [-58.8541142398251, -27.4932148505042], [-58.8541346160297, -27.4931158869838], [-58.854080632977, -27.4930039193514], [-58.853945498346, -27.4929198214223], [-58.8540056011021, -27.4926458273021], [-58.8544067029147, -27.491794391441], [-58.8544818755126, -27.4915837094498], [-58.854468881884, -27.4914559331124], [-58.8543203941427, -27.491252665579], [-58.8542978232692, -27.4911109963932], [-58.8514623039035, -27.4915102821906], [-58.850681763509, -27.4916496868954]]], &quot;type&quot;: &quot;Polygon&quot;}, &quot;id&quot;: &quot;0&quot;, &quot;type&quot;: &quot;Feature&quot;}], &quot;type&quot;: &quot;FeatureCollection&quot;});\n",
       "\n",
       "        \n",
       "    \n",
       "        var popup_043fceb37b0672da3d0128862accb8af = L.popup({&quot;maxWidth&quot;: &quot;100%&quot;});\n",
       "\n",
       "        \n",
       "            \n",
       "                var html_6f9b1933efed12699e0d2ba602cafa1c = $(`&lt;div id=&quot;html_6f9b1933efed12699e0d2ba602cafa1c&quot; style=&quot;width: 100.0%; height: 100.0%;&quot;&gt;VILLA PATONO: 186.0&lt;/div&gt;`)[0];\n",
       "                popup_043fceb37b0672da3d0128862accb8af.setContent(html_6f9b1933efed12699e0d2ba602cafa1c);\n",
       "            \n",
       "        \n",
       "\n",
       "        geo_json_c7da94e4abc697a8676800ca4db3b80a.bindPopup(popup_043fceb37b0672da3d0128862accb8af)\n",
       "        ;\n",
       "\n",
       "        \n",
       "    \n",
       "    \n",
       "        function geo_json_cb2c97a15242a999afabc892b98daf17_styler(feature) {\n",
       "            switch(feature.id) {\n",
       "                default:\n",
       "                    return {&quot;fillColor&quot;: &quot;#fed06cff&quot;, &quot;fillOpacity&quot;: 0.7, &quot;weight&quot;: 0};\n",
       "            }\n",
       "        }\n",
       "\n",
       "        function geo_json_cb2c97a15242a999afabc892b98daf17_onEachFeature(feature, layer) {\n",
       "            layer.on({\n",
       "            });\n",
       "        };\n",
       "        var geo_json_cb2c97a15242a999afabc892b98daf17 = L.geoJson(null, {\n",
       "                onEachFeature: geo_json_cb2c97a15242a999afabc892b98daf17_onEachFeature,\n",
       "            \n",
       "                style: geo_json_cb2c97a15242a999afabc892b98daf17_styler,\n",
       "        });\n",
       "\n",
       "        function geo_json_cb2c97a15242a999afabc892b98daf17_add (data) {\n",
       "            geo_json_cb2c97a15242a999afabc892b98daf17\n",
       "                .addData(data)\n",
       "                .addTo(map_17cf8e4bad50bc413478c9236257baf3);\n",
       "        }\n",
       "            geo_json_cb2c97a15242a999afabc892b98daf17_add({&quot;features&quot;: [{&quot;geometry&quot;: {&quot;coordinates&quot;: [[[-58.8514623039035, -27.4915102821906], [-58.8542978232692, -27.4911109963932], [-58.8545321350108, -27.4909089831059], [-58.8548269312612, -27.4906548210806], [-58.854786428468, -27.4905137931259], [-58.8548818523404, -27.49028477341], [-58.8556444008464, -27.4892250060358], [-58.8557105985704, -27.4890531965818], [-58.8558272271858, -27.4888498843395], [-58.855929342839, -27.4886656031009], [-58.8560528640427, -27.4884878811956], [-58.8562365818244, -27.4881522554595], [-58.8564199554043, -27.4877381318269], [-58.8553079726967, -27.4880073836016], [-58.8540708221987, -27.488367087765], [-58.852637823364, -27.4887904400628], [-58.8521347271641, -27.4886823369421], [-58.8516857940131, -27.4885795140293], [-58.8514623039035, -27.4915102821906]]], &quot;type&quot;: &quot;Polygon&quot;}, &quot;id&quot;: &quot;0&quot;, &quot;type&quot;: &quot;Feature&quot;}], &quot;type&quot;: &quot;FeatureCollection&quot;});\n",
       "\n",
       "        \n",
       "    \n",
       "        var popup_00648ecf6e4187fd05b2d1811757eed8 = L.popup({&quot;maxWidth&quot;: &quot;100%&quot;});\n",
       "\n",
       "        \n",
       "            \n",
       "                var html_6ead6b4d602e29157b6bc8dc1b1d38db = $(`&lt;div id=&quot;html_6ead6b4d602e29157b6bc8dc1b1d38db&quot; style=&quot;width: 100.0%; height: 100.0%;&quot;&gt;VIRGEN DE LOS DOLORES: 2957.0&lt;/div&gt;`)[0];\n",
       "                popup_00648ecf6e4187fd05b2d1811757eed8.setContent(html_6ead6b4d602e29157b6bc8dc1b1d38db);\n",
       "            \n",
       "        \n",
       "\n",
       "        geo_json_cb2c97a15242a999afabc892b98daf17.bindPopup(popup_00648ecf6e4187fd05b2d1811757eed8)\n",
       "        ;\n",
       "\n",
       "        \n",
       "    \n",
       "&lt;/script&gt;\n",
       "&lt;/html&gt;\" style=\"position:absolute;width:100%;height:100%;left:0;top:0;border:none !important;\" allowfullscreen webkitallowfullscreen mozallowfullscreen></iframe></div></div>"
      ],
      "text/plain": [
       "<folium.folium.Map at 0x7f0811b023e0>"
      ]
     },
     "execution_count": 100,
     "metadata": {},
     "output_type": "execute_result"
    }
   ],
   "source": []
  },
  {
   "cell_type": "code",
   "execution_count": null,
   "id": "bb156279",
   "metadata": {},
   "outputs": [],
   "source": []
  },
  {
   "cell_type": "code",
   "execution_count": 152,
   "id": "ce85beca",
   "metadata": {},
   "outputs": [
    {
     "ename": "AttributeError",
     "evalue": "Can only use .str accessor with string values!",
     "output_type": "error",
     "traceback": [
      "\u001b[0;31m---------------------------------------------------------------------------\u001b[0m",
      "\u001b[0;31mAttributeError\u001b[0m                            Traceback (most recent call last)",
      "\u001b[0;32m/tmp/ipykernel_137081/2842150784.py\u001b[0m in \u001b[0;36m<module>\u001b[0;34m\u001b[0m\n\u001b[1;32m      6\u001b[0m \u001b[0;34m\u001b[0m\u001b[0m\n\u001b[1;32m      7\u001b[0m \u001b[0;31m# Limpiar y convertir la columna 'sup_ha' a float\u001b[0m\u001b[0;34m\u001b[0m\u001b[0;34m\u001b[0m\u001b[0m\n\u001b[0;32m----> 8\u001b[0;31m \u001b[0mdf\u001b[0m\u001b[0;34m[\u001b[0m\u001b[0;34m'sup_ha'\u001b[0m\u001b[0;34m]\u001b[0m \u001b[0;34m=\u001b[0m \u001b[0mdf\u001b[0m\u001b[0;34m[\u001b[0m\u001b[0;34m'sup_ha'\u001b[0m\u001b[0;34m]\u001b[0m\u001b[0;34m.\u001b[0m\u001b[0mstr\u001b[0m\u001b[0;34m.\u001b[0m\u001b[0mreplace\u001b[0m\u001b[0;34m(\u001b[0m\u001b[0;34m','\u001b[0m\u001b[0;34m,\u001b[0m \u001b[0;34m'.'\u001b[0m\u001b[0;34m)\u001b[0m\u001b[0;34m.\u001b[0m\u001b[0mastype\u001b[0m\u001b[0;34m(\u001b[0m\u001b[0mfloat\u001b[0m\u001b[0;34m)\u001b[0m\u001b[0;34m\u001b[0m\u001b[0;34m\u001b[0m\u001b[0m\n\u001b[0m\u001b[1;32m      9\u001b[0m \u001b[0;34m\u001b[0m\u001b[0m\n\u001b[1;32m     10\u001b[0m \u001b[0;31m# Agregar una columna adicional para la población de cada barrio (esto es un ejemplo, debes tener tus datos reales)\u001b[0m\u001b[0;34m\u001b[0m\u001b[0;34m\u001b[0m\u001b[0m\n",
      "\u001b[0;32m~/.local/lib/python3.10/site-packages/pandas/core/generic.py\u001b[0m in \u001b[0;36m__getattr__\u001b[0;34m(self, name)\u001b[0m\n\u001b[1;32m   5900\u001b[0m         ):\n\u001b[1;32m   5901\u001b[0m             \u001b[0;32mreturn\u001b[0m \u001b[0mself\u001b[0m\u001b[0;34m[\u001b[0m\u001b[0mname\u001b[0m\u001b[0;34m]\u001b[0m\u001b[0;34m\u001b[0m\u001b[0;34m\u001b[0m\u001b[0m\n\u001b[0;32m-> 5902\u001b[0;31m         \u001b[0;32mreturn\u001b[0m \u001b[0mobject\u001b[0m\u001b[0;34m.\u001b[0m\u001b[0m__getattribute__\u001b[0m\u001b[0;34m(\u001b[0m\u001b[0mself\u001b[0m\u001b[0;34m,\u001b[0m \u001b[0mname\u001b[0m\u001b[0;34m)\u001b[0m\u001b[0;34m\u001b[0m\u001b[0;34m\u001b[0m\u001b[0m\n\u001b[0m\u001b[1;32m   5903\u001b[0m \u001b[0;34m\u001b[0m\u001b[0m\n\u001b[1;32m   5904\u001b[0m     \u001b[0;32mdef\u001b[0m \u001b[0m__setattr__\u001b[0m\u001b[0;34m(\u001b[0m\u001b[0mself\u001b[0m\u001b[0;34m,\u001b[0m \u001b[0mname\u001b[0m\u001b[0;34m:\u001b[0m \u001b[0mstr\u001b[0m\u001b[0;34m,\u001b[0m \u001b[0mvalue\u001b[0m\u001b[0;34m)\u001b[0m \u001b[0;34m->\u001b[0m \u001b[0;32mNone\u001b[0m\u001b[0;34m:\u001b[0m\u001b[0;34m\u001b[0m\u001b[0;34m\u001b[0m\u001b[0m\n",
      "\u001b[0;32m~/.local/lib/python3.10/site-packages/pandas/core/accessor.py\u001b[0m in \u001b[0;36m__get__\u001b[0;34m(self, obj, cls)\u001b[0m\n\u001b[1;32m    180\u001b[0m             \u001b[0;31m# we're accessing the attribute of the class, i.e., Dataset.geo\u001b[0m\u001b[0;34m\u001b[0m\u001b[0;34m\u001b[0m\u001b[0m\n\u001b[1;32m    181\u001b[0m             \u001b[0;32mreturn\u001b[0m \u001b[0mself\u001b[0m\u001b[0;34m.\u001b[0m\u001b[0m_accessor\u001b[0m\u001b[0;34m\u001b[0m\u001b[0;34m\u001b[0m\u001b[0m\n\u001b[0;32m--> 182\u001b[0;31m         \u001b[0maccessor_obj\u001b[0m \u001b[0;34m=\u001b[0m \u001b[0mself\u001b[0m\u001b[0;34m.\u001b[0m\u001b[0m_accessor\u001b[0m\u001b[0;34m(\u001b[0m\u001b[0mobj\u001b[0m\u001b[0;34m)\u001b[0m\u001b[0;34m\u001b[0m\u001b[0;34m\u001b[0m\u001b[0m\n\u001b[0m\u001b[1;32m    183\u001b[0m         \u001b[0;31m# Replace the property with the accessor object. Inspired by:\u001b[0m\u001b[0;34m\u001b[0m\u001b[0;34m\u001b[0m\u001b[0m\n\u001b[1;32m    184\u001b[0m         \u001b[0;31m# https://www.pydanny.com/cached-property.html\u001b[0m\u001b[0;34m\u001b[0m\u001b[0;34m\u001b[0m\u001b[0m\n",
      "\u001b[0;32m~/.local/lib/python3.10/site-packages/pandas/core/strings/accessor.py\u001b[0m in \u001b[0;36m__init__\u001b[0;34m(self, data)\u001b[0m\n\u001b[1;32m    179\u001b[0m         \u001b[0;32mfrom\u001b[0m \u001b[0mpandas\u001b[0m\u001b[0;34m.\u001b[0m\u001b[0mcore\u001b[0m\u001b[0;34m.\u001b[0m\u001b[0marrays\u001b[0m\u001b[0;34m.\u001b[0m\u001b[0mstring_\u001b[0m \u001b[0;32mimport\u001b[0m \u001b[0mStringDtype\u001b[0m\u001b[0;34m\u001b[0m\u001b[0;34m\u001b[0m\u001b[0m\n\u001b[1;32m    180\u001b[0m \u001b[0;34m\u001b[0m\u001b[0m\n\u001b[0;32m--> 181\u001b[0;31m         \u001b[0mself\u001b[0m\u001b[0;34m.\u001b[0m\u001b[0m_inferred_dtype\u001b[0m \u001b[0;34m=\u001b[0m \u001b[0mself\u001b[0m\u001b[0;34m.\u001b[0m\u001b[0m_validate\u001b[0m\u001b[0;34m(\u001b[0m\u001b[0mdata\u001b[0m\u001b[0;34m)\u001b[0m\u001b[0;34m\u001b[0m\u001b[0;34m\u001b[0m\u001b[0m\n\u001b[0m\u001b[1;32m    182\u001b[0m         \u001b[0mself\u001b[0m\u001b[0;34m.\u001b[0m\u001b[0m_is_categorical\u001b[0m \u001b[0;34m=\u001b[0m \u001b[0mis_categorical_dtype\u001b[0m\u001b[0;34m(\u001b[0m\u001b[0mdata\u001b[0m\u001b[0;34m.\u001b[0m\u001b[0mdtype\u001b[0m\u001b[0;34m)\u001b[0m\u001b[0;34m\u001b[0m\u001b[0;34m\u001b[0m\u001b[0m\n\u001b[1;32m    183\u001b[0m         \u001b[0mself\u001b[0m\u001b[0;34m.\u001b[0m\u001b[0m_is_string\u001b[0m \u001b[0;34m=\u001b[0m \u001b[0misinstance\u001b[0m\u001b[0;34m(\u001b[0m\u001b[0mdata\u001b[0m\u001b[0;34m.\u001b[0m\u001b[0mdtype\u001b[0m\u001b[0;34m,\u001b[0m \u001b[0mStringDtype\u001b[0m\u001b[0;34m)\u001b[0m\u001b[0;34m\u001b[0m\u001b[0;34m\u001b[0m\u001b[0m\n",
      "\u001b[0;32m~/.local/lib/python3.10/site-packages/pandas/core/strings/accessor.py\u001b[0m in \u001b[0;36m_validate\u001b[0;34m(data)\u001b[0m\n\u001b[1;32m    233\u001b[0m \u001b[0;34m\u001b[0m\u001b[0m\n\u001b[1;32m    234\u001b[0m         \u001b[0;32mif\u001b[0m \u001b[0minferred_dtype\u001b[0m \u001b[0;32mnot\u001b[0m \u001b[0;32min\u001b[0m \u001b[0mallowed_types\u001b[0m\u001b[0;34m:\u001b[0m\u001b[0;34m\u001b[0m\u001b[0;34m\u001b[0m\u001b[0m\n\u001b[0;32m--> 235\u001b[0;31m             \u001b[0;32mraise\u001b[0m \u001b[0mAttributeError\u001b[0m\u001b[0;34m(\u001b[0m\u001b[0;34m\"Can only use .str accessor with string values!\"\u001b[0m\u001b[0;34m)\u001b[0m\u001b[0;34m\u001b[0m\u001b[0;34m\u001b[0m\u001b[0m\n\u001b[0m\u001b[1;32m    236\u001b[0m         \u001b[0;32mreturn\u001b[0m \u001b[0minferred_dtype\u001b[0m\u001b[0;34m\u001b[0m\u001b[0;34m\u001b[0m\u001b[0m\n\u001b[1;32m    237\u001b[0m \u001b[0;34m\u001b[0m\u001b[0m\n",
      "\u001b[0;31mAttributeError\u001b[0m: Can only use .str accessor with string values!"
     ]
    }
   ],
   "source": [
    "import pandas as pd\n",
    "import plotly.express as px\n",
    "\n",
    "# Supongamos que tienes tu DataFrame llamado 'df' con los datos\n",
    "# Asegúrate de que tienes una columna llamada 'sup_ha' para la superficie de los barrios y 'consulta_cantidad' para la cantidad de consultas\n",
    "\n",
    "# Limpiar y convertir la columna 'sup_ha' a float\n",
    "df['sup_ha'] = df['sup_ha'].str.replace(',', '.').astype(float)\n",
    "\n",
    "# Agregar una columna adicional para la población de cada barrio (esto es un ejemplo, debes tener tus datos reales)\n",
    "poblacion = [1000, 2000, 1500, ...]  # Reemplaza esto con tus datos reales o ficticios\n",
    "\n",
    "# Asegúrate de que la longitud de la lista de población coincida con la longitud del DataFrame\n",
    "if len(poblacion) == len(df):\n",
    "    df['poblacion'] = poblacion\n",
    "else:\n",
    "    print(\"La longitud de la lista de población no coincide con la longitud del DataFrame.\")\n",
    "\n",
    "# Crear el gráfico de burbujas\n",
    "fig = px.scatter(df, x='sup_ha', y='consulta_cantidad', size='poblacion', color='nombre_barrio_correcto',\n",
    "                 title='Relación entre Superficie, Consultas y Población por Barrio',\n",
    "                 labels={'sup_ha': 'Superficie (ha)', 'consulta_cantidad': 'Cantidad de Consultas'},\n",
    "                 hover_name='nombre_barrio_correcto',  # Mostrar el nombre del barrio al pasar el cursor\n",
    "                 log_x=True, log_y=True,  # Usar escala logarítmica en ambos ejes\n",
    "                )\n",
    "\n",
    "fig.update_xaxes(title_text='Superficie (ha)')\n",
    "fig.update_yaxes(title_text='Cantidad de Consultas')\n",
    "\n",
    "# Ajustar el tamaño de las burbujas para una mejor visualización\n",
    "fig.update_traces(marker=dict(sizemode='diameter'))\n",
    "\n",
    "# Mostrar el gráfico interactivo\n",
    "fig.show()"
   ]
  },
  {
   "cell_type": "code",
   "execution_count": null,
   "id": "ba8fe6cc",
   "metadata": {},
   "outputs": [],
   "source": [
    "# Desde acá\n",
    "\n",
    "\n",
    "# Agrupa por 'barrio_popular' y mes y suma las 'consulta_cantidad'\n",
    "resultado = df.groupby([df['fecha'].dt.to_period('M'), 'barrio_popular'])['consulta_cantidad'].sum().reset_index()\n",
    "\n",
    "# Convertir 'fecha' de nuevo a datetime\n",
    "resultado['fecha'] = resultado['fecha'].dt.to_timestamp()\n",
    "\n",
    "# Crear un gráfico de líneas\n",
    "fig = px.line(\n",
    "    resultado,\n",
    "    x='fecha',\n",
    "    y='consulta_cantidad',\n",
    "    color='barrio_popular',\n",
    "    title='Atenciones en Salas de Atención Primaria por Barrio Popular',\n",
    "    labels={'consulta_cantidad': 'Cantidad de Consultas', 'fecha': 'Fecha'},\n",
    "    # Comentar o eliminar la siguiente línea para tener fondo blanco\n",
    "    # template='plotly_dark'\n",
    ")\n",
    "\n",
    "# Configurando el eje X para que muestre un tick para cada mes\n",
    "fig.update_xaxes(\n",
    "    dtick=\"M1\",  # Cada mes\n",
    "    tickformat=\"%b\\n%Y\"  # Formato \"Mes\\nAño\"\n",
    ")\n",
    "\n",
    "# Actualizar las líneas para que sean suaves\n",
    "fig.update_traces(\n",
    "    line=dict(shape='spline')  # spline para suavizar la línea\n",
    ")\n",
    "\n",
    "# Guardar el gráfico como un archivo HTML\n",
    "fig.write_html(\"atenciones_por_barrio_popular.html\")\n",
    "\n",
    "fig"
   ]
  },
  {
   "cell_type": "code",
   "execution_count": null,
   "id": "89974319",
   "metadata": {},
   "outputs": [],
   "source": [
    "import pandas as pd\n",
    "import plotly.express as px\n",
    "\n",
    "\n",
    "# Agrupa por 'rango_etario_normalizado', 'fecha' y suma las 'consulta_cantidad'\n",
    "resultado = df.groupby([df['fecha'].dt.to_period('M'), 'rango_etario_normalizado'])['consulta_cantidad'].sum().reset_index()\n",
    "\n",
    "# Convertir 'fecha' de nuevo a datetime\n",
    "resultado['fecha'] = resultado['fecha'].dt.to_timestamp()\n",
    "\n",
    "# Crear un gráfico de líneas\n",
    "fig = px.line(\n",
    "    resultado,\n",
    "    x='fecha',\n",
    "    y='consulta_cantidad',\n",
    "    color='rango_etario_normalizado',  # Cambiar aquí para usar 'rango_etario_normalizado' como color\n",
    "    title='Atenciones en Salas de Atención Primaria por Rango Etario',\n",
    "    labels={'consulta_cantidad': 'Cantidad de Consultas', 'fecha': 'Fecha'},\n",
    "    # Comentar o eliminar la siguiente línea para tener fondo blanco\n",
    "    # template='plotly_dark'\n",
    ")\n",
    "\n",
    "# Configurando el eje X para que muestre un tick para cada mes\n",
    "fig.update_xaxes(\n",
    "    dtick=\"M1\",  # Cada mes\n",
    "    tickformat=\"%b\\n%Y\"  # Formato \"Mes\\nAño\"\n",
    ")\n",
    "\n",
    "# Actualizar las líneas para que sean suaves\n",
    "fig.update_traces(\n",
    "    line=dict(shape='spline')  # spline para suavizar la línea\n",
    ")\n",
    "\n",
    "# Mostrar el gráfico\n",
    "fig.show()"
   ]
  },
  {
   "cell_type": "code",
   "execution_count": 1,
   "id": "8035f7b8",
   "metadata": {},
   "outputs": [
    {
     "ename": "NameError",
     "evalue": "name 'df' is not defined",
     "output_type": "error",
     "traceback": [
      "\u001b[0;31m---------------------------------------------------------------------------\u001b[0m",
      "\u001b[0;31mNameError\u001b[0m                                 Traceback (most recent call last)",
      "\u001b[0;32m/tmp/ipykernel_177738/1246608806.py\u001b[0m in \u001b[0;36m<module>\u001b[0;34m\u001b[0m\n\u001b[1;32m      3\u001b[0m \u001b[0;34m\u001b[0m\u001b[0m\n\u001b[1;32m      4\u001b[0m \u001b[0;31m# Agrupa por 'rango_etario_normalizado', 'fecha' y 'barrio_popular', y suma las 'consulta_cantidad'\u001b[0m\u001b[0;34m\u001b[0m\u001b[0;34m\u001b[0m\u001b[0m\n\u001b[0;32m----> 5\u001b[0;31m \u001b[0mresultado\u001b[0m \u001b[0;34m=\u001b[0m \u001b[0mdf\u001b[0m\u001b[0;34m.\u001b[0m\u001b[0mgroupby\u001b[0m\u001b[0;34m(\u001b[0m\u001b[0;34m[\u001b[0m\u001b[0mdf\u001b[0m\u001b[0;34m[\u001b[0m\u001b[0;34m'fecha'\u001b[0m\u001b[0;34m]\u001b[0m\u001b[0;34m.\u001b[0m\u001b[0mdt\u001b[0m\u001b[0;34m.\u001b[0m\u001b[0mto_period\u001b[0m\u001b[0;34m(\u001b[0m\u001b[0;34m'M'\u001b[0m\u001b[0;34m)\u001b[0m\u001b[0;34m,\u001b[0m \u001b[0;34m'rango_etario_normalizado'\u001b[0m\u001b[0;34m,\u001b[0m \u001b[0;34m'barrio_popular'\u001b[0m\u001b[0;34m]\u001b[0m\u001b[0;34m)\u001b[0m\u001b[0;34m[\u001b[0m\u001b[0;34m'consulta_cantidad'\u001b[0m\u001b[0;34m]\u001b[0m\u001b[0;34m.\u001b[0m\u001b[0msum\u001b[0m\u001b[0;34m(\u001b[0m\u001b[0;34m)\u001b[0m\u001b[0;34m.\u001b[0m\u001b[0mreset_index\u001b[0m\u001b[0;34m(\u001b[0m\u001b[0;34m)\u001b[0m\u001b[0;34m\u001b[0m\u001b[0;34m\u001b[0m\u001b[0m\n\u001b[0m\u001b[1;32m      6\u001b[0m \u001b[0;34m\u001b[0m\u001b[0m\n\u001b[1;32m      7\u001b[0m \u001b[0;31m# Convertir 'fecha' de nuevo a datetime\u001b[0m\u001b[0;34m\u001b[0m\u001b[0;34m\u001b[0m\u001b[0m\n",
      "\u001b[0;31mNameError\u001b[0m: name 'df' is not defined"
     ]
    }
   ],
   "source": [
    "import pandas as pd\n",
    "import plotly.express as px\n",
    "\n",
    "# Agrupa por 'rango_etario_normalizado', 'fecha' y 'barrio_popular', y suma las 'consulta_cantidad'\n",
    "resultado = df.groupby([df['fecha'].dt.to_period('M'), 'rango_etario_normalizado', 'barrio_popular'])['consulta_cantidad'].sum().reset_index()\n",
    "\n",
    "# Convertir 'fecha' de nuevo a datetime\n",
    "resultado['fecha'] = resultado['fecha'].dt.to_timestamp()\n",
    "\n",
    "# Crear un gráfico de líneas\n",
    "fig = px.line(\n",
    "    resultado,\n",
    "    x='fecha',\n",
    "    y='consulta_cantidad',\n",
    "    color='rango_etario_normalizado',  # Cambiar aquí para usar 'rango_etario_normalizado' como color\n",
    "    facet_row='barrio_popular',  # Separar los gráficos por filas según 'barrio_popular'\n",
    "    title='Atenciones en Salas de Atención Primaria por Rango Etario',\n",
    "    labels={'consulta_cantidad': 'Cantidad de Consultas', 'fecha': 'Fecha'},\n",
    ")\n",
    "\n",
    "# Configurando el eje X para que muestre un tick para cada mes\n",
    "fig.update_xaxes(\n",
    "    dtick=\"M1\",  # Cada mes\n",
    "    tickformat=\"%b\\n%Y\"  # Formato \"Mes\\nAño\"\n",
    ")\n",
    "\n",
    "# Actualizar las líneas para que sean suaves\n",
    "fig.update_traces(\n",
    "    line=dict(shape='spline')  # spline para suavizar la línea\n",
    ")\n",
    "\n",
    "# Mostrar el gráfico\n",
    "fig.show()"
   ]
  }
 ],
 "metadata": {
  "kernelspec": {
   "display_name": "Python 3 (ipykernel)",
   "language": "python",
   "name": "python3"
  },
  "language_info": {
   "codemirror_mode": {
    "name": "ipython",
    "version": 3
   },
   "file_extension": ".py",
   "mimetype": "text/x-python",
   "name": "python",
   "nbconvert_exporter": "python",
   "pygments_lexer": "ipython3",
   "version": "3.10.12"
  }
 },
 "nbformat": 4,
 "nbformat_minor": 5
}
